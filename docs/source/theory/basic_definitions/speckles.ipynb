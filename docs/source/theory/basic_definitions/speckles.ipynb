{
 "cells": [
  {
   "cell_type": "markdown",
   "metadata": {},
   "source": [
    "# Speckle Tracking"
   ]
  },
  {
   "cell_type": "code",
   "execution_count": 1,
   "metadata": {
    "nbsphinx": "hidden"
   },
   "outputs": [],
   "source": [
    "from pathlib import Path\n",
    "# from project_heart.lv import LV\n",
    "from project_heart.utils import set_jupyter_backend\n",
    "from project_heart.enums import *\n",
    "set_jupyter_backend(\"pythreejs\")\n",
    "import logging\n",
    "import numpy as np\n",
    "float_formatter = \"{:.5f}\".format\n",
    "np.set_printoptions(formatter={'float_kind':float_formatter})\n",
    "\n",
    "from project_heart.examples import get_lv_ideal\n",
    "from project_heart.examples import get_lv_typeA\n",
    "\n",
    "lv_ideal = get_lv_ideal(Path(\"../../_static/sample_files/ideal_linear_pressure_increase copy.xplt\"))\n",
    "lv_typeA = get_lv_typeA(\n",
    "    Path(\"../../_static/sample_files/lv_typeA_hex.vtk\"),\n",
    "    Path(\"../../_static/sample_files/sample_displacement_lv_typeA_hex_states_linear_press_incr.pbz2\")\n",
    "    )\n",
    "\n",
    "sample_spk_typeA_endo = lv_typeA.get_speckles(spk_name=\"SAMPLE\", spk_group=\"endo\", spk_collection=\"SAMPLE\")[0]\n",
    "sample_spk_typeA_epi = lv_typeA.get_speckles(spk_name=\"SAMPLE\", spk_group=\"epi\", spk_collection=\"SAMPLE\")[0]"
   ]
  },
  {
   "cell_type": "markdown",
   "metadata": {},
   "source": [
    "## What are Speckles?"
   ]
  },
  {
   "cell_type": "markdown",
   "metadata": {},
   "source": [
    "Speckles ..."
   ]
  },
  {
   "cell_type": "code",
   "execution_count": 2,
   "metadata": {},
   "outputs": [
    {
     "name": "stderr",
     "output_type": "stream",
     "text": [
      "INFO:create_speckles:Speckle: name: SAMPLE-LONG, group: epi, collection: SAMPLE\n",
      "DEBUG:create_speckles:Using nodes from nodeset LV_SURFS.EPI\n",
      "DEBUG:create_speckles:Excluding nodes from nodeset [<LV_SURFS.BASE: 23>, <LV_SURFS.ENDO: 1>]\n",
      "DEBUG:create_speckles:Normal: [1.00000 0.00000 0.00000]\n",
      "DEBUG:create_speckles:long_line: [[1.68662 -0.54943 4.05614]\n",
      " [0.28934 3.90746 83.33411]]\n",
      "DEBUG:create_speckles:ref p (spk center): [0.98798 1.67901 43.69512]\n",
      "DEBUG:create_speckles:pts close to plane: 655\n",
      "DEBUG:create_speckles:Adjusting for geometry aligned with normal. kmax: 0.85\n",
      "DEBUG:create_speckles:New spk center and pts found after adjustment.\n",
      "DEBUG:create_speckles:ref p (spk center): [0.49893 3.23893 71.44241]\n",
      "DEBUG:create_speckles:pts close to plane: 561\n",
      "DEBUG:create_speckles:pts: 561\n",
      "DEBUG:create_speckles:Adding multiple subsets: 2 -> [0, 1]\n",
      "DEBUG:_subdivide_speckles:Subdividing Speckles into '2' buckets based on subsets_criteria: 'z2'.\n",
      "DEBUG:_subdivide_speckles:Number of buckets: 2.\n",
      "DEBUG:_subdivide_speckles:Number of buckets found (non_empty_buckets): 2.\n",
      "DEBUG:create_speckles:Subname: 0\n",
      "DEBUG:create_speckles:len(pts): 561\n",
      "DEBUG:create_speckles:sub_ids[:5]: [3556 3557 7085 7913 8481]\n",
      "DEBUG:_subdivide_speckles:Subdividing Speckles into '8' buckets based on subsets_criteria: 'angles3'.\n",
      "DEBUG:_subdivide_speckles:Number of buckets: 8.\n",
      "DEBUG:_subdivide_speckles:pts.shape: (252, 3).\n",
      "DEBUG:_subdivide_speckles:pts[:5]: \n",
      "[[0.99841 -33.61353 39.83204]\n",
      " [0.53665 -32.94615 37.49577]\n",
      " [0.03292 -32.25283 35.03556]\n",
      " [-1.48766 -37.31217 52.96571]\n",
      " [-0.53072 -38.19690 68.99477]].\n",
      "DEBUG:_subdivide_speckles:plane_d: -0.9879793524742126.\n",
      "DEBUG:_subdivide_speckles:p_center: [0.98798 1.67901 43.69512].\n",
      "DEBUG:_subdivide_speckles:ref_max_pt: 77.\n",
      "DEBUG:_subdivide_speckles:ref_max_pt: 212.\n",
      "DEBUG:_subdivide_speckles:ref_max_vec: [0.00000 -39.86261 26.61626].\n",
      "DEBUG:_subdivide_speckles:min_a: 0.0.\n",
      "DEBUG:_subdivide_speckles:max_a: 2.156449556350708.\n",
      "DEBUG:_subdivide_speckles:angle_between_refs: 56.57087326049805.\n",
      "DEBUG:_subdivide_speckles:Unique bins: [1 2 3 4 5 6 7 8].\n",
      "DEBUG:_subdivide_speckles:Number of buckets found (non_empty_buckets): 8.\n",
      "DEBUG:create_speckles:Subname: 1\n",
      "DEBUG:create_speckles:len(pts): 561\n",
      "DEBUG:create_speckles:sub_ids[:5]: [2936 2937 3350 3351 3352]\n",
      "DEBUG:_subdivide_speckles:Subdividing Speckles into '8' buckets based on subsets_criteria: 'angles3'.\n",
      "DEBUG:_subdivide_speckles:Number of buckets: 8.\n",
      "DEBUG:_subdivide_speckles:pts.shape: (309, 3).\n",
      "DEBUG:_subdivide_speckles:pts[:5]: \n",
      "[[2.08964 31.88098 65.58775]\n",
      " [2.21676 31.82784 63.47303]\n",
      " [0.04540 32.39156 55.31783]\n",
      " [2.71947 31.94998 55.33662]\n",
      " [2.77303 32.13464 53.40599]].\n",
      "DEBUG:_subdivide_speckles:plane_d: -0.9879793524742126.\n",
      "DEBUG:_subdivide_speckles:p_center: [0.98798 1.67901 43.69512].\n",
      "DEBUG:_subdivide_speckles:ref_max_pt: 186.\n",
      "DEBUG:_subdivide_speckles:ref_max_pt: 122.\n",
      "DEBUG:_subdivide_speckles:ref_max_vec: [-0.00000 0.81769 -43.50979].\n",
      "DEBUG:_subdivide_speckles:min_a: 0.0.\n",
      "DEBUG:_subdivide_speckles:max_a: 2.2894175052642822.\n",
      "DEBUG:_subdivide_speckles:angle_between_refs: 88.08944702148438.\n",
      "DEBUG:_subdivide_speckles:Unique bins: [1 2 3 4 5 6 7 8].\n",
      "DEBUG:_subdivide_speckles:Number of buckets found (non_empty_buckets): 8.\n"
     ]
    },
    {
     "data": {
      "application/vnd.jupyter.widget-view+json": {
       "model_id": "20b8fcbddfb54282a8a4345f8c9bc783",
       "version_major": 2,
       "version_minor": 0
      },
      "text/plain": [
       "Renderer(camera=PerspectiveCamera(aspect=1.5, children=(DirectionalLight(position=(50000.000000000015, 70710.6…"
      ]
     },
     "metadata": {},
     "output_type": "display_data"
    }
   ],
   "source": [
    "normal = [1,0,0]\n",
    "n_subsets = 2\n",
    "_ = lv_typeA.create_speckles(\n",
    "            collection=\"SAMPLE\",\n",
    "            group=\"epi\",\n",
    "            name=\"SAMPLE-LONG\",\n",
    "            from_nodeset=LV_SURFS.EPI,\n",
    "            exclude_nodeset=[LV_SURFS.BASE, LV_SURFS.ENDO],\n",
    "            d=2.5,\n",
    "            k=0.5,\n",
    "            normal_to=normal,\n",
    "            n_subsets=n_subsets,\n",
    "            subsets_criteria=\"z2\",\n",
    "            cluster_criteria=\"angles3\",\n",
    "            n_clusters=8,\n",
    "            t=0.0,\n",
    "            kmin=-1,\n",
    "            kmax=0.85,\n",
    "            log_level=logging.DEBUG,\n",
    "        )\n",
    "\n",
    "sample_spk_typeA = lv_typeA.get_speckles(spk_name=\"SAMPLE-LONG\", spk_group=\"epi\", spk_collection=\"SAMPLE\")\n",
    "\n",
    "spk = sample_spk_typeA\n",
    "plotter = lv_typeA.plot_speckles(spk, \n",
    "                       cmap=\"hot\",\n",
    "                    #    color=\"blue\",\n",
    "                       point_size=300,\n",
    "                       add_k_centers=True, \n",
    "                       k_centers_as_line=True, \n",
    "                       k_bins=True,\n",
    "                       )"
   ]
  },
  {
   "cell_type": "code",
   "execution_count": 4,
   "metadata": {},
   "outputs": [
    {
     "name": "stderr",
     "output_type": "stream",
     "text": [
      "DEBUG:test:i: 0.\n",
      "DEBUG:test:pts.shape: (252, 3).\n",
      "DEBUG:test:pts[:5]: \n",
      "[[0.99841 -33.61353 39.83204]\n",
      " [0.53665 -32.94615 37.49577]\n",
      " [0.03292 -32.25283 35.03556]\n",
      " [-1.48766 -37.31217 52.96571]\n",
      " [-0.53072 -38.19690 68.99477]].\n",
      "DEBUG:test:plane_d: -0.9879793524742126.\n",
      "DEBUG:test:p_center: [0.98798 1.67901 43.69512].\n",
      "DEBUG:test:ref_max_pt: 77.\n",
      "DEBUG:test:ref_max_pt: 212.\n",
      "DEBUG:test:ref_max_vec: [0.00000 -39.86261 26.61626].\n",
      "DEBUG:test:min_a: 2.8889043806810274e-06.\n",
      "DEBUG:test:max_a: 2.1564495312360212.\n",
      "DEBUG:test:angle_between_refs: 56.57087845878773.\n"
     ]
    },
    {
     "data": {
      "application/vnd.jupyter.widget-view+json": {
       "model_id": "6f9a236bd3ef4b92a5676511dfb351aa",
       "version_major": 2,
       "version_minor": 0
      },
      "text/plain": [
       "Renderer(camera=PerspectiveCamera(aspect=1.5, children=(DirectionalLight(position=(50000.000000000015, 70710.6…"
      ]
     },
     "metadata": {},
     "output_type": "display_data"
    },
    {
     "name": "stderr",
     "output_type": "stream",
     "text": [
      "DEBUG:test:i: 1.\n",
      "DEBUG:test:pts.shape: (309, 3).\n",
      "DEBUG:test:pts[:5]: \n",
      "[[2.08964 31.88098 65.58775]\n",
      " [2.21676 31.82784 63.47303]\n",
      " [0.04540 32.39156 55.31783]\n",
      " [2.71947 31.94998 55.33662]\n",
      " [2.77303 32.13464 53.40599]].\n",
      "DEBUG:test:plane_d: -0.9879793524742126.\n",
      "DEBUG:test:p_center: [0.98798 1.67901 43.69512].\n",
      "DEBUG:test:ref_max_pt: 186.\n",
      "DEBUG:test:ref_max_pt: 122.\n",
      "DEBUG:test:ref_max_vec: [0.00000 0.81769 -43.50979].\n",
      "DEBUG:test:min_a: 3.031791296491834e-06.\n",
      "DEBUG:test:max_a: 2.289417489803035.\n",
      "DEBUG:test:angle_between_refs: 88.08945446815837.\n"
     ]
    },
    {
     "data": {
      "application/vnd.jupyter.widget-view+json": {
       "model_id": "85b8381c33354594ba294be7dede8467",
       "version_major": 2,
       "version_minor": 0
      },
      "text/plain": [
       "Renderer(camera=PerspectiveCamera(aspect=1.5, children=(DirectionalLight(position=(50000.000000000015, 70710.6…"
      ]
     },
     "metadata": {},
     "output_type": "display_data"
    }
   ],
   "source": [
    "from project_heart.utils.vector_utils import *\n",
    "normal = [1,0,0]\n",
    "n_subsets = 2\n",
    "n_cluster = 8\n",
    "_ = lv_typeA.create_speckles(\n",
    "            collection=\"SAMPLE\",\n",
    "            group=\"epi\",\n",
    "            name=\"SAMPLE-LONG\",\n",
    "            from_nodeset=LV_SURFS.EPI,\n",
    "            exclude_nodeset=[LV_SURFS.BASE, LV_SURFS.ENDO],\n",
    "            d=2.5,\n",
    "            k=0.5,\n",
    "            normal_to=normal,\n",
    "            n_subsets=n_subsets,\n",
    "            subsets_criteria=\"z2\",\n",
    "            # cluster_criteria=\"z2\",\n",
    "            n_clusters=0,\n",
    "            t=0.0,\n",
    "            kmin=-1,\n",
    "            kmax=0.85,\n",
    "            log_level=logging.WARN,\n",
    "        )\n",
    "\n",
    "sample_spk_typeA = lv_typeA.get_speckles(spk_name=\"SAMPLE-LONG\", spk_group=\"epi\", spk_collection=\"SAMPLE\")\n",
    "for i in range(n_subsets):\n",
    "    \n",
    "    spk = sample_spk_typeA[i]\n",
    "    ref_center = spk.center\n",
    "    n_subsets = 4\n",
    "    pts = lv_typeA.points(mask=spk.ids)\n",
    "\n",
    "    import logging\n",
    "    logger = logging.getLogger(\"test\")\n",
    "    logger.setLevel(logging.DEBUG)\n",
    "    logger.debug(\"i: {}.\".format(i))\n",
    "    \n",
    "    # project points onto a single plane based on spk normal\n",
    "    logger.debug(\"pts.shape: {}.\".format(pts.shape))\n",
    "    logger.debug(\"pts[:5]: \\n{}.\".format(pts[:5]))\n",
    "    plane_d = calc_plane_d(normal, ref_center)\n",
    "    logger.debug(\"plane_d: {}.\".format(plane_d))\n",
    "    ppts = project_pts_onto_plane(pts, normal, plane_d)\n",
    "    p_center = project_pts_onto_plane(ref_center, normal, plane_d)[0]\n",
    "    logger.debug(\"p_center: {}.\".format(p_center))\n",
    "    # compute angles between a reference vector and other vectos\n",
    "    vecs = ppts - p_center \n",
    "    ref_max_pt = np.argmax(np.linalg.norm(vecs, axis=1))\n",
    "    ref_min_pt = np.argmin(np.linalg.norm(vecs, axis=1))\n",
    "    logger.debug(\"ref_max_pt: {}.\".format(ref_max_pt))\n",
    "    logger.debug(\"ref_max_pt: {}.\".format(ref_min_pt))\n",
    "    ref_max_vec = vecs[ref_max_pt]\n",
    "    ref_min_vec = vecs[ref_min_pt]\n",
    "    logger.debug(\"ref_max_vec: {}.\".format(ref_max_vec))\n",
    "    angles = angle_between(vecs, ref_max_vec, check_orientation=False)\n",
    "    min_a, max_a = np.min(angles), np.max(angles)\n",
    "    logger.debug(\"min_a: {}.\".format(min_a))\n",
    "    logger.debug(\"max_a: {}.\".format(max_a))\n",
    "    # create bins\n",
    "    bins = np.digitize(\n",
    "        angles, np.linspace(min_a*0.999, max_a*1.001, n_cluster+1))\n",
    "    # sort bins in 'ascending' order based on first bin \n",
    "    # this is useful to keep consistency between speckles\n",
    "    angle_between_refs = angle_between(ref_max_vec, ref_min_vec, \n",
    "                                       check_orientation=True, zaxis=normal)   \n",
    "    logger.debug(\"angle_between_refs: {}.\".format(np.degrees(angle_between_refs)))\n",
    "    if angle_between_refs > np.radians(180):\n",
    "        logger.debug(\"reversing bins: {} > 180.\".format(np.degrees(angle_between_refs)))\n",
    "        uvals = np.unique(bins)\n",
    "        logger.debug(\"uvals: {}.\".format(uvals))\n",
    "        new_bins = np.zeros(len(bins), dtype=np.int64)\n",
    "        for i, u in enumerate(uvals[::-1]):\n",
    "            new_bins[bins==u] = i\n",
    "        bins = new_bins + 1\n",
    "        \n",
    "    plotter = lv_typeA.plot_speckles(spk, \n",
    "                        cmap=None,\n",
    "                        color=\"blue\",\n",
    "                        point_size=100,\n",
    "                        add_k_centers=False, \n",
    "                        k_centers_as_line=True, \n",
    "                        k_bins=False,\n",
    "                        re = True\n",
    "                        )\n",
    "    plotter.add_lines(np.vstack((p_center, pts[ref_max_pt])), color=\"blue\")\n",
    "    plotter.add_lines(np.vstack((p_center, pts[ref_min_pt])), color=\"green\")\n",
    "    plotter.add_points(p_center, color=\"green\", point_size=240)\n",
    "    # plotter.add_points(ppts, color=\"red\", point_size=200)\n",
    "    plotter.add_points(pts, scalars=bins-1, categories=True, cmap=\"hot\", point_size=240)\n",
    "    plotter.show(window_size=(600,400))"
   ]
  },
  {
   "cell_type": "code",
   "execution_count": null,
   "metadata": {},
   "outputs": [],
   "source": [
    "sample_spk_typeA"
   ]
  },
  {
   "cell_type": "code",
   "execution_count": null,
   "metadata": {},
   "outputs": [],
   "source": [
    "plotter = lv_typeA.plot_speckles(sample_spk_typeA, \n",
    "                       cmap=\"hot\",\n",
    "                    #    color=\"blue\",\n",
    "                       point_size=300,\n",
    "                       add_k_centers=True, \n",
    "                       k_centers_as_line=True, \n",
    "                       k_bins=True,\n",
    "                       )"
   ]
  },
  {
   "cell_type": "markdown",
   "metadata": {},
   "source": [
    "## Sample Speckles"
   ]
  },
  {
   "cell_type": "markdown",
   "metadata": {},
   "source": [
    "### Longitudinal Speckles"
   ]
  },
  {
   "cell_type": "code",
   "execution_count": null,
   "metadata": {},
   "outputs": [],
   "source": [
    "# lv_ideal.plot_speckles(endo_long[1], add_centers=True, cmap=\"tab10\", categories=True)"
   ]
  },
  {
   "cell_type": "code",
   "execution_count": null,
   "metadata": {},
   "outputs": [],
   "source": [
    "# lv_ideal.plot_speckles(epi_long[0], cmap=\"jet\", add_k_centers=True, k_centers_as_line=True, k_bins=True, categories=True)"
   ]
  },
  {
   "cell_type": "markdown",
   "metadata": {},
   "source": [
    "### Circumferential Speckles"
   ]
  },
  {
   "cell_type": "code",
   "execution_count": null,
   "metadata": {},
   "outputs": [],
   "source": [
    "# lv_ideal.plot_speckles(endo_circ[7], add_centers=True, cmap=\"tab10\", categories=True)"
   ]
  },
  {
   "cell_type": "code",
   "execution_count": null,
   "metadata": {},
   "outputs": [],
   "source": [
    "# lv_ideal.plot_speckles(epi_circ[7], cmap=\"jet\", add_k_centers=True, k_centers_as_line=True, k_bins=True, categories=True)"
   ]
  },
  {
   "cell_type": "code",
   "execution_count": null,
   "metadata": {},
   "outputs": [],
   "source": []
  }
 ],
 "metadata": {
  "interpreter": {
   "hash": "a4b270fe5129ef310552b5197d637a230d47119f1e46f0b92ff32b1c5f5c5425"
  },
  "kernelspec": {
   "display_name": "Python 3.9.7 ('project_heart')",
   "language": "python",
   "name": "python3"
  },
  "language_info": {
   "codemirror_mode": {
    "name": "ipython",
    "version": 3
   },
   "file_extension": ".py",
   "mimetype": "text/x-python",
   "name": "python",
   "nbconvert_exporter": "python",
   "pygments_lexer": "ipython3",
   "version": "3.9.7"
  },
  "orig_nbformat": 4
 },
 "nbformat": 4,
 "nbformat_minor": 2
}
