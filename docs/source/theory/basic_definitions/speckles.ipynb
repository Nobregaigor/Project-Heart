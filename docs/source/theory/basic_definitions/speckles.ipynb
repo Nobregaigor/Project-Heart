{
 "cells": [
  {
   "cell_type": "markdown",
   "metadata": {},
   "source": [
    "# Speckle Tracking"
   ]
  },
  {
   "cell_type": "code",
   "execution_count": 40,
   "metadata": {
    "nbsphinx": "hidden"
   },
   "outputs": [
    {
     "name": "stderr",
     "output_type": "stream",
     "text": [
      "INFO:create_speckles:Speckle: name: 0, group: epi, collection: long-6\n",
      "INFO:create_speckles:Speckle: name: 1, group: epi, collection: long-6\n",
      "INFO:create_speckles:Speckle: name: 2, group: epi, collection: long-6\n",
      "INFO:create_speckles:Speckle: name: 3, group: epi, collection: long-6\n",
      "INFO:create_speckles:Speckle: name: 4, group: epi, collection: long-6\n",
      "INFO:create_speckles:Speckle: name: 5, group: epi, collection: long-6\n"
     ]
    }
   ],
   "source": [
    "from pathlib import Path\n",
    "from project_heart.lv import LV\n",
    "from project_heart.utils import set_jupyter_backend\n",
    "from project_heart.enums import *\n",
    "\n",
    "set_jupyter_backend(\"pythreejs\")\n",
    "\n",
    "sample_file_ideal = Path(\"../../_static/sample_files/ellipsoid.stl\")\n",
    "lv_ideal = LV.from_file(sample_file_ideal) \n",
    "\n",
    "lv_ideal.identify_regions(geo_type=LV_GEO_TYPES.IDEAL,\n",
    "                          apex_base_args=dict(ab_ql=0.05, ab_qh=0.97),\n",
    "                          recompute_apex_base=True\n",
    "                          )\n",
    "\n",
    "import numpy as np\n",
    "import logging\n",
    "\n",
    "epi_spks = []\n",
    "for i, a in enumerate(np.linspace(0, np.pi, 6, endpoint=False)):\n",
    "    \n",
    "    spk = lv_ideal.create_speckles(\n",
    "        collection=\"long-6\",\n",
    "        group=\"endo\",\n",
    "        name=str(i),\n",
    "        from_nodeset=LV_SURFS.ENDO,\n",
    "        exclude_nodeset=LV_SURFS.BASE, # does not afect ideal case\n",
    "        d=1.75,\n",
    "        k=0.5,\n",
    "        normal_to=[np.cos(a),np.sin(a),0.0],\n",
    "        n_subsets=6,\n",
    "        subsets_criteria=\"z2\",\n",
    "        cluster_criteria=\"z2\",\n",
    "        n_clusters=8,\n",
    "        t=0.0,\n",
    "        kmin=-1,\n",
    "        kmax=0.95,\n",
    "        log_level=logging.WARN,\n",
    "    )\n",
    "\n",
    "    spk = lv_ideal.create_speckles(\n",
    "        collection=\"long-6\",\n",
    "        group=\"epi\",\n",
    "        name=str(i),\n",
    "        from_nodeset=LV_SURFS.EPI,\n",
    "        exclude_nodeset=LV_SURFS.BASE, # does not afect ideal case\n",
    "        d=2.4,\n",
    "        k=0.5,\n",
    "        normal_to=[np.cos(a),np.sin(a),0.0],\n",
    "        n_subsets=6,\n",
    "        subsets_criteria=\"z2\",\n",
    "        cluster_criteria=\"z2\",\n",
    "        n_clusters=10,\n",
    "        t=0.0,\n",
    "        kmin=-1,\n",
    "        kmax=0.95,\n",
    "        log_level=logging.INFO,\n",
    "    )\n",
    "    epi_spks.append(spk)"
   ]
  },
  {
   "cell_type": "markdown",
   "metadata": {},
   "source": [
    "# What are Speckles?"
   ]
  },
  {
   "cell_type": "code",
   "execution_count": 41,
   "metadata": {},
   "outputs": [
    {
     "data": {
      "application/vnd.jupyter.widget-view+json": {
       "model_id": "5aed9c08cff245cfbcdfe850a5975935",
       "version_major": 2,
       "version_minor": 0
      },
      "text/plain": [
       "Renderer(camera=PerspectiveCamera(aspect=1.5, children=(DirectionalLight(position=(50000.000000000015, 70710.6…"
      ]
     },
     "metadata": {},
     "output_type": "display_data"
    }
   ],
   "source": [
    "lv_ideal.plot_speckles(epi_spks[1], add_centers=True, cmap=\"tab10\", categories=True)"
   ]
  },
  {
   "cell_type": "code",
   "execution_count": 42,
   "metadata": {},
   "outputs": [
    {
     "data": {
      "application/vnd.jupyter.widget-view+json": {
       "model_id": "4209952abc4749b494832c8c60729a2a",
       "version_major": 2,
       "version_minor": 0
      },
      "text/plain": [
       "Renderer(camera=PerspectiveCamera(aspect=1.5, children=(DirectionalLight(position=(50000.000000000015, 70710.6…"
      ]
     },
     "metadata": {},
     "output_type": "display_data"
    }
   ],
   "source": [
    "lv_ideal.plot_speckles(spk, cmap=\"jet\", add_k_centers=True, k_centers_as_line=True, k_bins=True, categories=True)"
   ]
  }
 ],
 "metadata": {
  "interpreter": {
   "hash": "a4b270fe5129ef310552b5197d637a230d47119f1e46f0b92ff32b1c5f5c5425"
  },
  "kernelspec": {
   "display_name": "Python 3.9.7 ('project_heart')",
   "language": "python",
   "name": "python3"
  },
  "language_info": {
   "codemirror_mode": {
    "name": "ipython",
    "version": 3
   },
   "file_extension": ".py",
   "mimetype": "text/x-python",
   "name": "python",
   "nbconvert_exporter": "python",
   "pygments_lexer": "ipython3",
   "version": "3.9.7"
  },
  "orig_nbformat": 4
 },
 "nbformat": 4,
 "nbformat_minor": 2
}
