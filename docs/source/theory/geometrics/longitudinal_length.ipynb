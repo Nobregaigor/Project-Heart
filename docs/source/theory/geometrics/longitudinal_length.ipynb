{
 "cells": [
  {
   "cell_type": "markdown",
   "metadata": {},
   "source": [
    "# Longitudinal Length"
   ]
  },
  {
   "cell_type": "code",
   "execution_count": 1,
   "metadata": {
    "nbsphinx": "hidden"
   },
   "outputs": [],
   "source": [
    "from pathlib import Path\n",
    "# from project_heart.lv import LV\n",
    "from project_heart.utils import set_jupyter_backend\n",
    "from project_heart.enums import *\n",
    "set_jupyter_backend(\"pythreejs\")\n",
    "import logging\n",
    "import numpy as np\n",
    "float_formatter = \"{:.5f}\".format\n",
    "np.set_printoptions(formatter={'float_kind':float_formatter})\n",
    "\n",
    "from project_heart.examples import get_lv_ideal\n",
    "from project_heart.examples import get_lv_typeA\n",
    "\n",
    "lv_ideal = get_lv_ideal(Path(\"../../_static/sample_files/ideal_linear_pressure_increase copy.xplt\"))\n",
    "lv_typeA = get_lv_typeA(\n",
    "    Path(\"../../_static/sample_files/lv_typeA_hex.vtk\"),\n",
    "    Path(\"../../_static/sample_files/sample_displacement_lv_typeA_hex_states_linear_press_incr.pbz2\")\n",
    "    )\n",
    "\n",
    "sample_spk_typeA_endo = lv_typeA.get_speckles(spk_name=\"SAMPLE\", spk_group=\"endo\", spk_collection=\"SAMPLE\")[0]\n",
    "sample_spk_typeA_epi = lv_typeA.get_speckles(spk_name=\"SAMPLE\", spk_group=\"epi\", spk_collection=\"SAMPLE\")[0]"
   ]
  },
  {
   "cell_type": "markdown",
   "metadata": {},
   "source": [
    "## Longitudinal Length"
   ]
  },
  {
   "cell_type": "markdown",
   "metadata": {},
   "source": [
    "**Definition**: Curvature length from a set of points roughtly alinged in a plane normal to longitudinal axis.\n",
    "\n",
    "The longitudinal length is computed as the length of a curve inscribed within a region of the myocardium along the longitudinal axis. In our implementation, we created these curves based on specified speckles, therefore, we are essentially computing the \"speckle length\". It is important to note that the normal of the plane of reference for these speckles must be perpendicular to the longitudinal axis to ensure this metric is aligned with its definition. \n",
    "\n",
    "Here is an example:"
   ]
  },
  {
   "cell_type": "code",
   "execution_count": 2,
   "metadata": {},
   "outputs": [],
   "source": [
    "sample_spk_ideal = lv_ideal.get_speckles(spk_name=\"SAMPLE-LONG\", spk_group=\"epi\", spk_collection=\"SAMPLE\")"
   ]
  },
  {
   "cell_type": "code",
   "execution_count": 3,
   "metadata": {},
   "outputs": [
    {
     "data": {
      "application/vnd.jupyter.widget-view+json": {
       "model_id": "a05a686c3b324e76acba92ce12c7bf7d",
       "version_major": 2,
       "version_minor": 0
      },
      "text/plain": [
       "Renderer(camera=PerspectiveCamera(aspect=1.5, children=(DirectionalLight(position=(50000.000000000015, 70710.6…"
      ]
     },
     "metadata": {},
     "output_type": "display_data"
    }
   ],
   "source": [
    "lv_ideal.plot_speckles(sample_spk_ideal[0], \n",
    "                       cmap=\"tab20\", \n",
    "                        point_size=200,\n",
    "                       add_k_centers=True, \n",
    "                       k_centers_as_line=True, \n",
    "                       k_bins=True,\n",
    "                       t=0.0)"
   ]
  },
  {
   "cell_type": "markdown",
   "metadata": {},
   "source": [
    "From this, we can see that the speckle length will change according to the timestep, however, the reference in which length is computed will not change:"
   ]
  },
  {
   "cell_type": "code",
   "execution_count": null,
   "metadata": {},
   "outputs": [],
   "source": [
    "lv_ideal.plot_speckles(sample_spk_ideal[0], \n",
    "                       cmap=\"tab20\", \n",
    "                        point_size=200,\n",
    "                       add_k_centers=True, \n",
    "                       k_centers_as_line=True, \n",
    "                       k_bins=True,\n",
    "                       t=0.5)"
   ]
  },
  {
   "cell_type": "markdown",
   "metadata": {},
   "source": [
    "## Global longitudinal speckle:"
   ]
  },
  {
   "cell_type": "markdown",
   "metadata": {},
   "source": [
    "Although the computation of local speckles is"
   ]
  },
  {
   "cell_type": "code",
   "execution_count": 4,
   "metadata": {},
   "outputs": [
    {
     "data": {
      "application/vnd.jupyter.widget-view+json": {
       "model_id": "0ba46bc9606b41c69ebe28d423a31b63",
       "version_major": 2,
       "version_minor": 0
      },
      "text/plain": [
       "Renderer(camera=PerspectiveCamera(aspect=1.5, children=(DirectionalLight(position=(50000.000000000015, 70710.6…"
      ]
     },
     "metadata": {},
     "output_type": "display_data"
    }
   ],
   "source": [
    "sample_spk_typeA = lv_typeA.get_speckles(spk_name=\"1\", spk_group=\"epi\", spk_collection=\"long-6\")\n",
    "lv_typeA.plot_speckles(sample_spk_typeA, \n",
    "                       cmap=\"jet\", \n",
    "                        point_size=200,\n",
    "                       add_k_centers=True, \n",
    "                    #    k_centers_as_line=True, \n",
    "                       k_bins=True,\n",
    "                       )"
   ]
  },
  {
   "cell_type": "code",
   "execution_count": 8,
   "metadata": {},
   "outputs": [
    {
     "data": {
      "application/vnd.jupyter.widget-view+json": {
       "model_id": "58b187cd7d6148ccaccef4afbddf13f7",
       "version_major": 2,
       "version_minor": 0
      },
      "text/plain": [
       "Renderer(camera=PerspectiveCamera(aspect=1.5, children=(DirectionalLight(position=(50000.000000000015, 70710.6…"
      ]
     },
     "metadata": {},
     "output_type": "display_data"
    }
   ],
   "source": [
    "sample_spk_typeA = lv_typeA.get_speckles(spk_name=\"4\", spk_group=\"epi\", spk_collection=\"long-1\")\n",
    "lv_typeA.plot_speckles(sample_spk_typeA, \n",
    "                       cmap=\"jet\", \n",
    "                        point_size=200,\n",
    "                       add_k_centers=True, \n",
    "                        #k_centers_as_line=True, \n",
    "                       k_bins=True,\n",
    "                       )"
   ]
  },
  {
   "cell_type": "code",
   "execution_count": null,
   "metadata": {},
   "outputs": [],
   "source": [
    "long_spks = lv_typeA.get_speckles(spk_collection=\"long-6\")\n",
    "lv_typeA.longitudinal_length(long_spks, approach=\"k_ids\", recompute=True)\n",
    "lv_typeA.plot_metric(lv_typeA.STATES.LONG_LENGTH, \n",
    "    from_ts=0.0,\n",
    "    plot_infos=[\"group\"])"
   ]
  },
  {
   "cell_type": "code",
   "execution_count": null,
   "metadata": {},
   "outputs": [],
   "source": [
    "sample_spk_typeA = lv_typeA.get_speckles(spk_name=\"1\", spk_group=\"epi\", spk_collection=\"long-6\")"
   ]
  },
  {
   "cell_type": "code",
   "execution_count": null,
   "metadata": {},
   "outputs": [],
   "source": [
    "long_spks = lv_typeA.get_speckles(spk_collection=\"long-6\")\n",
    "lv_typeA.global_longitudinal_length(long_spks, approach=\"k_ids\", recompute=True)\n",
    "lv_typeA.plot_metric(lv_typeA.STATES.LONG_LENGTH, \n",
    "    from_ts=0.0,\n",
    "    plot_infos=[\"group\"])"
   ]
  }
 ],
 "metadata": {
  "interpreter": {
   "hash": "a4b270fe5129ef310552b5197d637a230d47119f1e46f0b92ff32b1c5f5c5425"
  },
  "kernelspec": {
   "display_name": "Python 3.9.7 ('project_heart')",
   "language": "python",
   "name": "python3"
  },
  "language_info": {
   "codemirror_mode": {
    "name": "ipython",
    "version": 3
   },
   "file_extension": ".py",
   "mimetype": "text/x-python",
   "name": "python",
   "nbconvert_exporter": "python",
   "pygments_lexer": "ipython3",
   "version": "3.9.7"
  },
  "orig_nbformat": 4
 },
 "nbformat": 4,
 "nbformat_minor": 2
}
