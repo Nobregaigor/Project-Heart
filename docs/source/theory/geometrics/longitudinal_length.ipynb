{
 "cells": [
  {
   "cell_type": "markdown",
   "metadata": {},
   "source": [
    "# Longitudinal Length"
   ]
  },
  {
   "cell_type": "code",
   "execution_count": null,
   "metadata": {
    "nbsphinx": "hidden"
   },
   "outputs": [],
   "source": [
    "from pathlib import Path\n",
    "# from project_heart.lv import LV\n",
    "from project_heart.utils import set_jupyter_backend\n",
    "from project_heart.enums import *\n",
    "set_jupyter_backend(\"pythreejs\")\n",
    "import logging\n",
    "import numpy as np\n",
    "float_formatter = \"{:.5f}\".format\n",
    "np.set_printoptions(formatter={'float_kind':float_formatter})\n",
    "\n",
    "from project_heart.examples import get_lv_ideal\n",
    "from project_heart.examples import get_lv_typeA\n",
    "\n",
    "lv_ideal = get_lv_ideal(Path(\"../../_static/sample_files/ideal_linear_pressure_increase copy.xplt\"))\n",
    "lv_typeA = get_lv_typeA(\n",
    "    Path(\"../../_static/sample_files/lv_typeA_hex.vtk\"),\n",
    "    Path(\"../../_static/sample_files/sample_displacement_lv_typeA_hex_states_linear_press_incr.pbz2\")\n",
    "    )\n",
    "\n",
    "sample_spk_typeA_endo = lv_typeA.get_speckles(spk_name=\"SAMPLE\", spk_group=\"endo\", spk_collection=\"SAMPLE\")[0]\n",
    "sample_spk_typeA_epi = lv_typeA.get_speckles(spk_name=\"SAMPLE\", spk_group=\"epi\", spk_collection=\"SAMPLE\")[0]"
   ]
  },
  {
   "cell_type": "markdown",
   "metadata": {},
   "source": [
    "## Longitudinal Distance"
   ]
  },
  {
   "cell_type": "markdown",
   "metadata": {},
   "source": [
    "**Definition**: Curvature length from a set of points roughtly alinged in a plane normal to longitudinal axis.\n",
    "\n",
    "..."
   ]
  },
  {
   "cell_type": "code",
   "execution_count": null,
   "metadata": {},
   "outputs": [],
   "source": [
    "sample_spk_ideal = lv_ideal.get_speckles(spk_name=\"SAMPLE-LONG\", spk_group=\"epi\", spk_collection=\"SAMPLE\")"
   ]
  },
  {
   "cell_type": "code",
   "execution_count": null,
   "metadata": {},
   "outputs": [],
   "source": [
    "lv_ideal.plot_speckles(sample_spk_ideal[4], \n",
    "                       cmap=\"Set1\", \n",
    "                        point_size=200,\n",
    "                       add_k_centers=True, \n",
    "                       k_centers_as_line=True, \n",
    "                       k_bins=True)"
   ]
  },
  {
   "cell_type": "code",
   "execution_count": null,
   "metadata": {},
   "outputs": [],
   "source": [
    "_ = lv_typeA.create_speckles(\n",
    "            collection=\"SAMPLE\",\n",
    "            group=\"epi\",\n",
    "            name=\"SAMPLE-LONG\",\n",
    "            from_nodeset=LV_SURFS.EPI,\n",
    "            exclude_nodeset=[LV_SURFS.BASE, LV_SURFS.ENDO],\n",
    "            d=2.5,\n",
    "            k=0.5,\n",
    "            normal_to=[1.0,0.0,0.0],\n",
    "            n_subsets=6,\n",
    "            subsets_criteria=\"z2\",\n",
    "            cluster_criteria=\"z2\",\n",
    "            n_clusters=4,\n",
    "            t=0.0,\n",
    "            kmin=-1,\n",
    "            kmax=0.85,\n",
    "            log_level=logging.WARN,\n",
    "        )\n",
    "\n",
    "sample_spk_typeA = lv_typeA.get_speckles(spk_name=\"SAMPLE-LONG\", spk_group=\"epi\", spk_collection=\"SAMPLE\")\n",
    "lv_typeA.plot_speckles(sample_spk_typeA[2], \n",
    "                       cmap=\"jet\", \n",
    "                        point_size=200,\n",
    "                       add_k_centers=False, \n",
    "                       k_centers_as_line=True, \n",
    "                       k_bins=True)"
   ]
  },
  {
   "cell_type": "code",
   "execution_count": null,
   "metadata": {},
   "outputs": [],
   "source": []
  },
  {
   "cell_type": "code",
   "execution_count": null,
   "metadata": {},
   "outputs": [],
   "source": [
    "_ = lv_typeA.create_speckles(\n",
    "            collection=\"SAMPLE\",\n",
    "            group=\"epi\",\n",
    "            name=\"SAMPLE-LONG\",\n",
    "            from_nodeset=LV_SURFS.EPI,\n",
    "            exclude_nodeset=[LV_SURFS.BASE, LV_SURFS.ENDO],\n",
    "            d=2.5,\n",
    "            k=0.5,\n",
    "            normal_to=[1.0,0.0,0.0],\n",
    "            n_subsets=6,\n",
    "            subsets_criteria=\"z2\",\n",
    "            cluster_criteria=\"z2\",\n",
    "            n_clusters=4,\n",
    "            t=0.0,\n",
    "            kmin=-1,\n",
    "            kmax=0.85,\n",
    "            log_level=logging.WARN,\n",
    "        )\n",
    "\n",
    "from project_heart.utils.vector_utils import *\n",
    "spk = sample_spk_typeA[2]\n",
    "lv_typeA.plot_speckles(spk, \n",
    "                       cmap=None,\n",
    "                       color=\"blue\",\n",
    "                       point_size=150,\n",
    "                       add_k_centers=False, \n",
    "                       k_centers_as_line=True, \n",
    "                       k_bins=False,\n",
    "                       )\n",
    "\n",
    "pts = lv_typeA.points(mask=spk.ids)\n",
    "\n",
    "plane_normal, plane_d = fit_plane(pts)\n",
    "ppts = project_pts_onto_plane(pts, plane_normal, plane_d)\n",
    "p_center = project_pts_onto_plane(spk.center, plane_normal, plane_d)\n",
    "vecs = ppts - p_center \n",
    "angles = angle_between(vecs, lv_typeA._X, check_orientation=True)\n",
    "min_a, max_a = np.min(angles), np.max(angles)\n",
    "bins = np.digitize(\n",
    "    angles, np.linspace(min_a*0.999, max_a*1.001, 4+1))"
   ]
  },
  {
   "cell_type": "code",
   "execution_count": null,
   "metadata": {},
   "outputs": [],
   "source": [
    "sample_spk_typeA = lv_typeA.get_speckles(spk_name=\"SAMPLE-LONG\", spk_group=\"epi\", spk_collection=\"SAMPLE\")\n",
    "lv_typeA.plot_speckles(sample_spk_typeA[0], \n",
    "                       cmap=\"jet\", \n",
    "                        point_size=200,\n",
    "                       add_k_centers=True, \n",
    "                       k_centers_as_line=True, \n",
    "                       k_bins=True)"
   ]
  },
  {
   "cell_type": "code",
   "execution_count": null,
   "metadata": {},
   "outputs": [],
   "source": [
    "from project_heart.utils.vector_utils import angle_between\n",
    "angle_y = angle_between(np.cross(lv_ideal._Z, [1,0,0])[:2], lv_ideal._Y[:2], check_orientation=False)\n",
    "angle_y"
   ]
  },
  {
   "cell_type": "code",
   "execution_count": null,
   "metadata": {},
   "outputs": [],
   "source": [
    "lv_ideal.plot_speckles(sample_spk_ideal, \n",
    "                       cmap=\"jet\", \n",
    "                        point_size=200,\n",
    "                       add_k_centers=False, \n",
    "                       k_centers_as_line=False, \n",
    "                       k_bins=False)"
   ]
  },
  {
   "cell_type": "code",
   "execution_count": null,
   "metadata": {},
   "outputs": [],
   "source": []
  },
  {
   "cell_type": "code",
   "execution_count": null,
   "metadata": {},
   "outputs": [],
   "source": [
    "lv_typeA.plot_speckles(sample_spk_typeA[3], \n",
    "                       cmap=\"Set1\", \n",
    "                        point_size=200,\n",
    "                       add_k_centers=True, \n",
    "                       k_centers_as_line=True, \n",
    "                       k_bins=True)"
   ]
  }
 ],
 "metadata": {
  "interpreter": {
   "hash": "a4b270fe5129ef310552b5197d637a230d47119f1e46f0b92ff32b1c5f5c5425"
  },
  "kernelspec": {
   "display_name": "Python 3.9.7 ('project_heart')",
   "language": "python",
   "name": "python3"
  },
  "language_info": {
   "codemirror_mode": {
    "name": "ipython",
    "version": 3
   },
   "file_extension": ".py",
   "mimetype": "text/x-python",
   "name": "python",
   "nbconvert_exporter": "python",
   "pygments_lexer": "ipython3",
   "version": "3.9.7"
  },
  "orig_nbformat": 4
 },
 "nbformat": 4,
 "nbformat_minor": 2
}
