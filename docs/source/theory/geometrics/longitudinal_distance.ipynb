{
 "cells": [
  {
   "cell_type": "markdown",
   "metadata": {},
   "source": [
    "# Longitudinal Distance"
   ]
  },
  {
   "cell_type": "code",
   "execution_count": null,
   "metadata": {
    "nbsphinx": "hidden"
   },
   "outputs": [],
   "source": [
    "from pathlib import Path\n",
    "# from project_heart.lv import LV\n",
    "from project_heart.utils import set_jupyter_backend\n",
    "from project_heart.enums import *\n",
    "set_jupyter_backend(\"pythreejs\")\n",
    "import logging\n",
    "import numpy as np\n",
    "float_formatter = \"{:.5f}\".format\n",
    "np.set_printoptions(formatter={'float_kind':float_formatter})\n",
    "\n",
    "from project_heart.examples import get_lv_ideal\n",
    "from project_heart.examples import get_lv_typeA\n",
    "\n",
    "lv_ideal = get_lv_ideal(Path(\"../../_static/sample_files/ideal_linear_pressure_increase copy.xplt\"))\n",
    "lv_typeA = get_lv_typeA(\n",
    "    Path(\"../../_static/sample_files/lv_typeA_hex.vtk\"),\n",
    "    Path(\"../../_static/sample_files/sample_displacement_lv_typeA_hex_states_linear_press_incr.pbz2\")\n",
    "    )\n",
    "\n",
    "sample_spk_typeA_endo = lv_typeA.get_speckles(spk_name=\"SAMPLE\", spk_group=\"endo\", spk_collection=\"SAMPLE\")[0]\n",
    "sample_spk_typeA_epi = lv_typeA.get_speckles(spk_name=\"SAMPLE\", spk_group=\"epi\", spk_collection=\"SAMPLE\")[0]"
   ]
  },
  {
   "cell_type": "markdown",
   "metadata": {},
   "source": [
    "## Longitudinal Distance"
   ]
  },
  {
   "cell_type": "markdown",
   "metadata": {},
   "source": [
    "**Definition**: Perpendicular distance between reference apex and reference base.\n",
    "\n",
    "The longitudinal distance is defined as the shortest distance between a reference node at base region and a reference node at apex region. In our implementation, we apply this computation to one or more nodesets and reduce the final value, allowing us to compute the longitudinal distance at Endocardium and Epicardium and record the 'mean' longitudinal distance.\n",
    "\n",
    "For each nodeset and each timestep, we extract the top-most and lower-most nodes and compute the centroid for base and apex, respecitively. The final value for each timestep is used in the reduction method.\n",
    "\n",
    "Here is a visual representation *(note that longitudinal lines for 'extreme' approach are in an offeset from longitudinal axis for visualization purposes)*:"
   ]
  },
  {
   "cell_type": "code",
   "execution_count": null,
   "metadata": {},
   "outputs": [],
   "source": [
    "ld = lv_ideal.plot_longitudinal_distance(\n",
    "    nodesets = {lv_ideal.REGIONS.ENDO, lv_ideal.REGIONS.EPI},\n",
    "    approach=\"extremes\",\n",
    ")"
   ]
  },
  {
   "cell_type": "code",
   "execution_count": null,
   "metadata": {},
   "outputs": [],
   "source": [
    "lds = lv_ideal.longitudinal_distances(\n",
    "    recompute=True,\n",
    "    nodesets = {lv_ideal.REGIONS.ENDO, lv_ideal.REGIONS.EPI},\n",
    "    approach=\"extremes\",\n",
    "    t=0.0,\n",
    "    log_level=logging.ERROR, \n",
    ")"
   ]
  },
  {
   "cell_type": "code",
   "execution_count": null,
   "metadata": {},
   "outputs": [],
   "source": [
    "print(\"Sample longitudinal distance:\", ld)\n",
    "print(\"Reduced longitudinal distance by internal algorithm:\", lds)"
   ]
  },
  {
   "cell_type": "markdown",
   "metadata": {},
   "source": [
    "### 'Extremes' vs 'Estimate apex and base'"
   ]
  },
  {
   "cell_type": "markdown",
   "metadata": {},
   "source": [
    "Although the computation for longitudinal distance seems straightforward, there is reseonable doubt reggarding how to choose top-most and bottom-most reference nodes. In our implementation, we have two approaches: ***extremes*** and ***estimate_apex_base***. \n",
    "\n",
    "The first method chooses the apex and base nodes based on minimum and maximum, respectively, along the Z axis; moreover, because there might not exist a node at specified location, we simply compute the distance along the found z values. Therefore, this approach is very constrained on the assumption that the geometry's longitudinal axis is closely aligned with the Z axis.\n",
    "\n",
    "On the other hand, the second approach applies the 'est_apex_and_base_refs_iteratively' method, which finds the approximate location of apex and base locations. This method returns a reference node for Apex and Base for that given nodeset, which allows for the euclidean distance between the two points and, since the estimation methods works iteractively (see docs for details), this methods does not imposes a strict aligment with the Z axis. \n",
    "\n",
    "Here is a visualization with both approaches *(note that longitudinal lines for 'extreme' approach are in an offeset from longitudinal axis for visualization purposes)*:"
   ]
  },
  {
   "cell_type": "code",
   "execution_count": null,
   "metadata": {},
   "outputs": [],
   "source": [
    "ld_ex = lv_typeA.plot_longitudinal_distance(\n",
    "    nodesets = {lv_typeA.REGIONS.ENDO, lv_typeA.REGIONS.EPI},\n",
    "    approach=\"extremes\",\n",
    "    t=0.15\n",
    ")"
   ]
  },
  {
   "cell_type": "code",
   "execution_count": null,
   "metadata": {},
   "outputs": [],
   "source": [
    "ld_es = lv_typeA.plot_longitudinal_distance(\n",
    "    nodesets = {lv_typeA.REGIONS.ENDO, lv_typeA.REGIONS.EPI},\n",
    "    approach=\"estimate_apex_base\",\n",
    "    t=0.15\n",
    ")"
   ]
  },
  {
   "cell_type": "code",
   "execution_count": null,
   "metadata": {},
   "outputs": [],
   "source": [
    "print(\"with 'extremes:\", ld_ex)\n",
    "print(\"with 'estimate_apex_base':\", ld_es)"
   ]
  },
  {
   "cell_type": "markdown",
   "metadata": {},
   "source": [
    "Considering that non-ideal geometries have irregular shapes at apex and base regions for all nodesets, we recommend using 'estimate_apex_base', which automatically finds the best estimation for reference nodes at each nodeset."
   ]
  },
  {
   "cell_type": "markdown",
   "metadata": {},
   "source": [
    "## TODO: Using longitudinal distance"
   ]
  }
 ],
 "metadata": {
  "interpreter": {
   "hash": "a4b270fe5129ef310552b5197d637a230d47119f1e46f0b92ff32b1c5f5c5425"
  },
  "kernelspec": {
   "display_name": "Python 3.9.7 ('project_heart')",
   "language": "python",
   "name": "python3"
  },
  "language_info": {
   "codemirror_mode": {
    "name": "ipython",
    "version": 3
   },
   "file_extension": ".py",
   "mimetype": "text/x-python",
   "name": "python",
   "nbconvert_exporter": "python",
   "pygments_lexer": "ipython3",
   "version": "3.9.7"
  },
  "orig_nbformat": 4
 },
 "nbformat": 4,
 "nbformat_minor": 2
}
