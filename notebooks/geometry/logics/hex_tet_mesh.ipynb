{
 "cells": [
  {
   "cell_type": "code",
   "execution_count": 13,
   "metadata": {},
   "outputs": [
    {
     "data": {
      "application/vnd.jupyter.widget-view+json": {
       "model_id": "4d691b378c544cd78b044c55d36d7325",
       "version_major": 2,
       "version_minor": 0
      },
      "text/plain": [
       "Renderer(camera=PerspectiveCamera(aspect=1.3333333333333333, children=(DirectionalLight(color='#fefefe', inten…"
      ]
     },
     "metadata": {},
     "output_type": "display_data"
    }
   ],
   "source": [
    "import pyvista as pv\n",
    "import tetgen\n",
    "import numpy as np\n",
    "pv.set_jupyter_backend(\"pythreejs\")\n",
    "\n",
    "sphere = pv.Sphere()\n",
    "tet = tetgen.TetGen(sphere)\n",
    "tet.tetrahedralize(order=1, mindihedral=20, minratio=1.5)\n",
    "grid = tet.grid\n",
    "grid.plot(show_edges=True)"
   ]
  },
  {
   "cell_type": "code",
   "execution_count": 14,
   "metadata": {},
   "outputs": [
    {
     "data": {
      "application/vnd.jupyter.widget-view+json": {
       "model_id": "6161e46fc252424faffe7fd40933a60b",
       "version_major": 2,
       "version_minor": 0
      },
      "text/plain": [
       "Renderer(camera=PerspectiveCamera(aspect=1.3333333333333333, children=(DirectionalLight(color='#fefefe', inten…"
      ]
     },
     "metadata": {},
     "output_type": "display_data"
    }
   ],
   "source": [
    "# get cell centroids\n",
    "cells = grid.cells.reshape(-1, 5)[:, 1:]\n",
    "cell_center = grid.points[cells].mean(1)\n",
    "\n",
    "# extract cells below the 0 xy plane\n",
    "mask = cell_center[:, 2] < 0\n",
    "cell_ind = mask.nonzero()[0]\n",
    "subgrid = grid.extract_cells(cell_ind)\n",
    "\n",
    "# advanced plotting\n",
    "plotter = pv.Plotter()\n",
    "plotter.add_mesh(subgrid, 'lightgrey', lighting=True, show_edges=True)\n",
    "plotter.add_mesh(sphere, 'r', 'wireframe')\n",
    "plotter.add_legend([[' Input Mesh ', 'r'],\n",
    "                    [' Tessellated Mesh ', 'black']])\n",
    "plotter.show()"
   ]
  },
  {
   "cell_type": "code",
   "execution_count": 48,
   "metadata": {},
   "outputs": [
    {
     "ename": "TypeError",
     "evalue": "Input mesh must be PolyData.",
     "output_type": "error",
     "traceback": [
      "\u001b[1;31m---------------------------------------------------------------------------\u001b[0m",
      "\u001b[1;31mTypeError\u001b[0m                                 Traceback (most recent call last)",
      "\u001b[1;32mc:\\Users\\igornobrega\\Documents\\GitHub\\Project-Heart\\notebooks\\geometry\\logics\\hex_tet_mesh.ipynb Cell 3'\u001b[0m in \u001b[0;36m<cell line: 8>\u001b[1;34m()\u001b[0m\n\u001b[0;32m      <a href='vscode-notebook-cell:/c%3A/Users/igornobrega/Documents/GitHub/Project-Heart/notebooks/geometry/logics/hex_tet_mesh.ipynb#ch0000013?line=4'>5</a>\u001b[0m a \u001b[39m=\u001b[39m tet\u001b[39m.\u001b[39mgrid\n\u001b[0;32m      <a href='vscode-notebook-cell:/c%3A/Users/igornobrega/Documents/GitHub/Project-Heart/notebooks/geometry/logics/hex_tet_mesh.ipynb#ch0000013?line=6'>7</a>\u001b[0m b \u001b[39m=\u001b[39m pv\u001b[39m.\u001b[39mSphere(\u001b[39m3\u001b[39m)\u001b[39m.\u001b[39mextract_surface() \u001b[39m# outter surface\u001b[39;00m\n\u001b[1;32m----> <a href='vscode-notebook-cell:/c%3A/Users/igornobrega/Documents/GitHub/Project-Heart/notebooks/geometry/logics/hex_tet_mesh.ipynb#ch0000013?line=7'>8</a>\u001b[0m sphere \u001b[39m=\u001b[39m b\u001b[39m.\u001b[39;49mboolean_difference(a)\n\u001b[0;32m      <a href='vscode-notebook-cell:/c%3A/Users/igornobrega/Documents/GitHub/Project-Heart/notebooks/geometry/logics/hex_tet_mesh.ipynb#ch0000013?line=8'>9</a>\u001b[0m \u001b[39mprint\u001b[39m(b)\n\u001b[0;32m     <a href='vscode-notebook-cell:/c%3A/Users/igornobrega/Documents/GitHub/Project-Heart/notebooks/geometry/logics/hex_tet_mesh.ipynb#ch0000013?line=11'>12</a>\u001b[0m plotter \u001b[39m=\u001b[39m pv\u001b[39m.\u001b[39mPlotter()\n",
      "File \u001b[1;32mc:\\Users\\igornobrega\\Documents\\GitHub\\Project-Heart\\venv\\lib\\site-packages\\pyvista\\core\\filters\\poly_data.py:315\u001b[0m, in \u001b[0;36mPolyDataFilters.boolean_difference\u001b[1;34m(self, other_mesh, tolerance, progress_bar)\u001b[0m\n\u001b[0;32m    <a href='file:///c%3A/Users/igornobrega/Documents/GitHub/Project-Heart/venv/lib/site-packages/pyvista/core/filters/poly_data.py?line=253'>254</a>\u001b[0m \u001b[39mdef\u001b[39;00m \u001b[39mboolean_difference\u001b[39m(\u001b[39mself\u001b[39m, other_mesh, tolerance\u001b[39m=\u001b[39m\u001b[39m1E-5\u001b[39m, progress_bar\u001b[39m=\u001b[39m\u001b[39mFalse\u001b[39;00m):\n\u001b[0;32m    <a href='file:///c%3A/Users/igornobrega/Documents/GitHub/Project-Heart/venv/lib/site-packages/pyvista/core/filters/poly_data.py?line=254'>255</a>\u001b[0m     \u001b[39m\"\"\"Perform a boolean difference operation between two meshes.\u001b[39;00m\n\u001b[0;32m    <a href='file:///c%3A/Users/igornobrega/Documents/GitHub/Project-Heart/venv/lib/site-packages/pyvista/core/filters/poly_data.py?line=255'>256</a>\u001b[0m \n\u001b[0;32m    <a href='file:///c%3A/Users/igornobrega/Documents/GitHub/Project-Heart/venv/lib/site-packages/pyvista/core/filters/poly_data.py?line=256'>257</a>\u001b[0m \u001b[39m    Essentially, boolean union, difference, and intersection are\u001b[39;00m\n\u001b[1;32m   (...)\u001b[0m\n\u001b[0;32m    <a href='file:///c%3A/Users/igornobrega/Documents/GitHub/Project-Heart/venv/lib/site-packages/pyvista/core/filters/poly_data.py?line=312'>313</a>\u001b[0m \n\u001b[0;32m    <a href='file:///c%3A/Users/igornobrega/Documents/GitHub/Project-Heart/venv/lib/site-packages/pyvista/core/filters/poly_data.py?line=313'>314</a>\u001b[0m \u001b[39m    \"\"\"\u001b[39;00m\n\u001b[1;32m--> <a href='file:///c%3A/Users/igornobrega/Documents/GitHub/Project-Heart/venv/lib/site-packages/pyvista/core/filters/poly_data.py?line=314'>315</a>\u001b[0m     \u001b[39mreturn\u001b[39;00m \u001b[39mself\u001b[39;49m\u001b[39m.\u001b[39;49m_boolean(\u001b[39m'\u001b[39;49m\u001b[39mdifference\u001b[39;49m\u001b[39m'\u001b[39;49m, other_mesh, tolerance, progress_bar\u001b[39m=\u001b[39;49mprogress_bar)\n",
      "File \u001b[1;32mc:\\Users\\igornobrega\\Documents\\GitHub\\Project-Heart\\venv\\lib\\site-packages\\pyvista\\core\\filters\\poly_data.py:75\u001b[0m, in \u001b[0;36mPolyDataFilters._boolean\u001b[1;34m(self, btype, other_mesh, tolerance, progress_bar)\u001b[0m\n\u001b[0;32m     <a href='file:///c%3A/Users/igornobrega/Documents/GitHub/Project-Heart/venv/lib/site-packages/pyvista/core/filters/poly_data.py?line=72'>73</a>\u001b[0m \u001b[39m\"\"\"Perform boolean operation.\"\"\"\u001b[39;00m\n\u001b[0;32m     <a href='file:///c%3A/Users/igornobrega/Documents/GitHub/Project-Heart/venv/lib/site-packages/pyvista/core/filters/poly_data.py?line=73'>74</a>\u001b[0m \u001b[39mif\u001b[39;00m \u001b[39mnot\u001b[39;00m \u001b[39misinstance\u001b[39m(other_mesh, pyvista\u001b[39m.\u001b[39mPolyData):\n\u001b[1;32m---> <a href='file:///c%3A/Users/igornobrega/Documents/GitHub/Project-Heart/venv/lib/site-packages/pyvista/core/filters/poly_data.py?line=74'>75</a>\u001b[0m     \u001b[39mraise\u001b[39;00m \u001b[39mTypeError\u001b[39;00m(\u001b[39m\"\u001b[39m\u001b[39mInput mesh must be PolyData.\u001b[39m\u001b[39m\"\u001b[39m)\n\u001b[0;32m     <a href='file:///c%3A/Users/igornobrega/Documents/GitHub/Project-Heart/venv/lib/site-packages/pyvista/core/filters/poly_data.py?line=75'>76</a>\u001b[0m \u001b[39mif\u001b[39;00m \u001b[39mnot\u001b[39;00m \u001b[39mself\u001b[39m\u001b[39m.\u001b[39mis_all_triangles \u001b[39mor\u001b[39;00m \u001b[39mnot\u001b[39;00m other_mesh\u001b[39m.\u001b[39mis_all_triangles:\n\u001b[0;32m     <a href='file:///c%3A/Users/igornobrega/Documents/GitHub/Project-Heart/venv/lib/site-packages/pyvista/core/filters/poly_data.py?line=76'>77</a>\u001b[0m     \u001b[39mraise\u001b[39;00m NotAllTrianglesError(\u001b[39m\"\u001b[39m\u001b[39mMake sure both the input and output are triangulated.\u001b[39m\u001b[39m\"\u001b[39m)\n",
      "\u001b[1;31mTypeError\u001b[0m: Input mesh must be PolyData."
     ]
    }
   ],
   "source": [
    "sphere = None\n",
    "a = pv.Sphere(1).extract_surface() # inner void\n",
    "tet = tetgen.TetGen(a)\n",
    "tet.tetrahedralize(order=1, mindihedral=20, minratio=1.5)\n",
    "a = tet.grid\n",
    "\n",
    "b = pv.Sphere(3).extract_surface() # outter surface\n",
    "sphere = b.boolean_difference(a)\n",
    "print(b)\n",
    "\n",
    "\n",
    "plotter = pv.Plotter()\n",
    "plotter.background_color = 'w'\n",
    "# plotter.enable_anti_aliasing()\n",
    "plotter.add_mesh(sphere, opacity=0.3, show_edges=True, lighting=False)\n",
    "plotter.show()"
   ]
  },
  {
   "cell_type": "code",
   "execution_count": 45,
   "metadata": {},
   "outputs": [
    {
     "data": {
      "application/vnd.jupyter.widget-view+json": {
       "model_id": "d36a39555c91417bb832ee8d38c5a6f0",
       "version_major": 2,
       "version_minor": 0
      },
      "text/plain": [
       "Renderer(camera=PerspectiveCamera(aspect=1.3333333333333333, children=(DirectionalLight(color='#fefefe', inten…"
      ]
     },
     "metadata": {},
     "output_type": "display_data"
    }
   ],
   "source": [
    "sphere = None\n",
    "sphere_a = pv.Sphere(1).extract_surface()\n",
    "sphere_b = pv.Sphere(2).extract_surface()\n",
    "sphere_c = pv.Sphere(3).extract_surface()\n",
    "void = pv.Sphere(1).extract_surface()\n",
    "\n",
    "sphere_in = sphere_a.merge(sphere_b).merge(sphere_c)\n",
    "sphere_out = pv.Sphere(4).extract_surface()\n",
    "sphere = sphere_in.merge(sphere_out).extract_surface().triangulate()\n",
    "\n",
    "\n",
    "plotter = pv.Plotter()\n",
    "plotter.background_color = 'w'\n",
    "# plotter.enable_anti_aliasing()\n",
    "plotter.add_mesh(sphere, opacity=0.3, show_edges=True, lighting=False)\n",
    "plotter.show()"
   ]
  },
  {
   "cell_type": "code",
   "execution_count": 39,
   "metadata": {},
   "outputs": [
    {
     "data": {
      "text/html": [
       "<table><tr><th>Header</th><th>Data Arrays</th></tr><tr><td>\n",
       "<table>\n",
       "<tr><th>UnstructuredGrid</th><th>Information</th></tr>\n",
       "<tr><td>N Cells</td><td>108013</td></tr>\n",
       "<tr><td>N Points</td><td>116260</td></tr>\n",
       "<tr><td>X Bounds</td><td>-9.985e-01, 9.705e-01</td></tr>\n",
       "<tr><td>Y Bounds</td><td>-9.931e-01, 9.760e-01</td></tr>\n",
       "<tr><td>Z Bounds</td><td>-1.000e+00, 9.690e-01</td></tr>\n",
       "<tr><td>N Arrays</td><td>2</td></tr>\n",
       "</table>\n",
       "\n",
       "</td><td>\n",
       "<table>\n",
       "<tr><th>Name</th><th>Field</th><th>Type</th><th>N Comp</th><th>Min</th><th>Max</th></tr>\n",
       "<tr><td>vtkOriginalPointIds</td><td>Points</td><td>int64</td><td>1</td><td>1.244e+03</td><td>1.941e+05</td></tr>\n",
       "<tr><td>vtkOriginalCellIds</td><td>Cells</td><td>int64</td><td>1</td><td>1.223e+03</td><td>1.842e+05</td></tr>\n",
       "</table>\n",
       "\n",
       "</td></tr> </table>"
      ],
      "text/plain": [
       "UnstructuredGrid (0x1c6d1f672e0)\n",
       "  N Cells:\t108013\n",
       "  N Points:\t116260\n",
       "  X Bounds:\t-9.985e-01, 9.705e-01\n",
       "  Y Bounds:\t-9.931e-01, 9.760e-01\n",
       "  Z Bounds:\t-1.000e+00, 9.690e-01\n",
       "  N Arrays:\t2"
      ]
     },
     "execution_count": 39,
     "metadata": {},
     "output_type": "execute_result"
    }
   ],
   "source": [
    "in_voxel = pv.voxelize(sphere_in, density=sphere_in.length/100)\n",
    "in_voxel"
   ]
  },
  {
   "cell_type": "code",
   "execution_count": 41,
   "metadata": {},
   "outputs": [
    {
     "data": {
      "application/vnd.jupyter.widget-view+json": {
       "model_id": "c2cc28ec93364384851b2f766edeecd7",
       "version_major": 2,
       "version_minor": 0
      },
      "text/plain": [
       "Renderer(camera=PerspectiveCamera(aspect=1.3333333333333333, children=(DirectionalLight(color='#fefefe', inten…"
      ]
     },
     "metadata": {},
     "output_type": "display_data"
    }
   ],
   "source": [
    "# in_voxel = pv.voxelize(sphere_in, 1000)\n",
    "\n",
    "plotter = pv.Plotter()\n",
    "plotter.background_color = 'w'\n",
    "# plotter.enable_anti_aliasing()\n",
    "plotter.add_mesh(sphere_out, opacity=0.5, show_edges=True, lighting=False)\n",
    "plotter.add_mesh(in_voxel, opacity=0.5, show_edges=True, lighting=False)\n",
    "\n",
    "plotter.show()"
   ]
  },
  {
   "cell_type": "code",
   "execution_count": 31,
   "metadata": {},
   "outputs": [
    {
     "data": {
      "application/vnd.jupyter.widget-view+json": {
       "model_id": "a2afe82ef6074577be7e42be5f8e7d14",
       "version_major": 2,
       "version_minor": 0
      },
      "text/plain": [
       "Renderer(camera=PerspectiveCamera(aspect=1.3333333333333333, children=(DirectionalLight(color='#fefefe', inten…"
      ]
     },
     "metadata": {},
     "output_type": "display_data"
    }
   ],
   "source": [
    "tet = tetgen.TetGen(sphere)\n",
    "tet.tetrahedralize(order=1, mindihedral=20, minratio=1.5)\n",
    "grid = tet.grid\n",
    "grid.plot(opacity=0.5, show_edges=True)"
   ]
  }
 ],
 "metadata": {
  "interpreter": {
   "hash": "5c962b6c234a3db534066ed327053f938598ea42a750215fe59b82b9f134804a"
  },
  "kernelspec": {
   "display_name": "Python 3.9.10 64-bit",
   "language": "python",
   "name": "python3"
  },
  "language_info": {
   "codemirror_mode": {
    "name": "ipython",
    "version": 3
   },
   "file_extension": ".py",
   "mimetype": "text/x-python",
   "name": "python",
   "nbconvert_exporter": "python",
   "pygments_lexer": "ipython3",
   "version": "3.9.10"
  },
  "orig_nbformat": 4
 },
 "nbformat": 4,
 "nbformat_minor": 2
}
