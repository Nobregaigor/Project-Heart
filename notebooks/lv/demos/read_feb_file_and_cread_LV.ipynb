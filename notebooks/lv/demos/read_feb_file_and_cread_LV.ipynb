{
 "cells": [
  {
   "cell_type": "code",
   "execution_count": 1,
   "metadata": {},
   "outputs": [],
   "source": [
    "from project_heart.lv import LV\n",
    "import numpy as np\n",
    "import pyvista as pv\n",
    "pv.set_jupyter_backend(\"pythreejs\")\n",
    "\n",
    "import os\n",
    "from pathlib import Path\n",
    "\n",
    "from project_heart.enums import *"
   ]
  },
  {
   "cell_type": "code",
   "execution_count": 2,
   "metadata": {},
   "outputs": [],
   "source": [
    "feb_template_path = Path(\"../sample_files/sample_lv_template_mod.feb\")"
   ]
  },
  {
   "cell_type": "markdown",
   "metadata": {},
   "source": [
    "# Simple creation from .feb:"
   ]
  },
  {
   "cell_type": "markdown",
   "metadata": {},
   "source": [
    "For a quick and easy LV creation from .feb, you can use the \"from_file\" or \"from_feb\" methods. They load a feb object and parses the information into our library's data structure. However, remember that .feb file can be complex, so this method only loads the first set of nodes and elements, nodesets and surfaces. Everything else is ignored (as of current version)."
   ]
  },
  {
   "cell_type": "code",
   "execution_count": 3,
   "metadata": {},
   "outputs": [],
   "source": [
    "lv = LV.from_file(feb_template_path)"
   ]
  },
  {
   "cell_type": "markdown",
   "metadata": {},
   "source": [
    "Let's create a LV region from .feb nodesets and plot:"
   ]
  },
  {
   "cell_type": "code",
   "execution_count": 4,
   "metadata": {},
   "outputs": [
    {
     "data": {
      "application/vnd.jupyter.widget-view+json": {
       "model_id": "cc53e54edcfe438ebac4185c6eed3e2a",
       "version_major": 2,
       "version_minor": 0
      },
      "text/plain": [
       "Renderer(camera=PerspectiveCamera(aspect=1.3333333333333333, children=(DirectionalLight(color='#fefefe', posit…"
      ]
     },
     "metadata": {},
     "output_type": "display_data"
    }
   ],
   "source": [
    "lv.set_region_from_nodesets(LV_MESH_DATA.EPI_ENDO, [\"ENDO\", \"EPI\"])\n",
    "lv.plot(scalars=LV_MESH_DATA.EPI_ENDO, categorical=True)"
   ]
  },
  {
   "cell_type": "markdown",
   "metadata": {},
   "source": [
    "Here is another example:"
   ]
  },
  {
   "cell_type": "code",
   "execution_count": 5,
   "metadata": {},
   "outputs": [
    {
     "data": {
      "application/vnd.jupyter.widget-view+json": {
       "model_id": "493cf185e17e4fee9eaef01e566e5529",
       "version_major": 2,
       "version_minor": 0
      },
      "text/plain": [
       "Renderer(camera=PerspectiveCamera(aspect=1.3333333333333333, children=(DirectionalLight(color='#fefefe', posit…"
      ]
     },
     "metadata": {},
     "output_type": "display_data"
    }
   ],
   "source": [
    "lv.set_region_from_nodesets(\"EEBB\", [\"ENDO\", \"EPI\", \"BORDER_MITRAL\", \"BORDER_AORTIC\"])\n",
    "lv.plot(scalars=\"EEBB\", categorical=True)"
   ]
  },
  {
   "cell_type": "markdown",
   "metadata": {},
   "source": [
    "# Fine control object creation from .feb"
   ]
  },
  {
   "cell_type": "markdown",
   "metadata": {},
   "source": [
    "If you would like a finer control of what data is being parsed from .feb and added to the LV object, you can manually load an feb object and use our build-function to add data from .feb to our LV object. Here is an example:"
   ]
  },
  {
   "cell_type": "markdown",
   "metadata": {},
   "source": [
    "Load feb object using febio_python library."
   ]
  },
  {
   "cell_type": "code",
   "execution_count": 6,
   "metadata": {},
   "outputs": [
    {
     "data": {
      "text/plain": [
       "FEBio_feb:\n",
       "-> Module: 0\n",
       "-> Control: 19\n",
       "-> Material: 2\n",
       "--> material 'Holzapfel_Ogden_PAQ': 13\n",
       "--> material 'rigid body': 2\n",
       "-> Globals: 1\n",
       "-> Geometry: 24\n",
       "--> Nodes 'LV': 64452\n",
       "--> Nodes 'AORTIC_RIM': 128\n",
       "--> Nodes 'MITRAL_RIM': 128\n",
       "--> Elements 'LV': 218359\n",
       "--> Elements 'AORTIC_RIM_ELEMS': 63\n",
       "--> Elements 'MITRAL_RIM_ELEMS': 63\n",
       "-> Boundary: 1\n",
       "-> Loads: 1\n",
       "-> Discrete: 3\n",
       "-> LoadData: 3\n",
       "-> Output: 1\n",
       "-> MeshData: 1"
      ]
     },
     "execution_count": 6,
     "metadata": {},
     "output_type": "execute_result"
    }
   ],
   "source": [
    "from febio_python.feb import FEBio_feb\n",
    "feb = FEBio_feb.from_file(feb_template_path)\n",
    "feb"
   ]
  },
  {
   "cell_type": "markdown",
   "metadata": {},
   "source": [
    "Get nodes and elements dictionaries. "
   ]
  },
  {
   "cell_type": "code",
   "execution_count": 7,
   "metadata": {},
   "outputs": [
    {
     "name": "stdout",
     "output_type": "stream",
     "text": [
      "dict_keys(['LV', 'AORTIC_RIM', 'MITRAL_RIM'])\n",
      "dict_keys(['LV', 'AORTIC_RIM_ELEMS', 'MITRAL_RIM_ELEMS'])\n"
     ]
    }
   ],
   "source": [
    "nodes = feb.get_nodes()\n",
    "print(nodes.keys())\n",
    "elements = feb.get_elements()\n",
    "print(elements.keys())"
   ]
  },
  {
   "cell_type": "markdown",
   "metadata": {},
   "source": [
    "Select what set of nodes and elements to be used to build our LV object. Remember that in .feb files, elements start at 1, so we will have to correct it:"
   ]
  },
  {
   "cell_type": "code",
   "execution_count": 8,
   "metadata": {},
   "outputs": [],
   "source": [
    "lvnodes = nodes[\"LV\"]\n",
    "lvelems = elements[\"LV\"] - 1 # feb elements starts at 1"
   ]
  },
  {
   "cell_type": "markdown",
   "metadata": {},
   "source": [
    "Get nodesets and surfaces. Other data can also be extract from feb object. It is structures as a xml tree; check febio_python for more details."
   ]
  },
  {
   "cell_type": "code",
   "execution_count": 9,
   "metadata": {},
   "outputs": [
    {
     "name": "stdout",
     "output_type": "stream",
     "text": [
      "dict_keys(['ENDO', 'EPI', 'AORTIC', 'ENDO_AORTIC', 'EPI_AORTIC', 'BORDER_AORTIC', 'MITRAL', 'ENDO_MITRAL', 'EPI_MITRAL', 'BORDER_MITRAL', 'AM_INTERCECTION', 'ENDO_AM_INTERCECTION', 'EPI_AM_INTERCECTION', 'BASE_REGION', 'APEX_REGION'])\n",
      "dict_keys(['ENDO'])\n"
     ]
    }
   ],
   "source": [
    "nodesets = feb.get_nodesets()\n",
    "print(nodesets.keys())\n",
    "surfaces = feb.get_surfaces()\n",
    "print(surfaces.keys())"
   ]
  },
  {
   "cell_type": "markdown",
   "metadata": {},
   "source": [
    "Now let's build our LV object:"
   ]
  },
  {
   "cell_type": "code",
   "execution_count": 10,
   "metadata": {},
   "outputs": [],
   "source": [
    "lv = LV.from_nodes_elements(nodes=lvnodes, elements=lvelems)"
   ]
  },
  {
   "cell_type": "markdown",
   "metadata": {},
   "source": [
    "add nodesets and surface sets:"
   ]
  },
  {
   "cell_type": "code",
   "execution_count": 11,
   "metadata": {},
   "outputs": [],
   "source": [
    "for key, value in nodesets.items():\n",
    "  lv.add_nodeset(key, value)\n",
    "\n",
    "for key, value in surfaces.items():\n",
    "  lv.add_surface_oi(key, value)"
   ]
  },
  {
   "cell_type": "markdown",
   "metadata": {},
   "source": [
    "Let's create a LV region for plotting:"
   ]
  },
  {
   "cell_type": "code",
   "execution_count": 12,
   "metadata": {},
   "outputs": [
    {
     "data": {
      "application/vnd.jupyter.widget-view+json": {
       "model_id": "ecd7dfefc2ca4ec4b278478cb6933f35",
       "version_major": 2,
       "version_minor": 0
      },
      "text/plain": [
       "Renderer(camera=PerspectiveCamera(aspect=1.3333333333333333, children=(DirectionalLight(color='#fefefe', posit…"
      ]
     },
     "metadata": {},
     "output_type": "display_data"
    }
   ],
   "source": [
    "lv.set_region_from_nodesets(LV_MESH_DATA.EPI_ENDO, [\"ENDO\", \"EPI\"])\n",
    "lv.plot(scalars=LV_MESH_DATA.EPI_ENDO)"
   ]
  }
 ],
 "metadata": {
  "interpreter": {
   "hash": "364647f439eeb51cea9fa1ad47f7b03a5a9ed5157a0ffe2dd43bcec2d09df37e"
  },
  "kernelspec": {
   "display_name": "Python 3.9.7",
   "language": "python",
   "name": "python3"
  },
  "language_info": {
   "codemirror_mode": {
    "name": "ipython",
    "version": 3
   },
   "file_extension": ".py",
   "mimetype": "text/x-python",
   "name": "python",
   "nbconvert_exporter": "python",
   "pygments_lexer": "ipython3",
   "version": "3.9.7"
  },
  "orig_nbformat": 4
 },
 "nbformat": 4,
 "nbformat_minor": 2
}
