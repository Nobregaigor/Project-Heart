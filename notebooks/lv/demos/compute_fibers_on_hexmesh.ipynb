{
 "cells": [
  {
   "cell_type": "code",
   "execution_count": 1,
   "metadata": {},
   "outputs": [],
   "source": [
    "from project_heart.lv import LV\n",
    "import numpy as np\n",
    "import pyvista as pv\n",
    "pv.set_jupyter_backend(\"pythreejs\")\n",
    "\n",
    "import os\n",
    "from pathlib import Path\n",
    "\n",
    "from project_heart.enums import *"
   ]
  },
  {
   "cell_type": "code",
   "execution_count": 2,
   "metadata": {},
   "outputs": [
    {
     "data": {
      "text/html": [
       "\n",
       "<table>\n",
       "<tr><th>UnstructuredGrid</th><th>Information</th></tr>\n",
       "<tr><td>N Cells</td><td>365443</td></tr>\n",
       "<tr><td>N Points</td><td>95495</td></tr>\n",
       "<tr><td>X Bounds</td><td>-2.245e+01, 5.452e+01</td></tr>\n",
       "<tr><td>Y Bounds</td><td>-4.001e+01, 4.336e+01</td></tr>\n",
       "<tr><td>Z Bounds</td><td>-4.906e+01, 4.008e+01</td></tr>\n",
       "<tr><td>N Arrays</td><td>0</td></tr>\n",
       "</table>\n",
       "\n"
      ],
      "text/plain": [
       "UnstructuredGrid (0x7f66a4cf6d00)\n",
       "  N Cells:\t365443\n",
       "  N Points:\t95495\n",
       "  X Bounds:\t-2.245e+01, 5.452e+01\n",
       "  Y Bounds:\t-4.001e+01, 4.336e+01\n",
       "  Z Bounds:\t-4.906e+01, 4.008e+01\n",
       "  N Arrays:\t0"
      ]
     },
     "execution_count": 2,
     "metadata": {},
     "output_type": "execute_result"
    }
   ],
   "source": [
    "# not that we only call lv_tet because we will tetrahedralize it, we are loading a hex mesh!\n",
    "lv_tet = LV.from_pyvista_read(\"../sample_files/lvhexmesh.vtk\") # load reference mesh (can also be done from other methods)\n",
    "lv_tet.tetrahedralize(backend=TETRA_BACKEND.TETGEN, order=1, mindihedral=0.0, minratio=2.0) \n",
    "lv_tet.mesh"
   ]
  },
  {
   "cell_type": "code",
   "execution_count": 3,
   "metadata": {},
   "outputs": [
    {
     "data": {
      "application/vnd.jupyter.widget-view+json": {
       "model_id": "c2b1bf0fd9734b7fa4111a3f632f7936",
       "version_major": 2,
       "version_minor": 0
      },
      "text/plain": [
       "Renderer(camera=PerspectiveCamera(aspect=1.3333333333333333, children=(DirectionalLight(position=(49999.999999…"
      ]
     },
     "metadata": {},
     "output_type": "display_data"
    }
   ],
   "source": [
    "lv_tet.identify_surfaces(\n",
    "  endo_epi_args=dict(threshold=90.0),\n",
    "  apex_base_args=dict(ab_ql=0.04, ab_qh=0.69),\n",
    "  aortic_mitral_args=dict(a1=0.4,\n",
    "                          a2=0.5,\n",
    "                          a3=0.3,\n",
    "                          a4=75,\n",
    "                          a5=130,\n",
    "                          \n",
    "                          m1=0.17,\n",
    "                          m2=0.02,\n",
    "                          m3=0.07,\n",
    "                          m4=0.333\n",
    "                          )\n",
    ")\n",
    "lv_tet.plot(\"surface\", scalars=LV_MESH_DATA.SURFS_DETAILED.value,\n",
    "        cmap=\"tab20_r\")"
   ]
  },
  {
   "cell_type": "code",
   "execution_count": 4,
   "metadata": {},
   "outputs": [
    {
     "name": "stdout",
     "output_type": "stream",
     "text": [
      "Calculating scalar fields\n",
      "Compute scalar laplacian solutions with the markers: \n",
      "epi: 2\n",
      "lv: 1\n",
      "base: 22\n",
      "  Num vertices: 95495\n",
      "  Num cells: 365443\n",
      "Solving linear variational problem.\n",
      "  Apex coord: (45.03, -27.18, -39.29)\n",
      "Solving linear variational problem.\n",
      "Solving Laplace equation\n",
      " epi = 1, lv = 0\n",
      "Solving linear variational problem.\n",
      " lv = 1, epi = 0\n",
      "Solving linear variational problem.\n",
      "\n",
      "Calculating gradients\n",
      "Compute fiber-sheet system\n",
      "Angles: \n",
      "alpha: \n",
      " endo_lv: 60\n",
      " epi_lv: -60\n",
      " endo_septum: 60\n",
      " epi_septum: -60\n",
      " endo_rv: 60\n",
      " epi_rv: -60\n",
      "beta: \n",
      " endo_lv: 0\n",
      " epi_lv: 0\n",
      " endo_septum: 0\n",
      " epi_septum: 0\n",
      " endo_rv: 0\n",
      " epi_rv: 0\n"
     ]
    }
   ],
   "source": [
    "lv_tet.compute_fibers(surfRegionsIds=LV_FIBER_MODES.LDRB_1,\n",
    "                    fiber_space=\"P_1\",\n",
    "                    alpha_endo_lv=60,  # Fiber angle on the endocardium\n",
    "                    alpha_epi_lv=-60,  # Fiber angle on the epicardium\n",
    "                    beta_endo_lv=0,  # Sheet angle on the endocardium\n",
    "                    beta_epi_lv=0,  # Sheet angle on the epicardium\n",
    "                    markers={},\n",
    "                    ldrb_kwargs={},\n",
    "                    save_xdmfs=False,\n",
    "                    xdmfs_dir=None,\n",
    "                    xdmfs_basename=None,\n",
    "                    del_generated_files=True,\n",
    "                    )"
   ]
  },
  {
   "cell_type": "code",
   "execution_count": 5,
   "metadata": {},
   "outputs": [
    {
     "data": {
      "application/vnd.jupyter.widget-view+json": {
       "model_id": "fa807b86dfad4f81b11a6f4a44a5e570",
       "version_major": 2,
       "version_minor": 0
      },
      "text/plain": [
       "Renderer(camera=PerspectiveCamera(aspect=1.3333333333333333, children=(DirectionalLight(intensity=0.25, positi…"
      ]
     },
     "metadata": {},
     "output_type": "display_data"
    }
   ],
   "source": [
    "lv_tet.plot_streamlines(LV_FIBERS.F0, scalars=LV_FIBERS.F0_ANGLES, decimate_boundary=0.85)"
   ]
  },
  {
   "cell_type": "code",
   "execution_count": 6,
   "metadata": {},
   "outputs": [],
   "source": [
    "lv_hex = LV.from_pyvista_read(\"../sample_files/lvhexmesh.vtk\") # reload hex mesh"
   ]
  },
  {
   "cell_type": "code",
   "execution_count": 7,
   "metadata": {},
   "outputs": [
    {
     "data": {
      "text/plain": [
       "array([[ 0.44340043, -0.03856583, -0.86033553, ...,  0.73821636,\n",
       "         0.59019307,  0.32250374],\n",
       "       [ 0.44918199, -0.0381963 , -0.86257769, ...,  0.74276369,\n",
       "         0.58591022,  0.32135659],\n",
       "       [ 0.45319723, -0.04095395, -0.85032745, ...,  0.75047274,\n",
       "         0.5723072 ,  0.34024438],\n",
       "       ...,\n",
       "       [-0.22927665,  0.83820713,  0.52612674, ...,  0.99706292,\n",
       "         0.13900393,  0.17470835],\n",
       "       [-0.23288387,  0.87176569,  0.34581601, ...,  0.99182828,\n",
       "         0.20993211,  0.20023326],\n",
       "       [-0.20740527,  0.86580726,  0.39514304, ...,  0.99101153,\n",
       "         0.18325412,  0.22068821]])"
      ]
     },
     "execution_count": 7,
     "metadata": {},
     "output_type": "execute_result"
    }
   ],
   "source": [
    "lv_hex.regress_fibers(lv_tet)"
   ]
  },
  {
   "cell_type": "code",
   "execution_count": 9,
   "metadata": {},
   "outputs": [
    {
     "data": {
      "application/vnd.jupyter.widget-view+json": {
       "model_id": "ca962440192a415b97a570e1a1f6c0cf",
       "version_major": 2,
       "version_minor": 0
      },
      "text/plain": [
       "Renderer(camera=PerspectiveCamera(aspect=1.3333333333333333, children=(DirectionalLight(intensity=0.25, positi…"
      ]
     },
     "metadata": {},
     "output_type": "display_data"
    }
   ],
   "source": [
    "lv_hex.plot_streamlines(LV_FIBERS.F0, scalars=LV_FIBERS.F0_ANGLES, decimate_boundary=0.85)"
   ]
  }
 ],
 "metadata": {
  "interpreter": {
   "hash": "fd53b0e241fb980e32739634cee5dd98f400067d1ffded0db49124dd35b5b187"
  },
  "kernelspec": {
   "display_name": "Python 3.9.11",
   "language": "python",
   "name": "python3"
  },
  "language_info": {
   "codemirror_mode": {
    "name": "ipython",
    "version": 3
   },
   "file_extension": ".py",
   "mimetype": "text/x-python",
   "name": "python",
   "nbconvert_exporter": "python",
   "pygments_lexer": "ipython3",
   "version": "3.9.11"
  },
  "orig_nbformat": 4
 },
 "nbformat": 4,
 "nbformat_minor": 2
}
