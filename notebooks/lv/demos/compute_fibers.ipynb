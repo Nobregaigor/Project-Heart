{
 "cells": [
  {
   "cell_type": "code",
   "execution_count": 1,
   "metadata": {},
   "outputs": [],
   "source": [
    "from project_heart.lv import LV\n",
    "import numpy as np\n",
    "import pyvista as pv\n",
    "# import project_heart as ph\n",
    "from project_heart.modules.geometry import Geometry\n",
    "pv.set_jupyter_backend(\"pythreejs\")\n",
    "\n",
    "import os\n",
    "from pathlib import Path\n",
    "\n",
    "from project_heart.enums import *"
   ]
  },
  {
   "cell_type": "code",
   "execution_count": 2,
   "metadata": {},
   "outputs": [
    {
     "data": {
      "application/vnd.jupyter.widget-view+json": {
       "model_id": "35ed8121aaed4a8eaef40094cd0a93aa",
       "version_major": 2,
       "version_minor": 0
      },
      "text/plain": [
       "Renderer(camera=PerspectiveCamera(aspect=1.3333333333333333, children=(DirectionalLight(position=(49999.999999…"
      ]
     },
     "metadata": {},
     "output_type": "display_data"
    }
   ],
   "source": [
    "lv = LV.from_pyvista_read(\"../sample_files/lvtetmesh_coarse.vtk\")\n",
    "# lv.smooth_surface(n_iter=500)\n",
    "lv.identify_surfaces(\n",
    "  endo_epi_args=dict(threshold=90.0),\n",
    "  apex_base_args=dict(ab_ql=0.04, ab_qh=0.69),\n",
    "  aortic_mitral_args=dict(a1=0.4,\n",
    "                          a2=0.5,\n",
    "                          a3=0.3,\n",
    "                          a4=75,\n",
    "                          a5=130,\n",
    "                          \n",
    "                          m1=0.17,\n",
    "                          m2=0.02,\n",
    "                          m3=0.07,\n",
    "                          m4=0.333\n",
    "                          )\n",
    ")\n",
    "lv.plot(\"surface\", scalars=LV_MESH_DATA.SURFS_DETAILED.value,\n",
    "        cmap=\"tab20_r\")"
   ]
  },
  {
   "cell_type": "code",
   "execution_count": 3,
   "metadata": {},
   "outputs": [
    {
     "name": "stdout",
     "output_type": "stream",
     "text": [
      "Calculating scalar fields\n",
      "Compute scalar laplacian solutions with the markers: \n",
      "epi: 2\n",
      "lv: 1\n",
      "base: 22\n",
      "  Num vertices: 64452\n",
      "  Num cells: 218359\n",
      "Solving linear variational problem.\n",
      "  Apex coord: (45.82, -26.93, -38.51)\n",
      "Solving linear variational problem.\n",
      "Solving Laplace equation\n",
      " epi = 1, lv = 0\n",
      "Solving linear variational problem.\n",
      " lv = 1, epi = 0\n",
      "Solving linear variational problem.\n",
      "\n",
      "Calculating gradients\n",
      "Compute fiber-sheet system\n",
      "Angles: \n",
      "alpha: \n",
      " endo_lv: 60\n",
      " epi_lv: -60\n",
      " endo_septum: 60\n",
      " epi_septum: -60\n",
      " endo_rv: 60\n",
      " epi_rv: -60\n",
      "beta: \n",
      " endo_lv: 0\n",
      " epi_lv: 0\n",
      " endo_septum: 0\n",
      " epi_septum: 0\n",
      " endo_rv: 0\n",
      " epi_rv: 0\n"
     ]
    }
   ],
   "source": [
    "lv.compute_fibers(surfRegionsIds=LV_FIBER_MODES.LDRB_1,\n",
    "                    fiber_space=\"P_1\",\n",
    "                    alpha_endo_lv=60,  # Fiber angle on the endocardium\n",
    "                    alpha_epi_lv=-60,  # Fiber angle on the epicardium\n",
    "                    beta_endo_lv=0,  # Sheet angle on the endocardium\n",
    "                    beta_epi_lv=0,  # Sheet angle on the epicardium\n",
    "                    markers={},\n",
    "                    ldrb_kwargs={},\n",
    "                    save_xdmfs=False,\n",
    "                    xdmfs_dir=None,\n",
    "                    xdmfs_basename=None,\n",
    "                    del_generated_files=True,\n",
    "                    )"
   ]
  },
  {
   "cell_type": "code",
   "execution_count": 4,
   "metadata": {},
   "outputs": [],
   "source": [
    "lv.mesh.save(\"../sample_files/lvtetmesh_coarse_fibers_LDRB_1.vtk\")"
   ]
  },
  {
   "cell_type": "code",
   "execution_count": 5,
   "metadata": {},
   "outputs": [],
   "source": [
    "from project_heart.utils.vector_utils import *\n",
    "fibers = lv.mesh.point_data[LV_FIBERS.F0.value]\n",
    "normal_vec = np.repeat(np.expand_dims(lv.get_normal(),1),len(fibers), axis=1).T\n",
    "angles = angle_between(fibers, normal_vec, check_orientation=False) - np.pi*0.5\n",
    "angles = np.degrees(angles)\n",
    "lv.mesh.point_data[\"FIBER_ANGLES\"] = angles"
   ]
  },
  {
   "cell_type": "code",
   "execution_count": 6,
   "metadata": {},
   "outputs": [
    {
     "data": {
      "text/html": [
       "\n",
       "<table>\n",
       "<tr><th>PolyData</th><th>Information</th></tr>\n",
       "<tr><td>N Cells</td><td>5272</td></tr>\n",
       "<tr><td>N Points</td><td>2636</td></tr>\n",
       "<tr><td>X Bounds</td><td>-2.202e+01, 5.639e+01</td></tr>\n",
       "<tr><td>Y Bounds</td><td>-3.900e+01, 4.335e+01</td></tr>\n",
       "<tr><td>Z Bounds</td><td>-4.728e+01, 3.678e+01</td></tr>\n",
       "<tr><td>N Arrays</td><td>0</td></tr>\n",
       "</table>\n",
       "\n"
      ],
      "text/plain": [
       "PolyData (0x7fd9a09d0700)\n",
       "  N Cells:\t5272\n",
       "  N Points:\t2636\n",
       "  X Bounds:\t-2.202e+01, 5.639e+01\n",
       "  Y Bounds:\t-3.900e+01, 4.335e+01\n",
       "  Z Bounds:\t-4.728e+01, 3.678e+01\n",
       "  N Arrays:\t0"
      ]
     },
     "execution_count": 6,
     "metadata": {},
     "output_type": "execute_result"
    }
   ],
   "source": [
    "seed_mesh = lv.mesh.decimate_boundary(0.95)\n",
    "seed_mesh"
   ]
  },
  {
   "cell_type": "code",
   "execution_count": 7,
   "metadata": {},
   "outputs": [
    {
     "data": {
      "text/html": [
       "<table><tr><th>Header</th><th>Data Arrays</th></tr><tr><td>\n",
       "<table>\n",
       "<tr><th>PolyData</th><th>Information</th></tr>\n",
       "<tr><td>N Cells</td><td>1753</td></tr>\n",
       "<tr><td>N Points</td><td>475228</td></tr>\n",
       "<tr><td>X Bounds</td><td>-2.152e+01, 5.625e+01</td></tr>\n",
       "<tr><td>Y Bounds</td><td>-3.865e+01, 4.306e+01</td></tr>\n",
       "<tr><td>Z Bounds</td><td>-4.698e+01, 3.632e+01</td></tr>\n",
       "<tr><td>N Arrays</td><td>24</td></tr>\n",
       "</table>\n",
       "\n",
       "</td><td>\n",
       "<table>\n",
       "<tr><th>Name</th><th>Field</th><th>Type</th><th>N Comp</th><th>Min</th><th>Max</th></tr>\n",
       "<tr><td>LV_EPI_ENDO_GUESS</td><td>Points</td><td>int64</td><td>1</td><td>0.000e+00</td><td>2.000e+00</td></tr>\n",
       "<tr><td>LV_APEX_BASE_REGIONS</td><td>Points</td><td>int64</td><td>1</td><td>0.000e+00</td><td>1.900e+01</td></tr>\n",
       "<tr><td>LV_AORTIC_MITRAL_CLUSTERS</td><td>Points</td><td>int64</td><td>1</td><td>0.000e+00</td><td>1.300e+01</td></tr>\n",
       "<tr><td>LV_AM_SURFS</td><td>Points</td><td>int64</td><td>1</td><td>0.000e+00</td><td>1.100e+01</td></tr>\n",
       "<tr><td>LV_AM_EPI_ENDO</td><td>Points</td><td>int64</td><td>1</td><td>0.000e+00</td><td>1.500e+01</td></tr>\n",
       "<tr><td>LV_EPI_ENDO</td><td>Points</td><td>int64</td><td>1</td><td>0.000e+00</td><td>2.000e+00</td></tr>\n",
       "<tr><td>LV_APEX_BASE_REGIONS_ENDO_EPI</td><td>Points</td><td>int64</td><td>1</td><td>0.000e+00</td><td>2.100e+01</td></tr>\n",
       "<tr><td>SURFS_DETAILED</td><td>Points</td><td>int64</td><td>1</td><td>0.000e+00</td><td>1.300e+01</td></tr>\n",
       "<tr><td>LV_SURFS</td><td>Points</td><td>int64</td><td>1</td><td>0.000e+00</td><td>1.100e+01</td></tr>\n",
       "<tr><td>LV_FIBERS_LDRB_1</td><td>Points</td><td>float64</td><td>1</td><td>-2.070e-02</td><td>2.200e+01</td></tr>\n",
       "<tr><td>LV_FIBERS</td><td>Points</td><td>float64</td><td>3</td><td>-9.995e-01</td><td>9.996e-01</td></tr>\n",
       "<tr><td>LV_SHEET</td><td>Points</td><td>float64</td><td>3</td><td>-9.996e-01</td><td>9.997e-01</td></tr>\n",
       "<tr><td>LV_SHEET_NORMAL</td><td>Points</td><td>float64</td><td>3</td><td>-9.996e-01</td><td>1.000e+00</td></tr>\n",
       "<tr><td>LV_FIBER_ANGLES</td><td>Points</td><td>float64</td><td>1</td><td>-8.539e+01</td><td>8.489e+01</td></tr>\n",
       "<tr><td>LV_SHEET_ANGLES</td><td>Points</td><td>float64</td><td>1</td><td>-8.219e+01</td><td>7.386e+01</td></tr>\n",
       "<tr><td>LV_SHEET_NORMAL_ANGLES</td><td>Points</td><td>float64</td><td>1</td><td>-8.497e+01</td><td>8.431e+01</td></tr>\n",
       "<tr><td><b>FIBER_ANGLES</b></td><td>Points</td><td>float64</td><td>1</td><td>-8.539e+01</td><td>8.489e+01</td></tr>\n",
       "<tr><td>IntegrationTime</td><td>Points</td><td>float64</td><td>1</td><td>-2.763e+03</td><td>2.088e+04</td></tr>\n",
       "<tr><td>Vorticity</td><td>Points</td><td>float64</td><td>3</td><td>-2.053e+01</td><td>1.902e+01</td></tr>\n",
       "<tr><td>Rotation</td><td>Points</td><td>float64</td><td>1</td><td>-1.702e+03</td><td>1.662e+03</td></tr>\n",
       "<tr><td>AngularVelocity</td><td>Points</td><td>float64</td><td>1</td><td>-1.577e+01</td><td>1.228e+01</td></tr>\n",
       "<tr><td>Normals</td><td>Points</td><td>float64</td><td>3</td><td>-1.000e+00</td><td>1.000e+00</td></tr>\n",
       "<tr><td>ReasonForTermination</td><td>Cells</td><td>int32</td><td>1</td><td>1.000e+00</td><td>5.000e+00</td></tr>\n",
       "<tr><td>SeedIds</td><td>Cells</td><td>int32</td><td>1</td><td>3.000e+00</td><td>2.634e+03</td></tr>\n",
       "</table>\n",
       "\n",
       "</td></tr> </table>"
      ],
      "text/plain": [
       "PolyData (0x7fda8f05aa00)\n",
       "  N Cells:\t1753\n",
       "  N Points:\t475228\n",
       "  X Bounds:\t-2.152e+01, 5.625e+01\n",
       "  Y Bounds:\t-3.865e+01, 4.306e+01\n",
       "  Z Bounds:\t-4.698e+01, 3.632e+01\n",
       "  N Arrays:\t24"
      ]
     },
     "execution_count": 7,
     "metadata": {},
     "output_type": "execute_result"
    }
   ],
   "source": [
    "stream = lv.mesh.streamlines_from_source(seed_mesh, \n",
    "                                         vectors=LV_FIBERS.F0.value,\n",
    "                                        #  surface_streamlines=True,\n",
    "                                         max_steps=2000,\n",
    "                                         terminal_speed=0.0,\n",
    "                                         integration_direction=\"both\",\n",
    "                                         )\n",
    "stream"
   ]
  },
  {
   "cell_type": "code",
   "execution_count": 8,
   "metadata": {},
   "outputs": [
    {
     "data": {
      "application/vnd.jupyter.widget-view+json": {
       "model_id": "3aaafc3bbd4d4ab5beb6b5ec7e0c60ad",
       "version_major": 2,
       "version_minor": 0
      },
      "text/plain": [
       "Renderer(camera=PerspectiveCamera(aspect=1.3333333333333333, children=(DirectionalLight(intensity=0.25, positi…"
      ]
     },
     "metadata": {},
     "output_type": "display_data"
    }
   ],
   "source": [
    "p = pv.Plotter()\n",
    "p.enable_anti_aliasing()\n",
    "p.enable_shadows()\n",
    "p.background_color = 'w'\n",
    "# p.add_mesh(lv.mesh, color=\"beige\")\n",
    "p.add_mesh(stream, scalars=\"FIBER_ANGLES\", lighting=False)\n",
    "p.show()"
   ]
  }
 ],
 "metadata": {
  "interpreter": {
   "hash": "fd53b0e241fb980e32739634cee5dd98f400067d1ffded0db49124dd35b5b187"
  },
  "kernelspec": {
   "display_name": "Python 3.9.11 (conda)",
   "language": "python",
   "name": "python3"
  },
  "language_info": {
   "codemirror_mode": {
    "name": "ipython",
    "version": 3
   },
   "file_extension": ".py",
   "mimetype": "text/x-python",
   "name": "python",
   "nbconvert_exporter": "python",
   "pygments_lexer": "ipython3",
   "version": "3.9.7"
  },
  "orig_nbformat": 4
 },
 "nbformat": 4,
 "nbformat_minor": 2
}
