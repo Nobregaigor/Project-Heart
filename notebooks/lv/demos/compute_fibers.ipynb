{
 "cells": [
  {
   "cell_type": "code",
   "execution_count": 1,
   "metadata": {},
   "outputs": [],
   "source": [
    "from project_heart.lv import LV\n",
    "import numpy as np\n",
    "import pyvista as pv\n",
    "# import project_heart as ph\n",
    "from project_heart.modules.geometry import Geometry\n",
    "pv.set_jupyter_backend(\"pythreejs\")\n",
    "\n",
    "import os\n",
    "from pathlib import Path\n",
    "\n",
    "from project_heart.enums import *"
   ]
  },
  {
   "cell_type": "code",
   "execution_count": null,
   "metadata": {},
   "outputs": [],
   "source": [
    "lv = LV.from_pyvista_read(\"../sample_files/lvtetmesh.vtk\")\n",
    "# lv.smooth_surface(n_iter=500)\n",
    "lv.identify_surfaces(\n",
    "  endo_epi_args=dict(threshold=90.0),\n",
    "  apex_base_args=dict(ab_ql=0.04, ab_qh=0.69),\n",
    "  aortic_mitral_args=dict(a1=0.4,\n",
    "                          a2=0.5,\n",
    "                          a3=0.3,\n",
    "                          a4=75,\n",
    "                          a5=130,\n",
    "                          \n",
    "                          m1=0.17,\n",
    "                          m2=0.02,\n",
    "                          m3=0.07,\n",
    "                          m4=0.333\n",
    "                          )\n",
    ")\n",
    "lv.plot(\"surface\", scalars=LV_MESH_DATA.SURFS_DETAILED.value,\n",
    "        cmap=\"tab20_r\")"
   ]
  },
  {
   "cell_type": "code",
   "execution_count": null,
   "metadata": {},
   "outputs": [],
   "source": [
    "lv.compute_fibers(surfRegionsIds=LV_FIBER_MODES.LDRB_1,\n",
    "                    fiber_space=\"P_1\",\n",
    "                    alpha_endo_lv=60,  # Fiber angle on the endocardium\n",
    "                    alpha_epi_lv=-60,  # Fiber angle on the epicardium\n",
    "                    beta_endo_lv=0,  # Sheet angle on the endocardium\n",
    "                    beta_epi_lv=0,  # Sheet angle on the epicardium\n",
    "                    markers={},\n",
    "                    ldrb_kwargs={},\n",
    "                    save_xdmfs=False,\n",
    "                    xdmfs_dir=None,\n",
    "                    xdmfs_basename=None,\n",
    "                    del_generated_files=True,\n",
    "                    )"
   ]
  },
  {
   "cell_type": "code",
   "execution_count": null,
   "metadata": {},
   "outputs": [],
   "source": [
    "lv.mesh.save(\"../sample_files/lvtetmesh_fibers_LDRB_1.vtk\")"
   ]
  },
  {
   "cell_type": "code",
   "execution_count": null,
   "metadata": {},
   "outputs": [],
   "source": [
    "from project_heart.utils.vector_utils import *\n",
    "fibers = lv.mesh.point_data[LV_FIBERS.F0.value]\n",
    "normal_vec = np.repeat(np.expand_dims(lv.get_normal(),1),len(fibers), axis=1).T\n",
    "angles = angle_between(fibers, normal_vec, check_orientation=False) - np.pi*0.5\n",
    "angles = np.degrees(angles)\n",
    "lv.mesh.point_data[\"FIBER_ANGLES\"] = angles"
   ]
  },
  {
   "cell_type": "code",
   "execution_count": null,
   "metadata": {},
   "outputs": [],
   "source": [
    "seed_mesh = lv.mesh.decimate_boundary(0.95)\n",
    "seed_mesh"
   ]
  },
  {
   "cell_type": "code",
   "execution_count": null,
   "metadata": {},
   "outputs": [],
   "source": [
    "stream = lv.mesh.streamlines_from_source(seed_mesh, \n",
    "                                         vectors=LV_FIBERS.F0.value,\n",
    "                                        #  surface_streamlines=True,\n",
    "                                         max_steps=2000,\n",
    "                                         terminal_speed=0.0,\n",
    "                                         integration_direction=\"both\",\n",
    "                                         )\n",
    "stream"
   ]
  },
  {
   "cell_type": "code",
   "execution_count": null,
   "metadata": {},
   "outputs": [],
   "source": [
    "p = pv.Plotter()\n",
    "p.enable_anti_aliasing()\n",
    "p.enable_shadows()\n",
    "p.background_color = 'w'\n",
    "# p.add_mesh(lv.mesh, color=\"beige\")\n",
    "p.add_mesh(stream, scalars=\"FIBER_ANGLES\", lighting=False)\n",
    "p.show()"
   ]
  }
 ],
 "metadata": {
  "interpreter": {
   "hash": "fd53b0e241fb980e32739634cee5dd98f400067d1ffded0db49124dd35b5b187"
  },
  "kernelspec": {
   "display_name": "Python 3.9.11 (conda)",
   "language": "python",
   "name": "python3"
  },
  "language_info": {
   "codemirror_mode": {
    "name": "ipython",
    "version": 3
   },
   "file_extension": ".py",
   "mimetype": "text/x-python",
   "name": "python",
   "nbconvert_exporter": "python",
   "pygments_lexer": "ipython3",
   "version": "3.9.7"
  },
  "orig_nbformat": 4
 },
 "nbformat": 4,
 "nbformat_minor": 2
}
