{
 "cells": [
  {
   "cell_type": "code",
   "execution_count": 1,
   "metadata": {},
   "outputs": [],
   "source": [
    "from project_heart.lv import LV\n",
    "import numpy as np\n",
    "import pyvista as pv\n",
    "pv.set_jupyter_backend(\"pythreejs\")\n",
    "\n",
    "import os\n",
    "from pathlib import Path\n",
    "\n",
    "from project_heart.enums import *"
   ]
  },
  {
   "cell_type": "code",
   "execution_count": 2,
   "metadata": {},
   "outputs": [],
   "source": [
    "filepath = Path(\"../sample_files/lvtetmesh_coarse_fibers_LDRB_1.vtk\") \n",
    "lv = LV.from_pyvista_read(filepath)"
   ]
  },
  {
   "cell_type": "code",
   "execution_count": 3,
   "metadata": {},
   "outputs": [],
   "source": [
    "lv.create_nodesets_from_regions(mesh_data=LV_MESH_DATA.APEX_BASE_REGIONS, overwrite=False)\n",
    "lv.create_nodesets_from_regions(mesh_data=LV_MESH_DATA.EPI_ENDO, overwrite=False)\n",
    "lv.create_nodesets_from_regions(mesh_data=LV_MESH_DATA.SURFS, overwrite=False)\n",
    "lv.create_nodesets_from_regions(mesh_data=LV_MESH_DATA.AM_SURFS, overwrite=False)\n",
    "lv.create_nodesets_from_regions(mesh_data=LV_MESH_DATA.SURFS_DETAILED, overwrite=False)"
   ]
  },
  {
   "cell_type": "code",
   "execution_count": 4,
   "metadata": {},
   "outputs": [],
   "source": [
    "s = lv.create_surface_oi_from_surface(LV_MESH_DATA.SURFS_DETAILED)"
   ]
  },
  {
   "cell_type": "code",
   "execution_count": 5,
   "metadata": {},
   "outputs": [],
   "source": [
    "lv.set_aortic_info()\n",
    "lv.set_mitral_info()"
   ]
  },
  {
   "cell_type": "code",
   "execution_count": 6,
   "metadata": {},
   "outputs": [],
   "source": [
    "aortic_bc = lv.create_spring_rim_bc(\"AORTIC_BC\", LV_SURFS.BORDER_AORTIC)\n",
    "mitral_bc = lv.create_spring_rim_bc(\"MITRAL_BC\", LV_SURFS.BORDER_MITRAL)"
   ]
  },
  {
   "cell_type": "code",
   "execution_count": 7,
   "metadata": {},
   "outputs": [],
   "source": [
    "# lv.to_json(\"sample_lvhex_wfibers.json\", \n",
    "#            nodeset_enums=[LV_SURFS],\n",
    "#            surfaces_oi_enums=[LV_SURFS],\n",
    "#            mesh_cell_data=[LV_FIBERS.F0.value, LV_FIBERS.S0.value, LV_FIBERS.N0.value])"
   ]
  },
  {
   "cell_type": "code",
   "execution_count": 8,
   "metadata": {},
   "outputs": [],
   "source": [
    "N_NODES = lv.mesh.n_points\n",
    "N_NODES_AORTIC = len(lv.get_bc(\"AORTIC_BC\")[1][\"RIM_NODES\"])"
   ]
  },
  {
   "cell_type": "code",
   "execution_count": 9,
   "metadata": {},
   "outputs": [],
   "source": [
    "adjusted_discrete_sets = {}\n",
    "to_adj = N_NODES\n",
    "for key, values in lv._discrete_sets.items():\n",
    "  adj_vals = np.copy(values) + 1\n",
    "  adj_vals[:, 1] += to_adj\n",
    "  adjusted_discrete_sets[key] = adj_vals\n",
    "  to_adj += len(lv.get_bc(key)[1][\"RIM_NODES\"]) # account for nodes"
   ]
  },
  {
   "cell_type": "code",
   "execution_count": 10,
   "metadata": {},
   "outputs": [
    {
     "data": {
      "text/plain": [
       "FEBio_feb:\n",
       "-> Module: 0\n",
       "-> Control: 19\n",
       "-> Material: 2\n",
       "--> material 'Holzapfel_Ogden_PAQ': 13\n",
       "--> material 'rigid body': 2\n",
       "-> Globals: 1\n",
       "-> Boundary: 1\n",
       "-> Loads: 1\n",
       "-> Discrete: 2\n",
       "-> LoadData: 3\n",
       "-> Output: 1\n",
       "-> MeshData: 0"
      ]
     },
     "execution_count": 10,
     "metadata": {},
     "output_type": "execute_result"
    }
   ],
   "source": [
    "from febio_python.feb import FEBio_feb\n",
    "# ----------------------\n",
    "# Read template file\n",
    "feb_template_path = Path(\"../sample_files/sample_lv_template.feb\")\n",
    "feb = FEBio_feb.from_file(feb_template_path)\n",
    "feb"
   ]
  },
  {
   "cell_type": "code",
   "execution_count": 11,
   "metadata": {},
   "outputs": [
    {
     "data": {
      "text/plain": [
       "FEBio_feb:\n",
       "-> Module: 0\n",
       "-> Control: 19\n",
       "-> Material: 2\n",
       "--> material 'Holzapfel_Ogden_PAQ': 13\n",
       "--> material 'rigid body': 2\n",
       "-> Globals: 1\n",
       "-> Geometry: 24\n",
       "--> Nodes 'LV': 64452\n",
       "--> Nodes 'AORTIC_RIM': 128\n",
       "--> Nodes 'MITRAL_RIM': 128\n",
       "--> Elements 'LV': 218359\n",
       "--> Elements 'AORTIC_RIM_ELEMS': 63\n",
       "--> Elements 'MITRAL_RIM_ELEMS': 63\n",
       "-> Boundary: 1\n",
       "-> Loads: 1\n",
       "-> Discrete: 3\n",
       "-> LoadData: 3\n",
       "-> Output: 1\n",
       "-> MeshData: 1"
      ]
     },
     "execution_count": 11,
     "metadata": {},
     "output_type": "execute_result"
    }
   ],
   "source": [
    "# ----------------------\n",
    "# Add Nodes\n",
    "feb.add_nodes([\n",
    "  {\"name\": \"LV\", \n",
    "   \"nodes\": np.round(lv.nodes(), 4),\n",
    "   },\n",
    "  {\"name\": \"AORTIC_RIM\", \n",
    "   \"nodes\": np.round(lv.get_bc(\"AORTIC_BC\")[1][\"RIM_NODES\"], 4)\n",
    "   },\n",
    "  {\"name\": \"MITRAL_RIM\", \n",
    "   \"nodes\": np.round(lv.get_bc(\"MITRAL_BC\")[1][\"RIM_NODES\"], 4)\n",
    "   },\n",
    "  ])\n",
    "\n",
    "# ----------------------\n",
    "# Add Elements\n",
    "feb.add_elements([\n",
    "  {\n",
    "    \"name\": \"LV\", \n",
    "    \"type\": \"tet4\",\n",
    "    \"mat\": \"1\",\n",
    "    \"elems\": lv.cells(VTK_ELEMENTS.TETRA) + 1\n",
    "    },\n",
    "  {\n",
    "    \"name\": \"AORTIC_RIM_ELEMS\", \n",
    "    \"type\": \"quad4\",\n",
    "    \"mat\": \"2\",\n",
    "    \"elems\": aortic_bc[LV_RIM.ELEMENTS.value] + N_NODES + 1 # adjust element ids\n",
    "    },\n",
    "  {\n",
    "    \"name\": \"MITRAL_RIM_ELEMS\", \n",
    "    \"type\": \"quad4\",\n",
    "    \"mat\": \"2\",\n",
    "    \"elems\": mitral_bc[LV_RIM.ELEMENTS.value] + N_NODES + N_NODES_AORTIC + 1 # adjust element ids\n",
    "    }\n",
    "  ])\n",
    "\n",
    "# ----------------------\n",
    "# Add Nodesets\n",
    "feb.add_nodesets(lv.get_nodesets_from_enum(LV_SURFS))\n",
    "\n",
    "# ----------------------\n",
    "# Add Surfaces\n",
    "feb.add_surfaces({\"ENDO\": np.vstack(lv.get_surface_oi(LV_SURFS.ENDO)) + 1})\n",
    "\n",
    "# ----------------------\n",
    "# Add Discrete set\n",
    "feb.add_discretesets(\n",
    "  {\"AORTIC_RIM_ELEMS\": adjusted_discrete_sets[\"AORTIC_BC\"],\n",
    "   \"MITRAL_RIM_ELEMS\": adjusted_discrete_sets[\"MITRAL_BC\"]}\n",
    "  )\n",
    "\n",
    "# modify existing discrete_set name from template\n",
    "discrete = feb.discrete()\n",
    "discrete.find(\"discrete\").attrib[\"discrete_set\"] = \"AORTIC_RIM_ELEMS\"\n",
    "\n",
    "# add new 'discrete element to template\n",
    "import xml.etree.ElementTree as ET\n",
    "subel = ET.SubElement(discrete, \"discrete\")\n",
    "subel.set(\"discrete_set\",\"MITRAL_RIM_ELEMS\")\n",
    "subel.set(\"dmat\",\"1\")\n",
    "\n",
    "# ----------------------\n",
    "# Add fibers\n",
    "feb.add_meshdata([\n",
    "  {\n",
    "    \"elem_set\": \"LV\", \n",
    "    \"var\": \"mat_axis\",\n",
    "    \"elems\": {\n",
    "      \"a\": lv.get(GEO_DATA.MESH_CELL_DATA, LV_FIBERS.F0),\n",
    "      \"d\": lv.get(GEO_DATA.MESH_CELL_DATA, LV_FIBERS.S0),\n",
    "      }\n",
    "    }\n",
    "  ])\n",
    "\n",
    "# ----------------------\n",
    "# Check modified feb object\n",
    "feb"
   ]
  },
  {
   "cell_type": "code",
   "execution_count": 12,
   "metadata": {},
   "outputs": [],
   "source": [
    "# ----------------------\n",
    "# Save\n",
    "feb.write(\"../sample_files/sample_lv_template_mod.feb\")"
   ]
  }
 ],
 "metadata": {
  "interpreter": {
   "hash": "0ae1276936e32d1c86df8db6f3cf7470193c57b148400d4ba3b6a1ab5cfdd10f"
  },
  "kernelspec": {
   "display_name": "Python 3.9.7 (conda)",
   "language": "python",
   "name": "python3"
  },
  "language_info": {
   "codemirror_mode": {
    "name": "ipython",
    "version": 3
   },
   "file_extension": ".py",
   "mimetype": "text/x-python",
   "name": "python",
   "nbconvert_exporter": "python",
   "pygments_lexer": "ipython3",
   "version": "3.9.7"
  },
  "orig_nbformat": 4
 },
 "nbformat": 4,
 "nbformat_minor": 2
}
