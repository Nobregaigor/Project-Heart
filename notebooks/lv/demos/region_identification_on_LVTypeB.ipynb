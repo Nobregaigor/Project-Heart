{
 "cells": [
  {
   "cell_type": "code",
   "execution_count": 1,
   "metadata": {},
   "outputs": [],
   "source": [
    "from project_heart.lv import LV\n",
    "import numpy as np\n",
    "import pyvista as pv\n",
    "pv.set_jupyter_backend(\"pythreejs\")\n",
    "\n",
    "import os\n",
    "from pathlib import Path"
   ]
  },
  {
   "cell_type": "code",
   "execution_count": 2,
   "metadata": {},
   "outputs": [],
   "source": [
    "from project_heart.enums import *"
   ]
  },
  {
   "cell_type": "code",
   "execution_count": 3,
   "metadata": {},
   "outputs": [
    {
     "data": {
      "application/vnd.jupyter.widget-view+json": {
       "model_id": "d1dd5dbc1bb34ab4a4f68b3cca9abf8a",
       "version_major": 2,
       "version_minor": 0
      },
      "text/plain": [
       "Renderer(camera=PerspectiveCamera(aspect=1.3333333333333333, children=(DirectionalLight(color='#fefefe', posit…"
      ]
     },
     "metadata": {},
     "output_type": "display_data"
    }
   ],
   "source": [
    "filepath = Path(\"../sample_files/lvhexmesh.vtk\")\n",
    "lv = LV.from_pyvista_read(filepath)\n",
    "lv.plot(show_edges=True)"
   ]
  },
  {
   "cell_type": "code",
   "execution_count": 4,
   "metadata": {},
   "outputs": [],
   "source": [
    "lv.identify_regions(LV_GEO_TYPES.TYPE_B,\n",
    "  apex_base_args=dict(ab_ql=0.04, ab_qh=0.69),\n",
    "  endo_epi_args=dict(threshold=90.0),\n",
    "  aortic_mitral_args=dict(a1=0.4,\n",
    "                          a2=0.5,\n",
    "                          a3=0.3,\n",
    "                          a4=75,\n",
    "                          a5=130,\n",
    "                          \n",
    "                          m1=0.17,\n",
    "                          m2=0.02,\n",
    "                          m3=0.07,\n",
    "                          m4=0.333\n",
    "                          )\n",
    ")"
   ]
  },
  {
   "cell_type": "code",
   "execution_count": 6,
   "metadata": {},
   "outputs": [
    {
     "data": {
      "application/vnd.jupyter.widget-view+json": {
       "model_id": "a525288881a14c39a25c3b00a6316490",
       "version_major": 2,
       "version_minor": 0
      },
      "text/plain": [
       "Renderer(camera=PerspectiveCamera(aspect=1.3333333333333333, children=(DirectionalLight(color='#fefefe', posit…"
      ]
     },
     "metadata": {},
     "output_type": "display_data"
    }
   ],
   "source": [
    "lv.plot(\"surface\", \n",
    "        scalars=LV_MESH_DATA.SURFS.value, \n",
    "        vnodes=[\n",
    "          (LV_VIRTUAL_NODES.MITRAL, \"green\"),\n",
    "          (LV_VIRTUAL_NODES.AORTIC, \"red\"),\n",
    "          (LV_VIRTUAL_NODES.AORTIC_BORDER, \"purple\"),\n",
    "          ],\n",
    "        cmap=\"tab20_r\")"
   ]
  },
  {
   "cell_type": "code",
   "execution_count": 7,
   "metadata": {},
   "outputs": [
    {
     "data": {
      "application/vnd.jupyter.widget-view+json": {
       "model_id": "9395e06ed4fd4766b1fe0e41a1ad4126",
       "version_major": 2,
       "version_minor": 0
      },
      "text/plain": [
       "Renderer(camera=PerspectiveCamera(aspect=1.3333333333333333, children=(DirectionalLight(color='#fefefe', posit…"
      ]
     },
     "metadata": {},
     "output_type": "display_data"
    }
   ],
   "source": [
    "lv.plot(\"surface\", \n",
    "        scalars=LV_MESH_DATA.SURFS_DETAILED.value, \n",
    "        vnodes=[\n",
    "          (LV_VIRTUAL_NODES.MITRAL, \"green\"),\n",
    "          (LV_VIRTUAL_NODES.AORTIC, \"red\"),\n",
    "          (LV_VIRTUAL_NODES.AORTIC_BORDER, \"purple\"),\n",
    "          ],\n",
    "        cmap=\"tab20_r\")"
   ]
  },
  {
   "cell_type": "code",
   "execution_count": 9,
   "metadata": {},
   "outputs": [
    {
     "data": {
      "application/vnd.jupyter.widget-view+json": {
       "model_id": "afa4d5cd4a2b40359dfac765b4ca51d2",
       "version_major": 2,
       "version_minor": 0
      },
      "text/plain": [
       "Renderer(camera=PerspectiveCamera(aspect=1.3333333333333333, children=(DirectionalLight(color='#fefefe', posit…"
      ]
     },
     "metadata": {},
     "output_type": "display_data"
    }
   ],
   "source": [
    "lv.plot(\"mesh\", \n",
    "        scalars=LV_MESH_DATA.AB_ENDO_EPI.value, \n",
    "        categorical=True,\n",
    "        cmap=\"Set2_r\")"
   ]
  },
  {
   "cell_type": "code",
   "execution_count": 10,
   "metadata": {},
   "outputs": [
    {
     "data": {
      "application/vnd.jupyter.widget-view+json": {
       "model_id": "d91c53f28c384a6db9ccbdbfa8090bf6",
       "version_major": 2,
       "version_minor": 0
      },
      "text/plain": [
       "Renderer(camera=PerspectiveCamera(aspect=1.3333333333333333, children=(DirectionalLight(color='#fefefe', posit…"
      ]
     },
     "metadata": {},
     "output_type": "display_data"
    }
   ],
   "source": [
    "lv.plot(\"mesh\", \n",
    "        scalars=LV_MESH_DATA.EPI_ENDO.value, \n",
    "        cmap=\"Set2_r\")"
   ]
  },
  {
   "cell_type": "code",
   "execution_count": 11,
   "metadata": {},
   "outputs": [
    {
     "data": {
      "application/vnd.jupyter.widget-view+json": {
       "model_id": "d7657baba3f545f9bc848cf7521f57d3",
       "version_major": 2,
       "version_minor": 0
      },
      "text/plain": [
       "Renderer(camera=PerspectiveCamera(aspect=1.3333333333333333, children=(DirectionalLight(color='#fefefe', posit…"
      ]
     },
     "metadata": {},
     "output_type": "display_data"
    }
   ],
   "source": [
    "lv.plot(\"mesh\", \n",
    "        scalars=LV_MESH_DATA.AM_EPI_ENDO.value, \n",
    "        categorical=True,\n",
    "        cmap=\"Set2\")"
   ]
  },
  {
   "cell_type": "markdown",
   "metadata": {},
   "source": [
    "Testing point data to cell data transformation:"
   ]
  },
  {
   "cell_type": "code",
   "execution_count": 12,
   "metadata": {},
   "outputs": [],
   "source": [
    "cellCat = lv.transform_point_data_to_cell_data(LV_MESH_DATA.AM_EPI_ENDO.value)"
   ]
  },
  {
   "cell_type": "code",
   "execution_count": 13,
   "metadata": {},
   "outputs": [],
   "source": [
    "lv.mesh.cell_data[\"TESTCAT\"] = cellCat"
   ]
  },
  {
   "cell_type": "code",
   "execution_count": 17,
   "metadata": {},
   "outputs": [
    {
     "data": {
      "application/vnd.jupyter.widget-view+json": {
       "model_id": "17683b76de744a1982696b4bb5464093",
       "version_major": 2,
       "version_minor": 0
      },
      "text/plain": [
       "Renderer(camera=PerspectiveCamera(aspect=1.3333333333333333, children=(DirectionalLight(color='#fefefe', posit…"
      ]
     },
     "metadata": {},
     "output_type": "display_data"
    }
   ],
   "source": [
    "lv.plot(\"mesh\",\n",
    "        scalars=\"TESTCAT\", \n",
    "        container=\"cells\",\n",
    "        categorical=True,\n",
    "        cmap=\"Set2\")"
   ]
  },
  {
   "cell_type": "markdown",
   "metadata": {},
   "source": [
    "Testing nodesets"
   ]
  },
  {
   "cell_type": "code",
   "execution_count": 18,
   "metadata": {},
   "outputs": [
    {
     "data": {
      "application/vnd.jupyter.widget-view+json": {
       "model_id": "d6ff507c655f4724bc4fcbd9eb1a321c",
       "version_major": 2,
       "version_minor": 0
      },
      "text/plain": [
       "Renderer(camera=PerspectiveCamera(aspect=1.3333333333333333, children=(DirectionalLight(color='#fefefe', posit…"
      ]
     },
     "metadata": {},
     "output_type": "display_data"
    }
   ],
   "source": [
    "APEX = lv.get_nodeset(LV_SURFS.APEX_REGION)\n",
    "BASE = lv.get_nodeset(LV_SURFS.BASE_REGION)\n",
    "APEX_BASE = np.zeros(lv.mesh.n_points)\n",
    "APEX_BASE[APEX] = LV_SURFS.APEX_REGION\n",
    "APEX_BASE[BASE] = LV_SURFS.BASE_REGION\n",
    "\n",
    "lv.mesh.point_data[\"APEX_BASE_TEST\"] = APEX_BASE\n",
    "lv.plot(scalars=\"APEX_BASE_TEST\")"
   ]
  },
  {
   "cell_type": "code",
   "execution_count": 19,
   "metadata": {},
   "outputs": [
    {
     "data": {
      "application/vnd.jupyter.widget-view+json": {
       "model_id": "def1f8089ecc47378ff55ee85f3612e7",
       "version_major": 2,
       "version_minor": 0
      },
      "text/plain": [
       "Renderer(camera=PerspectiveCamera(aspect=1.3333333333333333, children=(DirectionalLight(color='#fefefe', posit…"
      ]
     },
     "metadata": {},
     "output_type": "display_data"
    }
   ],
   "source": [
    "endo = lv.get_nodeset(LV_SURFS.ENDO)\n",
    "epi = lv.get_nodeset(LV_SURFS.EPI)\n",
    "endo_epi = np.zeros(lv.mesh.n_points)\n",
    "endo_epi[endo] = LV_SURFS.ENDO\n",
    "endo_epi[epi] = LV_SURFS.EPI\n",
    "\n",
    "lv.mesh.point_data[\"ENDO_EPI_TEST\"] = endo_epi\n",
    "lv.plot(scalars=\"ENDO_EPI_TEST\", cmap=\"jet\")"
   ]
  },
  {
   "cell_type": "code",
   "execution_count": 20,
   "metadata": {},
   "outputs": [
    {
     "data": {
      "application/vnd.jupyter.widget-view+json": {
       "model_id": "cd7277b1740d4b9fbb53dce1bf10182e",
       "version_major": 2,
       "version_minor": 0
      },
      "text/plain": [
       "Renderer(camera=PerspectiveCamera(aspect=1.3333333333333333, children=(DirectionalLight(color='#fefefe', posit…"
      ]
     },
     "metadata": {},
     "output_type": "display_data"
    }
   ],
   "source": [
    "endo = lv.get_nodeset(LV_SURFS.ENDO)\n",
    "epi = lv.get_nodeset(LV_SURFS.EPI)\n",
    "mitral = lv.get_nodeset(LV_SURFS.MITRAL)\n",
    "aortic = lv.get_nodeset(LV_SURFS.AORTIC)\n",
    "\n",
    "test_regions = np.zeros(lv.mesh.n_points)\n",
    "test_regions[endo] = LV_SURFS.ENDO\n",
    "test_regions[epi] = LV_SURFS.EPI\n",
    "test_regions[mitral] = LV_SURFS.MITRAL\n",
    "test_regions[aortic] = LV_SURFS.AORTIC\n",
    "\n",
    "lv.mesh.point_data[\"TEST\"] = test_regions\n",
    "lv.plot(scalars=\"TEST\")"
   ]
  },
  {
   "cell_type": "code",
   "execution_count": 21,
   "metadata": {},
   "outputs": [
    {
     "data": {
      "application/vnd.jupyter.widget-view+json": {
       "model_id": "15e58b588d9b4d72a88fa74c19b75f3b",
       "version_major": 2,
       "version_minor": 0
      },
      "text/plain": [
       "Renderer(camera=PerspectiveCamera(aspect=1.3333333333333333, children=(DirectionalLight(color='#fefefe', posit…"
      ]
     },
     "metadata": {},
     "output_type": "display_data"
    }
   ],
   "source": [
    "endo = lv.get_nodeset(LV_SURFS.ENDO)\n",
    "epi = lv.get_nodeset(LV_SURFS.EPI)\n",
    "mitral = np.union1d(lv.get_nodeset(LV_SURFS.EPI_MITRAL), lv.get_nodeset(LV_SURFS.BORDER_MITRAL))\n",
    "aortic = lv.get_nodeset(LV_SURFS.BORDER_AORTIC)\n",
    "\n",
    "test_regions = np.zeros(lv.mesh.n_points)\n",
    "test_regions[endo] = LV_SURFS.ENDO\n",
    "test_regions[epi] = LV_SURFS.EPI\n",
    "test_regions[mitral] = LV_SURFS.MITRAL\n",
    "test_regions[aortic] = LV_SURFS.AORTIC\n",
    "\n",
    "lv.mesh.point_data[\"TEST\"] = test_regions\n",
    "lv.plot(scalars=\"TEST\")"
   ]
  },
  {
   "cell_type": "markdown",
   "metadata": {},
   "source": [
    "Testing Fiber modes (for surface identification)"
   ]
  },
  {
   "cell_type": "code",
   "execution_count": null,
   "metadata": {},
   "outputs": [],
   "source": [
    "lv.identify_fibers_region_ids_ldrb(LV_FIBER_MODES.LDRB_1)\n",
    "# lv.plot(scalars=LV_MESH_DATA.LDRB_1)"
   ]
  },
  {
   "cell_type": "code",
   "execution_count": null,
   "metadata": {},
   "outputs": [],
   "source": [
    "lv.plot(scalars=LV_MESH_DATA.LDRB_1.value, cmap=\"hsv\")"
   ]
  }
 ],
 "metadata": {
  "interpreter": {
   "hash": "364647f439eeb51cea9fa1ad47f7b03a5a9ed5157a0ffe2dd43bcec2d09df37e"
  },
  "kernelspec": {
   "display_name": "Python 3.9.7 (conda)",
   "language": "python",
   "name": "python3"
  },
  "language_info": {
   "codemirror_mode": {
    "name": "ipython",
    "version": 3
   },
   "file_extension": ".py",
   "mimetype": "text/x-python",
   "name": "python",
   "nbconvert_exporter": "python",
   "pygments_lexer": "ipython3",
   "version": "3.9.7"
  },
  "orig_nbformat": 4
 },
 "nbformat": 4,
 "nbformat_minor": 2
}
