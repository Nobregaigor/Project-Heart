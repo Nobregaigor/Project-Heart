{
 "cells": [
  {
   "cell_type": "code",
   "execution_count": 1,
   "metadata": {},
   "outputs": [],
   "source": [
    "from project_heart.lv import LV\n",
    "import numpy as np\n",
    "import pyvista as pv\n",
    "pv.set_jupyter_backend(\"pythreejs\")\n",
    "\n",
    "import os\n",
    "from pathlib import Path\n",
    "\n",
    "from project_heart.enums import *"
   ]
  },
  {
   "cell_type": "code",
   "execution_count": 2,
   "metadata": {},
   "outputs": [],
   "source": [
    "filepath = Path(\"../sample_files/lvhexmesh_tetcoarse_counterpart.vtk\") \n",
    "lv_src = LV.from_pyvista_read(filepath)\n",
    "\n",
    "filepath = Path(\"../sample_files/lvhexmesh.vtk\") \n",
    "lv_dst = LV.from_pyvista_read(filepath)"
   ]
  },
  {
   "cell_type": "code",
   "execution_count": 3,
   "metadata": {},
   "outputs": [
    {
     "data": {
      "text/plain": [
       "array([[ 0.43886904,  0.10513486, -0.75441977, ...,  0.82954629,\n",
       "         0.61503242,  0.25418621],\n",
       "       [ 0.43139718,  0.09499354, -0.76966754, ...,  0.83518818,\n",
       "         0.60649865,  0.25256657],\n",
       "       [ 0.42034247,  0.07767571, -0.76396612, ...,  0.84006871,\n",
       "         0.58605747,  0.27385875],\n",
       "       ...,\n",
       "       [-0.09207854,  0.8780734 ,  0.23944282, ...,  0.98643163,\n",
       "         0.1524878 ,  0.21644519],\n",
       "       [-0.12218167,  0.90697469,  0.29468731, ...,  0.97764961,\n",
       "         0.19295096,  0.24549067],\n",
       "       [-0.10751708,  0.90822017,  0.28592666, ...,  0.97611477,\n",
       "         0.18871169,  0.25472679]])"
      ]
     },
     "execution_count": 3,
     "metadata": {},
     "output_type": "execute_result"
    }
   ],
   "source": [
    "lv_dst.regress_fibers(lv_src)"
   ]
  },
  {
   "cell_type": "code",
   "execution_count": 4,
   "metadata": {},
   "outputs": [],
   "source": [
    "lv_dst.compute_fiber_angles()"
   ]
  },
  {
   "cell_type": "code",
   "execution_count": 5,
   "metadata": {},
   "outputs": [
    {
     "data": {
      "application/vnd.jupyter.widget-view+json": {
       "model_id": "3621b062e742454ea34ef82bb8cfb44e",
       "version_major": 2,
       "version_minor": 0
      },
      "text/plain": [
       "Renderer(camera=PerspectiveCamera(aspect=1.3333333333333333, children=(DirectionalLight(color='#fefefe', inten…"
      ]
     },
     "metadata": {},
     "output_type": "display_data"
    }
   ],
   "source": [
    "lv_dst.plot_streamlines(LV_FIBERS.F0, scalars=LV_FIBERS.F0_ANGLES, decimate_boundary=0.8)"
   ]
  },
  {
   "cell_type": "code",
   "execution_count": 4,
   "metadata": {},
   "outputs": [
    {
     "data": {
      "text/plain": [
       "array([[ 0.36349216, -0.13751394, -0.92139208, ...,  0.7643902 ,\n",
       "         0.60938722,  0.2106059 ],\n",
       "       [ 0.36065748, -0.13563121, -0.92278403, ...,  0.76554145,\n",
       "         0.60821707,  0.20980536],\n",
       "       [ 0.3615074 , -0.12937113, -0.92335016, ...,  0.771975  ,\n",
       "         0.59687785,  0.21861253],\n",
       "       ...,\n",
       "       [-0.23657123,  0.92997088,  0.27966766, ...,  0.96735052,\n",
       "         0.19929231,  0.15445711],\n",
       "       [-0.25424458,  0.92125816,  0.29111517, ...,  0.9639329 ,\n",
       "         0.21763387,  0.15194692],\n",
       "       [-0.25036823,  0.91332002,  0.3210328 , ...,  0.96447344,\n",
       "         0.20681805,  0.16338385]])"
      ]
     },
     "execution_count": 4,
     "metadata": {},
     "output_type": "execute_result"
    }
   ],
   "source": [
    "lv_dst.mesh.clear_data()\n",
    "to_interpolate = [LV_FIBERS.F0, LV_FIBERS.S0, LV_FIBERS.N0]\n",
    "lv_dst.interpolate_from_other(lv_src, to_interpolate)"
   ]
  },
  {
   "cell_type": "markdown",
   "metadata": {},
   "source": [
    "This is a wrapper function for `BaseContainerHandler.regress_from_other`. You can use the original \n",
    "function to apply regression for any data, as long as it is contained within point data or \n",
    "surface point data. Here are some examples of using the base class methods:"
   ]
  },
  {
   "cell_type": "code",
   "execution_count": 6,
   "metadata": {},
   "outputs": [
    {
     "data": {
      "text/plain": [
       "array([[ 0.40326165,  0.10814094, -0.97555977, ...,  0.81008734,\n",
       "         0.62364644,  0.22765032],\n",
       "       [ 0.390982  ,  0.10858489, -0.97509915, ...,  0.81656445,\n",
       "         0.61600243,  0.22144821],\n",
       "       [ 0.38793087,  0.12357976, -0.97620715, ...,  0.82328713,\n",
       "         0.6056907 ,  0.23124522],\n",
       "       ...,\n",
       "       [-0.31239877,  0.9756613 ,  0.22187011, ...,  1.03946484,\n",
       "         0.20630184,  0.16023695],\n",
       "       [-0.28181947,  1.11296013,  0.10598739, ...,  0.99408333,\n",
       "         0.28398012,  0.16482965],\n",
       "       [-0.26760834,  1.10557012,  0.11165132, ...,  0.99651702,\n",
       "         0.26367675,  0.18271339]])"
      ]
     },
     "execution_count": 6,
     "metadata": {},
     "output_type": "execute_result"
    }
   ],
   "source": [
    "lv_dst.mesh.clear_data()\n",
    "to_regress = [LV_FIBERS.F0, LV_FIBERS.S0, LV_FIBERS.N0]\n",
    "lv_dst.regress_from_other(lv_src, to_regress)"
   ]
  },
  {
   "cell_type": "markdown",
   "metadata": {},
   "source": [
    "This next function we use the dst points data to regress, but we do not save at dst. It can be used to retrieve the information for some other computation."
   ]
  },
  {
   "cell_type": "code",
   "execution_count": 10,
   "metadata": {},
   "outputs": [
    {
     "data": {
      "text/plain": [
       "array([[ 0.39548439, -0.01185109, -0.73374947, ...,  0.79353135,\n",
       "         0.55079753,  0.23242569],\n",
       "       [ 0.35957941, -0.0275633 , -0.74012844, ...,  0.78753874,\n",
       "         0.5640139 ,  0.23773385],\n",
       "       [ 0.35333572, -0.01142629, -0.73039632, ...,  0.78477817,\n",
       "         0.55304618,  0.24816431],\n",
       "       ...,\n",
       "       [-0.25224734,  1.08792315,  0.32901435, ...,  1.02319488,\n",
       "         0.16530295,  0.12192879],\n",
       "       [-0.23687494,  1.08474813,  0.27489544, ...,  1.03319214,\n",
       "         0.22598994,  0.19100559],\n",
       "       [-0.22066221,  1.05288314,  0.27043153, ...,  1.02583224,\n",
       "         0.19841178,  0.20474248]])"
      ]
     },
     "execution_count": 10,
     "metadata": {},
     "output_type": "execute_result"
    }
   ],
   "source": [
    "lv_dst.mesh.clear_data()\n",
    "to_regress = [LV_FIBERS.F0, LV_FIBERS.S0, LV_FIBERS.N0]\n",
    "lv_src.regress_from_data(to_regress, lv_dst.points())"
   ]
  },
  {
   "cell_type": "markdown",
   "metadata": {},
   "source": [
    "The following function applies the same logic from the previous, but allows for more control over what data is being regressed, as it does not need to be contained within object"
   ]
  },
  {
   "cell_type": "code",
   "execution_count": 11,
   "metadata": {},
   "outputs": [
    {
     "data": {
      "text/plain": [
       "array([[ 0.39635992, -0.21371164, -0.94981597, ...,  0.75609197,\n",
       "         0.58704421,  0.17223183],\n",
       "       [ 0.39585914, -0.21099326, -0.957215  , ...,  0.75970935,\n",
       "         0.57984036,  0.17306648],\n",
       "       [ 0.41189041, -0.20589557, -0.92923353, ...,  0.76535192,\n",
       "         0.55973918,  0.18083946],\n",
       "       ...,\n",
       "       [-0.14938604,  0.91576233,  0.41052007, ...,  1.00624966,\n",
       "         0.14896948,  0.1586617 ],\n",
       "       [-0.22322436,  1.00423862,  0.2532364 , ...,  0.97127518,\n",
       "         0.22951673,  0.17420497],\n",
       "       [-0.23008209,  0.99679561,  0.28125357, ...,  0.97353358,\n",
       "         0.20280966,  0.20498284]])"
      ]
     },
     "execution_count": 11,
     "metadata": {},
     "output_type": "execute_result"
    }
   ],
   "source": [
    "lv_dst.mesh.clear_data()\n",
    "to_regress = [LV_FIBERS.F0, LV_FIBERS.S0, LV_FIBERS.N0]\n",
    "data = lv_src.get(GEO_DATA.MESH_POINT_DATA, to_regress)\n",
    "lv_src.regress_from_array(data, lv_dst.points())"
   ]
  },
  {
   "cell_type": "markdown",
   "metadata": {},
   "source": [
    "For more details on how the regression is performed, check `BaseContainerHandler.regress`"
   ]
  }
 ],
 "metadata": {
  "interpreter": {
   "hash": "0ae1276936e32d1c86df8db6f3cf7470193c57b148400d4ba3b6a1ab5cfdd10f"
  },
  "kernelspec": {
   "display_name": "Python 3.9.7 (conda)",
   "language": "python",
   "name": "python3"
  },
  "language_info": {
   "codemirror_mode": {
    "name": "ipython",
    "version": 3
   },
   "file_extension": ".py",
   "mimetype": "text/x-python",
   "name": "python",
   "nbconvert_exporter": "python",
   "pygments_lexer": "ipython3",
   "version": "3.9.7"
  },
  "orig_nbformat": 4
 },
 "nbformat": 4,
 "nbformat_minor": 2
}
