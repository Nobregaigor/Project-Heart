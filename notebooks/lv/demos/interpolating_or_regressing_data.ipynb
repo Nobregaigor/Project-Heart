{
 "cells": [
  {
   "cell_type": "code",
   "execution_count": null,
   "metadata": {},
   "outputs": [],
   "source": [
    "from project_heart.lv import LV\n",
    "import numpy as np\n",
    "import pyvista as pv\n",
    "pv.set_jupyter_backend(\"pythreejs\")\n",
    "\n",
    "import os\n",
    "from pathlib import Path\n",
    "\n",
    "from project_heart.enums import *"
   ]
  },
  {
   "cell_type": "code",
   "execution_count": null,
   "metadata": {},
   "outputs": [],
   "source": [
    "filepath = Path(\"../sample_files/lvhexmesh_tetcoarse_counterpart.vtk\") \n",
    "lv_src = LV.from_pyvista_read(filepath)\n",
    "\n",
    "filepath = Path(\"../sample_files/lvhexmesh.vtk\") \n",
    "lv_dst = LV.from_pyvista_read(filepath)"
   ]
  },
  {
   "cell_type": "code",
   "execution_count": null,
   "metadata": {},
   "outputs": [],
   "source": [
    "lv_dst.regress_fibers(lv_src)"
   ]
  },
  {
   "cell_type": "code",
   "execution_count": null,
   "metadata": {},
   "outputs": [],
   "source": [
    "lv_dst.compute_fiber_angles()"
   ]
  },
  {
   "cell_type": "code",
   "execution_count": null,
   "metadata": {},
   "outputs": [],
   "source": [
    "lv_dst.plot_streamlines(LV_FIBERS.F0, scalars=LV_FIBERS.F0_ANGLES, decimate_boundary=0.8)"
   ]
  },
  {
   "cell_type": "code",
   "execution_count": null,
   "metadata": {},
   "outputs": [],
   "source": [
    "lv_dst.mesh.clear_data()\n",
    "to_interpolate = [LV_FIBERS.F0, LV_FIBERS.S0, LV_FIBERS.N0]\n",
    "lv_dst.interpolate_from_other(lv_src, to_interpolate)"
   ]
  },
  {
   "cell_type": "markdown",
   "metadata": {},
   "source": [
    "This is a wrapper function for `BaseContainerHandler.regress_from_other`. You can use the original \n",
    "function to apply regression for any data, as long as it is contained within point data or \n",
    "surface point data. Here are some examples of using the base class methods:"
   ]
  },
  {
   "cell_type": "code",
   "execution_count": null,
   "metadata": {},
   "outputs": [],
   "source": [
    "lv_dst.mesh.clear_data()\n",
    "to_regress = [LV_FIBERS.F0, LV_FIBERS.S0, LV_FIBERS.N0]\n",
    "lv_dst.regress_from_other(lv_src, to_regress)"
   ]
  },
  {
   "cell_type": "markdown",
   "metadata": {},
   "source": [
    "This next function we use the dst points data to regress, but we do not save at dst. It can be used to retrieve the information for some other computation."
   ]
  },
  {
   "cell_type": "code",
   "execution_count": null,
   "metadata": {},
   "outputs": [],
   "source": [
    "lv_dst.mesh.clear_data()\n",
    "to_regress = [LV_FIBERS.F0, LV_FIBERS.S0, LV_FIBERS.N0]\n",
    "lv_src.regress_from_data(to_regress, lv_dst.points())"
   ]
  },
  {
   "cell_type": "markdown",
   "metadata": {},
   "source": [
    "The following function applies the same logic from the previous, but allows for more control over what data is being regressed, as it does not need to be contained within object"
   ]
  },
  {
   "cell_type": "code",
   "execution_count": null,
   "metadata": {},
   "outputs": [],
   "source": [
    "lv_dst.mesh.clear_data()\n",
    "to_regress = [LV_FIBERS.F0, LV_FIBERS.S0, LV_FIBERS.N0]\n",
    "data = lv_src.get(GEO_DATA.MESH_POINT_DATA, to_regress)\n",
    "lv_src.regress_from_array(data, lv_dst.points())"
   ]
  },
  {
   "cell_type": "markdown",
   "metadata": {},
   "source": [
    "For more details on how the regression is performed, check `BaseContainerHandler.regress`"
   ]
  }
 ],
 "metadata": {
  "interpreter": {
   "hash": "0ae1276936e32d1c86df8db6f3cf7470193c57b148400d4ba3b6a1ab5cfdd10f"
  },
  "kernelspec": {
   "display_name": "Python 3.9.7 (conda)",
   "language": "python",
   "name": "python3"
  },
  "language_info": {
   "codemirror_mode": {
    "name": "ipython",
    "version": 3
   },
   "file_extension": ".py",
   "mimetype": "text/x-python",
   "name": "python",
   "nbconvert_exporter": "python",
   "pygments_lexer": "ipython3",
   "version": "3.9.7"
  },
  "orig_nbformat": 4
 },
 "nbformat": 4,
 "nbformat_minor": 2
}
