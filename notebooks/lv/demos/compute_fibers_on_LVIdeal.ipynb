{
 "cells": [
  {
   "cell_type": "code",
   "execution_count": null,
   "metadata": {},
   "outputs": [],
   "source": [
    "from project_heart.lv import LV\n",
    "import numpy as np\n",
    "import pyvista as pv\n",
    "pv.set_jupyter_backend(\"pythreejs\")\n",
    "\n",
    "import os\n",
    "from pathlib import Path\n",
    "\n",
    "from project_heart.enums import *"
   ]
  },
  {
   "cell_type": "code",
   "execution_count": null,
   "metadata": {},
   "outputs": [],
   "source": [
    "filepath = Path(\"../sample_files/ellipsoid_2.stl\")\n",
    "lv = LV.from_file(filepath)\n",
    "lv.tetrahedralize(backend=TETRA_BACKEND.TETGEN, quality=True, order=1, mindihedral=10, minratio=1.4, nobisect=True)\n",
    "lv.identify_regions(LV_GEO_TYPES.IDEAL)\n",
    "lv.plot(\"surface\", \n",
    "        scalars=LV_MESH_DATA.SURFS,\n",
    "        container=\"points\",\n",
    "        show_edges=True,\n",
    "        categorical=True,\n",
    "        split_sharp_edges=True,\n",
    "        smooth_shading=False,\n",
    "        pretty=False,\n",
    "        )"
   ]
  },
  {
   "cell_type": "code",
   "execution_count": null,
   "metadata": {},
   "outputs": [],
   "source": [
    "a = lv.transform_region_to_facet_data(LV_MESH_DATA.SURFS)\n",
    "lv.plot(\"surface\", \n",
    "        scalars=LV_MESH_DATA.SURFS,\n",
    "        container=\"cells\",\n",
    "        show_edges=True,\n",
    "        categorical=True,\n",
    "        split_sharp_edges=True,\n",
    "        smooth_shading=False,\n",
    "        pretty=False,\n",
    "        )"
   ]
  },
  {
   "cell_type": "code",
   "execution_count": null,
   "metadata": {},
   "outputs": [],
   "source": [
    "lv.compute_fibers(surf_region_key=LV_MESH_DATA.SURFS,\n",
    "                    fiber_space=\"P_1\",\n",
    "                    alpha_endo_lv=60,  # Fiber angle on the endocardium\n",
    "                    alpha_epi_lv=-60,  # Fiber angle on the epicardium\n",
    "                    beta_endo_lv=0,  # Sheet angle on the endocardium\n",
    "                    beta_epi_lv=0,  # Sheet angle on the epicardium\n",
    "                    markers={\n",
    "                      \"lv\": LV_SURFS.ENDO.value,\n",
    "                      \"epi\": LV_SURFS.EPI.value,\n",
    "                      \"base\": LV_SURFS.BASE.value\n",
    "                    },\n",
    "                    ldrb_kwargs={},\n",
    "                    save_xdmfs=False,\n",
    "                    xdmfs_dir=None,\n",
    "                    xdmfs_basename=None,\n",
    "                    del_generated_files=True,\n",
    "                    )"
   ]
  },
  {
   "cell_type": "code",
   "execution_count": null,
   "metadata": {},
   "outputs": [],
   "source": [
    "lv.plot_streamlines(LV_FIBERS.F0, decimate_boundary=0.1)"
   ]
  }
 ],
 "metadata": {
  "interpreter": {
   "hash": "0ae1276936e32d1c86df8db6f3cf7470193c57b148400d4ba3b6a1ab5cfdd10f"
  },
  "kernelspec": {
   "display_name": "Python 3.9.7 (conda)",
   "language": "python",
   "name": "python3"
  },
  "language_info": {
   "codemirror_mode": {
    "name": "ipython",
    "version": 3
   },
   "file_extension": ".py",
   "mimetype": "text/x-python",
   "name": "python",
   "nbconvert_exporter": "python",
   "pygments_lexer": "ipython3",
   "version": "3.9.7"
  },
  "orig_nbformat": 4
 },
 "nbformat": 4,
 "nbformat_minor": 2
}
