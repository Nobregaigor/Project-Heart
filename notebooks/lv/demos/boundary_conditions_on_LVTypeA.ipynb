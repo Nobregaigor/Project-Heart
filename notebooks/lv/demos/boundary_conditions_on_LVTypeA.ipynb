{
 "cells": [
  {
   "cell_type": "code",
   "execution_count": null,
   "metadata": {},
   "outputs": [],
   "source": [
    "import os\n",
    "from pathlib import Path\n",
    "import numpy as np\n",
    "import pyvista as pv\n",
    "# import project_heart as ph\n",
    "pv.set_jupyter_backend(\"pythreejs\")\n",
    "from project_heart.lv import LV\n",
    "from project_heart.enums import *"
   ]
  },
  {
   "cell_type": "code",
   "execution_count": null,
   "metadata": {},
   "outputs": [],
   "source": [
    "lv = LV.from_pyvista_read(\"../sample_files/lvhexmesh_typeA.vtk\")"
   ]
  },
  {
   "cell_type": "code",
   "execution_count": null,
   "metadata": {},
   "outputs": [],
   "source": [
    "lv.identify_regions(LV_GEO_TYPES.TYPE_A,\n",
    "  endo_epi_args=dict(threshold=85.0),\n",
    ")\n",
    "\n",
    "lv.plot(\"surface\", scalars=LV_MESH_DATA.SURFS, \n",
    "        vnodes=[\n",
    "          (LV_VIRTUAL_NODES.BASE, \"red\"),\n",
    "          ],\n",
    "    cmap=\"tab20_r\")"
   ]
  },
  {
   "cell_type": "code",
   "execution_count": null,
   "metadata": {},
   "outputs": [],
   "source": [
    "base_bc = lv.create_spring_rim_bc(\"BASE_BC\",\n",
    "                                    LV_SURFS.BASE,\n",
    "                                    dist_from_c=5.0,\n",
    "                                    r_alpha=0.7)"
   ]
  },
  {
   "cell_type": "code",
   "execution_count": null,
   "metadata": {},
   "outputs": [],
   "source": [
    "base_rim_string_lines = lv.get_rim_springs_for_plot(base_bc)"
   ]
  },
  {
   "cell_type": "code",
   "execution_count": null,
   "metadata": {},
   "outputs": [],
   "source": [
    "plotter = pv.Plotter(lighting='three lights')\n",
    "plotter.background_color = 'w'\n",
    "plotter.enable_anti_aliasing()\n",
    "plotter.add_points(lv.get_virtual_node(LV_VIRTUAL_NODES.BASE), color=\"red\", point_size=300)\n",
    "\n",
    "plotter.add_points(base_bc[LV_RIM.NODES.value], color=\"red\", point_size=300)\n",
    "plotter.add_points(base_bc[LV_RIM.CENTER.value], color=\"red\", point_size=300)\n",
    "\n",
    "plotter.add_mesh(base_rim_string_lines, color=\"red\", opacity=0.5, show_edges=False)\n",
    "\n",
    "plotter.add_mesh(lv.mesh, \n",
    "                  scalars=\"LV_SURFS\", \n",
    "                  cmap=\"Set2\", \n",
    "                  opacity=1.0, \n",
    "                  show_edges=False,\n",
    "                  ambient=0.2, \n",
    "                  diffuse=0.5, \n",
    "                  specular=0.5, \n",
    "                  specular_power=90,\n",
    "                  #  smooth_shading=True,\n",
    "                  )\n",
    "plotter.enable_shadows()\n",
    "plotter.show()"
   ]
  }
 ],
 "metadata": {
  "interpreter": {
   "hash": "364647f439eeb51cea9fa1ad47f7b03a5a9ed5157a0ffe2dd43bcec2d09df37e"
  },
  "kernelspec": {
   "display_name": "Python 3.9.7 (conda)",
   "language": "python",
   "name": "python3"
  },
  "language_info": {
   "codemirror_mode": {
    "name": "ipython",
    "version": 3
   },
   "file_extension": ".py",
   "mimetype": "text/x-python",
   "name": "python",
   "nbconvert_exporter": "python",
   "pygments_lexer": "ipython3",
   "version": "3.9.7"
  },
  "orig_nbformat": 4
 },
 "nbformat": 4,
 "nbformat_minor": 2
}
