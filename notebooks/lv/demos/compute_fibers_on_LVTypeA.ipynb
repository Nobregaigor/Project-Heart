{
 "cells": [
  {
   "cell_type": "code",
   "execution_count": null,
   "metadata": {},
   "outputs": [],
   "source": [
    "from project_heart.lv import LV\n",
    "import numpy as np\n",
    "import pyvista as pv\n",
    "pv.set_jupyter_backend(\"pythreejs\")\n",
    "\n",
    "import os\n",
    "from pathlib import Path\n",
    "\n",
    "from project_heart.enums import *"
   ]
  },
  {
   "cell_type": "code",
   "execution_count": null,
   "metadata": {},
   "outputs": [],
   "source": [
    "lv = LV.from_pyvista_read(\"../sample_files/lvhexmesh_typeA.vtk\")\n",
    "lv.tetrahedralize(backend=TETRA_BACKEND.TETGEN, order=1, mindihedral=10.0, minratio=1.5, nobisect=True)\n",
    "lv.plot(show_edges=True)"
   ]
  },
  {
   "cell_type": "code",
   "execution_count": null,
   "metadata": {},
   "outputs": [],
   "source": [
    "lv.identify_regions(LV_GEO_TYPES.TYPE_A,\n",
    "  endo_epi_args=dict(threshold=85.0),\n",
    ")\n",
    "lv.plot(\"surface\", \n",
    "        scalars=LV_MESH_DATA.SURFS,\n",
    "        categorical=True,\n",
    "        cmap=\"tab20_r\")"
   ]
  },
  {
   "cell_type": "code",
   "execution_count": null,
   "metadata": {},
   "outputs": [],
   "source": [
    "lv.transform_region_to_facet_data(LV_MESH_DATA.SURFS)\n",
    "lv.plot(\"surface\", \n",
    "        container=\"cells\",\n",
    "        scalars=LV_MESH_DATA.SURFS,\n",
    "        categorical=True,\n",
    "        cmap=\"tab20_r\")"
   ]
  },
  {
   "cell_type": "code",
   "execution_count": null,
   "metadata": {},
   "outputs": [],
   "source": [
    "lv.compute_fibers(surf_region_key=LV_MESH_DATA.SURFS,\n",
    "                    fiber_space=\"P_1\",\n",
    "                    alpha_endo_lv=60,  # Fiber angle on the endocardium\n",
    "                    alpha_epi_lv=-60,  # Fiber angle on the epicardium\n",
    "                    beta_endo_lv=0,  # Sheet angle on the endocardium\n",
    "                    beta_epi_lv=0,  # Sheet angle on the epicardium\n",
    "                    markers={},\n",
    "                    ldrb_kwargs={},\n",
    "                    save_xdmfs=False,\n",
    "                    xdmfs_dir=None,\n",
    "                    xdmfs_basename=None,\n",
    "                    del_generated_files=True,\n",
    "                    )"
   ]
  },
  {
   "cell_type": "code",
   "execution_count": null,
   "metadata": {},
   "outputs": [],
   "source": [
    "lv_hex = LV.from_pyvista_read(\"../sample_files/lvhexmesh_typeA.vtk\") # reload hex mesh\n",
    "lv_hex.regress_fibers(lv, \n",
    "    apply_QuantileTransformer=True,\n",
    "    hidden_layer_sizes=[20]*3, \n",
    "    verbose=False, \n",
    "    solver=\"lbfgs\", \n",
    "    max_iter=500,\n",
    "    tol=1e-3\n",
    "    )"
   ]
  },
  {
   "cell_type": "code",
   "execution_count": null,
   "metadata": {},
   "outputs": [],
   "source": [
    "lv_hex.plot_streamlines(LV_FIBERS.F0, decimate_boundary=0.70)"
   ]
  },
  {
   "cell_type": "code",
   "execution_count": null,
   "metadata": {},
   "outputs": [],
   "source": [
    "# lv_hex.mesh.save(\"test1.vtk\")"
   ]
  },
  {
   "cell_type": "code",
   "execution_count": null,
   "metadata": {},
   "outputs": [],
   "source": [
    "lv_hex = LV.from_pyvista_read(\"../sample_files/lvhexmesh_typeA.vtk\") # reload hex mesh\n",
    "lv_hex.regress_fibers(lv, \n",
    "    apply_QuantileTransformer=True,\n",
    "    hidden_layer_sizes=[70]*3, \n",
    "    verbose=True, \n",
    "    # validation_fraction=0.2,\n",
    "    solver=\"adam\", \n",
    "    # learning_rate=\"adaptive\",\n",
    "    early_stopping=False,\n",
    "    max_iter=200,\n",
    "    n_iter_no_change=20,\n",
    "    tol=1e-4\n",
    "    )"
   ]
  },
  {
   "cell_type": "code",
   "execution_count": null,
   "metadata": {},
   "outputs": [],
   "source": [
    "lv_hex.plot_streamlines(LV_FIBERS.F0, decimate_boundary=0.70)"
   ]
  },
  {
   "cell_type": "code",
   "execution_count": null,
   "metadata": {},
   "outputs": [],
   "source": [
    "# lv_hex.mesh.save(\"test2.vtk\")"
   ]
  },
  {
   "cell_type": "code",
   "execution_count": null,
   "metadata": {},
   "outputs": [],
   "source": [
    "lv_hex = LV.from_pyvista_read(\"../sample_files/lvhexmesh_typeA.vtk\") # reload hex mesh\n",
    "lv_hex.regress_fibers(lv, \n",
    "    apply_PowerTransformer=True,\n",
    "    hidden_layer_sizes=[100]*2, \n",
    "    verbose=True, \n",
    "    validation_fraction=0.1,\n",
    "    solver=\"adam\", \n",
    "    # learning_rate=\"adaptive\",\n",
    "    early_stopping=True,\n",
    "    max_iter=200,\n",
    "    tol=1e-3\n",
    "    )"
   ]
  },
  {
   "cell_type": "code",
   "execution_count": null,
   "metadata": {},
   "outputs": [],
   "source": [
    "lv_hex.plot_streamlines(LV_FIBERS.F0, decimate_boundary=0.80)"
   ]
  },
  {
   "cell_type": "code",
   "execution_count": null,
   "metadata": {},
   "outputs": [],
   "source": [
    "# lv_hex.mesh.save(\"test3.vtk\")"
   ]
  }
 ],
 "metadata": {
  "interpreter": {
   "hash": "fd53b0e241fb980e32739634cee5dd98f400067d1ffded0db49124dd35b5b187"
  },
  "kernelspec": {
   "display_name": "Python 3.9.11 (conda)",
   "language": "python",
   "name": "python3"
  },
  "language_info": {
   "codemirror_mode": {
    "name": "ipython",
    "version": 3
   },
   "file_extension": ".py",
   "mimetype": "text/x-python",
   "name": "python",
   "nbconvert_exporter": "python",
   "pygments_lexer": "ipython3",
   "version": "3.9.11"
  },
  "orig_nbformat": 4
 },
 "nbformat": 4,
 "nbformat_minor": 2
}
