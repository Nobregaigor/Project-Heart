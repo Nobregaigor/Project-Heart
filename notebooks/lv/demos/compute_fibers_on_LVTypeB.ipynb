{
 "cells": [
  {
   "cell_type": "code",
   "execution_count": 1,
   "metadata": {},
   "outputs": [],
   "source": [
    "from project_heart.lv import LV\n",
    "import numpy as np\n",
    "import pyvista as pv\n",
    "pv.set_jupyter_backend(\"pythreejs\")\n",
    "\n",
    "import os\n",
    "from pathlib import Path\n",
    "\n",
    "from project_heart.enums import *"
   ]
  },
  {
   "cell_type": "code",
   "execution_count": 2,
   "metadata": {},
   "outputs": [
    {
     "data": {
      "application/vnd.jupyter.widget-view+json": {
       "model_id": "74f1c9429b164fdcbd4e4944e74c16db",
       "version_major": 2,
       "version_minor": 0
      },
      "text/plain": [
       "Renderer(camera=PerspectiveCamera(aspect=1.3333333333333333, children=(DirectionalLight(position=(49999.999999…"
      ]
     },
     "metadata": {},
     "output_type": "display_data"
    }
   ],
   "source": [
    "lv = LV.from_pyvista_read(\"../sample_files/lvtetmesh_coarse.vtk\")\n",
    "lv.identify_regions(LV_GEO_TYPES.TYPE_B,\n",
    "  apex_base_args=dict(ab_ql=0.04, ab_qh=0.69),\n",
    "  endo_epi_args=dict(threshold=90.0),\n",
    "  aortic_mitral_args=dict(a1=0.4,\n",
    "                          a2=0.5,\n",
    "                          a3=0.3,\n",
    "                          a4=75,\n",
    "                          a5=130,\n",
    "                          \n",
    "                          m1=0.17,\n",
    "                          m2=0.02,\n",
    "                          m3=0.07,\n",
    "                          m4=0.333\n",
    "                          )\n",
    ")\n",
    "lv.plot(\"surface\", \n",
    "        scalars=LV_MESH_DATA.SURFS_DETAILED.value,\n",
    "        categorical=True,\n",
    "        cmap=\"tab20_r\")"
   ]
  },
  {
   "cell_type": "code",
   "execution_count": 6,
   "metadata": {},
   "outputs": [
    {
     "data": {
      "application/vnd.jupyter.widget-view+json": {
       "model_id": "933267e1a15b4c6e94f0dcd14cc1a89f",
       "version_major": 2,
       "version_minor": 0
      },
      "text/plain": [
       "Renderer(camera=PerspectiveCamera(aspect=1.3333333333333333, children=(DirectionalLight(position=(49999.999999…"
      ]
     },
     "metadata": {},
     "output_type": "display_data"
    }
   ],
   "source": [
    "lv.identify_fibers_regions_ldrb(LV_FIBER_MODES.LDRB_2)\n",
    "lv.transform_region_to_facet_data(LV_FIBER_MODES.LDRB_2)\n",
    "lv.plot(\"surface\", \n",
    "        container=\"cells\",\n",
    "        scalars=LV_FIBER_MODES.LDRB_2,\n",
    "        categorical=True,\n",
    "        cmap=\"tab20_r\")"
   ]
  },
  {
   "cell_type": "code",
   "execution_count": 7,
   "metadata": {},
   "outputs": [
    {
     "name": "stdout",
     "output_type": "stream",
     "text": [
      "Calculating scalar fields\n",
      "Compute scalar laplacian solutions with the markers: \n",
      "epi: 2\n",
      "lv: 1\n",
      "base: 23\n",
      "  Num vertices: 64452\n",
      "  Num cells: 218359\n",
      "Solving linear variational problem.\n",
      "  Apex coord: (45.61, -27.52, -38.46)\n",
      "Solving linear variational problem.\n",
      "Solving Laplace equation\n",
      " epi = 1, lv = 0\n",
      "Solving linear variational problem.\n",
      " lv = 1, epi = 0\n",
      "Solving linear variational problem.\n",
      "\n",
      "Calculating gradients\n",
      "Compute fiber-sheet system\n",
      "Angles: \n",
      "alpha: \n",
      " endo_lv: 60\n",
      " epi_lv: -60\n",
      " endo_septum: 60\n",
      " epi_septum: -60\n",
      " endo_rv: 60\n",
      " epi_rv: -60\n",
      "beta: \n",
      " endo_lv: 0\n",
      " epi_lv: 0\n",
      " endo_septum: 0\n",
      " epi_septum: 0\n",
      " endo_rv: 0\n",
      " epi_rv: 0\n"
     ]
    }
   ],
   "source": [
    "lv.compute_fibers(surf_region_key=LV_FIBER_MODES.LDRB_2,\n",
    "                    fiber_space=\"P_1\",\n",
    "                    alpha_endo_lv=60,  # Fiber angle on the endocardium\n",
    "                    alpha_epi_lv=-60,  # Fiber angle on the epicardium\n",
    "                    beta_endo_lv=0,  # Sheet angle on the endocardium\n",
    "                    beta_epi_lv=0,  # Sheet angle on the epicardium\n",
    "                    markers={},\n",
    "                    ldrb_kwargs={},\n",
    "                    save_xdmfs=False,\n",
    "                    xdmfs_dir=None,\n",
    "                    xdmfs_basename=None,\n",
    "                    del_generated_files=True,\n",
    "                    )"
   ]
  },
  {
   "cell_type": "code",
   "execution_count": 8,
   "metadata": {},
   "outputs": [
    {
     "data": {
      "application/vnd.jupyter.widget-view+json": {
       "model_id": "17704701a4674200a99916a7b323c0a0",
       "version_major": 2,
       "version_minor": 0
      },
      "text/plain": [
       "Renderer(camera=PerspectiveCamera(aspect=1.3333333333333333, children=(DirectionalLight(intensity=0.25, positi…"
      ]
     },
     "metadata": {},
     "output_type": "display_data"
    }
   ],
   "source": [
    "lv.plot_streamlines(LV_FIBERS.F0, decimate_boundary=0.85)"
   ]
  }
 ],
 "metadata": {
  "interpreter": {
   "hash": "fd53b0e241fb980e32739634cee5dd98f400067d1ffded0db49124dd35b5b187"
  },
  "kernelspec": {
   "display_name": "Python 3.9.11 (conda)",
   "language": "python",
   "name": "python3"
  },
  "language_info": {
   "codemirror_mode": {
    "name": "ipython",
    "version": 3
   },
   "file_extension": ".py",
   "mimetype": "text/x-python",
   "name": "python",
   "nbconvert_exporter": "python",
   "pygments_lexer": "ipython3",
   "version": "3.9.11"
  },
  "orig_nbformat": 4
 },
 "nbformat": 4,
 "nbformat_minor": 2
}
