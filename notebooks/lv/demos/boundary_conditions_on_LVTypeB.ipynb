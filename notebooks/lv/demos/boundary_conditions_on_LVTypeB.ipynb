{
 "cells": [
  {
   "cell_type": "code",
   "execution_count": 1,
   "metadata": {},
   "outputs": [],
   "source": [
    "import os\n",
    "from pathlib import Path\n",
    "import numpy as np\n",
    "import pyvista as pv\n",
    "# import project_heart as ph\n",
    "pv.set_jupyter_backend(\"pythreejs\")\n",
    "from project_heart.lv import LV\n",
    "from project_heart.enums import *"
   ]
  },
  {
   "cell_type": "code",
   "execution_count": 2,
   "metadata": {},
   "outputs": [],
   "source": [
    "lv = LV.from_pyvista_read(\"../sample_files/lvhexmesh.vtk\")"
   ]
  },
  {
   "cell_type": "code",
   "execution_count": 3,
   "metadata": {},
   "outputs": [
    {
     "data": {
      "application/vnd.jupyter.widget-view+json": {
       "model_id": "01a402aa9ac244e4afa870b65de510c4",
       "version_major": 2,
       "version_minor": 0
      },
      "text/plain": [
       "Renderer(camera=PerspectiveCamera(aspect=1.3333333333333333, children=(DirectionalLight(color='#fefefe', posit…"
      ]
     },
     "metadata": {},
     "output_type": "display_data"
    }
   ],
   "source": [
    "lv.identify_regions(\n",
    "  LV_GEO_TYPES.TYPE_B,\n",
    "  endo_epi_args=dict(threshold=90.0),\n",
    "  apex_base_args=dict(ab_ql=0.04, ab_qh=0.69),\n",
    "  aortic_mitral_args=dict(a1=0.4,\n",
    "                          a2=0.5,\n",
    "                          a3=0.3,\n",
    "                          a4=75,\n",
    "                          a5=130,\n",
    "                          \n",
    "                          m1=0.17,\n",
    "                          m2=0.02,\n",
    "                          m3=0.07,\n",
    "                          m4=0.333\n",
    "                          )\n",
    ")\n",
    "\n",
    "lv.plot(\"surface\", scalars=LV_MESH_DATA.SURFS_DETAILED.value, \n",
    "        vnodes=[\n",
    "          (LV_VIRTUAL_NODES.MITRAL, \"green\"),\n",
    "          (LV_VIRTUAL_NODES.AORTIC, \"red\"),\n",
    "          (LV_VIRTUAL_NODES.AORTIC_BORDER, \"purple\"),\n",
    "          ],\n",
    "        cmap=\"tab20_r\")"
   ]
  },
  {
   "cell_type": "code",
   "execution_count": null,
   "metadata": {},
   "outputs": [],
   "source": [
    "aortic_bc = lv.create_spring_rim_bc(\"AORTIC_BC\",\n",
    "                                    LV_SURFS.BORDER_AORTIC,\n",
    "                                    dist_from_c=5.0,\n",
    "                                    r_alpha=0.7)\n",
    "mitral_bc = lv.create_spring_rim_bc(\"MITRAL_BC\",\n",
    "                                    LV_SURFS.BORDER_MITRAL,\n",
    "                                    dist_from_c=5.0,\n",
    "                                    r_alpha=1.0)\n",
    "\n",
    "aortic_epi_bc = lv.create_spring_rim_bc(\"AORTIC_BC2\",\n",
    "                                        LV_SURFS.EPI_AORTIC,\n",
    "                                        dist_from_c=0.0,\n",
    "                                        height=3.0,\n",
    "                                        r_alpha=1.5)"
   ]
  },
  {
   "cell_type": "code",
   "execution_count": null,
   "metadata": {},
   "outputs": [],
   "source": [
    "atr_rim_string_lines = lv.get_rim_springs_for_plot(aortic_bc)\n",
    "mtr_rim_string_lines = lv.get_rim_springs_for_plot(mitral_bc)\n",
    "aortic_epi_rim_string_lines = lv.get_rim_springs_for_plot(aortic_epi_bc)"
   ]
  },
  {
   "cell_type": "code",
   "execution_count": null,
   "metadata": {},
   "outputs": [],
   "source": [
    "plotter = pv.Plotter(lighting='three lights')\n",
    "plotter.background_color = 'w'\n",
    "plotter.enable_anti_aliasing()\n",
    "plotter.add_points(lv.get_virtual_node(LV_VIRTUAL_NODES.MITRAL), color=\"green\", point_size=300)\n",
    "plotter.add_points(lv.get_virtual_node(LV_VIRTUAL_NODES.AORTIC), color=\"red\", point_size=300)\n",
    "\n",
    "plotter.add_points(aortic_bc[LV_RIM.NODES.value], color=\"red\", point_size=300)\n",
    "plotter.add_points(aortic_bc[LV_RIM.CENTER.value], color=\"red\", point_size=300)\n",
    "\n",
    "plotter.add_points(mitral_bc[LV_RIM.NODES.value], color=\"green\", point_size=300)\n",
    "plotter.add_points(mitral_bc[LV_RIM.CENTER.value], color=\"green\", point_size=300)\n",
    "\n",
    "plotter.add_points(aortic_epi_bc[LV_RIM.NODES.value], color=\"pink\", point_size=300)\n",
    "plotter.add_points(aortic_epi_bc[LV_RIM.CENTER.value], color=\"pink\", point_size=300)\n",
    "\n",
    "plotter.add_mesh(atr_rim_string_lines, color=\"red\", opacity=0.5, show_edges=False)\n",
    "plotter.add_mesh(mtr_rim_string_lines, color=\"green\", opacity=0.5, show_edges=False)\n",
    "plotter.add_mesh(aortic_epi_rim_string_lines, color=\"pink\", opacity=0.5, show_edges=False)\n",
    "\n",
    "plotter.add_mesh(lv.mesh, \n",
    "                  scalars=\"LV_SURFS\", \n",
    "                  cmap=\"Set2\", \n",
    "                  opacity=1.0, \n",
    "                  show_edges=False,\n",
    "                  ambient=0.2, \n",
    "                  diffuse=0.5, \n",
    "                  specular=0.5, \n",
    "                  specular_power=90,\n",
    "                  #  smooth_shading=True,\n",
    "                  )\n",
    "plotter.enable_shadows()\n",
    "plotter.show()"
   ]
  }
 ],
 "metadata": {
  "interpreter": {
   "hash": "364647f439eeb51cea9fa1ad47f7b03a5a9ed5157a0ffe2dd43bcec2d09df37e"
  },
  "kernelspec": {
   "display_name": "Python 3.9.7 (conda)",
   "language": "python",
   "name": "python3"
  },
  "language_info": {
   "codemirror_mode": {
    "name": "ipython",
    "version": 3
   },
   "file_extension": ".py",
   "mimetype": "text/x-python",
   "name": "python",
   "nbconvert_exporter": "python",
   "pygments_lexer": "ipython3",
   "version": "3.9.7"
  },
  "orig_nbformat": 4
 },
 "nbformat": 4,
 "nbformat_minor": 2
}
