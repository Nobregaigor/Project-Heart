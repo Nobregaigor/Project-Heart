{
 "cells": [
  {
   "cell_type": "code",
   "execution_count": 1,
   "metadata": {},
   "outputs": [],
   "source": [
    "from project_heart.lv import LV\n",
    "import numpy as np\n",
    "import pyvista as pv\n",
    "import logging\n",
    "\n",
    "pv.set_jupyter_backend(\"pythreejs\")\n",
    "\n",
    "import os\n",
    "from pathlib import Path\n",
    "\n",
    "from project_heart.enums import *\n",
    "\n",
    "float_formatter = \"{:.5f}\".format\n",
    "np.set_printoptions(formatter={'float_kind':float_formatter})"
   ]
  },
  {
   "cell_type": "code",
   "execution_count": 2,
   "metadata": {},
   "outputs": [],
   "source": [
    "filepath = Path(\"C:/Users/igorp/Downloads/0.3_80.00_50.00_LVIDEAL_HEX20.xplt\")\n",
    "# filepath = Path(\"C:/Users/igornobrega/Downloads/0.3_80.00_50.00_LVIDEAL_HEX20.xplt\")"
   ]
  },
  {
   "cell_type": "code",
   "execution_count": 3,
   "metadata": {},
   "outputs": [
    {
     "name": "stderr",
     "output_type": "stream",
     "text": [
      "INFO:LV_RegionIdentifier.identify_regions_ideal:Identifying regions from ideal geometry.\n",
      "DEBUG:LV_RegionIdentifier.identify_base_and_apex_regions:Starting identification of base and apex regions.\n",
      "DEBUG:LV_RegionIdentifier.identify_base_and_apex_regions:Perfoming kmeans to find LV halves\n",
      "DEBUG:LV_RegionIdentifier.identify_base_and_apex_regions:kcenters: [[0.00002 -0.00000 -48.78886]\n",
      " [0.00000 -0.00000 0.32648]]\n",
      "DEBUG:LV_RegionIdentifier.identify_base_and_apex_regions:Estimating apex and base iteractively.\n",
      "DEBUG:LV_RegionIdentifier.identify_base_and_apex_regions:apex: [0.00000 0.00000 -72.69446]\n",
      "DEBUG:LV_RegionIdentifier.identify_base_and_apex_regions:base: [0.00000 0.00000 17.77086]\n",
      "DEBUG:LV_RegionIdentifier.identify_base_and_apex_regions:len(est_apex_region): 649\n",
      "DEBUG:LV_RegionIdentifier.identify_base_and_apex_regions:len(est_base_region): 1632\n",
      "DEBUG:LV_RegionIdentifier.identify_epi_endo_regions:Starting identification of endo and epi regions for ideal geometry.\n",
      "DEBUG:LV_RegionIdentifier.identify_epi_endo_regions:Using reference point: [0.00000 0.00000 -26.72786]\n",
      "DEBUG:LV_RegionIdentifier.identify_epi_endo_regions:Number of endo ids found: 8449 (47.31%)\n",
      "DEBUG:LV_RegionIdentifier.identify_epi_endo_regions:Number of epi ids found: 9409 (52.69%)\n",
      "DEBUG:LV_RegionIdentifier.identify_base_region_ideal:Starting identification of base region for ideal geometry.\n",
      "DEBUG:LV_RegionIdentifier.identify_base_region_ideal:Number of edge points found: 192\n",
      "DEBUG:LV_RegionIdentifier.identify_base_region_ideal:est_base: [0.00000 0.00000 20.00000]\n",
      "DEBUG:LV_RegionIdentifier.identify_base_region_ideal:est_radius: 28.729089736833732\n",
      "DEBUG:LV_RegionIdentifier.identify_base_region_ideal:Selecting points close to est_base based on 'd'.\n",
      "DEBUG:LV_RegionIdentifier.identify_base_region_ideal:axis orientation: [2]\n",
      "DEBUG:LV_RegionIdentifier.identify_base_region_ideal:number of indexed found at 'db=0.1' from 'est_base=[0.00000 0.00000 20.00000]'along 'axis=[2]'\n",
      "DEBUG:LV_RegionIdentifier.identify_base_region_ideal:Filtering selection based on surface normals.\n",
      "DEBUG:LV_RegionIdentifier.identify_base_region_ideal:Number of ioi found: 960\n",
      "DEBUG:LV_RegionIdentifier.identify_base_region_ideal:Filtering selection based on surface endo region (no overlap).\n",
      "DEBUG:LV_RegionIdentifier.identify_base_region_ideal:Number of ioi found: 960\n",
      "DEBUG:LV_RegionIdentifier.identify_base_region_ideal:Adding edge information to detailed surface\n",
      "DEBUG:LV_RegionIdentifier.identify_base_region_ideal:Number of edge ids found: 192 (expected: 192)\n",
      "DEBUG:LV_RegionIdentifier.identify_base_region_ideal:Number of edge ids found at ENDO: 96\n",
      "DEBUG:LV_RegionIdentifier.identify_base_region_ideal:Number of edge ids found at EPI: 96\n",
      "DEBUG:LV_RegionIdentifier.identify_regions_ideal:base_ref: [0.00000 0.00000 20.00000]\n",
      "DEBUG:LV.compute_apex_from_base_vn:using base_ref=[0.00000 0.00000 20.00000]\n",
      "DEBUG:LV.compute_apex_from_base_vn:Using nodes from nodeset: 1\n",
      "DEBUG:LV.compute_apex_from_base_vn:Apex id: 1 -> [-0.00000 0.00001 -65.32578]\n",
      "DEBUG:LV.compute_apex_from_base_vn:Number of nodes close to apex: 1\n",
      "DEBUG:LV.compute_apex_from_base_vn:Apex: [-0.00000 0.00001 -65.12163]\n"
     ]
    },
    {
     "data": {
      "application/vnd.jupyter.widget-view+json": {
       "model_id": "bdef793ef62b4d3fbb1a6aa84adeab55",
       "version_major": 2,
       "version_minor": 0
      },
      "text/plain": [
       "Renderer(camera=PerspectiveCamera(aspect=1.5, children=(DirectionalLight(intensity=0.25, position=(0.0, 0.0, 1…"
      ]
     },
     "metadata": {},
     "output_type": "display_data"
    }
   ],
   "source": [
    "lv = LV.from_file(filepath, geo_type=LV_GEO_TYPES.IDEAL, log_level=logging.DEBUG)\n",
    "lv.identify_regions(log_level=logging.DEBUG)\n",
    "\n",
    "lv.plot(\"surface\", \n",
    "        scalars=LV_MESH_DATA.SURFS_DETAILED,\n",
    "        # container=\"points\",\n",
    "        show_edges=True,\n",
    "        categorical=True,\n",
    "        split_sharp_edges=True,\n",
    "        smooth_shading=False,\n",
    "        pretty=False,\n",
    "        cmap=\"jet\",\n",
    "        vnodes=[[lv.VIRTUAL_NODES.BASE, {\"color\":\"red\"}], [lv.VIRTUAL_NODES.APEX, {\"color\":\"green\"}] ]\n",
    "        )"
   ]
  },
  {
   "cell_type": "code",
   "execution_count": 4,
   "metadata": {},
   "outputs": [
    {
     "name": "stderr",
     "output_type": "stream",
     "text": [
      "INFO:create_speckles:Speckle: name: base, group: endo, collection: LA\n",
      "DEBUG:create_speckles:Using nodes from nodeset LV_SURFS.BASE_BORDER_ENDO\n",
      "DEBUG:create_speckles:long_line: \n",
      "[[-0.00000 0.00001 -65.12163]\n",
      " [0.00000 0.00000 20.00000]]\n",
      "DEBUG:create_speckles:ref p (spk center): [0.00000 0.00000 20.00000]\n",
      "DEBUG:create_speckles:Using all nodes in mesh OR nodeset (not computing plane).\n",
      "DEBUG:create_speckles:Adding single subset.\n",
      "INFO:create_speckles:Speckle: name: base, group: epi, collection: LA\n",
      "DEBUG:create_speckles:Using nodes from nodeset LV_SURFS.BASE_BORDER_EPI\n",
      "DEBUG:create_speckles:long_line: \n",
      "[[-0.00000 0.00001 -65.12163]\n",
      " [0.00000 0.00000 20.00000]]\n",
      "DEBUG:create_speckles:ref p (spk center): [0.00000 0.00000 20.00000]\n",
      "DEBUG:create_speckles:Using all nodes in mesh OR nodeset (not computing plane).\n",
      "DEBUG:create_speckles:Adding single subset.\n",
      "INFO:create_speckles:Speckle: name: apex, group: endo, collection: LA\n",
      "DEBUG:create_speckles:Using nodes from nodeset LV_SURFS.ENDO\n",
      "DEBUG:create_speckles:long_line: \n",
      "[[-0.00000 0.00001 -65.12163]\n",
      " [0.00000 0.00000 20.00000]]\n",
      "DEBUG:create_speckles:ref p (spk center): [-0.00000 0.00001 -65.12163]\n",
      "DEBUG:create_speckles:Using nodes close to plane [k=0.0] at p=[-0.00000 0.00001 -65.12163] with d=1.0.\n",
      "DEBUG:create_speckles:Normal: [0.00000 -0.00000 1.00000]\n",
      "DEBUG:create_speckles:pts close to plane: 65\n",
      "DEBUG:create_speckles:Adding single subset.\n",
      "INFO:create_speckles:Speckle: name: apex, group: epi, collection: LA\n",
      "DEBUG:create_speckles:Using nodes from nodeset LV_SURFS.EPI\n",
      "WARNING:create_speckles:Using local k reference (not LV long_line). Only use speckles created with this approach for region-independent computations.\n",
      "DEBUG:create_speckles:long_line: \n",
      "[[-0.00002 0.00000 -75.08842]\n",
      " [-12.95082 -31.26604 19.10947]]\n",
      "DEBUG:create_speckles:ref p (spk center): [-0.00002 0.00000 -75.08842]\n",
      "DEBUG:create_speckles:Using nodes close to plane [k=0.0] at p=[-0.00002 0.00000 -75.08842] with d=1.0.\n",
      "DEBUG:create_speckles:Normal: [0.00000 -0.00000 1.00000]\n",
      "DEBUG:create_speckles:pts close to plane: 113\n",
      "DEBUG:create_speckles:Adding single subset.\n"
     ]
    },
    {
     "data": {
      "application/vnd.jupyter.widget-view+json": {
       "model_id": "bbe7341dbcfa4069b67f6b89eb07c3dd",
       "version_major": 2,
       "version_minor": 0
      },
      "text/plain": [
       "Renderer(camera=PerspectiveCamera(aspect=1.5, children=(DirectionalLight(intensity=0.25, position=(0.0, 0.0, 1…"
      ]
     },
     "metadata": {},
     "output_type": "display_data"
    }
   ],
   "source": [
    "_ = lv.create_speckles(\n",
    "        collection=\"LA\", # longitudinal axis collection\n",
    "        group=\"endo\",     # at endocardium\n",
    "        name=\"base\",    # base region\n",
    "        from_nodeset=LV_SURFS.BASE_BORDER_ENDO, # using border (edge for ideal)\n",
    "        use_all_nodes=True, # skip search for nodes close to 'plane'\n",
    "        log_level=logging.DEBUG,\n",
    "    )\n",
    "_ = lv.create_speckles(\n",
    "        collection=\"LA\", # longitudinal axis collection\n",
    "        group=\"epi\",     # at epicardium\n",
    "        name=\"base\",    # base region\n",
    "        from_nodeset=LV_SURFS.BASE_BORDER_EPI, # using border (edge for ideal)\n",
    "        use_all_nodes=True, # skip search for nodes close to 'plane'\n",
    "        log_level=logging.DEBUG,\n",
    "    )\n",
    "\n",
    "_ = lv.create_speckles(\n",
    "        collection=\"LA\", # longitudinal axis collection\n",
    "        group=\"endo\",     # at endocardium\n",
    "        name=\"apex\",    # base region\n",
    "        from_nodeset=LV_SURFS.ENDO, # using border (edge for ideal)\n",
    "        k=0.0,\n",
    "        d=1.0,\n",
    "        log_level=logging.DEBUG,\n",
    "    )\n",
    "_ = lv.create_speckles(\n",
    "        collection=\"LA\", # longitudinal axis collection\n",
    "        group=\"epi\",     # at epicardium\n",
    "        name=\"apex\",    # base region\n",
    "        from_nodeset=LV_SURFS.EPI, # using border (edge for ideal)\n",
    "        use_local_k_ref=True,\n",
    "        k=0.0,\n",
    "        d=1.0,\n",
    "        log_level=logging.DEBUG,\n",
    "    )\n",
    "\n",
    "\n",
    "spks = lv.get_speckles(spk_collection=\"LA\")\n",
    "lv.plot_speckles(spks)"
   ]
  },
  {
   "cell_type": "code",
   "execution_count": 5,
   "metadata": {},
   "outputs": [
    {
     "name": "stderr",
     "output_type": "stream",
     "text": [
      "INFO:LV.BaseMetricsComputations.compute_base_apex_ref_over_timesteps:Computing apex and base virtual nodes over timesteps\n"
     ]
    },
    {
     "data": {
      "text/plain": [
       "([array([0.00000, 0.00000, 20.00000]),\n",
       "  array([0.05086, 0.07952, 20.00000]),\n",
       "  array([0.23185, 0.12848, 20.00000]),\n",
       "  array([0.30669, 0.22607, 20.00000]),\n",
       "  array([0.24527, 0.15415, 20.00000]),\n",
       "  array([0.24519, 0.15319, 20.00000]),\n",
       "  array([0.24530, 0.15121, 20.00000]),\n",
       "  array([0.24548, 0.14869, 20.00000]),\n",
       "  array([0.24581, 0.14617, 20.00000]),\n",
       "  array([0.24622, 0.14344, 20.00000]),\n",
       "  array([0.24677, 0.14079, 20.00000]),\n",
       "  array([0.24741, 0.13795, 20.00000]),\n",
       "  array([0.24817, 0.13579, 20.00000]),\n",
       "  array([0.24904, 0.13347, 20.00000]),\n",
       "  array([0.25001, 0.13129, 20.00000]),\n",
       "  array([0.25111, 0.12885, 20.00000]),\n",
       "  array([0.25230, 0.12656, 20.00000]),\n",
       "  array([0.25366, 0.12400, 20.00000]),\n",
       "  array([0.25508, 0.12156, 20.00000]),\n",
       "  array([0.25669, 0.11884, 20.00000]),\n",
       "  array([0.25835, 0.11674, 20.00000]),\n",
       "  array([0.26024, 0.11417, 20.00000]),\n",
       "  array([0.26214, 0.11145, 20.00000]),\n",
       "  array([0.26432, 0.10792, 20.00000]),\n",
       "  array([0.26648, 0.10445, 20.00000]),\n",
       "  array([0.26897, 0.10073, 20.00000]),\n",
       "  array([0.27142, 0.09716, 20.00000]),\n",
       "  array([0.27424, 0.09354, 20.00000]),\n",
       "  array([0.27700, 0.09002, 20.00000]),\n",
       "  array([0.28017, 0.08615, 20.00000]),\n",
       "  array([0.28326, 0.08238, 20.00000]),\n",
       "  array([0.28684, 0.07823, 20.00000]),\n",
       "  array([0.29030, 0.07420, 20.00000]),\n",
       "  array([0.29414, 0.06971, 20.00000]),\n",
       "  array([0.29779, 0.06535, 20.00000]),\n",
       "  array([0.30211, 0.06047, 20.00000]),\n",
       "  array([0.30622, 0.05573, 20.00000]),\n",
       "  array([0.31110, 0.05041, 20.00000]),\n",
       "  array([0.31572, 0.04526, 20.00000]),\n",
       "  array([0.32121, 0.03941, 20.00000]),\n",
       "  array([0.32639, 0.03375, 20.00000]),\n",
       "  array([0.33283, 0.02729, 20.00000]),\n",
       "  array([0.33909, 0.02104, 20.00000]),\n",
       "  array([0.34646, 0.01385, 20.00000]),\n",
       "  array([0.35346, 0.00691, 20.00000])],\n",
       " [array([-0.00002, 0.00001, -64.68661]),\n",
       "  array([-0.21783, 0.00112, -60.58935]),\n",
       "  array([-0.59138, -0.04520, -55.38772]),\n",
       "  array([-0.81138, -0.04133, -52.53181]),\n",
       "  array([-0.78948, 0.08817, -49.14394]),\n",
       "  array([-0.78913, 0.08712, -49.13670]),\n",
       "  array([-0.78886, 0.08729, -49.13675]),\n",
       "  array([-0.78824, 0.08785, -49.14541]),\n",
       "  array([-0.78811, 0.08823, -49.14472]),\n",
       "  array([-0.78760, 0.08894, -49.15286]),\n",
       "  array([-0.78756, 0.08949, -49.15202]),\n",
       "  array([-0.78711, 0.09034, -49.16008]),\n",
       "  array([-0.78715, 0.09106, -49.15942]),\n",
       "  array([-0.78675, 0.09205, -49.16768]),\n",
       "  array([-0.78684, 0.09293, -49.16740]),\n",
       "  array([-0.78648, 0.09405, -49.17599]),\n",
       "  array([-0.78662, 0.09508, -49.17619]),\n",
       "  array([-0.78631, 0.09633, -49.18521]),\n",
       "  array([-0.78648, 0.09752, -49.18596]),\n",
       "  array([-0.78622, 0.09890, -49.19544]),\n",
       "  array([-0.78644, 0.10023, -49.19677]),\n",
       "  array([-0.78622, 0.10174, -49.20676]),\n",
       "  array([-0.78650, 0.10323, -49.20869]),\n",
       "  array([-0.78633, 0.10487, -49.21920]),\n",
       "  array([-0.78667, 0.10650, -49.22174]),\n",
       "  array([-0.78656, 0.10828, -49.23278]),\n",
       "  array([-0.78695, 0.11007, -49.23594]),\n",
       "  array([-0.78691, 0.11199, -49.24752]),\n",
       "  array([-0.78737, 0.11394, -49.25130]),\n",
       "  array([-0.78740, 0.11599, -49.26344]),\n",
       "  array([-0.78793, 0.11810, -49.26784]),\n",
       "  array([-0.78803, 0.12030, -49.28053]),\n",
       "  array([-0.78863, 0.12256, -49.28555]),\n",
       "  array([-0.78881, 0.12490, -49.29880]),\n",
       "  array([-0.78949, 0.12732, -49.30445]),\n",
       "  array([-0.78976, 0.12981, -49.31826]),\n",
       "  array([-0.79053, 0.13240, -49.32454]),\n",
       "  array([-0.79089, 0.13503, -49.33893]),\n",
       "  array([-0.79175, 0.13778, -49.34586]),\n",
       "  array([-0.79222, 0.14057, -49.36085]),\n",
       "  array([-0.79319, 0.14349, -49.36841]),\n",
       "  array([-0.79376, 0.14643, -49.38398]),\n",
       "  array([-0.79483, 0.14952, -49.39217]),\n",
       "  array([-0.79551, 0.15262, -49.40831]),\n",
       "  array([-0.79669, 0.15587, -49.41713])])"
      ]
     },
     "execution_count": 5,
     "metadata": {},
     "output_type": "execute_result"
    }
   ],
   "source": [
    "apex_spk = lv.get_speckles(spk_collection=\"LA\", spk_group=\"endo\", spk_name=\"apex\")\n",
    "base_spk = lv.get_speckles(spk_collection=\"LA\", spk_group=\"endo\", spk_name=\"base\")\n",
    "\n",
    "lv.compute_base_apex_ref_over_timesteps(apex_spk, base_spk)"
   ]
  },
  {
   "cell_type": "code",
   "execution_count": 6,
   "metadata": {},
   "outputs": [
    {
     "name": "stderr",
     "output_type": "stream",
     "text": [
      "INFO:LV.BaseMetricsComputations:Computing metric 'LV_STATES.LONGITUDINAL_DISTANCE'.\n",
      "INFO:LV.BaseMetricsComputations:Computing 'LV_STATES.LONGITUDINAL_DISTANCE' with approach 'centroid' with axis aligment set to 'False'.\n",
      "INFO:LV.BaseMetricsComputations:Computing 'LV_STATES.LONGITUDINAL_DISTANCE' with approach 'centroid' with axis aligment set to 'False'.\n"
     ]
    }
   ],
   "source": [
    "apex_spks = lv.get_speckles(spk_collection=\"LA\", spk_name=\"apex\")\n",
    "base_spks = lv.get_speckles(spk_collection=\"LA\", spk_name=\"base\")\n",
    "\n",
    "lv.compute_longitudinal_distance(apex_spks, base_spks)"
   ]
  },
  {
   "cell_type": "code",
   "execution_count": 7,
   "metadata": {},
   "outputs": [
    {
     "data": {
      "image/png": "[encoded data removed]",
      "text/plain": [
       "<Figure size 1080x504 with 1 Axes>"
      ]
     },
     "metadata": {
      "needs_background": "light"
     },
     "output_type": "display_data"
    },
    {
     "data": {
      "image/png": "[encoded data removed]",
      "text/plain": [
       "<Figure size 1080x504 with 1 Axes>"
      ]
     },
     "metadata": {
      "needs_background": "light"
     },
     "output_type": "display_data"
    }
   ],
   "source": [
    "lv.plot_metric(lv.STATES.LONGITUDINAL_DISTANCE, plot_infos=[\"group\"])"
   ]
  },
  {
   "cell_type": "code",
   "execution_count": 8,
   "metadata": {},
   "outputs": [
    {
     "data": {
      "application/vnd.jupyter.widget-view+json": {
       "model_id": "2709223b6a1542b4ad4c538abda5067e",
       "version_major": 2,
       "version_minor": 0
      },
      "text/plain": [
       "Renderer(camera=PerspectiveCamera(aspect=1.5, children=(DirectionalLight(intensity=0.25, position=(0.0, 0.0, 1…"
      ]
     },
     "metadata": {},
     "output_type": "display_data"
    }
   ],
   "source": [
    "lv.plot_longitudinal_line(t=1.1, points_kwargs=dict(point_size=400))"
   ]
  },
  {
   "cell_type": "code",
   "execution_count": 9,
   "metadata": {},
   "outputs": [
    {
     "data": {
      "application/vnd.jupyter.widget-view+json": {
       "model_id": "2ec5ae4307464726b5b240e78b675155",
       "version_major": 2,
       "version_minor": 0
      },
      "text/plain": [
       "Renderer(camera=PerspectiveCamera(aspect=1.5, children=(DirectionalLight(intensity=0.25, position=(0.0, 0.0, 1…"
      ]
     },
     "metadata": {},
     "output_type": "display_data"
    }
   ],
   "source": [
    "lv.plot_longitudinal_distance(t=0)"
   ]
  }
 ],
 "metadata": {
  "interpreter": {
   "hash": "a4b270fe5129ef310552b5197d637a230d47119f1e46f0b92ff32b1c5f5c5425"
  },
  "kernelspec": {
   "display_name": "Python 3.9.7 ('project_heart')",
   "language": "python",
   "name": "python3"
  },
  "language_info": {
   "codemirror_mode": {
    "name": "ipython",
    "version": 3
   },
   "file_extension": ".py",
   "mimetype": "text/x-python",
   "name": "python",
   "nbconvert_exporter": "python",
   "pygments_lexer": "ipython3",
   "version": "3.9.7"
  },
  "orig_nbformat": 4
 },
 "nbformat": 4,
 "nbformat_minor": 2
}
