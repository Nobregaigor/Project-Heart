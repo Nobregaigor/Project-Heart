{
 "cells": [
  {
   "cell_type": "code",
   "execution_count": null,
   "metadata": {},
   "outputs": [],
   "source": [
    "from project_heart.lv import LV\n",
    "import numpy as np\n",
    "import pyvista as pv\n",
    "import logging\n",
    "\n",
    "pv.set_jupyter_backend(\"pythreejs\")\n",
    "\n",
    "import os\n",
    "from pathlib import Path\n",
    "\n",
    "from project_heart.enums import *\n",
    "\n",
    "float_formatter = \"{:.5f}\".format\n",
    "np.set_printoptions(formatter={'float_kind':float_formatter})"
   ]
  },
  {
   "cell_type": "code",
   "execution_count": null,
   "metadata": {},
   "outputs": [],
   "source": [
    "filepath = Path(\"C:/Users/igorp/Downloads/0.3_80.00_50.00_LVIDEAL_HEX20.xplt\")\n",
    "# filepath = Path(\"C:/Users/igornobrega/Downloads/0.3_80.00_50.00_LVIDEAL_HEX20.xplt\")"
   ]
  },
  {
   "cell_type": "code",
   "execution_count": null,
   "metadata": {},
   "outputs": [],
   "source": [
    "lv = LV.from_file(filepath, geo_type=LV_GEO_TYPES.IDEAL, log_level=logging.DEBUG)\n",
    "lv.identify_regions(log_level=logging.DEBUG)\n",
    "\n",
    "lv.plot(\"surface\", \n",
    "        scalars=LV_MESH_DATA.SURFS_DETAILED,\n",
    "        # container=\"points\",\n",
    "        show_edges=True,\n",
    "        categorical=True,\n",
    "        split_sharp_edges=True,\n",
    "        smooth_shading=False,\n",
    "        pretty=False,\n",
    "        cmap=\"jet\",\n",
    "        vnodes=[[lv.VIRTUAL_NODES.BASE, {\"color\":\"red\"}], [lv.VIRTUAL_NODES.APEX, {\"color\":\"green\"}] ]\n",
    "        )"
   ]
  },
  {
   "cell_type": "code",
   "execution_count": null,
   "metadata": {},
   "outputs": [],
   "source": [
    "_ = lv.create_speckles(\n",
    "        collection=\"LA\", # longitudinal axis collection\n",
    "        group=\"endo\",     # at endocardium\n",
    "        name=\"base\",    # base region\n",
    "        from_nodeset=LV_SURFS.BASE_BORDER_ENDO, # using border (edge for ideal)\n",
    "        use_all_nodes=True, # skip search for nodes close to 'plane'\n",
    "        log_level=logging.DEBUG,\n",
    "    )\n",
    "_ = lv.create_speckles(\n",
    "        collection=\"LA\", # longitudinal axis collection\n",
    "        group=\"epi\",     # at epicardium\n",
    "        name=\"base\",    # base region\n",
    "        from_nodeset=LV_SURFS.BASE_BORDER_EPI, # using border (edge for ideal)\n",
    "        use_all_nodes=True, # skip search for nodes close to 'plane'\n",
    "        log_level=logging.DEBUG,\n",
    "    )\n",
    "\n",
    "_ = lv.create_speckles(\n",
    "        collection=\"LA\", # longitudinal axis collection\n",
    "        group=\"endo\",     # at endocardium\n",
    "        name=\"apex\",    # base region\n",
    "        from_nodeset=LV_SURFS.ENDO, # using border (edge for ideal)\n",
    "        k=0.0,\n",
    "        d=1.0,\n",
    "        log_level=logging.DEBUG,\n",
    "    )\n",
    "_ = lv.create_speckles(\n",
    "        collection=\"LA\", # longitudinal axis collection\n",
    "        group=\"epi\",     # at epicardium\n",
    "        name=\"apex\",    # base region\n",
    "        from_nodeset=LV_SURFS.EPI, # using border (edge for ideal)\n",
    "        use_local_k_ref=True,\n",
    "        k=0.0,\n",
    "        d=1.0,\n",
    "        log_level=logging.DEBUG,\n",
    "    )\n",
    "\n",
    "\n",
    "spks = lv.get_speckles(spk_collection=\"LA\")\n",
    "lv.plot_speckles(spks)"
   ]
  },
  {
   "cell_type": "code",
   "execution_count": null,
   "metadata": {},
   "outputs": [],
   "source": [
    "apex_spk = lv.get_speckles(spk_collection=\"LA\", spk_group=\"endo\", spk_name=\"apex\")\n",
    "base_spk = lv.get_speckles(spk_collection=\"LA\", spk_group=\"endo\", spk_name=\"base\")\n",
    "\n",
    "lv.compute_base_apex_ref_over_timesteps(apex_spk, base_spk)"
   ]
  },
  {
   "cell_type": "code",
   "execution_count": null,
   "metadata": {},
   "outputs": [],
   "source": [
    "apex_spks = lv.get_speckles(spk_collection=\"LA\", spk_name=\"apex\")\n",
    "base_spks = lv.get_speckles(spk_collection=\"LA\", spk_name=\"base\")\n",
    "\n",
    "lv.compute_longitudinal_distance(apex_spks, base_spks)"
   ]
  },
  {
   "cell_type": "code",
   "execution_count": null,
   "metadata": {},
   "outputs": [],
   "source": [
    "lv.plot_metric(lv.STATES.LONGITUDINAL_DISTANCE, plot_infos=[\"group\"])"
   ]
  },
  {
   "cell_type": "code",
   "execution_count": null,
   "metadata": {},
   "outputs": [],
   "source": [
    "lv.plot_longitudinal_line(t=1.1, points_kwargs=dict(point_size=400))"
   ]
  },
  {
   "cell_type": "code",
   "execution_count": null,
   "metadata": {},
   "outputs": [],
   "source": [
    "lv.plot_longitudinal_distance(t=0)"
   ]
  }
 ],
 "metadata": {
  "interpreter": {
   "hash": "a4b270fe5129ef310552b5197d637a230d47119f1e46f0b92ff32b1c5f5c5425"
  },
  "kernelspec": {
   "display_name": "Python 3.9.7 ('project_heart')",
   "language": "python",
   "name": "python3"
  },
  "language_info": {
   "codemirror_mode": {
    "name": "ipython",
    "version": 3
   },
   "file_extension": ".py",
   "mimetype": "text/x-python",
   "name": "python",
   "nbconvert_exporter": "python",
   "pygments_lexer": "ipython3",
   "version": "3.9.7"
  },
  "orig_nbformat": 4
 },
 "nbformat": 4,
 "nbformat_minor": 2
}
