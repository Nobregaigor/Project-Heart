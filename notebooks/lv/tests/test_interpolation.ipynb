{
 "cells": [
  {
   "cell_type": "code",
   "execution_count": null,
   "metadata": {},
   "outputs": [],
   "source": [
    "from project_heart.lv import LV\n",
    "import numpy as np\n",
    "import pyvista as pv\n",
    "pv.set_jupyter_backend(\"pythreejs\")\n",
    "\n",
    "import os\n",
    "from pathlib import Path\n",
    "\n",
    "from project_heart.enums import *"
   ]
  },
  {
   "cell_type": "code",
   "execution_count": null,
   "metadata": {},
   "outputs": [],
   "source": [
    "filepath = Path(\"../sample_files/lvhexmesh_tetcoarse_counterpart.vtk\") \n",
    "lv_src = LV.from_pyvista_read(filepath)\n",
    "\n",
    "filepath = Path(\"../sample_files/lvhexmesh.vtk\") \n",
    "lv_dst = LV.from_pyvista_read(filepath)"
   ]
  },
  {
   "cell_type": "code",
   "execution_count": null,
   "metadata": {},
   "outputs": [],
   "source": [
    "# offset = 0\n",
    "# for i, key in enumerate([LV_FIBERS.F0, LV_FIBERS.S0, LV_FIBERS.N0]):\n",
    "#   shape = lv_src.get(GEO_DATA.MESH_POINT_DATA, key).shape\n",
    "#   dd = d[:, offset:offset+shape[-1]]\n",
    "#   offset += shape[-1]\n",
    "#   print(dd.shape)"
   ]
  },
  {
   "cell_type": "code",
   "execution_count": null,
   "metadata": {},
   "outputs": [],
   "source": [
    "d = lv_src.get(GEO_DATA.MESH_CELL_DATA, [LV_FIBERS.F0, LV_FIBERS.S0, LV_FIBERS.N0])"
   ]
  },
  {
   "cell_type": "code",
   "execution_count": null,
   "metadata": {},
   "outputs": [],
   "source": [
    "to_regress = [LV_FIBERS.F0, LV_FIBERS.S0, LV_FIBERS.N0]\n",
    "lv_dst.regress_from_other(lv_src, \n",
    "                          to_regress\n",
    "                          )"
   ]
  },
  {
   "cell_type": "code",
   "execution_count": null,
   "metadata": {},
   "outputs": [],
   "source": [
    "lv_dst.identify_base_and_apex_surfaces() # computes normal\n",
    "lv_dst.compute_fiber_angles()"
   ]
  },
  {
   "cell_type": "code",
   "execution_count": null,
   "metadata": {},
   "outputs": [],
   "source": [
    "lv_dst.plot_streamlines(LV_FIBERS.F0, scalars=LV_FIBERS.F0_ANGLES, decimate_boundary=0.8)"
   ]
  },
  {
   "cell_type": "code",
   "execution_count": null,
   "metadata": {},
   "outputs": [],
   "source": [
    "lv_dst.mesh.save(\"../sample_files/lvhex_with_fibers_test.vtk\")"
   ]
  },
  {
   "cell_type": "code",
   "execution_count": null,
   "metadata": {},
   "outputs": [],
   "source": [
    "X = lv_src.points()\n",
    "Y = lv_src.get(GEO_DATA.MESH_POINT_DATA, LV_FIBERS.F0)\n",
    "XI = lv_dst.points()"
   ]
  },
  {
   "cell_type": "code",
   "execution_count": null,
   "metadata": {},
   "outputs": [],
   "source": [
    "Y.shape"
   ]
  },
  {
   "cell_type": "code",
   "execution_count": null,
   "metadata": {},
   "outputs": [],
   "source": [
    "Y1 = lv_src.get(GEO_DATA.MESH_POINT_DATA, LV_FIBERS.F0)\n",
    "Y2 = lv_src.get(GEO_DATA.MESH_POINT_DATA, LV_FIBERS.S0)\n",
    "Y3 = lv_src.get(GEO_DATA.MESH_POINT_DATA, LV_FIBERS.N0)\n",
    "Y = np.hstack((Y1, Y2, Y3))\n",
    "Y.shape"
   ]
  },
  {
   "cell_type": "code",
   "execution_count": null,
   "metadata": {},
   "outputs": [],
   "source": [
    "from sklearn.multioutput import MultiOutputRegressor\n",
    "from sklearn.ensemble import GradientBoostingRegressor\n",
    "\n",
    "regr = MultiOutputRegressor(GradientBoostingRegressor(random_state=0, \n",
    "                                                      subsample=0.75,\n",
    "                                                      n_estimators=200)).fit(X, Y)\n",
    "YI = regr.predict(XI)"
   ]
  },
  {
   "cell_type": "code",
   "execution_count": null,
   "metadata": {},
   "outputs": [],
   "source": [
    "from sklearn.neural_network import MLPRegressor\n",
    "MLPR = MLPRegressor((100,),\n",
    "                    early_stopping=True,\n",
    "                    validation_fraction=0.25,\n",
    "                    )\n",
    "MLPR = MLPR.fit(X, Y)\n",
    "YI2 = MLPR.predict(XI)"
   ]
  },
  {
   "cell_type": "code",
   "execution_count": null,
   "metadata": {},
   "outputs": [],
   "source": [
    "lv_dst.mesh.point_data[LV_FIBERS.F0.value] = YI[:, :3]\n",
    "lv_dst.mesh.point_data[LV_FIBERS.S0.value] = YI[:, 3:6]\n",
    "lv_dst.mesh.point_data[LV_FIBERS.S0.value] = YI[:, 6:]"
   ]
  },
  {
   "cell_type": "code",
   "execution_count": null,
   "metadata": {},
   "outputs": [],
   "source": [
    "lv_dst.mesh.point_data[LV_FIBERS.F0.value] = YI2[:, :3]\n",
    "lv_dst.mesh.point_data[LV_FIBERS.S0.value] = YI2[:, 3:6]\n",
    "lv_dst.mesh.point_data[LV_FIBERS.S0.value] = YI2[:, 6:]"
   ]
  },
  {
   "cell_type": "code",
   "execution_count": null,
   "metadata": {},
   "outputs": [],
   "source": [
    "lv_dst.identify_base_and_apex_surfaces() # computes normal\n",
    "lv_dst.compute_fiber_angles()"
   ]
  },
  {
   "cell_type": "code",
   "execution_count": null,
   "metadata": {},
   "outputs": [],
   "source": [
    "lv_dst.plot_streamlines(LV_FIBERS.F0, scalars=LV_FIBERS.F0_ANGLES, decimate_boundary=0.8)"
   ]
  },
  {
   "cell_type": "code",
   "execution_count": null,
   "metadata": {},
   "outputs": [],
   "source": [
    "lv_src.plot_streamlines(LV_FIBERS.F0, scalars=LV_FIBERS.F0_ANGLES, decimate_boundary=0.8)"
   ]
  },
  {
   "cell_type": "code",
   "execution_count": null,
   "metadata": {},
   "outputs": [],
   "source": [
    "lv_dst.mesh.save(\"./testhexfibers.vtk\")"
   ]
  }
 ],
 "metadata": {
  "interpreter": {
   "hash": "364647f439eeb51cea9fa1ad47f7b03a5a9ed5157a0ffe2dd43bcec2d09df37e"
  },
  "kernelspec": {
   "display_name": "Python 3.9.7 (conda)",
   "language": "python",
   "name": "python3"
  },
  "language_info": {
   "codemirror_mode": {
    "name": "ipython",
    "version": 3
   },
   "file_extension": ".py",
   "mimetype": "text/x-python",
   "name": "python",
   "nbconvert_exporter": "python",
   "pygments_lexer": "ipython3",
   "version": "3.9.7"
  },
  "orig_nbformat": 4
 },
 "nbformat": 4,
 "nbformat_minor": 2
}
