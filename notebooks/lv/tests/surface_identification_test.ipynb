{
 "cells": [
  {
   "cell_type": "code",
   "execution_count": 1,
   "metadata": {},
   "outputs": [],
   "source": [
    "from project_heart.lv import LV\n",
    "import numpy as np\n",
    "import pyvista as pv\n",
    "# import project_heart as ph\n",
    "from project_heart.modules.geometry import Geometry\n",
    "pv.set_jupyter_backend(\"pythreejs\")\n",
    "\n",
    "import os\n",
    "from pathlib import Path"
   ]
  },
  {
   "cell_type": "code",
   "execution_count": 2,
   "metadata": {},
   "outputs": [],
   "source": [
    "# dir = Path(\"C:/Users/igorp/University of South Florida/Wenbin Mao - Igor/LV_Meshes/Heart_models\")\n",
    "dir = Path(\"C:/Users/igornobrega/USF_Research/University of South Florida/Wenbin Mao - Igor/LV_Meshes/Heart_models\")\n",
    "files = os.listdir(dir)"
   ]
  },
  {
   "cell_type": "code",
   "execution_count": 3,
   "metadata": {},
   "outputs": [
    {
     "name": "stdout",
     "output_type": "stream",
     "text": [
      "File: Full_Heart_Mesh_11.vtk\n"
     ]
    },
    {
     "data": {
      "application/vnd.jupyter.widget-view+json": {
       "model_id": "b9ed7e0fff204ac2ac4a5176dbc4af1a",
       "version_major": 2,
       "version_minor": 0
      },
      "text/plain": [
       "Renderer(camera=PerspectiveCamera(aspect=1.3333333333333333, children=(DirectionalLight(color='#fefefe', posit…"
      ]
     },
     "metadata": {},
     "output_type": "display_data"
    }
   ],
   "source": [
    "file_id = 2\n",
    "\n",
    "print(\"File:\", files[file_id])\n",
    "\n",
    "lv = LV()\n",
    "lv.from_pyvista_read(dir/files[file_id], identifier=\"elemTag\", threshold=[0, 1])\n",
    "lv.identify_surfaces(\n",
    "  \n",
    "  ab_ql=0.03, \n",
    "  ab_qh=0.70,\n",
    "  \n",
    "  alpha_atr=0.5,  # coeff for radial distance computation\n",
    "  alpha_mtr=0.5,\n",
    "  beta_atr=0.9,  # coeff for second radial distance computation\n",
    "  beta_mtr=0.9,\n",
    "  gamma_atr=89,\n",
    "  gamma_mtr=89,\n",
    ")\n",
    "\n",
    "plotter = pv.Plotter(lighting='three lights')\n",
    "plotter.background_color = 'w'\n",
    "plotter.enable_anti_aliasing()\n",
    "# plotter.add_mesh(lvsurf.arrows, lighting=False, scalars=\"angles\")\n",
    "# plotter.add_points(kcenters, color=\"red\", point_size=300)\n",
    "plotter.add_mesh(lv._surface_mesh, \n",
    "                  scalars=\"LV_SURFS\", \n",
    "                  cmap=\"Set2\", \n",
    "                  opacity=1.0, \n",
    "                  show_edges=False,\n",
    "                  ambient=0.2, \n",
    "                  diffuse=0.5, \n",
    "                  specular=0.5, \n",
    "                  specular_power=90,\n",
    "                  #  smooth_shading=True,\n",
    "                  )\n",
    "plotter.enable_shadows()\n",
    "plotter.show()"
   ]
  },
  {
   "cell_type": "code",
   "execution_count": 23,
   "metadata": {},
   "outputs": [
    {
     "data": {
      "text/plain": [
       "{'NODES': array([[ -3.87907733,  12.52942467, -19.55683257],\n",
       "        [ -3.01636916,  13.5763117 , -19.82178605],\n",
       "        [ -2.7924061 ,  12.583106  , -19.41994991],\n",
       "        ...,\n",
       "        [ 29.510462  , -38.928787  , -24.097198  ],\n",
       "        [ 23.44714   , -25.526587  ,  15.682207  ],\n",
       "        [ 21.786366  , -16.021004  , -45.794285  ]]),\n",
       " 'ELEMENTS': {'TETRA': array([[    0,     1,     2,     3],\n",
       "         [    4,     5,     6,     7],\n",
       "         [    8,     9,    10,    11],\n",
       "         ...,\n",
       "         [72359, 72358, 50644, 72475],\n",
       "         [50644, 50645, 72358, 50642],\n",
       "         [50644, 72358, 50645, 72475]], dtype=int64)},\n",
       " 'NODESETS': {'ENDO': array([    14,  74689,  51416, ..., 147819, 143164, 143163], dtype=int64),\n",
       "  'AORTIC': array([    38,  27260,  44767, ..., 142515, 142131, 135242], dtype=int64),\n",
       "  'MITRAL': array([    36, 119975,  31225, ..., 132048, 149154, 148776], dtype=int64),\n",
       "  'AM_INTERCECTION': array([    36, 119975,  31225, ..., 142515, 142131, 148776], dtype=int64),\n",
       "  'EPI': array([    36,     72,    106, ..., 149633, 149634, 149635], dtype=int64)},\n",
       " 'ELEMTSETS': {},\n",
       " 'SURFACES': {'ENDO': {'TETRA': array([[    0,     1,     2,     3],\n",
       "          [    4,     5,     6,     7],\n",
       "          [    8,     9,    10,    11],\n",
       "          ...,\n",
       "          [72359, 72358, 50644, 72475],\n",
       "          [50644, 50645, 72358, 50642],\n",
       "          [50644, 72358, 50645, 72475]], dtype=int64)}},\n",
       " 'VIRTUAL_NODES': {'AORTIC': array([-6.47376761,  0.74855032, 21.54372251]),\n",
       "  'MITRAL': array([ 0.86791285, 23.74490742, 13.12976542])}}"
      ]
     },
     "execution_count": 23,
     "metadata": {},
     "output_type": "execute_result"
    }
   ],
   "source": [
    "lv_dict = lv.to_dict()\n",
    "lv_dict"
   ]
  },
  {
   "cell_type": "code",
   "execution_count": 5,
   "metadata": {},
   "outputs": [],
   "source": [
    "lv.to_json(\"test.json\")"
   ]
  },
  {
   "cell_type": "code",
   "execution_count": 17,
   "metadata": {},
   "outputs": [
    {
     "data": {
      "text/plain": [
       "array([    3,     0,     1, ..., 45566, 52040, 50469], dtype=int64)"
      ]
     },
     "execution_count": 17,
     "metadata": {},
     "output_type": "execute_result"
    }
   ],
   "source": [
    "lv._surface_mesh.faces"
   ]
  },
  {
   "cell_type": "code",
   "execution_count": 33,
   "metadata": {},
   "outputs": [],
   "source": [
    "surf_to_global = lv._surface_mesh.point_data[\"vtkOriginalPointIds\"]"
   ]
  },
  {
   "cell_type": "code",
   "execution_count": 34,
   "metadata": {},
   "outputs": [
    {
     "data": {
      "text/plain": [
       "pyvista_ndarray([    14,  74689,  51416, ..., 143164, 143163, 144833],\n",
       "                dtype=int64)"
      ]
     },
     "execution_count": 34,
     "metadata": {},
     "output_type": "execute_result"
    }
   ],
   "source": [
    "surf_to_global"
   ]
  },
  {
   "cell_type": "code",
   "execution_count": 38,
   "metadata": {},
   "outputs": [],
   "source": [
    "surf_to_global = dict()\n",
    "for i, idx in enumerate(lv._surface_mesh.point_data[\"vtkOriginalPointIds\"]):\n",
    "  surf_to_global[i] = idx\n",
    "# surf_to_global"
   ]
  },
  {
   "cell_type": "code",
   "execution_count": 43,
   "metadata": {},
   "outputs": [
    {
     "data": {
      "text/plain": [
       "array([[    0,     1,     2],\n",
       "       [    0,     3,     4],\n",
       "       [    0,     2,     3],\n",
       "       ...,\n",
       "       [52079, 20253, 50422],\n",
       "       [45033, 51148, 35837],\n",
       "       [45566, 52040, 50469]], dtype=int64)"
      ]
     },
     "execution_count": 43,
     "metadata": {},
     "output_type": "execute_result"
    }
   ],
   "source": [
    "Y = lv._surface_mesh.faces.reshape(-1, 4)[:, 1:]\n",
    "Y"
   ]
  },
  {
   "cell_type": "code",
   "execution_count": 60,
   "metadata": {},
   "outputs": [
    {
     "data": {
      "text/plain": [
       "array([[    14,  74689,  51416],\n",
       "       [    14, 105300, 127012],\n",
       "       [    14,  51416, 105300],\n",
       "       ...,\n",
       "       [148532, 149107, 149145],\n",
       "       [148703, 149385, 148936],\n",
       "       [148817, 149171, 149535]], dtype=int64)"
      ]
     },
     "execution_count": 60,
     "metadata": {},
     "output_type": "execute_result"
    }
   ],
   "source": [
    "Y2 = Y.flatten()\n",
    "for i, id in enumerate(Y2):\n",
    "  Y2[i] = surf_to_global[id]\n",
    "Y2 = Y2.reshape(-1,3)\n",
    "Y2"
   ]
  },
  {
   "cell_type": "code",
   "execution_count": 63,
   "metadata": {},
   "outputs": [
    {
     "data": {
      "text/plain": [
       "array([    14,  74689,  51416, ..., 147819, 143164, 143163], dtype=int64)"
      ]
     },
     "execution_count": 63,
     "metadata": {},
     "output_type": "execute_result"
    }
   ],
   "source": [
    "X = lv_dict[\"NODESETS\"][\"ENDO\"]\n",
    "X"
   ]
  },
  {
   "cell_type": "code",
   "execution_count": 67,
   "metadata": {},
   "outputs": [
    {
     "data": {
      "text/plain": [
       "array([[ True,  True,  True],\n",
       "       [ True,  True,  True],\n",
       "       [ True,  True,  True],\n",
       "       ...,\n",
       "       [ True,  True,  True],\n",
       "       [ True,  True,  True],\n",
       "       [ True,  True,  True]])"
      ]
     },
     "execution_count": 67,
     "metadata": {},
     "output_type": "execute_result"
    }
   ],
   "source": [
    "check = np.isin(Y2, X)\n",
    "check"
   ]
  },
  {
   "cell_type": "code",
   "execution_count": 73,
   "metadata": {},
   "outputs": [],
   "source": [
    "a = np.where(np.all(check == np.array([True, True, True]), axis=1))[0]"
   ]
  },
  {
   "cell_type": "code",
   "execution_count": 77,
   "metadata": {},
   "outputs": [],
   "source": [
    "surface = Y2[a]"
   ]
  },
  {
   "cell_type": "code",
   "execution_count": 78,
   "metadata": {},
   "outputs": [],
   "source": [
    "lv._surfaces_oi[\"ENDO\"] = surface"
   ]
  },
  {
   "cell_type": "code",
   "execution_count": 79,
   "metadata": {},
   "outputs": [
    {
     "data": {
      "text/plain": [
       "{'NODES': array([[ -3.87907733,  12.52942467, -19.55683257],\n",
       "        [ -3.01636916,  13.5763117 , -19.82178605],\n",
       "        [ -2.7924061 ,  12.583106  , -19.41994991],\n",
       "        ...,\n",
       "        [ 29.510462  , -38.928787  , -24.097198  ],\n",
       "        [ 23.44714   , -25.526587  ,  15.682207  ],\n",
       "        [ 21.786366  , -16.021004  , -45.794285  ]]),\n",
       " 'ELEMENTS': {'TETRA': array([[    0,     1,     2,     3],\n",
       "         [    4,     5,     6,     7],\n",
       "         [    8,     9,    10,    11],\n",
       "         ...,\n",
       "         [72359, 72358, 50644, 72475],\n",
       "         [50644, 50645, 72358, 50642],\n",
       "         [50644, 72358, 50645, 72475]], dtype=int64)},\n",
       " 'NODESETS': {'ENDO': array([    14,  74689,  51416, ..., 147819, 143164, 143163], dtype=int64),\n",
       "  'AORTIC': array([    38,  27260,  44767, ..., 142515, 142131, 135242], dtype=int64),\n",
       "  'MITRAL': array([    36, 119975,  31225, ..., 132048, 149154, 148776], dtype=int64),\n",
       "  'AM_INTERCECTION': array([    36, 119975,  31225, ..., 142515, 142131, 148776], dtype=int64),\n",
       "  'EPI': array([    36,     72,    106, ..., 149633, 149634, 149635], dtype=int64)},\n",
       " 'ELEMTSETS': {},\n",
       " 'SURFACES': {'ENDO': array([[    14,  74689,  51416],\n",
       "         [    14, 105300, 127012],\n",
       "         [    14,  51416, 105300],\n",
       "         ...,\n",
       "         [148532, 149107, 149145],\n",
       "         [148703, 149385, 148936],\n",
       "         [148817, 149171, 149535]], dtype=int64)},\n",
       " 'VIRTUAL_NODES': {'AORTIC': array([-6.47376761,  0.74855032, 21.54372251]),\n",
       "  'MITRAL': array([ 0.86791285, 23.74490742, 13.12976542])}}"
      ]
     },
     "execution_count": 79,
     "metadata": {},
     "output_type": "execute_result"
    }
   ],
   "source": [
    "lv.to_dict()"
   ]
  },
  {
   "cell_type": "code",
   "execution_count": 80,
   "metadata": {},
   "outputs": [],
   "source": [
    "lv.to_json(\"./test.json\")"
   ]
  },
  {
   "cell_type": "code",
   "execution_count": 82,
   "metadata": {},
   "outputs": [
    {
     "data": {
      "text/plain": [
       "{10: array([[    0,     1,     2,     3],\n",
       "        [    4,     5,     6,     7],\n",
       "        [    8,     9,    10,    11],\n",
       "        ...,\n",
       "        [72359, 72358, 50644, 72475],\n",
       "        [50644, 50645, 72358, 50642],\n",
       "        [50644, 72358, 50645, 72475]], dtype=int64)}"
      ]
     },
     "execution_count": 82,
     "metadata": {},
     "output_type": "execute_result"
    }
   ],
   "source": [
    "lv.mesh.cells_dict"
   ]
  },
  {
   "cell_type": "code",
   "execution_count": 75,
   "metadata": {},
   "outputs": [
    {
     "data": {
      "text/plain": [
       "(39811, 104390)"
      ]
     },
     "execution_count": 75,
     "metadata": {},
     "output_type": "execute_result"
    }
   ],
   "source": [
    "len(a), len(check)"
   ]
  },
  {
   "cell_type": "code",
   "execution_count": null,
   "metadata": {},
   "outputs": [],
   "source": [
    "lv._surface_mesh.faces"
   ]
  },
  {
   "cell_type": "code",
   "execution_count": 14,
   "metadata": {},
   "outputs": [
    {
     "name": "stderr",
     "output_type": "stream",
     "text": [
      "c:\\Users\\igornobrega\\Documents\\GitHub\\Project-Heart\\venv\\lib\\site-packages\\pyvista\\core\\dataset.py:1541: PyvistaDeprecationWarning: Use of `cell_arrays` is deprecated. Use `cell_data` instead.\n",
      "  warnings.warn(\n"
     ]
    },
    {
     "data": {
      "text/plain": [
       "pyvista DataSetAttributes\n",
       "Association     : CELL\n",
       "Active Scalars  : elemTag\n",
       "Active Vectors  : None\n",
       "Active Texture  : None\n",
       "Active Normals  : Normals\n",
       "Contains arrays :\n",
       "    elemTag                 int64    (104390,)            SCALARS\n",
       "    vtkOriginalCellIds      int64    (104390,)\n",
       "    Normals                 float32  (104390, 3)          NORMALS"
      ]
     },
     "execution_count": 14,
     "metadata": {},
     "output_type": "execute_result"
    }
   ],
   "source": [
    "lv._surface_mesh.cell_arrays"
   ]
  },
  {
   "cell_type": "code",
   "execution_count": 4,
   "metadata": {},
   "outputs": [],
   "source": [
    "from datetime import datetime\n",
    "def runtime(start_time, end_time, ms=True):\n",
    "    time_diff = (end_time - start_time)\n",
    "    if ms:\n",
    "        return time_diff.total_seconds() * 1000\n",
    "    else:\n",
    "        return time_diff.total_seconds()"
   ]
  },
  {
   "cell_type": "code",
   "execution_count": 5,
   "metadata": {},
   "outputs": [],
   "source": [
    "del lv"
   ]
  },
  {
   "cell_type": "code",
   "execution_count": 6,
   "metadata": {},
   "outputs": [
    {
     "name": "stdout",
     "output_type": "stream",
     "text": [
      "Full_Heart_Mesh_1.vtk: 2.34097 [s]\n",
      "Full_Heart_Mesh_10.vtk: 2.01521 [s]\n",
      "Full_Heart_Mesh_11.vtk: 2.06989 [s]\n",
      "Full_Heart_Mesh_12.vtk: 2.46358 [s]\n",
      "Full_Heart_Mesh_13.vtk: 2.2219 [s]\n",
      "Full_Heart_Mesh_14.vtk: 2.10036 [s]\n",
      "Full_Heart_Mesh_15.vtk: 2.25351 [s]\n",
      "Full_Heart_Mesh_16.vtk: 1.80132 [s]\n"
     ]
    }
   ],
   "source": [
    "runtimes = []\n",
    "\n",
    "n = len(files)\n",
    "for i in range(n):\n",
    "  \n",
    "  \n",
    "  curr_file = dir/files[i]\n",
    "  lv = LV()\n",
    "  lv.from_pyvista_read(curr_file, identifier=\"elemTag\", threshold=[0, 1])\n",
    "  \n",
    "  start_time = datetime.now()\n",
    "  lv.identify_surfaces()\n",
    "  end_time = datetime.now()\n",
    "  \n",
    "  \n",
    "  exe_time = runtime(start_time, end_time, ms=False)\n",
    "  runtimes.append(exe_time)\n",
    "  print(\"{}: {:.6} [s]\".format(files[i], exe_time))\n",
    "  del lv\n",
    " \n",
    "mean_exec_time = sum(runtimes)/n\n",
    "print(\"Mean execution time: {:.6} [s]\".format(mean_exec_time))"
   ]
  }
 ],
 "metadata": {
  "interpreter": {
   "hash": "1ce1234df79d256e626de05663509b6b8a35e2e5c778dccbbc6775e7c1f8c158"
  },
  "kernelspec": {
   "display_name": "Python 3.9.6 ('venv': venv)",
   "language": "python",
   "name": "python3"
  },
  "language_info": {
   "codemirror_mode": {
    "name": "ipython",
    "version": 3
   },
   "file_extension": ".py",
   "mimetype": "text/x-python",
   "name": "python",
   "nbconvert_exporter": "python",
   "pygments_lexer": "ipython3",
   "version": "3.9.10"
  },
  "orig_nbformat": 4
 },
 "nbformat": 4,
 "nbformat_minor": 2
}
