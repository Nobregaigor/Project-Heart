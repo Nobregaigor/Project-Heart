{
 "cells": [
  {
   "cell_type": "code",
   "execution_count": 1,
   "metadata": {},
   "outputs": [],
   "source": [
    "from project_heart.lv import LV\n",
    "import numpy as np\n",
    "import pyvista as pv\n",
    "# import project_heart as ph\n",
    "from project_heart.modules.geometry import Geometry\n",
    "pv.set_jupyter_backend(\"pythreejs\")\n",
    "\n",
    "import os\n",
    "from pathlib import Path"
   ]
  },
  {
   "cell_type": "code",
   "execution_count": 2,
   "metadata": {},
   "outputs": [],
   "source": [
    "# dir = Path(\"C:/Users/igorp/University of South Florida/Wenbin Mao - Igor/LV_Meshes/Heart_models\")\n",
    "dir = Path(\"C:/Users/igornobrega/USF_Research/University of South Florida/Wenbin Mao - Igor/LV_Meshes/Heart_models\")\n",
    "files = os.listdir(dir)"
   ]
  },
  {
   "cell_type": "code",
   "execution_count": 3,
   "metadata": {},
   "outputs": [
    {
     "name": "stdout",
     "output_type": "stream",
     "text": [
      "File: Full_Heart_Mesh_11.vtk\n"
     ]
    },
    {
     "data": {
      "application/vnd.jupyter.widget-view+json": {
       "model_id": "ff3aa44da9b344f684f71f7c0e20391c",
       "version_major": 2,
       "version_minor": 0
      },
      "text/plain": [
       "Renderer(camera=PerspectiveCamera(aspect=1.3333333333333333, children=(DirectionalLight(color='#fefefe', posit…"
      ]
     },
     "metadata": {},
     "output_type": "display_data"
    }
   ],
   "source": [
    "file_id = 2\n",
    "\n",
    "print(\"File:\", files[file_id])\n",
    "\n",
    "lv = LV()\n",
    "lv.from_pyvista_read(dir/files[file_id], identifier=\"elemTag\", threshold=[0, 1])\n",
    "lv.identify_surfaces(\n",
    "  \n",
    "  ab_ql=0.03, \n",
    "  ab_qh=0.70,\n",
    "  \n",
    "  alpha_atr=0.5,  # coeff for radial distance computation\n",
    "  alpha_mtr=0.5,\n",
    "  beta_atr=0.9,  # coeff for second radial distance computation\n",
    "  beta_mtr=0.9,\n",
    "  gamma_atr=89,\n",
    "  gamma_mtr=89,\n",
    ")\n",
    "\n",
    "plotter = pv.Plotter(lighting='three lights')\n",
    "plotter.background_color = 'w'\n",
    "plotter.enable_anti_aliasing()\n",
    "# plotter.add_mesh(lvsurf.arrows, lighting=False, scalars=\"angles\")\n",
    "# plotter.add_points(kcenters, color=\"red\", point_size=300)\n",
    "plotter.add_mesh(lv._surface_mesh, \n",
    "                  scalars=\"LV_SURFS\", \n",
    "                  cmap=\"Set2\", \n",
    "                  opacity=1.0, \n",
    "                  show_edges=False,\n",
    "                  ambient=0.2, \n",
    "                  diffuse=0.5, \n",
    "                  specular=0.5, \n",
    "                  specular_power=90,\n",
    "                  #  smooth_shading=True,\n",
    "                  )\n",
    "plotter.enable_shadows()\n",
    "plotter.show()"
   ]
  },
  {
   "cell_type": "code",
   "execution_count": 4,
   "metadata": {},
   "outputs": [
    {
     "data": {
      "text/plain": [
       "{'NODES': array([[ -3.87907733,  12.52942467, -19.55683257],\n",
       "        [ -3.01636916,  13.5763117 , -19.82178605],\n",
       "        [ -2.7924061 ,  12.583106  , -19.41994991],\n",
       "        ...,\n",
       "        [ 29.510462  , -38.928787  , -24.097198  ],\n",
       "        [ 23.44714   , -25.526587  ,  15.682207  ],\n",
       "        [ 21.786366  , -16.021004  , -45.794285  ]]),\n",
       " 'ELEMENTS': {'TETRA': array([[    0,     1,     2,     3],\n",
       "         [    4,     5,     6,     7],\n",
       "         [    8,     9,    10,    11],\n",
       "         ...,\n",
       "         [72359, 72358, 50644, 72475],\n",
       "         [50644, 50645, 72358, 50642],\n",
       "         [50644, 72358, 50645, 72475]], dtype=int64)},\n",
       " 'NODESETS': {'ENDO': array([    14,  74689,  51416, ..., 147819, 143164, 143163], dtype=int64),\n",
       "  'AORTIC': array([    38,  27260,  44767, ..., 142515, 142131, 135242], dtype=int64),\n",
       "  'MITRAL': array([    36, 119975,  31225, ..., 132048, 149154, 148776], dtype=int64),\n",
       "  'AM_INTERCECTION': array([    36, 119975,  31225, ..., 142515, 142131, 148776], dtype=int64),\n",
       "  'EPI': array([    36,     72,    106, ..., 149633, 149634, 149635], dtype=int64)},\n",
       " 'ELEMTSETS': {},\n",
       " 'SURFACES': {'ENDO': array([[ 38.19683  , -12.514311 , -38.131226 ],\n",
       "         [ 38.199867 , -13.117596 , -38.300507 ],\n",
       "         [ 38.778225 , -12.639633 , -37.95383  ],\n",
       "         ...,\n",
       "         [ 26.766836 , -24.471584 ,   2.66185  ],\n",
       "         [ -2.4509246, -12.85931  ,  20.750103 ],\n",
       "         [ -1.9756196, -12.537576 ,  20.564123 ]])},\n",
       " 'VIRTUAL_NODES': {'AORTIC': array([-6.47376761,  0.74855032, 21.54372251]),\n",
       "  'MITRAL': array([ 0.86791285, 23.74490742, 13.12976542])}}"
      ]
     },
     "execution_count": 4,
     "metadata": {},
     "output_type": "execute_result"
    }
   ],
   "source": [
    "lv.to_dict()"
   ]
  },
  {
   "cell_type": "code",
   "execution_count": 5,
   "metadata": {},
   "outputs": [],
   "source": [
    "lv.to_json(\"test.json\")"
   ]
  },
  {
   "cell_type": "code",
   "execution_count": 4,
   "metadata": {},
   "outputs": [],
   "source": [
    "from datetime import datetime\n",
    "def runtime(start_time, end_time, ms=True):\n",
    "    time_diff = (end_time - start_time)\n",
    "    if ms:\n",
    "        return time_diff.total_seconds() * 1000\n",
    "    else:\n",
    "        return time_diff.total_seconds()"
   ]
  },
  {
   "cell_type": "code",
   "execution_count": 5,
   "metadata": {},
   "outputs": [],
   "source": [
    "del lv"
   ]
  },
  {
   "cell_type": "code",
   "execution_count": 6,
   "metadata": {},
   "outputs": [
    {
     "name": "stdout",
     "output_type": "stream",
     "text": [
      "Full_Heart_Mesh_1.vtk: 2.34097 [s]\n",
      "Full_Heart_Mesh_10.vtk: 2.01521 [s]\n",
      "Full_Heart_Mesh_11.vtk: 2.06989 [s]\n",
      "Full_Heart_Mesh_12.vtk: 2.46358 [s]\n",
      "Full_Heart_Mesh_13.vtk: 2.2219 [s]\n",
      "Full_Heart_Mesh_14.vtk: 2.10036 [s]\n",
      "Full_Heart_Mesh_15.vtk: 2.25351 [s]\n",
      "Full_Heart_Mesh_16.vtk: 1.80132 [s]\n"
     ]
    }
   ],
   "source": [
    "runtimes = []\n",
    "\n",
    "n = len(files)\n",
    "for i in range(n):\n",
    "  \n",
    "  \n",
    "  curr_file = dir/files[i]\n",
    "  lv = LV()\n",
    "  lv.from_pyvista_read(curr_file, identifier=\"elemTag\", threshold=[0, 1])\n",
    "  \n",
    "  start_time = datetime.now()\n",
    "  lv.identify_surfaces()\n",
    "  end_time = datetime.now()\n",
    "  \n",
    "  \n",
    "  exe_time = runtime(start_time, end_time, ms=False)\n",
    "  runtimes.append(exe_time)\n",
    "  print(\"{}: {:.6} [s]\".format(files[i], exe_time))\n",
    "  del lv\n",
    " \n",
    "mean_exec_time = sum(runtimes)/n\n",
    "print(\"Mean execution time: {:.6} [s]\".format(mean_exec_time))"
   ]
  }
 ],
 "metadata": {
  "interpreter": {
   "hash": "1ce1234df79d256e626de05663509b6b8a35e2e5c778dccbbc6775e7c1f8c158"
  },
  "kernelspec": {
   "display_name": "Python 3.9.6 ('venv': venv)",
   "language": "python",
   "name": "python3"
  },
  "language_info": {
   "codemirror_mode": {
    "name": "ipython",
    "version": 3
   },
   "file_extension": ".py",
   "mimetype": "text/x-python",
   "name": "python",
   "nbconvert_exporter": "python",
   "pygments_lexer": "ipython3",
   "version": "3.9.10"
  },
  "orig_nbformat": 4
 },
 "nbformat": 4,
 "nbformat_minor": 2
}
