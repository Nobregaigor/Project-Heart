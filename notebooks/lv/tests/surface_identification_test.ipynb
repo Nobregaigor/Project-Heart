{
 "cells": [
  {
   "cell_type": "code",
   "execution_count": 4,
   "metadata": {},
   "outputs": [],
   "source": [
    "from project_heart.lv import LV\n",
    "import numpy as np\n",
    "import pyvista as pv\n",
    "# import project_heart as ph\n",
    "from project_heart.modules.geometry import Geometry\n",
    "pv.set_jupyter_backend(\"pythreejs\")\n",
    "\n",
    "import os\n",
    "from pathlib import Path"
   ]
  },
  {
   "cell_type": "code",
   "execution_count": null,
   "metadata": {},
   "outputs": [],
   "source": [
    "dir = Path(\"C:/Users/igorp/University of South Florida/Wenbin Mao - Igor/LV_Meshes/Heart_models\")\n",
    "files = os.listdir(dir)"
   ]
  },
  {
   "cell_type": "code",
   "execution_count": 21,
   "metadata": {},
   "outputs": [
    {
     "name": "stdout",
     "output_type": "stream",
     "text": [
      "File: Full_Heart_Mesh_17.vtk\n"
     ]
    },
    {
     "data": {
      "application/vnd.jupyter.widget-view+json": {
       "model_id": "43abbce3b0f141acaf86a379ccb81bdf",
       "version_major": 2,
       "version_minor": 0
      },
      "text/plain": [
       "Renderer(camera=PerspectiveCamera(aspect=1.3333333333333333, children=(DirectionalLight(color='#fefefe', posit…"
      ]
     },
     "metadata": {},
     "output_type": "display_data"
    }
   ],
   "source": [
    "file_id = 8\n",
    "\n",
    "print(\"File:\", files[file_id])\n",
    "\n",
    "lv = LV()\n",
    "lv.from_pyvista_read(dir/files[file_id], identifier=\"elemTag\", threshold=[0, 1])\n",
    "lv.identify_surfaces()\n",
    "\n",
    "plotter = pv.Plotter(lighting='three lights')\n",
    "plotter.background_color = 'w'\n",
    "plotter.enable_anti_aliasing()\n",
    "# plotter.add_mesh(lvsurf.arrows, lighting=False, scalars=\"angles\")\n",
    "# plotter.add_points(kcenters, color=\"red\", point_size=300)\n",
    "plotter.add_mesh(lv._surface_mesh, \n",
    "                 scalars=\"LV_SURFS\", \n",
    "                 cmap=\"Set2\", \n",
    "                 opacity=1.0, \n",
    "                 show_edges=False,\n",
    "                 ambient=0.2, diffuse=0.5, specular=0.5, specular_power=90,\n",
    "                #  smooth_shading=True,\n",
    "                 )\n",
    "plotter.enable_shadows()\n",
    "plotter.show()"
   ]
  },
  {
   "cell_type": "code",
   "execution_count": 11,
   "metadata": {},
   "outputs": [],
   "source": [
    "from datetime import datetime\n",
    "def runtime(start_time, end_time, ms=True):\n",
    "    time_diff = (end_time - start_time)\n",
    "    if ms:\n",
    "        return time_diff.total_seconds() * 1000\n",
    "    else:\n",
    "        return time_diff.total_seconds()"
   ]
  },
  {
   "cell_type": "code",
   "execution_count": 8,
   "metadata": {},
   "outputs": [],
   "source": [
    "del lv"
   ]
  },
  {
   "cell_type": "code",
   "execution_count": 14,
   "metadata": {},
   "outputs": [
    {
     "name": "stdout",
     "output_type": "stream",
     "text": [
      "Full_Heart_Mesh_1.vtk: 2.62872 [s]\n",
      "Full_Heart_Mesh_10.vtk: 2.2422 [s]\n",
      "Full_Heart_Mesh_11.vtk: 2.1248 [s]\n",
      "Full_Heart_Mesh_12.vtk: 2.74798 [s]\n",
      "Full_Heart_Mesh_13.vtk: 2.29151 [s]\n",
      "Full_Heart_Mesh_14.vtk: 2.27154 [s]\n",
      "Full_Heart_Mesh_15.vtk: 2.28991 [s]\n",
      "Full_Heart_Mesh_16.vtk: 1.9532 [s]\n",
      "Full_Heart_Mesh_17.vtk: 2.505 [s]\n",
      "Full_Heart_Mesh_18.vtk: 2.26784 [s]\n",
      "Full_Heart_Mesh_19.vtk: 2.49952 [s]\n",
      "Full_Heart_Mesh_2.vtk: 2.60685 [s]\n",
      "Full_Heart_Mesh_20.vtk: 2.40566 [s]\n",
      "Full_Heart_Mesh_21.vtk: 2.2521 [s]\n",
      "Full_Heart_Mesh_22.vtk: 2.23376 [s]\n",
      "Full_Heart_Mesh_23.vtk: 2.19938 [s]\n",
      "Full_Heart_Mesh_24.vtk: 2.36726 [s]\n",
      "Full_Heart_Mesh_25.vtk: 2.179 [s]\n",
      "Full_Heart_Mesh_3.vtk: 2.39682 [s]\n",
      "Full_Heart_Mesh_4.vtk: 2.37421 [s]\n",
      "Full_Heart_Mesh_5.vtk: 2.25622 [s]\n",
      "Full_Heart_Mesh_6.vtk: 2.05368 [s]\n",
      "Full_Heart_Mesh_7.vtk: 2.2759 [s]\n",
      "Full_Heart_Mesh_8.vtk: 2.68372 [s]\n",
      "Full_Heart_Mesh_9.vtk: 2.36577 [s]\n",
      "Mean execution time: 2.3389 [s]\n"
     ]
    }
   ],
   "source": [
    "runtimes = []\n",
    "\n",
    "n = len(files)\n",
    "for i in range(n):\n",
    "  \n",
    "  \n",
    "  curr_file = dir/files[i]\n",
    "  lv = LV()\n",
    "  lv.from_pyvista_read(curr_file, identifier=\"elemTag\", threshold=[0, 1])\n",
    "  \n",
    "  start_time = datetime.now()\n",
    "  lv.identify_surfaces()\n",
    "  end_time = datetime.now()\n",
    "  \n",
    "  \n",
    "  exe_time = runtime(start_time, end_time, ms=False)\n",
    "  runtimes.append(exe_time)\n",
    "  print(\"{}: {:.6} [s]\".format(files[i], exe_time))\n",
    "  del lv\n",
    " \n",
    "mean_exec_time = sum(runtimes)/n\n",
    "print(\"Mean execution time: {:.6} [s]\".format(mean_exec_time))"
   ]
  }
 ],
 "metadata": {
  "interpreter": {
   "hash": "1ce1234df79d256e626de05663509b6b8a35e2e5c778dccbbc6775e7c1f8c158"
  },
  "kernelspec": {
   "display_name": "Python 3.9.6 ('venv': venv)",
   "language": "python",
   "name": "python3"
  },
  "language_info": {
   "codemirror_mode": {
    "name": "ipython",
    "version": 3
   },
   "file_extension": ".py",
   "mimetype": "text/x-python",
   "name": "python",
   "nbconvert_exporter": "python",
   "pygments_lexer": "ipython3",
   "version": "3.9.6"
  },
  "orig_nbformat": 4
 },
 "nbformat": 4,
 "nbformat_minor": 2
}
