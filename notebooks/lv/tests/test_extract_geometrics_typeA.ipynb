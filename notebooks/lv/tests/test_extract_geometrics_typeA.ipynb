{
 "cells": [
  {
   "cell_type": "code",
   "execution_count": 1,
   "metadata": {},
   "outputs": [],
   "source": [
    "from project_heart.lv import LV\n",
    "import numpy as np\n",
    "import pyvista as pv\n",
    "pv.set_jupyter_backend(\"pythreejs\")\n",
    "\n",
    "import os\n",
    "from pathlib import Path\n",
    "\n",
    "from project_heart.enums import *"
   ]
  },
  {
   "cell_type": "code",
   "execution_count": 2,
   "metadata": {},
   "outputs": [
    {
     "name": "stderr",
     "output_type": "stream",
     "text": [
      "INFO:LV_RegionIdentifier.identify_regions_typeA:Identifying regions from 'type A' geometry.\n",
      "INFO:LV_RegionIdentifier.identify_endo_epi_base_borders_from_nodesets:len(endo_base): 487\n",
      "INFO:LV_RegionIdentifier.identify_endo_epi_base_borders_from_nodesets:len(epi_base): 507\n"
     ]
    }
   ],
   "source": [
    "from project_heart.examples import get_lv_typeA\n",
    "lv = get_lv_typeA(filepath=\"C:/Users/igorp/Downloads/0.28_70.00_40.00_LVMYO_HEX8_83648_wr.xplt\", statesfile=None)"
   ]
  },
  {
   "cell_type": "code",
   "execution_count": 3,
   "metadata": {},
   "outputs": [],
   "source": [
    "# spks = lv.get_speckles(spk_collection=\"circ-6\", spk_group=\"endo\")"
   ]
  },
  {
   "cell_type": "code",
   "execution_count": 4,
   "metadata": {},
   "outputs": [],
   "source": [
    "# names = [\"subapex\", \"apex\", \"superapex\", \"submid\", \"mid\", \"supermid\", \"subbase\", \"base\", \"superbase\"]\n",
    "k = 0.89\n",
    "d = 1.5\n",
    "spks1 = lv.create_speckles(\n",
    "            collection=\"MANUAL_CALC_CIRC_6\",\n",
    "            group=\"endo\",\n",
    "            name=\"superbase\",\n",
    "            from_nodeset=LV_SURFS.ENDO,\n",
    "            d=d,\n",
    "            k=k,\n",
    "            normal_to=[0.0, 0.0, 1.0],\n",
    "            n_subsets=6,\n",
    "            subsets_criteria=\"angles\",\n",
    "            cluster_criteria=\"angles3\",\n",
    "            n_clusters=16,\n",
    "            t=0.0,\n",
    "        )\n",
    "_ = lv.create_speckles(\n",
    "            collection=\"MANUAL_CALC_CIRC_6\",\n",
    "            group=\"epi\",\n",
    "            name=\"superbase\",\n",
    "            from_nodeset=LV_SURFS.EPI,\n",
    "            d=d,\n",
    "            k=k,\n",
    "            normal_to=[0.0, 0.0, 1.0],\n",
    "            n_subsets=6,\n",
    "            subsets_criteria=\"angles\",\n",
    "            cluster_criteria=\"angles3\",\n",
    "            n_clusters=16,\n",
    "            t=0.0,\n",
    "        )"
   ]
  },
  {
   "cell_type": "code",
   "execution_count": 5,
   "metadata": {},
   "outputs": [],
   "source": [
    "# spks = lv.get_speckles(spk_collection=\"MANUAL_CALC_CIRC_6\")\n",
    "# lv.plot_speckles(spks, show_longitudinal_line=True, show_clusters_centers=True)"
   ]
  },
  {
   "cell_type": "code",
   "execution_count": 6,
   "metadata": {},
   "outputs": [],
   "source": [
    "_ = lv.create_speckles(\n",
    "            collection=\"MANUAL_CALC_LONG_1\",\n",
    "            group=\"endo\",\n",
    "            name=\"0.0\",\n",
    "            from_nodeset=LV_SURFS.ENDO,\n",
    "            exclude_nodeset=LV_SURFS.BASE, # does not afect ideal case\n",
    "            d=1.00,\n",
    "            k=0.5,\n",
    "            normal_to=[1.0, 0.0, 0.0],\n",
    "            n_subsets=0,\n",
    "            subsets_criteria=\"z2\",\n",
    "            cluster_criteria=\"z2\",\n",
    "            n_clusters=30,\n",
    "            t=0.0,\n",
    "        )"
   ]
  },
  {
   "cell_type": "code",
   "execution_count": 7,
   "metadata": {},
   "outputs": [],
   "source": [
    "# spks = lv.get_speckles(spk_collection=\"MANUAL_CALC_LONG_1\")\n",
    "# lv.plot_speckles(spks, show_longitudinal_line=True, show_clusters_centers=True)"
   ]
  },
  {
   "cell_type": "markdown",
   "metadata": {},
   "source": [
    "# Metrics"
   ]
  },
  {
   "cell_type": "code",
   "execution_count": 8,
   "metadata": {},
   "outputs": [
    {
     "name": "stderr",
     "output_type": "stream",
     "text": [
      "INFO:LV:Computing apex_base_over_timesteps.\n",
      "INFO:LV.BaseMetricsComputations.compute_base_apex_ref_over_timesteps:Computing apex and base virtual nodes over timesteps\n",
      "INFO:LV:Extracting volume.\n",
      "INFO:LV:Extracting longitudinal_distance.\n",
      "INFO:LV.BaseMetricsComputations:Computing metric 'LV_STATES.LONGITUDINAL_DISTANCE'.\n",
      "INFO:LV.BaseMetricsComputations:Computing 'LV_STATES.LONGITUDINAL_DISTANCE' with approach 'centroid' with axis aligment set to 'False'.\n",
      "INFO:LV.BaseMetricsComputations:Computing 'LV_STATES.LONGITUDINAL_DISTANCE' with approach 'centroid' with axis aligment set to 'False'.\n",
      "INFO:LV:Extracting radial_distance.\n",
      "INFO:LV.BaseMetricsComputations:Computing metric 'LV_STATES.RADIAL_DISTANCE'\n",
      "INFO:LV:Extracting radial_length.\n",
      "INFO:LV.BaseMetricsComputations:Computing metric 'LV_STATES.RADIAL_LENGTH'\n",
      "INFO:LV:Extracting wall_thickness.\n",
      "INFO:LV.BaseMetricsComputations:Computing metric 'LV_STATES.WALL_THICKNESS'\n",
      "INFO:LV:Extracting longitudinal_length.\n",
      "INFO:LV.BaseMetricsComputations:Computing metric 'LV_STATES.LONG_LENGTH'\n",
      "INFO:LV:Extracting global_longitudinal_length.\n",
      "INFO:LV.BaseMetricsComputations:Computing metric 'LV_STATES.GLOBAL_LONGITUDINAL_LENGTH'\n",
      "INFO:LV:Extracting circumferential_length.\n",
      "INFO:LV.BaseMetricsComputations:Computing metric 'LV_STATES.CIRC_LENGTH'\n",
      "INFO:LV:Extracting global_circumferential_length.\n",
      "INFO:LV.BaseMetricsComputations:Computing metric 'LV_STATES.GLOBAL_CIRCUMFERENTIAL_LENGTH'\n",
      "INFO:LV:Extracting angle_rotation.\n",
      "INFO:LV.BaseMetricsComputations:Computing metric 'LV_STATES.ROTATION'\n"
     ]
    }
   ],
   "source": [
    "df = lv.extract_geometrics({\n",
    "        \"volume\":{},\n",
    "        \"apex_base_over_timesteps\": {\n",
    "            \"apex_spks\": {\"spk_name\":\"apex\", \"spk_group\":\"endo\", \"spk_collection\":\"LA\"},\n",
    "            \"base_spks\": {\"spk_name\":\"base\", \"spk_group\":\"endo\", \"spk_collection\":\"LA\"},\n",
    "            },\n",
    "        \"longitudinal_distance\": {\n",
    "            \"apex_spks\": {\"spk_name\":\"apex\", \"spk_collection\":\"LA\"},\n",
    "            \"base_spks\": {\"spk_name\":\"base\", \"spk_collection\":\"LA\"},\n",
    "            \"approach\":\"centroid\", \n",
    "            \"use_axis_aligment\":False,\n",
    "            \"reduce_by\":{\"group\"}\n",
    "            },\n",
    "        \"radial_distance\": {\n",
    "            \"spks\": {\"spk_collection\":\"MANUAL_CALC_CIRC_6\"},\n",
    "            \"approach\":\"moving_vector\",\n",
    "            \"reduce_by\":{\"group\", \"name\", \"group_name\"},\n",
    "            },\n",
    "        \"radial_length\": {\n",
    "            \"spks\": {\"spk_collection\":\"MANUAL_CALC_CIRC_6\"},\n",
    "            \"approach\":\"moving_centers\",\n",
    "            \"reduce_by\":{\"group\", \"name\", \"group_name\"},\n",
    "            },\n",
    "        \"wall_thickness\": {\n",
    "            \"endo_spks\": {\"spk_group\":\"endo\", \"spk_collection\":\"MANUAL_CALC_CIRC_6\"},\n",
    "            \"epi_spks\": {\"spk_group\":\"epi\", \"spk_collection\":\"MANUAL_CALC_CIRC_6\"},\n",
    "            \"approach\":\"radial_distance\",\n",
    "            \"reduce_by\":{\"name\"},\n",
    "            },\n",
    "        \"longitudinal_length\": {\n",
    "            \"spks\": {\"spk_collection\":\"long-6\"},\n",
    "            \"approach\":\"k_ids\",\n",
    "            \"reduce_by\":{\"subset\"},\n",
    "            \"merge_subset\":{\n",
    "                    5: 0, \n",
    "                    4: 1, \n",
    "                    3: 2\n",
    "                },\n",
    "            },\n",
    "        \"global_longitudinal_length\": {\n",
    "            \"spks\": {\"spk_collection\":\"MANUAL_CALC_LONG_1\"},\n",
    "            \"approach\":\"k_ids\",\n",
    "            \"reduce_by\":{\"group\", \"group_name\"},\n",
    "            },\n",
    "        \"circumferential_length\": {\n",
    "            \"spks\": {\"spk_collection\":\"MANUAL_CALC_CIRC_6\"},\n",
    "            \"reduce_by\":{\"group\"},\n",
    "            },\n",
    "        \"global_circumferential_length\": {\n",
    "            \"spks\": {\"spk_collection\":\"circ-1\"},\n",
    "            \"reduce_by\":{\"group\", \"group_name\"},\n",
    "            },\n",
    "        \"angle_rotation\": {\n",
    "            \"spks\": {\"spk_collection\":\"MANUAL_CALC_CIRC_6\"},\n",
    "            \"reduce_by\":{\"group\", \"name\"},\n",
    "            }\n",
    "        }\n",
    "    )"
   ]
  },
  {
   "cell_type": "code",
   "execution_count": 9,
   "metadata": {},
   "outputs": [],
   "source": [
    "dfoi = df[[\n",
    "    \"timesteps\",\n",
    "    lv.STATES.LONGITUDINAL_DISTANCE_ENDO.value, \n",
    "    lv.STATES.RADIAL_DISTANCE_ENDO_SUPERBASE.value, \n",
    "    lv.STATES.RADIAL_DISTANCE_EPI_SUPERBASE.value,\n",
    "    lv.STATES.WALL_THICKNESS_SUPERBASE.value, \n",
    "    \"global_longitudinal_length_endo_0.0\", \n",
    "    lv.STATES.GLOBAL_CIRCUMFERENTIAL_LENGTH_ENDO_SUPERBASE.value,     \n",
    "    ]]"
   ]
  },
  {
   "cell_type": "code",
   "execution_count": 11,
   "metadata": {},
   "outputs": [],
   "source": [
    "dfoi.to_csv(\"test_0.28_70.00_40.00_LVMYO_HEX8_83648_wr.csv\")"
   ]
  },
  {
   "cell_type": "code",
   "execution_count": null,
   "metadata": {},
   "outputs": [],
   "source": [
    "# spks = lv.get_speckles(spk_collection=\"circ-1\")\n",
    "# lv.plot_speckles(spks,  show_clusters=True, show_clusters_centers=True)"
   ]
  },
  {
   "cell_type": "code",
   "execution_count": 12,
   "metadata": {},
   "outputs": [
    {
     "data": {
      "application/vnd.jupyter.widget-view+json": {
       "model_id": "39ab7d89ff414378a89fa6f4c45ab390",
       "version_major": 2,
       "version_minor": 0
      },
      "text/plain": [
       "Renderer(camera=PerspectiveCamera(aspect=1.5, children=(DirectionalLight(intensity=0.25, position=(0.0, 0.0, 1…"
      ]
     },
     "metadata": {},
     "output_type": "display_data"
    }
   ],
   "source": [
    "spks = lv.get_speckles(spk_collection=\"MANUAL_CALC_LONG_1\")\n",
    "lv.plot_speckles(spks, show_longitudinal_line=True, show_clusters_centers=True)"
   ]
  }
 ],
 "metadata": {
  "interpreter": {
   "hash": "a4b270fe5129ef310552b5197d637a230d47119f1e46f0b92ff32b1c5f5c5425"
  },
  "kernelspec": {
   "display_name": "Python 3.9.7 ('project_heart')",
   "language": "python",
   "name": "python3"
  },
  "language_info": {
   "codemirror_mode": {
    "name": "ipython",
    "version": 3
   },
   "file_extension": ".py",
   "mimetype": "text/x-python",
   "name": "python",
   "nbconvert_exporter": "python",
   "pygments_lexer": "ipython3",
   "version": "3.9.7"
  },
  "orig_nbformat": 4
 },
 "nbformat": 4,
 "nbformat_minor": 2
}
