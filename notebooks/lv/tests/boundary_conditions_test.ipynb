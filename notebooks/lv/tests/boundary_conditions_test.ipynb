{
 "cells": [
  {
   "cell_type": "code",
   "execution_count": 3,
   "metadata": {},
   "outputs": [],
   "source": [
    "import os\n",
    "from pathlib import Path\n",
    "import numpy as np\n",
    "import pyvista as pv\n",
    "# import project_heart as ph\n",
    "from project_heart.modules.geometry import Geometry\n",
    "pv.set_jupyter_backend(\"pythreejs\")\n",
    "from project_heart.lv import LV\n",
    "from project_heart.enums import *"
   ]
  },
  {
   "cell_type": "code",
   "execution_count": 9,
   "metadata": {},
   "outputs": [
    {
     "name": "stdout",
     "output_type": "stream",
     "text": [
      "File: Full_Heart_Mesh_10.vtk\n"
     ]
    }
   ],
   "source": [
    "dir = Path(\"C:/Users/igorp/University of South Florida/Wenbin Mao - Igor/LV_Meshes/Heart_models\")\n",
    "# dir = Path(\"C:/Users/igornobrega/USF_Research/University of South Florida/Wenbin Mao - Igor/LV_Meshes/Heart_models\")\n",
    "files = sorted(os.listdir(dir))\n",
    "\n",
    "file_id = 1 # 5 has a problem\n",
    "\n",
    "print(\"File:\", files[file_id])\n",
    "\n",
    "lv = LV()\n",
    "lv.from_pyvista_read(dir/files[file_id], identifier=\"elemTag\", threshold=[0, 1])"
   ]
  },
  {
   "cell_type": "code",
   "execution_count": 10,
   "metadata": {},
   "outputs": [
    {
     "data": {
      "application/vnd.jupyter.widget-view+json": {
       "model_id": "8b079425136d430e845f9aceec154542",
       "version_major": 2,
       "version_minor": 0
      },
      "text/plain": [
       "Renderer(camera=PerspectiveCamera(aspect=1.3333333333333333, children=(DirectionalLight(color='#fefefe', posit…"
      ]
     },
     "metadata": {},
     "output_type": "display_data"
    }
   ],
   "source": [
    "lv.identify_surfaces(\n",
    "  \n",
    "  ab_ql=0.03, \n",
    "  ab_qh=0.70,\n",
    "  \n",
    "  alpha_atr=0.20,  # coeff for radial distance computation\n",
    "  alpha_mtr=0.69,\n",
    "  \n",
    "  beta_atr=0.15,  # coeff for second radial distance computation\n",
    "  beta_mtr=0.27,\n",
    "  \n",
    "  gamma_atr=89,\n",
    "  gamma2_mtr=25,\n",
    "  \n",
    "  phi_atr=79,\n",
    "  epi_angle=100\n",
    ")\n",
    "\n",
    "plotter = pv.Plotter(lighting='three lights')\n",
    "plotter.background_color = 'w'\n",
    "plotter.enable_anti_aliasing()\n",
    "plotter.add_points(lv.get_virtual_node(\"MITRAL\"), color=\"red\", point_size=300)\n",
    "plotter.add_points(lv.get_virtual_node(\"AORTIC\"), color=\"purple\", point_size=300)\n",
    "plotter.add_mesh(lv.mesh, \n",
    "                  scalars=\"LV_SURFS\", \n",
    "                  cmap=\"Set2\", \n",
    "                  opacity=1.0, \n",
    "                  show_edges=False,\n",
    "                  ambient=0.2, \n",
    "                  diffuse=0.5, \n",
    "                  specular=0.5, \n",
    "                  specular_power=90,\n",
    "                  #  smooth_shading=True,\n",
    "                  )\n",
    "plotter.enable_shadows()\n",
    "plotter.show()"
   ]
  },
  {
   "cell_type": "code",
   "execution_count": 6,
   "metadata": {},
   "outputs": [],
   "source": [
    "aortic_bc = lv.create_spring_rim_bc(\"AORTIC\")\n",
    "mitral_bc = lv.create_spring_rim_bc(\"MITRAL\")"
   ]
  },
  {
   "cell_type": "code",
   "execution_count": 7,
   "metadata": {},
   "outputs": [],
   "source": [
    "atr_rim_string_lines = lv.get_springs_pts_for_plot(\n",
    "  lv.points(mask=lv.get_nodeset(\"AORTIC\")),\n",
    "  aortic_bc[LV_RIM.NODES.value],\n",
    "  aortic_bc[LV_RIM.RELATIONS.value], \n",
    "  1\n",
    "  )\n",
    "mtr_rim_string_lines = lv.get_springs_pts_for_plot(\n",
    "  lv.points(mask=lv.get_nodeset(\"MITRAL\")),\n",
    "  mitral_bc[LV_RIM.NODES.value],\n",
    "  mitral_bc[LV_RIM.RELATIONS.value], \n",
    "  1\n",
    "  )"
   ]
  },
  {
   "cell_type": "code",
   "execution_count": 8,
   "metadata": {},
   "outputs": [
    {
     "data": {
      "application/vnd.jupyter.widget-view+json": {
       "model_id": "0f836639c7e04827ad6b5568ca4db030",
       "version_major": 2,
       "version_minor": 0
      },
      "text/plain": [
       "Renderer(camera=PerspectiveCamera(aspect=1.3333333333333333, children=(DirectionalLight(color='#fefefe', posit…"
      ]
     },
     "metadata": {},
     "output_type": "display_data"
    }
   ],
   "source": [
    "plotter = pv.Plotter(lighting='three lights')\n",
    "plotter.background_color = 'w'\n",
    "plotter.enable_anti_aliasing()\n",
    "plotter.add_points(lv.get_virtual_node(\"MITRAL\"), color=\"green\", point_size=300)\n",
    "plotter.add_points(lv.get_virtual_node(\"AORTIC\"), color=\"red\", point_size=300)\n",
    "plotter.add_points(aortic_bc[LV_RIM.NODES.value], color=\"red\", point_size=300)\n",
    "plotter.add_points(aortic_bc[LV_RIM.CENTER.value], color=\"red\", point_size=300)\n",
    "\n",
    "plotter.add_points(mitral_bc[LV_RIM.NODES.value], color=\"green\", point_size=300)\n",
    "plotter.add_points(mitral_bc[LV_RIM.CENTER.value], color=\"green\", point_size=300)\n",
    "\n",
    "plotter.add_mesh(atr_rim_string_lines, color=\"red\", opacity=0.5, show_edges=False)\n",
    "plotter.add_mesh(mtr_rim_string_lines, color=\"green\", opacity=0.5, show_edges=False)\n",
    "plotter.add_mesh(lv.mesh, \n",
    "                  scalars=\"LV_SURFS\", \n",
    "                  cmap=\"Set2\", \n",
    "                  opacity=1.0, \n",
    "                  show_edges=False,\n",
    "                  ambient=0.2, \n",
    "                  diffuse=0.5, \n",
    "                  specular=0.5, \n",
    "                  specular_power=90,\n",
    "                  #  smooth_shading=True,\n",
    "                  )\n",
    "plotter.enable_shadows()\n",
    "plotter.show()"
   ]
  }
 ],
 "metadata": {
  "interpreter": {
   "hash": "364647f439eeb51cea9fa1ad47f7b03a5a9ed5157a0ffe2dd43bcec2d09df37e"
  },
  "kernelspec": {
   "display_name": "Python 3.9.7 (conda)",
   "language": "python",
   "name": "python3"
  },
  "language_info": {
   "codemirror_mode": {
    "name": "ipython",
    "version": 3
   },
   "file_extension": ".py",
   "mimetype": "text/x-python",
   "name": "python",
   "nbconvert_exporter": "python",
   "pygments_lexer": "ipython3",
   "version": "3.9.7"
  },
  "orig_nbformat": 4
 },
 "nbformat": 4,
 "nbformat_minor": 2
}
