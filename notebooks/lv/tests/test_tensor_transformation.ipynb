{
 "cells": [
  {
   "cell_type": "code",
   "execution_count": 1,
   "metadata": {},
   "outputs": [],
   "source": [
    "import numpy as np\n",
    "import logging"
   ]
  },
  {
   "cell_type": "markdown",
   "metadata": {},
   "source": [
    "# Create util functions"
   ]
  },
  {
   "cell_type": "code",
   "execution_count": 72,
   "metadata": {},
   "outputs": [],
   "source": [
    "def to_sym_tensor(data:np.ndarray, dtype=np.float64) -> np.ndarray:\n",
    "    \n",
    "    # check if data is an array so that we can use \"shape\" value\n",
    "    if not isinstance(data, np.ndarray):\n",
    "        x = np.array(data, dtype=dtype)\n",
    "    else:\n",
    "        x = data\n",
    "        \n",
    "    # check if is a simple vectorizer tensor -> (6,)\n",
    "    if len(x.shape) == 1:\n",
    "        if not x.shape[0] == 6:\n",
    "            raise ValueError(\"1D data must contain 6 elements -> [x, y, z, xy, yz, xz]\")\n",
    "        \n",
    "        return np.asarray([\n",
    "                    [x[0], x[3], x[5]],\n",
    "                    [x[3], x[1], x[4]],\n",
    "                    [x[5], x[4], x[2]]\n",
    "                ], dtype=dtype)\n",
    "    # if data is not a simple vectorizer tensor, \n",
    "    # it can either be in the correct shape\n",
    "    # or it needs to be converted to tensor format   \n",
    "    elif len(x.shape) == 2:\n",
    "        # if data is already in correct shape -> [3,3]\n",
    "        if x.shape[1] == 3:\n",
    "            if not x.shape[0] == 3:\n",
    "                raise ValueError(\"2D data with 3 elements on second axis must follow the shape (3,3)\")\n",
    "            else:\n",
    "                return np.asarray(x, dtype=dtype)\n",
    "        \n",
    "        # if data is an array of vectorized tensors -> must have shape of [n,6]\n",
    "        elif not x.shape[1] == 6:\n",
    "            raise ValueError(\"2D data must have (n,6) shape -> [[x, y, z, xy, yz, xz], ...]\")\n",
    "        else:\n",
    "            return np.asarray([to_sym_arr(d) for d in x], dtype=dtype)\n",
    "    else:\n",
    "        raise ValueError(\"Accepted shapes: (6,), (3,3) or (n,6)\")"
   ]
  },
  {
   "cell_type": "code",
   "execution_count": 440,
   "metadata": {},
   "outputs": [],
   "source": [
    "def apply_tensor_transformation(tensor, vector, dtype=np.float64, log_level=logging.WARN):\n",
    "    \n",
    "    # Expected input shapes:\n",
    "    # tensor -> (3,3) or (n,3,3)\n",
    "    # vector --> [(3) or (n,3)] or [(3,3) or (n,3,3)]\n",
    "    #       note: if vector is (n, 3,3), it is technically another tensor\n",
    "    \n",
    "    # ----------------------------------------------------------------\n",
    "    # set logger\n",
    "    logging.basicConfig()\n",
    "    logger = logging.getLogger('apply_tensor_vector_transformation')\n",
    "    logger.setLevel(log_level)\n",
    "    \n",
    "    # ----------------------------------------------------------------\n",
    "    # ensure inputs are numpy arrays\n",
    "    # so that we can use \"shape\" value\n",
    "    \n",
    "    # tensor must be a numpy array\n",
    "    if not isinstance(tensor, np.ndarray):\n",
    "        x = np.array(tensor, dtype=dtype)\n",
    "    else:\n",
    "        x = tensor\n",
    "    # vector must be a numpy array\n",
    "    if not isinstance(vector, np.ndarray):\n",
    "        v = np.array(vector, dtype=dtype)\n",
    "    else:\n",
    "        v = vector\n",
    "    \n",
    "    # ----------------------------------------------------------------\n",
    "    # check shapes\n",
    "    # since we accept mutiple shape input formats, we must establish\n",
    "    # a consistent shape for efficient computation\n",
    "    # Needed shapes:\n",
    "    # tensor -> (n,3,3)\n",
    "    # vector -> (n,1,3) or (n,3,3)\n",
    "    \n",
    "    # log received shapes\n",
    "    logger.debug(\"Shapes received:\")\n",
    "    logger.debug(\"x shape: {}\".format(x.shape))\n",
    "    logger.debug(\"v shape: {}\".format(v.shape))\n",
    "    \n",
    "    # ----- check for \"short\" input shapes\n",
    "    # expand dimensions if single tensor: (3,3) -> (1,3,3)\n",
    "    if len(x.shape) == 2:\n",
    "        x = np.expand_dims(x, 0)\n",
    "    # expand dimensions if single vector: (3) -> (1,3)\n",
    "    if len(v.shape) == 1:\n",
    "        v = np.expand_dims(v, 0)\n",
    "    \n",
    "    # ----- check for required shapes\n",
    "    # check for expected vector shape -> must have 3 elements in last axis\n",
    "    # we need to check here in order to perform proper \"repeat\" operation (see below)\n",
    "    if not v.shape[1] == 3:\n",
    "        raise ValueError(\"Vector must have 3 elements on last axis. Received: {}\".format(vector.shape[1]))\n",
    "    # check for expected tensor shape -> (n,3,3)\n",
    "    if len(x.shape) != 3 or x.shape[1] != 3 or x.shape[2] != 3:\n",
    "        raise ValueError(\"Invalid shape found: expected (n,3,3), received {}\".format(x.shape))\n",
    "    \n",
    "    # ----- match tensor shapes for matrix multiplication\n",
    "    # match v shape with x shape:\n",
    "    if v.shape[0] != x.shape[0]:\n",
    "        # if v == (1,3) then v -> (n,3)\n",
    "        if v.shape[0] == 1:\n",
    "            v = np.repeat(v, x.shape[0], axis=0)\n",
    "        # if v == (m,3) and m != n, we cannot perform matrix multiplication\n",
    "        else:\n",
    "            raise ValueError(\"tensors must have same shape at first axis if reference is not a vector: x {}, v {}\".format(x.shape[0], v.shape[0]))\n",
    "    # match array shape for consistent matrix multiplication\n",
    "    # if v == (n,3) then v -> (n,1,3)\n",
    "    if len(v.shape) == 2:\n",
    "        v = np.expand_dims(v, axis=1)\n",
    "    \n",
    "    # log vectors after correction\n",
    "    logger.debug(\"Shapes vector shape correction:\")\n",
    "    logger.debug(\"x shape: {}\".format(x.shape))\n",
    "    logger.debug(\"v shape: {}\".format(v.shape))\n",
    "    \n",
    "    # ----------------------------------------------------------------\n",
    "    # compute new tensor\n",
    "    \n",
    "    # X' = V * X * transpose(V)'\n",
    "    # https://utsv.net/solid-mechanics/introduction/2nd-order-tensor-transformations\n",
    "    # https://link.springer.com/content/pdf/bbm:978-3-662-04168-0/1.pdf\n",
    "    \n",
    "    logger.debug(\"Computing new tensor\")\n",
    "    \n",
    "    # compute proper transpose\n",
    "    v_ = np.transpose(v,axes=(0,2,1))\n",
    "        \n",
    "    # compute new tensor value\n",
    "    new_x = np.matmul(v, x)\n",
    "    new_x = np.matmul(new_x, v_)\n",
    "    \n",
    "    # log new information\n",
    "    logger.debug(\"new_x shape: {}\".format(new_x.shape))\n",
    "    logger.debug(\"new_x: {}\".format(new_x))\n",
    "    \n",
    "    return new_x"
   ]
  },
  {
   "cell_type": "markdown",
   "metadata": {},
   "source": [
    "## test util functions"
   ]
  },
  {
   "cell_type": "markdown",
   "metadata": {},
   "source": [
    "Test shape consistency"
   ]
  },
  {
   "cell_type": "code",
   "execution_count": 485,
   "metadata": {},
   "outputs": [
    {
     "name": "stdout",
     "output_type": "stream",
     "text": [
      "(16992, 3, 3)\n",
      "(16992, 3)\n",
      "(16992, 1, 1)\n"
     ]
    }
   ],
   "source": [
    "a = np.random.random((16992, 6))\n",
    "# ensure tensor is a sym\n",
    "# -> if it is a vector, it will return a single tensor\n",
    "# -> if it is an array of vectors, it will return an array of tensors\n",
    "a = to_sym_tensor(a)\n",
    "print(a.shape)\n",
    "b = np.random.random((16992, 3))\n",
    "print(b.shape)\n",
    "a_new = apply_tensor_transformation(a, b, log_level=logging.WARN)\n",
    "print(a_new.shape)"
   ]
  },
  {
   "cell_type": "code",
   "execution_count": 525,
   "metadata": {},
   "outputs": [],
   "source": [
    "def manual_test(ma,mb):\n",
    "    assert len(ma) == len(mb), \"ma must be the same length as mb: {}, {}\".format(ma.shape,mb.shape)\n",
    "    xs = []\n",
    "    for a,b in zip(ma,mb):\n",
    "        x = np.matmul(np.matmul(b, a), b.T)\n",
    "        xs.append(x)\n",
    "    return xs"
   ]
  },
  {
   "cell_type": "markdown",
   "metadata": {},
   "source": [
    "Test numerical value"
   ]
  },
  {
   "cell_type": "code",
   "execution_count": 507,
   "metadata": {},
   "outputs": [
    {
     "data": {
      "text/plain": [
       "True"
      ]
     },
     "execution_count": 507,
     "metadata": {},
     "output_type": "execute_result"
    }
   ],
   "source": [
    "a = [\n",
    "    [1,1,1,0,0,0],\n",
    "    [2,1,2,2,4,2],\n",
    "]\n",
    "b = np.asarray([\n",
    "        [2,0,0],\n",
    "        [0,1,1]\n",
    "    ])\n",
    "\n",
    "a = to_sym_tensor(a)\n",
    "\n",
    "a_true = manual_test(a,b)\n",
    "a_est = np.squeeze(apply_tensor_transformation(a, b))\n",
    "\n",
    "np.all(a_true == a_est)"
   ]
  },
  {
   "cell_type": "code",
   "execution_count": 522,
   "metadata": {},
   "outputs": [
    {
     "name": "stdout",
     "output_type": "stream",
     "text": [
      "(5, 3, 3) (5, 3)\n"
     ]
    },
    {
     "data": {
      "text/plain": [
       "True"
      ]
     },
     "execution_count": 522,
     "metadata": {},
     "output_type": "execute_result"
    }
   ],
   "source": [
    "a = np.random.random((5,6))\n",
    "b = np.random.random((3))\n",
    "\n",
    "a = to_sym_tensor(a)\n",
    "b_test = np.repeat(np.expand_dims(b, 0), a.shape[0], axis=0)\n",
    "\n",
    "a_true = manual_test(a,b_test)\n",
    "a_est = np.squeeze(apply_tensor_transformation(a, b))\n",
    "\n",
    "np.all(a_true == a_est)"
   ]
  },
  {
   "cell_type": "code",
   "execution_count": 531,
   "metadata": {},
   "outputs": [
    {
     "data": {
      "text/plain": [
       "True"
      ]
     },
     "execution_count": 531,
     "metadata": {},
     "output_type": "execute_result"
    }
   ],
   "source": [
    "a = np.random.random((5,6))\n",
    "b = np.random.random((5,3))\n",
    "\n",
    "a = to_sym_tensor(a)\n",
    "a_true = manual_test(a,b)\n",
    "a_est = np.squeeze(apply_tensor_transformation(a, b))\n",
    "\n",
    "np.all(a_true == a_est)"
   ]
  },
  {
   "cell_type": "code",
   "execution_count": 534,
   "metadata": {},
   "outputs": [
    {
     "data": {
      "text/plain": [
       "True"
      ]
     },
     "execution_count": 534,
     "metadata": {},
     "output_type": "execute_result"
    }
   ],
   "source": [
    "a = np.random.random((5,6))\n",
    "b = np.random.random((5,3,3))\n",
    "\n",
    "a = to_sym_tensor(a)\n",
    "a_true = manual_test(a,b)\n",
    "a_est = np.squeeze(apply_tensor_transformation(a, b))\n",
    "\n",
    "np.all(a_true == a_est)"
   ]
  },
  {
   "cell_type": "markdown",
   "metadata": {},
   "source": [
    "test computation efficiency"
   ]
  },
  {
   "cell_type": "code",
   "execution_count": 549,
   "metadata": {},
   "outputs": [
    {
     "name": "stdout",
     "output_type": "stream",
     "text": [
      "custom code: 0.0784604549407959 s\n",
      "simple code: 2.4308252334594727 s\n",
      "efficiency: 30.98153375855017\n"
     ]
    }
   ],
   "source": [
    "import time\n",
    "\n",
    "a = np.random.random((1000000, 6))\n",
    "a = to_sym_tensor(a)\n",
    "b = np.random.random((1000000, 3))\n",
    "\n",
    "start_time = time.time()\n",
    "apply_tensor_transformation(a, b)\n",
    "t1 = time.time() - start_time\n",
    "print(\"custom code: {} s\".format(t1))\n",
    "start_time = time.time()\n",
    "manual_test(a, b)\n",
    "t2 = time.time() - start_time\n",
    "print(\"simple code: {} s\".format(t2))\n",
    "\n",
    "\n",
    "print(\"efficiency: {}\".format(t2/t1))"
   ]
  },
  {
   "cell_type": "markdown",
   "metadata": {},
   "source": [
    "# Compute stress in FF direction"
   ]
  },
  {
   "cell_type": "code",
   "execution_count": 565,
   "metadata": {},
   "outputs": [],
   "source": [
    "from pathlib import Path\n",
    "import numpy as np\n",
    "import logging\n",
    "\n",
    "import pyvista as pv\n",
    "pv.set_jupyter_backend(\"pythreejs\")\n",
    "\n",
    "from project_heart.enums import *\n",
    "from project_heart.lv import LV"
   ]
  },
  {
   "cell_type": "code",
   "execution_count": 566,
   "metadata": {},
   "outputs": [],
   "source": [
    "directory = Path(\"C:/Users/igorp/OneDrive - University of South Florida/Igor/Documents/Paper 1/stress_strain_plots/ref_files\")\n",
    "filename = \"57.32_40.94_10.08.2022_LVRNN_IDEAL_V4\"\n",
    "# filename = \"62.71_68.65_10.08.2022_LVRNN_TYPEA_V4\""
   ]
  },
  {
   "cell_type": "code",
   "execution_count": 567,
   "metadata": {},
   "outputs": [],
   "source": [
    "from project_heart.examples import get_lv_ideal, get_lv_typeA\n",
    "lv = get_lv_ideal(str(directory/filename) + \".xplt\", statesfile=None)\n",
    "# lv = get_lv_typeA(str(directory/filename) + \".xplt\", statesfile=None)"
   ]
  },
  {
   "cell_type": "code",
   "execution_count": 568,
   "metadata": {},
   "outputs": [],
   "source": [
    "fibers = np.asarray(lv.states.data[\"fiber vector\"])\n",
    "stress = np.asarray(lv.states.data[\"stress\"])\n",
    "strain = np.asarray(lv.states.data[\"Lagrange strain\"])"
   ]
  },
  {
   "cell_type": "code",
   "execution_count": 569,
   "metadata": {},
   "outputs": [
    {
     "data": {
      "text/plain": [
       "((163, 16992, 3), (163, 16992, 6), (163, 16992, 6))"
      ]
     },
     "execution_count": 569,
     "metadata": {},
     "output_type": "execute_result"
    }
   ],
   "source": [
    "fibers.shape, stress.shape, strain.shape"
   ]
  },
  {
   "cell_type": "code",
   "execution_count": 570,
   "metadata": {},
   "outputs": [],
   "source": [
    "stress_T = []\n",
    "for s, f in zip(stress, fibers):\n",
    "    s = to_sym_tensor(s)\n",
    "    s = apply_tensor_transformation(s, f)\n",
    "    stress_T.append(s)\n",
    "stress_T = np.asarray(stress_T)"
   ]
  },
  {
   "cell_type": "code",
   "execution_count": 571,
   "metadata": {},
   "outputs": [],
   "source": [
    "strain_T = []\n",
    "for s, f in zip(strain, fibers):\n",
    "    s = to_sym_tensor(s)\n",
    "    s = apply_tensor_transformation(s, f)\n",
    "    strain_T.append(s)\n",
    "strain_T = np.asarray(strain_T)"
   ]
  },
  {
   "cell_type": "code",
   "execution_count": 572,
   "metadata": {},
   "outputs": [],
   "source": [
    "stress_T = np.squeeze(stress_T, -1)\n",
    "stress_T_stack = np.hstack(stress_T)"
   ]
  },
  {
   "cell_type": "code",
   "execution_count": 573,
   "metadata": {},
   "outputs": [],
   "source": [
    "strain_T = np.squeeze(strain_T, -1)\n",
    "strain_T_stack = np.hstack(strain_T)"
   ]
  },
  {
   "cell_type": "code",
   "execution_count": 574,
   "metadata": {},
   "outputs": [],
   "source": [
    "idx = np.arange(1,stress_T_stack.shape[0]+1).reshape(-1,1)"
   ]
  },
  {
   "cell_type": "code",
   "execution_count": 575,
   "metadata": {},
   "outputs": [],
   "source": [
    "np.savetxt(\"stress_FF.csv\", np.hstack((idx, stress_T_stack)), delimiter=\",\", fmt=\"%.3f\")"
   ]
  },
  {
   "cell_type": "code",
   "execution_count": 576,
   "metadata": {},
   "outputs": [],
   "source": [
    "np.savetxt(\"strain_FF.csv\", np.hstack((idx, strain_T_stack)), delimiter=\",\", fmt=\"%.3f\")"
   ]
  }
 ],
 "metadata": {
  "kernelspec": {
   "display_name": "Python 3.9.7 ('project_heart')",
   "language": "python",
   "name": "python3"
  },
  "language_info": {
   "codemirror_mode": {
    "name": "ipython",
    "version": 3
   },
   "file_extension": ".py",
   "mimetype": "text/x-python",
   "name": "python",
   "nbconvert_exporter": "python",
   "pygments_lexer": "ipython3",
   "version": "3.9.7 (default, Sep 16 2021, 16:59:28) [MSC v.1916 64 bit (AMD64)]"
  },
  "orig_nbformat": 4,
  "vscode": {
   "interpreter": {
    "hash": "a4b270fe5129ef310552b5197d637a230d47119f1e46f0b92ff32b1c5f5c5425"
   }
  }
 },
 "nbformat": 4,
 "nbformat_minor": 2
}
