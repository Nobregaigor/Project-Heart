{
 "cells": [
  {
   "cell_type": "code",
   "execution_count": 1,
   "metadata": {},
   "outputs": [],
   "source": [
    "from pathlib import Path\n",
    "import numpy as np\n",
    "import logging\n",
    "\n",
    "import pyvista as pv\n",
    "pv.set_jupyter_backend(\"pythreejs\")\n",
    "\n",
    "from project_heart.enums import *\n",
    "from project_heart.lv import LV"
   ]
  },
  {
   "cell_type": "code",
   "execution_count": 2,
   "metadata": {},
   "outputs": [],
   "source": [
    "filepath = Path(\"C:/Users/igorp/Downloads/0.3_80.00_50.00_LVIDEAL_HEX20.xplt\")\n",
    "# filepath = Path(\"C:/Users/igornobrega/Downloads/0.3_80.00_50.00_LVIDEAL_HEX20.xplt\")"
   ]
  },
  {
   "cell_type": "markdown",
   "metadata": {},
   "source": [
    "# Load File and Create Speckles"
   ]
  },
  {
   "cell_type": "code",
   "execution_count": 3,
   "metadata": {},
   "outputs": [
    {
     "data": {
      "application/vnd.jupyter.widget-view+json": {
       "model_id": "cd30695620974076bccde595631c22a8",
       "version_major": 2,
       "version_minor": 0
      },
      "text/plain": [
       "Renderer(camera=PerspectiveCamera(aspect=1.3333333333333333, children=(DirectionalLight(position=(50000.000000…"
      ]
     },
     "metadata": {},
     "output_type": "display_data"
    }
   ],
   "source": [
    "lv = LV.from_file(filepath, log_level=logging.DEBUG)\n",
    "lv.identify_regions(LV_GEO_TYPES.IDEAL,\n",
    "    apex_base_args={\"ab_ql\":0.03, \"ab_qh\":0.90},\n",
    "    endo_epi_args={\"threshold\":85,})\n",
    "lv.plot(\"mesh\", \n",
    "        scalars=LV_MESH_DATA.SURFS,\n",
    "        container=\"points\",\n",
    "        show_edges=True,\n",
    "        categorical=True,\n",
    "        split_sharp_edges=True,\n",
    "        smooth_shading=False,\n",
    "        pretty=False,\n",
    "        vnodes=[\n",
    "            (LV_VIRTUAL_NODES.BASE, \"red\"),\n",
    "            (LV_VIRTUAL_NODES.APEX, \"red\")\n",
    "            ],\n",
    "        )"
   ]
  },
  {
   "cell_type": "markdown",
   "metadata": {},
   "source": [
    "## Create Longitudinal Speckles"
   ]
  },
  {
   "cell_type": "code",
   "execution_count": 4,
   "metadata": {},
   "outputs": [
    {
     "name": "stderr",
     "output_type": "stream",
     "text": [
      "INFO:create_speckles:Speckle: name: 0, group: endo, collection: long-6\n",
      "INFO:create_speckles:Speckle: name: 0, group: epi, collection: long-6\n",
      "INFO:create_speckles:Speckle: name: 1, group: endo, collection: long-6\n",
      "INFO:create_speckles:Speckle: name: 1, group: epi, collection: long-6\n",
      "INFO:create_speckles:Speckle: name: 2, group: endo, collection: long-6\n",
      "INFO:create_speckles:Speckle: name: 2, group: epi, collection: long-6\n",
      "INFO:create_speckles:Speckle: name: 3, group: endo, collection: long-6\n",
      "INFO:create_speckles:Speckle: name: 3, group: epi, collection: long-6\n",
      "INFO:create_speckles:Speckle: name: 4, group: endo, collection: long-6\n",
      "INFO:create_speckles:Speckle: name: 4, group: epi, collection: long-6\n",
      "INFO:create_speckles:Speckle: name: 5, group: endo, collection: long-6\n",
      "INFO:create_speckles:Speckle: name: 5, group: epi, collection: long-6\n"
     ]
    },
    {
     "data": {
      "application/vnd.jupyter.widget-view+json": {
       "model_id": "8c8e124136644df2a23eef1480a9461a",
       "version_major": 2,
       "version_minor": 0
      },
      "text/plain": [
       "Renderer(camera=PerspectiveCamera(aspect=1.3333333333333333, children=(DirectionalLight(position=(50000.000000…"
      ]
     },
     "metadata": {},
     "output_type": "display_data"
    }
   ],
   "source": [
    "for i, a in enumerate(np.linspace(0, np.pi, 6, endpoint=False)):\n",
    "    \n",
    "    spk = lv.create_speckles(\n",
    "        collection=\"long-6\",\n",
    "        group=\"endo\",\n",
    "        name=str(i),\n",
    "        from_nodeset=LV_SURFS.ENDO,\n",
    "        exclude_nodeset=LV_SURFS.BASE, # does not afect ideal case\n",
    "        d=1.75,\n",
    "        k=0.5,\n",
    "        normal_to=[np.cos(a),np.sin(a),0.0],\n",
    "        n_subsets=6,\n",
    "        subsets_criteria=\"z2\",\n",
    "        t=0.0,\n",
    "        kmin=0.125,\n",
    "        kmax=0.95,\n",
    "        log_level=logging.INFO,\n",
    "    )\n",
    "\n",
    "    spk = lv.create_speckles(\n",
    "        collection=\"long-6\",\n",
    "        group=\"epi\",\n",
    "        name=str(i),\n",
    "        from_nodeset=LV_SURFS.EPI,\n",
    "        exclude_nodeset=LV_SURFS.BASE, # does not afect ideal case\n",
    "        d=2.4,\n",
    "        k=0.5,\n",
    "        normal_to=[np.cos(a),np.sin(a),0.0],\n",
    "        n_subsets=6,\n",
    "        subsets_criteria=\"z2\",\n",
    "        t=0.0,\n",
    "        kmin=0.125,\n",
    "        kmax=0.95,\n",
    "        log_level=logging.INFO,\n",
    "    )\n",
    "\n",
    "lv.set_region_from_speckles(\"long-6\", spk_collection=\"long-6\")\n",
    "lv.plot(\n",
    "    scalars=\"long-6\", \n",
    "    categorical=True, \n",
    "    cmap=\"jet\",\n",
    "    vnodes=[\n",
    "            (LV_VIRTUAL_NODES.BASE, \"red\"),\n",
    "            (LV_VIRTUAL_NODES.APEX, \"red\")\n",
    "            ],\n",
    "    )"
   ]
  },
  {
   "cell_type": "code",
   "execution_count": 5,
   "metadata": {},
   "outputs": [
    {
     "name": "stdout",
     "output_type": "stream",
     "text": [
      "18\n",
      "18\n",
      "18\n",
      "18\n",
      "18\n",
      "18\n"
     ]
    },
    {
     "data": {
      "application/vnd.jupyter.widget-view+json": {
       "model_id": "8ffb3826a12043c79f9a48d390ea43b3",
       "version_major": 2,
       "version_minor": 0
      },
      "text/plain": [
       "Renderer(camera=PerspectiveCamera(aspect=1.3333333333333333, children=(DirectionalLight(position=(50000.000000…"
      ]
     },
     "metadata": {},
     "output_type": "display_data"
    }
   ],
   "source": [
    "scalars = np.zeros(lv.mesh.n_points)\n",
    "\n",
    "\n",
    "for i, kl_ids in enumerate(spk[0].k_local_ids):\n",
    "    scalars[spk[0].ids[kl_ids]] = i+1\n",
    "\n",
    "for i in range(len(spk)):\n",
    "    print(len(spk[i].k_ids))\n",
    "\n",
    "plotter = pv.Plotter(lighting='three lights')\n",
    "plotter.background_color = 'white'\n",
    "\n",
    "plotter.add_mesh(lv.mesh, scalars=scalars, show_edges=True, cmap=\"jet\")\n",
    "plotter.show()"
   ]
  },
  {
   "cell_type": "markdown",
   "metadata": {},
   "source": [
    "## Create circumferential speckles"
   ]
  },
  {
   "cell_type": "code",
   "execution_count": 6,
   "metadata": {},
   "outputs": [
    {
     "name": "stderr",
     "output_type": "stream",
     "text": [
      "INFO:create_speckles:Speckle: name: subapex, group: endo, collection: circ-6\n",
      "INFO:create_speckles:Speckle: name: subapex, group: epi, collection: circ-6\n",
      "INFO:create_speckles:Speckle: name: apex, group: endo, collection: circ-6\n",
      "INFO:create_speckles:Speckle: name: apex, group: epi, collection: circ-6\n",
      "INFO:create_speckles:Speckle: name: superapex, group: endo, collection: circ-6\n",
      "INFO:create_speckles:Speckle: name: superapex, group: epi, collection: circ-6\n",
      "INFO:create_speckles:Speckle: name: submid, group: endo, collection: circ-6\n",
      "INFO:create_speckles:Speckle: name: submid, group: epi, collection: circ-6\n",
      "INFO:create_speckles:Speckle: name: mid, group: endo, collection: circ-6\n",
      "INFO:create_speckles:Speckle: name: mid, group: epi, collection: circ-6\n",
      "INFO:create_speckles:Speckle: name: supermid, group: endo, collection: circ-6\n",
      "INFO:create_speckles:Speckle: name: supermid, group: epi, collection: circ-6\n",
      "INFO:create_speckles:Speckle: name: subbase, group: endo, collection: circ-6\n",
      "INFO:create_speckles:Speckle: name: subbase, group: epi, collection: circ-6\n",
      "INFO:create_speckles:Speckle: name: base, group: endo, collection: circ-6\n",
      "INFO:create_speckles:Speckle: name: base, group: epi, collection: circ-6\n",
      "INFO:create_speckles:Speckle: name: superbase, group: endo, collection: circ-6\n",
      "INFO:create_speckles:Speckle: name: superbase, group: epi, collection: circ-6\n"
     ]
    },
    {
     "data": {
      "application/vnd.jupyter.widget-view+json": {
       "model_id": "0e420cab0608438fb6dfd81110356f43",
       "version_major": 2,
       "version_minor": 0
      },
      "text/plain": [
       "Renderer(camera=PerspectiveCamera(aspect=1.3333333333333333, children=(DirectionalLight(position=(50000.000000…"
      ]
     },
     "metadata": {},
     "output_type": "display_data"
    }
   ],
   "source": [
    "names = [\"subapex\", \"apex\", \"superapex\", \"submid\", \"mid\", \"supermid\", \"subbase\", \"base\", \"superbase\"]\n",
    "\n",
    "for i, a in enumerate(np.linspace(0.25, 0.95, len(names), endpoint=False)):\n",
    "    \n",
    "    spk = lv.create_speckles(\n",
    "        collection=\"circ-6\",\n",
    "        group=\"endo\",\n",
    "        name=names[i],\n",
    "        from_nodeset=LV_SURFS.ENDO,\n",
    "        d=1.75,\n",
    "        k=a,\n",
    "        normal_to=[0.0, 0.0, 1.0],\n",
    "        n_subsets=6,\n",
    "        subsets_criteria=\"angles\",\n",
    "        cluster_criteria=\"angles2\",\n",
    "        t=0.0,\n",
    "        kmin=-1.0,\n",
    "        kmax=-1.0,\n",
    "        log_level=logging.INFO,\n",
    "    )\n",
    "\n",
    "    spk = lv.create_speckles(\n",
    "        collection=\"circ-6\",\n",
    "        group=\"epi\",\n",
    "        name=names[i],\n",
    "        from_nodeset=LV_SURFS.EPI,\n",
    "        d=1.75,\n",
    "        k=a,\n",
    "        normal_to=[0.0, 0.0, 1.0],\n",
    "        n_subsets=6,\n",
    "        subsets_criteria=\"angles\",\n",
    "        cluster_criteria=\"angles2\",\n",
    "        t=0.0,\n",
    "        kmin=-1.0,\n",
    "        kmax=-1.0,\n",
    "        log_level=logging.INFO,\n",
    "    )\n",
    "\n",
    "lv.set_region_from_speckles(\"circ-6\", spk_collection=\"circ-6\")\n",
    "lv.plot(\n",
    "    scalars=\"circ-6\", \n",
    "    categorical=True, \n",
    "    cmap=\"jet\",\n",
    "    vnodes=[\n",
    "            (LV_VIRTUAL_NODES.BASE, \"red\"),\n",
    "            (LV_VIRTUAL_NODES.APEX, \"red\")\n",
    "            ],\n",
    "    )"
   ]
  },
  {
   "cell_type": "code",
   "execution_count": 7,
   "metadata": {},
   "outputs": [],
   "source": [
    "scalars = np.zeros(lv.mesh.n_points)\n",
    "for i, kids in enumerate(spk[3].k_ids):\n",
    "    scalars[kids] = i+1"
   ]
  },
  {
   "cell_type": "code",
   "execution_count": 8,
   "metadata": {},
   "outputs": [],
   "source": [
    "scalars = np.zeros(lv.mesh.n_points)\n",
    "scalars[spk[4].ids] = 1"
   ]
  },
  {
   "cell_type": "code",
   "execution_count": 9,
   "metadata": {},
   "outputs": [
    {
     "name": "stdout",
     "output_type": "stream",
     "text": [
      "17\n",
      "16\n",
      "16\n",
      "17\n",
      "16\n",
      "16\n"
     ]
    }
   ],
   "source": [
    "for i in range(len(spk)):\n",
    "    print(len(spk[i].k_ids))"
   ]
  },
  {
   "cell_type": "code",
   "execution_count": 10,
   "metadata": {},
   "outputs": [
    {
     "data": {
      "application/vnd.jupyter.widget-view+json": {
       "model_id": "b89f3eee362240c298eab6682111c47a",
       "version_major": 2,
       "version_minor": 0
      },
      "text/plain": [
       "Renderer(camera=PerspectiveCamera(aspect=1.3333333333333333, children=(DirectionalLight(position=(50000.000000…"
      ]
     },
     "metadata": {},
     "output_type": "display_data"
    }
   ],
   "source": [
    "scalars = np.zeros(lv.mesh.n_points)\n",
    "for i, kids in enumerate(spk[3].k_ids):\n",
    "    scalars[kids] = i+1\n",
    "    \n",
    "plotter = pv.Plotter(lighting='three lights')\n",
    "plotter.background_color = 'white'\n",
    "\n",
    "plotter.add_mesh(lv.mesh, scalars=scalars, show_edges=True, cmap=\"jet\")\n",
    "plotter.show()"
   ]
  },
  {
   "cell_type": "markdown",
   "metadata": {},
   "source": [
    "# Compute Metric"
   ]
  },
  {
   "cell_type": "markdown",
   "metadata": {},
   "source": [
    "Using some subset for numerical validation"
   ]
  },
  {
   "cell_type": "code",
   "execution_count": 11,
   "metadata": {},
   "outputs": [
    {
     "name": "stderr",
     "output_type": "stream",
     "text": [
      "INFO:LV.BaseMetricsComputations:Computing metric 'LV_STATES.LONG_LENGTH'\n"
     ]
    },
    {
     "data": {
      "text/plain": [
       "array([152.86024563, 146.17901856, 138.111345  , 134.58517919,\n",
       "       129.60094475, 129.60242088, 129.6155034 , 129.64184299,\n",
       "       129.65352521, 129.67877283, 129.6900062 , 129.71488134,\n",
       "       129.7261924 , 129.75109477, 129.76277479, 129.78792805,\n",
       "       129.80013587, 129.82566254, 129.83848154, 129.86444861,\n",
       "       129.87792104, 129.90436121, 129.9185019 , 129.94542718,\n",
       "       129.96023973, 129.98765264, 130.00312837, 130.03101951,\n",
       "       130.04714394, 130.07549967, 130.09225443, 130.12105611,\n",
       "       130.13841803, 130.1676391 , 130.18557772, 130.21518565,\n",
       "       130.23366539, 130.26361847, 130.28259657, 130.31284504,\n",
       "       130.33227014, 130.36275438, 130.38256858, 130.41322013,\n",
       "       130.43335982])"
      ]
     },
     "execution_count": 11,
     "metadata": {},
     "output_type": "execute_result"
    }
   ],
   "source": [
    "long_spks = lv.get_speckles(spk_collection=\"long-6\")\n",
    "lv.longitudinal_length(long_spks, approach=\"k_ids\")"
   ]
  },
  {
   "cell_type": "code",
   "execution_count": 13,
   "metadata": {},
   "outputs": [
    {
     "data": {
      "image/png": "[encoded data removed]",
      "text/plain": [
       "<Figure size 1080x504 with 1 Axes>"
      ]
     },
     "metadata": {
      "needs_background": "light"
     },
     "output_type": "display_data"
    },
    {
     "data": {
      "image/png": "[encoded data removed]",
      "text/plain": [
       "<Figure size 1080x504 with 1 Axes>"
      ]
     },
     "metadata": {
      "needs_background": "light"
     },
     "output_type": "display_data"
    }
   ],
   "source": [
    "lv.plot_metric(lv.STATES.LONG_LENGTH, \n",
    "    from_ts=0.0,\n",
    "    plot_infos=[\"group\"])"
   ]
  }
 ],
 "metadata": {
  "interpreter": {
   "hash": "a4b270fe5129ef310552b5197d637a230d47119f1e46f0b92ff32b1c5f5c5425"
  },
  "kernelspec": {
   "display_name": "Python 3.9.7 ('project_heart')",
   "language": "python",
   "name": "python3"
  },
  "language_info": {
   "codemirror_mode": {
    "name": "ipython",
    "version": 3
   },
   "file_extension": ".py",
   "mimetype": "text/x-python",
   "name": "python",
   "nbconvert_exporter": "python",
   "pygments_lexer": "ipython3",
   "version": "3.9.7"
  },
  "orig_nbformat": 4
 },
 "nbformat": 4,
 "nbformat_minor": 2
}
