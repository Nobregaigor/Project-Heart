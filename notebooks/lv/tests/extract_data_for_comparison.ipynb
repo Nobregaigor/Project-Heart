{
 "cells": [
  {
   "cell_type": "code",
   "execution_count": 1,
   "metadata": {},
   "outputs": [],
   "source": [
    "from project_heart.lv import LV\n",
    "import numpy as np\n",
    "import pyvista as pv\n",
    "pv.set_jupyter_backend(\"pythreejs\")\n",
    "\n",
    "import os\n",
    "from pathlib import Path\n",
    "\n",
    "from project_heart.enums import *"
   ]
  },
  {
   "cell_type": "markdown",
   "metadata": {},
   "source": [
    "# Load File"
   ]
  },
  {
   "cell_type": "code",
   "execution_count": 28,
   "metadata": {},
   "outputs": [
    {
     "name": "stderr",
     "output_type": "stream",
     "text": [
      "INFO:LV_RegionIdentifier.identify_regions_typeA:Identifying regions from 'type A' geometry.\n",
      "INFO:LV_RegionIdentifier.identify_endo_epi_base_borders_from_nodesets:len(endo_base): 329\n",
      "INFO:LV_RegionIdentifier.identify_endo_epi_base_borders_from_nodesets:len(epi_base): 369\n"
     ]
    }
   ],
   "source": [
    "from project_heart.examples import get_lv_typeA\n",
    "# lv = get_lv_typeA(filepath=\"C:/Users/igorp/Downloads/0.28_70.00_40.00_LVMYO_HEX8_83648_wr.xplt\", statesfile=None)\n",
    "# lv = get_lv_typeA(filepath=\"C:/Users/igorp/Downloads/56.15_69.31_25_56.15_69.31_20.07.2022_LVRNN_TYPEA_V4.xplt\", statesfile=None)\n",
    "# lv = get_lv_typeA(filepath=\"C:/Users/igorp/Downloads/52.85_60.01_70_52.85_60.01_20.07.2022_LVRNN_TYPEA_V4.xplt\", statesfile=None)\n",
    "lv = get_lv_typeA(filepath=\"C:/Users/igorp/Downloads/65.55_65.55_1_65.55_65.55_02.08.2022.1_LVRNN_TYPEA_V4.xplt\", statesfile=None)\n"
   ]
  },
  {
   "cell_type": "code",
   "execution_count": 29,
   "metadata": {},
   "outputs": [
    {
     "data": {
      "application/vnd.jupyter.widget-view+json": {
       "model_id": "edc10c05f64240ccbe915ce962b926f7",
       "version_major": 2,
       "version_minor": 0
      },
      "text/plain": [
       "Renderer(camera=PerspectiveCamera(aspect=1.5, children=(DirectionalLight(intensity=0.25, position=(0.0, 0.0, 1…"
      ]
     },
     "metadata": {},
     "output_type": "display_data"
    }
   ],
   "source": [
    "lv.plot(\"surface\", \n",
    "        scalars=LV_MESH_DATA.SURFS_DETAILED,\n",
    "        categorical=True,\n",
    "        )"
   ]
  },
  {
   "cell_type": "markdown",
   "metadata": {},
   "source": [
    "# Extract Metrics"
   ]
  },
  {
   "cell_type": "markdown",
   "metadata": {},
   "source": [
    "## Extract geometrics"
   ]
  },
  {
   "cell_type": "code",
   "execution_count": 31,
   "metadata": {},
   "outputs": [
    {
     "name": "stderr",
     "output_type": "stream",
     "text": [
      "INFO:LV:Computing apex_base_over_timesteps.\n",
      "INFO:LV.BaseMetricsComputations.compute_base_apex_ref_over_timesteps:Computing apex and base virtual nodes over timesteps\n",
      "INFO:LV:Extracting volume.\n",
      "INFO:LV:Extracting global_longitudinal_length.\n",
      "INFO:LV.BaseMetricsComputations:Computing metric 'LV_STATES.GLOBAL_LONGITUDINAL_LENGTH'\n",
      "INFO:LV:Extracting global_circumferential_length.\n",
      "INFO:LV.BaseMetricsComputations:Computing metric 'LV_STATES.GLOBAL_CIRCUMFERENTIAL_LENGTH'\n"
     ]
    }
   ],
   "source": [
    "df = lv.extract_geometrics({\n",
    "        \"volume\":{},\n",
    "        \"apex_base_over_timesteps\": {\n",
    "            \"apex_spks\": {\"spk_name\":\"apex\", \"spk_group\":\"endo\", \"spk_collection\":\"LA\"},\n",
    "            \"base_spks\": {\"spk_name\":\"base\", \"spk_group\":\"endo\", \"spk_collection\":\"LA\"},\n",
    "            },\n",
    "        # \"longitudinal_distance\": {\n",
    "        #     \"apex_spks\": {\"spk_name\":\"apex\", \"spk_collection\":\"LA\"},\n",
    "        #     \"base_spks\": {\"spk_name\":\"base\", \"spk_collection\":\"LA\"},\n",
    "        #     \"approach\":\"centroid\", \n",
    "        #     \"use_axis_aligment\":False,\n",
    "        #     \"reduce_by\":{\"group\"}\n",
    "        #     },\n",
    "        # \"radial_distance\": {\n",
    "        #     \"spks\": {\"spk_collection\":\"circ-6\"},\n",
    "        #     \"approach\":\"moving_vector\",\n",
    "        #     \"reduce_by\":{\"group\", \"name\", \"group_name\"},\n",
    "        #     },\n",
    "        # \"radial_length\": {\n",
    "        #     \"spks\": {\"spk_collection\":\"circ-6\"},\n",
    "        #     \"approach\":\"moving_centers\",\n",
    "        #     \"reduce_by\":{\"group\", \"name\", \"group_name\"},\n",
    "        #     },\n",
    "        # \"wall_thickness\": {\n",
    "        #     \"endo_spks\": {\"spk_group\":\"endo\", \"spk_collection\":\"circ-6\"},\n",
    "        #     \"epi_spks\": {\"spk_group\":\"epi\", \"spk_collection\":\"circ-6\"},\n",
    "        #     \"approach\":\"radial_distance\",\n",
    "        #     \"reduce_by\":{\"name\"},\n",
    "        #     },\n",
    "        # \"longitudinal_length\": {\n",
    "        #     \"spks\": {\"spk_collection\":\"long-6\"},\n",
    "        #     \"approach\":\"k_ids\",\n",
    "        #     \"reduce_by\":{\"subset\"},\n",
    "        #     \"merge_subset\":{\n",
    "        #             5: 0, \n",
    "        #             4: 1, \n",
    "        #             3: 2\n",
    "        #         },\n",
    "        #     },\n",
    "        \"global_longitudinal_length\": {\n",
    "            \"spks\": {\"spk_collection\":\"long-1\"},\n",
    "            \"approach\":\"k_ids\",\n",
    "            \"reduce_by\":{\"group\", \"group_name\"},\n",
    "            },\n",
    "        # \"circumferential_length\": {\n",
    "        #     \"spks\": {\"spk_collection\":\"circ-6\"},\n",
    "        #     \"reduce_by\":{\"group\"},\n",
    "        #     },\n",
    "        \"global_circumferential_length\": {\n",
    "            \"spks\": {\"spk_collection\":\"circ-1\"},\n",
    "            \"reduce_by\":{\"group\", \"group_name\"},\n",
    "            },\n",
    "        # \"angle_rotation\": {\n",
    "        #     \"spks\": {\"spk_collection\":\"circ-6\"},\n",
    "        #     \"reduce_by\":{\"group\", \"name\"},\n",
    "        #     }\n",
    "        }\n",
    "    )"
   ]
  },
  {
   "cell_type": "markdown",
   "metadata": {},
   "source": [
    "## Compute strain values"
   ]
  },
  {
   "cell_type": "code",
   "execution_count": 32,
   "metadata": {},
   "outputs": [],
   "source": [
    "idx_ref = lv.states.get_timestep_index(0.1) # initial timestep after pre-loading"
   ]
  },
  {
   "cell_type": "code",
   "execution_count": 33,
   "metadata": {},
   "outputs": [],
   "source": [
    "cl = df[\"global_circumferential_length_endo\"].values[idx_ref:]\n",
    "cst = ((cl - cl[0]) / cl[0]) * 100"
   ]
  },
  {
   "cell_type": "code",
   "execution_count": 36,
   "metadata": {},
   "outputs": [],
   "source": [
    "sl = df[\"global_longitudinal_length_endo\"].values[idx_ref:]\n",
    "lst = ((sl - sl[0]) / sl[0]) * 100"
   ]
  },
  {
   "cell_type": "code",
   "execution_count": 35,
   "metadata": {},
   "outputs": [
    {
     "data": {
      "text/plain": [
       "[<matplotlib.lines.Line2D at 0x255b0116070>]"
      ]
     },
     "execution_count": 35,
     "metadata": {},
     "output_type": "execute_result"
    },
    {
     "data": {
      "image/png": "[encoded data removed]",
      "text/plain": [
       "<Figure size 720x360 with 1 Axes>"
      ]
     },
     "metadata": {
      "needs_background": "light"
     },
     "output_type": "display_data"
    }
   ],
   "source": [
    "import matplotlib.pyplot as plt\n",
    "fig, ax = plt.subplots(1,1,figsize=(10,5))\n",
    "ax.plot(lv.states.timesteps[10:]-0.1, cst)"
   ]
  },
  {
   "cell_type": "code",
   "execution_count": 37,
   "metadata": {},
   "outputs": [
    {
     "data": {
      "text/plain": [
       "[<matplotlib.lines.Line2D at 0x255b02a2880>]"
      ]
     },
     "execution_count": 37,
     "metadata": {},
     "output_type": "execute_result"
    },
    {
     "data": {
      "image/png": "[encoded data removed]",
      "text/plain": [
       "<Figure size 720x360 with 1 Axes>"
      ]
     },
     "metadata": {
      "needs_background": "light"
     },
     "output_type": "display_data"
    }
   ],
   "source": [
    "import matplotlib.pyplot as plt\n",
    "fig, ax = plt.subplots(1,1,figsize=(10,5))\n",
    "ax.plot(lv.states.timesteps[10:]-0.1, lst)"
   ]
  },
  {
   "cell_type": "markdown",
   "metadata": {},
   "source": [
    "# Extract metrics from reference file (from other papers)"
   ]
  },
  {
   "cell_type": "code",
   "execution_count": 38,
   "metadata": {},
   "outputs": [],
   "source": [
    "import pandas as pd"
   ]
  },
  {
   "cell_type": "code",
   "execution_count": 39,
   "metadata": {},
   "outputs": [],
   "source": [
    "xls = pd.ExcelFile(\"C:/Users/igorp/OneDrive - University of South Florida/Igor/Documents/References (organized)/Clinical Metrics/extracted_cms.xlsx\") #pd.read_excel(\"./extracted_cms.xlsx\")\n",
    "cms = {}\n",
    "for sheet_name in xls.sheet_names:\n",
    "    cms[sheet_name] = xls.parse(sheet_name)"
   ]
  },
  {
   "cell_type": "code",
   "execution_count": 40,
   "metadata": {},
   "outputs": [],
   "source": [
    "ts = lv.states.timesteps[10:]-0.1\n",
    "def scale_data(key):\n",
    "  ts_old  = cms[key][\"time\"].values/1000\n",
    "  ts_interp = np.interp(ts_old, \n",
    "                        (ts_old.min(), ts_old.max()), \n",
    "                        (ts.min(), ts.max())) \n",
    "  try:\n",
    "    val = cms[key][key.lower()].values\n",
    "  except:\n",
    "    val = cms[key][key].values\n",
    "  return ts_interp, np.interp(ts, ts_interp, val)"
   ]
  },
  {
   "cell_type": "code",
   "execution_count": 41,
   "metadata": {},
   "outputs": [],
   "source": [
    "ts_, lst_ref = scale_data(\"LST\")\n",
    "_, cst_ref = scale_data(\"CST\")"
   ]
  },
  {
   "cell_type": "markdown",
   "metadata": {},
   "source": [
    "# Extract Stress/Strain data (for plotting)"
   ]
  },
  {
   "cell_type": "code",
   "execution_count": 42,
   "metadata": {},
   "outputs": [
    {
     "name": "stderr",
     "output_type": "stream",
     "text": [
      "INFO:LV.BaseMetricsComputations:Computing metric 'effective_stress' with 'effective' set to 'True'\n",
      "INFO:LV.BaseMetricsComputations:Computing metric 'effective_Lagrange strain' with 'effective' set to 'True'\n"
     ]
    }
   ],
   "source": [
    "spks = lv.get_speckles(spk_collection=\"circ-1\")\n",
    "lv.compute_stress(spks, reduce_by=[\"name\", \"group\", \"group_name\"], cylindrical=False, effective=True, log_level=0)\n",
    "lv.compute_strain(spks, reduce_by=[\"name\", \"group\", \"group_name\"], cylindrical=False, effective=True, log_level=0)"
   ]
  },
  {
   "cell_type": "code",
   "execution_count": 43,
   "metadata": {},
   "outputs": [],
   "source": [
    "df1, infos1 = lv.get_metric_as_df(\"effective_stress\")\n",
    "df2, infos2 = lv.get_metric_as_df(\"effective_Lagrange strain\")\n",
    "\n",
    "df = pd.concat((df, df1, *infos1.values(), df2, *infos2.values()), axis=1)\n",
    "df = df.loc[:,~df.columns.duplicated()].copy()"
   ]
  },
  {
   "cell_type": "markdown",
   "metadata": {},
   "source": [
    "# Modify DF"
   ]
  },
  {
   "cell_type": "code",
   "execution_count": 44,
   "metadata": {},
   "outputs": [],
   "source": [
    "df = df[df[\"timesteps\"] >= 0.1]\n",
    "df[\"timesteps\"] -= 0.1\n",
    "\n",
    "df.reset_index(inplace=True)\n",
    "df.drop(\"index\", inplace=True, axis=1)\n",
    "\n",
    "df[\"volume\"] /= 1000"
   ]
  },
  {
   "cell_type": "markdown",
   "metadata": {},
   "source": [
    "# Read Record file (inputs for simulation)"
   ]
  },
  {
   "cell_type": "code",
   "execution_count": 45,
   "metadata": {},
   "outputs": [],
   "source": [
    "record = pd.read_feather(\"C:/Users/igorp/Downloads/1_65.55_65.55_02.08.2022.1_LVRNN_TYPEA_V4.ftr\")\n",
    "\n",
    "record.drop(\"timesteps\", axis=1, inplace=True)"
   ]
  },
  {
   "cell_type": "code",
   "execution_count": 46,
   "metadata": {},
   "outputs": [
    {
     "data": {
      "text/html": [
       "<div>\n",
       "<style scoped>\n",
       "    .dataframe tbody tr th:only-of-type {\n",
       "        vertical-align: middle;\n",
       "    }\n",
       "\n",
       "    .dataframe tbody tr th {\n",
       "        vertical-align: top;\n",
       "    }\n",
       "\n",
       "    .dataframe thead th {\n",
       "        text-align: right;\n",
       "    }\n",
       "</style>\n",
       "<table border=\"1\" class=\"dataframe\">\n",
       "  <thead>\n",
       "    <tr style=\"text-align: right;\">\n",
       "      <th></th>\n",
       "      <th>P_n</th>\n",
       "      <th>V_n</th>\n",
       "      <th>P_s</th>\n",
       "      <th>V_s</th>\n",
       "      <th>gw_est</th>\n",
       "      <th>gw</th>\n",
       "      <th>endo</th>\n",
       "      <th>epi</th>\n",
       "      <th>endo_est</th>\n",
       "      <th>epi_est</th>\n",
       "      <th>cm_LS</th>\n",
       "      <th>cm_RS</th>\n",
       "      <th>cm_WT</th>\n",
       "      <th>cm_SL</th>\n",
       "      <th>cm_SC</th>\n",
       "      <th>cm_EF</th>\n",
       "      <th>cd_EF</th>\n",
       "    </tr>\n",
       "  </thead>\n",
       "  <tbody>\n",
       "    <tr>\n",
       "      <th>0</th>\n",
       "      <td>0.092171</td>\n",
       "      <td>0.999301</td>\n",
       "      <td>1.474734</td>\n",
       "      <td>94.933640</td>\n",
       "      <td>0.060858</td>\n",
       "      <td>0.060858</td>\n",
       "      <td>65.54567</td>\n",
       "      <td>-65.545059</td>\n",
       "      <td>65.54567</td>\n",
       "      <td>-65.545059</td>\n",
       "      <td>0.1</td>\n",
       "      <td>0.3</td>\n",
       "      <td>0.3</td>\n",
       "      <td>0.1256</td>\n",
       "      <td>0.3076</td>\n",
       "      <td>0.50679</td>\n",
       "      <td>49.551289</td>\n",
       "    </tr>\n",
       "    <tr>\n",
       "      <th>1</th>\n",
       "      <td>0.127715</td>\n",
       "      <td>0.999661</td>\n",
       "      <td>2.043444</td>\n",
       "      <td>94.967758</td>\n",
       "      <td>0.068031</td>\n",
       "      <td>0.068031</td>\n",
       "      <td>65.54567</td>\n",
       "      <td>-65.545059</td>\n",
       "      <td>65.54567</td>\n",
       "      <td>-65.545059</td>\n",
       "      <td>0.1</td>\n",
       "      <td>0.3</td>\n",
       "      <td>0.3</td>\n",
       "      <td>0.1256</td>\n",
       "      <td>0.3076</td>\n",
       "      <td>0.50679</td>\n",
       "      <td>49.551289</td>\n",
       "    </tr>\n",
       "    <tr>\n",
       "      <th>2</th>\n",
       "      <td>0.180530</td>\n",
       "      <td>0.999471</td>\n",
       "      <td>2.888475</td>\n",
       "      <td>94.949760</td>\n",
       "      <td>0.078629</td>\n",
       "      <td>0.078629</td>\n",
       "      <td>65.54567</td>\n",
       "      <td>-65.545059</td>\n",
       "      <td>65.54567</td>\n",
       "      <td>-65.545059</td>\n",
       "      <td>0.1</td>\n",
       "      <td>0.3</td>\n",
       "      <td>0.3</td>\n",
       "      <td>0.1256</td>\n",
       "      <td>0.3076</td>\n",
       "      <td>0.50679</td>\n",
       "      <td>49.551289</td>\n",
       "    </tr>\n",
       "    <tr>\n",
       "      <th>3</th>\n",
       "      <td>0.232736</td>\n",
       "      <td>0.999471</td>\n",
       "      <td>3.723771</td>\n",
       "      <td>94.949760</td>\n",
       "      <td>0.085855</td>\n",
       "      <td>0.085855</td>\n",
       "      <td>65.54567</td>\n",
       "      <td>-65.545059</td>\n",
       "      <td>65.54567</td>\n",
       "      <td>-65.545059</td>\n",
       "      <td>0.1</td>\n",
       "      <td>0.3</td>\n",
       "      <td>0.3</td>\n",
       "      <td>0.1256</td>\n",
       "      <td>0.3076</td>\n",
       "      <td>0.50679</td>\n",
       "      <td>49.551289</td>\n",
       "    </tr>\n",
       "    <tr>\n",
       "      <th>4</th>\n",
       "      <td>0.284942</td>\n",
       "      <td>0.999471</td>\n",
       "      <td>4.559066</td>\n",
       "      <td>94.949760</td>\n",
       "      <td>0.091088</td>\n",
       "      <td>0.091088</td>\n",
       "      <td>65.54567</td>\n",
       "      <td>-65.545059</td>\n",
       "      <td>65.54567</td>\n",
       "      <td>-65.545059</td>\n",
       "      <td>0.1</td>\n",
       "      <td>0.3</td>\n",
       "      <td>0.3</td>\n",
       "      <td>0.1256</td>\n",
       "      <td>0.3076</td>\n",
       "      <td>0.50679</td>\n",
       "      <td>49.551289</td>\n",
       "    </tr>\n",
       "  </tbody>\n",
       "</table>\n",
       "</div>"
      ],
      "text/plain": [
       "        P_n       V_n       P_s        V_s    gw_est        gw      endo  \\\n",
       "0  0.092171  0.999301  1.474734  94.933640  0.060858  0.060858  65.54567   \n",
       "1  0.127715  0.999661  2.043444  94.967758  0.068031  0.068031  65.54567   \n",
       "2  0.180530  0.999471  2.888475  94.949760  0.078629  0.078629  65.54567   \n",
       "3  0.232736  0.999471  3.723771  94.949760  0.085855  0.085855  65.54567   \n",
       "4  0.284942  0.999471  4.559066  94.949760  0.091088  0.091088  65.54567   \n",
       "\n",
       "         epi  endo_est    epi_est  cm_LS  cm_RS  cm_WT   cm_SL   cm_SC  \\\n",
       "0 -65.545059  65.54567 -65.545059    0.1    0.3    0.3  0.1256  0.3076   \n",
       "1 -65.545059  65.54567 -65.545059    0.1    0.3    0.3  0.1256  0.3076   \n",
       "2 -65.545059  65.54567 -65.545059    0.1    0.3    0.3  0.1256  0.3076   \n",
       "3 -65.545059  65.54567 -65.545059    0.1    0.3    0.3  0.1256  0.3076   \n",
       "4 -65.545059  65.54567 -65.545059    0.1    0.3    0.3  0.1256  0.3076   \n",
       "\n",
       "     cm_EF      cd_EF  \n",
       "0  0.50679  49.551289  \n",
       "1  0.50679  49.551289  \n",
       "2  0.50679  49.551289  \n",
       "3  0.50679  49.551289  \n",
       "4  0.50679  49.551289  "
      ]
     },
     "execution_count": 46,
     "metadata": {},
     "output_type": "execute_result"
    }
   ],
   "source": [
    "record.head()"
   ]
  },
  {
   "cell_type": "code",
   "execution_count": 47,
   "metadata": {},
   "outputs": [],
   "source": [
    "df = pd.concat((df, record), axis=1)"
   ]
  },
  {
   "cell_type": "markdown",
   "metadata": {},
   "source": [
    "# Add data to DF"
   ]
  },
  {
   "cell_type": "code",
   "execution_count": 48,
   "metadata": {},
   "outputs": [],
   "source": [
    "df[\"CST\"] = cst\n",
    "df[\"LST\"] = lst\n",
    "df[\"CST_REF\"] = cst_ref\n",
    "df[\"LST_REF\"] = lst_ref"
   ]
  },
  {
   "cell_type": "code",
   "execution_count": 49,
   "metadata": {},
   "outputs": [
    {
     "data": {
      "text/plain": [
       "array([  0.        ,   0.53292739,   0.80789206,   0.91625368,\n",
       "         1.2185576 ,   1.51813288,   2.07776484,   2.49606301,\n",
       "         2.76407645,   2.79215349,   2.57104749,   1.96783235,\n",
       "         1.2676658 ,   0.49856882,  -0.37647581,  -1.40177279,\n",
       "        -2.81102739,  -4.75531818,  -7.16754252,  -9.68934698,\n",
       "       -12.46020657, -15.5160213 , -18.60397909, -21.30715391,\n",
       "       -23.41057034, -25.05941338, -26.38740341, -27.26458925,\n",
       "       -27.79619955, -28.0900321 , -28.28928371, -28.32197442,\n",
       "       -28.28041228, -28.1234766 , -27.93158528, -27.72004275,\n",
       "       -27.47296499, -26.85248439, -25.37286649, -23.13977187,\n",
       "       -20.44641381, -17.93415829, -15.25289778, -13.1874878 ,\n",
       "       -11.39952371,  -9.56822744,  -7.83429975,  -5.96346331,\n",
       "        -4.02778077,  -1.05958037,  -1.3304193 ])"
      ]
     },
     "execution_count": 49,
     "metadata": {},
     "output_type": "execute_result"
    }
   ],
   "source": [
    "cst"
   ]
  },
  {
   "cell_type": "code",
   "execution_count": 51,
   "metadata": {},
   "outputs": [],
   "source": [
    "df.to_csv(\"comp_results.csv\")"
   ]
  },
  {
   "cell_type": "code",
   "execution_count": 50,
   "metadata": {},
   "outputs": [
    {
     "data": {
      "text/plain": [
       "<AxesSubplot:xlabel='timesteps'>"
      ]
     },
     "execution_count": 50,
     "metadata": {},
     "output_type": "execute_result"
    },
    {
     "data": {
      "image/png": "[encoded data removed]",
      "text/plain": [
       "<Figure size 432x288 with 1 Axes>"
      ]
     },
     "metadata": {
      "needs_background": "light"
     },
     "output_type": "display_data"
    }
   ],
   "source": [
    "df.plot(x=\"timesteps\", y=[\"CST\", \"CST_REF\"])"
   ]
  }
 ],
 "metadata": {
  "interpreter": {
   "hash": "a4b270fe5129ef310552b5197d637a230d47119f1e46f0b92ff32b1c5f5c5425"
  },
  "kernelspec": {
   "display_name": "Python 3.9.7 ('project_heart')",
   "language": "python",
   "name": "python3"
  },
  "language_info": {
   "codemirror_mode": {
    "name": "ipython",
    "version": 3
   },
   "file_extension": ".py",
   "mimetype": "text/x-python",
   "name": "python",
   "nbconvert_exporter": "python",
   "pygments_lexer": "ipython3",
   "version": "3.9.7"
  },
  "orig_nbformat": 4
 },
 "nbformat": 4,
 "nbformat_minor": 2
}
