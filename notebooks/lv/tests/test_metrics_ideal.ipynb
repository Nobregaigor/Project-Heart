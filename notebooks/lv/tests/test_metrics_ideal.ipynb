{
 "cells": [
  {
   "cell_type": "code",
   "execution_count": 1,
   "metadata": {},
   "outputs": [],
   "source": [
    "from project_heart.lv import LV\n",
    "import numpy as np\n",
    "import pyvista as pv\n",
    "pv.set_jupyter_backend(\"pythreejs\")\n",
    "\n",
    "import os\n",
    "from pathlib import Path\n",
    "\n",
    "from project_heart.enums import *"
   ]
  },
  {
   "cell_type": "code",
   "execution_count": 2,
   "metadata": {},
   "outputs": [],
   "source": [
    "filepath = Path(\"C:/Users/igorp/Downloads/0.3_80.00_50.00_LVIDEAL_HEX20.xplt\")\n",
    "# filepath = Path(\"C:/Users/igornobrega/Downloads/0.3_80.00_50.00_LVIDEAL_HEX20.xplt\")"
   ]
  },
  {
   "cell_type": "markdown",
   "metadata": {},
   "source": [
    "# Create speckles"
   ]
  },
  {
   "cell_type": "code",
   "execution_count": 3,
   "metadata": {},
   "outputs": [
    {
     "data": {
      "application/vnd.jupyter.widget-view+json": {
       "model_id": "139e64908b534108b6a54d2d7de5b32e",
       "version_major": 2,
       "version_minor": 0
      },
      "text/plain": [
       "Renderer(camera=PerspectiveCamera(aspect=1.3333333333333333, children=(DirectionalLight(position=(50000.000000…"
      ]
     },
     "metadata": {},
     "output_type": "display_data"
    }
   ],
   "source": [
    "lv = LV.from_file(filepath)\n",
    "lv.identify_regions(LV_GEO_TYPES.IDEAL,\n",
    "    apex_base_args={\"ab_ql\":0.03, \"ab_qh\":0.90},\n",
    "    endo_epi_args={\"threshold\":85,})\n",
    "lv.plot(\"mesh\", \n",
    "        scalars=LV_MESH_DATA.SURFS,\n",
    "        container=\"points\",\n",
    "        show_edges=True,\n",
    "        categorical=True,\n",
    "        split_sharp_edges=True,\n",
    "        smooth_shading=False,\n",
    "        pretty=False,\n",
    "        vnodes=[\n",
    "            (LV_VIRTUAL_NODES.BASE, \"red\"),\n",
    "            (LV_VIRTUAL_NODES.APEX, \"red\")\n",
    "            ],\n",
    "        )"
   ]
  },
  {
   "cell_type": "markdown",
   "metadata": {},
   "source": [
    "Create Longitudinal Speckles"
   ]
  },
  {
   "cell_type": "code",
   "execution_count": 4,
   "metadata": {},
   "outputs": [
    {
     "name": "stderr",
     "output_type": "stream",
     "text": [
      "INFO:create_speckles:Adding spk subset.\n",
      "INFO:create_speckles:name: 0\n",
      "INFO:create_speckles:group: endo\n",
      "INFO:create_speckles:collection: long-6\n",
      "INFO:create_speckles:Subname(s): []\n",
      "INFO:create_speckles:t (timestep): 0.0\n",
      "INFO:create_speckles:Adding spk subset.\n",
      "INFO:create_speckles:name: 0\n",
      "INFO:create_speckles:group: epi\n",
      "INFO:create_speckles:collection: long-6\n",
      "INFO:create_speckles:Subname(s): []\n",
      "INFO:create_speckles:t (timestep): 0.0\n",
      "INFO:create_speckles:Adding spk subset.\n",
      "INFO:create_speckles:name: 1\n",
      "INFO:create_speckles:group: endo\n",
      "INFO:create_speckles:collection: long-6\n",
      "INFO:create_speckles:Subname(s): []\n",
      "INFO:create_speckles:t (timestep): 0.0\n",
      "INFO:create_speckles:Adding spk subset.\n",
      "INFO:create_speckles:name: 1\n",
      "INFO:create_speckles:group: epi\n",
      "INFO:create_speckles:collection: long-6\n",
      "INFO:create_speckles:Subname(s): []\n",
      "INFO:create_speckles:t (timestep): 0.0\n",
      "INFO:create_speckles:Adding spk subset.\n",
      "INFO:create_speckles:name: 2\n",
      "INFO:create_speckles:group: endo\n",
      "INFO:create_speckles:collection: long-6\n",
      "INFO:create_speckles:Subname(s): []\n",
      "INFO:create_speckles:t (timestep): 0.0\n",
      "INFO:create_speckles:Adding spk subset.\n",
      "INFO:create_speckles:name: 2\n",
      "INFO:create_speckles:group: epi\n",
      "INFO:create_speckles:collection: long-6\n",
      "INFO:create_speckles:Subname(s): []\n",
      "INFO:create_speckles:t (timestep): 0.0\n",
      "INFO:create_speckles:Adding spk subset.\n",
      "INFO:create_speckles:name: 3\n",
      "INFO:create_speckles:group: endo\n",
      "INFO:create_speckles:collection: long-6\n",
      "INFO:create_speckles:Subname(s): []\n",
      "INFO:create_speckles:t (timestep): 0.0\n",
      "INFO:create_speckles:Adding spk subset.\n",
      "INFO:create_speckles:name: 3\n",
      "INFO:create_speckles:group: epi\n",
      "INFO:create_speckles:collection: long-6\n",
      "INFO:create_speckles:Subname(s): []\n",
      "INFO:create_speckles:t (timestep): 0.0\n",
      "INFO:create_speckles:Adding spk subset.\n",
      "INFO:create_speckles:name: 4\n",
      "INFO:create_speckles:group: endo\n",
      "INFO:create_speckles:collection: long-6\n",
      "INFO:create_speckles:Subname(s): []\n",
      "INFO:create_speckles:t (timestep): 0.0\n",
      "INFO:create_speckles:Adding spk subset.\n",
      "INFO:create_speckles:name: 4\n",
      "INFO:create_speckles:group: epi\n",
      "INFO:create_speckles:collection: long-6\n",
      "INFO:create_speckles:Subname(s): []\n",
      "INFO:create_speckles:t (timestep): 0.0\n",
      "INFO:create_speckles:Adding spk subset.\n",
      "INFO:create_speckles:name: 5\n",
      "INFO:create_speckles:group: endo\n",
      "INFO:create_speckles:collection: long-6\n",
      "INFO:create_speckles:Subname(s): []\n",
      "INFO:create_speckles:t (timestep): 0.0\n",
      "INFO:create_speckles:Adding spk subset.\n",
      "INFO:create_speckles:name: 5\n",
      "INFO:create_speckles:group: epi\n",
      "INFO:create_speckles:collection: long-6\n",
      "INFO:create_speckles:Subname(s): []\n",
      "INFO:create_speckles:t (timestep): 0.0\n"
     ]
    },
    {
     "data": {
      "application/vnd.jupyter.widget-view+json": {
       "model_id": "90b533e2484c4b0eb28f3c1a19819c65",
       "version_major": 2,
       "version_minor": 0
      },
      "text/plain": [
       "Renderer(camera=PerspectiveCamera(aspect=1.3333333333333333, children=(DirectionalLight(position=(50000.000000…"
      ]
     },
     "metadata": {},
     "output_type": "display_data"
    }
   ],
   "source": [
    "import logging\n",
    "\n",
    "for i, a in enumerate(np.linspace(0, np.pi, 6, endpoint=False)):\n",
    "    \n",
    "    spk = lv.create_speckles(\n",
    "        collection=\"long-6\",\n",
    "        group=\"endo\",\n",
    "        name=str(i),\n",
    "        from_nodeset=LV_SURFS.ENDO,\n",
    "        d=1.75,\n",
    "        k=0.5,\n",
    "        normal_to=[np.cos(a),np.sin(a),0.0],\n",
    "        n_subsets=6,\n",
    "        subsets_criteria=\"z2\",\n",
    "        t=0.0,\n",
    "        kmin=0.125,\n",
    "        kmax=0.95,\n",
    "        log_level=logging.INFO,\n",
    "    )\n",
    "\n",
    "    spk = lv.create_speckles(\n",
    "        collection=\"long-6\",\n",
    "        group=\"epi\",\n",
    "        name=str(i),\n",
    "        from_nodeset=LV_SURFS.EPI,\n",
    "        d=2.4,\n",
    "        k=0.5,\n",
    "        normal_to=[np.cos(a),np.sin(a),0.0],\n",
    "        n_subsets=6,\n",
    "        subsets_criteria=\"z2\",\n",
    "        t=0.0,\n",
    "        kmin=0.125,\n",
    "        kmax=0.95,\n",
    "        log_level=logging.INFO,\n",
    "    )\n",
    "\n",
    "lv.set_region_from_speckles(\"long-6\", spk_collection=\"long-6\")\n",
    "lv.plot(\n",
    "    scalars=\"long-6\", \n",
    "    categorical=True, \n",
    "    cmap=\"jet\",\n",
    "    vnodes=[\n",
    "            (LV_VIRTUAL_NODES.BASE, \"red\"),\n",
    "            (LV_VIRTUAL_NODES.APEX, \"red\")\n",
    "            ],\n",
    "    )"
   ]
  },
  {
   "cell_type": "code",
   "execution_count": 5,
   "metadata": {},
   "outputs": [
    {
     "data": {
      "application/vnd.jupyter.widget-view+json": {
       "model_id": "d55acd67e28b4e3ea423c044553482ac",
       "version_major": 2,
       "version_minor": 0
      },
      "text/plain": [
       "Renderer(camera=PerspectiveCamera(aspect=1.3333333333333333, children=(DirectionalLight(position=(50000.000000…"
      ]
     },
     "metadata": {},
     "output_type": "display_data"
    }
   ],
   "source": [
    "lv.set_region_from_speckles(\"TEST\", spk_name=\"1\", spk_collection=\"long-6\")\n",
    "lv.plot(\n",
    "    scalars=\"TEST\", \n",
    "    categorical=True, \n",
    "    cmap=\"jet\",\n",
    "    vnodes=[\n",
    "            (LV_VIRTUAL_NODES.BASE, \"red\"),\n",
    "            (LV_VIRTUAL_NODES.APEX, \"red\")\n",
    "            ],\n",
    "    )"
   ]
  },
  {
   "cell_type": "code",
   "execution_count": 6,
   "metadata": {},
   "outputs": [
    {
     "name": "stderr",
     "output_type": "stream",
     "text": [
      "INFO:create_speckles:Adding spk subset.\n",
      "INFO:create_speckles:name: subapex\n",
      "INFO:create_speckles:group: endo\n",
      "INFO:create_speckles:collection: circ-6\n",
      "INFO:create_speckles:Subname(s): []\n",
      "INFO:create_speckles:t (timestep): 0.0\n",
      "INFO:create_speckles:Adding spk subset.\n",
      "INFO:create_speckles:name: subapex\n",
      "INFO:create_speckles:group: epi\n",
      "INFO:create_speckles:collection: circ-6\n",
      "INFO:create_speckles:Subname(s): []\n",
      "INFO:create_speckles:t (timestep): 0.0\n",
      "INFO:create_speckles:Adding spk subset.\n",
      "INFO:create_speckles:name: apex\n",
      "INFO:create_speckles:group: endo\n",
      "INFO:create_speckles:collection: circ-6\n",
      "INFO:create_speckles:Subname(s): []\n",
      "INFO:create_speckles:t (timestep): 0.0\n",
      "INFO:create_speckles:Adding spk subset.\n",
      "INFO:create_speckles:name: apex\n",
      "INFO:create_speckles:group: epi\n",
      "INFO:create_speckles:collection: circ-6\n",
      "INFO:create_speckles:Subname(s): []\n",
      "INFO:create_speckles:t (timestep): 0.0\n",
      "INFO:create_speckles:Adding spk subset.\n",
      "INFO:create_speckles:name: superapex\n",
      "INFO:create_speckles:group: endo\n",
      "INFO:create_speckles:collection: circ-6\n",
      "INFO:create_speckles:Subname(s): []\n",
      "INFO:create_speckles:t (timestep): 0.0\n",
      "INFO:create_speckles:Adding spk subset.\n",
      "INFO:create_speckles:name: superapex\n",
      "INFO:create_speckles:group: epi\n",
      "INFO:create_speckles:collection: circ-6\n",
      "INFO:create_speckles:Subname(s): []\n",
      "INFO:create_speckles:t (timestep): 0.0\n",
      "INFO:create_speckles:Adding spk subset.\n",
      "INFO:create_speckles:name: submid\n",
      "INFO:create_speckles:group: endo\n",
      "INFO:create_speckles:collection: circ-6\n",
      "INFO:create_speckles:Subname(s): []\n",
      "INFO:create_speckles:t (timestep): 0.0\n",
      "INFO:create_speckles:Adding spk subset.\n",
      "INFO:create_speckles:name: submid\n",
      "INFO:create_speckles:group: epi\n",
      "INFO:create_speckles:collection: circ-6\n",
      "INFO:create_speckles:Subname(s): []\n",
      "INFO:create_speckles:t (timestep): 0.0\n",
      "INFO:create_speckles:Adding spk subset.\n",
      "INFO:create_speckles:name: mid\n",
      "INFO:create_speckles:group: endo\n",
      "INFO:create_speckles:collection: circ-6\n",
      "INFO:create_speckles:Subname(s): []\n",
      "INFO:create_speckles:t (timestep): 0.0\n",
      "INFO:create_speckles:Adding spk subset.\n",
      "INFO:create_speckles:name: mid\n",
      "INFO:create_speckles:group: epi\n",
      "INFO:create_speckles:collection: circ-6\n",
      "INFO:create_speckles:Subname(s): []\n",
      "INFO:create_speckles:t (timestep): 0.0\n",
      "INFO:create_speckles:Adding spk subset.\n",
      "INFO:create_speckles:name: supermid\n",
      "INFO:create_speckles:group: endo\n",
      "INFO:create_speckles:collection: circ-6\n",
      "INFO:create_speckles:Subname(s): []\n",
      "INFO:create_speckles:t (timestep): 0.0\n",
      "INFO:create_speckles:Adding spk subset.\n",
      "INFO:create_speckles:name: supermid\n",
      "INFO:create_speckles:group: epi\n",
      "INFO:create_speckles:collection: circ-6\n",
      "INFO:create_speckles:Subname(s): []\n",
      "INFO:create_speckles:t (timestep): 0.0\n",
      "INFO:create_speckles:Adding spk subset.\n",
      "INFO:create_speckles:name: subbase\n",
      "INFO:create_speckles:group: endo\n",
      "INFO:create_speckles:collection: circ-6\n",
      "INFO:create_speckles:Subname(s): []\n",
      "INFO:create_speckles:t (timestep): 0.0\n",
      "INFO:create_speckles:Adding spk subset.\n",
      "INFO:create_speckles:name: subbase\n",
      "INFO:create_speckles:group: epi\n",
      "INFO:create_speckles:collection: circ-6\n",
      "INFO:create_speckles:Subname(s): []\n",
      "INFO:create_speckles:t (timestep): 0.0\n",
      "INFO:create_speckles:Adding spk subset.\n",
      "INFO:create_speckles:name: base\n",
      "INFO:create_speckles:group: endo\n",
      "INFO:create_speckles:collection: circ-6\n",
      "INFO:create_speckles:Subname(s): []\n",
      "INFO:create_speckles:t (timestep): 0.0\n",
      "INFO:create_speckles:Adding spk subset.\n",
      "INFO:create_speckles:name: base\n",
      "INFO:create_speckles:group: epi\n",
      "INFO:create_speckles:collection: circ-6\n",
      "INFO:create_speckles:Subname(s): []\n",
      "INFO:create_speckles:t (timestep): 0.0\n",
      "INFO:create_speckles:Adding spk subset.\n",
      "INFO:create_speckles:name: superbase\n",
      "INFO:create_speckles:group: endo\n",
      "INFO:create_speckles:collection: circ-6\n",
      "INFO:create_speckles:Subname(s): []\n",
      "INFO:create_speckles:t (timestep): 0.0\n",
      "INFO:create_speckles:Adding spk subset.\n",
      "INFO:create_speckles:name: superbase\n",
      "INFO:create_speckles:group: epi\n",
      "INFO:create_speckles:collection: circ-6\n",
      "INFO:create_speckles:Subname(s): []\n",
      "INFO:create_speckles:t (timestep): 0.0\n"
     ]
    },
    {
     "data": {
      "application/vnd.jupyter.widget-view+json": {
       "model_id": "9d92e8a37f4941d38d6ec6b8c4361571",
       "version_major": 2,
       "version_minor": 0
      },
      "text/plain": [
       "Renderer(camera=PerspectiveCamera(aspect=1.3333333333333333, children=(DirectionalLight(position=(50000.000000…"
      ]
     },
     "metadata": {},
     "output_type": "display_data"
    }
   ],
   "source": [
    "import logging\n",
    "names = [\"subapex\", \"apex\", \"superapex\", \"submid\", \"mid\", \"supermid\", \"subbase\", \"base\", \"superbase\"]\n",
    "\n",
    "for i, a in enumerate(np.linspace(0.1, 1.0, len(names), endpoint=False)):\n",
    "    \n",
    "    spk = lv.create_speckles(\n",
    "        collection=\"circ-6\",\n",
    "        group=\"endo\",\n",
    "        name=names[i],\n",
    "        from_nodeset=LV_SURFS.ENDO,\n",
    "        d=1.75,\n",
    "        k=a,\n",
    "        normal_to=[0.0, 0.0, 1.0],\n",
    "        n_subsets=6,\n",
    "        subsets_criteria=\"angles\",\n",
    "        t=0.0,\n",
    "        kmin=-1.0,\n",
    "        kmax=-1.0,\n",
    "        log_level=logging.INFO,\n",
    "    )\n",
    "\n",
    "    spk = lv.create_speckles(\n",
    "        collection=\"circ-6\",\n",
    "        group=\"epi\",\n",
    "        name=names[i],\n",
    "        from_nodeset=LV_SURFS.EPI,\n",
    "        d=1.75,\n",
    "        k=a,\n",
    "        normal_to=[0.0, 0.0, 1.0],\n",
    "        n_subsets=6,\n",
    "        subsets_criteria=\"angles\",\n",
    "        t=0.0,\n",
    "        kmin=-1.0,\n",
    "        kmax=-1.0,\n",
    "        log_level=logging.INFO,\n",
    "    )\n",
    "\n",
    "lv.set_region_from_speckles(\"circ-6\", spk_collection=\"circ-6\")\n",
    "lv.plot(\n",
    "    scalars=\"circ-6\", \n",
    "    categorical=True, \n",
    "    cmap=\"jet\",\n",
    "    vnodes=[\n",
    "            (LV_VIRTUAL_NODES.BASE, \"red\"),\n",
    "            (LV_VIRTUAL_NODES.APEX, \"red\")\n",
    "            ],\n",
    "    )"
   ]
  },
  {
   "cell_type": "code",
   "execution_count": 7,
   "metadata": {},
   "outputs": [
    {
     "data": {
      "application/vnd.jupyter.widget-view+json": {
       "model_id": "9a792e25640e4b81906db094039e2f73",
       "version_major": 2,
       "version_minor": 0
      },
      "text/plain": [
       "Renderer(camera=PerspectiveCamera(aspect=1.3333333333333333, children=(DirectionalLight(position=(50000.000000…"
      ]
     },
     "metadata": {},
     "output_type": "display_data"
    }
   ],
   "source": [
    "lv.set_region_from_speckles(\"TEST\", spk_name=\"base\", spk_collection=\"circ-6\")\n",
    "lv.plot(\n",
    "    scalars=\"TEST\", \n",
    "    categorical=True, \n",
    "    cmap=\"Set2\",\n",
    "    vnodes=[\n",
    "            (LV_VIRTUAL_NODES.BASE, \"red\"),\n",
    "            (LV_VIRTUAL_NODES.APEX, \"red\")\n",
    "            ],\n",
    "    show_edges=True\n",
    "    )"
   ]
  },
  {
   "cell_type": "markdown",
   "metadata": {},
   "source": [
    "# Metrics"
   ]
  },
  {
   "cell_type": "markdown",
   "metadata": {},
   "source": [
    "## Geo Metrics (formely geochars)"
   ]
  },
  {
   "cell_type": "markdown",
   "metadata": {},
   "source": [
    "Volume:"
   ]
  },
  {
   "cell_type": "code",
   "execution_count": 8,
   "metadata": {},
   "outputs": [
    {
     "name": "stdout",
     "output_type": "stream",
     "text": [
      "Spks-data relationship not found for metric volume. Check 'set_data_spk_rel' or 'add_spk_data'.\n"
     ]
    },
    {
     "data": {
      "image/png": "[encoded data removed]",
      "text/plain": [
       "<Figure size 1080x504 with 1 Axes>"
      ]
     },
     "metadata": {
      "needs_background": "light"
     },
     "output_type": "display_data"
    }
   ],
   "source": [
    "lv.volume()\n",
    "lv.plot_metric(lv.STATES.VOLUME, kind=\"line\")"
   ]
  },
  {
   "cell_type": "markdown",
   "metadata": {},
   "source": [
    "Longitudinal Distances:"
   ]
  },
  {
   "cell_type": "code",
   "execution_count": 9,
   "metadata": {},
   "outputs": [
    {
     "name": "stdout",
     "output_type": "stream",
     "text": [
      "Spks-data relationship not found for metric longitudinal_distances. Check 'set_data_spk_rel' or 'add_spk_data'.\n"
     ]
    },
    {
     "data": {
      "image/png": "[encoded data removed]",
      "text/plain": [
       "<Figure size 1080x504 with 1 Axes>"
      ]
     },
     "metadata": {
      "needs_background": "light"
     },
     "output_type": "display_data"
    }
   ],
   "source": [
    "lv.longitudinal_distances()\n",
    "lv.plot_metric(lv.STATES.LONG_DISTS, kind=\"line\")"
   ]
  },
  {
   "cell_type": "markdown",
   "metadata": {},
   "source": [
    "### Geo Metrics that do require speckles:"
   ]
  },
  {
   "cell_type": "markdown",
   "metadata": {},
   "source": [
    "Radius (for each spk):"
   ]
  },
  {
   "cell_type": "code",
   "execution_count": 10,
   "metadata": {},
   "outputs": [],
   "source": [
    "# from enum import Enum, IntEnum, EnumMeta\n",
    "\n",
    "# def check_enum(name):\n",
    "#     if isinstance(name, (Enum, IntEnum)):\n",
    "#         name = name.value\n",
    "#     return name\n",
    "\n",
    "# def check_enum_name(name):\n",
    "#     if isinstance(name, (Enum, IntEnum)):\n",
    "#         name = name.name\n",
    "#     return name\n",
    "\n",
    "# def add_to_enum(enum_holder, *args):\n",
    "#     if not issubclass(enum_holder.__class__, EnumMeta):\n",
    "#         raise TypeError(\"Expected EnumMeta as first argument, got {}\".format(enum_holder.__class__))\n",
    "#     enumdict = {m.name: m.value for m in enum_holder}\n",
    "#     n = \"_\".join([str(check_enum_name(v)).upper() for v in args ])\n",
    "#     v = \"_\".join([str(check_enum(v)) for v in args ])\n",
    "#     print(n, v)\n",
    "#     enumdict[n] = v\n",
    "#     return Enum(enum_holder.__name__,enumdict), (n, v)"
   ]
  },
  {
   "cell_type": "code",
   "execution_count": 11,
   "metadata": {},
   "outputs": [],
   "source": [
    "# import logging\n",
    "\n",
    "# logging.basicConfig()\n",
    "# logger = logging.getLogger('LV')\n",
    "# logger = logging.getLogger('LV.BaseMetricsComputations')\n",
    "\n",
    "\n",
    "# def _reduce_metric_and_save(res, key, **kwargs):\n",
    "#     res = lv._reduce_metric(res, **kwargs)\n",
    "#     return lv._save_metric(res, key)\n",
    "\n",
    "# def _reduce_metric_by_group(spks, data_key, **kwargs):\n",
    "#     for key, values in spks.by(\"group\").items():\n",
    "#         lv.STATES, (_, key) = add_to_enum(lv.STATES, data_key, values[0].group)\n",
    "#         res = [lv.states.get_spk_data(spk, data_key) for spk in values]\n",
    "#         _reduce_metric_and_save(res, key, **kwargs)\n",
    "#         lv.states.set_data_spk_rel(spks, key)\n",
    "\n",
    "# def _reduce_metric_by_name(spks, data_key, **kwargs):\n",
    "#     for key, values in spks.by(\"name\").items():\n",
    "#         lv.STATES, (_, key) = add_to_enum(lv.STATES, data_key, values[0].name)\n",
    "#         res = [lv.states.get_spk_data(spk, data_key) for spk in values]\n",
    "#         _reduce_metric_and_save(res, key, **kwargs)\n",
    "#         lv.states.set_data_spk_rel(spks, key)\n",
    "\n",
    "# def _reduce_metric_by_group_and_name(spks, data_key, **kwargs):\n",
    "#     for key, values in spks.by(\"group_name\").items():\n",
    "#         lv.STATES, (_, key) = add_to_enum(lv.STATES, data_key, values[0].group, values[0].name)\n",
    "#         res = [lv.states.get_spk_data(spk, data_key) for spk in values]\n",
    "#         _reduce_metric_and_save(res, key, **kwargs)\n",
    "#         lv.states.set_data_spk_rel(spks, key)\n",
    "\n",
    "\n",
    "# def compute_radius(spks, reduce_by={\"group\"}, **kwargs):\n",
    "\n",
    "#     # set key for this function\n",
    "#     key = lv.STATES.RADIUS\n",
    "#     logger.info(\"Computing: {}\".format(key))\n",
    "#     # resolve spks (make sure you have a SpeckeDeque)\n",
    "#     spks = lv._resolve_spk_args(spks)\n",
    "#     # compute metric\n",
    "#     res = [lv.compute_spk_radius_for_each_timestep(spk, **kwargs) for spk in spks]\n",
    "#     # reduce metric (here we compute the mean radius across entire LV)\n",
    "#     _reduce_metric_and_save(res, key, **kwargs)\n",
    "#     # set metric relationship with spks \n",
    "#     # so that we can reference which spks were used to compute this metric\n",
    "#     lv.states.set_data_spk_rel(spks, key, **kwargs)\n",
    "#     # Break down computation by each 'set of spks'\n",
    "#     if \"group\" in reduce_by:\n",
    "#         logger.debug(\"Reducing metric by group for: {}\".format(key))\n",
    "#         _reduce_metric_by_group(spks, key, **kwargs)\n",
    "#         logger.info(\"Metric '{}' has reduced values by group.\".format(key))\n",
    "#     if \"name\" in reduce_by:\n",
    "#         logger.debug(\"Reducing metric by name for: {}\".format(key))\n",
    "#         _reduce_metric_by_name(spks, key, **kwargs)\n",
    "#         logger.info(\"Metric '{}' has reduced values by names.\".format(key))\n",
    "#     if \"group_name\" in reduce_by:\n",
    "#         logger.debug(\"Reducing metric by group and name for: {}\".format(key))\n",
    "#         _reduce_metric_by_group_and_name(spks, key, **kwargs)\n",
    "#         logger.info(\"Metric '{}' has reduced values by group and name.\".format(key))"
   ]
  },
  {
   "cell_type": "markdown",
   "metadata": {},
   "source": [
    "Expected values for radius at base: \n",
    "\n",
    "* EPI: 35\n",
    "* ENDO: 25\n",
    "* AVG: 30"
   ]
  },
  {
   "cell_type": "code",
   "execution_count": 12,
   "metadata": {},
   "outputs": [
    {
     "name": "stdout",
     "output_type": "stream",
     "text": [
      "suffix 'base' not found for metric 'radius': radius_base\n",
      "suffix 'epi_base' not found for metric 'radius': radius_epi_base\n",
      "suffix 'endo_base' not found for metric 'radius': radius_endo_base\n"
     ]
    },
    {
     "data": {
      "image/png": "[encoded data removed]",
      "text/plain": [
       "<Figure size 1080x504 with 1 Axes>"
      ]
     },
     "metadata": {
      "needs_background": "light"
     },
     "output_type": "display_data"
    },
    {
     "data": {
      "image/png": "[encoded data removed]",
      "text/plain": [
       "<Figure size 1080x504 with 1 Axes>"
      ]
     },
     "metadata": {
      "needs_background": "light"
     },
     "output_type": "display_data"
    }
   ],
   "source": [
    "circ_spks = lv.get_speckles(spk_name=\"base\", spk_collection=\"circ-6\")\n",
    "lv.radius(circ_spks)\n",
    "lv.plot_metric(lv.STATES.RADIUS, \n",
    "    from_ts=0.0,\n",
    "    plot_infos=[\"group\"])"
   ]
  },
  {
   "cell_type": "markdown",
   "metadata": {},
   "source": [
    "Thickness"
   ]
  },
  {
   "cell_type": "markdown",
   "metadata": {},
   "source": [
    "Expected: 10"
   ]
  },
  {
   "cell_type": "code",
   "execution_count": 13,
   "metadata": {},
   "outputs": [
    {
     "name": "stdout",
     "output_type": "stream",
     "text": [
      "suffix 'base' not found for metric 'thickness': thickness_base\n",
      "suffix 'epi' not found for metric 'thickness': thickness_epi\n",
      "suffix 'epi_base' not found for metric 'thickness': thickness_epi_base\n"
     ]
    },
    {
     "data": {
      "image/png": "[encoded data removed]",
      "text/plain": [
       "<Figure size 1080x504 with 1 Axes>"
      ]
     },
     "metadata": {
      "needs_background": "light"
     },
     "output_type": "display_data"
    }
   ],
   "source": [
    "endo_circ_spks = lv.get_speckles(spk_name=\"base\", spk_group=\"endo\", spk_collection=\"circ-6\")\n",
    "epi_circ_spks = lv.get_speckles(spk_name=\"base\", spk_group=\"epi\", spk_collection=\"circ-6\")\n",
    "\n",
    "lv.thickness(endo_circ_spks, epi_circ_spks)\n",
    "lv.plot_metric(lv.STATES.THICKNESS, from_ts=0.0)"
   ]
  },
  {
   "cell_type": "code",
   "execution_count": 14,
   "metadata": {},
   "outputs": [],
   "source": [
    "from collections import deque\n",
    "\n",
    "class TestList(deque):\n",
    "    def __init__(self, *args, **kwargs):\n",
    "        super(TestList, self).__init__(*args, **kwargs)\n",
    "    def as_dict(self):\n",
    "        return {str(i) for i in list(self)}"
   ]
  },
  {
   "cell_type": "code",
   "execution_count": 15,
   "metadata": {},
   "outputs": [
    {
     "data": {
      "text/plain": [
       "{'1', '2', '3'}"
      ]
     },
     "execution_count": 15,
     "metadata": {},
     "output_type": "execute_result"
    }
   ],
   "source": [
    "TestList([1,2,3]).as_dict()"
   ]
  },
  {
   "cell_type": "markdown",
   "metadata": {},
   "source": [
    "Longitudinal Length:"
   ]
  },
  {
   "cell_type": "code",
   "execution_count": 16,
   "metadata": {},
   "outputs": [
    {
     "data": {
      "application/vnd.jupyter.widget-view+json": {
       "model_id": "a10a6282ef6e4df3bbf301cd2274dd5a",
       "version_major": 2,
       "version_minor": 0
      },
      "text/plain": [
       "Renderer(camera=PerspectiveCamera(aspect=1.3333333333333333, children=(DirectionalLight(position=(50000.000000…"
      ]
     },
     "metadata": {},
     "output_type": "display_data"
    }
   ],
   "source": [
    "lv.set_region_from_speckles(\"TEST-long-6\", spk_group=\"endo\", spk_collection=\"long-6\")\n",
    "lv.plot(\n",
    "    scalars=\"TEST-long-6\", \n",
    "    categorical=True, \n",
    "    cmap=\"jet\",\n",
    "    vnodes=[\n",
    "            (LV_VIRTUAL_NODES.BASE, \"red\"),\n",
    "            (LV_VIRTUAL_NODES.APEX, \"red\")\n",
    "            ],\n",
    "    )"
   ]
  },
  {
   "cell_type": "code",
   "execution_count": 17,
   "metadata": {},
   "outputs": [],
   "source": [
    "from project_heart.utils.spatial_utils import compute_longitudinal_length"
   ]
  },
  {
   "cell_type": "code",
   "execution_count": 18,
   "metadata": {},
   "outputs": [],
   "source": [
    "long_spks = lv.get_speckles(spk_collection=\"long-6\")\n",
    "\n",
    "all_spks_data_clustering = {}\n",
    "for spk in long_spks:\n",
    "    xyz = lv.states.get(lv.STATES.XYZ, mask=spk.ids)\n",
    "    spk_res = [compute_longitudinal_length(coords) for coords in xyz]\n",
    "    all_spks_data_clustering[spk.key()] = spk_res"
   ]
  },
  {
   "cell_type": "code",
   "execution_count": 19,
   "metadata": {},
   "outputs": [],
   "source": [
    "class SpeckeDeque(deque):\n",
    "    def __init__(self, *args, **kwargs):\n",
    "        super(SpeckeDeque, self).__init__(*args, **kwargs)"
   ]
  },
  {
   "cell_type": "code",
   "execution_count": 20,
   "metadata": {},
   "outputs": [
    {
     "data": {
      "text/plain": [
       "{'endo': SpeckeDeque([<Speckle: .subset: 0, .name: 0, .group: endo, .collection: long-6, .t: 0.0>,\n",
       "              <Speckle: .subset: 1, .name: 0, .group: endo, .collection: long-6, .t: 0.0>,\n",
       "              <Speckle: .subset: 2, .name: 0, .group: endo, .collection: long-6, .t: 0.0>,\n",
       "              <Speckle: .subset: 3, .name: 0, .group: endo, .collection: long-6, .t: 0.0>,\n",
       "              <Speckle: .subset: 4, .name: 0, .group: endo, .collection: long-6, .t: 0.0>,\n",
       "              <Speckle: .subset: 5, .name: 0, .group: endo, .collection: long-6, .t: 0.0>,\n",
       "              <Speckle: .subset: 0, .name: 1, .group: endo, .collection: long-6, .t: 0.0>,\n",
       "              <Speckle: .subset: 1, .name: 1, .group: endo, .collection: long-6, .t: 0.0>,\n",
       "              <Speckle: .subset: 2, .name: 1, .group: endo, .collection: long-6, .t: 0.0>,\n",
       "              <Speckle: .subset: 3, .name: 1, .group: endo, .collection: long-6, .t: 0.0>,\n",
       "              <Speckle: .subset: 4, .name: 1, .group: endo, .collection: long-6, .t: 0.0>,\n",
       "              <Speckle: .subset: 5, .name: 1, .group: endo, .collection: long-6, .t: 0.0>,\n",
       "              <Speckle: .subset: 0, .name: 2, .group: endo, .collection: long-6, .t: 0.0>,\n",
       "              <Speckle: .subset: 1, .name: 2, .group: endo, .collection: long-6, .t: 0.0>,\n",
       "              <Speckle: .subset: 2, .name: 2, .group: endo, .collection: long-6, .t: 0.0>,\n",
       "              <Speckle: .subset: 3, .name: 2, .group: endo, .collection: long-6, .t: 0.0>,\n",
       "              <Speckle: .subset: 4, .name: 2, .group: endo, .collection: long-6, .t: 0.0>,\n",
       "              <Speckle: .subset: 5, .name: 2, .group: endo, .collection: long-6, .t: 0.0>,\n",
       "              <Speckle: .subset: 0, .name: 3, .group: endo, .collection: long-6, .t: 0.0>,\n",
       "              <Speckle: .subset: 1, .name: 3, .group: endo, .collection: long-6, .t: 0.0>,\n",
       "              <Speckle: .subset: 2, .name: 3, .group: endo, .collection: long-6, .t: 0.0>,\n",
       "              <Speckle: .subset: 3, .name: 3, .group: endo, .collection: long-6, .t: 0.0>,\n",
       "              <Speckle: .subset: 4, .name: 3, .group: endo, .collection: long-6, .t: 0.0>,\n",
       "              <Speckle: .subset: 5, .name: 3, .group: endo, .collection: long-6, .t: 0.0>,\n",
       "              <Speckle: .subset: 0, .name: 4, .group: endo, .collection: long-6, .t: 0.0>,\n",
       "              <Speckle: .subset: 1, .name: 4, .group: endo, .collection: long-6, .t: 0.0>,\n",
       "              <Speckle: .subset: 2, .name: 4, .group: endo, .collection: long-6, .t: 0.0>,\n",
       "              <Speckle: .subset: 3, .name: 4, .group: endo, .collection: long-6, .t: 0.0>,\n",
       "              <Speckle: .subset: 4, .name: 4, .group: endo, .collection: long-6, .t: 0.0>,\n",
       "              <Speckle: .subset: 5, .name: 4, .group: endo, .collection: long-6, .t: 0.0>,\n",
       "              <Speckle: .subset: 0, .name: 5, .group: endo, .collection: long-6, .t: 0.0>,\n",
       "              <Speckle: .subset: 1, .name: 5, .group: endo, .collection: long-6, .t: 0.0>,\n",
       "              <Speckle: .subset: 2, .name: 5, .group: endo, .collection: long-6, .t: 0.0>,\n",
       "              <Speckle: .subset: 3, .name: 5, .group: endo, .collection: long-6, .t: 0.0>,\n",
       "              <Speckle: .subset: 4, .name: 5, .group: endo, .collection: long-6, .t: 0.0>,\n",
       "              <Speckle: .subset: 5, .name: 5, .group: endo, .collection: long-6, .t: 0.0>]),\n",
       " 'epi': SpeckeDeque([<Speckle: .subset: 0, .name: 0, .group: epi, .collection: long-6, .t: 0.0>,\n",
       "              <Speckle: .subset: 1, .name: 0, .group: epi, .collection: long-6, .t: 0.0>,\n",
       "              <Speckle: .subset: 2, .name: 0, .group: epi, .collection: long-6, .t: 0.0>,\n",
       "              <Speckle: .subset: 3, .name: 0, .group: epi, .collection: long-6, .t: 0.0>,\n",
       "              <Speckle: .subset: 4, .name: 0, .group: epi, .collection: long-6, .t: 0.0>,\n",
       "              <Speckle: .subset: 5, .name: 0, .group: epi, .collection: long-6, .t: 0.0>,\n",
       "              <Speckle: .subset: 0, .name: 1, .group: epi, .collection: long-6, .t: 0.0>,\n",
       "              <Speckle: .subset: 1, .name: 1, .group: epi, .collection: long-6, .t: 0.0>,\n",
       "              <Speckle: .subset: 2, .name: 1, .group: epi, .collection: long-6, .t: 0.0>,\n",
       "              <Speckle: .subset: 3, .name: 1, .group: epi, .collection: long-6, .t: 0.0>,\n",
       "              <Speckle: .subset: 4, .name: 1, .group: epi, .collection: long-6, .t: 0.0>,\n",
       "              <Speckle: .subset: 5, .name: 1, .group: epi, .collection: long-6, .t: 0.0>,\n",
       "              <Speckle: .subset: 0, .name: 2, .group: epi, .collection: long-6, .t: 0.0>,\n",
       "              <Speckle: .subset: 1, .name: 2, .group: epi, .collection: long-6, .t: 0.0>,\n",
       "              <Speckle: .subset: 2, .name: 2, .group: epi, .collection: long-6, .t: 0.0>,\n",
       "              <Speckle: .subset: 3, .name: 2, .group: epi, .collection: long-6, .t: 0.0>,\n",
       "              <Speckle: .subset: 4, .name: 2, .group: epi, .collection: long-6, .t: 0.0>,\n",
       "              <Speckle: .subset: 5, .name: 2, .group: epi, .collection: long-6, .t: 0.0>,\n",
       "              <Speckle: .subset: 0, .name: 3, .group: epi, .collection: long-6, .t: 0.0>,\n",
       "              <Speckle: .subset: 1, .name: 3, .group: epi, .collection: long-6, .t: 0.0>,\n",
       "              <Speckle: .subset: 2, .name: 3, .group: epi, .collection: long-6, .t: 0.0>,\n",
       "              <Speckle: .subset: 3, .name: 3, .group: epi, .collection: long-6, .t: 0.0>,\n",
       "              <Speckle: .subset: 4, .name: 3, .group: epi, .collection: long-6, .t: 0.0>,\n",
       "              <Speckle: .subset: 5, .name: 3, .group: epi, .collection: long-6, .t: 0.0>,\n",
       "              <Speckle: .subset: 0, .name: 4, .group: epi, .collection: long-6, .t: 0.0>,\n",
       "              <Speckle: .subset: 1, .name: 4, .group: epi, .collection: long-6, .t: 0.0>,\n",
       "              <Speckle: .subset: 2, .name: 4, .group: epi, .collection: long-6, .t: 0.0>,\n",
       "              <Speckle: .subset: 3, .name: 4, .group: epi, .collection: long-6, .t: 0.0>,\n",
       "              <Speckle: .subset: 4, .name: 4, .group: epi, .collection: long-6, .t: 0.0>,\n",
       "              <Speckle: .subset: 5, .name: 4, .group: epi, .collection: long-6, .t: 0.0>,\n",
       "              <Speckle: .subset: 0, .name: 5, .group: epi, .collection: long-6, .t: 0.0>,\n",
       "              <Speckle: .subset: 1, .name: 5, .group: epi, .collection: long-6, .t: 0.0>,\n",
       "              <Speckle: .subset: 2, .name: 5, .group: epi, .collection: long-6, .t: 0.0>,\n",
       "              <Speckle: .subset: 3, .name: 5, .group: epi, .collection: long-6, .t: 0.0>,\n",
       "              <Speckle: .subset: 4, .name: 5, .group: epi, .collection: long-6, .t: 0.0>,\n",
       "              <Speckle: .subset: 5, .name: 5, .group: epi, .collection: long-6, .t: 0.0>])}"
      ]
     },
     "execution_count": 20,
     "metadata": {},
     "output_type": "execute_result"
    }
   ],
   "source": [
    "long_spks.by(\"group\")"
   ]
  },
  {
   "cell_type": "code",
   "execution_count": 21,
   "metadata": {},
   "outputs": [
    {
     "data": {
      "text/plain": [
       "[array([22.43011093, 21.71389961, 20.61336708, 20.45173073, 20.05970764,\n",
       "        20.0601902 , 20.06339836, 20.06952667, 20.07237625, 20.07819557,\n",
       "        20.08088684, 20.08655167, 20.08919144, 20.09478569, 20.0974369 ,\n",
       "        20.10300446, 20.10570335, 20.11128235, 20.114048  , 20.11964607,\n",
       "        20.12249184, 20.12812424, 20.13105774, 20.1367321 , 20.13975716,\n",
       "        20.1454792 , 20.14859962, 20.15437317, 20.15759087, 20.16341591,\n",
       "        20.16673851, 20.17261887, 20.17604256, 20.18198395, 20.18550682,\n",
       "        20.19151306, 20.19514084, 20.20121384, 20.20495415, 20.21109581,\n",
       "        20.21494484, 20.22115707, 20.22511864, 20.23140144, 20.23546982]),\n",
       " array([22.43011093, 21.71389961, 20.61336708, 20.45173073, 20.05970764,\n",
       "        20.0601902 , 20.06339836, 20.06952667, 20.07237625, 20.07819557,\n",
       "        20.08088684, 20.08655167, 20.08919144, 20.09478569, 20.0974369 ,\n",
       "        20.10300446, 20.10570335, 20.11128235, 20.114048  , 20.11964607,\n",
       "        20.12249184, 20.12812424, 20.13105774, 20.1367321 , 20.13975716,\n",
       "        20.1454792 , 20.14859962, 20.15437317, 20.15759087, 20.16341591,\n",
       "        20.16673851, 20.17261887, 20.17604256, 20.18198395, 20.18550682,\n",
       "        20.19151306, 20.19514084, 20.20121384, 20.20495415, 20.21109581,\n",
       "        20.21494484, 20.22115707, 20.22511864, 20.23140144, 20.23546982]),\n",
       " array([22.43011093, 21.71389961, 20.61336708, 20.45173073, 20.05970764,\n",
       "        20.0601902 , 20.06339836, 20.06952667, 20.07237625, 20.07819557,\n",
       "        20.08088684, 20.08655167, 20.08919144, 20.09478569, 20.0974369 ,\n",
       "        20.10300446, 20.10570335, 20.11128235, 20.114048  , 20.11964607,\n",
       "        20.12249184, 20.12812424, 20.13105774, 20.1367321 , 20.13975716,\n",
       "        20.1454792 , 20.14859962, 20.15437317, 20.15759087, 20.16341591,\n",
       "        20.16673851, 20.17261887, 20.17604256, 20.18198395, 20.18550682,\n",
       "        20.19151306, 20.19514084, 20.20121384, 20.20495415, 20.21109581,\n",
       "        20.21494484, 20.22115707, 20.22511864, 20.23140144, 20.23546982]),\n",
       " array([22.43011093, 21.71389961, 20.61336708, 20.45173073, 20.05970764,\n",
       "        20.0601902 , 20.06339836, 20.06952667, 20.07237625, 20.07819557,\n",
       "        20.08088684, 20.08655167, 20.08919144, 20.09478569, 20.0974369 ,\n",
       "        20.10300446, 20.10570335, 20.11128235, 20.114048  , 20.11964607,\n",
       "        20.12249184, 20.12812424, 20.13105774, 20.1367321 , 20.13975716,\n",
       "        20.1454792 , 20.14859962, 20.15437317, 20.15759087, 20.16341591,\n",
       "        20.16673851, 20.17261887, 20.17604256, 20.18198395, 20.18550682,\n",
       "        20.19151306, 20.19514084, 20.20121384, 20.20495415, 20.21109581,\n",
       "        20.21494484, 20.22115707, 20.22511864, 20.23140144, 20.23546982]),\n",
       " array([22.43011093, 21.71389961, 20.61336708, 20.45173073, 20.05970764,\n",
       "        20.0601902 , 20.06339836, 20.06952667, 20.07237625, 20.07819557,\n",
       "        20.08088684, 20.08655167, 20.08919144, 20.09478569, 20.0974369 ,\n",
       "        20.10300446, 20.10570335, 20.11128235, 20.114048  , 20.11964607,\n",
       "        20.12249184, 20.12812424, 20.13105774, 20.1367321 , 20.13975716,\n",
       "        20.1454792 , 20.14859962, 20.15437317, 20.15759087, 20.16341591,\n",
       "        20.16673851, 20.17261887, 20.17604256, 20.18198395, 20.18550682,\n",
       "        20.19151306, 20.19514084, 20.20121384, 20.20495415, 20.21109581,\n",
       "        20.21494484, 20.22115707, 20.22511864, 20.23140144, 20.23546982]),\n",
       " array([22.43011093, 21.71389961, 20.61336708, 20.45173073, 20.05970764,\n",
       "        20.0601902 , 20.06339836, 20.06952667, 20.07237625, 20.07819557,\n",
       "        20.08088684, 20.08655167, 20.08919144, 20.09478569, 20.0974369 ,\n",
       "        20.10300446, 20.10570335, 20.11128235, 20.114048  , 20.11964607,\n",
       "        20.12249184, 20.12812424, 20.13105774, 20.1367321 , 20.13975716,\n",
       "        20.1454792 , 20.14859962, 20.15437317, 20.15759087, 20.16341591,\n",
       "        20.16673851, 20.17261887, 20.17604256, 20.18198395, 20.18550682,\n",
       "        20.19151306, 20.19514084, 20.20121384, 20.20495415, 20.21109581,\n",
       "        20.21494484, 20.22115707, 20.22511864, 20.23140144, 20.23546982]),\n",
       " array([22.43011093, 21.71389961, 20.61336708, 20.45173073, 20.05970764,\n",
       "        20.0601902 , 20.06339836, 20.06952667, 20.07237625, 20.07819557,\n",
       "        20.08088684, 20.08655167, 20.08919144, 20.09478569, 20.0974369 ,\n",
       "        20.10300446, 20.10570335, 20.11128235, 20.114048  , 20.11964607,\n",
       "        20.12249184, 20.12812424, 20.13105774, 20.1367321 , 20.13975716,\n",
       "        20.1454792 , 20.14859962, 20.15437317, 20.15759087, 20.16341591,\n",
       "        20.16673851, 20.17261887, 20.17604256, 20.18198395, 20.18550682,\n",
       "        20.19151306, 20.19514084, 20.20121384, 20.20495415, 20.21109581,\n",
       "        20.21494484, 20.22115707, 20.22511864, 20.23140144, 20.23546982]),\n",
       " array([22.43011093, 21.71389961, 20.61336708, 20.45173073, 20.05970764,\n",
       "        20.0601902 , 20.06339836, 20.06952667, 20.07237625, 20.07819557,\n",
       "        20.08088684, 20.08655167, 20.08919144, 20.09478569, 20.0974369 ,\n",
       "        20.10300446, 20.10570335, 20.11128235, 20.114048  , 20.11964607,\n",
       "        20.12249184, 20.12812424, 20.13105774, 20.1367321 , 20.13975716,\n",
       "        20.1454792 , 20.14859962, 20.15437317, 20.15759087, 20.16341591,\n",
       "        20.16673851, 20.17261887, 20.17604256, 20.18198395, 20.18550682,\n",
       "        20.19151306, 20.19514084, 20.20121384, 20.20495415, 20.21109581,\n",
       "        20.21494484, 20.22115707, 20.22511864, 20.23140144, 20.23546982]),\n",
       " array([22.43011093, 21.71389961, 20.61336708, 20.45173073, 20.05970764,\n",
       "        20.0601902 , 20.06339836, 20.06952667, 20.07237625, 20.07819557,\n",
       "        20.08088684, 20.08655167, 20.08919144, 20.09478569, 20.0974369 ,\n",
       "        20.10300446, 20.10570335, 20.11128235, 20.114048  , 20.11964607,\n",
       "        20.12249184, 20.12812424, 20.13105774, 20.1367321 , 20.13975716,\n",
       "        20.1454792 , 20.14859962, 20.15437317, 20.15759087, 20.16341591,\n",
       "        20.16673851, 20.17261887, 20.17604256, 20.18198395, 20.18550682,\n",
       "        20.19151306, 20.19514084, 20.20121384, 20.20495415, 20.21109581,\n",
       "        20.21494484, 20.22115707, 20.22511864, 20.23140144, 20.23546982]),\n",
       " array([22.43011093, 21.71389961, 20.61336708, 20.45173073, 20.05970764,\n",
       "        20.0601902 , 20.06339836, 20.06952667, 20.07237625, 20.07819557,\n",
       "        20.08088684, 20.08655167, 20.08919144, 20.09478569, 20.0974369 ,\n",
       "        20.10300446, 20.10570335, 20.11128235, 20.114048  , 20.11964607,\n",
       "        20.12249184, 20.12812424, 20.13105774, 20.1367321 , 20.13975716,\n",
       "        20.1454792 , 20.14859962, 20.15437317, 20.15759087, 20.16341591,\n",
       "        20.16673851, 20.17261887, 20.17604256, 20.18198395, 20.18550682,\n",
       "        20.19151306, 20.19514084, 20.20121384, 20.20495415, 20.21109581,\n",
       "        20.21494484, 20.22115707, 20.22511864, 20.23140144, 20.23546982]),\n",
       " array([22.43011093, 21.71389961, 20.61336708, 20.45173073, 20.05970764,\n",
       "        20.0601902 , 20.06339836, 20.06952667, 20.07237625, 20.07819557,\n",
       "        20.08088684, 20.08655167, 20.08919144, 20.09478569, 20.0974369 ,\n",
       "        20.10300446, 20.10570335, 20.11128235, 20.114048  , 20.11964607,\n",
       "        20.12249184, 20.12812424, 20.13105774, 20.1367321 , 20.13975716,\n",
       "        20.1454792 , 20.14859962, 20.15437317, 20.15759087, 20.16341591,\n",
       "        20.16673851, 20.17261887, 20.17604256, 20.18198395, 20.18550682,\n",
       "        20.19151306, 20.19514084, 20.20121384, 20.20495415, 20.21109581,\n",
       "        20.21494484, 20.22115707, 20.22511864, 20.23140144, 20.23546982]),\n",
       " array([22.43011093, 21.71389961, 20.61336708, 20.45173073, 20.05970764,\n",
       "        20.0601902 , 20.06339836, 20.06952667, 20.07237625, 20.07819557,\n",
       "        20.08088684, 20.08655167, 20.08919144, 20.09478569, 20.0974369 ,\n",
       "        20.10300446, 20.10570335, 20.11128235, 20.114048  , 20.11964607,\n",
       "        20.12249184, 20.12812424, 20.13105774, 20.1367321 , 20.13975716,\n",
       "        20.1454792 , 20.14859962, 20.15437317, 20.15759087, 20.16341591,\n",
       "        20.16673851, 20.17261887, 20.17604256, 20.18198395, 20.18550682,\n",
       "        20.19151306, 20.19514084, 20.20121384, 20.20495415, 20.21109581,\n",
       "        20.21494484, 20.22115707, 20.22511864, 20.23140144, 20.23546982]),\n",
       " array([22.43011093, 21.71389961, 20.61336708, 20.45173073, 20.05970764,\n",
       "        20.0601902 , 20.06339836, 20.06952667, 20.07237625, 20.07819557,\n",
       "        20.08088684, 20.08655167, 20.08919144, 20.09478569, 20.0974369 ,\n",
       "        20.10300446, 20.10570335, 20.11128235, 20.114048  , 20.11964607,\n",
       "        20.12249184, 20.12812424, 20.13105774, 20.1367321 , 20.13975716,\n",
       "        20.1454792 , 20.14859962, 20.15437317, 20.15759087, 20.16341591,\n",
       "        20.16673851, 20.17261887, 20.17604256, 20.18198395, 20.18550682,\n",
       "        20.19151306, 20.19514084, 20.20121384, 20.20495415, 20.21109581,\n",
       "        20.21494484, 20.22115707, 20.22511864, 20.23140144, 20.23546982]),\n",
       " array([22.43011093, 21.71389961, 20.61336708, 20.45173073, 20.05970764,\n",
       "        20.0601902 , 20.06339836, 20.06952667, 20.07237625, 20.07819557,\n",
       "        20.08088684, 20.08655167, 20.08919144, 20.09478569, 20.0974369 ,\n",
       "        20.10300446, 20.10570335, 20.11128235, 20.114048  , 20.11964607,\n",
       "        20.12249184, 20.12812424, 20.13105774, 20.1367321 , 20.13975716,\n",
       "        20.1454792 , 20.14859962, 20.15437317, 20.15759087, 20.16341591,\n",
       "        20.16673851, 20.17261887, 20.17604256, 20.18198395, 20.18550682,\n",
       "        20.19151306, 20.19514084, 20.20121384, 20.20495415, 20.21109581,\n",
       "        20.21494484, 20.22115707, 20.22511864, 20.23140144, 20.23546982]),\n",
       " array([22.43011093, 21.71389961, 20.61336708, 20.45173073, 20.05970764,\n",
       "        20.0601902 , 20.06339836, 20.06952667, 20.07237625, 20.07819557,\n",
       "        20.08088684, 20.08655167, 20.08919144, 20.09478569, 20.0974369 ,\n",
       "        20.10300446, 20.10570335, 20.11128235, 20.114048  , 20.11964607,\n",
       "        20.12249184, 20.12812424, 20.13105774, 20.1367321 , 20.13975716,\n",
       "        20.1454792 , 20.14859962, 20.15437317, 20.15759087, 20.16341591,\n",
       "        20.16673851, 20.17261887, 20.17604256, 20.18198395, 20.18550682,\n",
       "        20.19151306, 20.19514084, 20.20121384, 20.20495415, 20.21109581,\n",
       "        20.21494484, 20.22115707, 20.22511864, 20.23140144, 20.23546982]),\n",
       " array([22.43011093, 21.71389961, 20.61336708, 20.45173073, 20.05970764,\n",
       "        20.0601902 , 20.06339836, 20.06952667, 20.07237625, 20.07819557,\n",
       "        20.08088684, 20.08655167, 20.08919144, 20.09478569, 20.0974369 ,\n",
       "        20.10300446, 20.10570335, 20.11128235, 20.114048  , 20.11964607,\n",
       "        20.12249184, 20.12812424, 20.13105774, 20.1367321 , 20.13975716,\n",
       "        20.1454792 , 20.14859962, 20.15437317, 20.15759087, 20.16341591,\n",
       "        20.16673851, 20.17261887, 20.17604256, 20.18198395, 20.18550682,\n",
       "        20.19151306, 20.19514084, 20.20121384, 20.20495415, 20.21109581,\n",
       "        20.21494484, 20.22115707, 20.22511864, 20.23140144, 20.23546982]),\n",
       " array([22.43011093, 21.71389961, 20.61336708, 20.45173073, 20.05970764,\n",
       "        20.0601902 , 20.06339836, 20.06952667, 20.07237625, 20.07819557,\n",
       "        20.08088684, 20.08655167, 20.08919144, 20.09478569, 20.0974369 ,\n",
       "        20.10300446, 20.10570335, 20.11128235, 20.114048  , 20.11964607,\n",
       "        20.12249184, 20.12812424, 20.13105774, 20.1367321 , 20.13975716,\n",
       "        20.1454792 , 20.14859962, 20.15437317, 20.15759087, 20.16341591,\n",
       "        20.16673851, 20.17261887, 20.17604256, 20.18198395, 20.18550682,\n",
       "        20.19151306, 20.19514084, 20.20121384, 20.20495415, 20.21109581,\n",
       "        20.21494484, 20.22115707, 20.22511864, 20.23140144, 20.23546982]),\n",
       " array([22.43011093, 21.71389961, 20.61336708, 20.45173073, 20.05970764,\n",
       "        20.0601902 , 20.06339836, 20.06952667, 20.07237625, 20.07819557,\n",
       "        20.08088684, 20.08655167, 20.08919144, 20.09478569, 20.0974369 ,\n",
       "        20.10300446, 20.10570335, 20.11128235, 20.114048  , 20.11964607,\n",
       "        20.12249184, 20.12812424, 20.13105774, 20.1367321 , 20.13975716,\n",
       "        20.1454792 , 20.14859962, 20.15437317, 20.15759087, 20.16341591,\n",
       "        20.16673851, 20.17261887, 20.17604256, 20.18198395, 20.18550682,\n",
       "        20.19151306, 20.19514084, 20.20121384, 20.20495415, 20.21109581,\n",
       "        20.21494484, 20.22115707, 20.22511864, 20.23140144, 20.23546982]),\n",
       " array([22.43011093, 21.71389961, 20.61336708, 20.45173073, 20.05970764,\n",
       "        20.0601902 , 20.06339836, 20.06952667, 20.07237625, 20.07819557,\n",
       "        20.08088684, 20.08655167, 20.08919144, 20.09478569, 20.0974369 ,\n",
       "        20.10300446, 20.10570335, 20.11128235, 20.114048  , 20.11964607,\n",
       "        20.12249184, 20.12812424, 20.13105774, 20.1367321 , 20.13975716,\n",
       "        20.1454792 , 20.14859962, 20.15437317, 20.15759087, 20.16341591,\n",
       "        20.16673851, 20.17261887, 20.17604256, 20.18198395, 20.18550682,\n",
       "        20.19151306, 20.19514084, 20.20121384, 20.20495415, 20.21109581,\n",
       "        20.21494484, 20.22115707, 20.22511864, 20.23140144, 20.23546982]),\n",
       " array([22.43011093, 21.71389961, 20.61336708, 20.45173073, 20.05970764,\n",
       "        20.0601902 , 20.06339836, 20.06952667, 20.07237625, 20.07819557,\n",
       "        20.08088684, 20.08655167, 20.08919144, 20.09478569, 20.0974369 ,\n",
       "        20.10300446, 20.10570335, 20.11128235, 20.114048  , 20.11964607,\n",
       "        20.12249184, 20.12812424, 20.13105774, 20.1367321 , 20.13975716,\n",
       "        20.1454792 , 20.14859962, 20.15437317, 20.15759087, 20.16341591,\n",
       "        20.16673851, 20.17261887, 20.17604256, 20.18198395, 20.18550682,\n",
       "        20.19151306, 20.19514084, 20.20121384, 20.20495415, 20.21109581,\n",
       "        20.21494484, 20.22115707, 20.22511864, 20.23140144, 20.23546982]),\n",
       " array([22.43011093, 21.71389961, 20.61336708, 20.45173073, 20.05970764,\n",
       "        20.0601902 , 20.06339836, 20.06952667, 20.07237625, 20.07819557,\n",
       "        20.08088684, 20.08655167, 20.08919144, 20.09478569, 20.0974369 ,\n",
       "        20.10300446, 20.10570335, 20.11128235, 20.114048  , 20.11964607,\n",
       "        20.12249184, 20.12812424, 20.13105774, 20.1367321 , 20.13975716,\n",
       "        20.1454792 , 20.14859962, 20.15437317, 20.15759087, 20.16341591,\n",
       "        20.16673851, 20.17261887, 20.17604256, 20.18198395, 20.18550682,\n",
       "        20.19151306, 20.19514084, 20.20121384, 20.20495415, 20.21109581,\n",
       "        20.21494484, 20.22115707, 20.22511864, 20.23140144, 20.23546982]),\n",
       " array([22.43011093, 21.71389961, 20.61336708, 20.45173073, 20.05970764,\n",
       "        20.0601902 , 20.06339836, 20.06952667, 20.07237625, 20.07819557,\n",
       "        20.08088684, 20.08655167, 20.08919144, 20.09478569, 20.0974369 ,\n",
       "        20.10300446, 20.10570335, 20.11128235, 20.114048  , 20.11964607,\n",
       "        20.12249184, 20.12812424, 20.13105774, 20.1367321 , 20.13975716,\n",
       "        20.1454792 , 20.14859962, 20.15437317, 20.15759087, 20.16341591,\n",
       "        20.16673851, 20.17261887, 20.17604256, 20.18198395, 20.18550682,\n",
       "        20.19151306, 20.19514084, 20.20121384, 20.20495415, 20.21109581,\n",
       "        20.21494484, 20.22115707, 20.22511864, 20.23140144, 20.23546982]),\n",
       " array([22.43011093, 21.71389961, 20.61336708, 20.45173073, 20.05970764,\n",
       "        20.0601902 , 20.06339836, 20.06952667, 20.07237625, 20.07819557,\n",
       "        20.08088684, 20.08655167, 20.08919144, 20.09478569, 20.0974369 ,\n",
       "        20.10300446, 20.10570335, 20.11128235, 20.114048  , 20.11964607,\n",
       "        20.12249184, 20.12812424, 20.13105774, 20.1367321 , 20.13975716,\n",
       "        20.1454792 , 20.14859962, 20.15437317, 20.15759087, 20.16341591,\n",
       "        20.16673851, 20.17261887, 20.17604256, 20.18198395, 20.18550682,\n",
       "        20.19151306, 20.19514084, 20.20121384, 20.20495415, 20.21109581,\n",
       "        20.21494484, 20.22115707, 20.22511864, 20.23140144, 20.23546982]),\n",
       " array([22.43011093, 21.71389961, 20.61336708, 20.45173073, 20.05970764,\n",
       "        20.0601902 , 20.06339836, 20.06952667, 20.07237625, 20.07819557,\n",
       "        20.08088684, 20.08655167, 20.08919144, 20.09478569, 20.0974369 ,\n",
       "        20.10300446, 20.10570335, 20.11128235, 20.114048  , 20.11964607,\n",
       "        20.12249184, 20.12812424, 20.13105774, 20.1367321 , 20.13975716,\n",
       "        20.1454792 , 20.14859962, 20.15437317, 20.15759087, 20.16341591,\n",
       "        20.16673851, 20.17261887, 20.17604256, 20.18198395, 20.18550682,\n",
       "        20.19151306, 20.19514084, 20.20121384, 20.20495415, 20.21109581,\n",
       "        20.21494484, 20.22115707, 20.22511864, 20.23140144, 20.23546982]),\n",
       " array([22.43011093, 21.71389961, 20.61336708, 20.45173073, 20.05970764,\n",
       "        20.0601902 , 20.06339836, 20.06952667, 20.07237625, 20.07819557,\n",
       "        20.08088684, 20.08655167, 20.08919144, 20.09478569, 20.0974369 ,\n",
       "        20.10300446, 20.10570335, 20.11128235, 20.114048  , 20.11964607,\n",
       "        20.12249184, 20.12812424, 20.13105774, 20.1367321 , 20.13975716,\n",
       "        20.1454792 , 20.14859962, 20.15437317, 20.15759087, 20.16341591,\n",
       "        20.16673851, 20.17261887, 20.17604256, 20.18198395, 20.18550682,\n",
       "        20.19151306, 20.19514084, 20.20121384, 20.20495415, 20.21109581,\n",
       "        20.21494484, 20.22115707, 20.22511864, 20.23140144, 20.23546982]),\n",
       " array([22.43011093, 21.71389961, 20.61336708, 20.45173073, 20.05970764,\n",
       "        20.0601902 , 20.06339836, 20.06952667, 20.07237625, 20.07819557,\n",
       "        20.08088684, 20.08655167, 20.08919144, 20.09478569, 20.0974369 ,\n",
       "        20.10300446, 20.10570335, 20.11128235, 20.114048  , 20.11964607,\n",
       "        20.12249184, 20.12812424, 20.13105774, 20.1367321 , 20.13975716,\n",
       "        20.1454792 , 20.14859962, 20.15437317, 20.15759087, 20.16341591,\n",
       "        20.16673851, 20.17261887, 20.17604256, 20.18198395, 20.18550682,\n",
       "        20.19151306, 20.19514084, 20.20121384, 20.20495415, 20.21109581,\n",
       "        20.21494484, 20.22115707, 20.22511864, 20.23140144, 20.23546982]),\n",
       " array([22.43011093, 21.71389961, 20.61336708, 20.45173073, 20.05970764,\n",
       "        20.0601902 , 20.06339836, 20.06952667, 20.07237625, 20.07819557,\n",
       "        20.08088684, 20.08655167, 20.08919144, 20.09478569, 20.0974369 ,\n",
       "        20.10300446, 20.10570335, 20.11128235, 20.114048  , 20.11964607,\n",
       "        20.12249184, 20.12812424, 20.13105774, 20.1367321 , 20.13975716,\n",
       "        20.1454792 , 20.14859962, 20.15437317, 20.15759087, 20.16341591,\n",
       "        20.16673851, 20.17261887, 20.17604256, 20.18198395, 20.18550682,\n",
       "        20.19151306, 20.19514084, 20.20121384, 20.20495415, 20.21109581,\n",
       "        20.21494484, 20.22115707, 20.22511864, 20.23140144, 20.23546982]),\n",
       " array([22.43011093, 21.71389961, 20.61336708, 20.45173073, 20.05970764,\n",
       "        20.0601902 , 20.06339836, 20.06952667, 20.07237625, 20.07819557,\n",
       "        20.08088684, 20.08655167, 20.08919144, 20.09478569, 20.0974369 ,\n",
       "        20.10300446, 20.10570335, 20.11128235, 20.114048  , 20.11964607,\n",
       "        20.12249184, 20.12812424, 20.13105774, 20.1367321 , 20.13975716,\n",
       "        20.1454792 , 20.14859962, 20.15437317, 20.15759087, 20.16341591,\n",
       "        20.16673851, 20.17261887, 20.17604256, 20.18198395, 20.18550682,\n",
       "        20.19151306, 20.19514084, 20.20121384, 20.20495415, 20.21109581,\n",
       "        20.21494484, 20.22115707, 20.22511864, 20.23140144, 20.23546982]),\n",
       " array([22.43011093, 21.71389961, 20.61336708, 20.45173073, 20.05970764,\n",
       "        20.0601902 , 20.06339836, 20.06952667, 20.07237625, 20.07819557,\n",
       "        20.08088684, 20.08655167, 20.08919144, 20.09478569, 20.0974369 ,\n",
       "        20.10300446, 20.10570335, 20.11128235, 20.114048  , 20.11964607,\n",
       "        20.12249184, 20.12812424, 20.13105774, 20.1367321 , 20.13975716,\n",
       "        20.1454792 , 20.14859962, 20.15437317, 20.15759087, 20.16341591,\n",
       "        20.16673851, 20.17261887, 20.17604256, 20.18198395, 20.18550682,\n",
       "        20.19151306, 20.19514084, 20.20121384, 20.20495415, 20.21109581,\n",
       "        20.21494484, 20.22115707, 20.22511864, 20.23140144, 20.23546982]),\n",
       " array([22.43011093, 21.71389961, 20.61336708, 20.45173073, 20.05970764,\n",
       "        20.0601902 , 20.06339836, 20.06952667, 20.07237625, 20.07819557,\n",
       "        20.08088684, 20.08655167, 20.08919144, 20.09478569, 20.0974369 ,\n",
       "        20.10300446, 20.10570335, 20.11128235, 20.114048  , 20.11964607,\n",
       "        20.12249184, 20.12812424, 20.13105774, 20.1367321 , 20.13975716,\n",
       "        20.1454792 , 20.14859962, 20.15437317, 20.15759087, 20.16341591,\n",
       "        20.16673851, 20.17261887, 20.17604256, 20.18198395, 20.18550682,\n",
       "        20.19151306, 20.19514084, 20.20121384, 20.20495415, 20.21109581,\n",
       "        20.21494484, 20.22115707, 20.22511864, 20.23140144, 20.23546982]),\n",
       " array([22.43011093, 21.71389961, 20.61336708, 20.45173073, 20.05970764,\n",
       "        20.0601902 , 20.06339836, 20.06952667, 20.07237625, 20.07819557,\n",
       "        20.08088684, 20.08655167, 20.08919144, 20.09478569, 20.0974369 ,\n",
       "        20.10300446, 20.10570335, 20.11128235, 20.114048  , 20.11964607,\n",
       "        20.12249184, 20.12812424, 20.13105774, 20.1367321 , 20.13975716,\n",
       "        20.1454792 , 20.14859962, 20.15437317, 20.15759087, 20.16341591,\n",
       "        20.16673851, 20.17261887, 20.17604256, 20.18198395, 20.18550682,\n",
       "        20.19151306, 20.19514084, 20.20121384, 20.20495415, 20.21109581,\n",
       "        20.21494484, 20.22115707, 20.22511864, 20.23140144, 20.23546982]),\n",
       " array([22.43011093, 21.71389961, 20.61336708, 20.45173073, 20.05970764,\n",
       "        20.0601902 , 20.06339836, 20.06952667, 20.07237625, 20.07819557,\n",
       "        20.08088684, 20.08655167, 20.08919144, 20.09478569, 20.0974369 ,\n",
       "        20.10300446, 20.10570335, 20.11128235, 20.114048  , 20.11964607,\n",
       "        20.12249184, 20.12812424, 20.13105774, 20.1367321 , 20.13975716,\n",
       "        20.1454792 , 20.14859962, 20.15437317, 20.15759087, 20.16341591,\n",
       "        20.16673851, 20.17261887, 20.17604256, 20.18198395, 20.18550682,\n",
       "        20.19151306, 20.19514084, 20.20121384, 20.20495415, 20.21109581,\n",
       "        20.21494484, 20.22115707, 20.22511864, 20.23140144, 20.23546982]),\n",
       " array([22.43011093, 21.71389961, 20.61336708, 20.45173073, 20.05970764,\n",
       "        20.0601902 , 20.06339836, 20.06952667, 20.07237625, 20.07819557,\n",
       "        20.08088684, 20.08655167, 20.08919144, 20.09478569, 20.0974369 ,\n",
       "        20.10300446, 20.10570335, 20.11128235, 20.114048  , 20.11964607,\n",
       "        20.12249184, 20.12812424, 20.13105774, 20.1367321 , 20.13975716,\n",
       "        20.1454792 , 20.14859962, 20.15437317, 20.15759087, 20.16341591,\n",
       "        20.16673851, 20.17261887, 20.17604256, 20.18198395, 20.18550682,\n",
       "        20.19151306, 20.19514084, 20.20121384, 20.20495415, 20.21109581,\n",
       "        20.21494484, 20.22115707, 20.22511864, 20.23140144, 20.23546982]),\n",
       " array([22.43011093, 21.71389961, 20.61336708, 20.45173073, 20.05970764,\n",
       "        20.0601902 , 20.06339836, 20.06952667, 20.07237625, 20.07819557,\n",
       "        20.08088684, 20.08655167, 20.08919144, 20.09478569, 20.0974369 ,\n",
       "        20.10300446, 20.10570335, 20.11128235, 20.114048  , 20.11964607,\n",
       "        20.12249184, 20.12812424, 20.13105774, 20.1367321 , 20.13975716,\n",
       "        20.1454792 , 20.14859962, 20.15437317, 20.15759087, 20.16341591,\n",
       "        20.16673851, 20.17261887, 20.17604256, 20.18198395, 20.18550682,\n",
       "        20.19151306, 20.19514084, 20.20121384, 20.20495415, 20.21109581,\n",
       "        20.21494484, 20.22115707, 20.22511864, 20.23140144, 20.23546982]),\n",
       " array([22.43011093, 21.71389961, 20.61336708, 20.45173073, 20.05970764,\n",
       "        20.0601902 , 20.06339836, 20.06952667, 20.07237625, 20.07819557,\n",
       "        20.08088684, 20.08655167, 20.08919144, 20.09478569, 20.0974369 ,\n",
       "        20.10300446, 20.10570335, 20.11128235, 20.114048  , 20.11964607,\n",
       "        20.12249184, 20.12812424, 20.13105774, 20.1367321 , 20.13975716,\n",
       "        20.1454792 , 20.14859962, 20.15437317, 20.15759087, 20.16341591,\n",
       "        20.16673851, 20.17261887, 20.17604256, 20.18198395, 20.18550682,\n",
       "        20.19151306, 20.19514084, 20.20121384, 20.20495415, 20.21109581,\n",
       "        20.21494484, 20.22115707, 20.22511864, 20.23140144, 20.23546982]),\n",
       " array([22.43011093, 21.71389961, 20.61336708, 20.45173073, 20.05970764,\n",
       "        20.0601902 , 20.06339836, 20.06952667, 20.07237625, 20.07819557,\n",
       "        20.08088684, 20.08655167, 20.08919144, 20.09478569, 20.0974369 ,\n",
       "        20.10300446, 20.10570335, 20.11128235, 20.114048  , 20.11964607,\n",
       "        20.12249184, 20.12812424, 20.13105774, 20.1367321 , 20.13975716,\n",
       "        20.1454792 , 20.14859962, 20.15437317, 20.15759087, 20.16341591,\n",
       "        20.16673851, 20.17261887, 20.17604256, 20.18198395, 20.18550682,\n",
       "        20.19151306, 20.19514084, 20.20121384, 20.20495415, 20.21109581,\n",
       "        20.21494484, 20.22115707, 20.22511864, 20.23140144, 20.23546982]),\n",
       " array([22.43011093, 21.71389961, 20.61336708, 20.45173073, 20.05970764,\n",
       "        20.0601902 , 20.06339836, 20.06952667, 20.07237625, 20.07819557,\n",
       "        20.08088684, 20.08655167, 20.08919144, 20.09478569, 20.0974369 ,\n",
       "        20.10300446, 20.10570335, 20.11128235, 20.114048  , 20.11964607,\n",
       "        20.12249184, 20.12812424, 20.13105774, 20.1367321 , 20.13975716,\n",
       "        20.1454792 , 20.14859962, 20.15437317, 20.15759087, 20.16341591,\n",
       "        20.16673851, 20.17261887, 20.17604256, 20.18198395, 20.18550682,\n",
       "        20.19151306, 20.19514084, 20.20121384, 20.20495415, 20.21109581,\n",
       "        20.21494484, 20.22115707, 20.22511864, 20.23140144, 20.23546982]),\n",
       " array([22.43011093, 21.71389961, 20.61336708, 20.45173073, 20.05970764,\n",
       "        20.0601902 , 20.06339836, 20.06952667, 20.07237625, 20.07819557,\n",
       "        20.08088684, 20.08655167, 20.08919144, 20.09478569, 20.0974369 ,\n",
       "        20.10300446, 20.10570335, 20.11128235, 20.114048  , 20.11964607,\n",
       "        20.12249184, 20.12812424, 20.13105774, 20.1367321 , 20.13975716,\n",
       "        20.1454792 , 20.14859962, 20.15437317, 20.15759087, 20.16341591,\n",
       "        20.16673851, 20.17261887, 20.17604256, 20.18198395, 20.18550682,\n",
       "        20.19151306, 20.19514084, 20.20121384, 20.20495415, 20.21109581,\n",
       "        20.21494484, 20.22115707, 20.22511864, 20.23140144, 20.23546982]),\n",
       " array([22.43011093, 21.71389961, 20.61336708, 20.45173073, 20.05970764,\n",
       "        20.0601902 , 20.06339836, 20.06952667, 20.07237625, 20.07819557,\n",
       "        20.08088684, 20.08655167, 20.08919144, 20.09478569, 20.0974369 ,\n",
       "        20.10300446, 20.10570335, 20.11128235, 20.114048  , 20.11964607,\n",
       "        20.12249184, 20.12812424, 20.13105774, 20.1367321 , 20.13975716,\n",
       "        20.1454792 , 20.14859962, 20.15437317, 20.15759087, 20.16341591,\n",
       "        20.16673851, 20.17261887, 20.17604256, 20.18198395, 20.18550682,\n",
       "        20.19151306, 20.19514084, 20.20121384, 20.20495415, 20.21109581,\n",
       "        20.21494484, 20.22115707, 20.22511864, 20.23140144, 20.23546982]),\n",
       " array([22.43011093, 21.71389961, 20.61336708, 20.45173073, 20.05970764,\n",
       "        20.0601902 , 20.06339836, 20.06952667, 20.07237625, 20.07819557,\n",
       "        20.08088684, 20.08655167, 20.08919144, 20.09478569, 20.0974369 ,\n",
       "        20.10300446, 20.10570335, 20.11128235, 20.114048  , 20.11964607,\n",
       "        20.12249184, 20.12812424, 20.13105774, 20.1367321 , 20.13975716,\n",
       "        20.1454792 , 20.14859962, 20.15437317, 20.15759087, 20.16341591,\n",
       "        20.16673851, 20.17261887, 20.17604256, 20.18198395, 20.18550682,\n",
       "        20.19151306, 20.19514084, 20.20121384, 20.20495415, 20.21109581,\n",
       "        20.21494484, 20.22115707, 20.22511864, 20.23140144, 20.23546982]),\n",
       " array([22.43011093, 21.71389961, 20.61336708, 20.45173073, 20.05970764,\n",
       "        20.0601902 , 20.06339836, 20.06952667, 20.07237625, 20.07819557,\n",
       "        20.08088684, 20.08655167, 20.08919144, 20.09478569, 20.0974369 ,\n",
       "        20.10300446, 20.10570335, 20.11128235, 20.114048  , 20.11964607,\n",
       "        20.12249184, 20.12812424, 20.13105774, 20.1367321 , 20.13975716,\n",
       "        20.1454792 , 20.14859962, 20.15437317, 20.15759087, 20.16341591,\n",
       "        20.16673851, 20.17261887, 20.17604256, 20.18198395, 20.18550682,\n",
       "        20.19151306, 20.19514084, 20.20121384, 20.20495415, 20.21109581,\n",
       "        20.21494484, 20.22115707, 20.22511864, 20.23140144, 20.23546982]),\n",
       " array([22.43011093, 21.71389961, 20.61336708, 20.45173073, 20.05970764,\n",
       "        20.0601902 , 20.06339836, 20.06952667, 20.07237625, 20.07819557,\n",
       "        20.08088684, 20.08655167, 20.08919144, 20.09478569, 20.0974369 ,\n",
       "        20.10300446, 20.10570335, 20.11128235, 20.114048  , 20.11964607,\n",
       "        20.12249184, 20.12812424, 20.13105774, 20.1367321 , 20.13975716,\n",
       "        20.1454792 , 20.14859962, 20.15437317, 20.15759087, 20.16341591,\n",
       "        20.16673851, 20.17261887, 20.17604256, 20.18198395, 20.18550682,\n",
       "        20.19151306, 20.19514084, 20.20121384, 20.20495415, 20.21109581,\n",
       "        20.21494484, 20.22115707, 20.22511864, 20.23140144, 20.23546982]),\n",
       " array([22.43011093, 21.71389961, 20.61336708, 20.45173073, 20.05970764,\n",
       "        20.0601902 , 20.06339836, 20.06952667, 20.07237625, 20.07819557,\n",
       "        20.08088684, 20.08655167, 20.08919144, 20.09478569, 20.0974369 ,\n",
       "        20.10300446, 20.10570335, 20.11128235, 20.114048  , 20.11964607,\n",
       "        20.12249184, 20.12812424, 20.13105774, 20.1367321 , 20.13975716,\n",
       "        20.1454792 , 20.14859962, 20.15437317, 20.15759087, 20.16341591,\n",
       "        20.16673851, 20.17261887, 20.17604256, 20.18198395, 20.18550682,\n",
       "        20.19151306, 20.19514084, 20.20121384, 20.20495415, 20.21109581,\n",
       "        20.21494484, 20.22115707, 20.22511864, 20.23140144, 20.23546982]),\n",
       " array([22.43011093, 21.71389961, 20.61336708, 20.45173073, 20.05970764,\n",
       "        20.0601902 , 20.06339836, 20.06952667, 20.07237625, 20.07819557,\n",
       "        20.08088684, 20.08655167, 20.08919144, 20.09478569, 20.0974369 ,\n",
       "        20.10300446, 20.10570335, 20.11128235, 20.114048  , 20.11964607,\n",
       "        20.12249184, 20.12812424, 20.13105774, 20.1367321 , 20.13975716,\n",
       "        20.1454792 , 20.14859962, 20.15437317, 20.15759087, 20.16341591,\n",
       "        20.16673851, 20.17261887, 20.17604256, 20.18198395, 20.18550682,\n",
       "        20.19151306, 20.19514084, 20.20121384, 20.20495415, 20.21109581,\n",
       "        20.21494484, 20.22115707, 20.22511864, 20.23140144, 20.23546982]),\n",
       " array([22.43011093, 21.71389961, 20.61336708, 20.45173073, 20.05970764,\n",
       "        20.0601902 , 20.06339836, 20.06952667, 20.07237625, 20.07819557,\n",
       "        20.08088684, 20.08655167, 20.08919144, 20.09478569, 20.0974369 ,\n",
       "        20.10300446, 20.10570335, 20.11128235, 20.114048  , 20.11964607,\n",
       "        20.12249184, 20.12812424, 20.13105774, 20.1367321 , 20.13975716,\n",
       "        20.1454792 , 20.14859962, 20.15437317, 20.15759087, 20.16341591,\n",
       "        20.16673851, 20.17261887, 20.17604256, 20.18198395, 20.18550682,\n",
       "        20.19151306, 20.19514084, 20.20121384, 20.20495415, 20.21109581,\n",
       "        20.21494484, 20.22115707, 20.22511864, 20.23140144, 20.23546982]),\n",
       " array([22.43011093, 21.71389961, 20.61336708, 20.45173073, 20.05970764,\n",
       "        20.0601902 , 20.06339836, 20.06952667, 20.07237625, 20.07819557,\n",
       "        20.08088684, 20.08655167, 20.08919144, 20.09478569, 20.0974369 ,\n",
       "        20.10300446, 20.10570335, 20.11128235, 20.114048  , 20.11964607,\n",
       "        20.12249184, 20.12812424, 20.13105774, 20.1367321 , 20.13975716,\n",
       "        20.1454792 , 20.14859962, 20.15437317, 20.15759087, 20.16341591,\n",
       "        20.16673851, 20.17261887, 20.17604256, 20.18198395, 20.18550682,\n",
       "        20.19151306, 20.19514084, 20.20121384, 20.20495415, 20.21109581,\n",
       "        20.21494484, 20.22115707, 20.22511864, 20.23140144, 20.23546982]),\n",
       " array([22.43011093, 21.71389961, 20.61336708, 20.45173073, 20.05970764,\n",
       "        20.0601902 , 20.06339836, 20.06952667, 20.07237625, 20.07819557,\n",
       "        20.08088684, 20.08655167, 20.08919144, 20.09478569, 20.0974369 ,\n",
       "        20.10300446, 20.10570335, 20.11128235, 20.114048  , 20.11964607,\n",
       "        20.12249184, 20.12812424, 20.13105774, 20.1367321 , 20.13975716,\n",
       "        20.1454792 , 20.14859962, 20.15437317, 20.15759087, 20.16341591,\n",
       "        20.16673851, 20.17261887, 20.17604256, 20.18198395, 20.18550682,\n",
       "        20.19151306, 20.19514084, 20.20121384, 20.20495415, 20.21109581,\n",
       "        20.21494484, 20.22115707, 20.22511864, 20.23140144, 20.23546982]),\n",
       " array([22.43011093, 21.71389961, 20.61336708, 20.45173073, 20.05970764,\n",
       "        20.0601902 , 20.06339836, 20.06952667, 20.07237625, 20.07819557,\n",
       "        20.08088684, 20.08655167, 20.08919144, 20.09478569, 20.0974369 ,\n",
       "        20.10300446, 20.10570335, 20.11128235, 20.114048  , 20.11964607,\n",
       "        20.12249184, 20.12812424, 20.13105774, 20.1367321 , 20.13975716,\n",
       "        20.1454792 , 20.14859962, 20.15437317, 20.15759087, 20.16341591,\n",
       "        20.16673851, 20.17261887, 20.17604256, 20.18198395, 20.18550682,\n",
       "        20.19151306, 20.19514084, 20.20121384, 20.20495415, 20.21109581,\n",
       "        20.21494484, 20.22115707, 20.22511864, 20.23140144, 20.23546982]),\n",
       " array([22.43011093, 21.71389961, 20.61336708, 20.45173073, 20.05970764,\n",
       "        20.0601902 , 20.06339836, 20.06952667, 20.07237625, 20.07819557,\n",
       "        20.08088684, 20.08655167, 20.08919144, 20.09478569, 20.0974369 ,\n",
       "        20.10300446, 20.10570335, 20.11128235, 20.114048  , 20.11964607,\n",
       "        20.12249184, 20.12812424, 20.13105774, 20.1367321 , 20.13975716,\n",
       "        20.1454792 , 20.14859962, 20.15437317, 20.15759087, 20.16341591,\n",
       "        20.16673851, 20.17261887, 20.17604256, 20.18198395, 20.18550682,\n",
       "        20.19151306, 20.19514084, 20.20121384, 20.20495415, 20.21109581,\n",
       "        20.21494484, 20.22115707, 20.22511864, 20.23140144, 20.23546982]),\n",
       " array([22.43011093, 21.71389961, 20.61336708, 20.45173073, 20.05970764,\n",
       "        20.0601902 , 20.06339836, 20.06952667, 20.07237625, 20.07819557,\n",
       "        20.08088684, 20.08655167, 20.08919144, 20.09478569, 20.0974369 ,\n",
       "        20.10300446, 20.10570335, 20.11128235, 20.114048  , 20.11964607,\n",
       "        20.12249184, 20.12812424, 20.13105774, 20.1367321 , 20.13975716,\n",
       "        20.1454792 , 20.14859962, 20.15437317, 20.15759087, 20.16341591,\n",
       "        20.16673851, 20.17261887, 20.17604256, 20.18198395, 20.18550682,\n",
       "        20.19151306, 20.19514084, 20.20121384, 20.20495415, 20.21109581,\n",
       "        20.21494484, 20.22115707, 20.22511864, 20.23140144, 20.23546982]),\n",
       " array([22.43011093, 21.71389961, 20.61336708, 20.45173073, 20.05970764,\n",
       "        20.0601902 , 20.06339836, 20.06952667, 20.07237625, 20.07819557,\n",
       "        20.08088684, 20.08655167, 20.08919144, 20.09478569, 20.0974369 ,\n",
       "        20.10300446, 20.10570335, 20.11128235, 20.114048  , 20.11964607,\n",
       "        20.12249184, 20.12812424, 20.13105774, 20.1367321 , 20.13975716,\n",
       "        20.1454792 , 20.14859962, 20.15437317, 20.15759087, 20.16341591,\n",
       "        20.16673851, 20.17261887, 20.17604256, 20.18198395, 20.18550682,\n",
       "        20.19151306, 20.19514084, 20.20121384, 20.20495415, 20.21109581,\n",
       "        20.21494484, 20.22115707, 20.22511864, 20.23140144, 20.23546982]),\n",
       " array([22.43011093, 21.71389961, 20.61336708, 20.45173073, 20.05970764,\n",
       "        20.0601902 , 20.06339836, 20.06952667, 20.07237625, 20.07819557,\n",
       "        20.08088684, 20.08655167, 20.08919144, 20.09478569, 20.0974369 ,\n",
       "        20.10300446, 20.10570335, 20.11128235, 20.114048  , 20.11964607,\n",
       "        20.12249184, 20.12812424, 20.13105774, 20.1367321 , 20.13975716,\n",
       "        20.1454792 , 20.14859962, 20.15437317, 20.15759087, 20.16341591,\n",
       "        20.16673851, 20.17261887, 20.17604256, 20.18198395, 20.18550682,\n",
       "        20.19151306, 20.19514084, 20.20121384, 20.20495415, 20.21109581,\n",
       "        20.21494484, 20.22115707, 20.22511864, 20.23140144, 20.23546982]),\n",
       " array([22.43011093, 21.71389961, 20.61336708, 20.45173073, 20.05970764,\n",
       "        20.0601902 , 20.06339836, 20.06952667, 20.07237625, 20.07819557,\n",
       "        20.08088684, 20.08655167, 20.08919144, 20.09478569, 20.0974369 ,\n",
       "        20.10300446, 20.10570335, 20.11128235, 20.114048  , 20.11964607,\n",
       "        20.12249184, 20.12812424, 20.13105774, 20.1367321 , 20.13975716,\n",
       "        20.1454792 , 20.14859962, 20.15437317, 20.15759087, 20.16341591,\n",
       "        20.16673851, 20.17261887, 20.17604256, 20.18198395, 20.18550682,\n",
       "        20.19151306, 20.19514084, 20.20121384, 20.20495415, 20.21109581,\n",
       "        20.21494484, 20.22115707, 20.22511864, 20.23140144, 20.23546982]),\n",
       " array([22.43011093, 21.71389961, 20.61336708, 20.45173073, 20.05970764,\n",
       "        20.0601902 , 20.06339836, 20.06952667, 20.07237625, 20.07819557,\n",
       "        20.08088684, 20.08655167, 20.08919144, 20.09478569, 20.0974369 ,\n",
       "        20.10300446, 20.10570335, 20.11128235, 20.114048  , 20.11964607,\n",
       "        20.12249184, 20.12812424, 20.13105774, 20.1367321 , 20.13975716,\n",
       "        20.1454792 , 20.14859962, 20.15437317, 20.15759087, 20.16341591,\n",
       "        20.16673851, 20.17261887, 20.17604256, 20.18198395, 20.18550682,\n",
       "        20.19151306, 20.19514084, 20.20121384, 20.20495415, 20.21109581,\n",
       "        20.21494484, 20.22115707, 20.22511864, 20.23140144, 20.23546982]),\n",
       " array([22.43011093, 21.71389961, 20.61336708, 20.45173073, 20.05970764,\n",
       "        20.0601902 , 20.06339836, 20.06952667, 20.07237625, 20.07819557,\n",
       "        20.08088684, 20.08655167, 20.08919144, 20.09478569, 20.0974369 ,\n",
       "        20.10300446, 20.10570335, 20.11128235, 20.114048  , 20.11964607,\n",
       "        20.12249184, 20.12812424, 20.13105774, 20.1367321 , 20.13975716,\n",
       "        20.1454792 , 20.14859962, 20.15437317, 20.15759087, 20.16341591,\n",
       "        20.16673851, 20.17261887, 20.17604256, 20.18198395, 20.18550682,\n",
       "        20.19151306, 20.19514084, 20.20121384, 20.20495415, 20.21109581,\n",
       "        20.21494484, 20.22115707, 20.22511864, 20.23140144, 20.23546982]),\n",
       " array([22.43011093, 21.71389961, 20.61336708, 20.45173073, 20.05970764,\n",
       "        20.0601902 , 20.06339836, 20.06952667, 20.07237625, 20.07819557,\n",
       "        20.08088684, 20.08655167, 20.08919144, 20.09478569, 20.0974369 ,\n",
       "        20.10300446, 20.10570335, 20.11128235, 20.114048  , 20.11964607,\n",
       "        20.12249184, 20.12812424, 20.13105774, 20.1367321 , 20.13975716,\n",
       "        20.1454792 , 20.14859962, 20.15437317, 20.15759087, 20.16341591,\n",
       "        20.16673851, 20.17261887, 20.17604256, 20.18198395, 20.18550682,\n",
       "        20.19151306, 20.19514084, 20.20121384, 20.20495415, 20.21109581,\n",
       "        20.21494484, 20.22115707, 20.22511864, 20.23140144, 20.23546982]),\n",
       " array([22.43011093, 21.71389961, 20.61336708, 20.45173073, 20.05970764,\n",
       "        20.0601902 , 20.06339836, 20.06952667, 20.07237625, 20.07819557,\n",
       "        20.08088684, 20.08655167, 20.08919144, 20.09478569, 20.0974369 ,\n",
       "        20.10300446, 20.10570335, 20.11128235, 20.114048  , 20.11964607,\n",
       "        20.12249184, 20.12812424, 20.13105774, 20.1367321 , 20.13975716,\n",
       "        20.1454792 , 20.14859962, 20.15437317, 20.15759087, 20.16341591,\n",
       "        20.16673851, 20.17261887, 20.17604256, 20.18198395, 20.18550682,\n",
       "        20.19151306, 20.19514084, 20.20121384, 20.20495415, 20.21109581,\n",
       "        20.21494484, 20.22115707, 20.22511864, 20.23140144, 20.23546982]),\n",
       " array([22.43011093, 21.71389961, 20.61336708, 20.45173073, 20.05970764,\n",
       "        20.0601902 , 20.06339836, 20.06952667, 20.07237625, 20.07819557,\n",
       "        20.08088684, 20.08655167, 20.08919144, 20.09478569, 20.0974369 ,\n",
       "        20.10300446, 20.10570335, 20.11128235, 20.114048  , 20.11964607,\n",
       "        20.12249184, 20.12812424, 20.13105774, 20.1367321 , 20.13975716,\n",
       "        20.1454792 , 20.14859962, 20.15437317, 20.15759087, 20.16341591,\n",
       "        20.16673851, 20.17261887, 20.17604256, 20.18198395, 20.18550682,\n",
       "        20.19151306, 20.19514084, 20.20121384, 20.20495415, 20.21109581,\n",
       "        20.21494484, 20.22115707, 20.22511864, 20.23140144, 20.23546982]),\n",
       " array([22.43011093, 21.71389961, 20.61336708, 20.45173073, 20.05970764,\n",
       "        20.0601902 , 20.06339836, 20.06952667, 20.07237625, 20.07819557,\n",
       "        20.08088684, 20.08655167, 20.08919144, 20.09478569, 20.0974369 ,\n",
       "        20.10300446, 20.10570335, 20.11128235, 20.114048  , 20.11964607,\n",
       "        20.12249184, 20.12812424, 20.13105774, 20.1367321 , 20.13975716,\n",
       "        20.1454792 , 20.14859962, 20.15437317, 20.15759087, 20.16341591,\n",
       "        20.16673851, 20.17261887, 20.17604256, 20.18198395, 20.18550682,\n",
       "        20.19151306, 20.19514084, 20.20121384, 20.20495415, 20.21109581,\n",
       "        20.21494484, 20.22115707, 20.22511864, 20.23140144, 20.23546982]),\n",
       " array([22.43011093, 21.71389961, 20.61336708, 20.45173073, 20.05970764,\n",
       "        20.0601902 , 20.06339836, 20.06952667, 20.07237625, 20.07819557,\n",
       "        20.08088684, 20.08655167, 20.08919144, 20.09478569, 20.0974369 ,\n",
       "        20.10300446, 20.10570335, 20.11128235, 20.114048  , 20.11964607,\n",
       "        20.12249184, 20.12812424, 20.13105774, 20.1367321 , 20.13975716,\n",
       "        20.1454792 , 20.14859962, 20.15437317, 20.15759087, 20.16341591,\n",
       "        20.16673851, 20.17261887, 20.17604256, 20.18198395, 20.18550682,\n",
       "        20.19151306, 20.19514084, 20.20121384, 20.20495415, 20.21109581,\n",
       "        20.21494484, 20.22115707, 20.22511864, 20.23140144, 20.23546982]),\n",
       " array([22.43011093, 21.71389961, 20.61336708, 20.45173073, 20.05970764,\n",
       "        20.0601902 , 20.06339836, 20.06952667, 20.07237625, 20.07819557,\n",
       "        20.08088684, 20.08655167, 20.08919144, 20.09478569, 20.0974369 ,\n",
       "        20.10300446, 20.10570335, 20.11128235, 20.114048  , 20.11964607,\n",
       "        20.12249184, 20.12812424, 20.13105774, 20.1367321 , 20.13975716,\n",
       "        20.1454792 , 20.14859962, 20.15437317, 20.15759087, 20.16341591,\n",
       "        20.16673851, 20.17261887, 20.17604256, 20.18198395, 20.18550682,\n",
       "        20.19151306, 20.19514084, 20.20121384, 20.20495415, 20.21109581,\n",
       "        20.21494484, 20.22115707, 20.22511864, 20.23140144, 20.23546982]),\n",
       " array([22.43011093, 21.71389961, 20.61336708, 20.45173073, 20.05970764,\n",
       "        20.0601902 , 20.06339836, 20.06952667, 20.07237625, 20.07819557,\n",
       "        20.08088684, 20.08655167, 20.08919144, 20.09478569, 20.0974369 ,\n",
       "        20.10300446, 20.10570335, 20.11128235, 20.114048  , 20.11964607,\n",
       "        20.12249184, 20.12812424, 20.13105774, 20.1367321 , 20.13975716,\n",
       "        20.1454792 , 20.14859962, 20.15437317, 20.15759087, 20.16341591,\n",
       "        20.16673851, 20.17261887, 20.17604256, 20.18198395, 20.18550682,\n",
       "        20.19151306, 20.19514084, 20.20121384, 20.20495415, 20.21109581,\n",
       "        20.21494484, 20.22115707, 20.22511864, 20.23140144, 20.23546982]),\n",
       " array([22.43011093, 21.71389961, 20.61336708, 20.45173073, 20.05970764,\n",
       "        20.0601902 , 20.06339836, 20.06952667, 20.07237625, 20.07819557,\n",
       "        20.08088684, 20.08655167, 20.08919144, 20.09478569, 20.0974369 ,\n",
       "        20.10300446, 20.10570335, 20.11128235, 20.114048  , 20.11964607,\n",
       "        20.12249184, 20.12812424, 20.13105774, 20.1367321 , 20.13975716,\n",
       "        20.1454792 , 20.14859962, 20.15437317, 20.15759087, 20.16341591,\n",
       "        20.16673851, 20.17261887, 20.17604256, 20.18198395, 20.18550682,\n",
       "        20.19151306, 20.19514084, 20.20121384, 20.20495415, 20.21109581,\n",
       "        20.21494484, 20.22115707, 20.22511864, 20.23140144, 20.23546982]),\n",
       " array([22.43011093, 21.71389961, 20.61336708, 20.45173073, 20.05970764,\n",
       "        20.0601902 , 20.06339836, 20.06952667, 20.07237625, 20.07819557,\n",
       "        20.08088684, 20.08655167, 20.08919144, 20.09478569, 20.0974369 ,\n",
       "        20.10300446, 20.10570335, 20.11128235, 20.114048  , 20.11964607,\n",
       "        20.12249184, 20.12812424, 20.13105774, 20.1367321 , 20.13975716,\n",
       "        20.1454792 , 20.14859962, 20.15437317, 20.15759087, 20.16341591,\n",
       "        20.16673851, 20.17261887, 20.17604256, 20.18198395, 20.18550682,\n",
       "        20.19151306, 20.19514084, 20.20121384, 20.20495415, 20.21109581,\n",
       "        20.21494484, 20.22115707, 20.22511864, 20.23140144, 20.23546982]),\n",
       " array([22.43011093, 21.71389961, 20.61336708, 20.45173073, 20.05970764,\n",
       "        20.0601902 , 20.06339836, 20.06952667, 20.07237625, 20.07819557,\n",
       "        20.08088684, 20.08655167, 20.08919144, 20.09478569, 20.0974369 ,\n",
       "        20.10300446, 20.10570335, 20.11128235, 20.114048  , 20.11964607,\n",
       "        20.12249184, 20.12812424, 20.13105774, 20.1367321 , 20.13975716,\n",
       "        20.1454792 , 20.14859962, 20.15437317, 20.15759087, 20.16341591,\n",
       "        20.16673851, 20.17261887, 20.17604256, 20.18198395, 20.18550682,\n",
       "        20.19151306, 20.19514084, 20.20121384, 20.20495415, 20.21109581,\n",
       "        20.21494484, 20.22115707, 20.22511864, 20.23140144, 20.23546982]),\n",
       " array([22.43011093, 21.71389961, 20.61336708, 20.45173073, 20.05970764,\n",
       "        20.0601902 , 20.06339836, 20.06952667, 20.07237625, 20.07819557,\n",
       "        20.08088684, 20.08655167, 20.08919144, 20.09478569, 20.0974369 ,\n",
       "        20.10300446, 20.10570335, 20.11128235, 20.114048  , 20.11964607,\n",
       "        20.12249184, 20.12812424, 20.13105774, 20.1367321 , 20.13975716,\n",
       "        20.1454792 , 20.14859962, 20.15437317, 20.15759087, 20.16341591,\n",
       "        20.16673851, 20.17261887, 20.17604256, 20.18198395, 20.18550682,\n",
       "        20.19151306, 20.19514084, 20.20121384, 20.20495415, 20.21109581,\n",
       "        20.21494484, 20.22115707, 20.22511864, 20.23140144, 20.23546982]),\n",
       " array([22.43011093, 21.71389961, 20.61336708, 20.45173073, 20.05970764,\n",
       "        20.0601902 , 20.06339836, 20.06952667, 20.07237625, 20.07819557,\n",
       "        20.08088684, 20.08655167, 20.08919144, 20.09478569, 20.0974369 ,\n",
       "        20.10300446, 20.10570335, 20.11128235, 20.114048  , 20.11964607,\n",
       "        20.12249184, 20.12812424, 20.13105774, 20.1367321 , 20.13975716,\n",
       "        20.1454792 , 20.14859962, 20.15437317, 20.15759087, 20.16341591,\n",
       "        20.16673851, 20.17261887, 20.17604256, 20.18198395, 20.18550682,\n",
       "        20.19151306, 20.19514084, 20.20121384, 20.20495415, 20.21109581,\n",
       "        20.21494484, 20.22115707, 20.22511864, 20.23140144, 20.23546982]),\n",
       " array([22.43011093, 21.71389961, 20.61336708, 20.45173073, 20.05970764,\n",
       "        20.0601902 , 20.06339836, 20.06952667, 20.07237625, 20.07819557,\n",
       "        20.08088684, 20.08655167, 20.08919144, 20.09478569, 20.0974369 ,\n",
       "        20.10300446, 20.10570335, 20.11128235, 20.114048  , 20.11964607,\n",
       "        20.12249184, 20.12812424, 20.13105774, 20.1367321 , 20.13975716,\n",
       "        20.1454792 , 20.14859962, 20.15437317, 20.15759087, 20.16341591,\n",
       "        20.16673851, 20.17261887, 20.17604256, 20.18198395, 20.18550682,\n",
       "        20.19151306, 20.19514084, 20.20121384, 20.20495415, 20.21109581,\n",
       "        20.21494484, 20.22115707, 20.22511864, 20.23140144, 20.23546982]),\n",
       " array([22.43011093, 21.71389961, 20.61336708, 20.45173073, 20.05970764,\n",
       "        20.0601902 , 20.06339836, 20.06952667, 20.07237625, 20.07819557,\n",
       "        20.08088684, 20.08655167, 20.08919144, 20.09478569, 20.0974369 ,\n",
       "        20.10300446, 20.10570335, 20.11128235, 20.114048  , 20.11964607,\n",
       "        20.12249184, 20.12812424, 20.13105774, 20.1367321 , 20.13975716,\n",
       "        20.1454792 , 20.14859962, 20.15437317, 20.15759087, 20.16341591,\n",
       "        20.16673851, 20.17261887, 20.17604256, 20.18198395, 20.18550682,\n",
       "        20.19151306, 20.19514084, 20.20121384, 20.20495415, 20.21109581,\n",
       "        20.21494484, 20.22115707, 20.22511864, 20.23140144, 20.23546982]),\n",
       " array([22.43011093, 21.71389961, 20.61336708, 20.45173073, 20.05970764,\n",
       "        20.0601902 , 20.06339836, 20.06952667, 20.07237625, 20.07819557,\n",
       "        20.08088684, 20.08655167, 20.08919144, 20.09478569, 20.0974369 ,\n",
       "        20.10300446, 20.10570335, 20.11128235, 20.114048  , 20.11964607,\n",
       "        20.12249184, 20.12812424, 20.13105774, 20.1367321 , 20.13975716,\n",
       "        20.1454792 , 20.14859962, 20.15437317, 20.15759087, 20.16341591,\n",
       "        20.16673851, 20.17261887, 20.17604256, 20.18198395, 20.18550682,\n",
       "        20.19151306, 20.19514084, 20.20121384, 20.20495415, 20.21109581,\n",
       "        20.21494484, 20.22115707, 20.22511864, 20.23140144, 20.23546982]),\n",
       " array([22.43011093, 21.71389961, 20.61336708, 20.45173073, 20.05970764,\n",
       "        20.0601902 , 20.06339836, 20.06952667, 20.07237625, 20.07819557,\n",
       "        20.08088684, 20.08655167, 20.08919144, 20.09478569, 20.0974369 ,\n",
       "        20.10300446, 20.10570335, 20.11128235, 20.114048  , 20.11964607,\n",
       "        20.12249184, 20.12812424, 20.13105774, 20.1367321 , 20.13975716,\n",
       "        20.1454792 , 20.14859962, 20.15437317, 20.15759087, 20.16341591,\n",
       "        20.16673851, 20.17261887, 20.17604256, 20.18198395, 20.18550682,\n",
       "        20.19151306, 20.19514084, 20.20121384, 20.20495415, 20.21109581,\n",
       "        20.21494484, 20.22115707, 20.22511864, 20.23140144, 20.23546982]),\n",
       " array([22.43011093, 21.71389961, 20.61336708, 20.45173073, 20.05970764,\n",
       "        20.0601902 , 20.06339836, 20.06952667, 20.07237625, 20.07819557,\n",
       "        20.08088684, 20.08655167, 20.08919144, 20.09478569, 20.0974369 ,\n",
       "        20.10300446, 20.10570335, 20.11128235, 20.114048  , 20.11964607,\n",
       "        20.12249184, 20.12812424, 20.13105774, 20.1367321 , 20.13975716,\n",
       "        20.1454792 , 20.14859962, 20.15437317, 20.15759087, 20.16341591,\n",
       "        20.16673851, 20.17261887, 20.17604256, 20.18198395, 20.18550682,\n",
       "        20.19151306, 20.19514084, 20.20121384, 20.20495415, 20.21109581,\n",
       "        20.21494484, 20.22115707, 20.22511864, 20.23140144, 20.23546982])]"
      ]
     },
     "execution_count": 21,
     "metadata": {},
     "output_type": "execute_result"
    }
   ],
   "source": [
    "long_spks = lv.get_speckles(spk_collection=\"long-6\")\n",
    "\n",
    "\n",
    "[lv.compute_spk_longitudinal_length(spk, mfilter_ws=0, sfilter_ws=0, sfilter_or=0) for coords in long_spks]\n"
   ]
  },
  {
   "cell_type": "code",
   "execution_count": 22,
   "metadata": {},
   "outputs": [
    {
     "ename": "NameError",
     "evalue": "name 'compute_length' is not defined",
     "output_type": "error",
     "traceback": [
      "\u001b[1;31m---------------------------------------------------------------------------\u001b[0m",
      "\u001b[1;31mNameError\u001b[0m                                 Traceback (most recent call last)",
      "\u001b[1;32mc:\\Users\\igorp\\OneDrive\\Documents\\GitHub\\Project-Heart\\notebooks\\lv\\tests\\test_metrics_ideal.ipynb Cell 34'\u001b[0m in \u001b[0;36m<cell line: 1>\u001b[1;34m()\u001b[0m\n\u001b[1;32m----> <a href='vscode-notebook-cell:/c%3A/Users/igorp/OneDrive/Documents/GitHub/Project-Heart/notebooks/lv/tests/test_metrics_ideal.ipynb#ch0000059?line=0'>1</a>\u001b[0m \u001b[39mlist\u001b[39m(\u001b[39mmap\u001b[39m(compute_length, xyz))\n",
      "\u001b[1;31mNameError\u001b[0m: name 'compute_length' is not defined"
     ]
    }
   ],
   "source": [
    "list(map(compute_length, xyz))"
   ]
  },
  {
   "cell_type": "code",
   "execution_count": null,
   "metadata": {},
   "outputs": [],
   "source": [
    "long_spks = lv.get_speckles(spk_name=\"0\", spk_collection=\"long-6\")\n",
    "lv.longitudinal_length(long_spks, recompute=True, n_clusters=8, \n",
    "                                            reassignment_ratio=1e-3,\n",
    "                                           batch_size=4096,\n",
    "                                           mfilter_ws=0,\n",
    "                                           sfilter_ws=0,\n",
    "                                           sfilter_or=0,)\n",
    "lv.plot_metric(lv.STATES.LONG_LENGTH, \n",
    "    from_ts=0.0,\n",
    "    plot_infos=[\"group\", \"name\"])"
   ]
  },
  {
   "cell_type": "markdown",
   "metadata": {},
   "source": [
    "Circumferential Length:"
   ]
  },
  {
   "cell_type": "code",
   "execution_count": null,
   "metadata": {},
   "outputs": [],
   "source": [
    "circ_spks = lv.get_speckles(spk_name=\"base\", spk_collection=\"circ-6\")\n",
    "lv.circumferential_length(circ_spks)\n",
    "lv.plot_metric(lv.STATES.CIRC_LENGTH, \n",
    "    from_ts=0.0,\n",
    "    plot_infos=[\"group\"])"
   ]
  },
  {
   "cell_type": "markdown",
   "metadata": {},
   "source": [
    "Rotation:"
   ]
  },
  {
   "cell_type": "code",
   "execution_count": null,
   "metadata": {},
   "outputs": [],
   "source": [
    "circ_spks = lv.get_speckles(spk_name=\"base\", spk_collection=\"circ-6\")\n",
    "lv.rotation(circ_spks)\n",
    "lv.plot_metric(lv.STATES.ROTATION, \n",
    "    from_ts=0.0,\n",
    "    plot_infos=[\"group\"])"
   ]
  },
  {
   "cell_type": "markdown",
   "metadata": {},
   "source": [
    "## Clinical Metrics:"
   ]
  },
  {
   "cell_type": "markdown",
   "metadata": {},
   "source": [
    "### Clinical metrics that do not require speckles"
   ]
  },
  {
   "cell_type": "markdown",
   "metadata": {},
   "source": [
    "Ejection Fraction"
   ]
  },
  {
   "cell_type": "code",
   "execution_count": null,
   "metadata": {},
   "outputs": [],
   "source": [
    "lv.ejection_fraction()\n",
    "lv.plot_metric(lv.STATES.EF, \n",
    "    from_ts=0.1,\n",
    "    plot_infos=[\"group\"])"
   ]
  },
  {
   "cell_type": "markdown",
   "metadata": {},
   "source": [
    "Longitudinal Shortening:"
   ]
  },
  {
   "cell_type": "code",
   "execution_count": null,
   "metadata": {},
   "outputs": [],
   "source": [
    "lv.longitudinal_shortening()\n",
    "lv.plot_metric(lv.STATES.LS, \n",
    "    from_ts=0.1,\n",
    "    plot_infos=[\"group\"])"
   ]
  },
  {
   "cell_type": "markdown",
   "metadata": {},
   "source": [
    "### Clinical metrics that require speckles"
   ]
  },
  {
   "cell_type": "markdown",
   "metadata": {},
   "source": [
    "Radial shortening\n"
   ]
  },
  {
   "cell_type": "code",
   "execution_count": null,
   "metadata": {},
   "outputs": [],
   "source": [
    "circ_spks = lv.get_speckles(spk_collection=\"circ-6\")\n",
    "lv.radial_shortening(circ_spks, t_ed=0.1)\n",
    "lv.plot_metric(lv.STATES.RS, \n",
    "    from_ts=0.1,\n",
    "    plot_infos=[\"group\"])"
   ]
  },
  {
   "cell_type": "markdown",
   "metadata": {},
   "source": [
    "Wall thickening:"
   ]
  },
  {
   "cell_type": "code",
   "execution_count": null,
   "metadata": {},
   "outputs": [],
   "source": [
    "endo_circ_spks = lv.get_speckles(spk_group=\"endo\", spk_collection=\"circ-6\")\n",
    "epi_circ_spks = lv.get_speckles(spk_group=\"epi\", spk_collection=\"circ-6\")\n",
    "\n",
    "lv.wall_thickening(endo_circ_spks, epi_circ_spks, t_ed=0.1)\n",
    "lv.plot_metric(lv.STATES.WT, \n",
    "    from_ts=0.1,\n",
    "    plot_infos=[\"group\"])"
   ]
  },
  {
   "cell_type": "markdown",
   "metadata": {},
   "source": [
    "Longitudinal strain:"
   ]
  },
  {
   "cell_type": "code",
   "execution_count": null,
   "metadata": {},
   "outputs": [],
   "source": [
    "long_spks = lv.get_speckles(spk_collection=\"long-6\")\n",
    "lv.longitudinal_strain(long_spks, t_ed=0.1)\n",
    "lv.plot_metric(lv.STATES.SL, \n",
    "    from_ts=0.1,\n",
    "    plot_infos=[\"group\"])"
   ]
  },
  {
   "cell_type": "markdown",
   "metadata": {},
   "source": [
    "Circumferential Strain:"
   ]
  },
  {
   "cell_type": "code",
   "execution_count": null,
   "metadata": {},
   "outputs": [],
   "source": [
    "circ_spks = lv.get_speckles(spk_collection=\"circ-6\")\n",
    "lv.circumferential_strain(circ_spks, t_ed=0.1)\n",
    "lv.plot_metric(lv.STATES.SC, \n",
    "    from_ts=0.1,\n",
    "    plot_infos=[\"group\"])"
   ]
  },
  {
   "cell_type": "markdown",
   "metadata": {},
   "source": [
    "Twist:"
   ]
  },
  {
   "cell_type": "code",
   "execution_count": null,
   "metadata": {},
   "outputs": [],
   "source": [
    "apex_spks = lv.get_speckles(spk_name=\"apex\", spk_collection=\"circ-6\")\n",
    "base_spks = lv.get_speckles(spk_name=\"base\", spk_collection=\"circ-6\")\n",
    "\n",
    "lv.twist(apex_spks, base_spks, t_ed=0.1)\n",
    "lv.plot_metric(lv.STATES.TW, \n",
    "    from_ts=0.1,\n",
    "    plot_infos=[\"group\"])"
   ]
  },
  {
   "cell_type": "markdown",
   "metadata": {},
   "source": [
    "Torsion:"
   ]
  },
  {
   "cell_type": "code",
   "execution_count": null,
   "metadata": {},
   "outputs": [],
   "source": [
    "apex_spks = lv.get_speckles(spk_name=\"apex\", spk_collection=\"circ-6\")\n",
    "base_spks = lv.get_speckles(spk_name=\"base\", spk_collection=\"circ-6\")\n",
    "\n",
    "lv.torsion(apex_spks, base_spks, t_ed=0.1)\n",
    "lv.plot_metric(lv.STATES.TO, \n",
    "    from_ts=0.1,\n",
    "    plot_infos=[\"group\"])"
   ]
  }
 ],
 "metadata": {
  "interpreter": {
   "hash": "364647f439eeb51cea9fa1ad47f7b03a5a9ed5157a0ffe2dd43bcec2d09df37e"
  },
  "kernelspec": {
   "display_name": "Python 3.9.7 (conda)",
   "language": "python",
   "name": "python3"
  },
  "language_info": {
   "codemirror_mode": {
    "name": "ipython",
    "version": 3
   },
   "file_extension": ".py",
   "mimetype": "text/x-python",
   "name": "python",
   "nbconvert_exporter": "python",
   "pygments_lexer": "ipython3",
   "version": "3.9.7"
  },
  "orig_nbformat": 4
 },
 "nbformat": 4,
 "nbformat_minor": 2
}
