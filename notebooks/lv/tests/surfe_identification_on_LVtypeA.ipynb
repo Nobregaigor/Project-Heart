{
 "cells": [
  {
   "cell_type": "code",
   "execution_count": 1,
   "metadata": {},
   "outputs": [],
   "source": [
    "from project_heart.lv import LV\n",
    "import numpy as np\n",
    "import pyvista as pv\n",
    "pv.set_jupyter_backend(\"pythreejs\")\n",
    "\n",
    "import os\n",
    "from pathlib import Path\n",
    "\n",
    "from project_heart.enums import *"
   ]
  },
  {
   "cell_type": "code",
   "execution_count": 2,
   "metadata": {},
   "outputs": [
    {
     "data": {
      "application/vnd.jupyter.widget-view+json": {
       "model_id": "4b1e1d5c200a4347a9494d86eb19fb9d",
       "version_major": 2,
       "version_minor": 0
      },
      "text/plain": [
       "Renderer(camera=PerspectiveCamera(aspect=1.3333333333333333, children=(DirectionalLight(color='#fefefe', posit…"
      ]
     },
     "metadata": {},
     "output_type": "display_data"
    }
   ],
   "source": [
    "filepath = Path(\"C:/Users/igorp/Downloads/38_79.11_41.17_11.01.2022.xplt\")\n",
    "lv = LV.from_xplt(filepath)\n",
    "lv.plot(show_edges=True)"
   ]
  },
  {
   "cell_type": "code",
   "execution_count": 3,
   "metadata": {},
   "outputs": [],
   "source": [
    "from project_heart.utils.spatial_utils import *\n",
    "from project_heart.utils.vector_utils import *"
   ]
  },
  {
   "cell_type": "code",
   "execution_count": 4,
   "metadata": {},
   "outputs": [
    {
     "data": {
      "application/vnd.jupyter.widget-view+json": {
       "model_id": "90ab5ad7e8aa4ecba0504dc1cd902127",
       "version_major": 2,
       "version_minor": 0
      },
      "text/plain": [
       "Renderer(camera=PerspectiveCamera(aspect=1.3333333333333333, children=(DirectionalLight(color='#fefefe', posit…"
      ]
     },
     "metadata": {},
     "output_type": "display_data"
    }
   ],
   "source": [
    "lv.identify_base_and_apex_surfaces()\n",
    "lv.identify_epi_endo_surfaces(88)\n",
    "lv.plot(scalars=LV_MESH_DATA.EPI_ENDO_GUESS.value)"
   ]
  },
  {
   "cell_type": "code",
   "execution_count": 17,
   "metadata": {},
   "outputs": [
    {
     "data": {
      "application/vnd.jupyter.widget-view+json": {
       "model_id": "1957096173174b958f5dd70e51715d76",
       "version_major": 2,
       "version_minor": 0
      },
      "text/plain": [
       "Renderer(camera=PerspectiveCamera(aspect=1.3333333333333333, children=(DirectionalLight(color='#fefefe', posit…"
      ]
     },
     "metadata": {},
     "output_type": "display_data"
    }
   ],
   "source": [
    "e1=15\n",
    "b1 = 1.25\n",
    "b2 = 100\n",
    "\n",
    "endo_epi = np.copy(lv.get(GEO_DATA.SURF_POINT_DATA, LV_MESH_DATA.EPI_ENDO_GUESS))\n",
    "\n",
    "lvsurf = lv.get_surface_mesh()\n",
    "# Get edges\n",
    "edges = lv.mesh.extract_feature_edges(e1)\n",
    "edges = edges.extract_largest()\n",
    "edges = edges.extract_largest()\n",
    "edge_pts = edges.points\n",
    "est_base = centroid(edge_pts)\n",
    "est_radius = radius(edge_pts)\n",
    "# select pts close to est_base based on % of est_radius\n",
    "pts = lvsurf.points\n",
    "d_base = np.linalg.norm(pts - est_base, axis=1)\n",
    "ioi = np.where(d_base <= est_radius*b1)[0]\n",
    "# re-estimate base centroid and radius\n",
    "poi = pts[ioi]\n",
    "# filter selected pts based on surface angle\n",
    "surfnormals = lvsurf.compute_normals(inplace=True)\n",
    "surf_normals = lvsurf.get_array(\"Normals\", \"points\")\n",
    "base_vecs = est_base - poi\n",
    "base_angles = angle_between(surf_normals[ioi], base_vecs, check_orientation=False)\n",
    "ioi = ioi[np.where(base_angles <= np.radians(b2) )[0]]\n",
    "# filter by endo\n",
    "ioi = ioi[np.where(endo_epi[ioi] != LV_SURFS.ENDO)]\n",
    "# identify final surfaces\n",
    "endo_epi_base = np.copy(endo_epi)\n",
    "endo_epi_base[ioi] = LV_SURFS.BASE\n",
    "# map to 'global' mesh ids\n",
    "id_map = lv.get_surface_id_map_from_mesh()\n",
    "endo_epi_base_mesh = np.zeros(lv.mesh.n_points)\n",
    "endo_epi_base_mesh[id_map] = endo_epi_base\n",
    "# add data to mesh\n",
    "lv._surface_mesh.point_data[LV_MESH_DATA.SURFS.value] = endo_epi_base\n",
    "lv.mesh.point_data[LV_MESH_DATA.SURFS.value] = endo_epi_base_mesh\n",
    "\n",
    "#plot\n",
    "lv.plot(\"mesh\", LV_MESH_DATA.SURFS.value, categorical=True)"
   ]
  }
 ],
 "metadata": {
  "interpreter": {
   "hash": "0ae1276936e32d1c86df8db6f3cf7470193c57b148400d4ba3b6a1ab5cfdd10f"
  },
  "kernelspec": {
   "display_name": "Python 3.9.7 (conda)",
   "language": "python",
   "name": "python3"
  },
  "language_info": {
   "codemirror_mode": {
    "name": "ipython",
    "version": 3
   },
   "file_extension": ".py",
   "mimetype": "text/x-python",
   "name": "python",
   "nbconvert_exporter": "python",
   "pygments_lexer": "ipython3",
   "version": "3.9.7"
  },
  "orig_nbformat": 4
 },
 "nbformat": 4,
 "nbformat_minor": 2
}
