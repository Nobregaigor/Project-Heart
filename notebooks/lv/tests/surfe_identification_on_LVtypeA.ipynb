{
 "cells": [
  {
   "cell_type": "code",
   "execution_count": 1,
   "metadata": {},
   "outputs": [],
   "source": [
    "from project_heart.lv import LV\n",
    "import numpy as np\n",
    "import pyvista as pv\n",
    "# import project_heart as ph\n",
    "from project_heart.modules.geometry import Geometry\n",
    "pv.set_jupyter_backend(\"pythreejs\")\n",
    "\n",
    "import os\n",
    "from pathlib import Path\n",
    "\n",
    "from project_heart.enums import *"
   ]
  },
  {
   "cell_type": "code",
   "execution_count": 2,
   "metadata": {},
   "outputs": [
    {
     "data": {
      "application/vnd.jupyter.widget-view+json": {
       "model_id": "3012b61ed61d471080c8b6db74d4d1be",
       "version_major": 2,
       "version_minor": 0
      },
      "text/plain": [
       "Renderer(camera=PerspectiveCamera(aspect=1.3333333333333333, children=(DirectionalLight(color='#fefefe', posit…"
      ]
     },
     "metadata": {},
     "output_type": "display_data"
    }
   ],
   "source": [
    "filepath = Path(\"C:/Users/igorp/Downloads/38_79.11_41.17_11.01.2022.xplt\")\n",
    "lv = LV.from_xplt(filepath)\n",
    "lv.plot(show_edges=True)"
   ]
  },
  {
   "cell_type": "code",
   "execution_count": 9,
   "metadata": {},
   "outputs": [
    {
     "data": {
      "text/plain": [
       "(array([1, 1, 1, ..., 2, 2, 2], dtype=int64),\n",
       " array([1, 1, 1, ..., 0, 0, 0], dtype=int64))"
      ]
     },
     "execution_count": 9,
     "metadata": {},
     "output_type": "execute_result"
    }
   ],
   "source": [
    "lv.identify_epi_endo_surfaces(88)"
   ]
  },
  {
   "cell_type": "code",
   "execution_count": 24,
   "metadata": {},
   "outputs": [
    {
     "data": {
      "application/vnd.jupyter.widget-view+json": {
       "model_id": "92e732d18aa540179eb94a646b826a43",
       "version_major": 2,
       "version_minor": 0
      },
      "text/plain": [
       "Renderer(camera=PerspectiveCamera(aspect=1.3333333333333333, children=(DirectionalLight(color='#fefefe', inten…"
      ]
     },
     "metadata": {},
     "output_type": "display_data"
    }
   ],
   "source": [
    "edges = lv.mesh.extract_feature_edges(15).extract_largest()\n",
    "edges.plot()"
   ]
  },
  {
   "cell_type": "code",
   "execution_count": 10,
   "metadata": {},
   "outputs": [
    {
     "data": {
      "application/vnd.jupyter.widget-view+json": {
       "model_id": "6214b5bc90f54143be00553ae10b4a59",
       "version_major": 2,
       "version_minor": 0
      },
      "text/plain": [
       "Renderer(camera=PerspectiveCamera(aspect=1.3333333333333333, children=(DirectionalLight(color='#fefefe', posit…"
      ]
     },
     "metadata": {},
     "output_type": "display_data"
    }
   ],
   "source": [
    "lv.plot(scalars=LV_MESH_DATA.EPI_ENDO_GUESS.value)"
   ]
  }
 ],
 "metadata": {
  "interpreter": {
   "hash": "0ae1276936e32d1c86df8db6f3cf7470193c57b148400d4ba3b6a1ab5cfdd10f"
  },
  "kernelspec": {
   "display_name": "Python 3.9.7 (conda)",
   "language": "python",
   "name": "python3"
  },
  "language_info": {
   "codemirror_mode": {
    "name": "ipython",
    "version": 3
   },
   "file_extension": ".py",
   "mimetype": "text/x-python",
   "name": "python",
   "nbconvert_exporter": "python",
   "pygments_lexer": "ipython3",
   "version": "3.9.7"
  },
  "orig_nbformat": 4
 },
 "nbformat": 4,
 "nbformat_minor": 2
}
