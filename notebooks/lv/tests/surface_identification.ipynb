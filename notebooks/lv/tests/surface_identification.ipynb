{
 "cells": [
  {
   "cell_type": "code",
   "execution_count": 1,
   "metadata": {},
   "outputs": [],
   "source": [
    "from project_heart.lv import LV\n",
    "import numpy as np\n",
    "import pyvista as pv\n",
    "# import project_heart as ph\n",
    "from project_heart.modules.geometry import Geometry\n",
    "pv.set_jupyter_backend(\"pythreejs\")\n",
    "\n",
    "import os\n",
    "from pathlib import Path"
   ]
  },
  {
   "cell_type": "code",
   "execution_count": 2,
   "metadata": {},
   "outputs": [],
   "source": [
    "from project_heart.enums import *"
   ]
  },
  {
   "cell_type": "code",
   "execution_count": 3,
   "metadata": {},
   "outputs": [
    {
     "data": {
      "application/vnd.jupyter.widget-view+json": {
       "model_id": "fc6b7ffeb4294fe982cdf4a82e69e344",
       "version_major": 2,
       "version_minor": 0
      },
      "text/plain": [
       "Renderer(camera=PerspectiveCamera(aspect=1.3333333333333333, children=(DirectionalLight(color='#fefefe', posit…"
      ]
     },
     "metadata": {},
     "output_type": "display_data"
    }
   ],
   "source": [
    "filepath = Path(\"../sample_files/lvhexmesh.vtk\")\n",
    "lv = LV.from_pyvista_read(filepath)\n",
    "lv.plot()"
   ]
  },
  {
   "cell_type": "code",
   "execution_count": 4,
   "metadata": {},
   "outputs": [],
   "source": [
    "lv.identify_surfaces(\n",
    "  endo_epi_args=dict(threshold=90.0),\n",
    "  apex_base_args=dict(ab_ql=0.04, ab_qh=0.69),\n",
    "  aortic_mitral_args=dict(a1=0.4,\n",
    "                          a2 = 0.5,\n",
    "                          a3=0.3,\n",
    "                          a4=70,\n",
    "                          a5=132,\n",
    "                          m1=0.17,\n",
    "                          m2=0.02,\n",
    "                          m3=0.07,\n",
    "                          m4=0.333\n",
    "                          )\n",
    ")"
   ]
  },
  {
   "cell_type": "code",
   "execution_count": 5,
   "metadata": {},
   "outputs": [
    {
     "data": {
      "application/vnd.jupyter.widget-view+json": {
       "model_id": "7cb18937fd774ac5adeae30aa00d209b",
       "version_major": 2,
       "version_minor": 0
      },
      "text/plain": [
       "Renderer(camera=PerspectiveCamera(aspect=1.3333333333333333, children=(DirectionalLight(color='#fefefe', posit…"
      ]
     },
     "metadata": {},
     "output_type": "display_data"
    }
   ],
   "source": [
    "lv.plot(\"mesh\", scalars=LV_MESH_DATA.SURFS.value, \n",
    "        vnodes=[\n",
    "          (LV_VIRTUAL_NODES.MITRAL, \"green\"),\n",
    "          (LV_VIRTUAL_NODES.AORTIC, \"red\"),\n",
    "          (LV_VIRTUAL_NODES.AORTIC_BORDER, \"purple\"),\n",
    "          ],\n",
    "        cmap=\"tab20\")"
   ]
  },
  {
   "cell_type": "code",
   "execution_count": 25,
   "metadata": {},
   "outputs": [],
   "source": [
    "aortic_bc = lv.create_spring_rim_bc(LV_SURFS.BORDER_AORTIC.value,\n",
    "                                    dist_from_c=5.0,\n",
    "                                    r_alpha=0.7)\n",
    "mitral_bc = lv.create_spring_rim_bc(LV_SURFS.BORDER_MITRAL.value,\n",
    "                                    dist_from_c=5.0,\n",
    "                                    r_alpha=1.0)\n",
    "\n",
    "aortic_epi_bc = lv.create_spring_rim_bc(LV_SURFS.EPI_AORTIC.value,\n",
    "                                    dist_from_c=0.0,\n",
    "                                    r_alpha=1.5)"
   ]
  },
  {
   "cell_type": "code",
   "execution_count": 26,
   "metadata": {},
   "outputs": [],
   "source": [
    "atr_rim_string_lines = lv.get_springs_pts_for_plot(\n",
    "  lv.points(mask=lv.get_nodeset(aortic_bc[LV_RIM.REF_NODESET.value])),\n",
    "  aortic_bc[LV_RIM.NODES.value],\n",
    "  aortic_bc[LV_RIM.RELATIONS.value], \n",
    "  1\n",
    "  )\n",
    "mtr_rim_string_lines = lv.get_springs_pts_for_plot(\n",
    "  lv.points(mask=lv.get_nodeset(mitral_bc[LV_RIM.REF_NODESET.value])),\n",
    "  mitral_bc[LV_RIM.NODES.value],\n",
    "  mitral_bc[LV_RIM.RELATIONS.value], \n",
    "  1\n",
    "  )\n",
    "\n",
    "atr_rim_string_lines = lv.get_springs_pts_for_plot(\n",
    "  lv.points(mask=lv.get_nodeset(aortic_bc[LV_RIM.REF_NODESET.value])),\n",
    "  aortic_bc[LV_RIM.NODES.value],\n",
    "  aortic_bc[LV_RIM.RELATIONS.value], \n",
    "  1\n",
    "  )"
   ]
  },
  {
   "cell_type": "code",
   "execution_count": 27,
   "metadata": {},
   "outputs": [
    {
     "data": {
      "application/vnd.jupyter.widget-view+json": {
       "model_id": "ee03da05690446b59da6373d7812464b",
       "version_major": 2,
       "version_minor": 0
      },
      "text/plain": [
       "Renderer(camera=PerspectiveCamera(aspect=1.3333333333333333, children=(DirectionalLight(color='#fefefe', posit…"
      ]
     },
     "metadata": {},
     "output_type": "display_data"
    }
   ],
   "source": [
    "plotter = pv.Plotter(lighting='three lights')\n",
    "plotter.background_color = 'w'\n",
    "plotter.enable_anti_aliasing()\n",
    "plotter.add_points(lv.get_virtual_node(\"MITRAL\"), color=\"green\", point_size=300)\n",
    "plotter.add_points(lv.get_virtual_node(\"AORTIC\"), color=\"red\", point_size=300)\n",
    "plotter.add_points(aortic_bc[LV_RIM.NODES.value], color=\"red\", point_size=300)\n",
    "plotter.add_points(aortic_bc[LV_RIM.CENTER.value], color=\"red\", point_size=300)\n",
    "\n",
    "plotter.add_points(mitral_bc[LV_RIM.NODES.value], color=\"green\", point_size=300)\n",
    "plotter.add_points(mitral_bc[LV_RIM.CENTER.value], color=\"green\", point_size=300)\n",
    "\n",
    "plotter.add_mesh(atr_rim_string_lines, color=\"red\", opacity=0.5, show_edges=False)\n",
    "plotter.add_mesh(mtr_rim_string_lines, color=\"green\", opacity=0.5, show_edges=False)\n",
    "\n",
    "plotter.add_points(aortic_epi_bc[LV_RIM.NODES.value], color=\"pink\", point_size=300)\n",
    "plotter.add_mesh(atr_epi_rim_string_lines, color=\"pink\", opacity=0.8, show_edges=False)\n",
    "\n",
    "\n",
    "plotter.add_mesh(lv.mesh, \n",
    "                  scalars=\"LV_SURFS\", \n",
    "                  cmap=\"Set2\", \n",
    "                  opacity=1.0, \n",
    "                  show_edges=False,\n",
    "                  ambient=0.2, \n",
    "                  diffuse=0.5, \n",
    "                  specular=0.5, \n",
    "                  specular_power=90,\n",
    "                  #  smooth_shading=True,\n",
    "                  )\n",
    "plotter.enable_shadows()\n",
    "plotter.show()"
   ]
  }
 ],
 "metadata": {
  "interpreter": {
   "hash": "364647f439eeb51cea9fa1ad47f7b03a5a9ed5157a0ffe2dd43bcec2d09df37e"
  },
  "kernelspec": {
   "display_name": "Python 3.9.7 (conda)",
   "language": "python",
   "name": "python3"
  },
  "language_info": {
   "codemirror_mode": {
    "name": "ipython",
    "version": 3
   },
   "file_extension": ".py",
   "mimetype": "text/x-python",
   "name": "python",
   "nbconvert_exporter": "python",
   "pygments_lexer": "ipython3",
   "version": "3.9.7"
  },
  "orig_nbformat": 4
 },
 "nbformat": 4,
 "nbformat_minor": 2
}
