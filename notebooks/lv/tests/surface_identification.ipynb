{
 "cells": [
  {
   "cell_type": "code",
   "execution_count": 1,
   "metadata": {},
   "outputs": [],
   "source": [
    "from project_heart.lv import LV\n",
    "import numpy as np\n",
    "import pyvista as pv\n",
    "# import project_heart as ph\n",
    "from project_heart.modules.geometry import Geometry\n",
    "pv.set_jupyter_backend(\"pythreejs\")\n",
    "\n",
    "import os\n",
    "from pathlib import Path"
   ]
  },
  {
   "cell_type": "code",
   "execution_count": 2,
   "metadata": {},
   "outputs": [],
   "source": [
    "from project_heart.enums import *"
   ]
  },
  {
   "cell_type": "code",
   "execution_count": 3,
   "metadata": {},
   "outputs": [
    {
     "name": "stdout",
     "output_type": "stream",
     "text": [
      "File: Full_Heart_Mesh_16.vtk\n"
     ]
    }
   ],
   "source": [
    "dir = Path(\"C:/Users/igorp/University of South Florida/Wenbin Mao - Igor/LV_Meshes/Heart_models\")\n",
    "# dir = Path(\"C:/Users/igornobrega/USF_Research/University of South Florida/Wenbin Mao - Igor/LV_Meshes/Heart_models\")\n",
    "files = os.listdir(dir)\n",
    "\n",
    "file_id = 7\n",
    "\n",
    "print(\"File:\", files[file_id])\n",
    "\n",
    "lv = LV.from_pyvista_read(dir/files[file_id], identifier=\"elemTag\", threshold=[0, 1])"
   ]
  },
  {
   "cell_type": "code",
   "execution_count": 4,
   "metadata": {},
   "outputs": [
    {
     "data": {
      "text/plain": [
       "<project_heart.lv.left_ventricle.LV at 0x1c2505de430>"
      ]
     },
     "execution_count": 4,
     "metadata": {},
     "output_type": "execute_result"
    }
   ],
   "source": [
    "import tetgen\n",
    "lv_surf = lv.get_surface_mesh().triangulate().smooth(350)\n",
    "tet = tetgen.TetGen(lv_surf)\n",
    "tet.make_manifold()\n",
    "tet.tetrahedralize(order=1, \n",
    "                   nobisect=True,\n",
    "                  #  quality=False,\n",
    "                   mindihedral=100, \n",
    "                   minratio=1.1,\n",
    "                  #  steinerleft=-1\n",
    "                   )\n",
    "lv_tet = LV().from_pyvista_dataset(tet.grid)\n",
    "lv_tet"
   ]
  },
  {
   "cell_type": "code",
   "execution_count": 5,
   "metadata": {},
   "outputs": [
    {
     "data": {
      "application/vnd.jupyter.widget-view+json": {
       "model_id": "80feed7e31ce469f824a3d04c677f7d1",
       "version_major": 2,
       "version_minor": 0
      },
      "text/plain": [
       "Renderer(camera=PerspectiveCamera(aspect=1.3333333333333333, children=(DirectionalLight(color='#fefefe', posit…"
      ]
     },
     "metadata": {},
     "output_type": "display_data"
    }
   ],
   "source": [
    "lv_tet.plot()"
   ]
  },
  {
   "cell_type": "code",
   "execution_count": 6,
   "metadata": {},
   "outputs": [
    {
     "data": {
      "application/vnd.jupyter.widget-view+json": {
       "model_id": "6a7ed69db0ca4203befbe9994845923e",
       "version_major": 2,
       "version_minor": 0
      },
      "text/plain": [
       "Renderer(camera=PerspectiveCamera(aspect=1.3333333333333333, children=(DirectionalLight(color='#fefefe', posit…"
      ]
     },
     "metadata": {},
     "output_type": "display_data"
    }
   ],
   "source": [
    "lv_tet.guess_epi_endo_based_on_surf_normals(90.0)\n",
    "lv_tet.plot(\"surface\", scalars=LV_MESH_DATA.EPI_ENDO_GUESS.value)"
   ]
  },
  {
   "cell_type": "code",
   "execution_count": 7,
   "metadata": {},
   "outputs": [
    {
     "data": {
      "text/plain": [
       "(array([6., 6., 6., ..., 0., 6., 0.]), array([6., 6., 6., ..., 0., 0., 0.]))"
      ]
     },
     "execution_count": 7,
     "metadata": {},
     "output_type": "execute_result"
    }
   ],
   "source": [
    "lv_tet.identify_base_and_apex_regions()"
   ]
  },
  {
   "cell_type": "code",
   "execution_count": 8,
   "metadata": {},
   "outputs": [
    {
     "data": {
      "application/vnd.jupyter.widget-view+json": {
       "model_id": "2fa454c9ea6c4ff594ce5e10269609b2",
       "version_major": 2,
       "version_minor": 0
      },
      "text/plain": [
       "Renderer(camera=PerspectiveCamera(aspect=1.3333333333333333, children=(DirectionalLight(color='#fefefe', posit…"
      ]
     },
     "metadata": {},
     "output_type": "display_data"
    }
   ],
   "source": [
    "lv_tet.identify_mitral_and_aortic_regions(\n",
    "                                      a1=0.4,  # coeff for radial distance computation\n",
    "                                      a2 = 0.5,\n",
    "                                      a3=0.4,\n",
    "                                      a4=80,\n",
    "                                      a5=120,\n",
    "                                      \n",
    "                                      m1=0.18,\n",
    "                                      m2=0.005,\n",
    "                                      m3=0.05,\n",
    "                                      )\n",
    "lv_tet.plot(\"mesh\", scalars=LV_MESH_DATA.AM_CLUSTERS.value, cmap=\"tab20\")"
   ]
  },
  {
   "cell_type": "code",
   "execution_count": 12,
   "metadata": {},
   "outputs": [
    {
     "data": {
      "application/vnd.jupyter.widget-view+json": {
       "model_id": "9ca8bcd1b0e749c4a6f676325ecce2de",
       "version_major": 2,
       "version_minor": 0
      },
      "text/plain": [
       "Renderer(camera=PerspectiveCamera(aspect=1.3333333333333333, children=(DirectionalLight(color='#fefefe', posit…"
      ]
     },
     "metadata": {},
     "output_type": "display_data"
    }
   ],
   "source": [
    "lv_tet.identify_surfaces(\n",
    "  endo_epi_args=dict(threshold=90.0),\n",
    "  apex_base_args=dict(ab_ql=0.05, ab_qh=0.70),\n",
    "  aortic_mitral_args=dict(a1=0.4,\n",
    "                          a2 = 0.5,\n",
    "                          a3=0.4,\n",
    "                          a4=80,\n",
    "                          a5=120,\n",
    "                          m1=0.18,\n",
    "                          m2=0.005,\n",
    "                          m3=0.05)\n",
    ")\n",
    "lv_tet.plot(\"surface\", scalars=\"TESTE\", cmap=\"tab20\", show_edges=True)"
   ]
  }
 ],
 "metadata": {
  "interpreter": {
   "hash": "364647f439eeb51cea9fa1ad47f7b03a5a9ed5157a0ffe2dd43bcec2d09df37e"
  },
  "kernelspec": {
   "display_name": "Python 3.9.7 (conda)",
   "language": "python",
   "name": "python3"
  },
  "language_info": {
   "codemirror_mode": {
    "name": "ipython",
    "version": 3
   },
   "file_extension": ".py",
   "mimetype": "text/x-python",
   "name": "python",
   "nbconvert_exporter": "python",
   "pygments_lexer": "ipython3",
   "version": "3.9.7"
  },
  "orig_nbformat": 4
 },
 "nbformat": 4,
 "nbformat_minor": 2
}
