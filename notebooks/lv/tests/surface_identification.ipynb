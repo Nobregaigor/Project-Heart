{
 "cells": [
  {
   "cell_type": "code",
   "execution_count": 1,
   "metadata": {},
   "outputs": [],
   "source": [
    "from project_heart.lv import LV\n",
    "import numpy as np\n",
    "import pyvista as pv\n",
    "# import project_heart as ph\n",
    "from project_heart.modules.geometry import Geometry\n",
    "pv.set_jupyter_backend(\"pythreejs\")\n",
    "\n",
    "import os\n",
    "from pathlib import Path"
   ]
  },
  {
   "cell_type": "code",
   "execution_count": 2,
   "metadata": {},
   "outputs": [],
   "source": [
    "from project_heart.enums import *"
   ]
  },
  {
   "cell_type": "code",
   "execution_count": 3,
   "metadata": {},
   "outputs": [
    {
     "data": {
      "application/vnd.jupyter.widget-view+json": {
       "model_id": "9753512d6b284d00b4505cb522dfc44b",
       "version_major": 2,
       "version_minor": 0
      },
      "text/plain": [
       "Renderer(camera=PerspectiveCamera(aspect=1.3333333333333333, children=(DirectionalLight(color='#fefefe', posit…"
      ]
     },
     "metadata": {},
     "output_type": "display_data"
    }
   ],
   "source": [
    "filepath = Path(\"../sample_files/lvhexmesh.vtk\")\n",
    "lv = LV.from_pyvista_read(filepath)\n",
    "lv.plot(show_edges=True)"
   ]
  },
  {
   "cell_type": "code",
   "execution_count": 4,
   "metadata": {},
   "outputs": [],
   "source": [
    "lv.identify_surfaces(\n",
    "  endo_epi_args=dict(threshold=90.0),\n",
    "  apex_base_args=dict(ab_ql=0.04, ab_qh=0.69),\n",
    "  aortic_mitral_args=dict(a1=0.4,\n",
    "                          a2=0.5,\n",
    "                          a3=0.3,\n",
    "                          a4=75,\n",
    "                          a5=130,\n",
    "                          \n",
    "                          m1=0.17,\n",
    "                          m2=0.02,\n",
    "                          m3=0.07,\n",
    "                          m4=0.333\n",
    "                          )\n",
    ")"
   ]
  },
  {
   "cell_type": "code",
   "execution_count": 5,
   "metadata": {},
   "outputs": [
    {
     "data": {
      "application/vnd.jupyter.widget-view+json": {
       "model_id": "9c62b691423546c8b3ccb8cb193960b9",
       "version_major": 2,
       "version_minor": 0
      },
      "text/plain": [
       "Renderer(camera=PerspectiveCamera(aspect=1.3333333333333333, children=(DirectionalLight(color='#fefefe', posit…"
      ]
     },
     "metadata": {},
     "output_type": "display_data"
    }
   ],
   "source": [
    "lv.plot(\"surface\", scalars=LV_MESH_DATA.SURFS.value, \n",
    "        vnodes=[\n",
    "          (LV_VIRTUAL_NODES.MITRAL, \"green\"),\n",
    "          (LV_VIRTUAL_NODES.AORTIC, \"red\"),\n",
    "          (LV_VIRTUAL_NODES.AORTIC_BORDER, \"purple\"),\n",
    "          ],\n",
    "        cmap=\"tab20_r\")"
   ]
  },
  {
   "cell_type": "code",
   "execution_count": 6,
   "metadata": {},
   "outputs": [
    {
     "data": {
      "application/vnd.jupyter.widget-view+json": {
       "model_id": "b3e5414b6ecc4784acac8c9ad2dc29a0",
       "version_major": 2,
       "version_minor": 0
      },
      "text/plain": [
       "Renderer(camera=PerspectiveCamera(aspect=1.3333333333333333, children=(DirectionalLight(color='#fefefe', posit…"
      ]
     },
     "metadata": {},
     "output_type": "display_data"
    }
   ],
   "source": [
    "lv.plot(\"surface\", scalars=LV_MESH_DATA.SURFS_DETAILED.value, \n",
    "        vnodes=[\n",
    "          (LV_VIRTUAL_NODES.MITRAL, \"green\"),\n",
    "          (LV_VIRTUAL_NODES.AORTIC, \"red\"),\n",
    "          (LV_VIRTUAL_NODES.AORTIC_BORDER, \"purple\"),\n",
    "          ],\n",
    "        cmap=\"tab20_r\")"
   ]
  },
  {
   "cell_type": "code",
   "execution_count": 7,
   "metadata": {},
   "outputs": [
    {
     "data": {
      "application/vnd.jupyter.widget-view+json": {
       "model_id": "13ed380f3db34a51a30373611ff18e06",
       "version_major": 2,
       "version_minor": 0
      },
      "text/plain": [
       "Renderer(camera=PerspectiveCamera(aspect=1.3333333333333333, children=(DirectionalLight(color='#fefefe', posit…"
      ]
     },
     "metadata": {},
     "output_type": "display_data"
    }
   ],
   "source": [
    "lv.plot(\"mesh\", scalars=LV_MESH_DATA.AB_ENDO_EPI.value, \n",
    "        cat_exclude_zero=True,\n",
    "        cmap=\"Set2_r\")"
   ]
  },
  {
   "cell_type": "code",
   "execution_count": 8,
   "metadata": {},
   "outputs": [
    {
     "data": {
      "application/vnd.jupyter.widget-view+json": {
       "model_id": "1eb91dfa292e416a988a2942af2ca756",
       "version_major": 2,
       "version_minor": 0
      },
      "text/plain": [
       "Renderer(camera=PerspectiveCamera(aspect=1.3333333333333333, children=(DirectionalLight(color='#fefefe', posit…"
      ]
     },
     "metadata": {},
     "output_type": "display_data"
    }
   ],
   "source": [
    "lv.plot(\"mesh\", scalars=LV_MESH_DATA.EPI_ENDO.value, \n",
    "        cmap=\"Set2_r\")"
   ]
  },
  {
   "cell_type": "code",
   "execution_count": 9,
   "metadata": {},
   "outputs": [
    {
     "data": {
      "application/vnd.jupyter.widget-view+json": {
       "model_id": "38a52505f4d04089a42bcc49636ecd6f",
       "version_major": 2,
       "version_minor": 0
      },
      "text/plain": [
       "Renderer(camera=PerspectiveCamera(aspect=1.3333333333333333, children=(DirectionalLight(color='#fefefe', posit…"
      ]
     },
     "metadata": {},
     "output_type": "display_data"
    }
   ],
   "source": [
    "lv.plot(\"mesh\", scalars=LV_MESH_DATA.AM_EPI_ENDO.value, \n",
    "        cat_exclude_zero=True,\n",
    "        cmap=\"Set2\")"
   ]
  },
  {
   "cell_type": "markdown",
   "metadata": {},
   "source": [
    "Testing point data to cell data transformation:"
   ]
  },
  {
   "cell_type": "code",
   "execution_count": 22,
   "metadata": {},
   "outputs": [],
   "source": [
    "cellCat = lv.transform_point_data_to_cell_data(LV_MESH_DATA.AM_EPI_ENDO.value)"
   ]
  },
  {
   "cell_type": "code",
   "execution_count": 23,
   "metadata": {},
   "outputs": [],
   "source": [
    "lv.mesh.cell_data[\"TESTCAT\"] = cellCat"
   ]
  },
  {
   "cell_type": "code",
   "execution_count": 27,
   "metadata": {},
   "outputs": [
    {
     "data": {
      "application/vnd.jupyter.widget-view+json": {
       "model_id": "b89a9f632e5e4aeb9f7e23e0506e8390",
       "version_major": 2,
       "version_minor": 0
      },
      "text/plain": [
       "Renderer(camera=PerspectiveCamera(aspect=1.3333333333333333, children=(DirectionalLight(color='#fefefe', posit…"
      ]
     },
     "metadata": {},
     "output_type": "display_data"
    }
   ],
   "source": [
    "lv.plot(\"mesh\", scalars=\"TESTCAT\", \n",
    "        cat_exclude_zero=True,\n",
    "        cmap=\"Set2\")"
   ]
  }
 ],
 "metadata": {
  "interpreter": {
   "hash": "364647f439eeb51cea9fa1ad47f7b03a5a9ed5157a0ffe2dd43bcec2d09df37e"
  },
  "kernelspec": {
   "display_name": "Python 3.9.7 (conda)",
   "language": "python",
   "name": "python3"
  },
  "language_info": {
   "codemirror_mode": {
    "name": "ipython",
    "version": 3
   },
   "file_extension": ".py",
   "mimetype": "text/x-python",
   "name": "python",
   "nbconvert_exporter": "python",
   "pygments_lexer": "ipython3",
   "version": "3.9.7"
  },
  "orig_nbformat": 4
 },
 "nbformat": 4,
 "nbformat_minor": 2
}
