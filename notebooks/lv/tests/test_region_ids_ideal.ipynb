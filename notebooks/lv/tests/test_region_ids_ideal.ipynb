{
 "cells": [
  {
   "cell_type": "code",
   "execution_count": null,
   "metadata": {},
   "outputs": [],
   "source": [
    "from project_heart.lv import LV\n",
    "import numpy as np\n",
    "import pyvista as pv\n",
    "pv.set_jupyter_backend(\"pythreejs\")\n",
    "\n",
    "import os\n",
    "from pathlib import Path\n",
    "\n",
    "from project_heart.enums import *\n",
    "import logging\n",
    "\n",
    "float_formatter = \"{:.5f}\".format\n",
    "np.set_printoptions(formatter={'float_kind':float_formatter})"
   ]
  },
  {
   "cell_type": "code",
   "execution_count": null,
   "metadata": {},
   "outputs": [],
   "source": [
    "filepath = Path(\"../sample_files/ellipsoid_2.stl\")\n",
    "lv = LV.from_file(filepath)\n",
    "lv.set_geo_type(geo_type=LV_GEO_TYPES.IDEAL)"
   ]
  },
  {
   "cell_type": "code",
   "execution_count": null,
   "metadata": {},
   "outputs": [],
   "source": [
    "lv.identify_est_base_and_apex_regions(log_level=logging.DEBUG)"
   ]
  },
  {
   "cell_type": "code",
   "execution_count": null,
   "metadata": {},
   "outputs": [],
   "source": [
    "lv.plot(\"surface\", \n",
    "        scalars=LV_MESH_DATA.APEX_BASE_EST,\n",
    "        # container=\"points\",\n",
    "        show_edges=True,\n",
    "        categorical=True,\n",
    "        split_sharp_edges=True,\n",
    "        smooth_shading=False,\n",
    "        pretty=False,\n",
    "        )"
   ]
  },
  {
   "cell_type": "code",
   "execution_count": null,
   "metadata": {},
   "outputs": [],
   "source": [
    "lv.identify_epi_endo_regions(log_level=logging.DEBUG)"
   ]
  },
  {
   "cell_type": "code",
   "execution_count": null,
   "metadata": {},
   "outputs": [],
   "source": [
    "lv.plot(\"surface\", \n",
    "        scalars=LV_MESH_DATA.EPI_ENDO,\n",
    "        # container=\"points\",\n",
    "        show_edges=True,\n",
    "        categorical=True,\n",
    "        split_sharp_edges=True,\n",
    "        smooth_shading=False,\n",
    "        pretty=False,\n",
    "        )"
   ]
  },
  {
   "cell_type": "code",
   "execution_count": null,
   "metadata": {},
   "outputs": [],
   "source": [
    "lv.identify_base_region_ideal(log_level=logging.DEBUG)"
   ]
  },
  {
   "cell_type": "code",
   "execution_count": null,
   "metadata": {},
   "outputs": [],
   "source": [
    "lv.plot(\"surface\", \n",
    "        scalars=LV_MESH_DATA.SURFS,\n",
    "        # container=\"points\",\n",
    "        show_edges=True,\n",
    "        categorical=True,\n",
    "        split_sharp_edges=True,\n",
    "        smooth_shading=False,\n",
    "        pretty=False,\n",
    "        )"
   ]
  },
  {
   "cell_type": "code",
   "execution_count": null,
   "metadata": {},
   "outputs": [],
   "source": [
    "lv.identify_regions_ideal(log_level=logging.DEBUG)"
   ]
  },
  {
   "cell_type": "code",
   "execution_count": null,
   "metadata": {},
   "outputs": [],
   "source": [
    "lv.plot(\"surface\", \n",
    "        scalars=LV_MESH_DATA.SURFS_DETAILED,\n",
    "        # container=\"points\",\n",
    "        show_edges=True,\n",
    "        categorical=True,\n",
    "        split_sharp_edges=True,\n",
    "        smooth_shading=False,\n",
    "        pretty=False,\n",
    "        cmap=\"jet\",\n",
    "        vnodes=[[lv.VIRTUAL_NODES.BASE, {\"color\":\"red\"}], [lv.VIRTUAL_NODES.APEX, {\"color\":\"green\"}] ]\n",
    "        )"
   ]
  },
  {
   "cell_type": "code",
   "execution_count": null,
   "metadata": {},
   "outputs": [],
   "source": [
    "import logging\n",
    "spk = lv.create_speckles(\n",
    "        collection=\"test-base\",\n",
    "        group=\"base\",\n",
    "        name=\"test\",\n",
    "        from_nodeset=LV_SURFS.BASE,\n",
    "        use_all_nodes=True,\n",
    "        n_subsets=0,\n",
    "        n_clusters=10,\n",
    "        subsets_criteria=\"angles3\",\n",
    "        cluster_criteria=\"angles3\",\n",
    "        t=0.0,\n",
    "        log_level=logging.DEBUG,\n",
    "    )\n",
    "lv.plot_speckles(spk, add_k_centers=True, k_bins=True, cmap=\"hot\")"
   ]
  },
  {
   "cell_type": "code",
   "execution_count": null,
   "metadata": {},
   "outputs": [],
   "source": [
    "import logging\n",
    "spk = lv.create_speckles(\n",
    "        collection=\"test-base\",\n",
    "        group=\"base\",\n",
    "        name=\"test-endo\",\n",
    "        from_nodeset=LV_SURFS.BASE_BORDER_ENDO,\n",
    "        use_all_nodes=True,\n",
    "        n_subsets=0,\n",
    "        n_clusters=10,\n",
    "        subsets_criteria=\"angles3\",\n",
    "        cluster_criteria=\"angles3\",\n",
    "        t=0.0,\n",
    "        log_level=logging.DEBUG,\n",
    "    )\n",
    "lv.plot_speckles(spk, add_k_centers=True, k_bins=True, cmap=\"hot\")"
   ]
  }
 ],
 "metadata": {
  "interpreter": {
   "hash": "7560a9cd216f842edfabfecb1a26d850ed8addbd21cd19495bdf94e4a856eb4d"
  },
  "kernelspec": {
   "display_name": "Python 3.9.12 ('base')",
   "language": "python",
   "name": "python3"
  },
  "language_info": {
   "codemirror_mode": {
    "name": "ipython",
    "version": 3
   },
   "file_extension": ".py",
   "mimetype": "text/x-python",
   "name": "python",
   "nbconvert_exporter": "python",
   "pygments_lexer": "ipython3",
   "version": "3.9.12"
  },
  "orig_nbformat": 4
 },
 "nbformat": 4,
 "nbformat_minor": 2
}
