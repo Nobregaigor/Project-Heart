{
 "cells": [
  {
   "cell_type": "code",
   "execution_count": 1,
   "metadata": {},
   "outputs": [],
   "source": [
    "from project_heart.lv import LV\n",
    "import numpy as np\n",
    "import pyvista as pv\n",
    "pv.set_jupyter_backend(\"pythreejs\")\n",
    "\n",
    "import os\n",
    "from pathlib import Path\n",
    "\n",
    "from project_heart.enums import *\n",
    "import logging\n",
    "\n",
    "float_formatter = \"{:.5f}\".format\n",
    "np.set_printoptions(formatter={'float_kind':float_formatter})"
   ]
  },
  {
   "cell_type": "code",
   "execution_count": 2,
   "metadata": {},
   "outputs": [],
   "source": [
    "filepath = Path(\"../sample_files/ellipsoid_2.stl\")\n",
    "lv = LV.from_file(filepath)\n",
    "lv.set_geo_type(geo_type=LV_GEO_TYPES.IDEAL)"
   ]
  },
  {
   "cell_type": "code",
   "execution_count": 3,
   "metadata": {},
   "outputs": [
    {
     "name": "stderr",
     "output_type": "stream",
     "text": [
      "DEBUG:LV_RegionIdentifier.identify_base_and_apex_regions:Starting identification of base and apex regions.\n",
      "DEBUG:LV_RegionIdentifier.identify_base_and_apex_regions:Perfoming kmeans to find LV halves\n",
      "DEBUG:LV_RegionIdentifier.identify_base_and_apex_regions:kcenters: [[0.00002 0.00000 -48.78886]\n",
      " [-0.00000 -0.00000 0.32646]]\n",
      "DEBUG:LV_RegionIdentifier.identify_base_and_apex_regions:Estimating apex and base iteractively.\n",
      "DEBUG:LV_RegionIdentifier.identify_base_and_apex_regions:apex: [0.00000 0.00000 -72.69446]\n",
      "DEBUG:LV_RegionIdentifier.identify_base_and_apex_regions:base: [0.00000 0.00000 17.77086]\n",
      "DEBUG:LV_RegionIdentifier.identify_base_and_apex_regions:len(est_apex_region): 649\n",
      "DEBUG:LV_RegionIdentifier.identify_base_and_apex_regions:len(est_base_region): 1632\n"
     ]
    },
    {
     "data": {
      "text/plain": [
       "(pyvista_ndarray([19.00000, 19.00000, 19.00000, ..., 19.00000, 19.00000,\n",
       "                  19.00000]),\n",
       " pyvista_ndarray([19.00000, 19.00000, 19.00000, ..., 19.00000, 19.00000,\n",
       "                  19.00000]))"
      ]
     },
     "execution_count": 3,
     "metadata": {},
     "output_type": "execute_result"
    }
   ],
   "source": [
    "lv.identify_est_base_and_apex_regions(log_level=logging.DEBUG)"
   ]
  },
  {
   "cell_type": "code",
   "execution_count": 4,
   "metadata": {},
   "outputs": [
    {
     "data": {
      "application/vnd.jupyter.widget-view+json": {
       "model_id": "d18b38c8921c4f2e914f20b4ce75840e",
       "version_major": 2,
       "version_minor": 0
      },
      "text/plain": [
       "Renderer(camera=PerspectiveCamera(aspect=1.5, children=(DirectionalLight(color='#fefefe', position=(49999.9999…"
      ]
     },
     "metadata": {},
     "output_type": "display_data"
    }
   ],
   "source": [
    "lv.plot(\"surface\", \n",
    "        scalars=LV_MESH_DATA.APEX_BASE_EST,\n",
    "        # container=\"points\",\n",
    "        show_edges=True,\n",
    "        categorical=True,\n",
    "        split_sharp_edges=True,\n",
    "        smooth_shading=False,\n",
    "        pretty=False,\n",
    "        )"
   ]
  },
  {
   "cell_type": "code",
   "execution_count": 5,
   "metadata": {},
   "outputs": [
    {
     "name": "stderr",
     "output_type": "stream",
     "text": [
      "DEBUG:LV_RegionIdentifier.identify_epi_endo_regions:Starting identification of endo and epi regions for ideal geometry.\n",
      "DEBUG:LV_RegionIdentifier.identify_epi_endo_regions:Using reference point: [0.00000 0.00000 -26.72786]\n",
      "DEBUG:LV_RegionIdentifier.identify_epi_endo_regions:Number of endo ids found: 8449 (47.31%)\n",
      "DEBUG:LV_RegionIdentifier.identify_epi_endo_regions:Number of epi ids found: 9409 (52.69%)\n"
     ]
    },
    {
     "data": {
      "text/plain": [
       "(pyvista_ndarray([2.00000, 2.00000, 2.00000, ..., 2.00000, 2.00000,\n",
       "                  2.00000]),\n",
       " pyvista_ndarray([2.00000, 2.00000, 2.00000, ..., 2.00000, 2.00000,\n",
       "                  2.00000]))"
      ]
     },
     "execution_count": 5,
     "metadata": {},
     "output_type": "execute_result"
    }
   ],
   "source": [
    "lv.identify_epi_endo_regions(log_level=logging.DEBUG)"
   ]
  },
  {
   "cell_type": "code",
   "execution_count": 6,
   "metadata": {},
   "outputs": [
    {
     "data": {
      "application/vnd.jupyter.widget-view+json": {
       "model_id": "e88a2c4a68c94e94880e2a841382859f",
       "version_major": 2,
       "version_minor": 0
      },
      "text/plain": [
       "Renderer(camera=PerspectiveCamera(aspect=1.5, children=(DirectionalLight(color='#fefefe', position=(49999.9999…"
      ]
     },
     "metadata": {},
     "output_type": "display_data"
    }
   ],
   "source": [
    "lv.plot(\"surface\", \n",
    "        scalars=LV_MESH_DATA.EPI_ENDO,\n",
    "        # container=\"points\",\n",
    "        show_edges=True,\n",
    "        categorical=True,\n",
    "        split_sharp_edges=True,\n",
    "        smooth_shading=False,\n",
    "        pretty=False,\n",
    "        )"
   ]
  },
  {
   "cell_type": "code",
   "execution_count": 7,
   "metadata": {},
   "outputs": [
    {
     "name": "stderr",
     "output_type": "stream",
     "text": [
      "DEBUG:LV_RegionIdentifier.identify_base_region_ideal:Starting identification of base region for ideal geometry.\n",
      "DEBUG:LV_RegionIdentifier.identify_base_region_ideal:Number of edge points found: 192\n",
      "DEBUG:LV_RegionIdentifier.identify_base_region_ideal:est_base: [0.00000 0.00000 20.00000]\n",
      "DEBUG:LV_RegionIdentifier.identify_base_region_ideal:est_radius: 28.729089736833732\n",
      "DEBUG:LV_RegionIdentifier.identify_base_region_ideal:Selecting points close to est_base based on 'd'.\n",
      "DEBUG:LV_RegionIdentifier.identify_base_region_ideal:axis orientation: [2]\n",
      "DEBUG:LV_RegionIdentifier.identify_base_region_ideal:number of indexed found at 'db=0.1' from 'est_base=[0.00000 0.00000 20.00000]'along 'axis=[2]'\n",
      "DEBUG:LV_RegionIdentifier.identify_base_region_ideal:Filtering selection based on surface normals.\n",
      "DEBUG:LV_RegionIdentifier.identify_base_region_ideal:Number of ioi found: 960\n",
      "DEBUG:LV_RegionIdentifier.identify_base_region_ideal:Filtering selection based on surface endo region (no overlap).\n",
      "DEBUG:LV_RegionIdentifier.identify_base_region_ideal:Number of ioi found: 960\n"
     ]
    },
    {
     "data": {
      "text/plain": [
       "(pyvista_ndarray([2.00000, 2.00000, 2.00000, ..., 2.00000, 2.00000,\n",
       "                  2.00000]),\n",
       " pyvista_ndarray([2.00000, 2.00000, 2.00000, ..., 2.00000, 2.00000,\n",
       "                  2.00000]))"
      ]
     },
     "execution_count": 7,
     "metadata": {},
     "output_type": "execute_result"
    }
   ],
   "source": [
    "lv.identify_base_region_ideal(log_level=logging.DEBUG)"
   ]
  },
  {
   "cell_type": "code",
   "execution_count": 8,
   "metadata": {},
   "outputs": [
    {
     "data": {
      "application/vnd.jupyter.widget-view+json": {
       "model_id": "d876c773ecdf470c843f75f729850963",
       "version_major": 2,
       "version_minor": 0
      },
      "text/plain": [
       "Renderer(camera=PerspectiveCamera(aspect=1.5, children=(DirectionalLight(color='#fefefe', position=(49999.9999…"
      ]
     },
     "metadata": {},
     "output_type": "display_data"
    }
   ],
   "source": [
    "lv.plot(\"surface\", \n",
    "        scalars=LV_MESH_DATA.SURFS,\n",
    "        # container=\"points\",\n",
    "        show_edges=True,\n",
    "        categorical=True,\n",
    "        split_sharp_edges=True,\n",
    "        smooth_shading=False,\n",
    "        pretty=False,\n",
    "        )"
   ]
  },
  {
   "cell_type": "code",
   "execution_count": 9,
   "metadata": {},
   "outputs": [
    {
     "name": "stderr",
     "output_type": "stream",
     "text": [
      "INFO:LV_RegionIdentifier.identify_regions_ideal:Identifying regions from ideal geometry.\n",
      "DEBUG:LV_RegionIdentifier.identify_base_and_apex_regions:Starting identification of base and apex regions.\n",
      "DEBUG:LV_RegionIdentifier.identify_base_and_apex_regions:Perfoming kmeans to find LV halves\n",
      "DEBUG:LV_RegionIdentifier.identify_base_and_apex_regions:kcenters: [[0.00002 0.00000 -48.78886]\n",
      " [-0.00000 -0.00000 0.32646]]\n",
      "DEBUG:LV_RegionIdentifier.identify_base_and_apex_regions:Estimating apex and base iteractively.\n",
      "DEBUG:LV_RegionIdentifier.identify_base_and_apex_regions:apex: [0.00000 0.00000 -72.69446]\n",
      "DEBUG:LV_RegionIdentifier.identify_base_and_apex_regions:base: [0.00000 0.00000 17.77086]\n",
      "DEBUG:LV_RegionIdentifier.identify_base_and_apex_regions:len(est_apex_region): 649\n",
      "DEBUG:LV_RegionIdentifier.identify_base_and_apex_regions:len(est_base_region): 1632\n",
      "DEBUG:LV_RegionIdentifier.identify_epi_endo_regions:Starting identification of endo and epi regions for ideal geometry.\n",
      "DEBUG:LV_RegionIdentifier.identify_epi_endo_regions:Using reference point: [0.00000 0.00000 -26.72786]\n",
      "DEBUG:LV_RegionIdentifier.identify_epi_endo_regions:Number of endo ids found: 8449 (47.31%)\n",
      "DEBUG:LV_RegionIdentifier.identify_epi_endo_regions:Number of epi ids found: 9409 (52.69%)\n",
      "DEBUG:LV_RegionIdentifier.identify_base_region_ideal:Starting identification of base region for ideal geometry.\n",
      "DEBUG:LV_RegionIdentifier.identify_base_region_ideal:Number of edge points found: 192\n",
      "DEBUG:LV_RegionIdentifier.identify_base_region_ideal:est_base: [0.00000 0.00000 20.00000]\n",
      "DEBUG:LV_RegionIdentifier.identify_base_region_ideal:est_radius: 28.729089736833732\n",
      "DEBUG:LV_RegionIdentifier.identify_base_region_ideal:Selecting points close to est_base based on 'd'.\n",
      "DEBUG:LV_RegionIdentifier.identify_base_region_ideal:axis orientation: [2]\n",
      "DEBUG:LV_RegionIdentifier.identify_base_region_ideal:number of indexed found at 'db=0.1' from 'est_base=[0.00000 0.00000 20.00000]'along 'axis=[2]'\n",
      "DEBUG:LV_RegionIdentifier.identify_base_region_ideal:Filtering selection based on surface normals.\n",
      "DEBUG:LV_RegionIdentifier.identify_base_region_ideal:Number of ioi found: 960\n",
      "DEBUG:LV_RegionIdentifier.identify_base_region_ideal:Filtering selection based on surface endo region (no overlap).\n",
      "DEBUG:LV_RegionIdentifier.identify_base_region_ideal:Number of ioi found: 960\n",
      "INFO:LV_RegionIdentifier.identify_endo_epi_base_borders_from_nodesets:len(endo_base): 96\n",
      "INFO:LV_RegionIdentifier.identify_endo_epi_base_borders_from_nodesets:len(epi_base): 96\n",
      "DEBUG:LV_RegionIdentifier.identify_regions_ideal:base_ref: [0.00000 0.00000 19.55463]\n",
      "DEBUG:LV.compute_apex_from_base_vn:using base_ref=[0.00000 0.00000 19.55463]\n",
      "DEBUG:LV.compute_apex_from_base_vn:Using nodes from nodeset: 1\n",
      "DEBUG:LV.compute_apex_from_base_vn:Apex id: 1 -> [-0.00000 0.00001 -65.32578]\n",
      "DEBUG:LV.compute_apex_from_base_vn:Number of nodes close to apex: 1\n",
      "DEBUG:LV.compute_apex_from_base_vn:Apex: [-0.00002 0.00001 -64.66667]\n"
     ]
    }
   ],
   "source": [
    "lv.identify_regions_ideal(log_level=logging.DEBUG)"
   ]
  },
  {
   "cell_type": "code",
   "execution_count": 10,
   "metadata": {},
   "outputs": [
    {
     "data": {
      "application/vnd.jupyter.widget-view+json": {
       "model_id": "5e21948e4fd04acdac0446dd15add371",
       "version_major": 2,
       "version_minor": 0
      },
      "text/plain": [
       "Renderer(camera=PerspectiveCamera(aspect=1.5, children=(DirectionalLight(color='#fefefe', position=(49999.9999…"
      ]
     },
     "metadata": {},
     "output_type": "display_data"
    }
   ],
   "source": [
    "lv.plot(\"surface\", \n",
    "        scalars=LV_MESH_DATA.SURFS_DETAILED,\n",
    "        # container=\"points\",\n",
    "        show_edges=True,\n",
    "        categorical=True,\n",
    "        split_sharp_edges=True,\n",
    "        smooth_shading=False,\n",
    "        pretty=False,\n",
    "        cmap=\"jet\",\n",
    "        vnodes=[[lv.VIRTUAL_NODES.BASE, {\"color\":\"red\"}], [lv.VIRTUAL_NODES.APEX, {\"color\":\"green\"}] ]\n",
    "        )"
   ]
  },
  {
   "cell_type": "code",
   "execution_count": 11,
   "metadata": {},
   "outputs": [
    {
     "name": "stderr",
     "output_type": "stream",
     "text": [
      "INFO:create_speckles:Speckle: name: test, group: base, collection: test-base\n",
      "DEBUG:create_speckles:Using nodes from nodeset LV_SURFS.BASE\n",
      "DEBUG:create_speckles:long_line: [[-0.00002 0.00001 -64.66667]\n",
      " [0.00000 0.00000 19.55463]]\n",
      "DEBUG:create_speckles:ref p (spk center): [0.00000 0.00000 19.55463]\n",
      "DEBUG:create_speckles:Using all nodes in mesh OR nodeset (not computing plane).\n",
      "DEBUG:create_speckles:Adding single subset.\n",
      "DEBUG:_subdivide_speckles:Subdividing Speckles into '10' buckets based on subsets_criteria: 'angles3'.\n",
      "DEBUG:_subdivide_speckles:Number of buckets: 10.\n",
      "DEBUG:_subdivide_speckles:pts.shape: (960, 3).\n",
      "DEBUG:_subdivide_speckles:pts[:5]: \n",
      "[[26.76188 -20.53511 20.00000]\n",
      " [26.10436 -20.03058 20.00000]\n",
      " [25.30722 -22.19383 20.00000]\n",
      " [25.44683 -19.52604 20.00000]\n",
      " [24.06365 -21.10326 20.00000]].\n",
      "DEBUG:_subdivide_speckles:plane_d: -19.554630279541016.\n",
      "DEBUG:_subdivide_speckles:p_center: [0.00000 0.00000 19.55463].\n",
      "DEBUG:_subdivide_speckles:ref_max_pt: 653.\n",
      "DEBUG:_subdivide_speckles:ref_max_pt: 664.\n",
      "DEBUG:_subdivide_speckles:ref_max_vec: [-12.90891 -31.16487 0.00000].\n",
      "DEBUG:_subdivide_speckles:ref_min_vec: [-13.18714 19.73594 0.00000].\n",
      "DEBUG:_subdivide_speckles:Using a none or single subset, meaning large speckle. \n",
      "-> 'check_orientation' is set to True.-> Will try to eliminate possible discontinuities.\n",
      "DEBUG:_subdivide_speckles:Searching for discontinuity... 1\n",
      "DEBUG:_subdivide_speckles:No discontinuity found: 0\n",
      "DEBUG:_subdivide_speckles:min_a: 0.0001973030073050977.\n",
      "DEBUG:_subdivide_speckles:max_a: 359.99980145769666.\n",
      "DEBUG:_subdivide_speckles:Updating reference vectors.\n",
      "DEBUG:_subdivide_speckles:ref_max_vec: [-12.59175 -30.39917 0.00000].\n",
      "DEBUG:_subdivide_speckles:ref_min_vec: [-12.90891 -31.16487 0.00000].\n",
      "DEBUG:_subdivide_speckles:Number of bins found: 10.\n",
      "DEBUG:_subdivide_speckles:Min, Max bin Ids: [1, 10].\n",
      "DEBUG:_subdivide_speckles:ref_last_bin_idx: 652.\n",
      "DEBUG:_subdivide_speckles:ref_first_bin_idx: 653.\n",
      "DEBUG:_subdivide_speckles:ref_last_vec: [-12.59175 -30.39917 0.00000].\n",
      "DEBUG:_subdivide_speckles:ref_first_vec: [-12.90891 -31.16487 0.00000].\n",
      "DEBUG:_subdivide_speckles:normal: [0.00000 0.00000 1.00000].\n",
      "DEBUG:_subdivide_speckles:first_cross_last: [0.00000 0.00000 0.00000].\n",
      "DEBUG:_subdivide_speckles:cross_normal: 7.767334086037365.\n",
      "DEBUG:_subdivide_speckles:first_last_angle: 0.0001985423033111738.\n",
      "DEBUG:_subdivide_speckles:Number of buckets found (non_empty_buckets): 10.\n"
     ]
    },
    {
     "data": {
      "application/vnd.jupyter.widget-view+json": {
       "model_id": "ce3244b892e64e80a0d519217a895937",
       "version_major": 2,
       "version_minor": 0
      },
      "text/plain": [
       "Renderer(camera=PerspectiveCamera(aspect=1.5, children=(DirectionalLight(color='#fefefe', position=(49999.9999…"
      ]
     },
     "metadata": {},
     "output_type": "display_data"
    }
   ],
   "source": [
    "import logging\n",
    "spk = lv.create_speckles(\n",
    "        collection=\"test-base\",\n",
    "        group=\"base\",\n",
    "        name=\"test\",\n",
    "        from_nodeset=LV_SURFS.BASE,\n",
    "        use_all_nodes=True,\n",
    "        n_subsets=0,\n",
    "        n_clusters=10,\n",
    "        subsets_criteria=\"angles3\",\n",
    "        cluster_criteria=\"angles3\",\n",
    "        t=0.0,\n",
    "        log_level=logging.DEBUG,\n",
    "    )\n",
    "lv.plot_speckles(spk, add_k_centers=True, k_bins=True, cmap=\"hot\")"
   ]
  },
  {
   "cell_type": "code",
   "execution_count": 13,
   "metadata": {},
   "outputs": [
    {
     "name": "stderr",
     "output_type": "stream",
     "text": [
      "INFO:create_speckles:Speckle: name: test-endo, group: base, collection: test-base\n",
      "DEBUG:create_speckles:Using nodes from nodeset LV_SURFS.BASE_BORDER_ENDO\n",
      "DEBUG:create_speckles:long_line: [[-0.00002 0.00001 -64.66667]\n",
      " [0.00000 0.00000 19.55463]]\n",
      "DEBUG:create_speckles:ref p (spk center): [0.00000 0.00000 19.55463]\n",
      "DEBUG:create_speckles:Using all nodes in mesh OR nodeset (not computing plane).\n",
      "DEBUG:create_speckles:Adding single subset.\n",
      "DEBUG:_subdivide_speckles:Subdividing Speckles into '10' buckets based on subsets_criteria: 'angles3'.\n",
      "DEBUG:_subdivide_speckles:Number of buckets: 10.\n",
      "DEBUG:_subdivide_speckles:pts.shape: (96, 3).\n",
      "DEBUG:_subdivide_speckles:pts[:5]: \n",
      "[[18.87161 -14.48070 20.00000]\n",
      " [16.82005 -16.82005 20.00000]\n",
      " [18.95522 -14.54485 19.10926]\n",
      " [16.89457 -16.89457 19.10926]\n",
      " [14.48070 -18.87161 20.00000]].\n",
      "DEBUG:_subdivide_speckles:plane_d: -19.554630279541016.\n",
      "DEBUG:_subdivide_speckles:p_center: [0.00000 0.00000 19.55463].\n",
      "DEBUG:_subdivide_speckles:ref_max_pt: 87.\n",
      "DEBUG:_subdivide_speckles:ref_max_pt: 88.\n",
      "DEBUG:_subdivide_speckles:ref_max_vec: [-9.14328 -22.07383 0.00000].\n",
      "DEBUG:_subdivide_speckles:ref_min_vec: [-11.89357 -20.60027 0.00000].\n",
      "DEBUG:_subdivide_speckles:Using a none or single subset, meaning large speckle. \n",
      "-> 'check_orientation' is set to True.-> Will try to eliminate possible discontinuities.\n",
      "DEBUG:_subdivide_speckles:Searching for discontinuity... 1\n",
      "DEBUG:_subdivide_speckles:Discontinuity Found: 2\n",
      "DEBUG:_subdivide_speckles:dist_jump: [ 0 94] -> [-3.01478 3.01479].\n",
      "DEBUG:_subdivide_speckles:Searching for discontinuity... 2\n",
      "DEBUG:_subdivide_speckles:Discontinuity Found: 2\n",
      "DEBUG:_subdivide_speckles:dist_jump: [ 0 94] -> [-3.01478 3.01479].\n",
      "DEBUG:_subdivide_speckles:Searching for discontinuity... 3\n",
      "DEBUG:_subdivide_speckles:Discontinuity Found: 2\n",
      "DEBUG:_subdivide_speckles:dist_jump: [ 0 94] -> [-3.01479 3.01479].\n",
      "DEBUG:_subdivide_speckles:Searching for discontinuity... 4\n",
      "DEBUG:_subdivide_speckles:Discontinuity Found: 2\n",
      "DEBUG:_subdivide_speckles:dist_jump: [ 0 94] -> [-3.01479 3.01479].\n",
      "DEBUG:_subdivide_speckles:Searching for discontinuity... 5\n",
      "DEBUG:_subdivide_speckles:Discontinuity Found: 2\n",
      "DEBUG:_subdivide_speckles:dist_jump: [ 0 94] -> [-3.01479 3.01479].\n",
      "DEBUG:_subdivide_speckles:Searching for discontinuity... 6\n",
      "DEBUG:_subdivide_speckles:Discontinuity Found: 2\n",
      "DEBUG:_subdivide_speckles:dist_jump: [ 0 94] -> [-3.01479 3.01479].\n",
      "DEBUG:_subdivide_speckles:Searching for discontinuity... 7\n",
      "DEBUG:_subdivide_speckles:Discontinuity Found: 2\n",
      "DEBUG:_subdivide_speckles:dist_jump: [ 0 94] -> [-3.01479 3.00612].\n",
      "DEBUG:_subdivide_speckles:Searching for discontinuity... 8\n",
      "DEBUG:_subdivide_speckles:Discontinuity Found: 2\n",
      "DEBUG:_subdivide_speckles:dist_jump: [ 0 94] -> [-3.01479 3.00612].\n",
      "DEBUG:_subdivide_speckles:Searching for discontinuity... 9\n",
      "DEBUG:_subdivide_speckles:Discontinuity Found: 2\n",
      "DEBUG:_subdivide_speckles:dist_jump: [ 0 94] -> [-3.00612 3.01479].\n",
      "DEBUG:_subdivide_speckles:Searching for discontinuity... 10\n",
      "DEBUG:_subdivide_speckles:Discontinuity Found: 2\n",
      "DEBUG:_subdivide_speckles:dist_jump: [ 0 94] -> [-3.00612 3.01479].\n",
      "DEBUG:_subdivide_speckles:Searching for discontinuity... 11\n",
      "DEBUG:_subdivide_speckles:Discontinuity Found: 2\n",
      "DEBUG:_subdivide_speckles:dist_jump: [ 0 94] -> [-3.01479 3.01479].\n",
      "DEBUG:_subdivide_speckles:Searching for discontinuity... 12\n",
      "DEBUG:_subdivide_speckles:Discontinuity Found: 2\n",
      "DEBUG:_subdivide_speckles:dist_jump: [ 0 94] -> [-3.01479 3.01479].\n",
      "DEBUG:_subdivide_speckles:Searching for discontinuity... 13\n",
      "DEBUG:_subdivide_speckles:No discontinuity found: 0\n",
      "DEBUG:_subdivide_speckles:min_a: 0.00023495224056718772.\n",
      "DEBUG:_subdivide_speckles:max_a: 359.9997653069576.\n",
      "DEBUG:_subdivide_speckles:Updating reference vectors.\n",
      "DEBUG:_subdivide_speckles:ref_max_vec: [9.14328 -22.07382 0.00000].\n",
      "DEBUG:_subdivide_speckles:ref_min_vec: [9.10295 -21.97646 0.00000].\n",
      "DEBUG:_subdivide_speckles:Number of bins found: 10.\n",
      "DEBUG:_subdivide_speckles:Min, Max bin Ids: [1, 10].\n",
      "DEBUG:_subdivide_speckles:ref_last_bin_idx: 63.\n",
      "DEBUG:_subdivide_speckles:ref_first_bin_idx: 62.\n",
      "DEBUG:_subdivide_speckles:ref_last_vec: [9.14328 -22.07382 0.00000].\n",
      "DEBUG:_subdivide_speckles:ref_first_vec: [9.10295 -21.97646 0.00000].\n",
      "DEBUG:_subdivide_speckles:normal: [-0.00000 0.00000 1.00000].\n",
      "DEBUG:_subdivide_speckles:first_cross_last: [0.00000 0.00000 0.00000].\n",
      "DEBUG:_subdivide_speckles:cross_normal: 7.911892680939337.\n",
      "DEBUG:_subdivide_speckles:first_last_angle: 0.00023469304235793333.\n",
      "DEBUG:_subdivide_speckles:Number of buckets found (non_empty_buckets): 10.\n"
     ]
    },
    {
     "data": {
      "application/vnd.jupyter.widget-view+json": {
       "model_id": "5106e7919c5540939ae633b882f9fe58",
       "version_major": 2,
       "version_minor": 0
      },
      "text/plain": [
       "Renderer(camera=PerspectiveCamera(aspect=1.5, children=(DirectionalLight(color='#fefefe', position=(49999.9999…"
      ]
     },
     "metadata": {},
     "output_type": "display_data"
    }
   ],
   "source": [
    "import logging\n",
    "spk = lv.create_speckles(\n",
    "        collection=\"test-base\",\n",
    "        group=\"base\",\n",
    "        name=\"test-endo\",\n",
    "        from_nodeset=LV_SURFS.BASE_BORDER_ENDO,\n",
    "        use_all_nodes=True,\n",
    "        n_subsets=0,\n",
    "        n_clusters=10,\n",
    "        subsets_criteria=\"angles3\",\n",
    "        cluster_criteria=\"angles3\",\n",
    "        t=0.0,\n",
    "        log_level=logging.DEBUG,\n",
    "    )\n",
    "lv.plot_speckles(spk, add_k_centers=True, k_bins=True, cmap=\"hot\")"
   ]
  }
 ],
 "metadata": {
  "interpreter": {
   "hash": "7560a9cd216f842edfabfecb1a26d850ed8addbd21cd19495bdf94e4a856eb4d"
  },
  "kernelspec": {
   "display_name": "Python 3.9.12 ('base')",
   "language": "python",
   "name": "python3"
  },
  "language_info": {
   "codemirror_mode": {
    "name": "ipython",
    "version": 3
   },
   "file_extension": ".py",
   "mimetype": "text/x-python",
   "name": "python",
   "nbconvert_exporter": "python",
   "pygments_lexer": "ipython3",
   "version": "3.9.12"
  },
  "orig_nbformat": 4
 },
 "nbformat": 4,
 "nbformat_minor": 2
}
