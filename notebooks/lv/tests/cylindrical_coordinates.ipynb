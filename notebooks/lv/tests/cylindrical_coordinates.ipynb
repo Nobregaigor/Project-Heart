{
 "cells": [
  {
   "cell_type": "code",
   "execution_count": null,
   "metadata": {},
   "outputs": [],
   "source": [
    "from project_heart.lv import LV\n",
    "import numpy as np\n",
    "import pyvista as pv\n",
    "pv.set_jupyter_backend(\"pythreejs\")\n",
    "\n",
    "import os\n",
    "from pathlib import Path\n",
    "\n",
    "from project_heart.enums import *"
   ]
  },
  {
   "cell_type": "code",
   "execution_count": null,
   "metadata": {},
   "outputs": [],
   "source": [
    "from project_heart.examples import get_lv_ideal\n",
    "lv = get_lv_ideal(\"C:/Users/igorp/Downloads/77.81_67.13_157_77.81_67.13_19.07.2022_LVRNN_IDEAL_v4_1.xplt\", save_spk_dict=True)"
   ]
  },
  {
   "cell_type": "code",
   "execution_count": null,
   "metadata": {},
   "outputs": [],
   "source": [
    "cy_stress = lv.convert_to_cylindrical_coordinates(\"stress\")\n",
    "cy_strain = lv.convert_to_cylindrical_coordinates(\"Lagrange strain\")"
   ]
  },
  {
   "cell_type": "code",
   "execution_count": null,
   "metadata": {},
   "outputs": [],
   "source": [
    "cy_stress.shape"
   ]
  },
  {
   "cell_type": "code",
   "execution_count": null,
   "metadata": {},
   "outputs": [],
   "source": [
    "def to_csv(data, file):\n",
    "    a = np.swapaxes(data, 0,1).reshape((-1,6*61))\n",
    "    cells = np.arange(1,len(a)+1, dtype=np.int32).reshape(-1,1)\n",
    "    np.savetxt(file, np.hstack((cells, a)), delimiter=\",\")"
   ]
  },
  {
   "cell_type": "code",
   "execution_count": null,
   "metadata": {},
   "outputs": [],
   "source": [
    "to_csv(cy_stress, \"cy_stress.csv\")\n",
    "to_csv(cy_strain, \"cy_strain.csv\")"
   ]
  },
  {
   "cell_type": "code",
   "execution_count": null,
   "metadata": {},
   "outputs": [],
   "source": [
    "def to_von_mises(data):\n",
    "    \"\"\"Computes the 'effective stress' based on von mises stress.\n",
    "\n",
    "    Args:\n",
    "        data (_type_): _description_\n",
    "\n",
    "    Returns:\n",
    "        _type_: _description_\n",
    "    \"\"\"\n",
    "    x = data[:, 0]\n",
    "    y = data[:, 1]\n",
    "    z = data[:, 2]\n",
    "    xy = data[:, 3]\n",
    "    yz = data[:, 4]\n",
    "    xz = data[:, 5]\n",
    "    \n",
    "    vm = x**2 + y**2 + z**2\n",
    "    vm -= x*y + y*z + x*z\n",
    "    vm += 3*(xy**2 + yz**2 + xz**2)\n",
    "    return np.sqrt(vm)"
   ]
  },
  {
   "cell_type": "code",
   "execution_count": null,
   "metadata": {},
   "outputs": [],
   "source": [
    "vm = [to_von_mises(d) for d in cy_stress]"
   ]
  },
  {
   "cell_type": "code",
   "execution_count": null,
   "metadata": {},
   "outputs": [],
   "source": [
    "vm = np.asarray(vm)\n",
    "vmt = vm.T"
   ]
  },
  {
   "cell_type": "code",
   "execution_count": null,
   "metadata": {},
   "outputs": [],
   "source": [
    "cells = np.arange(1,len(vmt)+1).reshape(-1,1)"
   ]
  },
  {
   "cell_type": "code",
   "execution_count": null,
   "metadata": {},
   "outputs": [],
   "source": [
    "np.savetxt(\"cy_stress.csv\", np.hstack((cells, vmt)), delimiter=\",\")"
   ]
  }
 ],
 "metadata": {
  "kernelspec": {
   "display_name": "Python 3.9.7 ('project_heart')",
   "language": "python",
   "name": "python3"
  },
  "language_info": {
   "codemirror_mode": {
    "name": "ipython",
    "version": 3
   },
   "file_extension": ".py",
   "mimetype": "text/x-python",
   "name": "python",
   "nbconvert_exporter": "python",
   "pygments_lexer": "ipython3",
   "version": "3.9.7"
  },
  "orig_nbformat": 4,
  "vscode": {
   "interpreter": {
    "hash": "a4b270fe5129ef310552b5197d637a230d47119f1e46f0b92ff32b1c5f5c5425"
   }
  }
 },
 "nbformat": 4,
 "nbformat_minor": 2
}
