{
 "cells": [
  {
   "cell_type": "code",
   "execution_count": 1,
   "metadata": {},
   "outputs": [],
   "source": [
    "from project_heart.lv import LV\n",
    "import numpy as np\n",
    "import pyvista as pv\n",
    "pv.set_jupyter_backend(\"pythreejs\")\n",
    "\n",
    "import os\n",
    "from pathlib import Path\n",
    "\n",
    "from project_heart.enums import *"
   ]
  },
  {
   "cell_type": "code",
   "execution_count": 3,
   "metadata": {},
   "outputs": [
    {
     "name": "stderr",
     "output_type": "stream",
     "text": [
      "INFO:LV_RegionIdentifier.identify_regions_typeA:Identifying regions from 'type A' geometry.\n",
      "INFO:LV_RegionIdentifier.identify_endo_epi_base_borders_from_nodesets:len(endo_base): 329\n",
      "INFO:LV_RegionIdentifier.identify_endo_epi_base_borders_from_nodesets:len(epi_base): 369\n"
     ]
    }
   ],
   "source": [
    "from project_heart.examples import get_lv_typeA\n",
    "lv = get_lv_typeA(\"C:/Users/igorp/Downloads/56.15_69.31_25_56.15_69.31_20.07.2022_LVRNN_TYPEA_V4.xplt\", save_spk_dict=True)"
   ]
  },
  {
   "cell_type": "code",
   "execution_count": 4,
   "metadata": {},
   "outputs": [],
   "source": [
    "cy_stress = lv.convert_to_cylindrical_coordinates(\"stress\")\n",
    "cy_strain = lv.convert_to_cylindrical_coordinates(\"Lagrange strain\")"
   ]
  },
  {
   "cell_type": "code",
   "execution_count": 5,
   "metadata": {},
   "outputs": [],
   "source": [
    "indexes = [lv.states.get_timestep_index(t) for t in [0, 0.18, 0.33, 0.36, 0.8]]"
   ]
  },
  {
   "cell_type": "code",
   "execution_count": 6,
   "metadata": {},
   "outputs": [],
   "source": [
    "\n",
    "for i in indexes:\n",
    "    \n",
    "    lv.mesh[\"stress_r_{}\".format(i)] = cy_stress[i, :, 0]\n",
    "    lv.mesh[\"stress_theta_{}\".format(i)] = cy_stress[i, :, 1]\n",
    "    lv.mesh[\"stress_z_{}\".format(i)] = cy_stress[i, :, 1]\n",
    "\n",
    "    lv.mesh[\"strain_r_{}\".format(i)] = cy_strain[i, :, 0]\n",
    "    lv.mesh[\"strain_theta_{}\".format(i)] = cy_strain[i, :, 1]\n",
    "    lv.mesh[\"strain_z_{}\".format(i)] = cy_strain[i, :, 1]"
   ]
  },
  {
   "cell_type": "code",
   "execution_count": 7,
   "metadata": {},
   "outputs": [],
   "source": [
    "lv.to_vtk(\"C:/Users/igorp/Downloads/56.15_69.31_25_56.15_69.31_20.07.2022_LVRNN_TYPEA_V4.vtk\")"
   ]
  },
  {
   "cell_type": "code",
   "execution_count": null,
   "metadata": {},
   "outputs": [],
   "source": [
    "cy_stress.shape"
   ]
  },
  {
   "cell_type": "code",
   "execution_count": null,
   "metadata": {},
   "outputs": [],
   "source": [
    "def to_csv(data, file):\n",
    "    a = np.swapaxes(data, 0,1).reshape((-1,6*61))\n",
    "    cells = np.arange(1,len(a)+1, dtype=np.int32).reshape(-1,1)\n",
    "    np.savetxt(file, np.hstack((cells, a)), delimiter=\",\")"
   ]
  },
  {
   "cell_type": "code",
   "execution_count": null,
   "metadata": {},
   "outputs": [],
   "source": [
    "to_csv(cy_stress, \"cy_stress.csv\")\n",
    "to_csv(cy_strain, \"cy_strain.csv\")"
   ]
  },
  {
   "cell_type": "code",
   "execution_count": null,
   "metadata": {},
   "outputs": [],
   "source": [
    "def to_von_mises(data):\n",
    "    \"\"\"Computes the 'effective stress' based on von mises stress.\n",
    "\n",
    "    Args:\n",
    "        data (_type_): _description_\n",
    "\n",
    "    Returns:\n",
    "        _type_: _description_\n",
    "    \"\"\"\n",
    "    x = data[:, 0]\n",
    "    y = data[:, 1]\n",
    "    z = data[:, 2]\n",
    "    xy = data[:, 3]\n",
    "    yz = data[:, 4]\n",
    "    xz = data[:, 5]\n",
    "    \n",
    "    vm = x**2 + y**2 + z**2\n",
    "    vm -= x*y + y*z + x*z\n",
    "    vm += 3*(xy**2 + yz**2 + xz**2)\n",
    "    return np.sqrt(vm)"
   ]
  },
  {
   "cell_type": "code",
   "execution_count": null,
   "metadata": {},
   "outputs": [],
   "source": [
    "vm = [to_von_mises(d) for d in cy_stress]"
   ]
  },
  {
   "cell_type": "code",
   "execution_count": null,
   "metadata": {},
   "outputs": [],
   "source": [
    "vm = np.asarray(vm)\n",
    "vmt = vm.T"
   ]
  },
  {
   "cell_type": "code",
   "execution_count": null,
   "metadata": {},
   "outputs": [],
   "source": [
    "cells = np.arange(1,len(vmt)+1).reshape(-1,1)"
   ]
  },
  {
   "cell_type": "code",
   "execution_count": null,
   "metadata": {},
   "outputs": [],
   "source": [
    "np.savetxt(\"cy_stress.csv\", np.hstack((cells, vmt)), delimiter=\",\")"
   ]
  }
 ],
 "metadata": {
  "kernelspec": {
   "display_name": "Python 3.9.7 ('project_heart')",
   "language": "python",
   "name": "python3"
  },
  "language_info": {
   "codemirror_mode": {
    "name": "ipython",
    "version": 3
   },
   "file_extension": ".py",
   "mimetype": "text/x-python",
   "name": "python",
   "nbconvert_exporter": "python",
   "pygments_lexer": "ipython3",
   "version": "3.9.7"
  },
  "orig_nbformat": 4,
  "vscode": {
   "interpreter": {
    "hash": "a4b270fe5129ef310552b5197d637a230d47119f1e46f0b92ff32b1c5f5c5425"
   }
  }
 },
 "nbformat": 4,
 "nbformat_minor": 2
}
