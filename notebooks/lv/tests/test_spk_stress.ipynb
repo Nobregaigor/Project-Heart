{
 "cells": [
  {
   "cell_type": "code",
   "execution_count": 1,
   "metadata": {},
   "outputs": [],
   "source": [
    "from pathlib import Path\n",
    "import numpy as np\n",
    "import logging\n",
    "\n",
    "import pyvista as pv\n",
    "pv.set_jupyter_backend(\"pythreejs\")\n",
    "\n",
    "from project_heart.enums import *\n",
    "from project_heart.lv import LV"
   ]
  },
  {
   "cell_type": "code",
   "execution_count": 2,
   "metadata": {},
   "outputs": [],
   "source": [
    "directory = Path(\"C:/Users/igorp/OneDrive - University of South Florida/Igor/Documents/Paper 1/stress_strain_plots/ref_files\")\n",
    "# filename = \"57.32_40.94_10.08.2022_LVRNN_IDEAL_V4\"\n",
    "filename = \"62.71_68.65_10.08.2022_LVRNN_TYPEA_V4\""
   ]
  },
  {
   "cell_type": "code",
   "execution_count": 3,
   "metadata": {},
   "outputs": [
    {
     "name": "stderr",
     "output_type": "stream",
     "text": [
      "INFO:LV_RegionIdentifier.identify_regions_typeA:Identifying regions from 'type A' geometry.\n",
      "INFO:LV_RegionIdentifier.identify_endo_epi_base_borders_from_nodesets:len(endo_base): 329\n",
      "INFO:LV_RegionIdentifier.identify_endo_epi_base_borders_from_nodesets:len(epi_base): 369\n"
     ]
    }
   ],
   "source": [
    "from project_heart.examples import get_lv_ideal, get_lv_typeA\n",
    "# lv = get_lv_ideal(str(directory/filename) + \".xplt\", statesfile=None)\n",
    "lv = get_lv_typeA(str(directory/filename) + \".xplt\", statesfile=None)"
   ]
  },
  {
   "cell_type": "code",
   "execution_count": 4,
   "metadata": {},
   "outputs": [],
   "source": [
    "import logging\n",
    "\n",
    "names = [\"subapex\", \"apex\", \"superapex\", \"submid\", \"mid\", \"supermid\", \"subbase\", \"base\", \"superbase\"]\n",
    "for i, a in enumerate(np.linspace(0.1, 0.90, len(names), endpoint=True)):\n",
    "    \n",
    "    _ = lv.create_speckles(\n",
    "        collection=\"circ-6\",\n",
    "        group=\"wall\",\n",
    "        name=names[i],\n",
    "        from_nodeset=None, # use all spks\n",
    "        d=2.25,\n",
    "        k=a,\n",
    "        normal_to=[0.0, 0.0, 1.0],\n",
    "        n_subsets=6,\n",
    "        subsets_criteria=\"angles2\",\n",
    "        # subsets_vector_ref=[1.0,0.0,0.0],\n",
    "        n_clusters=5,\n",
    "        cluster_criteria=\"radius2\",\n",
    "        t=0.0,\n",
    "        log_level=logging.WARN,\n",
    "    )"
   ]
  },
  {
   "cell_type": "code",
   "execution_count": 5,
   "metadata": {},
   "outputs": [],
   "source": [
    "spks = lv.get_speckles(spk_collection=\"circ-6\", spk_group=\"wall\")\n",
    "subsets_names = [\"endo\", \"endo-mid\", \"mid\", \"mid-epi\", \"epi\"]\n",
    "lv.split_spks_by_clusters(spks, rename_subsets=subsets_names,switch_subset_group=True)\n",
    "spks_split = lv.get_speckles(spk_collection=\"circ-6_split\")"
   ]
  },
  {
   "cell_type": "code",
   "execution_count": 6,
   "metadata": {},
   "outputs": [
    {
     "data": {
      "text/plain": [
       "array([75171, 75233, 76331, 76448, 76449, 76450, 76451, 76452, 76453,\n",
       "       76454, 76455, 76458, 76707, 76864, 76865, 76867, 76868, 76869,\n",
       "       76870, 76871, 76872, 76873, 76874, 76875, 76878, 77344, 77345,\n",
       "       77346, 77347, 77348, 77349, 77350, 77352, 77504, 77506, 77664,\n",
       "       77665, 77666, 77667, 77668, 77669, 77670, 77671, 77675, 77760,\n",
       "       77862, 77896, 78208, 78209, 78210, 78211, 78212, 78213, 78214,\n",
       "       78215, 78216, 78217, 78218, 78219, 78240, 78241, 78242, 78243,\n",
       "       78244, 78246, 78304, 78305, 78306, 78307, 78308, 78309, 78310,\n",
       "       78311, 78529, 78531], dtype=int64)"
      ]
     },
     "execution_count": 6,
     "metadata": {},
     "output_type": "execute_result"
    }
   ],
   "source": [
    "spks_split[0].elem_ids"
   ]
  },
  {
   "cell_type": "code",
   "execution_count": null,
   "metadata": {},
   "outputs": [],
   "source": [
    "spks_mid = lv.get_speckles(spk_collection=\"circ-6_split\", spk_name=\"mid\", spk_group=\"mid-epi\")\n",
    "lv.plot_speckles(spks_mid, show_clusters=False)"
   ]
  },
  {
   "cell_type": "code",
   "execution_count": 7,
   "metadata": {},
   "outputs": [
    {
     "data": {
      "application/vnd.jupyter.widget-view+json": {
       "model_id": "940a5069fc984b20bb5abd22680e92a8",
       "version_major": 2,
       "version_minor": 0
      },
      "text/plain": [
       "Renderer(camera=PerspectiveCamera(aspect=1.5, children=(DirectionalLight(intensity=0.25, position=(0.0, 0.0, 1…"
      ]
     },
     "metadata": {},
     "output_type": "display_data"
    }
   ],
   "source": [
    "spks_base = lv.get_speckles(spk_collection=\"circ-6_split\", spk_name=\"base\", spk_group=\"endo\")\n",
    "lv.plot_speckles(spks_base, show_clusters=False)"
   ]
  },
  {
   "cell_type": "code",
   "execution_count": 8,
   "metadata": {},
   "outputs": [
    {
     "name": "stderr",
     "output_type": "stream",
     "text": [
      "INFO:LV.BaseMetricsComputations:Computing metric 'LV_STATES.PRINCIPAL_STRESS' with 'effective' set to 'False'\n"
     ]
    }
   ],
   "source": [
    "lv.compute_stress(spks_split, reduce_by=[\"group_name\"], principal=True, use_axis=None, cylindrical=False, effective=False, log_level=logging.WARN)"
   ]
  },
  {
   "cell_type": "code",
   "execution_count": 9,
   "metadata": {},
   "outputs": [],
   "source": [
    "lv.compute_strain(spks_split, reduce_by=[\"group_name\"],  principal=True, use_axis=None, cylindrical=False, effective=False, log_level=logging.WARN)"
   ]
  },
  {
   "cell_type": "code",
   "execution_count": 10,
   "metadata": {},
   "outputs": [],
   "source": [
    "_, stress_data = lv.get_metric_as_df(\"principal_stress\")\n",
    "_, strain_data = lv.get_metric_as_df(\"principal_strain\")"
   ]
  },
  {
   "cell_type": "code",
   "execution_count": 12,
   "metadata": {},
   "outputs": [],
   "source": [
    "stress_df = stress_data[\"group_name\"]\n",
    "stress_df = stress_df[stress_df[\"timesteps\"] > 0.1] - 0.1\n",
    "stress_df.to_csv(str(directory/filename) + \"_stress.csv\")"
   ]
  },
  {
   "cell_type": "code",
   "execution_count": null,
   "metadata": {},
   "outputs": [],
   "source": [
    "strain_df = strain_data[\"group_name\"]\n",
    "strain_df = strain_df[strain_df[\"timesteps\"] > 0.1] - 0.1\n",
    "strain_df.to_csv(str(directory/filename) + \"_strain.csv\")"
   ]
  },
  {
   "cell_type": "code",
   "execution_count": null,
   "metadata": {},
   "outputs": [],
   "source": []
  }
 ],
 "metadata": {
  "kernelspec": {
   "display_name": "Python 3.9.7 ('project_heart')",
   "language": "python",
   "name": "python3"
  },
  "language_info": {
   "codemirror_mode": {
    "name": "ipython",
    "version": 3
   },
   "file_extension": ".py",
   "mimetype": "text/x-python",
   "name": "python",
   "nbconvert_exporter": "python",
   "pygments_lexer": "ipython3",
   "version": "3.9.7"
  },
  "orig_nbformat": 4,
  "vscode": {
   "interpreter": {
    "hash": "a4b270fe5129ef310552b5197d637a230d47119f1e46f0b92ff32b1c5f5c5425"
   }
  }
 },
 "nbformat": 4,
 "nbformat_minor": 2
}
