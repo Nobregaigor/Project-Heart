{
 "cells": [
  {
   "cell_type": "code",
   "execution_count": 1,
   "metadata": {},
   "outputs": [],
   "source": [
    "from pathlib import Path\n",
    "import numpy as np\n",
    "import logging\n",
    "\n",
    "import pyvista as pv\n",
    "pv.set_jupyter_backend(\"pythreejs\")\n",
    "\n",
    "from project_heart.enums import *\n",
    "from project_heart.lv import LV"
   ]
  },
  {
   "cell_type": "code",
   "execution_count": null,
   "metadata": {},
   "outputs": [],
   "source": [
    "# filepath = Path(\"C:/Users/igorp/Downloads/0.3_80.00_50.00_LVIDEAL_HEX20.xplt\")"
   ]
  },
  {
   "cell_type": "code",
   "execution_count": 2,
   "metadata": {},
   "outputs": [],
   "source": [
    "from project_heart.examples import get_lv_ideal\n",
    "lv = get_lv_ideal(\"C:/Users/igorp/Downloads/77.81_67.13_157_77.81_67.13_19.07.2022_LVRNN_IDEAL_v4_1.xplt\")"
   ]
  },
  {
   "cell_type": "code",
   "execution_count": null,
   "metadata": {},
   "outputs": [],
   "source": [
    "# cy_stress = lv.convert_to_cylindrical_coordinates(\"stress\")"
   ]
  },
  {
   "cell_type": "code",
   "execution_count": 3,
   "metadata": {},
   "outputs": [
    {
     "data": {
      "text/plain": [
       "<Speckle: .subset: default, .name: superbase, .group: endo, .collection: circ-1, .t: 0.0>"
      ]
     },
     "execution_count": 3,
     "metadata": {},
     "output_type": "execute_result"
    }
   ],
   "source": [
    "spks = lv.get_speckles(spk_collection=\"circ-1\")\n",
    "spks[-2]"
   ]
  },
  {
   "cell_type": "code",
   "execution_count": 4,
   "metadata": {},
   "outputs": [
    {
     "name": "stderr",
     "output_type": "stream",
     "text": [
      "INFO:LV.BaseMetricsComputations:Computing metric 'effective_stress' with 'effective' set to 'True'\n",
      "DEBUG:LV.BaseMetricsComputations:Computing speckle STRESS for spk: '<Speckle: .subset: default, .name: subapex, .group: endo, .collection: circ-1, .t: 0.0>'\n",
      "DEBUG:LV.BaseMetricsComputations:Using approach: 'mean'\n",
      "DEBUG:LV.BaseMetricsComputations:-stress.shape:'(61, 800, 6)\n",
      "DEBUG:LV.BaseMetricsComputations:-spk_res.shape:'(61,)\n",
      "DEBUG:LV.BaseMetricsComputations:Computing speckle STRESS for spk: '<Speckle: .subset: default, .name: subapex, .group: epi, .collection: circ-1, .t: 0.0>'\n",
      "DEBUG:LV.BaseMetricsComputations:Using approach: 'mean'\n",
      "DEBUG:LV.BaseMetricsComputations:-stress.shape:'(61, 440, 6)\n",
      "DEBUG:LV.BaseMetricsComputations:-spk_res.shape:'(61,)\n",
      "DEBUG:LV.BaseMetricsComputations:Computing speckle STRESS for spk: '<Speckle: .subset: default, .name: apex, .group: endo, .collection: circ-1, .t: 0.0>'\n",
      "DEBUG:LV.BaseMetricsComputations:Using approach: 'mean'\n",
      "DEBUG:LV.BaseMetricsComputations:-stress.shape:'(61, 640, 6)\n",
      "DEBUG:LV.BaseMetricsComputations:-spk_res.shape:'(61,)\n",
      "DEBUG:LV.BaseMetricsComputations:Computing speckle STRESS for spk: '<Speckle: .subset: default, .name: apex, .group: epi, .collection: circ-1, .t: 0.0>'\n",
      "DEBUG:LV.BaseMetricsComputations:Using approach: 'mean'\n",
      "DEBUG:LV.BaseMetricsComputations:-stress.shape:'(61, 400, 6)\n",
      "DEBUG:LV.BaseMetricsComputations:-spk_res.shape:'(61,)\n",
      "DEBUG:LV.BaseMetricsComputations:Computing speckle STRESS for spk: '<Speckle: .subset: default, .name: superapex, .group: endo, .collection: circ-1, .t: 0.0>'\n",
      "DEBUG:LV.BaseMetricsComputations:Using approach: 'mean'\n",
      "DEBUG:LV.BaseMetricsComputations:-stress.shape:'(61, 536, 6)\n",
      "DEBUG:LV.BaseMetricsComputations:-spk_res.shape:'(61,)\n",
      "DEBUG:LV.BaseMetricsComputations:Computing speckle STRESS for spk: '<Speckle: .subset: default, .name: superapex, .group: epi, .collection: circ-1, .t: 0.0>'\n",
      "DEBUG:LV.BaseMetricsComputations:Using approach: 'mean'\n",
      "DEBUG:LV.BaseMetricsComputations:-stress.shape:'(61, 352, 6)\n",
      "DEBUG:LV.BaseMetricsComputations:-spk_res.shape:'(61,)\n",
      "DEBUG:LV.BaseMetricsComputations:Computing speckle STRESS for spk: '<Speckle: .subset: default, .name: submid, .group: endo, .collection: circ-1, .t: 0.0>'\n",
      "DEBUG:LV.BaseMetricsComputations:Using approach: 'mean'\n",
      "DEBUG:LV.BaseMetricsComputations:-stress.shape:'(61, 432, 6)\n",
      "DEBUG:LV.BaseMetricsComputations:-spk_res.shape:'(61,)\n",
      "DEBUG:LV.BaseMetricsComputations:Computing speckle STRESS for spk: '<Speckle: .subset: default, .name: submid, .group: epi, .collection: circ-1, .t: 0.0>'\n",
      "DEBUG:LV.BaseMetricsComputations:Using approach: 'mean'\n",
      "DEBUG:LV.BaseMetricsComputations:-stress.shape:'(61, 336, 6)\n",
      "DEBUG:LV.BaseMetricsComputations:-spk_res.shape:'(61,)\n",
      "DEBUG:LV.BaseMetricsComputations:Computing speckle STRESS for spk: '<Speckle: .subset: default, .name: mid, .group: endo, .collection: circ-1, .t: 0.0>'\n",
      "DEBUG:LV.BaseMetricsComputations:Using approach: 'mean'\n",
      "DEBUG:LV.BaseMetricsComputations:-stress.shape:'(61, 336, 6)\n",
      "DEBUG:LV.BaseMetricsComputations:-spk_res.shape:'(61,)\n",
      "DEBUG:LV.BaseMetricsComputations:Computing speckle STRESS for spk: '<Speckle: .subset: default, .name: mid, .group: epi, .collection: circ-1, .t: 0.0>'\n",
      "DEBUG:LV.BaseMetricsComputations:Using approach: 'mean'\n",
      "DEBUG:LV.BaseMetricsComputations:-stress.shape:'(61, 336, 6)\n",
      "DEBUG:LV.BaseMetricsComputations:-spk_res.shape:'(61,)\n",
      "DEBUG:LV.BaseMetricsComputations:Computing speckle STRESS for spk: '<Speckle: .subset: default, .name: supermid, .group: endo, .collection: circ-1, .t: 0.0>'\n",
      "DEBUG:LV.BaseMetricsComputations:Using approach: 'mean'\n",
      "DEBUG:LV.BaseMetricsComputations:-stress.shape:'(61, 336, 6)\n",
      "DEBUG:LV.BaseMetricsComputations:-spk_res.shape:'(61,)\n",
      "DEBUG:LV.BaseMetricsComputations:Computing speckle STRESS for spk: '<Speckle: .subset: default, .name: supermid, .group: epi, .collection: circ-1, .t: 0.0>'\n",
      "DEBUG:LV.BaseMetricsComputations:Using approach: 'mean'\n",
      "DEBUG:LV.BaseMetricsComputations:-stress.shape:'(61, 336, 6)\n",
      "DEBUG:LV.BaseMetricsComputations:-spk_res.shape:'(61,)\n",
      "DEBUG:LV.BaseMetricsComputations:Computing speckle STRESS for spk: '<Speckle: .subset: default, .name: subbase, .group: endo, .collection: circ-1, .t: 0.0>'\n",
      "DEBUG:LV.BaseMetricsComputations:Using approach: 'mean'\n",
      "DEBUG:LV.BaseMetricsComputations:-stress.shape:'(61, 336, 6)\n",
      "DEBUG:LV.BaseMetricsComputations:-spk_res.shape:'(61,)\n",
      "DEBUG:LV.BaseMetricsComputations:Computing speckle STRESS for spk: '<Speckle: .subset: default, .name: subbase, .group: epi, .collection: circ-1, .t: 0.0>'\n",
      "DEBUG:LV.BaseMetricsComputations:Using approach: 'mean'\n",
      "DEBUG:LV.BaseMetricsComputations:-stress.shape:'(61, 336, 6)\n",
      "DEBUG:LV.BaseMetricsComputations:-spk_res.shape:'(61,)\n",
      "DEBUG:LV.BaseMetricsComputations:Computing speckle STRESS for spk: '<Speckle: .subset: default, .name: base, .group: endo, .collection: circ-1, .t: 0.0>'\n",
      "DEBUG:LV.BaseMetricsComputations:Using approach: 'mean'\n",
      "DEBUG:LV.BaseMetricsComputations:-stress.shape:'(61, 336, 6)\n",
      "DEBUG:LV.BaseMetricsComputations:-spk_res.shape:'(61,)\n",
      "DEBUG:LV.BaseMetricsComputations:Computing speckle STRESS for spk: '<Speckle: .subset: default, .name: base, .group: epi, .collection: circ-1, .t: 0.0>'\n",
      "DEBUG:LV.BaseMetricsComputations:Using approach: 'mean'\n",
      "DEBUG:LV.BaseMetricsComputations:-stress.shape:'(61, 336, 6)\n",
      "DEBUG:LV.BaseMetricsComputations:-spk_res.shape:'(61,)\n",
      "DEBUG:LV.BaseMetricsComputations:Computing speckle STRESS for spk: '<Speckle: .subset: default, .name: superbase, .group: endo, .collection: circ-1, .t: 0.0>'\n",
      "DEBUG:LV.BaseMetricsComputations:Using approach: 'mean'\n",
      "DEBUG:LV.BaseMetricsComputations:-stress.shape:'(61, 336, 6)\n",
      "DEBUG:LV.BaseMetricsComputations:-spk_res.shape:'(61,)\n",
      "DEBUG:LV.BaseMetricsComputations:Computing speckle STRESS for spk: '<Speckle: .subset: default, .name: superbase, .group: epi, .collection: circ-1, .t: 0.0>'\n",
      "DEBUG:LV.BaseMetricsComputations:Using approach: 'mean'\n",
      "DEBUG:LV.BaseMetricsComputations:-stress.shape:'(61, 336, 6)\n",
      "DEBUG:LV.BaseMetricsComputations:-spk_res.shape:'(61,)\n",
      "DEBUG:LV.BaseMetricsComputations:Reducing metric by group and name for 'effective_stress'\n",
      "DEBUG:LV.BaseMetricsComputations:Metric 'effective_stress' has reduced values by group and name.\n"
     ]
    }
   ],
   "source": [
    "lv.compute_stress(spks, reduce_by=[\"group_name\"], cylindrical=False, effective=True, log_level=logging.DEBUG)"
   ]
  },
  {
   "cell_type": "code",
   "execution_count": 5,
   "metadata": {},
   "outputs": [
    {
     "name": "stderr",
     "output_type": "stream",
     "text": [
      "INFO:LV.BaseMetricsComputations:Computing metric 'effective_cylindrical_strain' with 'effective' set to 'True'\n",
      "DEBUG:LV.BaseMetricsComputations:Computing speckle STRAIN for spk: '<Speckle: .subset: default, .name: subapex, .group: endo, .collection: circ-1, .t: 0.0>'\n",
      "DEBUG:LV.BaseMetricsComputations:Using approach: 'mean'\n",
      "DEBUG:LV.BaseMetricsComputations:-strain.shape:'(61, 800, 6)\n",
      "DEBUG:LV.BaseMetricsComputations:-spk_res.shape:'(61,)\n",
      "DEBUG:LV.BaseMetricsComputations:Computing speckle STRAIN for spk: '<Speckle: .subset: default, .name: subapex, .group: epi, .collection: circ-1, .t: 0.0>'\n",
      "DEBUG:LV.BaseMetricsComputations:Using approach: 'mean'\n",
      "DEBUG:LV.BaseMetricsComputations:-strain.shape:'(61, 440, 6)\n",
      "DEBUG:LV.BaseMetricsComputations:-spk_res.shape:'(61,)\n",
      "DEBUG:LV.BaseMetricsComputations:Computing speckle STRAIN for spk: '<Speckle: .subset: default, .name: apex, .group: endo, .collection: circ-1, .t: 0.0>'\n",
      "DEBUG:LV.BaseMetricsComputations:Using approach: 'mean'\n",
      "DEBUG:LV.BaseMetricsComputations:-strain.shape:'(61, 640, 6)\n",
      "DEBUG:LV.BaseMetricsComputations:-spk_res.shape:'(61,)\n",
      "DEBUG:LV.BaseMetricsComputations:Computing speckle STRAIN for spk: '<Speckle: .subset: default, .name: apex, .group: epi, .collection: circ-1, .t: 0.0>'\n",
      "DEBUG:LV.BaseMetricsComputations:Using approach: 'mean'\n",
      "DEBUG:LV.BaseMetricsComputations:-strain.shape:'(61, 400, 6)\n",
      "DEBUG:LV.BaseMetricsComputations:-spk_res.shape:'(61,)\n",
      "DEBUG:LV.BaseMetricsComputations:Computing speckle STRAIN for spk: '<Speckle: .subset: default, .name: superapex, .group: endo, .collection: circ-1, .t: 0.0>'\n",
      "DEBUG:LV.BaseMetricsComputations:Using approach: 'mean'\n",
      "DEBUG:LV.BaseMetricsComputations:-strain.shape:'(61, 536, 6)\n",
      "DEBUG:LV.BaseMetricsComputations:-spk_res.shape:'(61,)\n",
      "DEBUG:LV.BaseMetricsComputations:Computing speckle STRAIN for spk: '<Speckle: .subset: default, .name: superapex, .group: epi, .collection: circ-1, .t: 0.0>'\n",
      "DEBUG:LV.BaseMetricsComputations:Using approach: 'mean'\n",
      "DEBUG:LV.BaseMetricsComputations:-strain.shape:'(61, 352, 6)\n",
      "DEBUG:LV.BaseMetricsComputations:-spk_res.shape:'(61,)\n",
      "DEBUG:LV.BaseMetricsComputations:Computing speckle STRAIN for spk: '<Speckle: .subset: default, .name: submid, .group: endo, .collection: circ-1, .t: 0.0>'\n",
      "DEBUG:LV.BaseMetricsComputations:Using approach: 'mean'\n",
      "DEBUG:LV.BaseMetricsComputations:-strain.shape:'(61, 432, 6)\n",
      "DEBUG:LV.BaseMetricsComputations:-spk_res.shape:'(61,)\n",
      "DEBUG:LV.BaseMetricsComputations:Computing speckle STRAIN for spk: '<Speckle: .subset: default, .name: submid, .group: epi, .collection: circ-1, .t: 0.0>'\n",
      "DEBUG:LV.BaseMetricsComputations:Using approach: 'mean'\n",
      "DEBUG:LV.BaseMetricsComputations:-strain.shape:'(61, 336, 6)\n",
      "DEBUG:LV.BaseMetricsComputations:-spk_res.shape:'(61,)\n",
      "DEBUG:LV.BaseMetricsComputations:Computing speckle STRAIN for spk: '<Speckle: .subset: default, .name: mid, .group: endo, .collection: circ-1, .t: 0.0>'\n",
      "DEBUG:LV.BaseMetricsComputations:Using approach: 'mean'\n",
      "DEBUG:LV.BaseMetricsComputations:-strain.shape:'(61, 336, 6)\n",
      "DEBUG:LV.BaseMetricsComputations:-spk_res.shape:'(61,)\n",
      "DEBUG:LV.BaseMetricsComputations:Computing speckle STRAIN for spk: '<Speckle: .subset: default, .name: mid, .group: epi, .collection: circ-1, .t: 0.0>'\n",
      "DEBUG:LV.BaseMetricsComputations:Using approach: 'mean'\n",
      "DEBUG:LV.BaseMetricsComputations:-strain.shape:'(61, 336, 6)\n",
      "DEBUG:LV.BaseMetricsComputations:-spk_res.shape:'(61,)\n",
      "DEBUG:LV.BaseMetricsComputations:Computing speckle STRAIN for spk: '<Speckle: .subset: default, .name: supermid, .group: endo, .collection: circ-1, .t: 0.0>'\n",
      "DEBUG:LV.BaseMetricsComputations:Using approach: 'mean'\n",
      "DEBUG:LV.BaseMetricsComputations:-strain.shape:'(61, 336, 6)\n",
      "DEBUG:LV.BaseMetricsComputations:-spk_res.shape:'(61,)\n",
      "DEBUG:LV.BaseMetricsComputations:Computing speckle STRAIN for spk: '<Speckle: .subset: default, .name: supermid, .group: epi, .collection: circ-1, .t: 0.0>'\n",
      "DEBUG:LV.BaseMetricsComputations:Using approach: 'mean'\n",
      "DEBUG:LV.BaseMetricsComputations:-strain.shape:'(61, 336, 6)\n",
      "DEBUG:LV.BaseMetricsComputations:-spk_res.shape:'(61,)\n",
      "DEBUG:LV.BaseMetricsComputations:Computing speckle STRAIN for spk: '<Speckle: .subset: default, .name: subbase, .group: endo, .collection: circ-1, .t: 0.0>'\n",
      "DEBUG:LV.BaseMetricsComputations:Using approach: 'mean'\n",
      "DEBUG:LV.BaseMetricsComputations:-strain.shape:'(61, 336, 6)\n",
      "DEBUG:LV.BaseMetricsComputations:-spk_res.shape:'(61,)\n",
      "DEBUG:LV.BaseMetricsComputations:Computing speckle STRAIN for spk: '<Speckle: .subset: default, .name: subbase, .group: epi, .collection: circ-1, .t: 0.0>'\n",
      "DEBUG:LV.BaseMetricsComputations:Using approach: 'mean'\n",
      "DEBUG:LV.BaseMetricsComputations:-strain.shape:'(61, 336, 6)\n",
      "DEBUG:LV.BaseMetricsComputations:-spk_res.shape:'(61,)\n",
      "DEBUG:LV.BaseMetricsComputations:Computing speckle STRAIN for spk: '<Speckle: .subset: default, .name: base, .group: endo, .collection: circ-1, .t: 0.0>'\n",
      "DEBUG:LV.BaseMetricsComputations:Using approach: 'mean'\n",
      "DEBUG:LV.BaseMetricsComputations:-strain.shape:'(61, 336, 6)\n",
      "DEBUG:LV.BaseMetricsComputations:-spk_res.shape:'(61,)\n",
      "DEBUG:LV.BaseMetricsComputations:Computing speckle STRAIN for spk: '<Speckle: .subset: default, .name: base, .group: epi, .collection: circ-1, .t: 0.0>'\n",
      "DEBUG:LV.BaseMetricsComputations:Using approach: 'mean'\n",
      "DEBUG:LV.BaseMetricsComputations:-strain.shape:'(61, 336, 6)\n",
      "DEBUG:LV.BaseMetricsComputations:-spk_res.shape:'(61,)\n",
      "DEBUG:LV.BaseMetricsComputations:Computing speckle STRAIN for spk: '<Speckle: .subset: default, .name: superbase, .group: endo, .collection: circ-1, .t: 0.0>'\n",
      "DEBUG:LV.BaseMetricsComputations:Using approach: 'mean'\n",
      "DEBUG:LV.BaseMetricsComputations:-strain.shape:'(61, 336, 6)\n",
      "DEBUG:LV.BaseMetricsComputations:-spk_res.shape:'(61,)\n",
      "DEBUG:LV.BaseMetricsComputations:Computing speckle STRAIN for spk: '<Speckle: .subset: default, .name: superbase, .group: epi, .collection: circ-1, .t: 0.0>'\n",
      "DEBUG:LV.BaseMetricsComputations:Using approach: 'mean'\n",
      "DEBUG:LV.BaseMetricsComputations:-strain.shape:'(61, 336, 6)\n",
      "DEBUG:LV.BaseMetricsComputations:-spk_res.shape:'(61,)\n",
      "DEBUG:LV.BaseMetricsComputations:Reducing metric by group for 'effective_cylindrical_strain'\n",
      "DEBUG:LV.BaseMetricsComputations:Metric 'effective_cylindrical_strain' has reduced values by group.\n"
     ]
    }
   ],
   "source": [
    "lv.compute_strain(spks, cylindrical=True, effective=True, log_level=logging.DEBUG)"
   ]
  },
  {
   "cell_type": "code",
   "execution_count": null,
   "metadata": {},
   "outputs": [],
   "source": [
    "lv.states.get(\"cylindrical_strain\").shape"
   ]
  },
  {
   "cell_type": "code",
   "execution_count": null,
   "metadata": {},
   "outputs": [],
   "source": [
    "lv.plot_metric(\"cylindrical_strain\", plot_infos=[\"name\", \"group_name\"])"
   ]
  },
  {
   "cell_type": "code",
   "execution_count": null,
   "metadata": {},
   "outputs": [],
   "source": [
    "def to_csv(data, file):\n",
    "    a = np.swapaxes(data, 0,1).reshape((-1,cy_stress.shape[0]*cy_stress.shape[-1]))\n",
    "    cells = np.arange(1,len(a)+1, dtype=np.int32).reshape(-1,1)\n",
    "    np.savetxt(file, np.hstack((cells, a)), delimiter=\",\")\n",
    "to_csv(cy_stress, \"cy_stress.csv\")"
   ]
  },
  {
   "cell_type": "code",
   "execution_count": null,
   "metadata": {},
   "outputs": [],
   "source": [
    "cy_stress.shape"
   ]
  },
  {
   "cell_type": "code",
   "execution_count": null,
   "metadata": {},
   "outputs": [],
   "source": [
    "lv.mesh[\"cy_stress_rr\"] = cy_stress[15][:, 0]"
   ]
  },
  {
   "cell_type": "code",
   "execution_count": null,
   "metadata": {},
   "outputs": [],
   "source": [
    "lv.to_vtk(\"test_cy_stress.vtk\")"
   ]
  },
  {
   "cell_type": "code",
   "execution_count": null,
   "metadata": {},
   "outputs": [],
   "source": [
    "lv.states.get_spk_data(spks[1], \"effective_cylindrical_stress\")"
   ]
  }
 ],
 "metadata": {
  "kernelspec": {
   "display_name": "Python 3.9.7 ('project_heart')",
   "language": "python",
   "name": "python3"
  },
  "language_info": {
   "codemirror_mode": {
    "name": "ipython",
    "version": 3
   },
   "file_extension": ".py",
   "mimetype": "text/x-python",
   "name": "python",
   "nbconvert_exporter": "python",
   "pygments_lexer": "ipython3",
   "version": "3.9.7"
  },
  "orig_nbformat": 4,
  "vscode": {
   "interpreter": {
    "hash": "a4b270fe5129ef310552b5197d637a230d47119f1e46f0b92ff32b1c5f5c5425"
   }
  }
 },
 "nbformat": 4,
 "nbformat_minor": 2
}
