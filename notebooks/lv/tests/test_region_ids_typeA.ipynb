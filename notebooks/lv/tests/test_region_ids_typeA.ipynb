{
 "cells": [
  {
   "cell_type": "code",
   "execution_count": 1,
   "metadata": {},
   "outputs": [],
   "source": [
    "from project_heart.lv import LV\n",
    "import numpy as np\n",
    "import pyvista as pv\n",
    "pv.set_jupyter_backend(\"pythreejs\")\n",
    "\n",
    "import os\n",
    "from pathlib import Path\n",
    "\n",
    "from project_heart.enums import *\n",
    "import logging\n",
    "\n",
    "float_formatter = \"{:.5f}\".format\n",
    "np.set_printoptions(formatter={'float_kind':float_formatter})"
   ]
  },
  {
   "cell_type": "code",
   "execution_count": 2,
   "metadata": {},
   "outputs": [],
   "source": [
    "filepath = Path(\"../sample_files/lvhexmesh_typeA.vtk\")\n",
    "lv = LV.from_file(filepath)\n",
    "lv.set_geo_type(geo_type=LV_GEO_TYPES.TYPE_A)"
   ]
  },
  {
   "cell_type": "code",
   "execution_count": 3,
   "metadata": {},
   "outputs": [
    {
     "name": "stderr",
     "output_type": "stream",
     "text": [
      "DEBUG:LV_RegionIdentifier.identify_base_and_apex_regions:Starting identification of base and apex regions.\n",
      "DEBUG:LV_RegionIdentifier.identify_base_and_apex_regions:Perfoming kmeans to find LV halves\n",
      "DEBUG:LV_RegionIdentifier.identify_base_and_apex_regions:kcenters: [[-5.08888 3.98928 29.41468]\n",
      " [-2.83031 -4.02450 70.32522]]\n",
      "DEBUG:LV_RegionIdentifier.identify_base_and_apex_regions:Estimating apex and base iteractively.\n",
      "DEBUG:LV_RegionIdentifier.identify_base_and_apex_regions:apex: [-4.36783 1.17838 4.86972]\n",
      "DEBUG:LV_RegionIdentifier.identify_base_and_apex_regions:base: [-1.75157 -2.62973 81.46829]\n",
      "DEBUG:LV_RegionIdentifier.identify_base_and_apex_regions:len(est_apex_region): 1116\n",
      "DEBUG:LV_RegionIdentifier.identify_base_and_apex_regions:len(est_base_region): 6712\n"
     ]
    },
    {
     "data": {
      "text/plain": [
       "(pyvista_ndarray([0.00000, 0.00000, 0.00000, ..., 0.00000, 0.00000,\n",
       "                  0.00000]),\n",
       " pyvista_ndarray([0.00000, 0.00000, 0.00000, ..., 0.00000, 0.00000,\n",
       "                  0.00000]))"
      ]
     },
     "execution_count": 3,
     "metadata": {},
     "output_type": "execute_result"
    }
   ],
   "source": [
    "lv.identify_est_base_and_apex_regions(log_level=logging.DEBUG, n=1, ql=0.1, qh=0.7)"
   ]
  },
  {
   "cell_type": "code",
   "execution_count": 4,
   "metadata": {},
   "outputs": [
    {
     "data": {
      "application/vnd.jupyter.widget-view+json": {
       "model_id": "7979509a103740aeb26d6727ee06a181",
       "version_major": 2,
       "version_minor": 0
      },
      "text/plain": [
       "Renderer(camera=PerspectiveCamera(aspect=1.5, children=(DirectionalLight(color='#fefefe', position=(49999.9999…"
      ]
     },
     "metadata": {},
     "output_type": "display_data"
    }
   ],
   "source": [
    "lv.plot(\"surface\", \n",
    "        scalars=LV_MESH_DATA.APEX_BASE_EST,\n",
    "        # container=\"points\",\n",
    "        show_edges=True,\n",
    "        categorical=True,\n",
    "        split_sharp_edges=True,\n",
    "        smooth_shading=False,\n",
    "        pretty=False,\n",
    "        )"
   ]
  },
  {
   "cell_type": "code",
   "execution_count": 5,
   "metadata": {},
   "outputs": [
    {
     "name": "stderr",
     "output_type": "stream",
     "text": [
      "DEBUG:LV_RegionIdentifier.identify_epi_endo_regions:Starting identification of endo and epi regions for ideal geometry.\n",
      "DEBUG:LV_RegionIdentifier.identify_epi_endo_regions:Using reference point: [-2.92074 -2.12572 47.76660]\n",
      "DEBUG:LV_RegionIdentifier.identify_epi_endo_regions:Number of endo ids found: 10418 (47.56%)\n",
      "DEBUG:LV_RegionIdentifier.identify_epi_endo_regions:Number of epi ids found: 11488 (52.44%)\n"
     ]
    },
    {
     "data": {
      "text/plain": [
       "(pyvista_ndarray([1.00000, 1.00000, 1.00000, ..., 2.00000, 1.00000,\n",
       "                  2.00000]),\n",
       " pyvista_ndarray([1.00000, 1.00000, 1.00000, ..., 0.00000, 0.00000,\n",
       "                  2.00000]))"
      ]
     },
     "execution_count": 5,
     "metadata": {},
     "output_type": "execute_result"
    }
   ],
   "source": [
    "lv.identify_epi_endo_regions(log_level=logging.DEBUG, threshold=85)"
   ]
  },
  {
   "cell_type": "code",
   "execution_count": 6,
   "metadata": {},
   "outputs": [
    {
     "data": {
      "application/vnd.jupyter.widget-view+json": {
       "model_id": "f7e198baf03c4feaa8628eb6b2b72be4",
       "version_major": 2,
       "version_minor": 0
      },
      "text/plain": [
       "Renderer(camera=PerspectiveCamera(aspect=1.5, children=(DirectionalLight(color='#fefefe', position=(49999.9999…"
      ]
     },
     "metadata": {},
     "output_type": "display_data"
    }
   ],
   "source": [
    "lv.plot(\"surface\", \n",
    "        scalars=LV_MESH_DATA.EPI_ENDO,\n",
    "        # container=\"points\",\n",
    "        show_edges=True,\n",
    "        categorical=True,\n",
    "        split_sharp_edges=True,\n",
    "        smooth_shading=False,\n",
    "        pretty=False,\n",
    "        cmap=\"jet\"\n",
    "        )"
   ]
  },
  {
   "cell_type": "code",
   "execution_count": 7,
   "metadata": {},
   "outputs": [
    {
     "name": "stderr",
     "output_type": "stream",
     "text": [
      "DEBUG:LV_RegionIdentifier.identify_base_region_typeA:Starting identification of base region for 'type A' geometry.\n",
      "DEBUG:LV_RegionIdentifier.identify_base_region_typeA:Number of edge points found: 124\n",
      "DEBUG:LV_RegionIdentifier.identify_base_region_typeA:est_base: [2.28129 4.58711 86.79994]\n",
      "DEBUG:LV_RegionIdentifier.identify_base_region_typeA:est_radius: 26.159865814348894\n",
      "DEBUG:LV_RegionIdentifier.identify_base_region_typeA:Selecting nodes based on distance from est_base.\n",
      "DEBUG:LV_RegionIdentifier.identify_base_region_typeA:number of indexed found at 'br=1.25' from 'est_radius*br=32.69983226793612': 5565\n",
      "DEBUG:LV_RegionIdentifier.identify_base_region_typeA:Filtering selection based on surface normals.\n",
      "DEBUG:LV_RegionIdentifier.identify_base_region_typeA:Number of ioi found: 4462\n",
      "DEBUG:LV_RegionIdentifier.identify_base_region_typeA:Filtering selection based on surface endo region (no overlap).\n",
      "DEBUG:LV_RegionIdentifier.identify_base_region_typeA:Number of ioi found: 1087\n"
     ]
    }
   ],
   "source": [
    "lv.identify_base_region_typeA(log_level=logging.DEBUG)"
   ]
  },
  {
   "cell_type": "code",
   "execution_count": 8,
   "metadata": {},
   "outputs": [
    {
     "name": "stderr",
     "output_type": "stream",
     "text": [
      "INFO:LV_RegionIdentifier.identify_regions_typeA:Identifying regions from 'type A' geometry.\n",
      "DEBUG:LV_RegionIdentifier.identify_base_and_apex_regions:Starting identification of base and apex regions.\n",
      "DEBUG:LV_RegionIdentifier.identify_base_and_apex_regions:Perfoming kmeans to find LV halves\n",
      "DEBUG:LV_RegionIdentifier.identify_base_and_apex_regions:kcenters: [[-5.08888 3.98928 29.41468]\n",
      " [-2.83031 -4.02450 70.32522]]\n",
      "DEBUG:LV_RegionIdentifier.identify_base_and_apex_regions:Estimating apex and base iteractively.\n",
      "DEBUG:LV_RegionIdentifier.identify_base_and_apex_regions:apex: [-4.36783 1.17838 4.86972]\n",
      "DEBUG:LV_RegionIdentifier.identify_base_and_apex_regions:base: [-1.75157 -2.62973 81.46829]\n",
      "DEBUG:LV_RegionIdentifier.identify_base_and_apex_regions:len(est_apex_region): 1116\n",
      "DEBUG:LV_RegionIdentifier.identify_base_and_apex_regions:len(est_base_region): 6712\n",
      "DEBUG:LV_RegionIdentifier.identify_epi_endo_regions:Starting identification of endo and epi regions for ideal geometry.\n",
      "DEBUG:LV_RegionIdentifier.identify_epi_endo_regions:Using reference point: [-2.92074 -2.12572 47.76660]\n",
      "DEBUG:LV_RegionIdentifier.identify_epi_endo_regions:Number of endo ids found: 10418 (47.56%)\n",
      "DEBUG:LV_RegionIdentifier.identify_epi_endo_regions:Number of epi ids found: 11488 (52.44%)\n",
      "DEBUG:LV_RegionIdentifier.identify_base_region_typeA:Starting identification of base region for 'type A' geometry.\n",
      "DEBUG:LV_RegionIdentifier.identify_base_region_typeA:Number of edge points found: 124\n",
      "DEBUG:LV_RegionIdentifier.identify_base_region_typeA:est_base: [2.28129 4.58711 86.79994]\n",
      "DEBUG:LV_RegionIdentifier.identify_base_region_typeA:est_radius: 26.159865814348894\n",
      "DEBUG:LV_RegionIdentifier.identify_base_region_typeA:Selecting nodes based on distance from est_base.\n",
      "DEBUG:LV_RegionIdentifier.identify_base_region_typeA:number of indexed found at 'br=1.25' from 'est_radius*br=32.69983226793612': 5565\n",
      "DEBUG:LV_RegionIdentifier.identify_base_region_typeA:Filtering selection based on surface normals.\n",
      "DEBUG:LV_RegionIdentifier.identify_base_region_typeA:Number of ioi found: 4462\n",
      "DEBUG:LV_RegionIdentifier.identify_base_region_typeA:Filtering selection based on surface endo region (no overlap).\n",
      "DEBUG:LV_RegionIdentifier.identify_base_region_typeA:Number of ioi found: 1087\n",
      "INFO:LV_RegionIdentifier.identify_endo_epi_base_borders_from_nodesets:len(endo_base): 487\n",
      "INFO:LV_RegionIdentifier.identify_endo_epi_base_borders_from_nodesets:len(epi_base): 507\n",
      "DEBUG:LV_RegionIdentifier.identify_regions_typeA:base_ref: [2.60005 2.05124 80.34848]\n",
      "DEBUG:LV.compute_apex_from_base_vn:using base_ref=[2.60005 2.05124 80.34848]\n",
      "DEBUG:LV.compute_apex_from_base_vn:Using nodes from nodeset: 1\n",
      "DEBUG:LV.compute_apex_from_base_vn:Apex id: 1 -> [0.83506 0.00712 4.03908]\n",
      "DEBUG:LV.compute_apex_from_base_vn:Number of nodes close to apex: 1\n",
      "DEBUG:LV.compute_apex_from_base_vn:Apex: [1.02285 -0.16208 5.51910]\n"
     ]
    }
   ],
   "source": [
    "lv.identify_regions_typeA(log_level=logging.DEBUG)"
   ]
  },
  {
   "cell_type": "code",
   "execution_count": 10,
   "metadata": {},
   "outputs": [
    {
     "data": {
      "application/vnd.jupyter.widget-view+json": {
       "model_id": "3571ac276d324b26b4a8d8322b27d675",
       "version_major": 2,
       "version_minor": 0
      },
      "text/plain": [
       "Renderer(camera=PerspectiveCamera(aspect=1.5, children=(DirectionalLight(color='#fefefe', position=(49999.9999…"
      ]
     },
     "metadata": {},
     "output_type": "display_data"
    }
   ],
   "source": [
    "lv.plot(\"surface\", \n",
    "        scalars=LV_MESH_DATA.SURFS_DETAILED,\n",
    "        # container=\"points\",\n",
    "        show_edges=True,\n",
    "        categorical=True,\n",
    "        split_sharp_edges=True,\n",
    "        smooth_shading=False,\n",
    "        pretty=False,\n",
    "        cmap=\"jet\",\n",
    "        vnodes=[[lv.VIRTUAL_NODES.BASE, {\"color\":\"red\"}], [lv.VIRTUAL_NODES.APEX, {\"color\":\"green\"}] ]\n",
    "        )"
   ]
  }
 ],
 "metadata": {
  "interpreter": {
   "hash": "7560a9cd216f842edfabfecb1a26d850ed8addbd21cd19495bdf94e4a856eb4d"
  },
  "kernelspec": {
   "display_name": "Python 3.9.12 ('base')",
   "language": "python",
   "name": "python3"
  },
  "language_info": {
   "codemirror_mode": {
    "name": "ipython",
    "version": 3
   },
   "file_extension": ".py",
   "mimetype": "text/x-python",
   "name": "python",
   "nbconvert_exporter": "python",
   "pygments_lexer": "ipython3",
   "version": "3.9.12"
  },
  "orig_nbformat": 4
 },
 "nbformat": 4,
 "nbformat_minor": 2
}
