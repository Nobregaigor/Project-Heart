{
 "cells": [
  {
   "cell_type": "code",
   "execution_count": 1,
   "metadata": {},
   "outputs": [],
   "source": [
    "from project_heart.lv import LV\n",
    "import numpy as np\n",
    "import pyvista as pv\n",
    "# import project_heart as ph\n",
    "from project_heart.modules.geometry import Geometry\n",
    "pv.set_jupyter_backend(\"pythreejs\")\n",
    "\n",
    "import os\n",
    "from pathlib import Path"
   ]
  },
  {
   "cell_type": "code",
   "execution_count": 2,
   "metadata": {},
   "outputs": [],
   "source": [
    "from project_heart.enums import *"
   ]
  },
  {
   "cell_type": "code",
   "execution_count": 3,
   "metadata": {},
   "outputs": [
    {
     "data": {
      "application/vnd.jupyter.widget-view+json": {
       "model_id": "4c292541c63b49d99dc54037f4491b4b",
       "version_major": 2,
       "version_minor": 0
      },
      "text/plain": [
       "Renderer(camera=PerspectiveCamera(aspect=1.3333333333333333, children=(DirectionalLight(color='#fefefe', posit…"
      ]
     },
     "metadata": {},
     "output_type": "display_data"
    }
   ],
   "source": [
    "filepath = Path(\"../sample_files/lvhexmesh.vtk\")\n",
    "lv = LV.from_pyvista_read(filepath)\n",
    "lv.plot(show_edges=True)"
   ]
  },
  {
   "cell_type": "code",
   "execution_count": 4,
   "metadata": {},
   "outputs": [],
   "source": [
    "lv.identify_surfaces(\n",
    "  endo_epi_args=dict(threshold=90.0),\n",
    "  apex_base_args=dict(ab_ql=0.04, ab_qh=0.69),\n",
    "  aortic_mitral_args=dict(a1=0.4,\n",
    "                          a2=0.5,\n",
    "                          a3=0.3,\n",
    "                          a4=75,\n",
    "                          a5=135,\n",
    "                          \n",
    "                          m1=0.17,\n",
    "                          m2=0.02,\n",
    "                          m3=0.07,\n",
    "                          m4=0.333\n",
    "                          )\n",
    ")"
   ]
  },
  {
   "cell_type": "code",
   "execution_count": 5,
   "metadata": {},
   "outputs": [
    {
     "data": {
      "application/vnd.jupyter.widget-view+json": {
       "model_id": "4846012883ec43cfa662d288cb9baf7c",
       "version_major": 2,
       "version_minor": 0
      },
      "text/plain": [
       "Renderer(camera=PerspectiveCamera(aspect=1.3333333333333333, children=(DirectionalLight(color='#fefefe', posit…"
      ]
     },
     "metadata": {},
     "output_type": "display_data"
    }
   ],
   "source": [
    "lv.plot(\"surface\", categories=LV_MESH_DATA.SURFS.value, \n",
    "        vnodes=[\n",
    "          (LV_VIRTUAL_NODES.MITRAL, \"green\"),\n",
    "          (LV_VIRTUAL_NODES.AORTIC, \"red\"),\n",
    "          (LV_VIRTUAL_NODES.AORTIC_BORDER, \"purple\"),\n",
    "          ],\n",
    "        cmap=\"tab20c\")"
   ]
  },
  {
   "cell_type": "code",
   "execution_count": 12,
   "metadata": {},
   "outputs": [
    {
     "data": {
      "application/vnd.jupyter.widget-view+json": {
       "model_id": "85003cffb2dd44ce9fc559ffe01fc02d",
       "version_major": 2,
       "version_minor": 0
      },
      "text/plain": [
       "Renderer(camera=PerspectiveCamera(aspect=1.3333333333333333, children=(DirectionalLight(color='#fefefe', posit…"
      ]
     },
     "metadata": {},
     "output_type": "display_data"
    }
   ],
   "source": [
    "lv._surface_mesh.set_active_scalars(LV_MESH_DATA.LV_APEX_BASE_REGIONS_ENDO_EPI.value)\n",
    "lv.plot(\"surface\", scalars=LV_MESH_DATA.LV_APEX_BASE_REGIONS_ENDO_EPI.value, \n",
    "        cmap=\"tab10\")"
   ]
  },
  {
   "cell_type": "code",
   "execution_count": 7,
   "metadata": {},
   "outputs": [],
   "source": [
    "aortic_bc = lv.create_spring_rim_bc(LV_SURFS.BORDER_AORTIC.value,\n",
    "                                    dist_from_c=5.0,\n",
    "                                    r_alpha=0.7)\n",
    "mitral_bc = lv.create_spring_rim_bc(LV_SURFS.BORDER_MITRAL.value,\n",
    "                                    dist_from_c=5.0,\n",
    "                                    r_alpha=1.0)\n",
    "\n",
    "aortic_epi_bc = lv.create_spring_rim_bc(LV_SURFS.EPI_AORTIC.value,\n",
    "                                    dist_from_c=0.0,\n",
    "                                    height=3.0,\n",
    "                                    r_alpha=1.5)"
   ]
  },
  {
   "cell_type": "code",
   "execution_count": 8,
   "metadata": {},
   "outputs": [],
   "source": [
    "atr_rim_string_lines = lv.get_springs_pts_for_plot(\n",
    "  lv.points(mask=lv.get_nodeset(aortic_bc[LV_RIM.REF_NODESET.value])),\n",
    "  aortic_bc[LV_RIM.NODES.value],\n",
    "  aortic_bc[LV_RIM.RELATIONS.value], \n",
    "  1\n",
    "  )\n",
    "mtr_rim_string_lines = lv.get_springs_pts_for_plot(\n",
    "  lv.points(mask=lv.get_nodeset(mitral_bc[LV_RIM.REF_NODESET.value])),\n",
    "  mitral_bc[LV_RIM.NODES.value],\n",
    "  mitral_bc[LV_RIM.RELATIONS.value], \n",
    "  1\n",
    "  )\n",
    "\n",
    "atr_epi_rim_string_lines = lv.get_springs_pts_for_plot(\n",
    "  lv.points(mask=lv.get_nodeset(aortic_epi_bc[LV_RIM.REF_NODESET.value])),\n",
    "  aortic_epi_bc[LV_RIM.NODES.value],\n",
    "  aortic_epi_bc[LV_RIM.RELATIONS.value], \n",
    "  1\n",
    "  )"
   ]
  },
  {
   "cell_type": "code",
   "execution_count": 9,
   "metadata": {},
   "outputs": [
    {
     "data": {
      "application/vnd.jupyter.widget-view+json": {
       "model_id": "b43a51a8ac74461b8e6a90cf5ea51c36",
       "version_major": 2,
       "version_minor": 0
      },
      "text/plain": [
       "Renderer(camera=PerspectiveCamera(aspect=1.3333333333333333, children=(DirectionalLight(color='#fefefe', posit…"
      ]
     },
     "metadata": {},
     "output_type": "display_data"
    }
   ],
   "source": [
    "plotter = pv.Plotter(lighting='three lights')\n",
    "plotter.background_color = 'w'\n",
    "plotter.enable_anti_aliasing()\n",
    "plotter.add_points(lv.get_virtual_node(\"MITRAL\"), color=\"green\", point_size=300)\n",
    "plotter.add_points(lv.get_virtual_node(\"AORTIC\"), color=\"red\", point_size=300)\n",
    "plotter.add_points(aortic_bc[LV_RIM.NODES.value], color=\"red\", point_size=300)\n",
    "plotter.add_points(aortic_bc[LV_RIM.CENTER.value], color=\"red\", point_size=300)\n",
    "\n",
    "plotter.add_points(mitral_bc[LV_RIM.NODES.value], color=\"green\", point_size=300)\n",
    "plotter.add_points(mitral_bc[LV_RIM.CENTER.value], color=\"green\", point_size=300)\n",
    "\n",
    "plotter.add_mesh(atr_rim_string_lines, color=\"red\", opacity=0.5, show_edges=False)\n",
    "plotter.add_mesh(mtr_rim_string_lines, color=\"green\", opacity=0.5, show_edges=False)\n",
    "\n",
    "plotter.add_points(aortic_epi_bc[LV_RIM.NODES.value], color=\"pink\", point_size=300)\n",
    "plotter.add_mesh(atr_epi_rim_string_lines, color=\"pink\", opacity=0.8, show_edges=False)\n",
    "\n",
    "\n",
    "plotter.add_mesh(lv.mesh, \n",
    "                  scalars=\"LV_SURFS\", \n",
    "                  cmap=\"tab20\", \n",
    "                  opacity=1.0, \n",
    "                  show_edges=False,\n",
    "                  ambient=0.2, \n",
    "                  diffuse=0.5, \n",
    "                  specular=0.5, \n",
    "                  specular_power=90,\n",
    "                  #  smooth_shading=True,\n",
    "                  )\n",
    "plotter.enable_shadows()\n",
    "plotter.show()"
   ]
  },
  {
   "cell_type": "code",
   "execution_count": 10,
   "metadata": {},
   "outputs": [
    {
     "data": {
      "text/plain": [
       "array([[    1,     2,     0],\n",
       "       [    3,     0,     2],\n",
       "       [    5,     0,     4],\n",
       "       ...,\n",
       "       [58425, 58422, 62119],\n",
       "       [58400, 25990, 58407],\n",
       "       [58407, 25990, 25993]], dtype=int64)"
      ]
     },
     "execution_count": 10,
     "metadata": {},
     "output_type": "execute_result"
    }
   ],
   "source": [
    "surf = lv.extract_surface_mesh().triangulate()\n",
    "surf = surf.cast_to_unstructured_grid()\n",
    "surf.points\n",
    "surf.cells_dict[5]"
   ]
  },
  {
   "cell_type": "code",
   "execution_count": 11,
   "metadata": {},
   "outputs": [],
   "source": [
    "np.savetxt(\"nodes.csv\", surf.points, delimiter=\",\")\n",
    "np.savetxt(\"elems.csv\", surf.cells_dict[5], delimiter=\",\", fmt='%.18e')\n"
   ]
  }
 ],
 "metadata": {
  "interpreter": {
   "hash": "364647f439eeb51cea9fa1ad47f7b03a5a9ed5157a0ffe2dd43bcec2d09df37e"
  },
  "kernelspec": {
   "display_name": "Python 3.9.7 (conda)",
   "language": "python",
   "name": "python3"
  },
  "language_info": {
   "codemirror_mode": {
    "name": "ipython",
    "version": 3
   },
   "file_extension": ".py",
   "mimetype": "text/x-python",
   "name": "python",
   "nbconvert_exporter": "python",
   "pygments_lexer": "ipython3",
   "version": "3.9.7"
  },
  "orig_nbformat": 4
 },
 "nbformat": 4,
 "nbformat_minor": 2
}
