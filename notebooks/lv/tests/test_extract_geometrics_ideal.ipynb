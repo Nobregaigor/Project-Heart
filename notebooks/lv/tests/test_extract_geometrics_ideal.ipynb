{
 "cells": [
  {
   "cell_type": "code",
   "execution_count": 1,
   "metadata": {},
   "outputs": [],
   "source": [
    "from project_heart.lv import LV\n",
    "import numpy as np\n",
    "import pyvista as pv\n",
    "pv.set_jupyter_backend(\"pythreejs\")\n",
    "\n",
    "import os\n",
    "from pathlib import Path\n",
    "\n",
    "from project_heart.enums import *"
   ]
  },
  {
   "cell_type": "code",
   "execution_count": 2,
   "metadata": {},
   "outputs": [
    {
     "data": {
      "application/vnd.jupyter.widget-view+json": {
       "model_id": "96d61327d26c4bf29903df499e751568",
       "version_major": 2,
       "version_minor": 0
      },
      "text/plain": [
       "Renderer(camera=PerspectiveCamera(aspect=1.5, children=(DirectionalLight(position=(50000.000000000015, 70710.6…"
      ]
     },
     "metadata": {},
     "output_type": "display_data"
    }
   ],
   "source": [
    "from project_heart.examples import get_lv_ideal\n",
    "lv = get_lv_ideal()\n",
    "lv.plot()"
   ]
  },
  {
   "cell_type": "markdown",
   "metadata": {},
   "source": [
    "# Metrics"
   ]
  },
  {
   "cell_type": "code",
   "execution_count": 3,
   "metadata": {},
   "outputs": [
    {
     "name": "stderr",
     "output_type": "stream",
     "text": [
      "INFO:LV:Extracting volume.\n",
      "INFO:LV:Extracting longitudinal_distance.\n",
      "INFO:LV.BaseMetricsComputations:State key added:'longitudinal_distance_1'\n",
      "INFO:LV.BaseMetricsComputations:State key added:'longitudinal_distance_2'\n",
      "INFO:LV:Extracting radial_distance.\n",
      "INFO:LV.BaseMetricsComputations:Computing metric 'LV_STATES.RADIAL_DISTANCE'\n",
      "INFO:LV:Extracting radial_length.\n",
      "INFO:LV.BaseMetricsComputations:Computing metric 'LV_STATES.RADIAL_LENGTH'\n",
      "INFO:LV:Extracting wall_thickness.\n",
      "INFO:LV.BaseMetricsComputations:Computing metric 'LV_STATES.WALL_THICKNESS'\n",
      "INFO:LV:Extracting longitudinal_length.\n",
      "INFO:LV.BaseMetricsComputations:Computing metric 'LV_STATES.LONG_LENGTH'\n",
      "INFO:LV:Extracting global_longitudinal_length.\n",
      "INFO:LV.BaseMetricsComputations:Computing metric 'LV_STATES.GLOBAL_LONGITUDINAL_LENGTH'\n",
      "INFO:LV:Extracting circumferential_length.\n",
      "INFO:LV.BaseMetricsComputations:Computing metric 'LV_STATES.CIRC_LENGTH'\n",
      "INFO:LV:Extracting global_circumferential_length.\n",
      "INFO:LV.BaseMetricsComputations:Computing metric 'LV_STATES.GLOBAL_CIRCUMFERENTIAL_LENGTH'\n",
      "INFO:LV:Extracting angle_rotation.\n",
      "INFO:LV.BaseMetricsComputations:Computing metric 'LV_STATES.ROTATION'\n"
     ]
    }
   ],
   "source": [
    "df = lv.extract_geometrics({\n",
    "        \"volume\":{},\n",
    "        \"longitudinal_distance\": {\n",
    "            \"nodesets\": {\"ENDO\", \"EPI\"},\n",
    "            },\n",
    "        \"radial_distance\": {\n",
    "            \"spks\": {\"spk_collection\":\"circ-6\"},\n",
    "            \"approach\":\"moving_vector\",\n",
    "            \"reduce_by\":{\"group\", \"name\"},\n",
    "            },\n",
    "        \"radial_length\": {\n",
    "            \"spks\": {\"spk_collection\":\"circ-6\"},\n",
    "            \"approach\":\"moving_centers\",\n",
    "            \"reduce_by\":{\"group\", \"name\"},\n",
    "            },\n",
    "        \"wall_thickness\": {\n",
    "            \"endo_spks\": {\"spk_group\":\"endo\", \"spk_collection\":\"circ-6\"},\n",
    "            \"epi_spks\": {\"spk_group\":\"epi\", \"spk_collection\":\"circ-6\"},\n",
    "            \"approach\":\"radial_distance\",\n",
    "            \"reduce_by\":{\"name\"},\n",
    "            },\n",
    "        \"longitudinal_length\": {\n",
    "            \"spks\": {\"spk_collection\":\"long-6\"},\n",
    "            \"approach\":\"k_ids\",\n",
    "            \"reduce_by\":{\"subset\"},\n",
    "            \"merge_subset\":{\n",
    "                    5: 0, \n",
    "                    4: 1, \n",
    "                    3: 2\n",
    "                },\n",
    "            },\n",
    "        \"global_longitudinal_length\": {\n",
    "            \"spks\": {\"spk_collection\":\"long-1\"},\n",
    "            \"approach\":\"k_ids\",\n",
    "            \"reduce_by\":{\"group\"},\n",
    "            },\n",
    "        \"circumferential_length\": {\n",
    "            \"spks\": {\"spk_collection\":\"circ-6\"},\n",
    "            \"reduce_by\":{\"group\"},\n",
    "            },\n",
    "        \"global_circumferential_length\": {\n",
    "            \"spks\": {\"spk_collection\":\"circ-1\"},\n",
    "            \"reduce_by\":{\"group\"},\n",
    "            },\n",
    "        \"angle_rotation\": {\n",
    "            \"spks\": {\"spk_collection\":\"circ-6\"},\n",
    "            \"reduce_by\":{\"group\", \"name\"},\n",
    "            }\n",
    "        }\n",
    "    )"
   ]
  }
 ],
 "metadata": {
  "interpreter": {
   "hash": "a4b270fe5129ef310552b5197d637a230d47119f1e46f0b92ff32b1c5f5c5425"
  },
  "kernelspec": {
   "display_name": "Python 3.9.7 ('project_heart')",
   "language": "python",
   "name": "python3"
  },
  "language_info": {
   "codemirror_mode": {
    "name": "ipython",
    "version": 3
   },
   "file_extension": ".py",
   "mimetype": "text/x-python",
   "name": "python",
   "nbconvert_exporter": "python",
   "pygments_lexer": "ipython3",
   "version": "3.9.7"
  },
  "orig_nbformat": 4
 },
 "nbformat": 4,
 "nbformat_minor": 2
}
