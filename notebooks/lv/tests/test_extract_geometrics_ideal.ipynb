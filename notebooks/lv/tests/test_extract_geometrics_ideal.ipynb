{
 "cells": [
  {
   "cell_type": "code",
   "execution_count": null,
   "metadata": {},
   "outputs": [],
   "source": [
    "from project_heart.lv import LV\n",
    "import numpy as np\n",
    "import pyvista as pv\n",
    "pv.set_jupyter_backend(\"pythreejs\")\n",
    "\n",
    "import os\n",
    "from pathlib import Path\n",
    "\n",
    "from project_heart.enums import *"
   ]
  },
  {
   "cell_type": "code",
   "execution_count": null,
   "metadata": {},
   "outputs": [],
   "source": [
    "filepath = Path(\"C:/Users/igorp/Downloads/0.3_80.00_50.00_LVIDEAL_HEX20.xplt\")\n",
    "# filepath = Path(\"C:/Users/igornobrega/Downloads/0.3_80.00_50.00_LVIDEAL_HEX20.xplt\")"
   ]
  },
  {
   "cell_type": "markdown",
   "metadata": {},
   "source": [
    "# Create speckles"
   ]
  },
  {
   "cell_type": "code",
   "execution_count": null,
   "metadata": {},
   "outputs": [],
   "source": [
    "lv = LV.from_file(filepath)\n",
    "lv.identify_regions(LV_GEO_TYPES.IDEAL,\n",
    "    apex_base_args={\"ab_ql\":0.03, \"ab_qh\":0.90},\n",
    "    endo_epi_args={\"threshold\":85,})\n",
    "lv.plot(\"mesh\", \n",
    "        scalars=LV_MESH_DATA.SURFS,\n",
    "        container=\"points\",\n",
    "        show_edges=True,\n",
    "        categorical=True,\n",
    "        split_sharp_edges=True,\n",
    "        smooth_shading=False,\n",
    "        pretty=False,\n",
    "        vnodes=[\n",
    "            (LV_VIRTUAL_NODES.BASE, \"red\"),\n",
    "            (LV_VIRTUAL_NODES.APEX, \"red\")\n",
    "            ],\n",
    "        )"
   ]
  },
  {
   "cell_type": "markdown",
   "metadata": {},
   "source": [
    "Create Longitudinal Speckles"
   ]
  },
  {
   "cell_type": "code",
   "execution_count": null,
   "metadata": {},
   "outputs": [],
   "source": [
    "import json\n",
    "with open('spk_args_ideal.json', 'r') as f:\n",
    "    spks_data = json.load(f)"
   ]
  },
  {
   "cell_type": "code",
   "execution_count": null,
   "metadata": {},
   "outputs": [],
   "source": [
    "lv.create_speckles_from_iterable(spks_data)"
   ]
  },
  {
   "cell_type": "markdown",
   "metadata": {},
   "source": [
    "# Metrics"
   ]
  },
  {
   "cell_type": "code",
   "execution_count": null,
   "metadata": {},
   "outputs": [],
   "source": [
    "lv.extract_geometrics({\n",
    "        \"volume\":{},\n",
    "        \"longitudinal_distance\": {},\n",
    "        \"radius\": {\n",
    "            \"spks\": {\"spk_collection\":\"circ-6\"},\n",
    "            \"reduce_by\":{\"group\", \"name\"},\n",
    "            },\n",
    "        \"wall_thickness\": {\n",
    "            \"endo_spks\": {\"spk_group\":\"endo\", \"spk_collection\":\"circ-6\"},\n",
    "            \"epi_spks\": {\"spk_group\":\"epi\", \"spk_collection\":\"circ-6\"},\n",
    "            \"reduce_by\":{\"name\"},\n",
    "            },\n",
    "        \"longitudinal_length\": {\n",
    "            \"spks\": {\"spk_collection\":\"long-6\"},\n",
    "            \"reduce_by\":{\"group\", \"name\"},\n",
    "            },\n",
    "        \"circumferential_length\": {\n",
    "            \"spks\": {\"spk_collection\":\"circ-6\"},\n",
    "            \"reduce_by\":{\"group\", \"name\"},\n",
    "            },\n",
    "        \"angle_rotation\": {\n",
    "            \"spks\": {\"spk_collection\":\"circ-6\"},\n",
    "            \"reduce_by\":{\"group\", \"name\"},\n",
    "            }\n",
    "        }\n",
    "    )"
   ]
  }
 ],
 "metadata": {
  "interpreter": {
   "hash": "364647f439eeb51cea9fa1ad47f7b03a5a9ed5157a0ffe2dd43bcec2d09df37e"
  },
  "kernelspec": {
   "display_name": "Python 3.9.7 (conda)",
   "language": "python",
   "name": "python3"
  },
  "language_info": {
   "codemirror_mode": {
    "name": "ipython",
    "version": 3
   },
   "file_extension": ".py",
   "mimetype": "text/x-python",
   "name": "python",
   "nbconvert_exporter": "python",
   "pygments_lexer": "ipython3",
   "version": "3.9.7"
  },
  "orig_nbformat": 4
 },
 "nbformat": 4,
 "nbformat_minor": 2
}
