{
 "cells": [
  {
   "cell_type": "code",
   "execution_count": null,
   "metadata": {},
   "outputs": [],
   "source": [
    "from project_heart.lv import LV\n",
    "import numpy as np\n",
    "import pyvista as pv\n",
    "pv.set_jupyter_backend(\"pythreejs\")\n",
    "\n",
    "import os\n",
    "from pathlib import Path\n",
    "\n",
    "from project_heart.enums import *"
   ]
  },
  {
   "cell_type": "code",
   "execution_count": null,
   "metadata": {},
   "outputs": [],
   "source": [
    "from project_heart.examples import get_lv_ideal\n",
    "lv = get_lv_ideal(save_spk_dict=True)\n",
    "# lv.plot()"
   ]
  },
  {
   "cell_type": "code",
   "execution_count": null,
   "metadata": {},
   "outputs": [],
   "source": [
    "from project_heart.examples import get_lv_typeA\n",
    "lv = get_lv_typeA(save_spk_dict=True)\n",
    "lv.plot()"
   ]
  },
  {
   "cell_type": "markdown",
   "metadata": {},
   "source": [
    "# Metrics"
   ]
  },
  {
   "cell_type": "code",
   "execution_count": null,
   "metadata": {},
   "outputs": [],
   "source": [
    "df = lv.extract_geometrics({\n",
    "        \"volume\":{},\n",
    "        \"longitudinal_distance\": {\n",
    "            \"apex_spks\": {\"spk_name\":\"apex\", \"spk_collection\":\"LA\"},\n",
    "            \"base_spks\": {\"spk_name\":\"base\", \"spk_collection\":\"LA\"},\n",
    "            \"approach\":\"centroid\", \n",
    "            \"use_axis_aligment\":False,\n",
    "            \"reduce_by\":[\"group\"]\n",
    "            },\n",
    "        \"radial_distance\": {\n",
    "            \"spks\": {\"spk_collection\":\"circ-6\"},\n",
    "            \"approach\":\"moving_vector\",\n",
    "            \"reduce_by\":{\"group\", \"name\"},\n",
    "            },\n",
    "        \"radial_length\": {\n",
    "            \"spks\": {\"spk_collection\":\"circ-6\"},\n",
    "            \"approach\":\"moving_centers\",\n",
    "            \"reduce_by\":{\"group\", \"name\"},\n",
    "            },\n",
    "        \"wall_thickness\": {\n",
    "            \"endo_spks\": {\"spk_group\":\"endo\", \"spk_collection\":\"circ-6\"},\n",
    "            \"epi_spks\": {\"spk_group\":\"epi\", \"spk_collection\":\"circ-6\"},\n",
    "            \"approach\":\"radial_distance\",\n",
    "            \"reduce_by\":{\"name\"},\n",
    "            },\n",
    "        \"longitudinal_length\": {\n",
    "            \"spks\": {\"spk_collection\":\"long-6\"},\n",
    "            \"approach\":\"k_ids\",\n",
    "            \"reduce_by\":{\"subset\"},\n",
    "            \"merge_subset\":{\n",
    "                    5: 0, \n",
    "                    4: 1, \n",
    "                    3: 2\n",
    "                },\n",
    "            },\n",
    "        \"global_longitudinal_length\": {\n",
    "            \"spks\": {\"spk_collection\":\"long-1\"},\n",
    "            \"approach\":\"k_ids\",\n",
    "            \"reduce_by\":{\"group\"},\n",
    "            },\n",
    "        \"circumferential_length\": {\n",
    "            \"spks\": {\"spk_collection\":\"circ-6\"},\n",
    "            \"reduce_by\":{\"group\"},\n",
    "            },\n",
    "        \"global_circumferential_length\": {\n",
    "            \"spks\": {\"spk_collection\":\"circ-1\"},\n",
    "            \"reduce_by\":{\"group\"},\n",
    "            },\n",
    "        \"angle_rotation\": {\n",
    "            \"spks\": {\"spk_collection\":\"circ-6\"},\n",
    "            \"reduce_by\":{\"group\", \"name\"},\n",
    "            }\n",
    "        }\n",
    "    )"
   ]
  }
 ],
 "metadata": {
  "interpreter": {
   "hash": "a4b270fe5129ef310552b5197d637a230d47119f1e46f0b92ff32b1c5f5c5425"
  },
  "kernelspec": {
   "display_name": "Python 3.9.7 ('project_heart')",
   "language": "python",
   "name": "python3"
  },
  "language_info": {
   "codemirror_mode": {
    "name": "ipython",
    "version": 3
   },
   "file_extension": ".py",
   "mimetype": "text/x-python",
   "name": "python",
   "nbconvert_exporter": "python",
   "pygments_lexer": "ipython3",
   "version": "3.9.7"
  },
  "orig_nbformat": 4
 },
 "nbformat": 4,
 "nbformat_minor": 2
}
