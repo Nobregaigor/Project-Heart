{
 "cells": [
  {
   "cell_type": "code",
   "execution_count": 1,
   "metadata": {},
   "outputs": [],
   "source": [
    "from project_heart.modules.script_handler import ScriptHandler as sh\n",
    "\n",
    "input_data = {\n",
    "    \"input_file\": \"C:/Users/igorp/Downloads/lv_4_coarse.vtk\",\n",
    "    # \"output_file\": \"C:/Users/igorp/Downloads/lv_4_coarse_withfibers.vtk\",\n",
    "    \"output_directory\": \"C:/Users/igorp/HEYHEYHEY\",\n",
    "    \"output_ext\": \".2ef\",\n",
    "    \"output_suffix\": \"mamamia\"\n",
    "\n",
    "    }\n",
    "\n",
    "outputpath = sh.resolve_output_filename(input_data)"
   ]
  },
  {
   "cell_type": "code",
   "execution_count": 4,
   "metadata": {},
   "outputs": [
    {
     "data": {
      "text/plain": [
       "'C:\\\\Users\\\\igorp\\\\HEYHEYHEY\\\\lv_4_coarse_mamamia.vtk'"
      ]
     },
     "execution_count": 4,
     "metadata": {},
     "output_type": "execute_result"
    }
   ],
   "source": [
    "sh.change_ext(outputpath, \".vtk\")"
   ]
  },
  {
   "cell_type": "code",
   "execution_count": 3,
   "metadata": {},
   "outputs": [
    {
     "data": {
      "text/plain": [
       "'C:\\\\Users\\\\igorp\\\\HEYHEYHEY\\\\lv_4_coarse_mamamia.3ef'"
      ]
     },
     "execution_count": 3,
     "metadata": {},
     "output_type": "execute_result"
    }
   ],
   "source": [
    "str(outputpath).replace(\".2ef\", \".3ef\")"
   ]
  }
 ],
 "metadata": {
  "interpreter": {
   "hash": "c2f8aa5e16ee6c7e8331befd86ecfdd5a83e12f61c79db431b06d7a113336c25"
  },
  "kernelspec": {
   "display_name": "Python 3.9.7 ('project_heart')",
   "language": "python",
   "name": "python3"
  },
  "language_info": {
   "codemirror_mode": {
    "name": "ipython",
    "version": 3
   },
   "file_extension": ".py",
   "mimetype": "text/x-python",
   "name": "python",
   "nbconvert_exporter": "python",
   "pygments_lexer": "ipython3",
   "version": "3.9.7"
  },
  "orig_nbformat": 4
 },
 "nbformat": 4,
 "nbformat_minor": 2
}
