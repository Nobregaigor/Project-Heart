{
 "cells": [
  {
   "cell_type": "code",
   "execution_count": 1,
   "metadata": {},
   "outputs": [],
   "source": [
    "from project_heart.lv import LV\n",
    "import numpy as np\n",
    "import pyvista as pv\n",
    "# import project_heart as ph\n",
    "from project_heart.modules.geometry import Geometry\n",
    "pv.set_jupyter_backend(\"pythreejs\")\n",
    "\n",
    "import os\n",
    "from pathlib import Path\n",
    "\n",
    "from project_heart.enums import *"
   ]
  },
  {
   "cell_type": "code",
   "execution_count": 2,
   "metadata": {},
   "outputs": [
    {
     "data": {
      "application/vnd.jupyter.widget-view+json": {
       "model_id": "e85257fd09434f8d98262a9c38eec32d",
       "version_major": 2,
       "version_minor": 0
      },
      "text/plain": [
       "Renderer(camera=PerspectiveCamera(aspect=1.3333333333333333, children=(DirectionalLight(position=(49999.999999…"
      ]
     },
     "metadata": {},
     "output_type": "display_data"
    }
   ],
   "source": [
    "lv = LV.from_pyvista_read(\"../sample_files/lvtetmesh.vtk\")\n",
    "# lv.smooth_surface(n_iter=500)\n",
    "lv.identify_surfaces(\n",
    "  endo_epi_args=dict(threshold=90.0),\n",
    "  apex_base_args=dict(ab_ql=0.04, ab_qh=0.69),\n",
    "  aortic_mitral_args=dict(a1=0.4,\n",
    "                          a2=0.5,\n",
    "                          a3=0.3,\n",
    "                          a4=75,\n",
    "                          a5=130,\n",
    "                          \n",
    "                          m1=0.17,\n",
    "                          m2=0.02,\n",
    "                          m3=0.07,\n",
    "                          m4=0.333\n",
    "                          )\n",
    ")\n",
    "lv.plot(\"surface\", scalars=LV_MESH_DATA.SURFS_DETAILED.value,\n",
    "        cmap=\"tab20_r\")"
   ]
  },
  {
   "cell_type": "code",
   "execution_count": 3,
   "metadata": {},
   "outputs": [],
   "source": [
    "# transform point region ids into cell ids at surface level\n",
    "cellregionIdsSurf = lv.transform_point_data_to_cell_data(LV_MESH_DATA.SURFS_DETAILED.value, surface=True)\n",
    "# combine volumetric mesh with surface mesh\n",
    "mesh = lv.mesh.copy()\n",
    "mesh = mesh.merge(lv.get_surface_mesh())\n",
    "# adjust regions to include both surface and volume (with zeros)\n",
    "cellregionIds = np.hstack((cellregionIdsSurf, np.zeros(mesh.n_cells- len(cellregionIdsSurf))))\n",
    "# add gmsh data\n",
    "mesh.clear_data() # for some reason, no other info is accepted when loading in ldrb\n",
    "mesh.cell_data[\"gmsh:physical\"] = cellregionIds\n",
    "mesh.cell_data[\"gmsh:geometrical\"] = cellregionIds\n",
    "# save using meshio (I did not test other gmsh formats and binary files.)\n",
    "pv.save_meshio(\"../sample_files/lvtetmesh.msh\", mesh, file_format=\"gmsh22\", binary=False)"
   ]
  },
  {
   "cell_type": "code",
   "execution_count": 4,
   "metadata": {},
   "outputs": [],
   "source": [
    "import ldrb"
   ]
  },
  {
   "cell_type": "code",
   "execution_count": 5,
   "metadata": {},
   "outputs": [],
   "source": [
    "# Last argument here is the markers, but these are not used\n",
    "mesh, ffun, _ = ldrb.gmsh2dolfin(\n",
    "    \"../sample_files/lvtetmesh.msh\",\n",
    "    unlink=False,\n",
    ")\n",
    "# Run this first in serial and exit here\n",
    "# exit()"
   ]
  },
  {
   "cell_type": "code",
   "execution_count": 6,
   "metadata": {},
   "outputs": [
    {
     "name": "stdout",
     "output_type": "stream",
     "text": [
      "LV_SURFS.OTHER\n",
      "LV_SURFS.ENDO\n",
      "LV_SURFS.EPI\n",
      "LV_SURFS.ENDO_AORTIC\n",
      "LV_SURFS.EPI_AORTIC\n",
      "LV_SURFS.BORDER_AORTIC\n",
      "LV_SURFS.ENDO_MITRAL\n",
      "LV_SURFS.EPI_MITRAL\n",
      "LV_SURFS.BORDER_MITRAL\n",
      "LV_SURFS.ENDO_AM_INTERCECTION\n",
      "LV_SURFS.EPI_AM_INTERCECTION\n"
     ]
    }
   ],
   "source": [
    "for i in np.unique(lv.mesh.get_array(LV_MESH_DATA.SURFS_DETAILED.value)):\n",
    "  print(LV_SURFS(i))"
   ]
  },
  {
   "cell_type": "code",
   "execution_count": 7,
   "metadata": {},
   "outputs": [],
   "source": [
    "markers = {\n",
    "  \"epi\": LV_SURFS.EPI.value, \n",
    "  \"lv\": LV_SURFS.ENDO.value, \n",
    "  \"base\": LV_SURFS.MITRAL.value\n",
    "  }\n",
    "\n",
    "\n",
    "ffun.array()[ffun.array() == LV_SURFS.EPI_AM_INTERCECTION] = LV_SURFS.EPI.value\n",
    "ffun.array()[ffun.array() == LV_SURFS.EPI_AORTIC] = LV_SURFS.EPI.value\n",
    "ffun.array()[ffun.array() == LV_SURFS.EPI_MITRAL] = LV_SURFS.EPI.value\n",
    "\n",
    "ffun.array()[ffun.array() == LV_SURFS.ENDO_AM_INTERCECTION] = LV_SURFS.ENDO.value\n",
    "ffun.array()[ffun.array() == LV_SURFS.ENDO_AORTIC] = LV_SURFS.ENDO.value\n",
    "ffun.array()[ffun.array() == LV_SURFS.ENDO_MITRAL] = LV_SURFS.ENDO.value\n",
    "\n",
    "ffun.array()[ffun.array() == LV_SURFS.BORDER_AORTIC] = LV_SURFS.MITRAL.value\n",
    "ffun.array()[ffun.array() == LV_SURFS.BORDER_MITRAL] = LV_SURFS.MITRAL.value"
   ]
  },
  {
   "cell_type": "code",
   "execution_count": 8,
   "metadata": {},
   "outputs": [
    {
     "name": "stdout",
     "output_type": "stream",
     "text": [
      "Calculating scalar fields\n",
      "Compute scalar laplacian solutions with the markers: \n",
      "epi: 2\n",
      "lv: 1\n",
      "base: 7\n",
      "  Num vertices: 149636\n",
      "  Num cells: 734930\n",
      "Solving linear variational problem.\n",
      "  Apex coord: (45.82, -26.93, -38.51)\n",
      "Solving linear variational problem.\n",
      "Solving Laplace equation\n",
      " epi = 1, lv = 0\n",
      "Solving linear variational problem.\n",
      " lv = 1, epi = 0\n",
      "Solving linear variational problem.\n",
      "\n",
      "Calculating gradients\n",
      "Compute fiber-sheet system\n",
      "Angles: \n",
      "alpha: \n",
      " endo_lv: 60\n",
      " epi_lv: -60\n",
      " endo_septum: 60\n",
      " epi_septum: -60\n",
      " endo_rv: 60\n",
      " epi_rv: -60\n",
      "beta: \n",
      " endo_lv: 0\n",
      " epi_lv: 0\n",
      " endo_septum: 0\n",
      " epi_septum: 0\n",
      " endo_rv: 0\n",
      " epi_rv: 0\n"
     ]
    }
   ],
   "source": [
    "fiber_space = \"P_1\"\n",
    "\n",
    "fiber, sheet, sheet_normal = ldrb.dolfin_ldrb(\n",
    "    mesh=mesh,\n",
    "    fiber_space=fiber_space,\n",
    "    ffun=ffun,\n",
    "    markers=markers,\n",
    "    alpha_endo_lv=60,  # Fiber angle on the endocardium\n",
    "    alpha_epi_lv=-60,  # Fiber angle on the epicardium\n",
    "    beta_endo_lv=0,  # Sheet angle on the endocardium\n",
    "    beta_epi_lv=0,  # Sheet angle on the epicardium\n",
    ")"
   ]
  },
  {
   "cell_type": "code",
   "execution_count": 9,
   "metadata": {},
   "outputs": [],
   "source": [
    "import dolfin\n",
    "with dolfin.XDMFFile(mesh.mpi_comm(), \"lvtetmesh_fiber.xdmf\") as xdmf:\n",
    "    xdmf.write(fiber)"
   ]
  }
 ],
 "metadata": {
  "interpreter": {
   "hash": "8ae22b74d1ed07c304104d3e01f5ac615fc2cd6d75ca1a6209e5e20e18645583"
  },
  "kernelspec": {
   "display_name": "Python 3.9.7 ('cenv')",
   "language": "python",
   "name": "python3"
  },
  "language_info": {
   "codemirror_mode": {
    "name": "ipython",
    "version": 3
   },
   "file_extension": ".py",
   "mimetype": "text/x-python",
   "name": "python",
   "nbconvert_exporter": "python",
   "pygments_lexer": "ipython3",
   "version": "3.9.11"
  },
  "orig_nbformat": 4
 },
 "nbformat": 4,
 "nbformat_minor": 2
}
