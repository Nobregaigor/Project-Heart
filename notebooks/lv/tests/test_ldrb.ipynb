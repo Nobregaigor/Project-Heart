{
 "cells": [
  {
   "cell_type": "code",
   "execution_count": 1,
   "metadata": {},
   "outputs": [],
   "source": [
    "from project_heart.lv import LV\n",
    "import numpy as np\n",
    "import pyvista as pv\n",
    "# import project_heart as ph\n",
    "from project_heart.modules.geometry import Geometry\n",
    "pv.set_jupyter_backend(\"pythreejs\")\n",
    "\n",
    "import os\n",
    "from pathlib import Path\n",
    "\n",
    "from project_heart.enums import *"
   ]
  },
  {
   "cell_type": "code",
   "execution_count": 2,
   "metadata": {},
   "outputs": [
    {
     "data": {
      "application/vnd.jupyter.widget-view+json": {
       "model_id": "49263bc1e51a4acf87aa63d27b0ee375",
       "version_major": 2,
       "version_minor": 0
      },
      "text/plain": [
       "Renderer(camera=PerspectiveCamera(aspect=1.3333333333333333, children=(DirectionalLight(position=(49999.999999…"
      ]
     },
     "metadata": {},
     "output_type": "display_data"
    }
   ],
   "source": [
    "lv = LV.from_pyvista_read(\"../sample_files/lvtetmesh.vtk\")\n",
    "# lv.smooth_surface(n_iter=500)\n",
    "lv.identify_surfaces(\n",
    "  endo_epi_args=dict(threshold=90.0),\n",
    "  apex_base_args=dict(ab_ql=0.04, ab_qh=0.69),\n",
    "  aortic_mitral_args=dict(a1=0.4,\n",
    "                          a2=0.5,\n",
    "                          a3=0.3,\n",
    "                          a4=75,\n",
    "                          a5=130,\n",
    "                          \n",
    "                          m1=0.17,\n",
    "                          m2=0.02,\n",
    "                          m3=0.07,\n",
    "                          m4=0.333\n",
    "                          )\n",
    ")\n",
    "lv.plot(\"surface\", scalars=LV_MESH_DATA.SURFS_DETAILED.value,\n",
    "        cmap=\"tab20_r\")"
   ]
  },
  {
   "cell_type": "code",
   "execution_count": 3,
   "metadata": {},
   "outputs": [],
   "source": [
    "# transform point region ids into cell ids at surface level\n",
    "cellregionIdsSurf = lv.transform_point_data_to_cell_data(LV_MESH_DATA.SURFS_DETAILED.value, surface=True)\n",
    "# combine volumetric mesh with surface mesh\n",
    "mesh = lv.mesh.copy()\n",
    "mesh = mesh.merge(lv.get_surface_mesh())\n",
    "# adjust regions to include both surface and volume (with zeros)\n",
    "cellregionIds = np.hstack((cellregionIdsSurf, np.zeros(mesh.n_cells- len(cellregionIdsSurf))))\n",
    "# add gmsh data\n",
    "mesh.clear_data() # for some reason, no other info is accepted when loading in ldrb\n",
    "mesh.cell_data[\"gmsh:physical\"] = cellregionIds\n",
    "mesh.cell_data[\"gmsh:geometrical\"] = cellregionIds\n",
    "# save using meshio (I did not test other gmsh formats and binary files.)\n",
    "pv.save_meshio(\"../sample_files/lvtetmesh.msh\", mesh, file_format=\"gmsh22\", binary=False)"
   ]
  },
  {
   "cell_type": "code",
   "execution_count": 4,
   "metadata": {},
   "outputs": [],
   "source": [
    "import ldrb"
   ]
  },
  {
   "cell_type": "code",
   "execution_count": 5,
   "metadata": {},
   "outputs": [],
   "source": [
    "# Last argument here is the markers, but these are not used\n",
    "mesh, ffun, _ = ldrb.gmsh2dolfin(\n",
    "    \"../sample_files/lvtetmesh.msh\",\n",
    "    unlink=False,\n",
    ")\n",
    "# Run this first in serial and exit here\n",
    "# exit()"
   ]
  },
  {
   "cell_type": "code",
   "execution_count": 25,
   "metadata": {},
   "outputs": [
    {
     "data": {
      "text/plain": [
       "pyvista_ndarray([[ -3.87907733,  12.52942467, -19.55683257],\n",
       "                 [ -3.01636916,  13.5763117 , -19.82178605],\n",
       "                 [ -2.7924061 ,  12.583106  , -19.41994991],\n",
       "                 ...,\n",
       "                 [ 29.51456854, -38.22710626, -23.7777292 ],\n",
       "                 [ 23.35306941, -25.0733027 ,  15.30362608],\n",
       "                 [ 21.7924402 , -15.76549157, -45.14888886]])"
      ]
     },
     "execution_count": 25,
     "metadata": {},
     "output_type": "execute_result"
    }
   ],
   "source": [
    "lv.mesh.points"
   ]
  },
  {
   "cell_type": "code",
   "execution_count": 16,
   "metadata": {},
   "outputs": [
    {
     "data": {
      "text/plain": [
       "array([[ 38.11470565, -12.63239147, -38.03530351],\n",
       "       [ 38.1706562 , -13.23636135, -38.21822321],\n",
       "       [ 38.65349265, -12.76732667, -37.86798067],\n",
       "       ...,\n",
       "       [ 37.36369972,  31.72167606,   5.04356019],\n",
       "       [ 23.99444147, -29.0357094 ,   0.56204273],\n",
       "       [  0.82010905,  11.72971847, -24.40812559]])"
      ]
     },
     "execution_count": 16,
     "metadata": {},
     "output_type": "execute_result"
    }
   ],
   "source": [
    "mesh.coordinates()"
   ]
  },
  {
   "cell_type": "code",
   "execution_count": 44,
   "metadata": {},
   "outputs": [],
   "source": [
    "from project_heart.utils.cloud_ops import relate_closest"
   ]
  },
  {
   "cell_type": "code",
   "execution_count": 55,
   "metadata": {},
   "outputs": [
    {
     "data": {
      "text/plain": [
       "array([[     0,  52193],\n",
       "       [     1,  52194],\n",
       "       [     2,  52195],\n",
       "       ...,\n",
       "       [149633,  30266],\n",
       "       [149634,  51746],\n",
       "       [149635,  14957]])"
      ]
     },
     "execution_count": 55,
     "metadata": {},
     "output_type": "execute_result"
    }
   ],
   "source": [
    "map_from_mesh_to_pts = relate_closest(lv.mesh.points, mesh.coordinates())[0]\n",
    "map_from_mesh_to_pts"
   ]
  },
  {
   "cell_type": "code",
   "execution_count": 17,
   "metadata": {},
   "outputs": [
    {
     "name": "stdout",
     "output_type": "stream",
     "text": [
      "LV_SURFS.OTHER\n",
      "LV_SURFS.ENDO\n",
      "LV_SURFS.EPI\n",
      "LV_SURFS.ENDO_AORTIC\n",
      "LV_SURFS.EPI_AORTIC\n",
      "LV_SURFS.BORDER_AORTIC\n",
      "LV_SURFS.ENDO_MITRAL\n",
      "LV_SURFS.EPI_MITRAL\n",
      "LV_SURFS.BORDER_MITRAL\n",
      "LV_SURFS.ENDO_AM_INTERCECTION\n",
      "LV_SURFS.EPI_AM_INTERCECTION\n"
     ]
    }
   ],
   "source": [
    "for i in np.unique(lv.mesh.get_array(LV_MESH_DATA.SURFS_DETAILED.value)):\n",
    "  print(LV_SURFS(i))"
   ]
  },
  {
   "cell_type": "code",
   "execution_count": 18,
   "metadata": {},
   "outputs": [],
   "source": [
    "markers = {\n",
    "  \"epi\": LV_SURFS.EPI.value, \n",
    "  \"lv\": LV_SURFS.ENDO.value, \n",
    "  \"base\": LV_SURFS.MITRAL.value\n",
    "  }\n",
    "\n",
    "\n",
    "ffun.array()[ffun.array() == LV_SURFS.EPI_AM_INTERCECTION] = LV_SURFS.EPI.value\n",
    "ffun.array()[ffun.array() == LV_SURFS.EPI_AORTIC] = LV_SURFS.EPI.value\n",
    "ffun.array()[ffun.array() == LV_SURFS.EPI_MITRAL] = LV_SURFS.EPI.value\n",
    "\n",
    "ffun.array()[ffun.array() == LV_SURFS.ENDO_AM_INTERCECTION] = LV_SURFS.ENDO.value\n",
    "ffun.array()[ffun.array() == LV_SURFS.ENDO_AORTIC] = LV_SURFS.ENDO.value\n",
    "ffun.array()[ffun.array() == LV_SURFS.ENDO_MITRAL] = LV_SURFS.ENDO.value\n",
    "\n",
    "ffun.array()[ffun.array() == LV_SURFS.BORDER_AORTIC] = LV_SURFS.MITRAL.value\n",
    "ffun.array()[ffun.array() == LV_SURFS.BORDER_MITRAL] = LV_SURFS.MITRAL.value"
   ]
  },
  {
   "cell_type": "code",
   "execution_count": 19,
   "metadata": {},
   "outputs": [
    {
     "name": "stdout",
     "output_type": "stream",
     "text": [
      "Calculating scalar fields\n",
      "Compute scalar laplacian solutions with the markers: \n",
      "epi: 2\n",
      "lv: 1\n",
      "base: 7\n",
      "  Num vertices: 149636\n",
      "  Num cells: 734930\n",
      "Solving linear variational problem.\n",
      "  Apex coord: (45.82, -26.93, -38.51)\n",
      "Solving linear variational problem.\n",
      "Solving Laplace equation\n",
      " epi = 1, lv = 0\n",
      "Solving linear variational problem.\n",
      " lv = 1, epi = 0\n",
      "Solving linear variational problem.\n",
      "\n",
      "Calculating gradients\n",
      "Compute fiber-sheet system\n",
      "Angles: \n",
      "alpha: \n",
      " endo_lv: 60\n",
      " epi_lv: -60\n",
      " endo_septum: 60\n",
      " epi_septum: -60\n",
      " endo_rv: 60\n",
      " epi_rv: -60\n",
      "beta: \n",
      " endo_lv: 0\n",
      " epi_lv: 0\n",
      " endo_septum: 0\n",
      " epi_septum: 0\n",
      " endo_rv: 0\n",
      " epi_rv: 0\n"
     ]
    }
   ],
   "source": [
    "fiber_space = \"P_1\"\n",
    "\n",
    "fiber, sheet, sheet_normal = ldrb.dolfin_ldrb(\n",
    "    mesh=mesh,\n",
    "    fiber_space=fiber_space,\n",
    "    ffun=ffun,\n",
    "    markers=markers,\n",
    "    alpha_endo_lv=60,  # Fiber angle on the endocardium\n",
    "    alpha_epi_lv=-60,  # Fiber angle on the epicardium\n",
    "    beta_endo_lv=0,  # Sheet angle on the endocardium\n",
    "    beta_epi_lv=0,  # Sheet angle on the epicardium\n",
    ")"
   ]
  },
  {
   "cell_type": "code",
   "execution_count": 22,
   "metadata": {},
   "outputs": [],
   "source": [
    "new_lv = LV.from_nodes_elements(mesh.coordinates(), mesh.cells())"
   ]
  },
  {
   "cell_type": "code",
   "execution_count": 56,
   "metadata": {},
   "outputs": [],
   "source": [
    "fiber_pts_vec = fiber.compute_vertex_values().reshape((3,-1)).T\n",
    "sheet_pts_vec = sheet.compute_vertex_values().reshape((3,-1)).T\n",
    "sheet_normal_pts_vec = sheet_normal.compute_vertex_values().reshape((3,-1)).T\n",
    "\n",
    "new_lv.mesh.point_data[\"fiber_pts_vec\"] = fiber_pts_vec\n",
    "new_lv.mesh.point_data[\"sheet_pts_vec\"] = sheet_pts_vec\n",
    "new_lv.mesh.point_data[\"sheet_normal_pts_vec\"] = sheet_normal_pts_vec"
   ]
  },
  {
   "cell_type": "code",
   "execution_count": 24,
   "metadata": {},
   "outputs": [],
   "source": [
    "new_lv.mesh.save(\"lvtetmesh_with_fibers.vtk\")"
   ]
  },
  {
   "cell_type": "code",
   "execution_count": 102,
   "metadata": {},
   "outputs": [],
   "source": [
    "import dolfin\n",
    "import meshio\n",
    "\n",
    "with dolfin.XDMFFile(mesh.mpi_comm(), \"lvtetmesh_fiber.xdmf\") as xdmf:\n",
    "    xdmf.write(fiber)\n",
    "meshio_mesh = meshio.read(\"lvtetmesh_fiber.xdmf\")\n",
    "meshio_mesh.write(\"lvtetmesh_fiber.vtk\")\n",
    "\n",
    "with dolfin.XDMFFile(mesh.mpi_comm(), \"lvtetmesh_sheet.xdmf\") as xdmf:\n",
    "    xdmf.write(sheet)\n",
    "meshio_mesh = meshio.read(\"lvtetmesh_sheet.xdmf\")\n",
    "meshio_mesh.write(\"lvtetmesh_sheet.vtk\")\n",
    "\n",
    "with dolfin.XDMFFile(mesh.mpi_comm(), \"lvtetmesh_sheet_normal.xdmf\") as xdmf:\n",
    "    xdmf.write(sheet_normal)\n",
    "meshio_mesh = meshio.read(\"lvtetmesh_sheet_normal.xdmf\")\n",
    "meshio_mesh.write(\"lvtetmesh_sheet_normal.vtk\")"
   ]
  },
  {
   "cell_type": "code",
   "execution_count": 103,
   "metadata": {},
   "outputs": [],
   "source": [
    "new_mesh = pv.read(\"lvtetmesh_fiber.vtk\")\n",
    "fiber_pts_vec = new_mesh.point_data[\"fiber\"]\n",
    "new_mesh = pv.read(\"lvtetmesh_sheet.vtk\")\n",
    "sheet_pts_vec = new_mesh.point_data[\"sheet\"]\n",
    "new_mesh = pv.read(\"lvtetmesh_sheet_normal.vtk\")\n",
    "sheet_normal_pts_vec = new_mesh.point_data[\"sheet_normal\"]"
   ]
  },
  {
   "cell_type": "code",
   "execution_count": 20,
   "metadata": {},
   "outputs": [
    {
     "ename": "NameError",
     "evalue": "name 'fiber_pts_vec' is not defined",
     "output_type": "error",
     "traceback": [
      "\u001b[0;31m---------------------------------------------------------------------------\u001b[0m",
      "\u001b[0;31mNameError\u001b[0m                                 Traceback (most recent call last)",
      "\u001b[1;32m/home/igornobrega/Project-Heart/notebooks/lv/tests/test_ldrb.ipynb Cell 13'\u001b[0m in \u001b[0;36m<cell line: 1>\u001b[0;34m()\u001b[0m\n\u001b[0;32m----> <a href='vscode-notebook-cell://wsl%2Bubuntu/home/igornobrega/Project-Heart/notebooks/lv/tests/test_ldrb.ipynb#ch0000030vscode-remote?line=0'>1</a>\u001b[0m fiber_pts_vec\n",
      "\u001b[0;31mNameError\u001b[0m: name 'fiber_pts_vec' is not defined"
     ]
    }
   ],
   "source": [
    "fiber_pts_vec"
   ]
  },
  {
   "cell_type": "code",
   "execution_count": 52,
   "metadata": {},
   "outputs": [
    {
     "data": {
      "text/plain": [
       "array([[-0.9005333 , -0.12249891,  0.41717359],\n",
       "       [-0.7344604 , -0.00426298, -0.67863816],\n",
       "       [-0.30471146,  0.95238225,  0.01090754],\n",
       "       ...,\n",
       "       [ 0.01098969,  0.21599804,  0.97633195],\n",
       "       [ 0.08162461,  0.97255434,  0.21788869],\n",
       "       [-0.82022178,  0.47488642, -0.31893434]])"
      ]
     },
     "execution_count": 52,
     "metadata": {},
     "output_type": "execute_result"
    }
   ],
   "source": [
    "fiber_pts_vec.take(map_from_mesh_to_pts[:,1], axis=0)"
   ]
  },
  {
   "cell_type": "code",
   "execution_count": null,
   "metadata": {},
   "outputs": [],
   "source": [
    "fiber_pts_vec_mapped = fiber_pts_vec"
   ]
  },
  {
   "cell_type": "code",
   "execution_count": 57,
   "metadata": {},
   "outputs": [],
   "source": [
    "lv.mesh.point_data[\"fiber_pts_vec\"] = fiber_pts_vec.take(map_from_mesh_to_pts[:,1], axis=0)\n",
    "lv.mesh.point_data[\"sheet_pts_vec\"] = sheet_pts_vec.take(map_from_mesh_to_pts[:,1], axis=0)\n",
    "lv.mesh.point_data[\"sheet_normal_pts_vec\"] = sheet_normal_pts_vec.take(map_from_mesh_to_pts[:,1], axis=0)"
   ]
  },
  {
   "cell_type": "code",
   "execution_count": 60,
   "metadata": {},
   "outputs": [],
   "source": [
    "lv.mesh.save(\"lvtetmesh_with_fibers_2.vtk\")"
   ]
  },
  {
   "cell_type": "code",
   "execution_count": 85,
   "metadata": {},
   "outputs": [
    {
     "data": {
      "text/plain": [
       "array([-0.67264064, -0.31638671,  0.66892004])"
      ]
     },
     "execution_count": 85,
     "metadata": {},
     "output_type": "execute_result"
    }
   ],
   "source": [
    "fiber(lv.mesh.points[0])"
   ]
  },
  {
   "cell_type": "code",
   "execution_count": 42,
   "metadata": {},
   "outputs": [
    {
     "data": {
      "text/plain": [
       "array([-0.80566354, -0.80468203, -0.78885649, ..., -0.52032557,\n",
       "        0.85300445,  0.54124435])"
      ]
     },
     "execution_count": 42,
     "metadata": {},
     "output_type": "execute_result"
    }
   ],
   "source": [
    "fiber.compute_vertex_values(mesh)"
   ]
  },
  {
   "cell_type": "code",
   "execution_count": 25,
   "metadata": {},
   "outputs": [],
   "source": [
    "fiber_pts_vec = fiber.compute_vertex_values().reshape((3,-1)).T\n",
    "sheet_pts_vec = sheet.compute_vertex_values().reshape((3,-1)).T\n",
    "sheet_normal_pts_vec = sheet_normal.compute_vertex_values().reshape((3,-1)).T"
   ]
  },
  {
   "cell_type": "code",
   "execution_count": 26,
   "metadata": {},
   "outputs": [],
   "source": [
    "lv.mesh.point_data[\"fiber_pts_vec\"] = fiber_pts_vec\n",
    "lv.mesh.point_data[\"sheet_pts_vec\"] = sheet_pts_vec\n",
    "lv.mesh.point_data[\"sheet_normal_pts_vec\"] = sheet_normal_pts_vec"
   ]
  },
  {
   "cell_type": "code",
   "execution_count": 27,
   "metadata": {},
   "outputs": [],
   "source": [
    "lv.mesh.save(\"lvtetmesh_with_fibers.vtk\")"
   ]
  },
  {
   "cell_type": "code",
   "execution_count": 38,
   "metadata": {},
   "outputs": [
    {
     "data": {
      "text/plain": [
       "1.0"
      ]
     },
     "execution_count": 38,
     "metadata": {},
     "output_type": "execute_result"
    }
   ],
   "source": [
    "np.linalg.norm(sheet_normal_pts_vec[1000])"
   ]
  }
 ],
 "metadata": {
  "interpreter": {
   "hash": "8ae22b74d1ed07c304104d3e01f5ac615fc2cd6d75ca1a6209e5e20e18645583"
  },
  "kernelspec": {
   "display_name": "Python 3.9.7 ('cenv')",
   "language": "python",
   "name": "python3"
  },
  "language_info": {
   "codemirror_mode": {
    "name": "ipython",
    "version": 3
   },
   "file_extension": ".py",
   "mimetype": "text/x-python",
   "name": "python",
   "nbconvert_exporter": "python",
   "pygments_lexer": "ipython3",
   "version": "3.9.11"
  },
  "orig_nbformat": 4
 },
 "nbformat": 4,
 "nbformat_minor": 2
}
