{
 "cells": [
  {
   "cell_type": "code",
   "execution_count": 1,
   "metadata": {},
   "outputs": [],
   "source": [
    "from project_heart.lv import LV\n",
    "import numpy as np\n",
    "import pyvista as pv\n",
    "pv.set_jupyter_backend(\"pythreejs\")\n",
    "\n",
    "import os\n",
    "from pathlib import Path\n",
    "\n",
    "from project_heart.enums import *"
   ]
  },
  {
   "cell_type": "code",
   "execution_count": null,
   "metadata": {},
   "outputs": [],
   "source": [
    "lv = LV.from_pyvista_read(\"../sample_files/lvtetmesh.vtk\")\n",
    "# lv.smooth_surface(n_iter=500)\n",
    "lv.identify_surfaces(\n",
    "  endo_epi_args=dict(threshold=90.0),\n",
    "  apex_base_args=dict(ab_ql=0.04, ab_qh=0.69),\n",
    "  aortic_mitral_args=dict(a1=0.4,\n",
    "                          a2=0.5,\n",
    "                          a3=0.3,\n",
    "                          a4=75,\n",
    "                          a5=130,\n",
    "                          \n",
    "                          m1=0.17,\n",
    "                          m2=0.02,\n",
    "                          m3=0.07,\n",
    "                          m4=0.333\n",
    "                          )\n",
    ")\n",
    "lv.plot(\"surface\", scalars=LV_MESH_DATA.SURFS_DETAILED.value,\n",
    "        cmap=\"tab20_r\")"
   ]
  },
  {
   "cell_type": "code",
   "execution_count": null,
   "metadata": {},
   "outputs": [],
   "source": [
    "# transform point region ids into cell ids at surface level\n",
    "cellregionIdsSurf = lv.transform_point_data_to_cell_data(LV_MESH_DATA.SURFS_DETAILED.value, surface=True)\n",
    "# combine volumetric mesh with surface mesh\n",
    "mesh = lv.mesh.copy()\n",
    "mesh = mesh.merge(lv.get_surface_mesh())\n",
    "# adjust regions to include both surface and volume (with zeros)\n",
    "cellregionIds = np.hstack((cellregionIdsSurf, np.zeros(mesh.n_cells- len(cellregionIdsSurf))))\n",
    "# add gmsh data\n",
    "mesh.clear_data() # for some reason, no other info is accepted when loading in ldrb\n",
    "mesh.cell_data[\"gmsh:physical\"] = cellregionIds\n",
    "mesh.cell_data[\"gmsh:geometrical\"] = cellregionIds\n",
    "# save using meshio (I did not test other gmsh formats and binary files.)\n",
    "pv.save_meshio(\"../sample_files/lvtetmesh.msh\", mesh, file_format=\"gmsh22\", binary=False)"
   ]
  },
  {
   "cell_type": "code",
   "execution_count": null,
   "metadata": {},
   "outputs": [],
   "source": [
    "import ldrb"
   ]
  },
  {
   "cell_type": "code",
   "execution_count": null,
   "metadata": {},
   "outputs": [],
   "source": [
    "# Last argument here is the markers, but these are not used\n",
    "mesh, ffun, _ = ldrb.gmsh2dolfin(\n",
    "    \"../sample_files/lvtetmesh.msh\",\n",
    "    unlink=False,\n",
    ")\n",
    "# Run this first in serial and exit here\n",
    "# exit()"
   ]
  },
  {
   "cell_type": "code",
   "execution_count": null,
   "metadata": {},
   "outputs": [],
   "source": [
    "lv.mesh.points"
   ]
  },
  {
   "cell_type": "code",
   "execution_count": null,
   "metadata": {},
   "outputs": [],
   "source": [
    "mesh.coordinates()"
   ]
  },
  {
   "cell_type": "code",
   "execution_count": null,
   "metadata": {},
   "outputs": [],
   "source": [
    "from project_heart.utils.cloud_ops import relate_closest"
   ]
  },
  {
   "cell_type": "code",
   "execution_count": null,
   "metadata": {},
   "outputs": [],
   "source": [
    "map_from_mesh_to_pts = relate_closest(lv.mesh.points, mesh.coordinates())[0]\n",
    "map_from_mesh_to_pts"
   ]
  },
  {
   "cell_type": "code",
   "execution_count": null,
   "metadata": {},
   "outputs": [],
   "source": [
    "for i in np.unique(lv.mesh.get_array(LV_MESH_DATA.SURFS_DETAILED.value)):\n",
    "  print(LV_SURFS(i))"
   ]
  },
  {
   "cell_type": "code",
   "execution_count": null,
   "metadata": {},
   "outputs": [],
   "source": [
    "markers = {\n",
    "  \"epi\": LV_SURFS.EPI.value, \n",
    "  \"lv\": LV_SURFS.ENDO.value, \n",
    "  \"base\": LV_SURFS.MITRAL.value\n",
    "  }\n",
    "\n",
    "\n",
    "ffun.array()[ffun.array() == LV_SURFS.EPI_AM_INTERCECTION] = LV_SURFS.EPI.value\n",
    "ffun.array()[ffun.array() == LV_SURFS.EPI_AORTIC] = LV_SURFS.EPI.value\n",
    "ffun.array()[ffun.array() == LV_SURFS.EPI_MITRAL] = LV_SURFS.EPI.value\n",
    "\n",
    "ffun.array()[ffun.array() == LV_SURFS.ENDO_AM_INTERCECTION] = LV_SURFS.ENDO.value\n",
    "ffun.array()[ffun.array() == LV_SURFS.ENDO_AORTIC] = LV_SURFS.ENDO.value\n",
    "ffun.array()[ffun.array() == LV_SURFS.ENDO_MITRAL] = LV_SURFS.ENDO.value\n",
    "\n",
    "ffun.array()[ffun.array() == LV_SURFS.BORDER_AORTIC] = LV_SURFS.MITRAL.value\n",
    "ffun.array()[ffun.array() == LV_SURFS.BORDER_MITRAL] = LV_SURFS.MITRAL.value"
   ]
  },
  {
   "cell_type": "code",
   "execution_count": null,
   "metadata": {},
   "outputs": [],
   "source": [
    "fiber_space = \"P_1\"\n",
    "\n",
    "fiber, sheet, sheet_normal = ldrb.dolfin_ldrb(\n",
    "    mesh=mesh,\n",
    "    fiber_space=fiber_space,\n",
    "    ffun=ffun,\n",
    "    markers=markers,\n",
    "    alpha_endo_lv=60,  # Fiber angle on the endocardium\n",
    "    alpha_epi_lv=-60,  # Fiber angle on the epicardium\n",
    "    beta_endo_lv=0,  # Sheet angle on the endocardium\n",
    "    beta_epi_lv=0,  # Sheet angle on the epicardium\n",
    ")"
   ]
  },
  {
   "cell_type": "code",
   "execution_count": null,
   "metadata": {},
   "outputs": [],
   "source": [
    "new_lv = LV.from_nodes_elements(mesh.coordinates(), mesh.cells())"
   ]
  },
  {
   "cell_type": "code",
   "execution_count": null,
   "metadata": {},
   "outputs": [],
   "source": [
    "fiber_pts_vec = fiber.compute_vertex_values().reshape((3,-1)).T\n",
    "sheet_pts_vec = sheet.compute_vertex_values().reshape((3,-1)).T\n",
    "sheet_normal_pts_vec = sheet_normal.compute_vertex_values().reshape((3,-1)).T\n",
    "\n",
    "new_lv.mesh.point_data[\"fiber_pts_vec\"] = fiber_pts_vec\n",
    "new_lv.mesh.point_data[\"sheet_pts_vec\"] = sheet_pts_vec\n",
    "new_lv.mesh.point_data[\"sheet_normal_pts_vec\"] = sheet_normal_pts_vec"
   ]
  },
  {
   "cell_type": "code",
   "execution_count": null,
   "metadata": {},
   "outputs": [],
   "source": [
    "new_lv.mesh.save(\"lvtetmesh_with_fibers.vtk\")"
   ]
  },
  {
   "cell_type": "code",
   "execution_count": null,
   "metadata": {},
   "outputs": [],
   "source": [
    "import dolfin\n",
    "import meshio\n",
    "\n",
    "with dolfin.XDMFFile(mesh.mpi_comm(), \"lvtetmesh_fiber.xdmf\") as xdmf:\n",
    "    xdmf.write(fiber)\n",
    "meshio_mesh = meshio.read(\"lvtetmesh_fiber.xdmf\")\n",
    "meshio_mesh.write(\"lvtetmesh_fiber.vtk\")\n",
    "\n",
    "with dolfin.XDMFFile(mesh.mpi_comm(), \"lvtetmesh_sheet.xdmf\") as xdmf:\n",
    "    xdmf.write(sheet)\n",
    "meshio_mesh = meshio.read(\"lvtetmesh_sheet.xdmf\")\n",
    "meshio_mesh.write(\"lvtetmesh_sheet.vtk\")\n",
    "\n",
    "with dolfin.XDMFFile(mesh.mpi_comm(), \"lvtetmesh_sheet_normal.xdmf\") as xdmf:\n",
    "    xdmf.write(sheet_normal)\n",
    "meshio_mesh = meshio.read(\"lvtetmesh_sheet_normal.xdmf\")\n",
    "meshio_mesh.write(\"lvtetmesh_sheet_normal.vtk\")"
   ]
  },
  {
   "cell_type": "code",
   "execution_count": null,
   "metadata": {},
   "outputs": [],
   "source": [
    "new_mesh = pv.read(\"lvtetmesh_fiber.vtk\")\n",
    "fiber_pts_vec = new_mesh.point_data[\"fiber\"]\n",
    "new_mesh = pv.read(\"lvtetmesh_sheet.vtk\")\n",
    "sheet_pts_vec = new_mesh.point_data[\"sheet\"]\n",
    "new_mesh = pv.read(\"lvtetmesh_sheet_normal.vtk\")\n",
    "sheet_normal_pts_vec = new_mesh.point_data[\"sheet_normal\"]"
   ]
  },
  {
   "cell_type": "code",
   "execution_count": null,
   "metadata": {},
   "outputs": [],
   "source": [
    "fiber_pts_vec"
   ]
  },
  {
   "cell_type": "code",
   "execution_count": null,
   "metadata": {},
   "outputs": [],
   "source": [
    "fiber_pts_vec.take(map_from_mesh_to_pts[:,1], axis=0)"
   ]
  },
  {
   "cell_type": "code",
   "execution_count": null,
   "metadata": {},
   "outputs": [],
   "source": [
    "fiber_pts_vec_mapped = fiber_pts_vec"
   ]
  },
  {
   "cell_type": "code",
   "execution_count": null,
   "metadata": {},
   "outputs": [],
   "source": [
    "lv.mesh.point_data[\"fiber_pts_vec\"] = fiber_pts_vec.take(map_from_mesh_to_pts[:,1], axis=0)\n",
    "lv.mesh.point_data[\"sheet_pts_vec\"] = sheet_pts_vec.take(map_from_mesh_to_pts[:,1], axis=0)\n",
    "lv.mesh.point_data[\"sheet_normal_pts_vec\"] = sheet_normal_pts_vec.take(map_from_mesh_to_pts[:,1], axis=0)"
   ]
  },
  {
   "cell_type": "code",
   "execution_count": null,
   "metadata": {},
   "outputs": [],
   "source": [
    "lv.mesh.save(\"lvtetmesh_with_fibers_2.vtk\")"
   ]
  },
  {
   "cell_type": "code",
   "execution_count": null,
   "metadata": {},
   "outputs": [],
   "source": [
    "fiber(lv.mesh.points[0])"
   ]
  },
  {
   "cell_type": "code",
   "execution_count": null,
   "metadata": {},
   "outputs": [],
   "source": [
    "fiber.compute_vertex_values(mesh)"
   ]
  },
  {
   "cell_type": "code",
   "execution_count": null,
   "metadata": {},
   "outputs": [],
   "source": [
    "fiber_pts_vec = fiber.compute_vertex_values().reshape((3,-1)).T\n",
    "sheet_pts_vec = sheet.compute_vertex_values().reshape((3,-1)).T\n",
    "sheet_normal_pts_vec = sheet_normal.compute_vertex_values().reshape((3,-1)).T"
   ]
  },
  {
   "cell_type": "code",
   "execution_count": null,
   "metadata": {},
   "outputs": [],
   "source": [
    "lv.mesh.point_data[\"fiber_pts_vec\"] = fiber_pts_vec\n",
    "lv.mesh.point_data[\"sheet_pts_vec\"] = sheet_pts_vec\n",
    "lv.mesh.point_data[\"sheet_normal_pts_vec\"] = sheet_normal_pts_vec"
   ]
  },
  {
   "cell_type": "code",
   "execution_count": null,
   "metadata": {},
   "outputs": [],
   "source": [
    "lv.mesh.save(\"lvtetmesh_with_fibers.vtk\")"
   ]
  },
  {
   "cell_type": "code",
   "execution_count": null,
   "metadata": {},
   "outputs": [],
   "source": [
    "np.linalg.norm(sheet_normal_pts_vec[1000])"
   ]
  }
 ],
 "metadata": {
  "interpreter": {
   "hash": "8ae22b74d1ed07c304104d3e01f5ac615fc2cd6d75ca1a6209e5e20e18645583"
  },
  "kernelspec": {
   "display_name": "Python 3.9.7 ('cenv')",
   "language": "python",
   "name": "python3"
  },
  "language_info": {
   "codemirror_mode": {
    "name": "ipython",
    "version": 3
   },
   "file_extension": ".py",
   "mimetype": "text/x-python",
   "name": "python",
   "nbconvert_exporter": "python",
   "pygments_lexer": "ipython3",
   "version": "3.9.7"
  },
  "orig_nbformat": 4
 },
 "nbformat": 4,
 "nbformat_minor": 2
}
