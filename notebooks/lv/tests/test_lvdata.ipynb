{
 "cells": [
  {
   "cell_type": "code",
   "execution_count": 1,
   "metadata": {},
   "outputs": [],
   "source": [
    "from project_heart.lv import LV\n",
    "import numpy as np\n",
    "import pyvista as pv\n",
    "pv.set_jupyter_backend(\"pythreejs\")\n",
    "\n",
    "import os\n",
    "from pathlib import Path\n",
    "\n",
    "from project_heart.enums import *"
   ]
  },
  {
   "cell_type": "code",
   "execution_count": 2,
   "metadata": {},
   "outputs": [],
   "source": [
    "filepath = Path(\"C:/Users/igorp/Downloads/0.24_45.00_50.00_LVMYO_HEX8_83648_wr.xplt\")\n",
    "lv = LV.from_file(filepath)\n",
    "lv.identify_regions(LV_GEO_TYPES.TYPE_A,\n",
    "    endo_epi_args={\"threshold\":85,})"
   ]
  },
  {
   "cell_type": "code",
   "execution_count": 3,
   "metadata": {},
   "outputs": [],
   "source": [
    "import json\n",
    "with open(\"../sample_files/spk_json.json\", \"r\") as spk_file:\n",
    "  spk_json = json.load(spk_file)\n",
    "for spk_data in spk_json:\n",
    "  if spk_data[\"from_nodeset\"] == \"endo\":\n",
    "    spk_data[\"from_nodeset\"] = LV_SURFS.ENDO.value\n",
    "  elif spk_data[\"from_nodeset\"] == \"epi\":\n",
    "    spk_data[\"from_nodeset\"] = LV_SURFS.EPI.value\n",
    "  else:\n",
    "    print(spk_data)\n",
    "\n",
    "for spk_data in spk_json:\n",
    "  lv.create_speckles(**spk_data)"
   ]
  },
  {
   "cell_type": "code",
   "execution_count": 4,
   "metadata": {},
   "outputs": [],
   "source": [
    "# lv.plot(\"surface\", \n",
    "#         scalars=LV_MESH_DATA.SURFS,\n",
    "#         # container=\"cells\",\n",
    "#         show_edges=True,\n",
    "#         categorical=True,\n",
    "#         split_sharp_edges=True,\n",
    "#         smooth_shading=False,\n",
    "#         pretty=False,\n",
    "#         )"
   ]
  },
  {
   "cell_type": "markdown",
   "metadata": {},
   "source": [
    "Volume:"
   ]
  },
  {
   "cell_type": "code",
   "execution_count": 5,
   "metadata": {},
   "outputs": [
    {
     "data": {
      "text/plain": [
       "array([95993.98140237, 77619.19861646, 63257.7453644 , 53339.77682199,\n",
       "       46834.19796486, 46450.63398739, 46676.83046096, 46729.32112039,\n",
       "       46795.73413616, 46934.14508683, 47116.98245368, 47298.89414408,\n",
       "       47538.56738255, 47805.70476376, 48134.55980313, 48420.45798249,\n",
       "       48729.50199268, 49061.81135896, 49400.84255932, 49747.92877439,\n",
       "       50101.6734778 , 50454.94842903, 50811.37975838, 51169.11316778,\n",
       "       51526.34864955, 51883.41325396, 52238.83464323, 52590.31081084,\n",
       "       52936.75721954, 53277.40193504, 53612.00089657, 53940.03285051,\n",
       "       54261.43492141, 54576.22483071, 54884.06066516, 55184.43146293,\n",
       "       55476.93940501, 55761.96521925, 56039.82847599, 56310.60282253,\n",
       "       56574.19954225, 56831.12134436, 57081.75939757, 57326.21407796,\n",
       "       57564.58437723])"
      ]
     },
     "execution_count": 5,
     "metadata": {},
     "output_type": "execute_result"
    }
   ],
   "source": [
    "lv.volume()"
   ]
  },
  {
   "cell_type": "markdown",
   "metadata": {},
   "source": [
    "Ejection Fraction:"
   ]
  },
  {
   "cell_type": "code",
   "execution_count": 6,
   "metadata": {},
   "outputs": [
    {
     "data": {
      "text/plain": [
       "array([ 0.        , 19.14159879, 34.10238388, 44.43424885, 51.21131838,\n",
       "       51.61088924, 51.37525314, 51.32057194, 51.25138738, 51.10720026,\n",
       "       50.91673273, 50.72722951, 50.47755423, 50.19926868, 49.85668987,\n",
       "       49.55886059, 49.23691956, 48.89074227, 48.53756263, 48.17599182,\n",
       "       47.80748465, 47.43946684, 47.06816092, 46.69549859, 46.32335497,\n",
       "       45.95138935, 45.58113553, 45.21499156, 44.85408726, 44.49922677,\n",
       "       44.15066433, 43.80894295, 43.47412814, 43.14620142, 42.82551899,\n",
       "       42.51261313, 42.20789825, 41.91097775, 41.62151871, 41.33944441,\n",
       "       41.06484728, 40.79720362, 40.53610595, 40.28144969, 40.03313173])"
      ]
     },
     "execution_count": 6,
     "metadata": {},
     "output_type": "execute_result"
    }
   ],
   "source": [
    "lv.ejection_fraction()"
   ]
  },
  {
   "cell_type": "markdown",
   "metadata": {},
   "source": [
    "Longitudinal shortening:"
   ]
  },
  {
   "cell_type": "code",
   "execution_count": 7,
   "metadata": {},
   "outputs": [
    {
     "data": {
      "text/plain": [
       "array([ 0.        ,  0.46901488, -0.06550491, -0.94165826, -1.5020456 ,\n",
       "       -1.7143162 , -1.74463706, -1.80390488, -1.80052704, -1.78349104,\n",
       "       -1.80201795, -1.85131445, -1.89387787, -1.93142238, -1.83428463,\n",
       "       -1.81711042, -1.84227584, -1.90939522, -1.96673013, -2.02746759,\n",
       "       -2.0889959 , -2.15408367, -2.2210371 , -2.28878796, -2.35353796,\n",
       "       -2.42863425, -2.50465552, -2.57969094, -2.65586353, -2.73141285,\n",
       "       -2.80575479, -2.87618382, -2.94757563, -3.01791599, -3.07978472,\n",
       "       -3.1497959 , -3.21896173, -3.28302104, -3.34542221, -3.41183671,\n",
       "       -3.46463906, -3.52224668, -3.580666  , -3.63534018, -3.68859192])"
      ]
     },
     "execution_count": 7,
     "metadata": {},
     "output_type": "execute_result"
    }
   ],
   "source": [
    "lv.longitudinal_shortening()"
   ]
  },
  {
   "cell_type": "markdown",
   "metadata": {},
   "source": [
    "Radial shortening"
   ]
  },
  {
   "cell_type": "code",
   "execution_count": 8,
   "metadata": {},
   "outputs": [
    {
     "data": {
      "text/plain": [
       "array([-29.78308333, -20.3935104 , -11.56646507,  -4.63517564,\n",
       "         0.        ,  -0.21350426,  -0.30939529,  -0.5043765 ,\n",
       "        -0.72168004,  -0.94631928,  -1.11895456,  -1.3027141 ,\n",
       "        -1.51840457,  -1.71574336,  -1.95813824,  -2.20651249,\n",
       "        -2.42438141,  -2.64106399,  -2.9329321 ,  -3.15109642,\n",
       "        -3.36941791,  -3.59134051,  -3.81790067,  -4.03216593,\n",
       "        -4.24647015,  -4.44752907,  -4.65229903,  -4.85140077,\n",
       "        -5.04888759,  -5.247183  ,  -5.42694426,  -5.60405865,\n",
       "        -5.77499174,  -5.94064463,  -6.10233306,  -6.25856544,\n",
       "        -6.41181655,  -6.55704309,  -6.69964826,  -6.78681939,\n",
       "        -6.91600988,  -7.06073774,  -7.18898109,  -7.31114181,\n",
       "        -7.42957415])"
      ]
     },
     "execution_count": 8,
     "metadata": {},
     "output_type": "execute_result"
    }
   ],
   "source": [
    "circ_spks = lv.get_speckles(spk_collection=\"circ-6\")\n",
    "lv.radial_shortening(circ_spks, t_ed=0.1)"
   ]
  },
  {
   "cell_type": "markdown",
   "metadata": {},
   "source": [
    "Wall thickening:"
   ]
  },
  {
   "cell_type": "code",
   "execution_count": 9,
   "metadata": {},
   "outputs": [
    {
     "data": {
      "text/plain": [
       "array([-2.39789809e+01, -1.48354399e+01, -7.69570456e+00, -2.95568338e+00,\n",
       "        0.00000000e+00,  4.85452614e-02, -3.49843266e-01, -1.79813942e-01,\n",
       "        1.30985930e-02, -4.08790230e-02, -1.40589896e-01, -2.46663642e-01,\n",
       "       -4.23152529e-01, -5.75695094e-01, -7.56529437e-01, -9.79297798e-01,\n",
       "       -1.19045083e+00, -1.41937731e+00, -1.79064039e+00, -2.02635399e+00,\n",
       "       -2.27095923e+00, -2.53352438e+00, -2.80593862e+00, -3.06839180e+00,\n",
       "       -3.34139836e+00, -3.59281470e+00, -3.86433033e+00, -4.13421030e+00,\n",
       "       -4.37357557e+00, -4.65095591e+00, -4.91763669e+00, -5.17516783e+00,\n",
       "       -5.42687366e+00, -5.67506855e+00, -5.92050086e+00, -6.15856219e+00,\n",
       "       -6.39656776e+00, -6.62337713e+00, -6.84898539e+00, -6.97028438e+00,\n",
       "       -7.16421985e+00, -7.29184637e+00, -7.50627474e+00, -7.70565141e+00,\n",
       "       -7.90035968e+00])"
      ]
     },
     "execution_count": 9,
     "metadata": {},
     "output_type": "execute_result"
    }
   ],
   "source": [
    "endo_circ_spks = lv.get_speckles(spk_group=\"endo\", spk_collection=\"circ-6\")\n",
    "epi_circ_spks = lv.get_speckles(spk_group=\"epi\", spk_collection=\"circ-6\")\n",
    "\n",
    "lv.wall_thickening(endo_circ_spks, epi_circ_spks, t_ed=0.1)"
   ]
  },
  {
   "cell_type": "markdown",
   "metadata": {},
   "source": [
    "Longitudinal strain:"
   ]
  },
  {
   "cell_type": "code",
   "execution_count": 10,
   "metadata": {},
   "outputs": [
    {
     "data": {
      "text/plain": [
       "array([ 1.57007438,  1.24447559,  0.83594175,  0.40195562,  0.        ,\n",
       "       -0.27034695, -0.40696878, -0.33813844, -0.26995788, -0.25915086,\n",
       "       -0.26092597, -0.27948021, -0.30417403, -0.32860563, -0.35724119,\n",
       "       -0.38999858, -0.4322372 , -0.48821685, -0.55917377, -0.63440264,\n",
       "       -0.71115593, -0.79053363, -0.87224093, -0.95619522, -1.04195158,\n",
       "       -1.12965384, -1.21884246, -1.30779895, -1.3960528 , -1.48432274,\n",
       "       -1.57141777, -1.65774894, -1.74223163, -1.82552835, -1.90728956,\n",
       "       -1.98783167, -2.06673695, -2.14456138, -2.22244901, -2.29884268,\n",
       "       -2.37889888, -2.45373652, -2.51712279, -2.56366256, -2.58796074])"
      ]
     },
     "execution_count": 10,
     "metadata": {},
     "output_type": "execute_result"
    }
   ],
   "source": [
    "long_spks = lv.get_speckles(spk_collection=\"long-6\")\n",
    "lv.longitudinal_strain(long_spks, t_ed=0.1)"
   ]
  },
  {
   "cell_type": "markdown",
   "metadata": {},
   "source": [
    "Circumferential Strain:"
   ]
  },
  {
   "cell_type": "code",
   "execution_count": 11,
   "metadata": {},
   "outputs": [
    {
     "data": {
      "text/plain": [
       "array([-22.50975286, -15.98966708,  -9.8447155 ,  -4.40484439,\n",
       "         0.        ,   3.09036525,   3.42158564,   2.79751415,\n",
       "         2.04473584,   1.67431683,   1.39106489,   1.12199154,\n",
       "         0.87299438,   0.62457041,   0.37549727,   0.10940208,\n",
       "        -0.14627177,  -0.39078217,  -0.63061398,  -0.86359587,\n",
       "        -1.08774618,  -1.30939738,  -1.52982374,  -1.75019853,\n",
       "        -1.97400506,  -2.19208391,  -2.4105377 ,  -2.623066  ,\n",
       "        -2.83017282,  -3.03241011,  -3.22392571,  -3.40996572,\n",
       "        -3.59131543,  -3.76355952,  -3.93120834,  -4.0920636 ,\n",
       "        -4.24730719,  -4.3882484 ,  -4.51450136,  -4.63337527,\n",
       "        -4.7638043 ,  -4.88256496,  -4.99067399,  -5.08470597,\n",
       "        -5.16123545])"
      ]
     },
     "execution_count": 11,
     "metadata": {},
     "output_type": "execute_result"
    }
   ],
   "source": [
    "circ_spks = lv.get_speckles(spk_collection=\"circ-6\")\n",
    "lv.circumferential_strain(circ_spks, t_ed=0.1)"
   ]
  },
  {
   "cell_type": "markdown",
   "metadata": {},
   "source": [
    "Rotation:"
   ]
  },
  {
   "cell_type": "code",
   "execution_count": 12,
   "metadata": {},
   "outputs": [
    {
     "data": {
      "text/html": [
       "<table><tr><th>Header</th><th>Data Arrays</th></tr><tr><td>\n",
       "<table>\n",
       "<tr><th>UnstructuredGrid</th><th>Information</th></tr>\n",
       "<tr><td>N Cells</td><td>83648</td></tr>\n",
       "<tr><td>N Points</td><td>94929</td></tr>\n",
       "<tr><td>X Bounds</td><td>-3.948e+01, 3.455e+01</td></tr>\n",
       "<tr><td>Y Bounds</td><td>-3.831e+01, 3.370e+01</td></tr>\n",
       "<tr><td>Z Bounds</td><td>5.064e-02, 1.001e+02</td></tr>\n",
       "<tr><td>N Arrays</td><td>4</td></tr>\n",
       "</table>\n",
       "\n",
       "</td><td>\n",
       "<table>\n",
       "<tr><th>Name</th><th>Field</th><th>Type</th><th>N Comp</th><th>Min</th><th>Max</th></tr>\n",
       "<tr><td>LV_APEX_BASE_REGIONS</td><td>Points</td><td>int64</td><td>1</td><td>0.000e+00</td><td>1.900e+01</td></tr>\n",
       "<tr><td>LV_EPI_ENDO_GUESS</td><td>Points</td><td>int64</td><td>1</td><td>0.000e+00</td><td>2.000e+00</td></tr>\n",
       "<tr><td>LV_EPI_ENDO</td><td>Points</td><td>int64</td><td>1</td><td>0.000e+00</td><td>2.000e+00</td></tr>\n",
       "<tr><td><b>LV_SURFS</b></td><td>Points</td><td>float64</td><td>1</td><td>0.000e+00</td><td>2.300e+01</td></tr>\n",
       "</table>\n",
       "\n",
       "</td></tr> </table>"
      ]
     },
     "metadata": {},
     "output_type": "display_data"
    }
   ],
   "source": [
    "from IPython.display import display_html\n",
    "display_html(lv.mesh)"
   ]
  },
  {
   "cell_type": "code",
   "execution_count": 13,
   "metadata": {},
   "outputs": [
    {
     "data": {
      "image/png": "[encoded data removed]",
      "image/svg+xml": "<?xml version=\"1.0\" encoding=\"utf-8\" standalone=\"no\"?>\n<!DOCTYPE svg PUBLIC \"-//W3C//DTD SVG 1.1//EN\"\n  \"http://www.w3.org/Graphics/SVG/1.1/DTD/svg11.dtd\">\n<svg xmlns:xlink=\"http://www.w3.org/1999/xlink\" width=\"382.88125pt\" height=\"262.19625pt\" viewBox=\"0 0 382.88125 262.19625\" xmlns=\"http://www.w3.org/2000/svg\" version=\"1.1\">\n <metadata>\n  <rdf:RDF xmlns:dc=\"http://purl.org/dc/elements/1.1/\" xmlns:cc=\"http://creativecommons.org/ns#\" xmlns:rdf=\"http://www.w3.org/1999/02/22-rdf-syntax-ns#\">\n   <cc:Work>\n    <dc:type rdf:resource=\"http://purl.org/dc/dcmitype/StillImage\"/>\n    <dc:date>2022-04-18T23:13:27.224643</dc:date>\n    <dc:format>image/svg+xml</dc:format>\n    <dc:creator>\n     <cc:Agent>\n      <dc:title>Matplotlib v3.5.1, https://matplotlib.org/</dc:title>\n     </cc:Agent>\n    </dc:creator>\n   </cc:Work>\n  </rdf:RDF>\n </metadata>\n <defs>\n  <style type=\"text/css\">*{stroke-linejoin: round; stroke-linecap: butt}</style>\n </defs>\n <g id=\"figure_1\">\n  <g id=\"patch_1\">\n   <path d=\"M 0 262.19625 \nL 382.88125 262.19625 \nL 382.88125 0 \nL 0 0 \nL 0 262.19625 \nz\n\" style=\"fill: none\"/>\n  </g>\n  <g id=\"axes_1\">\n   <g id=\"patch_2\">\n    <path d=\"M 40.88125 224.64 \nL 375.68125 224.64 \nL 375.68125 7.2 \nL 40.88125 7.2 \nz\n\" style=\"fill: #ffffff\"/>\n   </g>\n   <g id=\"PathCollection_1\">\n    <defs>\n     <path id=\"mfa438fda74\" d=\"M 0 2.236068 \nC 0.593012 2.236068 1.161816 2.000462 1.581139 1.581139 \nC 2.000462 1.161816 2.236068 0.593012 2.236068 0 \nC 2.236068 -0.593012 2.000462 -1.161816 1.581139 -1.581139 \nC 1.161816 -2.000462 0.593012 -2.236068 0 -2.236068 \nC -0.593012 -2.236068 -1.161816 -2.000462 -1.581139 -1.581139 \nC -2.000462 -1.161816 -2.236068 -0.593012 -2.236068 0 \nC -2.236068 0.593012 -2.000462 1.161816 -1.581139 1.581139 \nC -1.161816 2.000462 -0.593012 2.236068 0 2.236068 \nz\n\" style=\"stroke: #1f77b4\"/>\n    </defs>\n    <g clip-path=\"url(#pf52db03058)\">\n     <use xlink:href=\"#mfa438fda74\" x=\"56.099432\" y=\"214.756364\" style=\"fill: #1f77b4; stroke: #1f77b4\"/>\n     <use xlink:href=\"#mfa438fda74\" x=\"63.016787\" y=\"141.44292\" style=\"fill: #1f77b4; stroke: #1f77b4\"/>\n     <use xlink:href=\"#mfa438fda74\" x=\"69.934142\" y=\"84.142237\" style=\"fill: #1f77b4; stroke: #1f77b4\"/>\n     <use xlink:href=\"#mfa438fda74\" x=\"76.851498\" y=\"44.570589\" style=\"fill: #1f77b4; stroke: #1f77b4\"/>\n     <use xlink:href=\"#mfa438fda74\" x=\"83.768853\" y=\"18.614016\" style=\"fill: #1f77b4; stroke: #1f77b4\"/>\n     <use xlink:href=\"#mfa438fda74\" x=\"90.686208\" y=\"17.083636\" style=\"fill: #1f77b4; stroke: #1f77b4\"/>\n     <use xlink:href=\"#mfa438fda74\" x=\"97.603565\" y=\"17.986136\" style=\"fill: #1f77b4; stroke: #1f77b4\"/>\n     <use xlink:href=\"#mfa438fda74\" x=\"104.520918\" y=\"18.195569\" style=\"fill: #1f77b4; stroke: #1f77b4\"/>\n     <use xlink:href=\"#mfa438fda74\" x=\"111.438274\" y=\"18.46055\" style=\"fill: #1f77b4; stroke: #1f77b4\"/>\n     <use xlink:href=\"#mfa438fda74\" x=\"118.355627\" y=\"19.012795\" style=\"fill: #1f77b4; stroke: #1f77b4\"/>\n     <use xlink:href=\"#mfa438fda74\" x=\"125.272984\" y=\"19.742296\" style=\"fill: #1f77b4; stroke: #1f77b4\"/>\n     <use xlink:href=\"#mfa438fda74\" x=\"132.190341\" y=\"20.468105\" style=\"fill: #1f77b4; stroke: #1f77b4\"/>\n     <use xlink:href=\"#mfa438fda74\" x=\"139.107698\" y=\"21.424376\" style=\"fill: #1f77b4; stroke: #1f77b4\"/>\n     <use xlink:href=\"#mfa438fda74\" x=\"146.025046\" y=\"22.490226\" style=\"fill: #1f77b4; stroke: #1f77b4\"/>\n     <use xlink:href=\"#mfa438fda74\" x=\"152.942403\" y=\"23.802323\" style=\"fill: #1f77b4; stroke: #1f77b4\"/>\n     <use xlink:href=\"#mfa438fda74\" x=\"159.85976\" y=\"24.943026\" style=\"fill: #1f77b4; stroke: #1f77b4\"/>\n     <use xlink:href=\"#mfa438fda74\" x=\"166.777117\" y=\"26.176079\" style=\"fill: #1f77b4; stroke: #1f77b4\"/>\n     <use xlink:href=\"#mfa438fda74\" x=\"173.694474\" y=\"27.501958\" style=\"fill: #1f77b4; stroke: #1f77b4\"/>\n     <use xlink:href=\"#mfa438fda74\" x=\"180.611823\" y=\"28.854657\" style=\"fill: #1f77b4; stroke: #1f77b4\"/>\n     <use xlink:href=\"#mfa438fda74\" x=\"187.529179\" y=\"30.239495\" style=\"fill: #1f77b4; stroke: #1f77b4\"/>\n     <use xlink:href=\"#mfa438fda74\" x=\"194.446536\" y=\"31.650899\" style=\"fill: #1f77b4; stroke: #1f77b4\"/>\n     <use xlink:href=\"#mfa438fda74\" x=\"201.363885\" y=\"33.060428\" style=\"fill: #1f77b4; stroke: #1f77b4\"/>\n     <use xlink:href=\"#mfa438fda74\" x=\"208.28125\" y=\"34.482552\" style=\"fill: #1f77b4; stroke: #1f77b4\"/>\n     <use xlink:href=\"#mfa438fda74\" x=\"215.198599\" y=\"35.90987\" style=\"fill: #1f77b4; stroke: #1f77b4\"/>\n     <use xlink:href=\"#mfa438fda74\" x=\"222.115964\" y=\"37.335202\" style=\"fill: #1f77b4; stroke: #1f77b4\"/>\n     <use xlink:href=\"#mfa438fda74\" x=\"229.033312\" y=\"38.759852\" style=\"fill: #1f77b4; stroke: #1f77b4\"/>\n     <use xlink:href=\"#mfa438fda74\" x=\"235.950661\" y=\"40.177946\" style=\"fill: #1f77b4; stroke: #1f77b4\"/>\n     <use xlink:href=\"#mfa438fda74\" x=\"242.868026\" y=\"41.580299\" style=\"fill: #1f77b4; stroke: #1f77b4\"/>\n     <use xlink:href=\"#mfa438fda74\" x=\"249.785375\" y=\"42.962584\" style=\"fill: #1f77b4; stroke: #1f77b4\"/>\n     <use xlink:href=\"#mfa438fda74\" x=\"256.70274\" y=\"44.32172\" style=\"fill: #1f77b4; stroke: #1f77b4\"/>\n     <use xlink:href=\"#mfa438fda74\" x=\"263.620088\" y=\"45.656735\" style=\"fill: #1f77b4; stroke: #1f77b4\"/>\n     <use xlink:href=\"#mfa438fda74\" x=\"270.537437\" y=\"46.965547\" style=\"fill: #1f77b4; stroke: #1f77b4\"/>\n     <use xlink:href=\"#mfa438fda74\" x=\"277.454802\" y=\"48.247908\" style=\"fill: #1f77b4; stroke: #1f77b4\"/>\n     <use xlink:href=\"#mfa438fda74\" x=\"284.372151\" y=\"49.503886\" style=\"fill: #1f77b4; stroke: #1f77b4\"/>\n     <use xlink:href=\"#mfa438fda74\" x=\"291.289516\" y=\"50.732119\" style=\"fill: #1f77b4; stroke: #1f77b4\"/>\n     <use xlink:href=\"#mfa438fda74\" x=\"298.206865\" y=\"51.930567\" style=\"fill: #1f77b4; stroke: #1f77b4\"/>\n     <use xlink:href=\"#mfa438fda74\" x=\"305.124213\" y=\"53.097642\" style=\"fill: #1f77b4; stroke: #1f77b4\"/>\n     <use xlink:href=\"#mfa438fda74\" x=\"312.041578\" y=\"54.234865\" style=\"fill: #1f77b4; stroke: #1f77b4\"/>\n     <use xlink:href=\"#mfa438fda74\" x=\"318.958927\" y=\"55.34351\" style=\"fill: #1f77b4; stroke: #1f77b4\"/>\n     <use xlink:href=\"#mfa438fda74\" x=\"325.876292\" y=\"56.423871\" style=\"fill: #1f77b4; stroke: #1f77b4\"/>\n     <use xlink:href=\"#mfa438fda74\" x=\"332.793641\" y=\"57.475594\" style=\"fill: #1f77b4; stroke: #1f77b4\"/>\n     <use xlink:href=\"#mfa438fda74\" x=\"339.710989\" y=\"58.500685\" style=\"fill: #1f77b4; stroke: #1f77b4\"/>\n     <use xlink:href=\"#mfa438fda74\" x=\"346.628338\" y=\"59.500705\" style=\"fill: #1f77b4; stroke: #1f77b4\"/>\n     <use xlink:href=\"#mfa438fda74\" x=\"353.54572\" y=\"60.476053\" style=\"fill: #1f77b4; stroke: #1f77b4\"/>\n     <use xlink:href=\"#mfa438fda74\" x=\"360.463068\" y=\"61.427125\" style=\"fill: #1f77b4; stroke: #1f77b4\"/>\n    </g>\n   </g>\n   <g id=\"matplotlib.axis_1\">\n    <g id=\"xtick_1\">\n     <g id=\"line2d_1\">\n      <defs>\n       <path id=\"mffb7e6a502\" d=\"M 0 0 \nL 0 3.5 \n\" style=\"stroke: #000000; stroke-width: 0.8\"/>\n      </defs>\n      <g>\n       <use xlink:href=\"#mffb7e6a502\" x=\"56.099432\" y=\"224.64\" style=\"stroke: #000000; stroke-width: 0.8\"/>\n      </g>\n     </g>\n     <g id=\"text_1\">\n      <!-- 0.0 -->\n      <g transform=\"translate(48.147869 239.238437)scale(0.1 -0.1)\">\n       <defs>\n        <path id=\"DejaVuSans-30\" d=\"M 2034 4250 \nQ 1547 4250 1301 3770 \nQ 1056 3291 1056 2328 \nQ 1056 1369 1301 889 \nQ 1547 409 2034 409 \nQ 2525 409 2770 889 \nQ 3016 1369 3016 2328 \nQ 3016 3291 2770 3770 \nQ 2525 4250 2034 4250 \nz\nM 2034 4750 \nQ 2819 4750 3233 4129 \nQ 3647 3509 3647 2328 \nQ 3647 1150 3233 529 \nQ 2819 -91 2034 -91 \nQ 1250 -91 836 529 \nQ 422 1150 422 2328 \nQ 422 3509 836 4129 \nQ 1250 4750 2034 4750 \nz\n\" transform=\"scale(0.015625)\"/>\n        <path id=\"DejaVuSans-2e\" d=\"M 684 794 \nL 1344 794 \nL 1344 0 \nL 684 0 \nL 684 794 \nz\n\" transform=\"scale(0.015625)\"/>\n       </defs>\n       <use xlink:href=\"#DejaVuSans-30\"/>\n       <use xlink:href=\"#DejaVuSans-2e\" x=\"63.623047\"/>\n       <use xlink:href=\"#DejaVuSans-30\" x=\"95.410156\"/>\n      </g>\n     </g>\n    </g>\n    <g id=\"xtick_2\">\n     <g id=\"line2d_2\">\n      <g>\n       <use xlink:href=\"#mffb7e6a502\" x=\"111.438274\" y=\"224.64\" style=\"stroke: #000000; stroke-width: 0.8\"/>\n      </g>\n     </g>\n     <g id=\"text_2\">\n      <!-- 0.2 -->\n      <g transform=\"translate(103.486711 239.238437)scale(0.1 -0.1)\">\n       <defs>\n        <path id=\"DejaVuSans-32\" d=\"M 1228 531 \nL 3431 531 \nL 3431 0 \nL 469 0 \nL 469 531 \nQ 828 903 1448 1529 \nQ 2069 2156 2228 2338 \nQ 2531 2678 2651 2914 \nQ 2772 3150 2772 3378 \nQ 2772 3750 2511 3984 \nQ 2250 4219 1831 4219 \nQ 1534 4219 1204 4116 \nQ 875 4013 500 3803 \nL 500 4441 \nQ 881 4594 1212 4672 \nQ 1544 4750 1819 4750 \nQ 2544 4750 2975 4387 \nQ 3406 4025 3406 3419 \nQ 3406 3131 3298 2873 \nQ 3191 2616 2906 2266 \nQ 2828 2175 2409 1742 \nQ 1991 1309 1228 531 \nz\n\" transform=\"scale(0.015625)\"/>\n       </defs>\n       <use xlink:href=\"#DejaVuSans-30\"/>\n       <use xlink:href=\"#DejaVuSans-2e\" x=\"63.623047\"/>\n       <use xlink:href=\"#DejaVuSans-32\" x=\"95.410156\"/>\n      </g>\n     </g>\n    </g>\n    <g id=\"xtick_3\">\n     <g id=\"line2d_3\">\n      <g>\n       <use xlink:href=\"#mffb7e6a502\" x=\"166.777115\" y=\"224.64\" style=\"stroke: #000000; stroke-width: 0.8\"/>\n      </g>\n     </g>\n     <g id=\"text_3\">\n      <!-- 0.4 -->\n      <g transform=\"translate(158.825553 239.238437)scale(0.1 -0.1)\">\n       <defs>\n        <path id=\"DejaVuSans-34\" d=\"M 2419 4116 \nL 825 1625 \nL 2419 1625 \nL 2419 4116 \nz\nM 2253 4666 \nL 3047 4666 \nL 3047 1625 \nL 3713 1625 \nL 3713 1100 \nL 3047 1100 \nL 3047 0 \nL 2419 0 \nL 2419 1100 \nL 313 1100 \nL 313 1709 \nL 2253 4666 \nz\n\" transform=\"scale(0.015625)\"/>\n       </defs>\n       <use xlink:href=\"#DejaVuSans-30\"/>\n       <use xlink:href=\"#DejaVuSans-2e\" x=\"63.623047\"/>\n       <use xlink:href=\"#DejaVuSans-34\" x=\"95.410156\"/>\n      </g>\n     </g>\n    </g>\n    <g id=\"xtick_4\">\n     <g id=\"line2d_4\">\n      <g>\n       <use xlink:href=\"#mffb7e6a502\" x=\"222.115957\" y=\"224.64\" style=\"stroke: #000000; stroke-width: 0.8\"/>\n      </g>\n     </g>\n     <g id=\"text_4\">\n      <!-- 0.6 -->\n      <g transform=\"translate(214.164395 239.238437)scale(0.1 -0.1)\">\n       <defs>\n        <path id=\"DejaVuSans-36\" d=\"M 2113 2584 \nQ 1688 2584 1439 2293 \nQ 1191 2003 1191 1497 \nQ 1191 994 1439 701 \nQ 1688 409 2113 409 \nQ 2538 409 2786 701 \nQ 3034 994 3034 1497 \nQ 3034 2003 2786 2293 \nQ 2538 2584 2113 2584 \nz\nM 3366 4563 \nL 3366 3988 \nQ 3128 4100 2886 4159 \nQ 2644 4219 2406 4219 \nQ 1781 4219 1451 3797 \nQ 1122 3375 1075 2522 \nQ 1259 2794 1537 2939 \nQ 1816 3084 2150 3084 \nQ 2853 3084 3261 2657 \nQ 3669 2231 3669 1497 \nQ 3669 778 3244 343 \nQ 2819 -91 2113 -91 \nQ 1303 -91 875 529 \nQ 447 1150 447 2328 \nQ 447 3434 972 4092 \nQ 1497 4750 2381 4750 \nQ 2619 4750 2861 4703 \nQ 3103 4656 3366 4563 \nz\n\" transform=\"scale(0.015625)\"/>\n       </defs>\n       <use xlink:href=\"#DejaVuSans-30\"/>\n       <use xlink:href=\"#DejaVuSans-2e\" x=\"63.623047\"/>\n       <use xlink:href=\"#DejaVuSans-36\" x=\"95.410156\"/>\n      </g>\n     </g>\n    </g>\n    <g id=\"xtick_5\">\n     <g id=\"line2d_5\">\n      <g>\n       <use xlink:href=\"#mffb7e6a502\" x=\"277.454799\" y=\"224.64\" style=\"stroke: #000000; stroke-width: 0.8\"/>\n      </g>\n     </g>\n     <g id=\"text_5\">\n      <!-- 0.8 -->\n      <g transform=\"translate(269.503236 239.238437)scale(0.1 -0.1)\">\n       <defs>\n        <path id=\"DejaVuSans-38\" d=\"M 2034 2216 \nQ 1584 2216 1326 1975 \nQ 1069 1734 1069 1313 \nQ 1069 891 1326 650 \nQ 1584 409 2034 409 \nQ 2484 409 2743 651 \nQ 3003 894 3003 1313 \nQ 3003 1734 2745 1975 \nQ 2488 2216 2034 2216 \nz\nM 1403 2484 \nQ 997 2584 770 2862 \nQ 544 3141 544 3541 \nQ 544 4100 942 4425 \nQ 1341 4750 2034 4750 \nQ 2731 4750 3128 4425 \nQ 3525 4100 3525 3541 \nQ 3525 3141 3298 2862 \nQ 3072 2584 2669 2484 \nQ 3125 2378 3379 2068 \nQ 3634 1759 3634 1313 \nQ 3634 634 3220 271 \nQ 2806 -91 2034 -91 \nQ 1263 -91 848 271 \nQ 434 634 434 1313 \nQ 434 1759 690 2068 \nQ 947 2378 1403 2484 \nz\nM 1172 3481 \nQ 1172 3119 1398 2916 \nQ 1625 2713 2034 2713 \nQ 2441 2713 2670 2916 \nQ 2900 3119 2900 3481 \nQ 2900 3844 2670 4047 \nQ 2441 4250 2034 4250 \nQ 1625 4250 1398 4047 \nQ 1172 3844 1172 3481 \nz\n\" transform=\"scale(0.015625)\"/>\n       </defs>\n       <use xlink:href=\"#DejaVuSans-30\"/>\n       <use xlink:href=\"#DejaVuSans-2e\" x=\"63.623047\"/>\n       <use xlink:href=\"#DejaVuSans-38\" x=\"95.410156\"/>\n      </g>\n     </g>\n    </g>\n    <g id=\"xtick_6\">\n     <g id=\"line2d_6\">\n      <g>\n       <use xlink:href=\"#mffb7e6a502\" x=\"332.793641\" y=\"224.64\" style=\"stroke: #000000; stroke-width: 0.8\"/>\n      </g>\n     </g>\n     <g id=\"text_6\">\n      <!-- 1.0 -->\n      <g transform=\"translate(324.842078 239.238437)scale(0.1 -0.1)\">\n       <defs>\n        <path id=\"DejaVuSans-31\" d=\"M 794 531 \nL 1825 531 \nL 1825 4091 \nL 703 3866 \nL 703 4441 \nL 1819 4666 \nL 2450 4666 \nL 2450 531 \nL 3481 531 \nL 3481 0 \nL 794 0 \nL 794 531 \nz\n\" transform=\"scale(0.015625)\"/>\n       </defs>\n       <use xlink:href=\"#DejaVuSans-31\"/>\n       <use xlink:href=\"#DejaVuSans-2e\" x=\"63.623047\"/>\n       <use xlink:href=\"#DejaVuSans-30\" x=\"95.410156\"/>\n      </g>\n     </g>\n    </g>\n    <g id=\"text_7\">\n     <!-- timesteps -->\n     <g transform=\"translate(183.564844 252.916562)scale(0.1 -0.1)\">\n      <defs>\n       <path id=\"DejaVuSans-74\" d=\"M 1172 4494 \nL 1172 3500 \nL 2356 3500 \nL 2356 3053 \nL 1172 3053 \nL 1172 1153 \nQ 1172 725 1289 603 \nQ 1406 481 1766 481 \nL 2356 481 \nL 2356 0 \nL 1766 0 \nQ 1100 0 847 248 \nQ 594 497 594 1153 \nL 594 3053 \nL 172 3053 \nL 172 3500 \nL 594 3500 \nL 594 4494 \nL 1172 4494 \nz\n\" transform=\"scale(0.015625)\"/>\n       <path id=\"DejaVuSans-69\" d=\"M 603 3500 \nL 1178 3500 \nL 1178 0 \nL 603 0 \nL 603 3500 \nz\nM 603 4863 \nL 1178 4863 \nL 1178 4134 \nL 603 4134 \nL 603 4863 \nz\n\" transform=\"scale(0.015625)\"/>\n       <path id=\"DejaVuSans-6d\" d=\"M 3328 2828 \nQ 3544 3216 3844 3400 \nQ 4144 3584 4550 3584 \nQ 5097 3584 5394 3201 \nQ 5691 2819 5691 2113 \nL 5691 0 \nL 5113 0 \nL 5113 2094 \nQ 5113 2597 4934 2840 \nQ 4756 3084 4391 3084 \nQ 3944 3084 3684 2787 \nQ 3425 2491 3425 1978 \nL 3425 0 \nL 2847 0 \nL 2847 2094 \nQ 2847 2600 2669 2842 \nQ 2491 3084 2119 3084 \nQ 1678 3084 1418 2786 \nQ 1159 2488 1159 1978 \nL 1159 0 \nL 581 0 \nL 581 3500 \nL 1159 3500 \nL 1159 2956 \nQ 1356 3278 1631 3431 \nQ 1906 3584 2284 3584 \nQ 2666 3584 2933 3390 \nQ 3200 3197 3328 2828 \nz\n\" transform=\"scale(0.015625)\"/>\n       <path id=\"DejaVuSans-65\" d=\"M 3597 1894 \nL 3597 1613 \nL 953 1613 \nQ 991 1019 1311 708 \nQ 1631 397 2203 397 \nQ 2534 397 2845 478 \nQ 3156 559 3463 722 \nL 3463 178 \nQ 3153 47 2828 -22 \nQ 2503 -91 2169 -91 \nQ 1331 -91 842 396 \nQ 353 884 353 1716 \nQ 353 2575 817 3079 \nQ 1281 3584 2069 3584 \nQ 2775 3584 3186 3129 \nQ 3597 2675 3597 1894 \nz\nM 3022 2063 \nQ 3016 2534 2758 2815 \nQ 2500 3097 2075 3097 \nQ 1594 3097 1305 2825 \nQ 1016 2553 972 2059 \nL 3022 2063 \nz\n\" transform=\"scale(0.015625)\"/>\n       <path id=\"DejaVuSans-73\" d=\"M 2834 3397 \nL 2834 2853 \nQ 2591 2978 2328 3040 \nQ 2066 3103 1784 3103 \nQ 1356 3103 1142 2972 \nQ 928 2841 928 2578 \nQ 928 2378 1081 2264 \nQ 1234 2150 1697 2047 \nL 1894 2003 \nQ 2506 1872 2764 1633 \nQ 3022 1394 3022 966 \nQ 3022 478 2636 193 \nQ 2250 -91 1575 -91 \nQ 1294 -91 989 -36 \nQ 684 19 347 128 \nL 347 722 \nQ 666 556 975 473 \nQ 1284 391 1588 391 \nQ 1994 391 2212 530 \nQ 2431 669 2431 922 \nQ 2431 1156 2273 1281 \nQ 2116 1406 1581 1522 \nL 1381 1569 \nQ 847 1681 609 1914 \nQ 372 2147 372 2553 \nQ 372 3047 722 3315 \nQ 1072 3584 1716 3584 \nQ 2034 3584 2315 3537 \nQ 2597 3491 2834 3397 \nz\n\" transform=\"scale(0.015625)\"/>\n       <path id=\"DejaVuSans-70\" d=\"M 1159 525 \nL 1159 -1331 \nL 581 -1331 \nL 581 3500 \nL 1159 3500 \nL 1159 2969 \nQ 1341 3281 1617 3432 \nQ 1894 3584 2278 3584 \nQ 2916 3584 3314 3078 \nQ 3713 2572 3713 1747 \nQ 3713 922 3314 415 \nQ 2916 -91 2278 -91 \nQ 1894 -91 1617 61 \nQ 1341 213 1159 525 \nz\nM 3116 1747 \nQ 3116 2381 2855 2742 \nQ 2594 3103 2138 3103 \nQ 1681 3103 1420 2742 \nQ 1159 2381 1159 1747 \nQ 1159 1113 1420 752 \nQ 1681 391 2138 391 \nQ 2594 391 2855 752 \nQ 3116 1113 3116 1747 \nz\n\" transform=\"scale(0.015625)\"/>\n      </defs>\n      <use xlink:href=\"#DejaVuSans-74\"/>\n      <use xlink:href=\"#DejaVuSans-69\" x=\"39.208984\"/>\n      <use xlink:href=\"#DejaVuSans-6d\" x=\"66.992188\"/>\n      <use xlink:href=\"#DejaVuSans-65\" x=\"164.404297\"/>\n      <use xlink:href=\"#DejaVuSans-73\" x=\"225.927734\"/>\n      <use xlink:href=\"#DejaVuSans-74\" x=\"278.027344\"/>\n      <use xlink:href=\"#DejaVuSans-65\" x=\"317.236328\"/>\n      <use xlink:href=\"#DejaVuSans-70\" x=\"378.759766\"/>\n      <use xlink:href=\"#DejaVuSans-73\" x=\"442.236328\"/>\n     </g>\n    </g>\n   </g>\n   <g id=\"matplotlib.axis_2\">\n    <g id=\"ytick_1\">\n     <g id=\"line2d_7\">\n      <defs>\n       <path id=\"m0e0f950cff\" d=\"M 0 0 \nL -3.5 0 \n\" style=\"stroke: #000000; stroke-width: 0.8\"/>\n      </defs>\n      <g>\n       <use xlink:href=\"#m0e0f950cff\" x=\"40.88125\" y=\"214.756364\" style=\"stroke: #000000; stroke-width: 0.8\"/>\n      </g>\n     </g>\n     <g id=\"text_8\">\n      <!-- 0 -->\n      <g transform=\"translate(27.51875 218.555582)scale(0.1 -0.1)\">\n       <use xlink:href=\"#DejaVuSans-30\"/>\n      </g>\n     </g>\n    </g>\n    <g id=\"ytick_2\">\n     <g id=\"line2d_8\">\n      <g>\n       <use xlink:href=\"#m0e0f950cff\" x=\"40.88125\" y=\"176.455778\" style=\"stroke: #000000; stroke-width: 0.8\"/>\n      </g>\n     </g>\n     <g id=\"text_9\">\n      <!-- 10 -->\n      <g transform=\"translate(21.15625 180.254997)scale(0.1 -0.1)\">\n       <use xlink:href=\"#DejaVuSans-31\"/>\n       <use xlink:href=\"#DejaVuSans-30\" x=\"63.623047\"/>\n      </g>\n     </g>\n    </g>\n    <g id=\"ytick_3\">\n     <g id=\"line2d_9\">\n      <g>\n       <use xlink:href=\"#m0e0f950cff\" x=\"40.88125\" y=\"138.155193\" style=\"stroke: #000000; stroke-width: 0.8\"/>\n      </g>\n     </g>\n     <g id=\"text_10\">\n      <!-- 20 -->\n      <g transform=\"translate(21.15625 141.954412)scale(0.1 -0.1)\">\n       <use xlink:href=\"#DejaVuSans-32\"/>\n       <use xlink:href=\"#DejaVuSans-30\" x=\"63.623047\"/>\n      </g>\n     </g>\n    </g>\n    <g id=\"ytick_4\">\n     <g id=\"line2d_10\">\n      <g>\n       <use xlink:href=\"#m0e0f950cff\" x=\"40.88125\" y=\"99.854607\" style=\"stroke: #000000; stroke-width: 0.8\"/>\n      </g>\n     </g>\n     <g id=\"text_11\">\n      <!-- 30 -->\n      <g transform=\"translate(21.15625 103.653826)scale(0.1 -0.1)\">\n       <defs>\n        <path id=\"DejaVuSans-33\" d=\"M 2597 2516 \nQ 3050 2419 3304 2112 \nQ 3559 1806 3559 1356 \nQ 3559 666 3084 287 \nQ 2609 -91 1734 -91 \nQ 1441 -91 1130 -33 \nQ 819 25 488 141 \nL 488 750 \nQ 750 597 1062 519 \nQ 1375 441 1716 441 \nQ 2309 441 2620 675 \nQ 2931 909 2931 1356 \nQ 2931 1769 2642 2001 \nQ 2353 2234 1838 2234 \nL 1294 2234 \nL 1294 2753 \nL 1863 2753 \nQ 2328 2753 2575 2939 \nQ 2822 3125 2822 3475 \nQ 2822 3834 2567 4026 \nQ 2313 4219 1838 4219 \nQ 1578 4219 1281 4162 \nQ 984 4106 628 3988 \nL 628 4550 \nQ 988 4650 1302 4700 \nQ 1616 4750 1894 4750 \nQ 2613 4750 3031 4423 \nQ 3450 4097 3450 3541 \nQ 3450 3153 3228 2886 \nQ 3006 2619 2597 2516 \nz\n\" transform=\"scale(0.015625)\"/>\n       </defs>\n       <use xlink:href=\"#DejaVuSans-33\"/>\n       <use xlink:href=\"#DejaVuSans-30\" x=\"63.623047\"/>\n      </g>\n     </g>\n    </g>\n    <g id=\"ytick_5\">\n     <g id=\"line2d_11\">\n      <g>\n       <use xlink:href=\"#m0e0f950cff\" x=\"40.88125\" y=\"61.554022\" style=\"stroke: #000000; stroke-width: 0.8\"/>\n      </g>\n     </g>\n     <g id=\"text_12\">\n      <!-- 40 -->\n      <g transform=\"translate(21.15625 65.353241)scale(0.1 -0.1)\">\n       <use xlink:href=\"#DejaVuSans-34\"/>\n       <use xlink:href=\"#DejaVuSans-30\" x=\"63.623047\"/>\n      </g>\n     </g>\n    </g>\n    <g id=\"ytick_6\">\n     <g id=\"line2d_12\">\n      <g>\n       <use xlink:href=\"#m0e0f950cff\" x=\"40.88125\" y=\"23.253436\" style=\"stroke: #000000; stroke-width: 0.8\"/>\n      </g>\n     </g>\n     <g id=\"text_13\">\n      <!-- 50 -->\n      <g transform=\"translate(21.15625 27.052655)scale(0.1 -0.1)\">\n       <defs>\n        <path id=\"DejaVuSans-35\" d=\"M 691 4666 \nL 3169 4666 \nL 3169 4134 \nL 1269 4134 \nL 1269 2991 \nQ 1406 3038 1543 3061 \nQ 1681 3084 1819 3084 \nQ 2600 3084 3056 2656 \nQ 3513 2228 3513 1497 \nQ 3513 744 3044 326 \nQ 2575 -91 1722 -91 \nQ 1428 -91 1123 -41 \nQ 819 9 494 109 \nL 494 744 \nQ 775 591 1075 516 \nQ 1375 441 1709 441 \nQ 2250 441 2565 725 \nQ 2881 1009 2881 1497 \nQ 2881 1984 2565 2268 \nQ 2250 2553 1709 2553 \nQ 1456 2553 1204 2497 \nQ 953 2441 691 2322 \nL 691 4666 \nz\n\" transform=\"scale(0.015625)\"/>\n       </defs>\n       <use xlink:href=\"#DejaVuSans-35\"/>\n       <use xlink:href=\"#DejaVuSans-30\" x=\"63.623047\"/>\n      </g>\n     </g>\n    </g>\n    <g id=\"text_14\">\n     <!-- volumetric_fraction -->\n     <g transform=\"translate(14.798438 164.303594)rotate(-90)scale(0.1 -0.1)\">\n      <defs>\n       <path id=\"DejaVuSans-76\" d=\"M 191 3500 \nL 800 3500 \nL 1894 563 \nL 2988 3500 \nL 3597 3500 \nL 2284 0 \nL 1503 0 \nL 191 3500 \nz\n\" transform=\"scale(0.015625)\"/>\n       <path id=\"DejaVuSans-6f\" d=\"M 1959 3097 \nQ 1497 3097 1228 2736 \nQ 959 2375 959 1747 \nQ 959 1119 1226 758 \nQ 1494 397 1959 397 \nQ 2419 397 2687 759 \nQ 2956 1122 2956 1747 \nQ 2956 2369 2687 2733 \nQ 2419 3097 1959 3097 \nz\nM 1959 3584 \nQ 2709 3584 3137 3096 \nQ 3566 2609 3566 1747 \nQ 3566 888 3137 398 \nQ 2709 -91 1959 -91 \nQ 1206 -91 779 398 \nQ 353 888 353 1747 \nQ 353 2609 779 3096 \nQ 1206 3584 1959 3584 \nz\n\" transform=\"scale(0.015625)\"/>\n       <path id=\"DejaVuSans-6c\" d=\"M 603 4863 \nL 1178 4863 \nL 1178 0 \nL 603 0 \nL 603 4863 \nz\n\" transform=\"scale(0.015625)\"/>\n       <path id=\"DejaVuSans-75\" d=\"M 544 1381 \nL 544 3500 \nL 1119 3500 \nL 1119 1403 \nQ 1119 906 1312 657 \nQ 1506 409 1894 409 \nQ 2359 409 2629 706 \nQ 2900 1003 2900 1516 \nL 2900 3500 \nL 3475 3500 \nL 3475 0 \nL 2900 0 \nL 2900 538 \nQ 2691 219 2414 64 \nQ 2138 -91 1772 -91 \nQ 1169 -91 856 284 \nQ 544 659 544 1381 \nz\nM 1991 3584 \nL 1991 3584 \nz\n\" transform=\"scale(0.015625)\"/>\n       <path id=\"DejaVuSans-72\" d=\"M 2631 2963 \nQ 2534 3019 2420 3045 \nQ 2306 3072 2169 3072 \nQ 1681 3072 1420 2755 \nQ 1159 2438 1159 1844 \nL 1159 0 \nL 581 0 \nL 581 3500 \nL 1159 3500 \nL 1159 2956 \nQ 1341 3275 1631 3429 \nQ 1922 3584 2338 3584 \nQ 2397 3584 2469 3576 \nQ 2541 3569 2628 3553 \nL 2631 2963 \nz\n\" transform=\"scale(0.015625)\"/>\n       <path id=\"DejaVuSans-63\" d=\"M 3122 3366 \nL 3122 2828 \nQ 2878 2963 2633 3030 \nQ 2388 3097 2138 3097 \nQ 1578 3097 1268 2742 \nQ 959 2388 959 1747 \nQ 959 1106 1268 751 \nQ 1578 397 2138 397 \nQ 2388 397 2633 464 \nQ 2878 531 3122 666 \nL 3122 134 \nQ 2881 22 2623 -34 \nQ 2366 -91 2075 -91 \nQ 1284 -91 818 406 \nQ 353 903 353 1747 \nQ 353 2603 823 3093 \nQ 1294 3584 2113 3584 \nQ 2378 3584 2631 3529 \nQ 2884 3475 3122 3366 \nz\n\" transform=\"scale(0.015625)\"/>\n       <path id=\"DejaVuSans-5f\" d=\"M 3263 -1063 \nL 3263 -1509 \nL -63 -1509 \nL -63 -1063 \nL 3263 -1063 \nz\n\" transform=\"scale(0.015625)\"/>\n       <path id=\"DejaVuSans-66\" d=\"M 2375 4863 \nL 2375 4384 \nL 1825 4384 \nQ 1516 4384 1395 4259 \nQ 1275 4134 1275 3809 \nL 1275 3500 \nL 2222 3500 \nL 2222 3053 \nL 1275 3053 \nL 1275 0 \nL 697 0 \nL 697 3053 \nL 147 3053 \nL 147 3500 \nL 697 3500 \nL 697 3744 \nQ 697 4328 969 4595 \nQ 1241 4863 1831 4863 \nL 2375 4863 \nz\n\" transform=\"scale(0.015625)\"/>\n       <path id=\"DejaVuSans-61\" d=\"M 2194 1759 \nQ 1497 1759 1228 1600 \nQ 959 1441 959 1056 \nQ 959 750 1161 570 \nQ 1363 391 1709 391 \nQ 2188 391 2477 730 \nQ 2766 1069 2766 1631 \nL 2766 1759 \nL 2194 1759 \nz\nM 3341 1997 \nL 3341 0 \nL 2766 0 \nL 2766 531 \nQ 2569 213 2275 61 \nQ 1981 -91 1556 -91 \nQ 1019 -91 701 211 \nQ 384 513 384 1019 \nQ 384 1609 779 1909 \nQ 1175 2209 1959 2209 \nL 2766 2209 \nL 2766 2266 \nQ 2766 2663 2505 2880 \nQ 2244 3097 1772 3097 \nQ 1472 3097 1187 3025 \nQ 903 2953 641 2809 \nL 641 3341 \nQ 956 3463 1253 3523 \nQ 1550 3584 1831 3584 \nQ 2591 3584 2966 3190 \nQ 3341 2797 3341 1997 \nz\n\" transform=\"scale(0.015625)\"/>\n       <path id=\"DejaVuSans-6e\" d=\"M 3513 2113 \nL 3513 0 \nL 2938 0 \nL 2938 2094 \nQ 2938 2591 2744 2837 \nQ 2550 3084 2163 3084 \nQ 1697 3084 1428 2787 \nQ 1159 2491 1159 1978 \nL 1159 0 \nL 581 0 \nL 581 3500 \nL 1159 3500 \nL 1159 2956 \nQ 1366 3272 1645 3428 \nQ 1925 3584 2291 3584 \nQ 2894 3584 3203 3211 \nQ 3513 2838 3513 2113 \nz\n\" transform=\"scale(0.015625)\"/>\n      </defs>\n      <use xlink:href=\"#DejaVuSans-76\"/>\n      <use xlink:href=\"#DejaVuSans-6f\" x=\"59.179688\"/>\n      <use xlink:href=\"#DejaVuSans-6c\" x=\"120.361328\"/>\n      <use xlink:href=\"#DejaVuSans-75\" x=\"148.144531\"/>\n      <use xlink:href=\"#DejaVuSans-6d\" x=\"211.523438\"/>\n      <use xlink:href=\"#DejaVuSans-65\" x=\"308.935547\"/>\n      <use xlink:href=\"#DejaVuSans-74\" x=\"370.458984\"/>\n      <use xlink:href=\"#DejaVuSans-72\" x=\"409.667969\"/>\n      <use xlink:href=\"#DejaVuSans-69\" x=\"450.78125\"/>\n      <use xlink:href=\"#DejaVuSans-63\" x=\"478.564453\"/>\n      <use xlink:href=\"#DejaVuSans-5f\" x=\"533.544922\"/>\n      <use xlink:href=\"#DejaVuSans-66\" x=\"583.544922\"/>\n      <use xlink:href=\"#DejaVuSans-72\" x=\"618.75\"/>\n      <use xlink:href=\"#DejaVuSans-61\" x=\"659.863281\"/>\n      <use xlink:href=\"#DejaVuSans-63\" x=\"721.142578\"/>\n      <use xlink:href=\"#DejaVuSans-74\" x=\"776.123047\"/>\n      <use xlink:href=\"#DejaVuSans-69\" x=\"815.332031\"/>\n      <use xlink:href=\"#DejaVuSans-6f\" x=\"843.115234\"/>\n      <use xlink:href=\"#DejaVuSans-6e\" x=\"904.296875\"/>\n     </g>\n    </g>\n   </g>\n   <g id=\"patch_3\">\n    <path d=\"M 40.88125 224.64 \nL 40.88125 7.2 \n\" style=\"fill: none; stroke: #000000; stroke-width: 0.8; stroke-linejoin: miter; stroke-linecap: square\"/>\n   </g>\n   <g id=\"patch_4\">\n    <path d=\"M 375.68125 224.64 \nL 375.68125 7.2 \n\" style=\"fill: none; stroke: #000000; stroke-width: 0.8; stroke-linejoin: miter; stroke-linecap: square\"/>\n   </g>\n   <g id=\"patch_5\">\n    <path d=\"M 40.88125 224.64 \nL 375.68125 224.64 \n\" style=\"fill: none; stroke: #000000; stroke-width: 0.8; stroke-linejoin: miter; stroke-linecap: square\"/>\n   </g>\n   <g id=\"patch_6\">\n    <path d=\"M 40.88125 7.2 \nL 375.68125 7.2 \n\" style=\"fill: none; stroke: #000000; stroke-width: 0.8; stroke-linejoin: miter; stroke-linecap: square\"/>\n   </g>\n  </g>\n </g>\n <defs>\n  <clipPath id=\"pf52db03058\">\n   <rect x=\"40.88125\" y=\"7.2\" width=\"334.8\" height=\"217.44\"/>\n  </clipPath>\n </defs>\n</svg>\n",
      "text/plain": [
       "<Figure size 432x288 with 1 Axes>"
      ]
     },
     "metadata": {
      "needs_background": "light"
     },
     "output_type": "display_data"
    }
   ],
   "source": [
    "display_html(lv.plot_metric(lv.STATES.EF))"
   ]
  },
  {
   "cell_type": "code",
   "execution_count": 14,
   "metadata": {},
   "outputs": [
    {
     "data": {
      "text/plain": [
       "array([-29.78308333, -20.3935104 , -11.56646507,  -4.63517564,\n",
       "         0.        ,  -0.21350426,  -0.30939529,  -0.5043765 ,\n",
       "        -0.72168004,  -0.94631928,  -1.11895456,  -1.3027141 ,\n",
       "        -1.51840457,  -1.71574336,  -1.95813824,  -2.20651249,\n",
       "        -2.42438141,  -2.64106399,  -2.9329321 ,  -3.15109642,\n",
       "        -3.36941791,  -3.59134051,  -3.81790067,  -4.03216593,\n",
       "        -4.24647015,  -4.44752907,  -4.65229903,  -4.85140077,\n",
       "        -5.04888759,  -5.247183  ,  -5.42694426,  -5.60405865,\n",
       "        -5.77499174,  -5.94064463,  -6.10233306,  -6.25856544,\n",
       "        -6.41181655,  -6.55704309,  -6.69964826,  -6.78681939,\n",
       "        -6.91600988,  -7.06073774,  -7.18898109,  -7.31114181,\n",
       "        -7.42957415])"
      ]
     },
     "execution_count": 14,
     "metadata": {},
     "output_type": "execute_result"
    }
   ],
   "source": [
    "circ_spks = lv.get_speckles(spk_collection=\"circ-6\")\n",
    "lv.rotation(circ_spks, t_ed=0.1)"
   ]
  },
  {
   "cell_type": "markdown",
   "metadata": {},
   "source": [
    "Twist:"
   ]
  },
  {
   "cell_type": "code",
   "execution_count": 15,
   "metadata": {},
   "outputs": [
    {
     "data": {
      "text/plain": [
       "array([-29.78308333, -20.3935104 , -11.56646507,  -4.63517564,\n",
       "         0.        ,  -0.21350426,  -0.30939529,  -0.5043765 ,\n",
       "        -0.72168004,  -0.94631928,  -1.11895456,  -1.3027141 ,\n",
       "        -1.51840457,  -1.71574336,  -1.95813824,  -2.20651249,\n",
       "        -2.42438141,  -2.64106399,  -2.9329321 ,  -3.15109642,\n",
       "        -3.36941791,  -3.59134051,  -3.81790067,  -4.03216593,\n",
       "        -4.24647015,  -4.44752907,  -4.65229903,  -4.85140077,\n",
       "        -5.04888759,  -5.247183  ,  -5.42694426,  -5.60405865,\n",
       "        -5.77499174,  -5.94064463,  -6.10233306,  -6.25856544,\n",
       "        -6.41181655,  -6.55704309,  -6.69964826,  -6.78681939,\n",
       "        -6.91600988,  -7.06073774,  -7.18898109,  -7.31114181,\n",
       "        -7.42957415])"
      ]
     },
     "execution_count": 15,
     "metadata": {},
     "output_type": "execute_result"
    }
   ],
   "source": [
    "circ_spks = lv.get_speckles(spk_collection=\"circ-6\")\n",
    "lv.rotation(circ_spks, t_ed=0.1)"
   ]
  },
  {
   "cell_type": "markdown",
   "metadata": {},
   "source": [
    "Twist:"
   ]
  },
  {
   "cell_type": "code",
   "execution_count": 16,
   "metadata": {},
   "outputs": [
    {
     "data": {
      "text/plain": [
       "array([-1.53830838e-01, -5.68894882e-03,  2.43891670e-02,  1.86436081e-02,\n",
       "        3.58000018e-02, -6.64394481e-02, -2.10479338e-01, -1.74068128e-01,\n",
       "       -9.15555411e-02, -7.54509131e-02, -6.42317709e-02, -1.78974396e-02,\n",
       "       -1.63210021e-01, -1.51579895e-01, -1.09304981e-01, -1.02829120e-01,\n",
       "       -9.17602051e-02, -4.18060541e-02, -6.86647464e-02, -2.04343969e-02,\n",
       "        1.13967204e-03, -9.85687286e-02, -4.11630103e-02, -5.70550027e-02,\n",
       "       -3.37707430e-02, -1.19501917e-02, -2.83215984e-02, -7.92434865e-02,\n",
       "       -5.32264439e-02, -5.80879874e-02, -2.85768498e-02, -4.46555603e-02,\n",
       "       -4.64258835e-03, -9.49091040e-02, -7.07397087e-02, -2.17124417e-02,\n",
       "        1.20285741e-04,  3.11571890e-02,  4.25509195e-02,  3.34736507e-02,\n",
       "        3.53250603e-02,  1.13918863e-02,  9.03542553e-03,  1.03837541e-03,\n",
       "        4.56969606e-03])"
      ]
     },
     "execution_count": 16,
     "metadata": {},
     "output_type": "execute_result"
    }
   ],
   "source": [
    "apex_spks = lv.get_speckles(spk_name=\"apex\", spk_collection=\"circ-6\")\n",
    "base_spks = lv.get_speckles(spk_name=\"base\", spk_collection=\"circ-6\")\n",
    "\n",
    "lv.twist(apex_spks, base_spks, t_ed=0.1)"
   ]
  },
  {
   "cell_type": "markdown",
   "metadata": {},
   "source": [
    "Torsion:"
   ]
  },
  {
   "cell_type": "code",
   "execution_count": 17,
   "metadata": {},
   "outputs": [
    {
     "data": {
      "text/plain": [
       "array([-3.58028755e-03, -1.32405653e-04,  5.67638011e-04,  4.33914802e-04,\n",
       "        8.33215901e-04, -1.54632408e-03, -4.89873526e-03, -4.05129400e-03,\n",
       "       -2.13088070e-03, -1.75605859e-03, -1.49494219e-03, -4.16548339e-04,\n",
       "       -3.79858039e-03, -3.52789867e-03, -2.54398447e-03, -2.39326408e-03,\n",
       "       -2.13564409e-03, -9.73001880e-04, -1.59811608e-03, -4.75593956e-04,\n",
       "        2.65249391e-05, -2.29410693e-03, -9.58035560e-04, -1.32790875e-03,\n",
       "       -7.85986555e-04, -2.78130984e-04, -6.59162151e-04, -1.84432765e-03,\n",
       "       -1.23880216e-03, -1.35195062e-03, -6.65102919e-04, -1.03932182e-03,\n",
       "       -1.08052465e-04, -2.20893214e-03, -1.64640914e-03, -5.05339407e-04,\n",
       "        2.79955271e-06,  7.25158214e-04,  9.90338017e-04,  7.79071975e-04,\n",
       "        8.22162025e-04,  2.65136882e-04,  2.10292175e-04,  2.41673424e-05,\n",
       "        1.06355956e-04])"
      ]
     },
     "execution_count": 17,
     "metadata": {},
     "output_type": "execute_result"
    }
   ],
   "source": [
    "apex_spks = lv.get_speckles(spk_name=\"apex\", spk_collection=\"circ-6\")\n",
    "base_spks = lv.get_speckles(spk_name=\"base\", spk_collection=\"circ-6\")\n",
    "\n",
    "lv.torsion(apex_spks, base_spks, t_ed=0.1)"
   ]
  }
 ],
 "metadata": {
  "interpreter": {
   "hash": "364647f439eeb51cea9fa1ad47f7b03a5a9ed5157a0ffe2dd43bcec2d09df37e"
  },
  "kernelspec": {
   "display_name": "Python 3.9.7 (conda)",
   "language": "python",
   "name": "python3"
  },
  "language_info": {
   "codemirror_mode": {
    "name": "ipython",
    "version": 3
   },
   "file_extension": ".py",
   "mimetype": "text/x-python",
   "name": "python",
   "nbconvert_exporter": "python",
   "pygments_lexer": "ipython3",
   "version": "3.9.7"
  },
  "orig_nbformat": 4
 },
 "nbformat": 4,
 "nbformat_minor": 2
}
