{
 "cells": [
  {
   "cell_type": "code",
   "execution_count": 1,
   "metadata": {},
   "outputs": [],
   "source": [
    "from project_heart.lv import LV\n",
    "import numpy as np\n",
    "import pyvista as pv\n",
    "pv.set_jupyter_backend(\"pythreejs\")\n",
    "\n",
    "import os\n",
    "from pathlib import Path\n",
    "\n",
    "from project_heart.enums import *"
   ]
  },
  {
   "cell_type": "code",
   "execution_count": 2,
   "metadata": {},
   "outputs": [],
   "source": [
    "filepath = Path(\"C:/Users/igorp/Downloads/0.24_45.00_50.00_LVMYO_HEX8_83648_wr.xplt\")\n",
    "lv = LV.from_file(filepath)\n",
    "lv.identify_regions(LV_GEO_TYPES.TYPE_A,\n",
    "    endo_epi_args={\"threshold\":85,})"
   ]
  },
  {
   "cell_type": "code",
   "execution_count": 3,
   "metadata": {},
   "outputs": [],
   "source": [
    "import json\n",
    "with open(\"../sample_files/spk_json.json\", \"r\") as spk_file:\n",
    "  spk_json = json.load(spk_file)\n",
    "for spk_data in spk_json:\n",
    "  if spk_data[\"from_nodeset\"] == \"endo\":\n",
    "    spk_data[\"from_nodeset\"] = LV_SURFS.ENDO.value\n",
    "  elif spk_data[\"from_nodeset\"] == \"epi\":\n",
    "    spk_data[\"from_nodeset\"] = LV_SURFS.EPI.value\n",
    "  else:\n",
    "    print(spk_data)\n",
    "\n",
    "for spk_data in spk_json:\n",
    "  lv.create_speckles(**spk_data)"
   ]
  },
  {
   "cell_type": "code",
   "execution_count": 4,
   "metadata": {},
   "outputs": [],
   "source": [
    "# lv.plot(\"surface\", \n",
    "#         scalars=LV_MESH_DATA.SURFS,\n",
    "#         # container=\"cells\",\n",
    "#         show_edges=True,\n",
    "#         categorical=True,\n",
    "#         split_sharp_edges=True,\n",
    "#         smooth_shading=False,\n",
    "#         pretty=False,\n",
    "#         )"
   ]
  },
  {
   "cell_type": "code",
   "execution_count": 5,
   "metadata": {},
   "outputs": [
    {
     "data": {
      "text/plain": [
       "array([ 0.        ,  0.46901488, -0.06550491, -0.94165826, -1.5020456 ,\n",
       "       -1.7143162 , -1.74463706, -1.80390488, -1.80052704, -1.78349104,\n",
       "       -1.80201795, -1.85131445, -1.89387787, -1.93142238, -1.83428463,\n",
       "       -1.81711042, -1.84227584, -1.90939522, -1.96673013, -2.02746759,\n",
       "       -2.0889959 , -2.15408367, -2.2210371 , -2.28878796, -2.35353796,\n",
       "       -2.42863425, -2.50465552, -2.57969094, -2.65586353, -2.73141285,\n",
       "       -2.80575479, -2.87618382, -2.94757563, -3.01791599, -3.07978472,\n",
       "       -3.1497959 , -3.21896173, -3.28302104, -3.34542221, -3.41183671,\n",
       "       -3.46463906, -3.52224668, -3.580666  , -3.63534018, -3.68859192])"
      ]
     },
     "execution_count": 5,
     "metadata": {},
     "output_type": "execute_result"
    }
   ],
   "source": [
    "lv.xyz()\n",
    "lv.volume()\n",
    "lv.ejection_fraction()\n",
    "lv.longitudinal_shortening()"
   ]
  },
  {
   "cell_type": "code",
   "execution_count": 6,
   "metadata": {},
   "outputs": [],
   "source": [
    "endo_spk = lv.get_speckles(spk_subset=0.0, spk_name=\"mid\", spk_group=\"endo\", spk_collection=\"circ-6\")[0]\n",
    "epi_spk = lv.get_speckles(spk_subset=0.0, spk_name=\"mid\", spk_group=\"epi\", spk_collection=\"circ-6\")[0]"
   ]
  },
  {
   "cell_type": "code",
   "execution_count": 7,
   "metadata": {},
   "outputs": [
    {
     "data": {
      "text/plain": [
       "array([-8.87371886, -5.58067296, -2.63468775, -1.34106557,  0.        ,\n",
       "        0.23552439,  1.05400577,  1.72853541,  2.38863942,  3.04805144,\n",
       "        3.63184071,  4.08572718,  4.53593409,  4.9671877 ,  5.67329311,\n",
       "        6.15327041,  6.49742229,  6.77429375,  7.02918758,  7.26930982,\n",
       "        7.48635829,  7.67880437,  7.85287961,  8.01200714,  8.15458554,\n",
       "        8.28317253,  8.39851076,  8.50255799,  8.59654226,  8.68190811,\n",
       "        8.75941452,  8.83019191,  8.89486295,  8.95427088,  9.0089231 ,\n",
       "        9.05944548,  9.10622637,  9.14967271,  9.19014828,  9.22800481,\n",
       "        9.26346428,  9.29680776,  9.32824802,  9.35796581,  9.38615141])"
      ]
     },
     "execution_count": 7,
     "metadata": {},
     "output_type": "execute_result"
    }
   ],
   "source": [
    "lv.compute_spk_radial_shortening(endo_spk)\n",
    "lv.compute_spk_thickness(endo_spk, epi_spk)\n",
    "lv.compute_spk_thickening(endo_spk, epi_spk, t_ed=0.1)"
   ]
  },
  {
   "cell_type": "code",
   "execution_count": 8,
   "metadata": {},
   "outputs": [
    {
     "data": {
      "text/plain": [
       "array([ 0.        ,  6.82402225, 12.90213015, 18.06397274, 22.13919905,\n",
       "       25.134974  , 25.59474455, 25.40117346, 25.37592771, 25.75379285,\n",
       "       26.09653295, 26.34240363, 26.533444  , 26.69032185, 26.83302147,\n",
       "       26.95995218, 27.0528693 , 27.10450496, 27.11235571, 27.0962376 ,\n",
       "       27.07574373, 27.05000814, 27.01641291, 26.97515531, 26.92971594,\n",
       "       26.88111047, 26.83037672, 26.77862967, 26.74869438, 26.68209118,\n",
       "       26.59001019, 26.48339881, 26.37305036, 26.26961771, 26.18366419,\n",
       "       26.12568037, 26.10279839, 26.04729988, 26.02297253, 26.02812589,\n",
       "       26.04856735, 26.09098111, 26.12584766, 26.13712736, 26.10878057])"
      ]
     },
     "execution_count": 8,
     "metadata": {},
     "output_type": "execute_result"
    }
   ],
   "source": [
    "lv.compute_spk_circumferential_length(endo_spk)\n",
    "lv.compute_spk_circumferential_strain(endo_spk)"
   ]
  },
  {
   "cell_type": "code",
   "execution_count": 9,
   "metadata": {},
   "outputs": [
    {
     "data": {
      "text/plain": [
       "array([0.39172004, 0.46741396, 0.38436709, 0.38857126, 0.38743111,\n",
       "       0.38758507, 0.49486383, 0.62668621, 0.53848337, 0.45986709,\n",
       "       0.3817889 , 0.32416493, 0.29508279, 0.28908558, 0.30944106,\n",
       "       0.56796629, 0.59197252, 0.80819465, 0.81977338, 0.69663496,\n",
       "       0.6932298 , 0.30761869, 0.28018921, 0.32151272, 0.45829676,\n",
       "       0.36480945, 0.33237153, 0.27758711, 0.29102357, 0.32608544,\n",
       "       0.54816358, 0.47500599, 0.39036853, 0.37295965, 0.39501186,\n",
       "       0.41971239, 0.34873908, 0.37689226, 0.33569784, 0.3825707 ,\n",
       "       0.33476778, 0.4377195 , 0.39792237, 0.69426485, 0.75487934])"
      ]
     },
     "execution_count": 9,
     "metadata": {},
     "output_type": "execute_result"
    }
   ],
   "source": [
    "lv.compute_spk_vectors(endo_spk)\n",
    "lv.compute_spk_rotation(endo_spk, check_orientation=False)"
   ]
  },
  {
   "cell_type": "code",
   "execution_count": 10,
   "metadata": {},
   "outputs": [],
   "source": [
    "base_spk = lv.get_speckles(spk_subset=0.0, spk_name=\"base\", spk_group=\"epi\", spk_collection=\"circ-6\")[0]\n",
    "apex_spk = lv.get_speckles(spk_subset=0.0, spk_name=\"apex\", spk_group=\"epi\", spk_collection=\"circ-6\")[0]"
   ]
  },
  {
   "cell_type": "code",
   "execution_count": 11,
   "metadata": {},
   "outputs": [
    {
     "data": {
      "text/plain": [
       "array([-4.03053773e-03, -1.69441250e-03, -5.71175117e-04, -1.06050275e-04,\n",
       "       -6.62151829e-04,  4.36793017e-03,  6.59165735e-03,  1.80290791e-03,\n",
       "        1.02464559e-03,  8.18755198e-04, -3.38678163e-04,  3.93221025e-03,\n",
       "        2.88603121e-04,  1.25685605e-03, -4.51823884e-03, -2.85951011e-04,\n",
       "       -5.18130067e-03, -8.68383095e-03, -9.86586297e-03, -8.10950715e-03,\n",
       "       -8.28662331e-03, -1.42232833e-02,  3.26091103e-03,  1.31486296e-04,\n",
       "        1.55991118e-04,  7.47040766e-05,  4.98230917e-04, -6.45536798e-04,\n",
       "        1.95565861e-04, -2.04085115e-03, -1.12638567e-03, -2.52169567e-03,\n",
       "       -3.18937917e-03,  3.46150423e-04,  8.11050211e-04,  2.32555281e-03,\n",
       "        1.68068811e-03,  2.56601415e-03,  3.59027683e-03,  1.20029881e-03,\n",
       "       -1.88262521e-04, -1.38547139e-05, -2.29315886e-05, -9.33391388e-04,\n",
       "       -2.72755479e-03])"
      ]
     },
     "execution_count": 11,
     "metadata": {},
     "output_type": "execute_result"
    }
   ],
   "source": [
    "lv.compute_spk_twist(apex_spk, base_spk)\n",
    "lv.compute_spk_torsion(apex_spk, base_spk)"
   ]
  },
  {
   "cell_type": "code",
   "execution_count": 12,
   "metadata": {},
   "outputs": [
    {
     "data": {
      "text/plain": [
       "array([-4.03053773e-03, -1.69441250e-03, -5.71175117e-04, -1.06050275e-04,\n",
       "       -6.62151829e-04,  4.36793017e-03,  6.59165735e-03,  1.80290791e-03,\n",
       "        1.02464559e-03,  8.18755198e-04, -3.38678163e-04,  3.93221025e-03,\n",
       "        2.88603121e-04,  1.25685605e-03, -4.51823884e-03, -2.85951011e-04,\n",
       "       -5.18130067e-03, -8.68383095e-03, -9.86586297e-03, -8.10950715e-03,\n",
       "       -8.28662331e-03, -1.42232833e-02,  3.26091103e-03,  1.31486296e-04,\n",
       "        1.55991118e-04,  7.47040766e-05,  4.98230917e-04, -6.45536798e-04,\n",
       "        1.95565861e-04, -2.04085115e-03, -1.12638567e-03, -2.52169567e-03,\n",
       "       -3.18937917e-03,  3.46150423e-04,  8.11050211e-04,  2.32555281e-03,\n",
       "        1.68068811e-03,  2.56601415e-03,  3.59027683e-03,  1.20029881e-03,\n",
       "       -1.88262521e-04, -1.38547139e-05, -2.29315886e-05, -9.33391388e-04,\n",
       "       -2.72755479e-03])"
      ]
     },
     "execution_count": 12,
     "metadata": {},
     "output_type": "execute_result"
    }
   ],
   "source": [
    "lv.compute_spk_torsion(apex_spk, base_spk)"
   ]
  },
  {
   "cell_type": "code",
   "execution_count": 13,
   "metadata": {},
   "outputs": [],
   "source": [
    "endo_spk = lv.get_speckles(spk_subset=0.0, spk_name=\"mid\", spk_group=\"endo\", spk_collection=\"long-6\")[0]\n",
    "epi_spk = lv.get_speckles(spk_subset=0.0, spk_name=\"mid\", spk_group=\"epi\", spk_collection=\"long-6\")[0]"
   ]
  },
  {
   "cell_type": "code",
   "execution_count": 14,
   "metadata": {},
   "outputs": [
    {
     "data": {
      "text/plain": [
       "array([ 0.        ,  1.79000167,  5.23830186,  9.3732172 , 13.22306433,\n",
       "       15.48955393, 11.43662271, 10.59142543, 13.93774211, 16.03230639,\n",
       "       25.39431914, 39.48594684, 53.85606006, 65.43864824, 71.51639941,\n",
       "       77.69629159, 79.63461207, 75.70260041, 75.55981771, 75.69899453,\n",
       "       75.6679851 , 75.63622446, 75.60372677, 75.56779985, 75.34075395,\n",
       "       75.44055931, 75.78014764, 76.26445314, 76.79808479, 77.28539936,\n",
       "       77.63036996, 77.73667161, 77.51723718, 77.48930064, 77.46395811,\n",
       "       77.43886229, 77.41404495, 77.38952256, 77.36531328, 77.34142576,\n",
       "       77.31585725, 77.29197229, 77.27134218, 77.25554035, 77.24614026])"
      ]
     },
     "execution_count": 14,
     "metadata": {},
     "output_type": "execute_result"
    }
   ],
   "source": [
    "lv.compute_spk_longitudinal_length(endo_spk)\n",
    "lv.compute_spk_longitudinal_strain(endo_spk)"
   ]
  }
 ],
 "metadata": {
  "interpreter": {
   "hash": "364647f439eeb51cea9fa1ad47f7b03a5a9ed5157a0ffe2dd43bcec2d09df37e"
  },
  "kernelspec": {
   "display_name": "Python 3.9.7 (conda)",
   "language": "python",
   "name": "python3"
  },
  "language_info": {
   "codemirror_mode": {
    "name": "ipython",
    "version": 3
   },
   "file_extension": ".py",
   "mimetype": "text/x-python",
   "name": "python",
   "nbconvert_exporter": "python",
   "pygments_lexer": "ipython3",
   "version": "3.9.7"
  },
  "orig_nbformat": 4
 },
 "nbformat": 4,
 "nbformat_minor": 2
}
