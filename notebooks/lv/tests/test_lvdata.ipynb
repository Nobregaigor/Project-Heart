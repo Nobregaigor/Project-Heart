{
 "cells": [
  {
   "cell_type": "code",
   "execution_count": null,
   "metadata": {},
   "outputs": [],
   "source": [
    "from project_heart.lv import LV\n",
    "import numpy as np\n",
    "import pyvista as pv\n",
    "pv.set_jupyter_backend(\"pythreejs\")\n",
    "\n",
    "import os\n",
    "from pathlib import Path\n",
    "\n",
    "from project_heart.enums import *"
   ]
  },
  {
   "cell_type": "markdown",
   "metadata": {},
   "source": [
    "# Load file"
   ]
  },
  {
   "cell_type": "code",
   "execution_count": null,
   "metadata": {},
   "outputs": [],
   "source": [
    "filepath = Path(\"C:/Users/igorp/Downloads/0.24_45.00_50.00_LVMYO_HEX8_83648_wr.xplt\")\n",
    "lv = LV.from_file(filepath)\n",
    "lv.identify_regions(LV_GEO_TYPES.TYPE_A,\n",
    "    endo_epi_args={\"threshold\":85,})"
   ]
  },
  {
   "cell_type": "code",
   "execution_count": null,
   "metadata": {},
   "outputs": [],
   "source": [
    "import json\n",
    "with open(\"../sample_files/spk_json.json\", \"r\") as spk_file:\n",
    "  spk_json = json.load(spk_file)\n",
    "for spk_data in spk_json:\n",
    "  if spk_data[\"from_nodeset\"] == \"endo\":\n",
    "    spk_data[\"from_nodeset\"] = LV_SURFS.ENDO.value\n",
    "  elif spk_data[\"from_nodeset\"] == \"epi\":\n",
    "    spk_data[\"from_nodeset\"] = LV_SURFS.EPI.value\n",
    "  else:\n",
    "    print(spk_data)\n",
    "\n",
    "for spk_data in spk_json:\n",
    "  lv.create_speckles(**spk_data)"
   ]
  },
  {
   "cell_type": "code",
   "execution_count": null,
   "metadata": {},
   "outputs": [],
   "source": [
    "lv.plot(\"surface\", \n",
    "        scalars=LV_MESH_DATA.SURFS,\n",
    "        # container=\"cells\",\n",
    "        show_edges=True,\n",
    "        categorical=True,\n",
    "        split_sharp_edges=True,\n",
    "        smooth_shading=False,\n",
    "        pretty=False,\n",
    "        )"
   ]
  },
  {
   "cell_type": "markdown",
   "metadata": {},
   "source": [
    "# Metrics"
   ]
  },
  {
   "cell_type": "markdown",
   "metadata": {},
   "source": [
    "## Geo Metrics (formely geochars)"
   ]
  },
  {
   "cell_type": "markdown",
   "metadata": {},
   "source": [
    "### Geo Metrics that do not require speckles:"
   ]
  },
  {
   "cell_type": "markdown",
   "metadata": {},
   "source": [
    "Volume:"
   ]
  },
  {
   "cell_type": "code",
   "execution_count": null,
   "metadata": {},
   "outputs": [],
   "source": [
    "lv.volume()\n",
    "lv.plot_metric(lv.STATES.VOLUME, kind=\"line\")"
   ]
  },
  {
   "cell_type": "markdown",
   "metadata": {},
   "source": [
    "Longitudinal Distances:"
   ]
  },
  {
   "cell_type": "code",
   "execution_count": null,
   "metadata": {},
   "outputs": [],
   "source": [
    "lv.longitudinal_distances()\n",
    "lv.plot_metric(lv.STATES.LONG_DISTS, kind=\"line\")"
   ]
  },
  {
   "cell_type": "markdown",
   "metadata": {},
   "source": [
    "### Geo Metrics that do require speckles:"
   ]
  },
  {
   "cell_type": "markdown",
   "metadata": {},
   "source": [
    "Radius (for each spk):"
   ]
  },
  {
   "cell_type": "code",
   "execution_count": null,
   "metadata": {},
   "outputs": [],
   "source": [
    "circ_spks = lv.get_speckles(spk_collection=\"circ-6\")\n",
    "lv.radius(circ_spks)\n",
    "lv.plot_metric(lv.STATES.RADIUS, \n",
    "    from_ts=0.1,\n",
    "    plot_infos=[\"group\"])"
   ]
  },
  {
   "cell_type": "markdown",
   "metadata": {},
   "source": [
    "Thickness"
   ]
  },
  {
   "cell_type": "code",
   "execution_count": null,
   "metadata": {},
   "outputs": [],
   "source": [
    "endo_circ_spks = lv.get_speckles(spk_group=\"endo\", spk_collection=\"circ-6\")\n",
    "epi_circ_spks = lv.get_speckles(spk_group=\"epi\", spk_collection=\"circ-6\")\n",
    "\n",
    "lv.thickness(endo_circ_spks, epi_circ_spks)\n",
    "lv.plot_metric(lv.STATES.THICKNESS,     \n",
    "    from_ts=0.1,\n",
    "    plot_infos=[\"group\"])"
   ]
  },
  {
   "cell_type": "markdown",
   "metadata": {},
   "source": [
    "Longitudinal Length:"
   ]
  },
  {
   "cell_type": "code",
   "execution_count": null,
   "metadata": {},
   "outputs": [],
   "source": [
    "long_spks = lv.get_speckles(spk_collection=\"long-6\")\n",
    "lv.longitudinal_length(long_spks)\n",
    "lv.plot_metric(lv.STATES.LONG_LENGTH, \n",
    "    from_ts=0.1,\n",
    "    plot_infos=[\"group\"])"
   ]
  },
  {
   "cell_type": "markdown",
   "metadata": {},
   "source": [
    "Circumferential Length:"
   ]
  },
  {
   "cell_type": "code",
   "execution_count": null,
   "metadata": {},
   "outputs": [],
   "source": [
    "circ_spks = lv.get_speckles(spk_collection=\"circ-6\")\n",
    "lv.circumferential_length(circ_spks)\n",
    "lv.plot_metric(lv.STATES.CIRC_LENGTH, \n",
    "    from_ts=0.1,\n",
    "    plot_infos=[\"group\"])"
   ]
  },
  {
   "cell_type": "markdown",
   "metadata": {},
   "source": [
    "Rotation:"
   ]
  },
  {
   "cell_type": "code",
   "execution_count": null,
   "metadata": {},
   "outputs": [],
   "source": [
    "circ_spks = lv.get_speckles(spk_collection=\"circ-6\")\n",
    "lv.rotation(circ_spks)\n",
    "lv.plot_metric(lv.STATES.ROTATION, \n",
    "    from_ts=0.1,\n",
    "    plot_infos=[\"group\"])"
   ]
  },
  {
   "cell_type": "markdown",
   "metadata": {},
   "source": [
    "## Clinical Metrics:"
   ]
  },
  {
   "cell_type": "markdown",
   "metadata": {},
   "source": [
    "### Clinical metrics that do not require speckles"
   ]
  },
  {
   "cell_type": "markdown",
   "metadata": {},
   "source": [
    "Ejection Fraction"
   ]
  },
  {
   "cell_type": "code",
   "execution_count": null,
   "metadata": {},
   "outputs": [],
   "source": [
    "lv.ejection_fraction()\n",
    "lv.plot_metric(lv.STATES.EF, \n",
    "    from_ts=0.1,\n",
    "    plot_infos=[\"group\"])"
   ]
  },
  {
   "cell_type": "markdown",
   "metadata": {},
   "source": [
    "Longitudinal Shortening:"
   ]
  },
  {
   "cell_type": "code",
   "execution_count": null,
   "metadata": {},
   "outputs": [],
   "source": [
    "lv.longitudinal_shortening()\n",
    "lv.plot_metric(lv.STATES.LS, \n",
    "    from_ts=0.1,\n",
    "    plot_infos=[\"group\"])"
   ]
  },
  {
   "cell_type": "markdown",
   "metadata": {},
   "source": [
    "### Clinical metrics that require speckles"
   ]
  },
  {
   "cell_type": "markdown",
   "metadata": {},
   "source": [
    "Radial shortening"
   ]
  },
  {
   "cell_type": "code",
   "execution_count": null,
   "metadata": {},
   "outputs": [],
   "source": [
    "circ_spks = lv.get_speckles(spk_collection=\"circ-6\")\n",
    "lv.radial_shortening(circ_spks, t_ed=0.1)\n",
    "lv.plot_metric(lv.STATES.RS, \n",
    "    from_ts=0.1,\n",
    "    plot_infos=[\"group\"])"
   ]
  },
  {
   "cell_type": "markdown",
   "metadata": {},
   "source": [
    "Wall thickening:"
   ]
  },
  {
   "cell_type": "code",
   "execution_count": null,
   "metadata": {},
   "outputs": [],
   "source": [
    "endo_circ_spks = lv.get_speckles(spk_group=\"endo\", spk_collection=\"circ-6\")\n",
    "epi_circ_spks = lv.get_speckles(spk_group=\"epi\", spk_collection=\"circ-6\")\n",
    "\n",
    "lv.wall_thickening(endo_circ_spks, epi_circ_spks, t_ed=0.1)\n",
    "lv.plot_metric(lv.STATES.WT, \n",
    "    from_ts=0.1,\n",
    "    plot_infos=[\"group\"])"
   ]
  },
  {
   "cell_type": "markdown",
   "metadata": {},
   "source": [
    "Longitudinal strain:"
   ]
  },
  {
   "cell_type": "code",
   "execution_count": null,
   "metadata": {},
   "outputs": [],
   "source": [
    "long_spks = lv.get_speckles(spk_collection=\"long-6\")\n",
    "lv.longitudinal_strain(long_spks, t_ed=0.1)\n",
    "lv.plot_metric(lv.STATES.SL, \n",
    "    from_ts=0.1,\n",
    "    plot_infos=[\"group\"])"
   ]
  },
  {
   "cell_type": "markdown",
   "metadata": {},
   "source": [
    "Circumferential Strain:"
   ]
  },
  {
   "cell_type": "code",
   "execution_count": null,
   "metadata": {},
   "outputs": [],
   "source": [
    "circ_spks = lv.get_speckles(spk_collection=\"circ-6\")\n",
    "lv.circumferential_strain(circ_spks, t_ed=0.1)\n",
    "lv.plot_metric(lv.STATES.SC, \n",
    "    from_ts=0.1,\n",
    "    plot_infos=[\"group\"])"
   ]
  },
  {
   "cell_type": "markdown",
   "metadata": {},
   "source": [
    "Twist:"
   ]
  },
  {
   "cell_type": "code",
   "execution_count": null,
   "metadata": {},
   "outputs": [],
   "source": [
    "apex_spks = lv.get_speckles(spk_name=\"apex\", spk_collection=\"circ-6\")\n",
    "base_spks = lv.get_speckles(spk_name=\"base\", spk_collection=\"circ-6\")\n",
    "\n",
    "lv.twist(apex_spks, base_spks, t_ed=0.1)\n",
    "lv.plot_metric(lv.STATES.TW, \n",
    "    from_ts=0.1,\n",
    "    plot_infos=[\"group\"])"
   ]
  },
  {
   "cell_type": "markdown",
   "metadata": {},
   "source": [
    "Torsion:"
   ]
  },
  {
   "cell_type": "code",
   "execution_count": null,
   "metadata": {},
   "outputs": [],
   "source": [
    "apex_spks = lv.get_speckles(spk_name=\"apex\", spk_collection=\"circ-6\")\n",
    "base_spks = lv.get_speckles(spk_name=\"base\", spk_collection=\"circ-6\")\n",
    "\n",
    "lv.torsion(apex_spks, base_spks, t_ed=0.1)\n",
    "lv.plot_metric(lv.STATES.TO, \n",
    "    from_ts=0.1,\n",
    "    plot_infos=[\"group\"])"
   ]
  }
 ],
 "metadata": {
  "interpreter": {
   "hash": "364647f439eeb51cea9fa1ad47f7b03a5a9ed5157a0ffe2dd43bcec2d09df37e"
  },
  "kernelspec": {
   "display_name": "Python 3 (ipykernel)",
   "language": "python",
   "name": "python3"
  },
  "language_info": {
   "codemirror_mode": {
    "name": "ipython",
    "version": 3
   },
   "file_extension": ".py",
   "mimetype": "text/x-python",
   "name": "python",
   "nbconvert_exporter": "python",
   "pygments_lexer": "ipython3",
   "version": "3.9.7"
  }
 },
 "nbformat": 4,
 "nbformat_minor": 2
}
