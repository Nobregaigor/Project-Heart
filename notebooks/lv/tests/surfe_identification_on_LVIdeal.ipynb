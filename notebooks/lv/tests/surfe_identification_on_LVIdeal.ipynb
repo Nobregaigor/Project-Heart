{
 "cells": [
  {
   "cell_type": "code",
   "execution_count": 1,
   "metadata": {},
   "outputs": [],
   "source": [
    "from project_heart.lv import LV\n",
    "import numpy as np\n",
    "import pyvista as pv\n",
    "pv.set_jupyter_backend(\"pythreejs\")\n",
    "\n",
    "import os\n",
    "from pathlib import Path\n",
    "\n",
    "from project_heart.enums import *"
   ]
  },
  {
   "cell_type": "code",
   "execution_count": 64,
   "metadata": {},
   "outputs": [
    {
     "data": {
      "application/vnd.jupyter.widget-view+json": {
       "model_id": "b8cb9a5eebe747889a74763764d25c54",
       "version_major": 2,
       "version_minor": 0
      },
      "text/plain": [
       "Renderer(camera=PerspectiveCamera(aspect=1.3333333333333333, children=(DirectionalLight(color='#fefefe', posit…"
      ]
     },
     "metadata": {},
     "output_type": "display_data"
    }
   ],
   "source": [
    "filepath = Path(\"../sample_files/ellipsoid.stl\")\n",
    "lv = LV.from_file(filepath)\n",
    "lv.plot(show_edges=True)"
   ]
  },
  {
   "cell_type": "code",
   "execution_count": 53,
   "metadata": {},
   "outputs": [],
   "source": [
    "from project_heart.utils.spatial_utils import *\n",
    "from project_heart.utils.vector_utils import *"
   ]
  },
  {
   "cell_type": "code",
   "execution_count": 140,
   "metadata": {},
   "outputs": [
    {
     "data": {
      "application/vnd.jupyter.widget-view+json": {
       "model_id": "ef0ac193fe124dd1a1f1d97cab9d34a0",
       "version_major": 2,
       "version_minor": 0
      },
      "text/plain": [
       "Renderer(camera=PerspectiveCamera(aspect=1.3333333333333333, children=(DirectionalLight(color='#fefefe', posit…"
      ]
     },
     "metadata": {},
     "output_type": "display_data"
    }
   ],
   "source": [
    "lv.identify_base_and_apex_surfaces()\n",
    "lv.identify_epi_endo_surfaces(90)\n",
    "lv.plot(scalars=LV_MESH_DATA.APEX_BASE_REGIONS.value, categorical=True)"
   ]
  },
  {
   "cell_type": "code",
   "execution_count": 133,
   "metadata": {},
   "outputs": [
    {
     "data": {
      "text/plain": [
       "array([2], dtype=int64)"
      ]
     },
     "execution_count": 133,
     "metadata": {},
     "output_type": "execute_result"
    }
   ],
   "source": [
    "np.where(lv.get_normal()==np.max(lv.get_normal()))[0]"
   ]
  },
  {
   "cell_type": "code",
   "execution_count": 80,
   "metadata": {},
   "outputs": [
    {
     "data": {
      "text/plain": [
       "array([ 1.33337605e-08, -2.01174948e-02,  9.99797623e-01])"
      ]
     },
     "execution_count": 80,
     "metadata": {},
     "output_type": "execute_result"
    }
   ],
   "source": [
    "lv_normal = lv.get_normal() / np.linalg.norm(lv.get_normal())\n",
    "lv_normal"
   ]
  },
  {
   "cell_type": "code",
   "execution_count": 144,
   "metadata": {},
   "outputs": [
    {
     "data": {
      "application/vnd.jupyter.widget-view+json": {
       "model_id": "7339ab08b2784b749e6296eb3b9d59a0",
       "version_major": 2,
       "version_minor": 0
      },
      "text/plain": [
       "Renderer(camera=PerspectiveCamera(aspect=1.3333333333333333, children=(DirectionalLight(color='#fefefe', posit…"
      ]
     },
     "metadata": {},
     "output_type": "display_data"
    }
   ],
   "source": [
    "e1=15\n",
    "b1 = 1\n",
    "b2 = 89\n",
    "\n",
    "endo_epi = np.copy(lv.get(GEO_DATA.SURF_POINT_DATA, LV_MESH_DATA.EPI_ENDO_GUESS))\n",
    "lvsurf = lv.get_surface_mesh()\n",
    "# Get edges\n",
    "edges = lv.mesh.extract_feature_edges(e1)\n",
    "edges = edges.extract_largest()\n",
    "edges = edges.extract_largest()\n",
    "edge_pts = edges.points\n",
    "est_base = centroid(edge_pts)\n",
    "est_radius = radius(edge_pts)\n",
    "# select pts close to est_base based on dist threshold on axis\n",
    "pts = lvsurf.points\n",
    "lvnormal = lv.get_normal()\n",
    "axis = np.where(lvnormal==np.max(lvnormal))[0]\n",
    "d_base = np.abs(est_base[axis] - pts[:, axis])\n",
    "ioi = np.where(d_base <= 0.1)[0]\n",
    "# filter selected pts based on surface angle\n",
    "surfnormals = lvsurf.compute_normals(inplace=True)\n",
    "surf_normals = lvsurf.get_array(\"Normals\", \"points\")\n",
    "base_angles = lv.compute_angles_wrt_normal(surf_normals[ioi], check_orientation=False, degrees=False)\n",
    "ioi = ioi[np.where(base_angles < np.radians(180))[0]]\n",
    "# filter by endo\n",
    "ioi = ioi[np.where(endo_epi[ioi] != LV_SURFS.ENDO)]\n",
    "# identify final surfaces\n",
    "endo_epi_base = np.copy(endo_epi)\n",
    "endo_epi_base[ioi] = LV_SURFS.BASE\n",
    "# map to 'global' mesh ids\n",
    "id_map = lv.get_surface_id_map_from_mesh()\n",
    "endo_epi_base_mesh = np.zeros(lv.mesh.n_points)\n",
    "endo_epi_base_mesh[id_map] = endo_epi_base\n",
    "# add data to mesh\n",
    "lv._surface_mesh.point_data[LV_MESH_DATA.SURFS.value] = endo_epi_base\n",
    "lv.mesh.point_data[LV_MESH_DATA.SURFS.value] = endo_epi_base_mesh\n",
    "#plot\n",
    "lv.plot(\"surface\", \n",
    "        LV_MESH_DATA.SURFS.value,\n",
    "        vnodes=[\n",
    "          (LV_VIRTUAL_NODES.APEX, \"green\"),\n",
    "          (LV_VIRTUAL_NODES.BASE, \"red\"),\n",
    "          ],\n",
    "        categorical=True)"
   ]
  },
  {
   "cell_type": "code",
   "execution_count": 145,
   "metadata": {},
   "outputs": [],
   "source": [
    "lv.mesh.save(\"./test.vtk\")"
   ]
  }
 ],
 "metadata": {
  "interpreter": {
   "hash": "0ae1276936e32d1c86df8db6f3cf7470193c57b148400d4ba3b6a1ab5cfdd10f"
  },
  "kernelspec": {
   "display_name": "Python 3.9.7 (conda)",
   "language": "python",
   "name": "python3"
  },
  "language_info": {
   "codemirror_mode": {
    "name": "ipython",
    "version": 3
   },
   "file_extension": ".py",
   "mimetype": "text/x-python",
   "name": "python",
   "nbconvert_exporter": "python",
   "pygments_lexer": "ipython3",
   "version": "3.9.7"
  },
  "orig_nbformat": 4
 },
 "nbformat": 4,
 "nbformat_minor": 2
}
