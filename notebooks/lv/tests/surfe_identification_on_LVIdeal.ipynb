{
 "cells": [
  {
   "cell_type": "code",
   "execution_count": 1,
   "metadata": {},
   "outputs": [],
   "source": [
    "from project_heart.lv import LV\n",
    "import numpy as np\n",
    "import pyvista as pv\n",
    "pv.set_jupyter_backend(\"pythreejs\")\n",
    "\n",
    "import os\n",
    "from pathlib import Path\n",
    "\n",
    "from project_heart.enums import *"
   ]
  },
  {
   "cell_type": "code",
   "execution_count": 2,
   "metadata": {},
   "outputs": [
    {
     "data": {
      "application/vnd.jupyter.widget-view+json": {
       "model_id": "963845fbf74c4f9394d4105d30b8af3f",
       "version_major": 2,
       "version_minor": 0
      },
      "text/plain": [
       "Renderer(camera=PerspectiveCamera(aspect=1.3333333333333333, children=(DirectionalLight(color='#fefefe', posit…"
      ]
     },
     "metadata": {},
     "output_type": "display_data"
    }
   ],
   "source": [
    "filepath = Path(\"../sample_files/ellipsoid_2.stl\")\n",
    "lv = LV.from_file(filepath)\n",
    "# lv.tetrahedralize(backend=TETRA_BACKEND.TETGEN, quality=True, order=1, mindihedral=10, minratio=1.4, nobisect=True)\n",
    "lv.plot(show_edges=True)"
   ]
  },
  {
   "cell_type": "code",
   "execution_count": 3,
   "metadata": {},
   "outputs": [],
   "source": [
    "lv.identify_regions(LV_GEO_TYPES.IDEAL)"
   ]
  },
  {
   "cell_type": "code",
   "execution_count": 4,
   "metadata": {},
   "outputs": [],
   "source": [
    "lv.transform_region_to_facet_data(LV_MESH_DATA.SURFS)"
   ]
  },
  {
   "cell_type": "code",
   "execution_count": 5,
   "metadata": {},
   "outputs": [
    {
     "data": {
      "application/vnd.jupyter.widget-view+json": {
       "model_id": "8f1ce3a98220474e9ac3f0ecb7defc5e",
       "version_major": 2,
       "version_minor": 0
      },
      "text/plain": [
       "Renderer(camera=PerspectiveCamera(aspect=1.3333333333333333, children=(DirectionalLight(color='#fefefe', posit…"
      ]
     },
     "metadata": {},
     "output_type": "display_data"
    }
   ],
   "source": [
    "lv.plot(\"surface\", \n",
    "        LV_MESH_DATA.SURFS,\n",
    "        preference=\"cell\",\n",
    "        show_edges=True,\n",
    "        vnodes=[\n",
    "          (LV_VIRTUAL_NODES.APEX, \"green\"),\n",
    "          (LV_VIRTUAL_NODES.BASE, \"red\"),\n",
    "          ],\n",
    "        cmap=\"Set1\",\n",
    "        \n",
    "        categorical=True,\n",
    "        split_sharp_edges=True,\n",
    "        smooth_shading=False,\n",
    "        # ambient=0.0,\n",
    "        # diffuse=0.0,\n",
    "        # specular=0.0,\n",
    "        )"
   ]
  },
  {
   "cell_type": "code",
   "execution_count": null,
   "metadata": {},
   "outputs": [],
   "source": [
    "lv.plot(\"mesh\", \n",
    "        LV_MESH_DATA.SURFS,\n",
    "        preference=\"cell\",\n",
    "        show_edges=True,\n",
    "        vnodes=[\n",
    "          (LV_VIRTUAL_NODES.APEX, \"green\"),\n",
    "          (LV_VIRTUAL_NODES.BASE, \"red\"),\n",
    "          ],\n",
    "        cmap=\"Set1\",\n",
    "        \n",
    "        categorical=True,\n",
    "        split_sharp_edges=True,\n",
    "        smooth_shading=False,\n",
    "        # ambient=0.0,\n",
    "        # diffuse=0.0,\n",
    "        # specular=0.0,\n",
    "        )"
   ]
  },
  {
   "cell_type": "code",
   "execution_count": null,
   "metadata": {},
   "outputs": [],
   "source": [
    "np.unique(lv.mesh.cell_data[LV_MESH_DATA.SURFS.value])"
   ]
  },
  {
   "cell_type": "code",
   "execution_count": null,
   "metadata": {},
   "outputs": [],
   "source": [
    "e1 = 45\n",
    "b1 = 1\n",
    "b2 = 89\n",
    "\n",
    "endo_epi = np.copy(lv.get(GEO_DATA.SURF_POINT_DATA, LV_MESH_DATA.EPI_ENDO_GUESS))\n",
    "lvsurf = lv.get_surface_mesh()\n",
    "# Get edges\n",
    "edges = lv.mesh.extract_feature_edges(e1)\n",
    "edge_pts = edges.points\n",
    "est_base = centroid(edge_pts)\n",
    "est_radius = radius(edge_pts)\n",
    "# select pts close to est_base based on dist threshold on axis\n",
    "pts = lvsurf.points\n",
    "lvnormal = lv.get_normal()\n",
    "axis = np.where(lvnormal==np.max(lvnormal))[0]\n",
    "d_base = np.abs(est_base[axis] - pts[:, axis])\n",
    "ioi = np.where(d_base <= 0.1)[0] \n",
    "# print(ioi)\n",
    "# filter selected pts based on surface angle\n",
    "surfnormals = lvsurf.compute_normals(inplace=True)\n",
    "surf_normals = lvsurf.get_array(\"Normals\", \"points\")\n",
    "# base_angles = lv.compute_angles_wrt_normal(surf_normals[ioi], check_orientation=False, degrees=False)\n",
    "len(ioi)\n",
    "zvec = np.repeat(np.expand_dims(lv._Z, 1), len(ioi), axis=1).T\n",
    "base_angles = angle_between(surf_normals[ioi], zvec, check_orientation=False)\n",
    "ioi = ioi[np.where(base_angles <= np.radians(90))[0]]\n",
    "print(len(ioi))\n",
    "# filter by endo\n",
    "ioi = ioi[np.where(endo_epi[ioi] != LV_SURFS.ENDO)]\n",
    "print(len(ioi))\n",
    "\n",
    "# identify final surfaces\n",
    "endo_epi_base = np.copy(endo_epi)*100\n",
    "endo_epi_base[ioi] = LV_SURFS.BASE\n",
    "# map to 'global' mesh ids\n",
    "id_map = lv.get_surface_id_map_from_mesh()\n",
    "endo_epi_base_mesh = np.zeros(lv.mesh.n_points)\n",
    "endo_epi_base_mesh[id_map] = endo_epi_base\n",
    "# add data to mesh\n",
    "# lv.surface_mesh.point_data[LV_MESH_DATA.SURFS.value] = endo_epi_base\n",
    "# lv.mesh.point_data[LV_MESH_DATA.SURFS.value] = endo_epi_base_mesh\n",
    "\n",
    "# compute facet data\n",
    "# cellMap = lv.transform_point_data_to_cell_data(LV_MESH_DATA.SURFS, method=lambda x: int(np.max(x)), surface=True)\n",
    "# lv.set_facet_data(\"FACETS\", cellMap)\n",
    "# lv.transform_surface_point_data_to_facet_data(LV_MESH_DATA.SURFS)\n",
    "\n",
    "# lv.transform_point_data_to_cell_data(LV_MESH_DATA.SURFS, method=lambda x: int(np.max(x)))\n",
    "#plot\n",
    "# lv.plot(\"surface\", \n",
    "#         LV_MESH_DATA.SURFS,\n",
    "#         show_edges=True,\n",
    "#         vnodes=[\n",
    "#           (LV_VIRTUAL_NODES.APEX, \"green\"),\n",
    "#           (LV_VIRTUAL_NODES.BASE, \"red\"),\n",
    "#           ],\n",
    "#         cmap=\"Set1\",\n",
    "#         preference=\"cell\",\n",
    "#         categorical=True,\n",
    "#         split_sharp_edges=True,\n",
    "#         smooth_shading=False,\n",
    "#         ambient=0.0,\n",
    "#         diffuse=0.0,\n",
    "#         specular=0.0,\n",
    "#         )"
   ]
  },
  {
   "cell_type": "code",
   "execution_count": null,
   "metadata": {},
   "outputs": [],
   "source": [
    "lv.surface_mesh.plot(scalars=\"FACETS\")"
   ]
  },
  {
   "cell_type": "code",
   "execution_count": null,
   "metadata": {},
   "outputs": [],
   "source": [
    "np.unique(cellMap)"
   ]
  },
  {
   "cell_type": "code",
   "execution_count": null,
   "metadata": {},
   "outputs": [],
   "source": [
    "lv.transform_point_data_to_cell_data(LV_MESH_DATA.SURFS, method=lambda x: int(np.max(x)),)"
   ]
  },
  {
   "cell_type": "code",
   "execution_count": null,
   "metadata": {},
   "outputs": [],
   "source": [
    "lv.transform_point_data_to_cell_data(LV_MESH_DATA.SURFS, method=lambda x: int(np.max(x)), surface=True)"
   ]
  },
  {
   "cell_type": "code",
   "execution_count": null,
   "metadata": {},
   "outputs": [],
   "source": [
    "lvsurf.cells_dict"
   ]
  },
  {
   "cell_type": "code",
   "execution_count": null,
   "metadata": {},
   "outputs": [],
   "source": [
    "lv.compute_fibers(surfRegionsIds=LV_MESH_DATA.SURFS,\n",
    "                    fiber_space=\"P_1\",\n",
    "                    alpha_endo_lv=60,  # Fiber angle on the endocardium\n",
    "                    alpha_epi_lv=-60,  # Fiber angle on the epicardium\n",
    "                    beta_endo_lv=0,  # Sheet angle on the endocardium\n",
    "                    beta_epi_lv=0,  # Sheet angle on the epicardium\n",
    "                    markers={\n",
    "                      \"lv\": LV_SURFS.ENDO.value,\n",
    "                      \"epi\": LV_SURFS.EPI.value,\n",
    "                      \"base\": LV_SURFS.BASE.value\n",
    "                    },\n",
    "                    ldrb_kwargs={},\n",
    "                    save_xdmfs=False,\n",
    "                    xdmfs_dir=None,\n",
    "                    xdmfs_basename=None,\n",
    "                    del_generated_files=True,\n",
    "                    )"
   ]
  },
  {
   "cell_type": "code",
   "execution_count": null,
   "metadata": {},
   "outputs": [],
   "source": [
    "lv.regress_fibers(lv, hidden_layer_sizes=(100,50), verbose=True, max_iter=250, validation_fraction=0.25, tol=1e-5)"
   ]
  },
  {
   "cell_type": "code",
   "execution_count": null,
   "metadata": {},
   "outputs": [],
   "source": [
    "lv.transform_point_data_to_cell_data(LV_FIBERS.F0, \"mean\", axis=0)\n",
    "lv.transform_point_data_to_cell_data(LV_FIBERS.S0, \"mean\", axis=0)\n",
    "lv.transform_point_data_to_cell_data(LV_FIBERS.N0, \"mean\", axis=0)"
   ]
  },
  {
   "cell_type": "code",
   "execution_count": null,
   "metadata": {},
   "outputs": [],
   "source": [
    "lv.mesh.save(\"./test3.vtk\")"
   ]
  },
  {
   "cell_type": "code",
   "execution_count": null,
   "metadata": {},
   "outputs": [],
   "source": [
    "lv.plot_streamlines(LV_FIBERS.F0, decimate_boundary=0.1)"
   ]
  },
  {
   "cell_type": "code",
   "execution_count": null,
   "metadata": {},
   "outputs": [],
   "source": [
    "lv.mesh.save(\"./test2.vtk\")"
   ]
  }
 ],
 "metadata": {
  "interpreter": {
   "hash": "0ae1276936e32d1c86df8db6f3cf7470193c57b148400d4ba3b6a1ab5cfdd10f"
  },
  "kernelspec": {
   "display_name": "Python 3.9.7 (conda)",
   "language": "python",
   "name": "python3"
  },
  "language_info": {
   "codemirror_mode": {
    "name": "ipython",
    "version": 3
   },
   "file_extension": ".py",
   "mimetype": "text/x-python",
   "name": "python",
   "nbconvert_exporter": "python",
   "pygments_lexer": "ipython3",
   "version": "3.9.7"
  },
  "orig_nbformat": 4
 },
 "nbformat": 4,
 "nbformat_minor": 2
}
