{
 "cells": [
  {
   "cell_type": "code",
   "execution_count": null,
   "metadata": {},
   "outputs": [],
   "source": [
    "from pathlib import Path\n",
    "import numpy as np\n",
    "import logging\n",
    "\n",
    "import pyvista as pv\n",
    "pv.set_jupyter_backend(\"pythreejs\")\n",
    "\n",
    "from project_heart.enums import *\n",
    "from project_heart.lv import LV"
   ]
  },
  {
   "cell_type": "code",
   "execution_count": null,
   "metadata": {},
   "outputs": [],
   "source": [
    "directory = Path(\"C:/Users/igorp/OneDrive - University of South Florida/Igor/Documents/Paper 1/stress_strain_plots/ref_files\")\n",
    "# filename = \"57.32_40.94_10.08.2022_LVRNN_IDEAL_V4\"\n",
    "filename = \"62.71_68.65_10.08.2022_LVRNN_TYPEA_V4\""
   ]
  },
  {
   "cell_type": "code",
   "execution_count": null,
   "metadata": {},
   "outputs": [],
   "source": [
    "from project_heart.examples import get_lv_ideal, get_lv_typeA\n",
    "# lv = get_lv_ideal(str(directory/filename) + \".xplt\", statesfile=None)\n",
    "lv = get_lv_typeA(str(directory/filename) + \".xplt\", statesfile=None)"
   ]
  },
  {
   "cell_type": "code",
   "execution_count": null,
   "metadata": {},
   "outputs": [],
   "source": [
    "spks = lv.get_speckles(spk_collection=\"circ-6\")\n",
    "lv.plot_speckles(spks, show_clusters=False)"
   ]
  },
  {
   "cell_type": "code",
   "execution_count": null,
   "metadata": {},
   "outputs": [],
   "source": [
    "spk_vals = np.zeros(lv.mesh.n_points, dtype=np.int16)\n",
    "for spk in spks:\n",
    "    if spk.name == \"subapex\":\n",
    "        val = 10\n",
    "    elif spk.name == \"apex\":\n",
    "        val = 20\n",
    "    elif spk.name == \"superapex\":\n",
    "        val = 30\n",
    "    elif spk.name == \"submid\":\n",
    "        val = 40\n",
    "    elif spk.name == \"mid\":\n",
    "        val = 50\n",
    "    elif spk.name == \"supermid\":\n",
    "        val = 60\n",
    "    elif spk.name == \"subbase\":\n",
    "        val = 70\n",
    "    elif spk.name == \"base\":\n",
    "        val = 80\n",
    "    elif spk.name == \"superbase\":\n",
    "        val = 90\n",
    "    spk_vals[spk.ids] = val\n",
    "\n",
    "np.unique(spk_vals)"
   ]
  },
  {
   "cell_type": "code",
   "execution_count": null,
   "metadata": {},
   "outputs": [],
   "source": [
    "lv.set_mesh_point_data(\"SPK_BY_NAME\", spk_vals)"
   ]
  },
  {
   "cell_type": "code",
   "execution_count": null,
   "metadata": {},
   "outputs": [],
   "source": [
    "lv.transform_point_data_to_cell_data(\"SPK_BY_NAME\", \"median\")"
   ]
  },
  {
   "cell_type": "code",
   "execution_count": null,
   "metadata": {},
   "outputs": [],
   "source": [
    "lv.to_vtk(\"lv_typeA_with_spks.vtk\")"
   ]
  }
 ],
 "metadata": {
  "kernelspec": {
   "display_name": "project_heart",
   "language": "python",
   "name": "python3"
  },
  "language_info": {
   "codemirror_mode": {
    "name": "ipython",
    "version": 3
   },
   "file_extension": ".py",
   "mimetype": "text/x-python",
   "name": "python",
   "nbconvert_exporter": "python",
   "pygments_lexer": "ipython3",
   "version": "3.9.7"
  },
  "orig_nbformat": 4,
  "vscode": {
   "interpreter": {
    "hash": "a4b270fe5129ef310552b5197d637a230d47119f1e46f0b92ff32b1c5f5c5425"
   }
  }
 },
 "nbformat": 4,
 "nbformat_minor": 2
}
