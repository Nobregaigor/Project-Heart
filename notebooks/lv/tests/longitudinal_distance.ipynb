{
 "cells": [
  {
   "cell_type": "markdown",
   "metadata": {},
   "source": [
    "# Longitudinal Distance"
   ]
  },
  {
   "cell_type": "code",
   "execution_count": 1,
   "metadata": {
    "nbsphinx": "hidden"
   },
   "outputs": [],
   "source": [
    "from pathlib import Path\n",
    "# from project_heart.lv import LV\n",
    "from project_heart.utils import set_jupyter_backend\n",
    "from project_heart.enums import *\n",
    "set_jupyter_backend(\"pythreejs\")\n",
    "import logging\n",
    "import numpy as np\n",
    "float_formatter = \"{:.5f}\".format\n",
    "np.set_printoptions(formatter={'float_kind':float_formatter})\n",
    "\n",
    "from project_heart.examples import get_lv_ideal\n",
    "from project_heart.examples import get_lv_typeA\n",
    "\n",
    "lv_ideal = get_lv_ideal()\n",
    "lv_typeA = get_lv_typeA()\n",
    "\n",
    "sample_spk_typeA_endo = lv_typeA.get_speckles(spk_name=\"SAMPLE\", spk_group=\"endo\", spk_collection=\"SAMPLE\")[0]\n",
    "sample_spk_typeA_epi = lv_typeA.get_speckles(spk_name=\"SAMPLE\", spk_group=\"epi\", spk_collection=\"SAMPLE\")[0]"
   ]
  },
  {
   "cell_type": "code",
   "execution_count": null,
   "metadata": {},
   "outputs": [],
   "source": [
    "ld = lv_ideal.plot_longitudinal_distance(\n",
    "    nodesets = {lv_ideal.REGIONS.ENDO, lv_ideal.REGIONS.EPI},\n",
    "    approach=\"extremes\",\n",
    ")"
   ]
  },
  {
   "cell_type": "code",
   "execution_count": 2,
   "metadata": {},
   "outputs": [
    {
     "name": "stderr",
     "output_type": "stream",
     "text": [
      "INFO:LV.BaseMetricsComputations:Computing metric 'LV_STATES.LONGITUDINAL_DISTANCE' using nodesets: {<LV_SURFS.ENDO: 1>}\n",
      "DEBUG:LV.BaseMetricsComputations:Computing longitudinal distance for nodeset: '1' with approach: 'extremes'.\n",
      "DEBUG:LV.BaseMetricsComputations:Using default base region for base centroid estimation: 23\n",
      "DEBUG:LV.BaseMetricsComputations:[0] --> max: 20.0, min: -65.3257827758789, dist: 85.3257827758789\n",
      "DEBUG:LV.BaseMetricsComputations:[1] --> max: 20.0, min: -60.936623096466064, dist: 80.93662309646606\n",
      "DEBUG:LV.BaseMetricsComputations:[2] --> max: 20.0, min: -55.72781276702881, dist: 75.72781276702881\n",
      "DEBUG:LV.BaseMetricsComputations:[3] --> max: 20.0, min: -52.84489440917969, dist: 72.84489440917969\n",
      "DEBUG:LV.BaseMetricsComputations:[4] --> max: 20.0, min: -49.44624423980713, dist: 69.44624423980713\n",
      "DEBUG:LV.BaseMetricsComputations:[5] --> max: 20.0, min: -49.43885040283203, dist: 69.43885040283203\n",
      "DEBUG:LV.BaseMetricsComputations:[6] --> max: 20.0, min: -49.438687324523926, dist: 69.43868732452393\n",
      "DEBUG:LV.BaseMetricsComputations:[7] --> max: 20.0, min: -49.44705104827881, dist: 69.44705104827881\n",
      "DEBUG:LV.BaseMetricsComputations:[8] --> max: 20.0, min: -49.44613265991211, dist: 69.44613265991211\n",
      "DEBUG:LV.BaseMetricsComputations:[9] --> max: 20.0, min: -49.453965187072754, dist: 69.45396518707275\n",
      "DEBUG:LV.BaseMetricsComputations:[10] --> max: 20.0, min: -49.45289325714111, dist: 69.45289325714111\n",
      "DEBUG:LV.BaseMetricsComputations:[11] --> max: 20.0, min: -49.460652351379395, dist: 69.4606523513794\n",
      "DEBUG:LV.BaseMetricsComputations:[12] --> max: 20.0, min: -49.45976448059082, dist: 69.45976448059082\n",
      "DEBUG:LV.BaseMetricsComputations:[13] --> max: 20.0, min: -49.46771049499512, dist: 69.46771049499512\n",
      "DEBUG:LV.BaseMetricsComputations:[14] --> max: 20.0, min: -49.46719551086426, dist: 69.46719551086426\n",
      "DEBUG:LV.BaseMetricsComputations:[15] --> max: 20.0, min: -49.47547435760498, dist: 69.47547435760498\n",
      "DEBUG:LV.BaseMetricsComputations:[16] --> max: 20.0, min: -49.475440979003906, dist: 69.4754409790039\n",
      "DEBUG:LV.BaseMetricsComputations:[17] --> max: 20.0, min: -49.4841365814209, dist: 69.4841365814209\n",
      "DEBUG:LV.BaseMetricsComputations:[18] --> max: 20.0, min: -49.48464298248291, dist: 69.48464298248291\n",
      "DEBUG:LV.BaseMetricsComputations:[19] --> max: 20.0, min: -49.493804931640625, dist: 69.49380493164062\n",
      "DEBUG:LV.BaseMetricsComputations:[20] --> max: 20.0, min: -49.49488544464111, dist: 69.49488544464111\n",
      "DEBUG:LV.BaseMetricsComputations:[21] --> max: 20.0, min: -49.50454235076904, dist: 69.50454235076904\n",
      "DEBUG:LV.BaseMetricsComputations:[22] --> max: 20.0, min: -49.506216049194336, dist: 69.50621604919434\n",
      "DEBUG:LV.BaseMetricsComputations:[23] --> max: 20.0, min: -49.516387939453125, dist: 69.51638793945312\n",
      "DEBUG:LV.BaseMetricsComputations:[24] --> max: 20.0, min: -49.51866436004639, dist: 69.51866436004639\n",
      "DEBUG:LV.BaseMetricsComputations:[25] --> max: 20.0, min: -49.52936363220215, dist: 69.52936363220215\n",
      "DEBUG:LV.BaseMetricsComputations:[26] --> max: 20.0, min: -49.53225040435791, dist: 69.53225040435791\n",
      "DEBUG:LV.BaseMetricsComputations:[27] --> max: 20.0, min: -49.54348564147949, dist: 69.54348564147949\n",
      "DEBUG:LV.BaseMetricsComputations:[28] --> max: 20.0, min: -49.546987533569336, dist: 69.54698753356934\n",
      "DEBUG:LV.BaseMetricsComputations:[29] --> max: 20.0, min: -49.55876445770264, dist: 69.55876445770264\n",
      "DEBUG:LV.BaseMetricsComputations:[30] --> max: 20.0, min: -49.56288242340088, dist: 69.56288242340088\n",
      "DEBUG:LV.BaseMetricsComputations:[31] --> max: 20.0, min: -49.57520771026611, dist: 69.57520771026611\n",
      "DEBUG:LV.BaseMetricsComputations:[32] --> max: 20.0, min: -49.5799446105957, dist: 69.5799446105957\n",
      "DEBUG:LV.BaseMetricsComputations:[33] --> max: 20.0, min: -49.59282112121582, dist: 69.59282112121582\n",
      "DEBUG:LV.BaseMetricsComputations:[34] --> max: 20.0, min: -49.598177909851074, dist: 69.59817790985107\n",
      "DEBUG:LV.BaseMetricsComputations:[35] --> max: 20.0, min: -49.61160945892334, dist: 69.61160945892334\n",
      "DEBUG:LV.BaseMetricsComputations:[36] --> max: 20.0, min: -49.61758613586426, dist: 69.61758613586426\n",
      "DEBUG:LV.BaseMetricsComputations:[37] --> max: 20.0, min: -49.63157844543457, dist: 69.63157844543457\n",
      "DEBUG:LV.BaseMetricsComputations:[38] --> max: 20.0, min: -49.638176918029785, dist: 69.63817691802979\n",
      "DEBUG:LV.BaseMetricsComputations:[39] --> max: 20.0, min: -49.65273189544678, dist: 69.65273189544678\n",
      "DEBUG:LV.BaseMetricsComputations:[40] --> max: 20.0, min: -49.65995121002197, dist: 69.65995121002197\n",
      "DEBUG:LV.BaseMetricsComputations:[41] --> max: 20.0, min: -49.675071716308594, dist: 69.6750717163086\n",
      "DEBUG:LV.BaseMetricsComputations:[42] --> max: 20.0, min: -49.68291187286377, dist: 69.68291187286377\n",
      "DEBUG:LV.BaseMetricsComputations:[43] --> max: 20.0, min: -49.69859790802002, dist: 69.69859790802002\n",
      "DEBUG:LV.BaseMetricsComputations:[44] --> max: 20.0, min: -49.70705699920654, dist: 69.70705699920654\n",
      "INFO:LV.BaseMetricsComputations:State key added:'longitudinal_distance_1'\n"
     ]
    },
    {
     "data": {
      "text/plain": [
       "array([85.32578, 80.93662, 75.72781, 72.84489, 69.44624, 69.43885,\n",
       "       69.43869, 69.44705, 69.44613, 69.45397, 69.45289, 69.46065,\n",
       "       69.45976, 69.46771, 69.46720, 69.47547, 69.47544, 69.48414,\n",
       "       69.48464, 69.49380, 69.49489, 69.50454, 69.50622, 69.51639,\n",
       "       69.51866, 69.52936, 69.53225, 69.54349, 69.54699, 69.55876,\n",
       "       69.56288, 69.57521, 69.57994, 69.59282, 69.59818, 69.61161,\n",
       "       69.61759, 69.63158, 69.63818, 69.65273, 69.65995, 69.67507,\n",
       "       69.68291, 69.69860, 69.70706])"
      ]
     },
     "execution_count": 2,
     "metadata": {},
     "output_type": "execute_result"
    }
   ],
   "source": [
    "lds = lv_ideal.longitudinal_distances(\n",
    "    recompute=True,\n",
    "    nodesets = {lv_ideal.REGIONS.ENDO}, #lv_ideal.REGIONS.EPI},\n",
    "    approach=\"extremes\",\n",
    "    # t=0.0,\n",
    "    log_level=logging.DEBUG, \n",
    "    use_base_region=True,\n",
    ")\n",
    "lds"
   ]
  },
  {
   "cell_type": "code",
   "execution_count": null,
   "metadata": {},
   "outputs": [],
   "source": [
    "lds = lv_ideal.longitudinal_distances(\n",
    "    recompute=True,\n",
    "    nodesets = {lv_ideal.REGIONS.ENDO}, #lv_ideal.REGIONS.EPI},\n",
    "    approach=\"extremes\",\n",
    "    # t=0.0,\n",
    "    log_level=logging.ERROR, \n",
    "    use_base_region=False,\n",
    ")\n",
    "lds"
   ]
  },
  {
   "cell_type": "code",
   "execution_count": null,
   "metadata": {},
   "outputs": [],
   "source": [
    "lds = lv_typeA.longitudinal_distances(\n",
    "    recompute=True,\n",
    "    nodesets = {lv_typeA.REGIONS.ENDO, lv_ideal.REGIONS.EPI},\n",
    "    approach=\"estimate_apex_base\",\n",
    "    # t=0.0,\n",
    "    ql=0.1,\n",
    "    log_level=logging.DEBUG, \n",
    "    use_base_region=True,\n",
    "    reduce_by={\"group\"}\n",
    ")\n",
    "lds"
   ]
  },
  {
   "cell_type": "code",
   "execution_count": null,
   "metadata": {},
   "outputs": [],
   "source": [
    "lds = lv_typeA.longitudinal_distances(\n",
    "    recompute=True,\n",
    "    nodesets = {lv_typeA.REGIONS.ENDO, lv_ideal.REGIONS.EPI},\n",
    "    approach=\"estimate_apex_base\",\n",
    "    # t=0.0,\n",
    "    log_level=logging.ERROR, \n",
    "    use_base_region=False,\n",
    "    reduce_by={\"group\"}\n",
    ")\n",
    "lds"
   ]
  },
  {
   "cell_type": "code",
   "execution_count": null,
   "metadata": {},
   "outputs": [],
   "source": [
    "lv_typeA.plot_metric(lv_typeA.STATES.LONGITUDINAL_DISTANCE, \n",
    "    from_ts=0.0,\n",
    "    search_suffix=[\"1\", \"2\"])"
   ]
  },
  {
   "cell_type": "code",
   "execution_count": null,
   "metadata": {},
   "outputs": [],
   "source": [
    "ld_ex = lv_typeA.plot_longitudinal_distance(\n",
    "    nodesets = {lv_typeA.REGIONS.ENDO, lv_typeA.REGIONS.EPI},\n",
    "    approach=\"extremes\",\n",
    "    t=0.15\n",
    ")"
   ]
  },
  {
   "cell_type": "code",
   "execution_count": null,
   "metadata": {},
   "outputs": [],
   "source": [
    "ld_es = lv_typeA.plot_longitudinal_distance(\n",
    "    nodesets = {lv_typeA.REGIONS.ENDO, lv_typeA.REGIONS.EPI},\n",
    "    approach=\"estimate_apex_base\",\n",
    "    t=0.15\n",
    ")"
   ]
  },
  {
   "cell_type": "code",
   "execution_count": null,
   "metadata": {},
   "outputs": [],
   "source": [
    "print(\"with 'extremes:\", ld_ex)\n",
    "print(\"with 'estimate_apex_base':\", ld_es)"
   ]
  }
 ],
 "metadata": {
  "interpreter": {
   "hash": "a4b270fe5129ef310552b5197d637a230d47119f1e46f0b92ff32b1c5f5c5425"
  },
  "kernelspec": {
   "display_name": "Python 3.9.7 ('project_heart')",
   "language": "python",
   "name": "python3"
  },
  "language_info": {
   "codemirror_mode": {
    "name": "ipython",
    "version": 3
   },
   "file_extension": ".py",
   "mimetype": "text/x-python",
   "name": "python",
   "nbconvert_exporter": "python",
   "pygments_lexer": "ipython3",
   "version": "3.9.12"
  },
  "orig_nbformat": 4
 },
 "nbformat": 4,
 "nbformat_minor": 2
}
