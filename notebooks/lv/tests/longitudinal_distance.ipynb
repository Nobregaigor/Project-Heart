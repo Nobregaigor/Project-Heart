{
 "cells": [
  {
   "cell_type": "markdown",
   "metadata": {},
   "source": [
    "# Longitudinal Distance"
   ]
  },
  {
   "cell_type": "code",
   "execution_count": 1,
   "metadata": {
    "nbsphinx": "hidden"
   },
   "outputs": [],
   "source": [
    "from pathlib import Path\n",
    "# from project_heart.lv import LV\n",
    "from project_heart.utils import set_jupyter_backend\n",
    "from project_heart.enums import *\n",
    "set_jupyter_backend(\"pythreejs\")\n",
    "import logging\n",
    "import numpy as np\n",
    "float_formatter = \"{:.5f}\".format\n",
    "np.set_printoptions(formatter={'float_kind':float_formatter})\n",
    "\n",
    "from project_heart.examples import get_lv_ideal\n",
    "from project_heart.examples import get_lv_typeA\n",
    "\n",
    "lv_ideal = get_lv_ideal()\n",
    "lv_typeA = get_lv_typeA()\n",
    "\n",
    "sample_spk_typeA_endo = lv_typeA.get_speckles(spk_name=\"SAMPLE\", spk_group=\"endo\", spk_collection=\"SAMPLE\")[0]\n",
    "sample_spk_typeA_epi = lv_typeA.get_speckles(spk_name=\"SAMPLE\", spk_group=\"epi\", spk_collection=\"SAMPLE\")[0]"
   ]
  },
  {
   "cell_type": "code",
   "execution_count": null,
   "metadata": {},
   "outputs": [],
   "source": [
    "ld = lv_ideal.plot_longitudinal_distance(\n",
    "    nodesets = {lv_ideal.REGIONS.ENDO, lv_ideal.REGIONS.EPI},\n",
    "    approach=\"extremes\",\n",
    ")"
   ]
  },
  {
   "cell_type": "code",
   "execution_count": 2,
   "metadata": {},
   "outputs": [
    {
     "name": "stderr",
     "output_type": "stream",
     "text": [
      "INFO:LV.BaseMetricsComputations:Computing metric 'LV_STATES.LONGITUDINAL_DISTANCE' using nodesets: {<LV_SURFS.ENDO: 1>}\n",
      "DEBUG:LV.BaseMetricsComputations:Computing longitudinal distance for nodeset: '1' with approach: 'extremes'.\n",
      "DEBUG:LV.BaseMetricsComputations:Using default base region for base centroid estimation: 23\n",
      "DEBUG:LV.BaseMetricsComputations:[0] --> max: 20.0, min: -65.3257827758789, dist: 85.3257827758789\n",
      "DEBUG:LV.BaseMetricsComputations:[1] --> max: 20.0, min: -60.936623096466064, dist: 80.93662309646606\n",
      "DEBUG:LV.BaseMetricsComputations:[2] --> max: 20.0, min: -55.72781276702881, dist: 75.72781276702881\n",
      "DEBUG:LV.BaseMetricsComputations:[3] --> max: 20.0, min: -52.84489440917969, dist: 72.84489440917969\n",
      "DEBUG:LV.BaseMetricsComputations:[4] --> max: 20.0, min: -49.44624423980713, dist: 69.44624423980713\n",
      "DEBUG:LV.BaseMetricsComputations:[5] --> max: 20.0, min: -49.43885040283203, dist: 69.43885040283203\n",
      "DEBUG:LV.BaseMetricsComputations:[6] --> max: 20.0, min: -49.438687324523926, dist: 69.43868732452393\n",
      "DEBUG:LV.BaseMetricsComputations:[7] --> max: 20.0, min: -49.44705104827881, dist: 69.44705104827881\n",
      "DEBUG:LV.BaseMetricsComputations:[8] --> max: 20.0, min: -49.44613265991211, dist: 69.44613265991211\n",
      "DEBUG:LV.BaseMetricsComputations:[9] --> max: 20.0, min: -49.453965187072754, dist: 69.45396518707275\n",
      "DEBUG:LV.BaseMetricsComputations:[10] --> max: 20.0, min: -49.45289325714111, dist: 69.45289325714111\n",
      "DEBUG:LV.BaseMetricsComputations:[11] --> max: 20.0, min: -49.460652351379395, dist: 69.4606523513794\n",
      "DEBUG:LV.BaseMetricsComputations:[12] --> max: 20.0, min: -49.45976448059082, dist: 69.45976448059082\n",
      "DEBUG:LV.BaseMetricsComputations:[13] --> max: 20.0, min: -49.46771049499512, dist: 69.46771049499512\n",
      "DEBUG:LV.BaseMetricsComputations:[14] --> max: 20.0, min: -49.46719551086426, dist: 69.46719551086426\n",
      "DEBUG:LV.BaseMetricsComputations:[15] --> max: 20.0, min: -49.47547435760498, dist: 69.47547435760498\n",
      "DEBUG:LV.BaseMetricsComputations:[16] --> max: 20.0, min: -49.475440979003906, dist: 69.4754409790039\n",
      "DEBUG:LV.BaseMetricsComputations:[17] --> max: 20.0, min: -49.4841365814209, dist: 69.4841365814209\n",
      "DEBUG:LV.BaseMetricsComputations:[18] --> max: 20.0, min: -49.48464298248291, dist: 69.48464298248291\n",
      "DEBUG:LV.BaseMetricsComputations:[19] --> max: 20.0, min: -49.493804931640625, dist: 69.49380493164062\n",
      "DEBUG:LV.BaseMetricsComputations:[20] --> max: 20.0, min: -49.49488544464111, dist: 69.49488544464111\n",
      "DEBUG:LV.BaseMetricsComputations:[21] --> max: 20.0, min: -49.50454235076904, dist: 69.50454235076904\n",
      "DEBUG:LV.BaseMetricsComputations:[22] --> max: 20.0, min: -49.506216049194336, dist: 69.50621604919434\n",
      "DEBUG:LV.BaseMetricsComputations:[23] --> max: 20.0, min: -49.516387939453125, dist: 69.51638793945312\n",
      "DEBUG:LV.BaseMetricsComputations:[24] --> max: 20.0, min: -49.51866436004639, dist: 69.51866436004639\n",
      "DEBUG:LV.BaseMetricsComputations:[25] --> max: 20.0, min: -49.52936363220215, dist: 69.52936363220215\n",
      "DEBUG:LV.BaseMetricsComputations:[26] --> max: 20.0, min: -49.53225040435791, dist: 69.53225040435791\n",
      "DEBUG:LV.BaseMetricsComputations:[27] --> max: 20.0, min: -49.54348564147949, dist: 69.54348564147949\n",
      "DEBUG:LV.BaseMetricsComputations:[28] --> max: 20.0, min: -49.546987533569336, dist: 69.54698753356934\n",
      "DEBUG:LV.BaseMetricsComputations:[29] --> max: 20.0, min: -49.55876445770264, dist: 69.55876445770264\n",
      "DEBUG:LV.BaseMetricsComputations:[30] --> max: 20.0, min: -49.56288242340088, dist: 69.56288242340088\n",
      "DEBUG:LV.BaseMetricsComputations:[31] --> max: 20.0, min: -49.57520771026611, dist: 69.57520771026611\n",
      "DEBUG:LV.BaseMetricsComputations:[32] --> max: 20.0, min: -49.5799446105957, dist: 69.5799446105957\n",
      "DEBUG:LV.BaseMetricsComputations:[33] --> max: 20.0, min: -49.59282112121582, dist: 69.59282112121582\n",
      "DEBUG:LV.BaseMetricsComputations:[34] --> max: 20.0, min: -49.598177909851074, dist: 69.59817790985107\n",
      "DEBUG:LV.BaseMetricsComputations:[35] --> max: 20.0, min: -49.61160945892334, dist: 69.61160945892334\n",
      "DEBUG:LV.BaseMetricsComputations:[36] --> max: 20.0, min: -49.61758613586426, dist: 69.61758613586426\n",
      "DEBUG:LV.BaseMetricsComputations:[37] --> max: 20.0, min: -49.63157844543457, dist: 69.63157844543457\n",
      "DEBUG:LV.BaseMetricsComputations:[38] --> max: 20.0, min: -49.638176918029785, dist: 69.63817691802979\n",
      "DEBUG:LV.BaseMetricsComputations:[39] --> max: 20.0, min: -49.65273189544678, dist: 69.65273189544678\n",
      "DEBUG:LV.BaseMetricsComputations:[40] --> max: 20.0, min: -49.65995121002197, dist: 69.65995121002197\n",
      "DEBUG:LV.BaseMetricsComputations:[41] --> max: 20.0, min: -49.675071716308594, dist: 69.6750717163086\n",
      "DEBUG:LV.BaseMetricsComputations:[42] --> max: 20.0, min: -49.68291187286377, dist: 69.68291187286377\n",
      "DEBUG:LV.BaseMetricsComputations:[43] --> max: 20.0, min: -49.69859790802002, dist: 69.69859790802002\n",
      "DEBUG:LV.BaseMetricsComputations:[44] --> max: 20.0, min: -49.70705699920654, dist: 69.70705699920654\n",
      "INFO:LV.BaseMetricsComputations:State key added:'longitudinal_distance_1'\n"
     ]
    },
    {
     "data": {
      "text/plain": [
       "array([85.32578, 80.93662, 75.72781, 72.84489, 69.44624, 69.43885,\n",
       "       69.43869, 69.44705, 69.44613, 69.45397, 69.45289, 69.46065,\n",
       "       69.45976, 69.46771, 69.46720, 69.47547, 69.47544, 69.48414,\n",
       "       69.48464, 69.49380, 69.49489, 69.50454, 69.50622, 69.51639,\n",
       "       69.51866, 69.52936, 69.53225, 69.54349, 69.54699, 69.55876,\n",
       "       69.56288, 69.57521, 69.57994, 69.59282, 69.59818, 69.61161,\n",
       "       69.61759, 69.63158, 69.63818, 69.65273, 69.65995, 69.67507,\n",
       "       69.68291, 69.69860, 69.70706])"
      ]
     },
     "execution_count": 2,
     "metadata": {},
     "output_type": "execute_result"
    }
   ],
   "source": [
    "lds = lv_ideal.longitudinal_distances(\n",
    "    recompute=True,\n",
    "    nodesets = {lv_ideal.REGIONS.ENDO}, #lv_ideal.REGIONS.EPI},\n",
    "    approach=\"extremes\",\n",
    "    # t=0.0,\n",
    "    log_level=logging.DEBUG, \n",
    "    use_base_region=True,\n",
    ")\n",
    "lds"
   ]
  },
  {
   "cell_type": "code",
   "execution_count": null,
   "metadata": {},
   "outputs": [],
   "source": [
    "lds = lv_ideal.longitudinal_distances(\n",
    "    recompute=True,\n",
    "    nodesets = {lv_ideal.REGIONS.ENDO}, #lv_ideal.REGIONS.EPI},\n",
    "    approach=\"extremes\",\n",
    "    # t=0.0,\n",
    "    log_level=logging.ERROR, \n",
    "    use_base_region=False,\n",
    ")\n",
    "lds"
   ]
  },
  {
   "cell_type": "code",
   "execution_count": 3,
   "metadata": {},
   "outputs": [
    {
     "name": "stderr",
     "output_type": "stream",
     "text": [
      "INFO:LV.BaseMetricsComputations:Computing metric 'LV_STATES.LONGITUDINAL_DISTANCE' using nodesets: {<LV_SURFS.ENDO: 1>, <LV_SURFS.EPI: 2>}\n",
      "DEBUG:LV.BaseMetricsComputations:Computing longitudinal distance for nodeset: '1' with approach: 'estimate_apex_base'.\n",
      "DEBUG:LV.BaseMetricsComputations:Using default base region for base centroid estimation: 23\n",
      "DEBUG:LV.BaseMetricsComputations:[0] --> base: [2.34924 4.06628 84.85166], apex: [1.34526 -0.20070 4.20298], dist: 80.7677146801862\n",
      "DEBUG:LV.BaseMetricsComputations:[1] --> base: [1.54996 3.90157 84.41967], apex: [1.13285 -0.72376 4.69588], dist: 79.8589383568349\n",
      "DEBUG:LV.BaseMetricsComputations:[2] --> base: [1.10615 3.75960 84.27781], apex: [1.03797 -1.47001 4.74885], dist: 79.7007454533599\n",
      "DEBUG:LV.BaseMetricsComputations:[3] --> base: [1.40904 4.14930 84.13543], apex: [0.38021 -2.45026 4.37078], dist: 80.04381229304116\n",
      "DEBUG:LV.BaseMetricsComputations:[4] --> base: [1.75487 5.34419 84.00272], apex: [2.20163 -2.71530 5.01011], dist: 79.40394666455936\n",
      "DEBUG:LV.BaseMetricsComputations:[5] --> base: [1.93810 5.67218 84.09136], apex: [4.80074 -2.83453 5.28639], dist: 79.31444802769268\n",
      "DEBUG:LV.BaseMetricsComputations:[6] --> base: [1.93863 5.53376 84.16232], apex: [4.91151 -3.43136 5.31505], dist: 79.41097174769143\n",
      "DEBUG:LV.BaseMetricsComputations:[7] --> base: [1.82682 5.12732 84.07675], apex: [4.19582 -3.56498 5.16299], dist: 79.42638203810095\n",
      "DEBUG:LV.BaseMetricsComputations:[8] --> base: [1.70198 4.74035 83.97055], apex: [3.40128 -3.46724 5.00431], dist: 79.40982153588138\n",
      "DEBUG:LV.BaseMetricsComputations:[9] --> base: [1.57142 4.50230 83.87841], apex: [2.79415 -3.37342 4.88963], dist: 79.38985398245305\n",
      "DEBUG:LV.BaseMetricsComputations:[10] --> base: [1.43649 4.30637 83.80836], apex: [2.31790 -3.30282 4.77129], dist: 79.40739923565825\n",
      "DEBUG:LV.BaseMetricsComputations:[11] --> base: [1.31705 4.14169 83.76776], apex: [1.96163 -3.27280 4.66151], dist: 79.45557911411056\n",
      "DEBUG:LV.BaseMetricsComputations:[12] --> base: [1.22417 4.02159 83.74996], apex: [1.73790 -3.31097 4.58030], dist: 79.51015490464951\n",
      "DEBUG:LV.BaseMetricsComputations:[13] --> base: [1.16308 3.94227 83.74736], apex: [1.61665 -3.39894 4.50679], dist: 79.58119356623682\n",
      "DEBUG:LV.BaseMetricsComputations:[14] --> base: [1.11143 3.86799 83.75125], apex: [1.54871 -3.50868 4.43638], dist: 79.65836870456866\n",
      "DEBUG:LV.BaseMetricsComputations:[15] --> base: [1.07033 3.79221 83.75707], apex: [1.50755 -3.61051 4.36000], dist: 79.74262777868353\n",
      "DEBUG:LV.BaseMetricsComputations:[16] --> base: [1.03155 3.72702 83.76342], apex: [1.55930 -3.70460 4.28771], dist: 79.82416289943828\n",
      "DEBUG:LV.BaseMetricsComputations:[17] --> base: [0.99823 3.66712 83.77012], apex: [1.56020 -3.78727 4.21018], dist: 79.91037348893413\n",
      "DEBUG:LV.BaseMetricsComputations:[18] --> base: [0.96884 3.61518 83.77680], apex: [1.57991 -3.86260 4.13626], dist: 79.99315873575317\n",
      "DEBUG:LV.BaseMetricsComputations:[19] --> base: [0.94623 3.56698 83.78348], apex: [1.60924 -3.92938 4.05883], dist: 80.07905229495407\n",
      "DEBUG:LV.BaseMetricsComputations:[20] --> base: [0.92446 3.52493 83.79038], apex: [1.65189 -3.99049 3.98515], dist: 80.16162644401636\n",
      "DEBUG:LV.BaseMetricsComputations:[21] --> base: [0.90584 3.48557 83.79799], apex: [1.69982 -4.04569 3.90955], dist: 80.24657456043802\n",
      "DEBUG:LV.BaseMetricsComputations:[22] --> base: [0.89100 3.45100 83.80542], apex: [1.75594 -4.09681 3.83788], dist: 80.32761381886442\n",
      "DEBUG:LV.BaseMetricsComputations:[23] --> base: [0.87937 3.41834 83.81274], apex: [1.81371 -4.14386 3.76547], dist: 80.40911078673147\n",
      "DEBUG:LV.BaseMetricsComputations:[24] --> base: [0.86751 3.38945 83.81988], apex: [1.87566 -4.18783 3.69698], dist: 80.48671148946302\n",
      "DEBUG:LV.BaseMetricsComputations:[25] --> base: [0.85502 3.36190 83.82688], apex: [1.93669 -4.22890 3.62850], dist: 80.56407850197657\n",
      "DEBUG:LV.BaseMetricsComputations:[26] --> base: [0.83728 3.33735 83.83371], apex: [1.99925 -4.26754 3.56376], dist: 80.63776802587468\n",
      "DEBUG:LV.BaseMetricsComputations:[27] --> base: [0.81956 3.31373 83.84039], apex: [2.05945 -4.30401 3.49944], dist: 80.71080776962657\n",
      "DEBUG:LV.BaseMetricsComputations:[28] --> base: [0.80240 3.29254 83.84458], apex: [1.96672 -4.34028 3.36473], dist: 80.84937816583636\n",
      "DEBUG:LV.BaseMetricsComputations:[29] --> base: [0.78655 3.27202 83.84697], apex: [2.01640 -4.37612 3.30105], dist: 80.91755447283519\n",
      "DEBUG:LV.BaseMetricsComputations:[30] --> base: [0.77111 3.25350 83.85351], apex: [2.06553 -4.41019 3.24058], dist: 80.9867463464135\n",
      "DEBUG:LV.BaseMetricsComputations:[31] --> base: [0.75670 3.23545 83.86154], apex: [2.11166 -4.44284 3.18092], dist: 81.05649043185544\n",
      "DEBUG:LV.BaseMetricsComputations:[32] --> base: [0.74333 3.21908 83.86933], apex: [2.15689 -4.47399 3.12414], dist: 81.12316671261426\n",
      "DEBUG:LV.BaseMetricsComputations:[33] --> base: [0.73181 3.20305 83.87700], apex: [2.19924 -4.50400 3.06818], dist: 81.1887779452064\n",
      "DEBUG:LV.BaseMetricsComputations:[34] --> base: [0.72035 3.18844 83.88256], apex: [2.24057 -4.53272 3.01478], dist: 81.24977607505305\n",
      "DEBUG:LV.BaseMetricsComputations:[35] --> base: [0.70953 3.17408 83.88796], apex: [2.27923 -4.56051 2.96217], dist: 81.30972439120897\n",
      "DEBUG:LV.BaseMetricsComputations:[36] --> base: [0.69875 3.16095 83.89323], apex: [2.31687 -4.58718 2.91184], dist: 81.36729929520371\n",
      "DEBUG:LV.BaseMetricsComputations:[37] --> base: [0.68850 3.14799 83.89835], apex: [2.35208 -4.61307 2.86227], dist: 81.42388088895423\n",
      "DEBUG:LV.BaseMetricsComputations:[38] --> base: [0.67826 3.13611 83.90335], apex: [2.57058 -4.96665 2.81627], dist: 81.51288432102402\n",
      "DEBUG:LV.BaseMetricsComputations:[39] --> base: [0.66847 3.12434 83.90820], apex: [2.60545 -4.98879 2.77093], dist: 81.56489675264964\n",
      "DEBUG:LV.BaseMetricsComputations:[40] --> base: [0.65868 3.11353 83.91294], apex: [2.63934 -5.01011 2.72736], dist: 81.61504809119174\n",
      "DEBUG:LV.BaseMetricsComputations:[41] --> base: [0.64928 3.10279 83.91755], apex: [2.67122 -5.03090 2.68440], dist: 81.66437244380845\n",
      "DEBUG:LV.BaseMetricsComputations:[42] --> base: [0.63986 3.09289 83.92206], apex: [2.70219 -5.05097 2.64303], dist: 81.71202425681753\n",
      "DEBUG:LV.BaseMetricsComputations:[43] --> base: [0.63077 3.08304 83.92643], apex: [2.73134 -5.07058 2.60224], dist: 81.75890365670227\n",
      "DEBUG:LV.BaseMetricsComputations:[44] --> base: [0.62167 3.07394 83.93071], apex: [2.56308 -5.08953 2.56287], dist: 81.79937335570494\n",
      "INFO:LV.BaseMetricsComputations:State key added:'longitudinal_distance_1'\n",
      "DEBUG:LV.BaseMetricsComputations:Computing longitudinal distance for nodeset: '2' with approach: 'estimate_apex_base'.\n",
      "DEBUG:LV.BaseMetricsComputations:Using default base region for base centroid estimation: 23\n",
      "DEBUG:LV.BaseMetricsComputations:[0] --> base: [2.34924 4.06628 84.85166], apex: [-3.58723 1.55821 0.05999], dist: 85.03622131824154\n",
      "DEBUG:LV.BaseMetricsComputations:[1] --> base: [1.54996 3.90157 84.41967], apex: [-2.86425 1.63697 -0.12901], dist: 84.69411017130048\n",
      "DEBUG:LV.BaseMetricsComputations:[2] --> base: [1.10615 3.75960 84.27781], apex: [-1.94595 1.32559 -0.58696], dist: 84.95450444462382\n",
      "DEBUG:LV.BaseMetricsComputations:[3] --> base: [1.40904 4.14930 84.13543], apex: [-1.33591 0.38765 -1.30215], dist: 85.56439599480461\n",
      "DEBUG:LV.BaseMetricsComputations:[4] --> base: [1.75487 5.34419 84.00272], apex: [1.63447 -0.36954 -1.05370], dist: 85.24819322901308\n",
      "DEBUG:LV.BaseMetricsComputations:[5] --> base: [1.93810 5.67218 84.09136], apex: [4.42910 -0.54068 -0.82134], dist: 85.17612103951048\n",
      "DEBUG:LV.BaseMetricsComputations:[6] --> base: [1.93863 5.53376 84.16232], apex: [4.55692 -1.20624 -0.82904], dist: 85.29837985684941\n",
      "DEBUG:LV.BaseMetricsComputations:[7] --> base: [1.82682 5.12732 84.07675], apex: [3.83468 -1.36263 -0.99739], dist: 85.34494975267654\n",
      "DEBUG:LV.BaseMetricsComputations:[8] --> base: [1.70198 4.74035 83.97055], apex: [3.12187 -1.26744 -1.16330], dist: 85.35738460023848\n",
      "DEBUG:LV.BaseMetricsComputations:[9] --> base: [1.57142 4.50230 83.87841], apex: [2.52722 -1.17492 -1.28672], dist: 85.35949459918501\n",
      "DEBUG:LV.BaseMetricsComputations:[10] --> base: [1.43649 4.30637 83.80836], apex: [2.06934 -1.11544 -1.41589], dist: 85.39888789294844\n",
      "DEBUG:LV.BaseMetricsComputations:[11] --> base: [1.31705 4.14169 83.76776], apex: [1.72894 -1.10101 -1.53790], dist: 85.4676091421535\n",
      "DEBUG:LV.BaseMetricsComputations:[12] --> base: [1.22417 4.02159 83.74996], apex: [1.51543 -1.16262 -1.63345], dist: 85.54113804019568\n",
      "DEBUG:LV.BaseMetricsComputations:[13] --> base: [1.16308 3.94227 83.74736], apex: [1.39594 -1.27891 -1.72260], dist: 85.62960114924115\n",
      "DEBUG:LV.BaseMetricsComputations:[14] --> base: [1.11143 3.86799 83.75125], apex: [1.32636 -1.41963 -1.80965], dist: 85.7244029492454\n",
      "DEBUG:LV.BaseMetricsComputations:[15] --> base: [1.07033 3.79221 83.75707], apex: [1.28117 -1.55219 -1.90237], dist: 85.82626010447369\n",
      "DEBUG:LV.BaseMetricsComputations:[16] --> base: [1.03155 3.72702 83.76342], apex: [1.26311 -1.67731 -1.99070], dist: 85.92455997323916\n",
      "DEBUG:LV.BaseMetricsComputations:[17] --> base: [0.99823 3.66712 83.77012], apex: [1.25823 -1.79032 -2.08386], dist: 86.02765361359629\n",
      "DEBUG:LV.BaseMetricsComputations:[18] --> base: [0.96884 3.61518 83.77680], apex: [1.27412 -1.89586 -2.17299], dist: 86.12682587854398\n",
      "DEBUG:LV.BaseMetricsComputations:[19] --> base: [0.94623 3.56698 83.78348], apex: [1.29888 -1.99214 -2.26520], dist: 86.22878771893626\n",
      "DEBUG:LV.BaseMetricsComputations:[20] --> base: [0.92446 3.52493 83.79038], apex: [1.33880 -2.08237 -2.35315], dist: 86.32683163854338\n",
      "DEBUG:LV.BaseMetricsComputations:[21] --> base: [0.90584 3.48557 83.79799], apex: [1.38343 -2.16595 -2.44255], dist: 86.42683530403937\n",
      "DEBUG:LV.BaseMetricsComputations:[22] --> base: [0.89100 3.45100 83.80542], apex: [1.43773 -2.24485 -2.52743], dist: 86.52226990573824\n",
      "DEBUG:LV.BaseMetricsComputations:[23] --> base: [0.87937 3.41834 83.81274], apex: [1.49311 -2.31891 -2.61257], dist: 86.6177077482871\n",
      "DEBUG:LV.BaseMetricsComputations:[24] --> base: [0.86751 3.38945 83.81988], apex: [1.55378 -2.38916 -2.69317], dist: 86.70854550886816\n",
      "DEBUG:LV.BaseMetricsComputations:[25] --> base: [0.85502 3.36190 83.82688], apex: [1.61291 -2.45572 -2.77329], dist: 86.79866764065723\n",
      "DEBUG:LV.BaseMetricsComputations:[26] --> base: [0.83728 3.33735 83.83371], apex: [1.67438 -2.51903 -2.84905], dist: 86.8844045536131\n",
      "DEBUG:LV.BaseMetricsComputations:[27] --> base: [0.81956 3.31373 83.84039], apex: [1.73288 -2.57940 -2.92395], dist: 86.96903272538083\n",
      "DEBUG:LV.BaseMetricsComputations:[28] --> base: [0.80240 3.29254 83.84458], apex: [1.79201 -2.63694 -2.99482], dist: 87.04722140886689\n",
      "DEBUG:LV.BaseMetricsComputations:[29] --> base: [0.78655 3.27202 83.84697], apex: [1.84760 -2.69207 -3.06466], dist: 87.12247991215902\n",
      "DEBUG:LV.BaseMetricsComputations:[30] --> base: [0.77111 3.25350 83.85351], apex: [1.90295 -2.74473 -3.13085], dist: 87.19827895788086\n",
      "DEBUG:LV.BaseMetricsComputations:[31] --> base: [0.75670 3.23545 83.86154], apex: [1.95469 -2.79540 -3.19599], dist: 87.27439705380785\n",
      "DEBUG:LV.BaseMetricsComputations:[32] --> base: [0.74333 3.21908 83.86933], apex: [2.00577 -2.84391 -3.25785], dist: 87.34701205854803\n",
      "DEBUG:LV.BaseMetricsComputations:[33] --> base: [0.73181 3.20305 83.87700], apex: [2.05342 -2.89076 -3.31869], dist: 87.41835686878916\n",
      "DEBUG:LV.BaseMetricsComputations:[34] --> base: [0.72035 3.18844 83.88256], apex: [2.10025 -2.93570 -3.37660], dist: 87.48468911933435\n",
      "DEBUG:LV.BaseMetricsComputations:[35] --> base: [0.70953 3.17408 83.88796], apex: [2.14392 -2.97926 -3.43354], dist: 87.54979390300034\n",
      "DEBUG:LV.BaseMetricsComputations:[36] --> base: [0.69875 3.16095 83.89323], apex: [2.18671 -3.02113 -3.48788], dist: 87.61216689731451\n",
      "DEBUG:LV.BaseMetricsComputations:[37] --> base: [0.68850 3.14799 83.89835], apex: [2.22666 -3.06181 -3.54132], dist: 87.67339288811824\n",
      "DEBUG:LV.BaseMetricsComputations:[38] --> base: [0.67826 3.13611 83.90335], apex: [2.26576 -3.10101 -3.59243], dist: 87.73217008307657\n",
      "DEBUG:LV.BaseMetricsComputations:[39] --> base: [0.66847 3.12434 83.90820], apex: [2.30228 -3.13919 -3.64271], dist: 87.78988369499807\n",
      "DEBUG:LV.BaseMetricsComputations:[40] --> base: [0.65868 3.11353 83.91294], apex: [2.33800 -3.17602 -3.69091], dist: 87.8453957106224\n",
      "DEBUG:LV.BaseMetricsComputations:[41] --> base: [0.64928 3.10279 83.91755], apex: [2.37142 -3.21198 -3.73834], dist: 87.89992346259089\n",
      "DEBUG:LV.BaseMetricsComputations:[42] --> base: [0.63986 3.09289 83.92206], apex: [2.40409 -3.24674 -3.78389], dist: 87.95247052457877\n",
      "DEBUG:LV.BaseMetricsComputations:[43] --> base: [0.63077 3.08304 83.92643], apex: [2.43470 -3.28072 -3.82875], dist: 88.00410835228607\n",
      "DEBUG:LV.BaseMetricsComputations:[44] --> base: [0.62167 3.07394 83.93071], apex: [2.46462 -3.31360 -3.87192], dist: 88.0539561052722\n",
      "INFO:LV.BaseMetricsComputations:State key added:'longitudinal_distance_2'\n"
     ]
    },
    {
     "data": {
      "text/plain": [
       "array([82.90197, 82.27652, 82.32762, 82.80410, 82.32607, 82.24528,\n",
       "       82.35468, 82.38567, 82.38360, 82.37467, 82.40314, 82.46159,\n",
       "       82.52565, 82.60540, 82.69139, 82.78444, 82.87436, 82.96901,\n",
       "       83.05999, 83.15392, 83.24423, 83.33670, 83.42494, 83.51341,\n",
       "       83.59763, 83.68137, 83.76109, 83.83992, 83.94830, 84.02002,\n",
       "       84.09251, 84.16544, 84.23509, 84.30357, 84.36723, 84.42976,\n",
       "       84.48973, 84.54864, 84.62253, 84.67739, 84.73022, 84.78215,\n",
       "       84.83225, 84.88151, 84.92666])"
      ]
     },
     "execution_count": 3,
     "metadata": {},
     "output_type": "execute_result"
    }
   ],
   "source": [
    "lds = lv_typeA.longitudinal_distances(\n",
    "    recompute=True,\n",
    "    nodesets = {lv_typeA.REGIONS.ENDO, lv_ideal.REGIONS.EPI},\n",
    "    approach=\"estimate_apex_base\",\n",
    "    # t=0.0,\n",
    "    ql=0.1,\n",
    "    log_level=logging.DEBUG, \n",
    "    use_base_region=True,\n",
    "    reduce_by={\"group\"}\n",
    ")\n",
    "lds"
   ]
  },
  {
   "cell_type": "code",
   "execution_count": null,
   "metadata": {},
   "outputs": [],
   "source": [
    "lds = lv_typeA.longitudinal_distances(\n",
    "    recompute=True,\n",
    "    nodesets = {lv_typeA.REGIONS.ENDO, lv_ideal.REGIONS.EPI},\n",
    "    approach=\"estimate_apex_base\",\n",
    "    # t=0.0,\n",
    "    log_level=logging.ERROR, \n",
    "    use_base_region=False,\n",
    "    reduce_by={\"group\"}\n",
    ")\n",
    "lds"
   ]
  },
  {
   "cell_type": "code",
   "execution_count": null,
   "metadata": {},
   "outputs": [],
   "source": [
    "lv_typeA.plot_metric(lv_typeA.STATES.LONGITUDINAL_DISTANCE, \n",
    "    from_ts=0.0,\n",
    "    search_suffix=[\"1\", \"2\"])"
   ]
  },
  {
   "cell_type": "code",
   "execution_count": null,
   "metadata": {},
   "outputs": [],
   "source": [
    "ld_ex = lv_typeA.plot_longitudinal_distance(\n",
    "    nodesets = {lv_typeA.REGIONS.ENDO, lv_typeA.REGIONS.EPI},\n",
    "    approach=\"extremes\",\n",
    "    t=0.15\n",
    ")"
   ]
  },
  {
   "cell_type": "code",
   "execution_count": null,
   "metadata": {},
   "outputs": [],
   "source": [
    "ld_es = lv_typeA.plot_longitudinal_distance(\n",
    "    nodesets = {lv_typeA.REGIONS.ENDO, lv_typeA.REGIONS.EPI},\n",
    "    approach=\"estimate_apex_base\",\n",
    "    t=0.15\n",
    ")"
   ]
  },
  {
   "cell_type": "code",
   "execution_count": null,
   "metadata": {},
   "outputs": [],
   "source": [
    "print(\"with 'extremes:\", ld_ex)\n",
    "print(\"with 'estimate_apex_base':\", ld_es)"
   ]
  }
 ],
 "metadata": {
  "interpreter": {
   "hash": "a4b270fe5129ef310552b5197d637a230d47119f1e46f0b92ff32b1c5f5c5425"
  },
  "kernelspec": {
   "display_name": "Python 3.9.7 ('project_heart')",
   "language": "python",
   "name": "python3"
  },
  "language_info": {
   "codemirror_mode": {
    "name": "ipython",
    "version": 3
   },
   "file_extension": ".py",
   "mimetype": "text/x-python",
   "name": "python",
   "nbconvert_exporter": "python",
   "pygments_lexer": "ipython3",
   "version": "3.9.12"
  },
  "orig_nbformat": 4
 },
 "nbformat": 4,
 "nbformat_minor": 2
}
