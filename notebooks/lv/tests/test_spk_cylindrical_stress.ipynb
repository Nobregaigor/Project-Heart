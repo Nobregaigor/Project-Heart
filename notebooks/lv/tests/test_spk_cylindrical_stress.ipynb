{
 "cells": [
  {
   "cell_type": "code",
   "execution_count": null,
   "metadata": {},
   "outputs": [],
   "source": [
    "from pathlib import Path\n",
    "import numpy as np\n",
    "import logging\n",
    "\n",
    "import pyvista as pv\n",
    "pv.set_jupyter_backend(\"pythreejs\")\n",
    "\n",
    "from project_heart.enums import *\n",
    "from project_heart.lv import LV"
   ]
  },
  {
   "cell_type": "code",
   "execution_count": null,
   "metadata": {},
   "outputs": [],
   "source": [
    "directory = Path(\"C:/Users/igorp/OneDrive - University of South Florida/Igor/Documents/Paper 1/stress_strain_plots/ref_files\")\n",
    "filename = \"57.32_40.94_10.08.2022_LVRNN_IDEAL_V4\"\n",
    "# filename = \"62.71_68.65_10.08.2022_LVRNN_TYPEA_V4\""
   ]
  },
  {
   "cell_type": "code",
   "execution_count": null,
   "metadata": {},
   "outputs": [],
   "source": [
    "from project_heart.examples import get_lv_ideal, get_lv_typeA\n",
    "lv = get_lv_ideal(str(directory/filename) + \".xplt\", statesfile=None)\n",
    "# lv = get_lv_typeA(str(directory/filename) + \".xplt\", statesfile=None)"
   ]
  },
  {
   "cell_type": "code",
   "execution_count": null,
   "metadata": {},
   "outputs": [],
   "source": [
    "import logging\n",
    "\n",
    "names = [\"subapex\", \"apex\", \"superapex\", \"submid\", \"mid\", \"supermid\", \"subbase\", \"base\", \"superbase\"]\n",
    "for i, a in enumerate(np.linspace(0.1, 0.90, len(names), endpoint=True)):\n",
    "    \n",
    "    _ = lv.create_speckles(\n",
    "        collection=\"circ-6\",\n",
    "        group=\"wall\",\n",
    "        name=names[i],\n",
    "        from_nodeset=None, # use all spks\n",
    "        d=2.25,\n",
    "        k=a,\n",
    "        normal_to=[0.0, 0.0, 1.0],\n",
    "        n_subsets=6,\n",
    "        subsets_criteria=\"angles2\",\n",
    "        # subsets_vector_ref=[1.0,0.0,0.0],\n",
    "        n_clusters=5,\n",
    "        cluster_criteria=\"radius2\",\n",
    "        t=0.0,\n",
    "        log_level=logging.WARN,\n",
    "    )"
   ]
  },
  {
   "cell_type": "code",
   "execution_count": null,
   "metadata": {},
   "outputs": [],
   "source": [
    "spks = lv.get_speckles(spk_collection=\"circ-6\", spk_group=\"wall\")\n",
    "subsets_names = [\"endo\", \"endo-mid\", \"mid\", \"mid-epi\", \"epi\"]\n",
    "lv.split_spks_by_clusters(spks, rename_subsets=subsets_names,switch_subset_group=True)\n",
    "spks_split = lv.get_speckles(spk_collection=\"circ-6_split\")"
   ]
  },
  {
   "cell_type": "code",
   "execution_count": null,
   "metadata": {},
   "outputs": [],
   "source": [
    "spks_mid = lv.get_speckles(spk_collection=\"circ-6_split\", spk_name=\"mid\", spk_group=\"mid-epi\")\n",
    "lv.plot_speckles(spks_mid, show_clusters=False)"
   ]
  },
  {
   "cell_type": "code",
   "execution_count": null,
   "metadata": {},
   "outputs": [],
   "source": [
    "spks_base = lv.get_speckles(spk_collection=\"circ-6_split\", spk_name=\"base\", spk_group=\"endo\")\n",
    "lv.plot_speckles(spks_base, show_clusters=False)"
   ]
  },
  {
   "cell_type": "code",
   "execution_count": null,
   "metadata": {},
   "outputs": [],
   "source": [
    "lv.compute_stress(spks_split, reduce_by=[\"group_name\"], principal=False, use_axis=None, cylindrical=True, effective=False, log_level=logging.WARN)"
   ]
  },
  {
   "cell_type": "code",
   "execution_count": null,
   "metadata": {},
   "outputs": [],
   "source": [
    "lv.compute_strain(spks_split, reduce_by=[\"group_name\"],  principal=False, use_axis=None, cylindrical=True, effective=False, log_level=logging.WARN)"
   ]
  },
  {
   "cell_type": "code",
   "execution_count": null,
   "metadata": {},
   "outputs": [],
   "source": [
    "_, stress_data = lv.get_metric_as_df(\"cylindrical_stress\")\n",
    "_, strain_data = lv.get_metric_as_df(\"cylindrical_strain\")"
   ]
  },
  {
   "cell_type": "code",
   "execution_count": null,
   "metadata": {},
   "outputs": [],
   "source": [
    "stress_df = stress_data[\"group_name\"]\n",
    "stress_df = stress_df[stress_df[\"timesteps\"] > 0.1] - 0.1\n",
    "stress_df.to_csv(str(directory/filename) + \"_cylindrical_stress.csv\")"
   ]
  },
  {
   "cell_type": "code",
   "execution_count": null,
   "metadata": {},
   "outputs": [],
   "source": [
    "strain_df = strain_data[\"group_name\"]\n",
    "strain_df = strain_df[strain_df[\"timesteps\"] > 0.1] - 0.1\n",
    "strain_df.to_csv(str(directory/filename) + \"_cylindrical_strain.csv\")"
   ]
  },
  {
   "cell_type": "code",
   "execution_count": null,
   "metadata": {},
   "outputs": [],
   "source": [
    "# cy_stress = lv.states.get(\"cylindrical_stress\")\n",
    "# cy_strain = lv.states.get(\"cylindrical_strain\")"
   ]
  },
  {
   "cell_type": "code",
   "execution_count": null,
   "metadata": {},
   "outputs": [],
   "source": [
    "# cy_stress = lv.convert_to_cylindrical_coordinates(lv.STATES.STRESS)\n",
    "# cy_strain = lv.convert_to_cylindrical_coordinates(lv.STATES.LAGRANGE_STRAIN)"
   ]
  },
  {
   "cell_type": "code",
   "execution_count": null,
   "metadata": {},
   "outputs": [],
   "source": [
    "# idx = np.arange(1,cy_stress.shape[1]+1).reshape(-1,1)"
   ]
  },
  {
   "cell_type": "code",
   "execution_count": null,
   "metadata": {},
   "outputs": [],
   "source": [
    "# np.savetxt(\n",
    "#     str(directory/filename) + \"_cylindrical_stress_xplt_format.csv\", \n",
    "#     np.hstack((idx, np.hstack(cy_stress))), \n",
    "#     delimiter=\",\", fmt=\"%.3f\"\n",
    "#     )"
   ]
  },
  {
   "cell_type": "code",
   "execution_count": null,
   "metadata": {},
   "outputs": [],
   "source": [
    "# np.savetxt(\n",
    "#     str(directory/filename) + \"_cylindrical_strain_xplt_format.csv\", \n",
    "#     np.hstack((idx, np.hstack(cy_strain))), \n",
    "#     delimiter=\",\", fmt=\"%.3f\"\n",
    "#     )"
   ]
  }
 ],
 "metadata": {
  "kernelspec": {
   "display_name": "Python 3.9.7 ('project_heart')",
   "language": "python",
   "name": "python3"
  },
  "language_info": {
   "codemirror_mode": {
    "name": "ipython",
    "version": 3
   },
   "file_extension": ".py",
   "mimetype": "text/x-python",
   "name": "python",
   "nbconvert_exporter": "python",
   "pygments_lexer": "ipython3",
   "version": "3.9.7"
  },
  "orig_nbformat": 4,
  "vscode": {
   "interpreter": {
    "hash": "a4b270fe5129ef310552b5197d637a230d47119f1e46f0b92ff32b1c5f5c5425"
   }
  }
 },
 "nbformat": 4,
 "nbformat_minor": 2
}
