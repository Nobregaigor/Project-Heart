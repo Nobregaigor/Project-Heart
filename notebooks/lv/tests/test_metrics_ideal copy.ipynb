{
 "cells": [
  {
   "cell_type": "code",
   "execution_count": null,
   "metadata": {},
   "outputs": [],
   "source": [
    "from project_heart.lv import LV\n",
    "import numpy as np\n",
    "import pyvista as pv\n",
    "import logging\n",
    "\n",
    "pv.set_jupyter_backend(\"pythreejs\")\n",
    "\n",
    "import os\n",
    "from pathlib import Path\n",
    "\n",
    "from project_heart.enums import *\n",
    "\n",
    "float_formatter = \"{:.5f}\".format\n",
    "np.set_printoptions(formatter={'float_kind':float_formatter})"
   ]
  },
  {
   "cell_type": "code",
   "execution_count": null,
   "metadata": {},
   "outputs": [],
   "source": [
    "filepath = Path(\"C:/Users/igorp/Downloads/0.3_80.00_50.00_LVIDEAL_HEX20.xplt\")\n",
    "# filepath = Path(\"C:/Users/igornobrega/Downloads/0.3_80.00_50.00_LVIDEAL_HEX20.xplt\")"
   ]
  },
  {
   "cell_type": "code",
   "execution_count": null,
   "metadata": {},
   "outputs": [],
   "source": [
    "lv = LV.from_file(filepath, geo_type=LV_GEO_TYPES.IDEAL, log_level=logging.DEBUG)\n",
    "lv.identify_regions(log_level=logging.DEBUG)\n",
    "\n",
    "lv.plot(\"surface\", \n",
    "        scalars=LV_MESH_DATA.SURFS_DETAILED,\n",
    "        # container=\"points\",\n",
    "        show_edges=True,\n",
    "        categorical=True,\n",
    "        split_sharp_edges=True,\n",
    "        smooth_shading=False,\n",
    "        pretty=False,\n",
    "        cmap=\"jet\",\n",
    "        vnodes=[[lv.VIRTUAL_NODES.BASE, {\"color\":\"red\"}], [lv.VIRTUAL_NODES.APEX, {\"color\":\"green\"}] ]\n",
    "        )"
   ]
  },
  {
   "cell_type": "code",
   "execution_count": null,
   "metadata": {},
   "outputs": [],
   "source": [
    "_ = lv.create_speckles(\n",
    "        collection=\"LA\", # longitudinal axis collection\n",
    "        group=\"endo\",     # at endocardium\n",
    "        name=\"base\",    # base region\n",
    "        from_nodeset=LV_SURFS.BASE_BORDER_ENDO, # using border (edge for ideal)\n",
    "        use_all_nodes=True, # skip search for nodes close to 'plane'\n",
    "        log_level=logging.DEBUG,\n",
    "    )\n",
    "_ = lv.create_speckles(\n",
    "        collection=\"LA\", # longitudinal axis collection\n",
    "        group=\"epi\",     # at epicardium\n",
    "        name=\"base\",    # base region\n",
    "        from_nodeset=LV_SURFS.BASE_BORDER_EPI, # using border (edge for ideal)\n",
    "        use_all_nodes=True, # skip search for nodes close to 'plane'\n",
    "        log_level=logging.DEBUG,\n",
    "    )\n",
    "\n",
    "_ = lv.create_speckles(\n",
    "        collection=\"LA\", # longitudinal axis collection\n",
    "        group=\"endo\",     # at endocardium\n",
    "        name=\"apex\",    # base region\n",
    "        from_nodeset=LV_SURFS.ENDO, # using border (edge for ideal)\n",
    "        k=0.0,\n",
    "        d=1.0,\n",
    "        log_level=logging.DEBUG,\n",
    "    )\n",
    "_ = lv.create_speckles(\n",
    "        collection=\"LA\", # longitudinal axis collection\n",
    "        group=\"epi\",     # at epicardium\n",
    "        name=\"apex\",    # base region\n",
    "        from_nodeset=LV_SURFS.EPI, # using border (edge for ideal)\n",
    "        use_local_k_ref=True,\n",
    "        k=0.0,\n",
    "        d=1.0,\n",
    "        log_level=logging.DEBUG,\n",
    "    )\n",
    "\n",
    "\n",
    "spks = lv.get_speckles(spk_collection=\"LA\")\n",
    "lv.plot_speckles(spks)"
   ]
  },
  {
   "cell_type": "code",
   "execution_count": null,
   "metadata": {},
   "outputs": [],
   "source": [
    "apex_spk = lv.get_speckles(spk_collection=\"LA\", spk_group=\"endo\", spk_name=\"apex\")\n",
    "base_spk = lv.get_speckles(spk_collection=\"LA\", spk_group=\"endo\", spk_name=\"base\")\n",
    "\n",
    "lv.compute_base_apex_ref_over_timesteps(apex_spk, base_spk)"
   ]
  },
  {
   "cell_type": "code",
   "execution_count": null,
   "metadata": {},
   "outputs": [],
   "source": [
    "apex_spks = lv.get_speckles(spk_collection=\"LA\", spk_name=\"apex\")\n",
    "base_spks = lv.get_speckles(spk_collection=\"LA\", spk_name=\"base\")\n",
    "\n",
    "lv.compute_longitudinal_distance(apex_spks, base_spks)"
   ]
  },
  {
   "cell_type": "code",
   "execution_count": null,
   "metadata": {},
   "outputs": [],
   "source": [
    "lv.plot_metric(lv.STATES.LONGITUDINAL_DISTANCE, plot_infos=[\"group\"])"
   ]
  },
  {
   "cell_type": "code",
   "execution_count": null,
   "metadata": {},
   "outputs": [],
   "source": [
    "lv.plot_longitudinal_line(t=1.1, points_kwargs=dict(point_size=400))"
   ]
  },
  {
   "cell_type": "code",
   "execution_count": null,
   "metadata": {},
   "outputs": [],
   "source": [
    "lv.explainable_metrics.all(lv.STATES.LONGITUDINAL_DISTANCE)"
   ]
  },
  {
   "cell_type": "markdown",
   "metadata": {},
   "source": [
    "# Create speckles"
   ]
  },
  {
   "cell_type": "code",
   "execution_count": null,
   "metadata": {},
   "outputs": [],
   "source": [
    "lv.plot(\"surface\", \n",
    "        scalars=LV_MESH_DATA.SURFS,\n",
    "        # container=\"points\",\n",
    "        show_edges=True,\n",
    "        categorical=True,\n",
    "        split_sharp_edges=True,\n",
    "        smooth_shading=False,\n",
    "        pretty=False,\n",
    "        cmap=\"jet\",\n",
    "        vnodes=[[lv.VIRTUAL_NODES.BASE, {\"color\":\"red\"}], [lv.VIRTUAL_NODES.APEX, {\"color\":\"green\"}] ]\n",
    "        )"
   ]
  },
  {
   "cell_type": "code",
   "execution_count": null,
   "metadata": {},
   "outputs": [],
   "source": [
    "lv.REGIONS.BASE_BORDER_ENDO"
   ]
  },
  {
   "cell_type": "code",
   "execution_count": null,
   "metadata": {},
   "outputs": [],
   "source": [
    "lv.get_virtual_node(lv.VIRTUAL_NODES.BASE)"
   ]
  },
  {
   "cell_type": "markdown",
   "metadata": {},
   "source": [
    "Create Longitudinal Speckles"
   ]
  },
  {
   "cell_type": "code",
   "execution_count": null,
   "metadata": {},
   "outputs": [],
   "source": [
    "import logging\n",
    "\n",
    "for i, a in enumerate(np.linspace(0, np.pi, 6, endpoint=False)):\n",
    "    \n",
    "    spk = lv.create_speckles(\n",
    "        collection=\"long-6\",\n",
    "        group=\"endo\",\n",
    "        name=str(i),\n",
    "        from_nodeset=LV_SURFS.ENDO,\n",
    "        exclude_nodeset=LV_SURFS.BASE, # does not afect ideal case\n",
    "        d=1.75,\n",
    "        k=0.5,\n",
    "        normal_to=[np.cos(a),np.sin(a),0.0],\n",
    "        n_subsets=6,\n",
    "        subsets_criteria=\"z2\",\n",
    "        t=0.0,\n",
    "        kmin=0.125,\n",
    "        kmax=0.95,\n",
    "        log_level=logging.INFO,\n",
    "    )\n",
    "\n",
    "    spk = lv.create_speckles(\n",
    "        collection=\"long-6\",\n",
    "        group=\"epi\",\n",
    "        name=str(i),\n",
    "        from_nodeset=LV_SURFS.EPI,\n",
    "        exclude_nodeset=LV_SURFS.BASE, # does not afect ideal case\n",
    "        d=2.4,\n",
    "        k=0.5,\n",
    "        normal_to=[np.cos(a),np.sin(a),0.0],\n",
    "        n_subsets=6,\n",
    "        subsets_criteria=\"z2\",\n",
    "        t=0.0,\n",
    "        kmin=0.125,\n",
    "        kmax=0.95,\n",
    "        log_level=logging.INFO,\n",
    "    )\n",
    "\n",
    "lv.set_region_from_speckles(\"long-6\", spk_collection=\"long-6\")\n",
    "lv.plot(\n",
    "    scalars=\"long-6\", \n",
    "    categorical=True, \n",
    "    cmap=\"jet\",\n",
    "    vnodes=[\n",
    "            (LV_VIRTUAL_NODES.BASE, \"red\"),\n",
    "            (LV_VIRTUAL_NODES.APEX, \"red\")\n",
    "            ],\n",
    "    )"
   ]
  },
  {
   "cell_type": "code",
   "execution_count": null,
   "metadata": {},
   "outputs": [],
   "source": [
    "import logging\n",
    "names = [\"subapex\", \"apex\", \"superapex\", \"submid\", \"mid\", \"supermid\", \"subbase\", \"base\", \"superbase\"]\n",
    "\n",
    "for i, a in enumerate(np.linspace(0.1, 1.0, len(names), endpoint=False)):\n",
    "    \n",
    "    spk = lv.create_speckles(\n",
    "        collection=\"circ-6\",\n",
    "        group=\"endo\",\n",
    "        name=names[i],\n",
    "        from_nodeset=LV_SURFS.ENDO,\n",
    "        d=1.75,\n",
    "        k=a,\n",
    "        normal_to=[0.0, 0.0, 1.0],\n",
    "        n_subsets=6,\n",
    "        subsets_criteria=\"angles\",\n",
    "        t=0.0,\n",
    "        kmin=-1.0,\n",
    "        kmax=-1.0,\n",
    "        log_level=logging.INFO,\n",
    "    )\n",
    "\n",
    "    spk = lv.create_speckles(\n",
    "        collection=\"circ-6\",\n",
    "        group=\"epi\",\n",
    "        name=names[i],\n",
    "        from_nodeset=LV_SURFS.EPI,\n",
    "        d=1.75,\n",
    "        k=a,\n",
    "        normal_to=[0.0, 0.0, 1.0],\n",
    "        n_subsets=6,\n",
    "        subsets_criteria=\"angles\",\n",
    "        t=0.0,\n",
    "        kmin=-1.0,\n",
    "        kmax=-1.0,\n",
    "        log_level=logging.INFO,\n",
    "    )\n",
    "\n",
    "lv.set_region_from_speckles(\"circ-6\", spk_collection=\"circ-6\")\n",
    "lv.plot(\n",
    "    scalars=\"circ-6\", \n",
    "    categorical=True, \n",
    "    cmap=\"jet\",\n",
    "    vnodes=[\n",
    "            (LV_VIRTUAL_NODES.BASE, \"red\"),\n",
    "            (LV_VIRTUAL_NODES.APEX, \"red\")\n",
    "            ],\n",
    "    )"
   ]
  },
  {
   "cell_type": "markdown",
   "metadata": {},
   "source": [
    "# Metrics"
   ]
  },
  {
   "cell_type": "markdown",
   "metadata": {},
   "source": [
    "## Geo Metrics (formely geochars)"
   ]
  },
  {
   "cell_type": "markdown",
   "metadata": {},
   "source": [
    "Volume:"
   ]
  },
  {
   "cell_type": "code",
   "execution_count": null,
   "metadata": {},
   "outputs": [],
   "source": [
    "lv.volume()\n",
    "lv.plot_metric(lv.STATES.VOLUME, kind=\"line\")"
   ]
  },
  {
   "cell_type": "markdown",
   "metadata": {},
   "source": [
    "Longitudinal Distances:"
   ]
  },
  {
   "cell_type": "code",
   "execution_count": null,
   "metadata": {},
   "outputs": [],
   "source": [
    "lv.longitudinal_distances()\n",
    "lv.plot_metric(lv.STATES.LONG_DISTS, kind=\"line\", search_suffix={lv.REGIONS.ENDO, lv.REGIONS.EPI})"
   ]
  },
  {
   "cell_type": "code",
   "execution_count": null,
   "metadata": {},
   "outputs": [],
   "source": [
    "lv.plot_metric(\"longitudinal_distance_2\", kind=\"line\")"
   ]
  },
  {
   "cell_type": "code",
   "execution_count": null,
   "metadata": {},
   "outputs": [],
   "source": [
    "lv.plot_metric(\"longitudinal_distance_2\", kind=\"line\")"
   ]
  },
  {
   "cell_type": "markdown",
   "metadata": {},
   "source": [
    "### Geo Metrics that do require speckles:"
   ]
  },
  {
   "cell_type": "markdown",
   "metadata": {},
   "source": [
    "Radius (for each spk):"
   ]
  },
  {
   "cell_type": "markdown",
   "metadata": {},
   "source": [
    "Expected values for radius at base: \n",
    "\n",
    "* EPI: 35\n",
    "* ENDO: 25\n",
    "* AVG: 30"
   ]
  },
  {
   "cell_type": "code",
   "execution_count": null,
   "metadata": {},
   "outputs": [],
   "source": [
    "circ_spks = lv.get_speckles(spk_name=\"base\", spk_collection=\"circ-6\")\n",
    "lv.radius(circ_spks, recompute=True, log_level=logging.DEBUG)\n",
    "lv.plot_metric(lv.STATES.RADIUS, \n",
    "    from_ts=0.0, plot_infos=[\"group\"])"
   ]
  },
  {
   "cell_type": "markdown",
   "metadata": {},
   "source": [
    "Thickness"
   ]
  },
  {
   "cell_type": "markdown",
   "metadata": {},
   "source": [
    "Expected: 10"
   ]
  },
  {
   "cell_type": "code",
   "execution_count": null,
   "metadata": {},
   "outputs": [],
   "source": [
    "endo_circ_spks = lv.get_speckles(spk_name=\"base\", spk_group=\"endo\", spk_collection=\"circ-6\")\n",
    "epi_circ_spks = lv.get_speckles(spk_name=\"base\", spk_group=\"epi\", spk_collection=\"circ-6\")\n",
    "\n",
    "lv.thickness(endo_circ_spks, epi_circ_spks)\n",
    "lv.plot_metric(lv.STATES.THICKNESS, from_ts=0.0, plot_infos={'group'})"
   ]
  },
  {
   "cell_type": "markdown",
   "metadata": {},
   "source": [
    "Longitudinal Length:"
   ]
  },
  {
   "cell_type": "code",
   "execution_count": null,
   "metadata": {},
   "outputs": [],
   "source": [
    "long_spks = lv.get_speckles(spk_collection=\"long-6\")\n",
    "lv.longitudinal_length(long_spks, recompute=True, reduce_by={\"group\", \"name\"},\n",
    "                                           mfilter_ws=0,\n",
    "                                           sfilter_ws=0,\n",
    "                                           sfilter_or=0,\n",
    "                                           )\n",
    "lv.plot_metric(lv.STATES.LONG_LENGTH, \n",
    "    from_ts=0.0,\n",
    "    plot_infos=[\"group\", \"name\"])"
   ]
  },
  {
   "cell_type": "markdown",
   "metadata": {},
   "source": [
    "Circumferential Length:"
   ]
  },
  {
   "cell_type": "code",
   "execution_count": null,
   "metadata": {},
   "outputs": [],
   "source": [
    "circ_spks = lv.get_speckles(spk_collection=\"circ-6\")\n",
    "lv.circumferential_length(circ_spks, recompute=True, reduce_by={\"group\", \"name\"})\n",
    "lv.plot_metric(lv.STATES.CIRC_LENGTH, \n",
    "    from_ts=0.0,\n",
    "    plot_infos=[\"group\", \"name\"])"
   ]
  },
  {
   "cell_type": "markdown",
   "metadata": {},
   "source": [
    "Rotation:"
   ]
  },
  {
   "cell_type": "code",
   "execution_count": null,
   "metadata": {},
   "outputs": [],
   "source": [
    "circ_spks = lv.get_speckles(spk_name=\"base\", spk_collection=\"circ-6\")\n",
    "lv.rotation(circ_spks, recompute=True, check_orientation=False)\n",
    "lv.plot_metric(lv.STATES.ROTATION, \n",
    "    from_ts=0.0,\n",
    "    plot_infos=[\"group\"])"
   ]
  },
  {
   "cell_type": "markdown",
   "metadata": {},
   "source": [
    "## Clinical Metrics:"
   ]
  },
  {
   "cell_type": "markdown",
   "metadata": {},
   "source": [
    "### Clinical metrics that do not require speckles"
   ]
  },
  {
   "cell_type": "markdown",
   "metadata": {},
   "source": [
    "Ejection Fraction"
   ]
  },
  {
   "cell_type": "code",
   "execution_count": null,
   "metadata": {},
   "outputs": [],
   "source": [
    "# lv.ejection_fraction()\n",
    "# lv.plot_metric(lv.STATES.EF, \n",
    "#     from_ts=0.1,\n",
    "#     plot_infos=[\"group\"])"
   ]
  },
  {
   "cell_type": "markdown",
   "metadata": {},
   "source": [
    "Longitudinal Shortening:"
   ]
  },
  {
   "cell_type": "code",
   "execution_count": null,
   "metadata": {},
   "outputs": [],
   "source": [
    "# lv.longitudinal_shortening()\n",
    "# lv.plot_metric(lv.STATES.LS, \n",
    "#     from_ts=0.1,\n",
    "#     plot_infos=[\"group\"])"
   ]
  },
  {
   "cell_type": "markdown",
   "metadata": {},
   "source": [
    "### Clinical metrics that require speckles"
   ]
  },
  {
   "cell_type": "markdown",
   "metadata": {},
   "source": [
    "Radial shortening\n"
   ]
  },
  {
   "cell_type": "code",
   "execution_count": null,
   "metadata": {},
   "outputs": [],
   "source": [
    "circ_spks = lv.get_speckles(spk_collection=\"circ-6\")\n",
    "lv.radial_shortening(circ_spks, t_ed=0.0, recompute=True)\n",
    "lv.plot_metric(lv.STATES.RS, \n",
    "    from_ts=0.0,\n",
    "    plot_infos=[\"group\"])"
   ]
  },
  {
   "cell_type": "markdown",
   "metadata": {},
   "source": [
    "Wall thickening:"
   ]
  },
  {
   "cell_type": "code",
   "execution_count": null,
   "metadata": {},
   "outputs": [],
   "source": [
    "endo_circ_spks = lv.get_speckles(spk_group=\"endo\", spk_collection=\"circ-6\")\n",
    "epi_circ_spks = lv.get_speckles(spk_group=\"epi\", spk_collection=\"circ-6\")\n",
    "\n",
    "lv.wall_thickening(endo_circ_spks, epi_circ_spks, t_ed=0.1, recompute=True)\n",
    "lv.plot_metric(lv.STATES.WT, \n",
    "    from_ts=0.0,\n",
    "    plot_infos=[\"group\"])"
   ]
  },
  {
   "cell_type": "markdown",
   "metadata": {},
   "source": [
    "Longitudinal strain:"
   ]
  },
  {
   "cell_type": "code",
   "execution_count": null,
   "metadata": {},
   "outputs": [],
   "source": [
    "long_spks = lv.get_speckles(spk_collection=\"long-6\")\n",
    "lv.longitudinal_strain(long_spks, t_ed=0.1)\n",
    "lv.plot_metric(lv.STATES.SL, \n",
    "    from_ts=0.0,\n",
    "    plot_infos=[\"group\"])"
   ]
  },
  {
   "cell_type": "markdown",
   "metadata": {},
   "source": [
    "Circumferential Strain:"
   ]
  },
  {
   "cell_type": "code",
   "execution_count": null,
   "metadata": {},
   "outputs": [],
   "source": [
    "circ_spks = lv.get_speckles(spk_collection=\"circ-6\")\n",
    "lv.circumferential_strain(circ_spks, t_ed=0.1)\n",
    "lv.plot_metric(lv.STATES.SC, \n",
    "    from_ts=0.0,\n",
    "    plot_infos=[\"group\"])"
   ]
  },
  {
   "cell_type": "markdown",
   "metadata": {},
   "source": [
    "Twist:"
   ]
  },
  {
   "cell_type": "code",
   "execution_count": null,
   "metadata": {},
   "outputs": [],
   "source": [
    "apex_spks = lv.get_speckles(spk_name=\"apex\", spk_collection=\"circ-6\")\n",
    "base_spks = lv.get_speckles(spk_name=\"base\", spk_collection=\"circ-6\")\n",
    "\n",
    "lv.twist(apex_spks, base_spks, t_ed=0.1)\n",
    "lv.plot_metric(lv.STATES.TW, \n",
    "    from_ts=0.0,\n",
    "    plot_infos=[\"group\"])"
   ]
  },
  {
   "cell_type": "markdown",
   "metadata": {},
   "source": [
    "Torsion:"
   ]
  },
  {
   "cell_type": "code",
   "execution_count": null,
   "metadata": {},
   "outputs": [],
   "source": [
    "apex_spks = lv.get_speckles(spk_name=\"apex\", spk_collection=\"circ-6\")\n",
    "base_spks = lv.get_speckles(spk_name=\"base\", spk_collection=\"circ-6\")\n",
    "\n",
    "lv.torsion(apex_spks, base_spks, t_ed=0.1)\n",
    "lv.plot_metric(lv.STATES.TO, \n",
    "    from_ts=0.0,\n",
    "    plot_infos=[\"group\"])"
   ]
  }
 ],
 "metadata": {
  "interpreter": {
   "hash": "a4b270fe5129ef310552b5197d637a230d47119f1e46f0b92ff32b1c5f5c5425"
  },
  "kernelspec": {
   "display_name": "Python 3.9.7 ('project_heart')",
   "language": "python",
   "name": "python3"
  },
  "language_info": {
   "codemirror_mode": {
    "name": "ipython",
    "version": 3
   },
   "file_extension": ".py",
   "mimetype": "text/x-python",
   "name": "python",
   "nbconvert_exporter": "python",
   "pygments_lexer": "ipython3",
   "version": "3.9.7"
  },
  "orig_nbformat": 4
 },
 "nbformat": 4,
 "nbformat_minor": 2
}
