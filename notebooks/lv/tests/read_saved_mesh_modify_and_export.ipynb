{
 "cells": [
  {
   "cell_type": "code",
   "execution_count": 4,
   "metadata": {},
   "outputs": [],
   "source": [
    "from project_heart.lv import LV\n",
    "import numpy as np\n",
    "import pyvista as pv\n",
    "# import project_heart as ph\n",
    "from project_heart.modules.geometry import Geometry\n",
    "pv.set_jupyter_backend(\"pythreejs\")\n",
    "\n",
    "import os\n",
    "from pathlib import Path\n",
    "\n",
    "from project_heart.enums import *"
   ]
  },
  {
   "cell_type": "code",
   "execution_count": 5,
   "metadata": {},
   "outputs": [],
   "source": [
    "filepath = Path(\"../sample_files/lvtetmesh_fibers_LDRB_1.vtk\")\n",
    "lv = LV.from_pyvista_read(filepath)"
   ]
  },
  {
   "cell_type": "code",
   "execution_count": 3,
   "metadata": {},
   "outputs": [],
   "source": [
    "lv.create_nodesets_from_surfaces(mesh_data=LV_MESH_DATA.APEX_BASE_REGIONS, overwrite=False)\n",
    "lv.create_nodesets_from_surfaces(mesh_data=LV_MESH_DATA.EPI_ENDO, overwrite=False)\n",
    "lv.create_nodesets_from_surfaces(mesh_data=LV_MESH_DATA.SURFS, overwrite=False)\n",
    "lv.create_nodesets_from_surfaces(mesh_data=LV_MESH_DATA.AM_SURFS, overwrite=False)\n",
    "lv.create_nodesets_from_surfaces(mesh_data=LV_MESH_DATA.SURFS_DETAILED, overwrite=False)"
   ]
  },
  {
   "cell_type": "code",
   "execution_count": 4,
   "metadata": {},
   "outputs": [
    {
     "data": {
      "text/plain": [
       "['OTHER', 'AORTIC', 'MITRAL', 'AM_INTERCECTION']"
      ]
     },
     "execution_count": 4,
     "metadata": {},
     "output_type": "execute_result"
    }
   ],
   "source": [
    "lv.peek_unique_values_in_surface(LV_MESH_DATA.AM_SURFS, LV_SURFS)"
   ]
  },
  {
   "cell_type": "code",
   "execution_count": 5,
   "metadata": {},
   "outputs": [],
   "source": [
    "lv.set_aortic_info()\n",
    "lv.set_mitral_info()"
   ]
  },
  {
   "cell_type": "code",
   "execution_count": 7,
   "metadata": {},
   "outputs": [],
   "source": [
    "aortic_bc = lv.create_spring_rim_bc(\"AORTIC_BC\", LV_SURFS.BORDER_AORTIC)\n",
    "mitral_bc = lv.create_spring_rim_bc(\"MITRAL_BC\", LV_SURFS.BORDER_MITRAL)"
   ]
  },
  {
   "cell_type": "code",
   "execution_count": 9,
   "metadata": {},
   "outputs": [],
   "source": [
    "atr_rim_string_lines = lv.get_rim_springs_for_plot(aortic_bc)\n",
    "mtr_rim_string_lines = lv.get_rim_springs_for_plot(mitral_bc)"
   ]
  },
  {
   "cell_type": "code",
   "execution_count": 10,
   "metadata": {},
   "outputs": [
    {
     "data": {
      "application/vnd.jupyter.widget-view+json": {
       "model_id": "2b54fb4e08df42bf85029c8532b34548",
       "version_major": 2,
       "version_minor": 0
      },
      "text/plain": [
       "Renderer(camera=PerspectiveCamera(aspect=1.3333333333333333, children=(DirectionalLight(color='#fefefe', posit…"
      ]
     },
     "metadata": {},
     "output_type": "display_data"
    }
   ],
   "source": [
    "plotter = pv.Plotter(lighting='three lights')\n",
    "plotter.background_color = 'w'\n",
    "plotter.enable_anti_aliasing()\n",
    "plotter.add_points(lv.get_virtual_node(LV_VIRTUAL_NODES.MITRAL), color=\"green\", point_size=300)\n",
    "plotter.add_points(lv.get_virtual_node(LV_VIRTUAL_NODES.AORTIC), color=\"red\", point_size=300)\n",
    "plotter.add_points(aortic_bc[LV_RIM.NODES.value], color=\"red\", point_size=300)\n",
    "plotter.add_points(aortic_bc[LV_RIM.CENTER.value], color=\"red\", point_size=300)\n",
    "\n",
    "plotter.add_points(mitral_bc[LV_RIM.NODES.value], color=\"green\", point_size=300)\n",
    "plotter.add_points(mitral_bc[LV_RIM.CENTER.value], color=\"green\", point_size=300)\n",
    "\n",
    "plotter.add_mesh(atr_rim_string_lines, color=\"red\", opacity=0.5, show_edges=False)\n",
    "plotter.add_mesh(mtr_rim_string_lines, color=\"green\", opacity=0.5, show_edges=False)\n",
    "plotter.add_mesh(lv.mesh, \n",
    "                  scalars=\"LV_SURFS\", \n",
    "                  cmap=\"Set2\", \n",
    "                  opacity=1.0, \n",
    "                  show_edges=False,\n",
    "                  ambient=0.2, \n",
    "                  diffuse=0.5, \n",
    "                  specular=0.5, \n",
    "                  specular_power=90,\n",
    "                  #  smooth_shading=True,\n",
    "                  )\n",
    "plotter.enable_shadows()\n",
    "plotter.show()"
   ]
  },
  {
   "cell_type": "code",
   "execution_count": 11,
   "metadata": {},
   "outputs": [],
   "source": [
    "lv.to_json(\"./lvtetmesh_wfibers_jsonsample.json\", \n",
    "           nodeset_enums=[LV_SURFS],\n",
    "           export_all_mesh_data=True)"
   ]
  }
 ],
 "metadata": {
  "interpreter": {
   "hash": "0ae1276936e32d1c86df8db6f3cf7470193c57b148400d4ba3b6a1ab5cfdd10f"
  },
  "kernelspec": {
   "display_name": "Python 3.9.7 (conda)",
   "language": "python",
   "name": "python3"
  },
  "language_info": {
   "codemirror_mode": {
    "name": "ipython",
    "version": 3
   },
   "file_extension": ".py",
   "mimetype": "text/x-python",
   "name": "python",
   "nbconvert_exporter": "python",
   "pygments_lexer": "ipython3",
   "version": "3.9.7"
  },
  "orig_nbformat": 4
 },
 "nbformat": 4,
 "nbformat_minor": 2
}
