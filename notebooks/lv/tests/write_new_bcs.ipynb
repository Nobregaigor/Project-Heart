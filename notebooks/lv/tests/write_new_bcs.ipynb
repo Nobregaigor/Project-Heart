{
 "cells": [
  {
   "cell_type": "code",
   "execution_count": 1,
   "metadata": {},
   "outputs": [],
   "source": [
    "import matlab.engine\n",
    "eng = matlab.engine.start_matlab()"
   ]
  },
  {
   "cell_type": "code",
   "execution_count": 2,
   "metadata": {},
   "outputs": [],
   "source": [
    "eng.quit()"
   ]
  },
  {
   "cell_type": "code",
   "execution_count": 1,
   "metadata": {},
   "outputs": [],
   "source": [
    "import json\n",
    "from febio_python.feb import FEBio_feb\n",
    "import numpy as np"
   ]
  },
  {
   "cell_type": "code",
   "execution_count": 2,
   "metadata": {},
   "outputs": [
    {
     "data": {
      "text/plain": [
       "dict_keys(['NODES', 'ELEMENTS', 'NODESETS', 'ELEMTSETS', 'SURFACES', 'VIRTUAL_NODES'])"
      ]
     },
     "execution_count": 2,
     "metadata": {},
     "output_type": "execute_result"
    }
   ],
   "source": [
    "with open(\"./test.json\", \"r\") as jsonfile:\n",
    "  json_data = json.load(jsonfile)\n",
    "json_data.keys()"
   ]
  },
  {
   "cell_type": "code",
   "execution_count": 3,
   "metadata": {},
   "outputs": [],
   "source": [
    "feb = FEBio_feb(\"./TEMPLATE.feb\")"
   ]
  },
  {
   "cell_type": "code",
   "execution_count": 4,
   "metadata": {},
   "outputs": [
    {
     "name": "stderr",
     "output_type": "stream",
     "text": [
      "C:\\Users\\igornobrega\\AppData\\Local\\Programs\\Python\\Python39\\lib\\site-packages\\febio_python\\feb\\FEBio_feb.py:169: UserWarning: Replacing nodes data with new amound of nodes.                    This can lead to malfunction in feb file exectuion\n",
      "  warnings.warn(\"Replacing nodes data with new amound of nodes.\\\n"
     ]
    }
   ],
   "source": [
    "feb.replace_nodes(json_data[\"NODES\"])"
   ]
  },
  {
   "cell_type": "code",
   "execution_count": 5,
   "metadata": {},
   "outputs": [
    {
     "data": {
      "text/plain": [
       "array([[    1,     2,     3,     4],\n",
       "       [    5,     6,     7,     8],\n",
       "       [    9,    10,    11,    12],\n",
       "       ...,\n",
       "       [72360, 72359, 50645, 72476],\n",
       "       [50645, 50646, 72359, 50643],\n",
       "       [50645, 72359, 50646, 72476]])"
      ]
     },
     "execution_count": 5,
     "metadata": {},
     "output_type": "execute_result"
    }
   ],
   "source": [
    "tet4elems = np.array(json_data[\"ELEMENTS\"][\"TETRA\"]) + 1\n",
    "tet4elems"
   ]
  },
  {
   "cell_type": "code",
   "execution_count": 6,
   "metadata": {},
   "outputs": [],
   "source": [
    "feb.add_elements({\"LV\": tet4elems}, 1, eltype=\"tet4\")"
   ]
  },
  {
   "cell_type": "code",
   "execution_count": 7,
   "metadata": {},
   "outputs": [],
   "source": [
    "import xml.etree.ElementTree as ET"
   ]
  },
  {
   "cell_type": "code",
   "execution_count": 8,
   "metadata": {},
   "outputs": [],
   "source": [
    "initial_el_id = 1\n",
    "for (name, surf) in json_data[\"SURFACES\"].items():\n",
    "    el_root = ET.Element(\"Surface\")\n",
    "    el_root.set(\"name\", name)\n",
    "\n",
    "    for i, xyz in enumerate(surf):\n",
    "        subel = ET.SubElement(el_root, \"tri3\")\n",
    "        subel.set(\"id\", str(i + initial_el_id))\n",
    "        subel.text = \",\".join(map(str, xyz))\n",
    "    initial_el_id = i + 1\n",
    "\n",
    "    feb.Geometry.extend([el_root])"
   ]
  }
 ],
 "metadata": {
  "interpreter": {
   "hash": "7b4c11f9d64cea424432a1c6b395fe0710a80b11f4c571140f7703cecb386ff6"
  },
  "kernelspec": {
   "display_name": "Python 3.9.10 ('venv': venv)",
   "language": "python",
   "name": "python3"
  },
  "language_info": {
   "codemirror_mode": {
    "name": "ipython",
    "version": 3
   },
   "file_extension": ".py",
   "mimetype": "text/x-python",
   "name": "python",
   "nbconvert_exporter": "python",
   "pygments_lexer": "ipython3",
   "version": "3.9.7"
  },
  "orig_nbformat": 4
 },
 "nbformat": 4,
 "nbformat_minor": 2
}
