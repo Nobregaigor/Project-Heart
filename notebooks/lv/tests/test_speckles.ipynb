{
 "cells": [
  {
   "cell_type": "code",
   "execution_count": null,
   "metadata": {},
   "outputs": [],
   "source": [
    "from project_heart.lv import LV\n",
    "import numpy as np\n",
    "import pyvista as pv\n",
    "pv.set_jupyter_backend(\"pythreejs\")\n",
    "\n",
    "import os\n",
    "from pathlib import Path\n",
    "\n",
    "from project_heart.enums import *"
   ]
  },
  {
   "cell_type": "code",
   "execution_count": null,
   "metadata": {},
   "outputs": [],
   "source": [
    "filepath = Path(\"../sample_files/ellipsoid_2.stl\")\n",
    "lv = LV.from_file(filepath)\n",
    "lv.identify_regions(LV_GEO_TYPES.IDEAL,\n",
    "    endo_epi_args={\"threshold\":85,})\n",
    "lv.transform_region_to_facet_data(LV_MESH_DATA.SURFS)\n",
    "lv.plot(\"surface\", \n",
    "        scalars=LV_MESH_DATA.SURFS,\n",
    "        container=\"points\",\n",
    "        show_edges=True,\n",
    "        categorical=True,\n",
    "        split_sharp_edges=True,\n",
    "        smooth_shading=False,\n",
    "        pretty=False,\n",
    "        )"
   ]
  },
  {
   "cell_type": "code",
   "execution_count": null,
   "metadata": {},
   "outputs": [],
   "source": [
    "import json\n",
    "with open(\"../sample_files/spk_json.json\", \"r\") as spk_file:\n",
    "  spk_json = json.load(spk_file)"
   ]
  },
  {
   "cell_type": "code",
   "execution_count": null,
   "metadata": {},
   "outputs": [],
   "source": [
    "for spk_data in spk_json:\n",
    "  if spk_data[\"from_nodeset\"] == \"endo\":\n",
    "    spk_data[\"from_nodeset\"] = LV_SURFS.ENDO.value\n",
    "  elif spk_data[\"from_nodeset\"] == \"epi\":\n",
    "    spk_data[\"from_nodeset\"] = LV_SURFS.EPI.value\n",
    "  else:\n",
    "    print(spk_data)"
   ]
  },
  {
   "cell_type": "code",
   "execution_count": null,
   "metadata": {},
   "outputs": [],
   "source": [
    "for spk_data in spk_json:\n",
    "  lv.create_speckles(**spk_data)"
   ]
  },
  {
   "cell_type": "code",
   "execution_count": null,
   "metadata": {},
   "outputs": [],
   "source": [
    "lv.set_region_from_speckles(\"TEST-circ-6\", spk_collection=\"circ-6\")\n",
    "lv.plot(scalars=\"TEST-circ-6\", categorical=True, cmap=\"jet\")"
   ]
  },
  {
   "cell_type": "code",
   "execution_count": null,
   "metadata": {},
   "outputs": [],
   "source": [
    "lv.set_region_from_speckles(\"TEST-circ-6\", spk_name=\"superapex\", spk_collection=\"circ-6\")\n",
    "lv.plot(scalars=\"TEST-circ-6\", categorical=True, cmap=\"tab20_r\")"
   ]
  },
  {
   "cell_type": "code",
   "execution_count": null,
   "metadata": {},
   "outputs": [],
   "source": [
    "lv.set_region_from_speckles(\"TEST-circ-6\", spk_group=\"epi\", spk_collection=\"circ-6\")\n",
    "lv.plot(scalars=\"TEST-circ-6\", categorical=True, cmap=\"jet\")"
   ]
  },
  {
   "cell_type": "code",
   "execution_count": null,
   "metadata": {},
   "outputs": [],
   "source": [
    "lv.set_region_from_speckles(\"TEST-circ-6\", spk_collection=\"long-6\")\n",
    "lv.plot(scalars=\"TEST-circ-6\", categorical=True, cmap=\"jet\", show_edges=True)"
   ]
  },
  {
   "cell_type": "markdown",
   "metadata": {},
   "source": []
  },
  {
   "cell_type": "code",
   "execution_count": null,
   "metadata": {},
   "outputs": [],
   "source": [
    "np.linspace(0, np.pi, 4, endpoint=False)"
   ]
  },
  {
   "cell_type": "markdown",
   "metadata": {},
   "source": [
    "# Create speckles"
   ]
  },
  {
   "cell_type": "code",
   "execution_count": null,
   "metadata": {},
   "outputs": [],
   "source": [
    "lv = LV.from_file(filepath)\n",
    "lv.identify_regions(LV_GEO_TYPES.IDEAL,\n",
    "    apex_base_args={\"ql\":0.075, \"qh\":0.975},\n",
    "    endo_epi_args={\"threshold\":85,})\n",
    "lv.transform_region_to_facet_data(LV_MESH_DATA.SURFS)\n",
    "lv.plot(\"surface\", \n",
    "        scalars=LV_MESH_DATA.SURFS,\n",
    "        container=\"points\",\n",
    "        show_edges=True,\n",
    "        categorical=True,\n",
    "        split_sharp_edges=True,\n",
    "        smooth_shading=False,\n",
    "        pretty=False,\n",
    "        )"
   ]
  },
  {
   "cell_type": "markdown",
   "metadata": {},
   "source": [
    "Create Longitudinal Speckles"
   ]
  },
  {
   "cell_type": "code",
   "execution_count": null,
   "metadata": {},
   "outputs": [],
   "source": [
    "import logging\n",
    "\n",
    "for i, a in enumerate(np.linspace(0, np.pi, 6, endpoint=False)):\n",
    "    \n",
    "    spk = lv.create_speckles(\n",
    "        collection=\"long-6\",\n",
    "        group=\"endo\",\n",
    "        name=str(i),\n",
    "        from_nodeset=LV_SURFS.ENDO,\n",
    "        d=1.75,\n",
    "        k=0.5,\n",
    "        normal_to=[np.cos(a),np.sin(a),0.0],\n",
    "        n_subsets=6,\n",
    "        subsets_criteria=\"z2\",\n",
    "        t=0.0,\n",
    "        kmin=0.075,\n",
    "        kmax=0.975,\n",
    "        log_level=logging.INFO,\n",
    "    )\n",
    "\n",
    "    spk = lv.create_speckles(\n",
    "        collection=\"long-6\",\n",
    "        group=\"epi\",\n",
    "        name=str(i),\n",
    "        from_nodeset=LV_SURFS.EPI,\n",
    "        d=2.4,\n",
    "        k=0.5,\n",
    "        normal_to=[np.cos(a),np.sin(a),0.0],\n",
    "        n_subsets=6,\n",
    "        subsets_criteria=\"z2\",\n",
    "        t=0.0,\n",
    "        kmin=0.075,\n",
    "        kmax=0.975,\n",
    "        log_level=logging.INFO,\n",
    "    )\n",
    "\n",
    "lv.set_region_from_speckles(\"long-6\", spk_collection=\"long-6\")\n",
    "lv.plot(scalars=\"long-6\", categorical=True, cmap=\"jet\")"
   ]
  },
  {
   "cell_type": "code",
   "execution_count": null,
   "metadata": {},
   "outputs": [],
   "source": [
    "import logging\n",
    "names = [\"subapex\", \"apex\", \"superapex\", \"submid\", \"mid\", \"supermid\", \"subbase\", \"base\", \"superbase\"]\n",
    "\n",
    "for i, a in enumerate(np.linspace(0.1, 0.90, len(names), endpoint=False)):\n",
    "    \n",
    "    spk = lv.create_speckles(\n",
    "        collection=\"circ-6\",\n",
    "        group=\"endo\",\n",
    "        name=names[i],\n",
    "        from_nodeset=LV_SURFS.ENDO,\n",
    "        d=1.75,\n",
    "        k=a,\n",
    "        normal_to=[0.0, 0.0, 1.0],\n",
    "        n_subsets=6,\n",
    "        subsets_criteria=\"z2\",\n",
    "        t=0.0,\n",
    "        kmin=-1.0,\n",
    "        kmax=-1.0,\n",
    "        log_level=logging.INFO,\n",
    "    )\n",
    "\n",
    "    spk = lv.create_speckles(\n",
    "        collection=\"circ-6\",\n",
    "        group=\"epi\",\n",
    "        name=names[i],\n",
    "        from_nodeset=LV_SURFS.EPI,\n",
    "        d=1.75,\n",
    "        k=a,\n",
    "        normal_to=[0.0, 0.0, 1.0],\n",
    "        n_subsets=6,\n",
    "        subsets_criteria=\"z2\",\n",
    "        t=0.0,\n",
    "        kmin=-1.0,\n",
    "        kmax=-1.0,\n",
    "        log_level=logging.INFO,\n",
    "    )\n",
    "\n",
    "lv.set_region_from_speckles(\"circ-6\", spk_collection=\"circ-6\")\n",
    "lv.plot(scalars=\"circ-6\", categorical=True, cmap=\"jet\")"
   ]
  }
 ],
 "metadata": {
  "interpreter": {
   "hash": "364647f439eeb51cea9fa1ad47f7b03a5a9ed5157a0ffe2dd43bcec2d09df37e"
  },
  "kernelspec": {
   "display_name": "Python 3.9.7 (conda)",
   "language": "python",
   "name": "python3"
  },
  "language_info": {
   "codemirror_mode": {
    "name": "ipython",
    "version": 3
   },
   "file_extension": ".py",
   "mimetype": "text/x-python",
   "name": "python",
   "nbconvert_exporter": "python",
   "pygments_lexer": "ipython3",
   "version": "3.9.7"
  },
  "orig_nbformat": 4
 },
 "nbformat": 4,
 "nbformat_minor": 2
}
