{
 "cells": [
  {
   "cell_type": "code",
   "execution_count": 1,
   "metadata": {},
   "outputs": [],
   "source": [
    "from project_heart.lv import LV\n",
    "import numpy as np\n",
    "import pyvista as pv\n",
    "pv.set_jupyter_backend(\"pythreejs\")\n",
    "\n",
    "import os\n",
    "from pathlib import Path\n",
    "\n",
    "from project_heart.enums import *"
   ]
  },
  {
   "cell_type": "code",
   "execution_count": 2,
   "metadata": {},
   "outputs": [
    {
     "data": {
      "application/vnd.jupyter.widget-view+json": {
       "model_id": "2f99cc80d0c8445bad19a10da7b4f6f5",
       "version_major": 2,
       "version_minor": 0
      },
      "text/plain": [
       "Renderer(camera=PerspectiveCamera(aspect=1.3333333333333333, children=(DirectionalLight(color='#fefefe', posit…"
      ]
     },
     "metadata": {},
     "output_type": "display_data"
    }
   ],
   "source": [
    "filepath = Path(\"../sample_files/lvhexmesh_typeA.vtk\")\n",
    "lv = LV.from_file(filepath)\n",
    "lv.identify_regions(LV_GEO_TYPES.TYPE_A,\n",
    "    endo_epi_args={\"threshold\":85,})\n",
    "lv.transform_region_to_facet_data(LV_MESH_DATA.SURFS)\n",
    "lv.plot(\"surface\", \n",
    "        scalars=LV_MESH_DATA.SURFS,\n",
    "        container=\"cells\",\n",
    "        show_edges=True,\n",
    "        categorical=True,\n",
    "        split_sharp_edges=True,\n",
    "        smooth_shading=False,\n",
    "        pretty=False,\n",
    "        )"
   ]
  },
  {
   "cell_type": "code",
   "execution_count": 3,
   "metadata": {},
   "outputs": [],
   "source": [
    "import json\n",
    "with open(\"../sample_files/spk_json.json\", \"r\") as spk_file:\n",
    "  spk_json = json.load(spk_file)"
   ]
  },
  {
   "cell_type": "code",
   "execution_count": 4,
   "metadata": {},
   "outputs": [],
   "source": [
    "for spk_data in spk_json:\n",
    "  if spk_data[\"from_nodeset\"] == \"endo\":\n",
    "    spk_data[\"from_nodeset\"] = LV_SURFS.ENDO.value\n",
    "  elif spk_data[\"from_nodeset\"] == \"epi\":\n",
    "    spk_data[\"from_nodeset\"] = LV_SURFS.EPI.value\n",
    "  else:\n",
    "    print(spk_data)"
   ]
  },
  {
   "cell_type": "code",
   "execution_count": 5,
   "metadata": {},
   "outputs": [],
   "source": [
    "for spk_data in spk_json:\n",
    "  lv.create_speckles(**spk_data)"
   ]
  },
  {
   "cell_type": "code",
   "execution_count": 6,
   "metadata": {},
   "outputs": [
    {
     "data": {
      "text/plain": [
       "<SpecklesDict>: \n",
       "Collections: \n",
       "{'circ-6', 'circ-8', 'long-8', 'long-2', 'circ-1', 'default', 'long-6'}\n",
       "Groups: \n",
       "{'default', 'endo', 'epi'}\n",
       "Names: \n",
       "{0, 'subbase', 1, 'superbase', 2, 3, 'apex', 'base', 4, 5, 'mid', 'subapex', 'supermid', 6, 'submid', 7, 'default', 'superapex'}\n",
       "Subsets: \n",
       "{0, 1, 2, 3, 4, 5, 6, 7, 'default'}"
      ]
     },
     "execution_count": 6,
     "metadata": {},
     "output_type": "execute_result"
    }
   ],
   "source": [
    "lv.speckles"
   ]
  },
  {
   "cell_type": "code",
   "execution_count": 7,
   "metadata": {},
   "outputs": [
    {
     "data": {
      "text/plain": [
       "[<Speckle: .subset: default, .name: subapex, .group: endo, .collection: circ-1, .t: 0.0>,\n",
       " <Speckle: .subset: default, .name: apex, .group: endo, .collection: circ-1, .t: 0.0>,\n",
       " <Speckle: .subset: default, .name: superapex, .group: endo, .collection: circ-1, .t: 0.0>,\n",
       " <Speckle: .subset: default, .name: submid, .group: endo, .collection: circ-1, .t: 0.0>,\n",
       " <Speckle: .subset: default, .name: mid, .group: endo, .collection: circ-1, .t: 0.0>,\n",
       " <Speckle: .subset: default, .name: supermid, .group: endo, .collection: circ-1, .t: 0.0>,\n",
       " <Speckle: .subset: default, .name: subbase, .group: endo, .collection: circ-1, .t: 0.0>,\n",
       " <Speckle: .subset: default, .name: base, .group: endo, .collection: circ-1, .t: 0.0>,\n",
       " <Speckle: .subset: default, .name: superbase, .group: endo, .collection: circ-1, .t: 0.0>,\n",
       " <Speckle: .subset: default, .name: subapex, .group: epi, .collection: circ-1, .t: 0.0>,\n",
       " <Speckle: .subset: default, .name: apex, .group: epi, .collection: circ-1, .t: 0.0>,\n",
       " <Speckle: .subset: default, .name: superapex, .group: epi, .collection: circ-1, .t: 0.0>,\n",
       " <Speckle: .subset: default, .name: submid, .group: epi, .collection: circ-1, .t: 0.0>,\n",
       " <Speckle: .subset: default, .name: mid, .group: epi, .collection: circ-1, .t: 0.0>,\n",
       " <Speckle: .subset: default, .name: supermid, .group: epi, .collection: circ-1, .t: 0.0>,\n",
       " <Speckle: .subset: default, .name: subbase, .group: epi, .collection: circ-1, .t: 0.0>,\n",
       " <Speckle: .subset: default, .name: base, .group: epi, .collection: circ-1, .t: 0.0>,\n",
       " <Speckle: .subset: default, .name: superbase, .group: epi, .collection: circ-1, .t: 0.0>]"
      ]
     },
     "execution_count": 7,
     "metadata": {},
     "output_type": "execute_result"
    }
   ],
   "source": [
    "endo_spks = lv.get_speckles(spk_collection=\"circ-1\")\n",
    "endo_spks"
   ]
  },
  {
   "cell_type": "code",
   "execution_count": 8,
   "metadata": {},
   "outputs": [
    {
     "data": {
      "text/plain": [
       "[<Speckle: .subset: 0, .name: subapex, .group: endo, .collection: circ-6, .t: 0.0>,\n",
       " <Speckle: .subset: 0, .name: apex, .group: endo, .collection: circ-6, .t: 0.0>,\n",
       " <Speckle: .subset: 0, .name: superapex, .group: endo, .collection: circ-6, .t: 0.0>,\n",
       " <Speckle: .subset: 0, .name: submid, .group: endo, .collection: circ-6, .t: 0.0>,\n",
       " <Speckle: .subset: 0, .name: mid, .group: endo, .collection: circ-6, .t: 0.0>,\n",
       " <Speckle: .subset: 0, .name: supermid, .group: endo, .collection: circ-6, .t: 0.0>,\n",
       " <Speckle: .subset: 0, .name: subbase, .group: endo, .collection: circ-6, .t: 0.0>,\n",
       " <Speckle: .subset: 0, .name: base, .group: endo, .collection: circ-6, .t: 0.0>,\n",
       " <Speckle: .subset: 0, .name: superbase, .group: endo, .collection: circ-6, .t: 0.0>,\n",
       " <Speckle: .subset: 0, .name: subapex, .group: epi, .collection: circ-6, .t: 0.0>,\n",
       " <Speckle: .subset: 0, .name: apex, .group: epi, .collection: circ-6, .t: 0.0>,\n",
       " <Speckle: .subset: 0, .name: superapex, .group: epi, .collection: circ-6, .t: 0.0>,\n",
       " <Speckle: .subset: 0, .name: submid, .group: epi, .collection: circ-6, .t: 0.0>,\n",
       " <Speckle: .subset: 0, .name: mid, .group: epi, .collection: circ-6, .t: 0.0>,\n",
       " <Speckle: .subset: 0, .name: supermid, .group: epi, .collection: circ-6, .t: 0.0>,\n",
       " <Speckle: .subset: 0, .name: subbase, .group: epi, .collection: circ-6, .t: 0.0>,\n",
       " <Speckle: .subset: 0, .name: base, .group: epi, .collection: circ-6, .t: 0.0>,\n",
       " <Speckle: .subset: 0, .name: superbase, .group: epi, .collection: circ-6, .t: 0.0>]"
      ]
     },
     "execution_count": 8,
     "metadata": {},
     "output_type": "execute_result"
    }
   ],
   "source": [
    "endo_spks = lv.get_speckles(spk_subset=0.0, spk_collection=\"circ-6\")\n",
    "endo_spks"
   ]
  },
  {
   "cell_type": "code",
   "execution_count": 9,
   "metadata": {},
   "outputs": [
    {
     "data": {
      "text/plain": [
       "pyvista_ndarray([0, 0, 0, ..., 0, 0, 0], dtype=int64)"
      ]
     },
     "execution_count": 9,
     "metadata": {},
     "output_type": "execute_result"
    }
   ],
   "source": [
    "lv.set_region_from_speckles(\"TEST-circ-6\", spk_name=\"superbase\", spk_collection=\"circ-6\")\n"
   ]
  },
  {
   "cell_type": "code",
   "execution_count": 10,
   "metadata": {},
   "outputs": [
    {
     "data": {
      "application/vnd.jupyter.widget-view+json": {
       "model_id": "d0995132e46c48299d7a523fde12a156",
       "version_major": 2,
       "version_minor": 0
      },
      "text/plain": [
       "Renderer(camera=PerspectiveCamera(aspect=1.3333333333333333, children=(DirectionalLight(color='#fefefe', posit…"
      ]
     },
     "metadata": {},
     "output_type": "display_data"
    }
   ],
   "source": [
    "lv.plot(scalars=\"TEST-circ-6\", categorical=True, cmap=\"tab20_r\")"
   ]
  },
  {
   "cell_type": "code",
   "execution_count": 11,
   "metadata": {},
   "outputs": [
    {
     "data": {
      "text/plain": [
       "pyvista_ndarray([0, 0, 0, ..., 0, 0, 0], dtype=int64)"
      ]
     },
     "execution_count": 11,
     "metadata": {},
     "output_type": "execute_result"
    }
   ],
   "source": [
    "lv.set_region_from_speckles(\"TEST-long-6\", spk_group=\"epi\", spk_collection=\"long-6\")"
   ]
  },
  {
   "cell_type": "code",
   "execution_count": 12,
   "metadata": {},
   "outputs": [
    {
     "data": {
      "application/vnd.jupyter.widget-view+json": {
       "model_id": "0db23d944d1749f6b6529090b8b8ab04",
       "version_major": 2,
       "version_minor": 0
      },
      "text/plain": [
       "Renderer(camera=PerspectiveCamera(aspect=1.3333333333333333, children=(DirectionalLight(color='#fefefe', posit…"
      ]
     },
     "metadata": {},
     "output_type": "display_data"
    }
   ],
   "source": [
    "lv.plot(scalars=\"TEST-long-6\", categorical=True, cmap=\"tab20_r\")"
   ]
  },
  {
   "cell_type": "code",
   "execution_count": 13,
   "metadata": {},
   "outputs": [],
   "source": [
    "# {\n",
    "#     \"collection\": \"circ-6\",\n",
    "#     \"group\": \"endo\",\n",
    "#     \"name\": \"subapex\",\n",
    "#     \"from_nodeset\": \"endo\",\n",
    "#     \"d\": 2.0,\n",
    "#     \"k\": 0.15,\n",
    "#     \"normal_to\": [\n",
    "#       0.0,\n",
    "#       0.0,\n",
    "#       1.0\n",
    "#     ],\n",
    "#     \"n_subsets\": 6,\n",
    "#     \"subsets_criteria\": \"angles\",\n",
    "#     \"t\": 0.0,\n",
    "#     \"_use_long_line\": true\n",
    "#   },"
   ]
  },
  {
   "cell_type": "code",
   "execution_count": 14,
   "metadata": {},
   "outputs": [
    {
     "name": "stderr",
     "output_type": "stream",
     "text": [
      "INFO:create_speckles:Adding spk subset.\n",
      "INFO:create_speckles:name: TEST\n",
      "INFO:create_speckles:group: TEST\n",
      "INFO:create_speckles:collection: TEST\n",
      "INFO:create_speckles:Subname(s): []\n",
      "INFO:create_speckles:t (timestep): 0.0\n",
      "DEBUG:create_speckles:Using all avaiable nodes.\n",
      "DEBUG:create_speckles:Normal: [0. 0. 1.]\n",
      "DEBUG:create_speckles:long_line: [[-2.17743373  3.804003    3.13724113]\n",
      " [ 2.3492403   4.06628036 84.85165405]]\n",
      "DEBUG:create_speckles:ref p (spk center): [ 0.08590329  3.9351416  43.994446  ]\n",
      "DEBUG:create_speckles:pts close to plane: 440\n",
      "DEBUG:create_speckles:Adjusting for geometry aligned with normal. kmin: 0.1\n",
      "DEBUG:create_speckles:Adjusting for geometry aligned with normal. kmax: 0.95\n",
      "DEBUG:create_speckles:New spk center and pts found after adjustment.\n",
      "DEBUG:create_speckles:ref p (spk center): [ 2.1229067  4.0531664 80.76593  ]\n",
      "DEBUG:create_speckles:pts close to plane: 440\n",
      "DEBUG:create_speckles:Adding multiple subsets: 6.\n",
      "DEBUG:create_speckles:subsets_names: [0, 1, 2, 3, 4, 5].\n",
      "DEBUG:create_speckles:subsets_criteria: angles.\n",
      "DEBUG:create_speckles:min_a, max_a: 0.033983698024104676, 6.27228333309982.\n",
      "DEBUG:create_speckles:bins: [1 2 3 4 5 6].\n",
      "DEBUG:create_speckles:len(non_empty_buckets): 6.\n",
      "DEBUG:create_speckles:Subname: 0\n",
      "DEBUG:create_speckles:Subname: 1\n",
      "DEBUG:create_speckles:Subname: 2\n",
      "DEBUG:create_speckles:Subname: 3\n",
      "DEBUG:create_speckles:Subname: 4\n",
      "DEBUG:create_speckles:Subname: 5\n"
     ]
    }
   ],
   "source": [
    "import logging\n",
    "spk = lv.create_speckles(\n",
    "    collection=\"TEST\",\n",
    "    group=\"TEST\",\n",
    "    name=\"TEST\",\n",
    "    from_nodeset=LV_SURFS.EPI,\n",
    "    d=2.0,\n",
    "    k=0.5,\n",
    "    normal_to=[0.0,0.0,1.0],\n",
    "    n_subsets=6,\n",
    "    subsets_criteria=\"angles\",\n",
    "    t=0.0,\n",
    "    log_level=logging.DEBUG,\n",
    ")"
   ]
  },
  {
   "cell_type": "code",
   "execution_count": 15,
   "metadata": {},
   "outputs": [
    {
     "data": {
      "application/vnd.jupyter.widget-view+json": {
       "model_id": "972679c694b44ddf93b04e8364e1dc4b",
       "version_major": 2,
       "version_minor": 0
      },
      "text/plain": [
       "Renderer(camera=PerspectiveCamera(aspect=1.3333333333333333, children=(DirectionalLight(color='#fefefe', posit…"
      ]
     },
     "metadata": {},
     "output_type": "display_data"
    }
   ],
   "source": [
    "lv.set_region_from_speckles(\"TEST\", spk_name=\"TEST\", spk_collection=\"TEST\")\n",
    "lv.plot(scalars=\"TEST\", categorical=True, cmap=\"tab20_r\")"
   ]
  }
 ],
 "metadata": {
  "interpreter": {
   "hash": "364647f439eeb51cea9fa1ad47f7b03a5a9ed5157a0ffe2dd43bcec2d09df37e"
  },
  "kernelspec": {
   "display_name": "Python 3.9.7 (conda)",
   "language": "python",
   "name": "python3"
  },
  "language_info": {
   "codemirror_mode": {
    "name": "ipython",
    "version": 3
   },
   "file_extension": ".py",
   "mimetype": "text/x-python",
   "name": "python",
   "nbconvert_exporter": "python",
   "pygments_lexer": "ipython3",
   "version": "3.9.7"
  },
  "orig_nbformat": 4
 },
 "nbformat": 4,
 "nbformat_minor": 2
}
