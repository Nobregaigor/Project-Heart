{
 "cells": [
  {
   "cell_type": "code",
   "execution_count": 1,
   "metadata": {},
   "outputs": [
    {
     "name": "stderr",
     "output_type": "stream",
     "text": [
      "INFO:LV_RegionIdentifier.identify_regions_typeA:Identifying regions from 'type A' geometry.\n",
      "INFO:LV_RegionIdentifier.identify_endo_epi_base_borders_from_nodesets:len(endo_base): 144\n",
      "INFO:LV_RegionIdentifier.identify_endo_epi_base_borders_from_nodesets:len(epi_base): 144\n"
     ]
    }
   ],
   "source": [
    "from pathlib import Path\n",
    "import numpy as np\n",
    "import logging\n",
    "\n",
    "import pyvista as pv\n",
    "pv.set_jupyter_backend(\"pythreejs\")\n",
    "\n",
    "from project_heart.enums import *\n",
    "from project_heart.lv import LV\n",
    "from project_heart.examples import get_lv_ideal, get_lv_typeA\n",
    "\n",
    "from project_heart.utils.tensor_utils import convert_to_cylindrical_coordinates\n",
    "\n",
    "directory = Path(\"C:/Users/igorp/OneDrive - University of South Florida/Igor/Documents/Paper 1/stress_strain_plots/ref_files\")\n",
    "# filename = \"57.32_40.94_10.08.2022_LVRNN_IDEAL_V4\"\n",
    "filename = \"62.71_68.65_10.08.2022_LVRNN_TYPEA_V4\"\n",
    "\n",
    "lv = get_lv_typeA(str(directory/filename) + \".xplt\", statesfile=None)"
   ]
  },
  {
   "cell_type": "code",
   "execution_count": 2,
   "metadata": {},
   "outputs": [],
   "source": [
    "cy_stress = lv.convert_to_cylindrical_coordinates(lv.STATES.STRESS)\n",
    "cy_strain = lv.convert_to_cylindrical_coordinates(lv.STATES.LAGRANGE_STRAIN)"
   ]
  },
  {
   "cell_type": "code",
   "execution_count": 3,
   "metadata": {},
   "outputs": [],
   "source": [
    "idx = np.arange(1,cy_stress.shape[1]+1).reshape(-1,1)"
   ]
  },
  {
   "cell_type": "code",
   "execution_count": 4,
   "metadata": {},
   "outputs": [],
   "source": [
    "np.savetxt(\n",
    "    str(directory/filename) + \"_cylindrical_stress_xplt_format_2D_angle_with_orientation.csv\", \n",
    "    np.hstack((idx, np.hstack(cy_stress))), \n",
    "    delimiter=\",\", fmt=\"%.3f\"\n",
    "    )"
   ]
  },
  {
   "cell_type": "code",
   "execution_count": 5,
   "metadata": {},
   "outputs": [],
   "source": [
    "np.savetxt(\n",
    "    str(directory/filename) + \"_cylindrical_strain_xplt_format_2D_angle_with_orientation.csv\", \n",
    "    np.hstack((idx, np.hstack(cy_strain))), \n",
    "    delimiter=\",\", fmt=\"%.3f\"\n",
    "    )"
   ]
  },
  {
   "cell_type": "code",
   "execution_count": null,
   "metadata": {},
   "outputs": [],
   "source": [
    "from project_heart.utils.vector_utils import angle_between\n",
    "\n",
    "# set references\n",
    "x_axis = np.asarray([1,0,0])\n",
    "z_axis = np.asarray([0,0,1])\n",
    "ref_pt = np.asarray([0,0,0])\n",
    "    \n",
    "displacements = lv.states.get(lv.STATES.DISP)\n",
    "all_thetas = []\n",
    "for ts, disp in enumerate(displacements):\n",
    "    tmp_mesh = lv.mesh.copy()\n",
    "    tmp_mesh.points += disp\n",
    "    centers = np.asarray(tmp_mesh.cell_centers().points)\n",
    "   \n",
    "    # create vector from element centers\n",
    "    u = centers - ref_pt\n",
    "\n",
    "    # comput angle with respect to x_axis\n",
    "    thetas = angle_between(u[:, :2], x_axis[:2], check_orientation=True, zaxis=z_axis)\n",
    "    all_thetas.append(thetas)"
   ]
  },
  {
   "cell_type": "code",
   "execution_count": null,
   "metadata": {},
   "outputs": [],
   "source": [
    "all_thetas = np.asarray(all_thetas)\n",
    "all_thetas.shape"
   ]
  },
  {
   "cell_type": "code",
   "execution_count": null,
   "metadata": {},
   "outputs": [],
   "source": [
    "all_thetas[0]"
   ]
  },
  {
   "cell_type": "code",
   "execution_count": null,
   "metadata": {},
   "outputs": [],
   "source": [
    "np.savetxt(\n",
    "    str(directory/filename) + \"_thetas_2D_with_angle_orientation.csv\", \n",
    "    np.hstack((idx, np.hstack(all_thetas.reshape((163, -1, 1))))), \n",
    "    delimiter=\",\", fmt=\"%.3f\"\n",
    "    )"
   ]
  }
 ],
 "metadata": {
  "kernelspec": {
   "display_name": "project_heart",
   "language": "python",
   "name": "python3"
  },
  "language_info": {
   "codemirror_mode": {
    "name": "ipython",
    "version": 3
   },
   "file_extension": ".py",
   "mimetype": "text/x-python",
   "name": "python",
   "nbconvert_exporter": "python",
   "pygments_lexer": "ipython3",
   "version": "3.9.7 (default, Sep 16 2021, 16:59:28) [MSC v.1916 64 bit (AMD64)]"
  },
  "orig_nbformat": 4,
  "vscode": {
   "interpreter": {
    "hash": "a4b270fe5129ef310552b5197d637a230d47119f1e46f0b92ff32b1c5f5c5425"
   }
  }
 },
 "nbformat": 4,
 "nbformat_minor": 2
}
