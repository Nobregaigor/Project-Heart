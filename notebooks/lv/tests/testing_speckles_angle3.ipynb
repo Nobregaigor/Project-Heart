{
 "cells": [
  {
   "cell_type": "markdown",
   "metadata": {},
   "source": [
    "# Speckle Tracking"
   ]
  },
  {
   "cell_type": "code",
   "execution_count": 1,
   "metadata": {
    "nbsphinx": "hidden"
   },
   "outputs": [],
   "source": [
    "from pathlib import Path\n",
    "# from project_heart.lv import LV\n",
    "from project_heart.utils import set_jupyter_backend\n",
    "from project_heart.enums import *\n",
    "set_jupyter_backend(\"pythreejs\")\n",
    "import logging\n",
    "import numpy as np\n",
    "float_formatter = \"{:.5f}\".format\n",
    "np.set_printoptions(formatter={'float_kind':float_formatter})\n",
    "\n",
    "from project_heart.examples import get_lv_ideal\n",
    "from project_heart.examples import get_lv_typeA\n",
    "\n",
    "lv_ideal = get_lv_ideal()\n",
    "lv_typeA = get_lv_typeA()\n",
    "\n",
    "sample_spk_typeA_endo = lv_typeA.get_speckles(spk_name=\"SAMPLE\", spk_group=\"endo\", spk_collection=\"SAMPLE\")[0]\n",
    "sample_spk_typeA_epi = lv_typeA.get_speckles(spk_name=\"SAMPLE\", spk_group=\"epi\", spk_collection=\"SAMPLE\")[0]"
   ]
  },
  {
   "cell_type": "markdown",
   "metadata": {},
   "source": [
    "## What are Speckles?"
   ]
  },
  {
   "cell_type": "markdown",
   "metadata": {},
   "source": [
    "Speckles ..."
   ]
  },
  {
   "cell_type": "code",
   "execution_count": 2,
   "metadata": {},
   "outputs": [
    {
     "data": {
      "application/vnd.jupyter.widget-view+json": {
       "model_id": "60e01dd3e4e14f6c8c4590ace3ffc6d9",
       "version_major": 2,
       "version_minor": 0
      },
      "text/plain": [
       "Renderer(camera=PerspectiveCamera(aspect=1.5, children=(DirectionalLight(position=(50000.000000000015, 70710.6…"
      ]
     },
     "metadata": {},
     "output_type": "display_data"
    }
   ],
   "source": [
    "a = np.radians(0.0)\n",
    "normal = [np.cos(a),np.sin(a),0.0]\n",
    "# from project_heart.utils.vector_utils import project_vec_a_onto_vec_b\n",
    "# use_normal = project_vec_a_onto_vec_b(normal, lv_typeA.get_normal())\n",
    "# use_normal = align_vec_axis(normal, [0,0,1], lv_typeA.get_normal(), False)\n",
    "# print(use_normal, normal)\n",
    "use_normal = normal\n",
    "n_subsets = 6\n",
    "_ = lv_typeA.create_speckles(\n",
    "            collection=\"SAMPLETEST2\",\n",
    "            group=\"epi\",\n",
    "            name=\"SAMPLE-LONG\",\n",
    "            from_nodeset=LV_SURFS.EPI,\n",
    "            exclude_nodeset=[LV_SURFS.BASE, LV_SURFS.ENDO],\n",
    "            d=2.5,\n",
    "            k=0.5,\n",
    "            normal_to=use_normal,\n",
    "            n_subsets=n_subsets,\n",
    "            subsets_criteria=\"z2\",\n",
    "            cluster_criteria=\"angles3\",\n",
    "            n_clusters=18,\n",
    "            t=0.0,\n",
    "            kmin=-1,\n",
    "            kmax=0.85,\n",
    "            log_level=logging.WARN,\n",
    "        )\n",
    "\n",
    "sample_spk_typeA = lv_typeA.get_speckles(spk_name=\"SAMPLE-LONG\", spk_group=\"epi\", spk_collection=\"SAMPLETEST2\")\n",
    "\n",
    "plotter = lv_typeA.plot_speckles(sample_spk_typeA, \n",
    "                       cmap=\"hot\",\n",
    "                       point_size=300,\n",
    "                       add_k_centers=True, \n",
    "                       k_centers_as_line=True, \n",
    "                       k_bins=True,\n",
    "                       )"
   ]
  },
  {
   "cell_type": "code",
   "execution_count": 7,
   "metadata": {},
   "outputs": [
    {
     "data": {
      "application/vnd.jupyter.widget-view+json": {
       "model_id": "3c278215671549dc90ae34b1c165c859",
       "version_major": 2,
       "version_minor": 0
      },
      "text/plain": [
       "Renderer(camera=PerspectiveCamera(aspect=1.5, children=(DirectionalLight(position=(50000.000000000015, 70710.6…"
      ]
     },
     "metadata": {},
     "output_type": "display_data"
    }
   ],
   "source": [
    "a = np.radians(90.0)\n",
    "normal = [np.cos(a),np.sin(a),0.0]\n",
    "# from project_heart.utils.vector_utils import project_vec_a_onto_vec_b\n",
    "# use_normal = project_vec_a_onto_vec_b(normal, lv_typeA.get_normal())\n",
    "# use_normal = align_vec_axis(normal, [0,0,1], lv_typeA.get_normal(), False)\n",
    "# print(use_normal, normal)\n",
    "# use_normal = normal\n",
    "n_subsets = 0\n",
    "_ = lv_typeA.create_speckles(\n",
    "            collection=\"SAMPLETEST25\",\n",
    "            group=\"epi\",\n",
    "            name=\"SAMPLE-LONG\",\n",
    "            from_nodeset=LV_SURFS.EPI,\n",
    "            exclude_nodeset=[LV_SURFS.BASE, LV_SURFS.ENDO],\n",
    "            d=2.5,\n",
    "            k=0.5,\n",
    "            normal_to=normal,\n",
    "            n_subsets=n_subsets,\n",
    "            subsets_criteria=\"z2\",\n",
    "            cluster_criteria=\"angles3\",\n",
    "            n_clusters=18,\n",
    "            t=0.0,\n",
    "            kmin=-1,\n",
    "            kmax=0.85,\n",
    "            log_level=logging.WARN,\n",
    "        )\n",
    "\n",
    "sample_spk_typeA = lv_typeA.get_speckles(spk_name=\"SAMPLE-LONG\", spk_group=\"epi\", spk_collection=\"SAMPLETEST25\")\n",
    "\n",
    "plotter = lv_typeA.plot_speckles(sample_spk_typeA, \n",
    "                       cmap=\"hot\",\n",
    "                       point_size=300,\n",
    "                       add_k_centers=True, \n",
    "                       k_centers_as_line=True, \n",
    "                       k_bins=True,\n",
    "                       )"
   ]
  },
  {
   "cell_type": "code",
   "execution_count": 8,
   "metadata": {},
   "outputs": [
    {
     "data": {
      "application/vnd.jupyter.widget-view+json": {
       "model_id": "72de155a8c794c35b4f05cf80fbec017",
       "version_major": 2,
       "version_minor": 0
      },
      "text/plain": [
       "Renderer(camera=PerspectiveCamera(aspect=1.5, children=(DirectionalLight(position=(50000.000000000015, 70710.6…"
      ]
     },
     "metadata": {},
     "output_type": "display_data"
    }
   ],
   "source": [
    "normal = [0,0,1]\n",
    "n_subsets = 6\n",
    "_ = lv_typeA.create_speckles(\n",
    "            collection=\"SAMPLETEST3\",\n",
    "            group=\"epi\",\n",
    "            name=\"SAMPLE-LONG\",\n",
    "            from_nodeset=LV_SURFS.EPI,\n",
    "            exclude_nodeset=[LV_SURFS.BASE, LV_SURFS.ENDO],\n",
    "            d=4.0,\n",
    "            k=0.5,\n",
    "            normal_to=normal,\n",
    "            n_subsets=n_subsets,\n",
    "            subsets_criteria=\"angles\",\n",
    "            cluster_criteria=\"angles3\",\n",
    "            n_clusters=18,\n",
    "            t=0.0,\n",
    "            kmin=-1,\n",
    "            kmax=0.85,\n",
    "            log_level=logging.WARN,\n",
    "        )\n",
    "\n",
    "sample_spk_typeA = lv_typeA.get_speckles(spk_name=\"SAMPLE-LONG\", spk_group=\"epi\", spk_collection=\"SAMPLETEST3\")\n",
    "\n",
    "plotter = lv_typeA.plot_speckles(sample_spk_typeA, \n",
    "                       cmap=\"hot\",\n",
    "                       point_size=300,\n",
    "                       add_k_centers=True, \n",
    "                       k_centers_as_line=True, \n",
    "                       k_bins=True,\n",
    "                    #    k_center_filters=dict(\n",
    "                    #        mfilter_ws=3, \n",
    "                    #        sfilter_ws=5, \n",
    "                    #        sfilter_or=1, \n",
    "                    #        keep_first=True, \n",
    "                    #        keep_last=True)\n",
    "                       )"
   ]
  },
  {
   "cell_type": "code",
   "execution_count": 36,
   "metadata": {},
   "outputs": [],
   "source": [
    "from project_heart.utils.cloud_ops import relate_closest, map_A_to_B"
   ]
  },
  {
   "cell_type": "code",
   "execution_count": 70,
   "metadata": {},
   "outputs": [],
   "source": [
    "from sklearn.model_selection import StratifiedKFold, KFold"
   ]
  },
  {
   "cell_type": "code",
   "execution_count": 22,
   "metadata": {},
   "outputs": [
    {
     "name": "stderr",
     "output_type": "stream",
     "text": [
      "DEBUG:test:i: 0.\n",
      "DEBUG:test:pts.shape: (131, 3).\n",
      "DEBUG:test:pts[:5]: \n",
      "[[28.56056 -1.31176 42.87709]\n",
      " [28.01154 -0.66040 40.52020]\n",
      " [29.49019 -3.40558 47.53829]\n",
      " [29.96827 0.17751 47.39735]\n",
      " [20.12957 -22.97700 44.82882]].\n",
      "DEBUG:test:plane_d: -43.734920501708984.\n",
      "DEBUG:test:p_center: [0.77509 1.87210 43.73492].\n",
      "DEBUG:test:ref_max_pt: 54.\n",
      "DEBUG:test:ref_max_pt: 40.\n",
      "DEBUG:test:ref_max_vec: [17.60841 -27.91296 0.00000].\n",
      "DEBUG:test:ref_min_vec: [26.94706 -2.25615 0.00000].\n",
      "DEBUG:test:Using angles without orientation [0, 180]\n",
      "DEBUG:test:min_a: 0.0001994726606809465.\n",
      "DEBUG:test:max_a: 57.21129413975764.\n",
      "DEBUG:test:Updating reference vectors.\n",
      "DEBUG:test:ref_max_vec: [28.34394 -0.26894 0.00000].\n",
      "DEBUG:test:ref_min_vec: [17.60841 -27.91296 0.00000].\n",
      "DEBUG:test:Number of bins found: 6.\n",
      "DEBUG:test:Min, Max bin Ids: [1, 6].\n",
      "DEBUG:test:ref_last_bin_idx: 34.\n",
      "DEBUG:test:ref_first_bin_idx: 54.\n",
      "DEBUG:test:ref_last_vec: [28.34394 -0.26894 0.00000].\n",
      "DEBUG:test:ref_first_vec: [17.60841 -27.91296 0.00000].\n",
      "DEBUG:test:normal: [0.00000 0.00000 1.00000].\n",
      "DEBUG:test:first_cross_last: [0.00000 0.00000 0.84067].\n",
      "DEBUG:test:cross_normal: 0.00119898123690679.\n",
      "DEBUG:test:first_last_angle: 57.21129413975764.\n",
      "DEBUG:test:Recomputing bins based on new vecs.\n",
      "DEBUG:test:min_a: 0.00021523225527212884.\n",
      "DEBUG:test:max_a: 59.404265294462945.\n",
      "DEBUG:test:mean_c_grads: 10.563378605586436.\n"
     ]
    },
    {
     "data": {
      "application/vnd.jupyter.widget-view+json": {
       "model_id": "7518466212ea48cf896f5ee7634c0ac1",
       "version_major": 2,
       "version_minor": 0
      },
      "text/plain": [
       "Renderer(camera=PerspectiveCamera(aspect=1.5, children=(DirectionalLight(position=(50000.000000000015, 70710.6…"
      ]
     },
     "metadata": {},
     "output_type": "display_data"
    },
    {
     "name": "stderr",
     "output_type": "stream",
     "text": [
      "DEBUG:test:i: 1.\n",
      "DEBUG:test:pts.shape: (181, 3).\n",
      "DEBUG:test:pts[:5]: \n",
      "[[-2.09210 -34.51406 40.42140]\n",
      " [-5.34443 -35.00677 41.08171]\n",
      " [0.99841 -33.61353 39.83204]\n",
      " [-8.54868 -34.96928 41.70855]\n",
      " [-9.02414 -34.38521 39.62283]].\n",
      "DEBUG:test:plane_d: -43.734920501708984.\n",
      "DEBUG:test:p_center: [0.77509 1.87210 43.73492].\n",
      "DEBUG:test:ref_max_pt: 80.\n",
      "DEBUG:test:ref_max_pt: 9.\n",
      "DEBUG:test:ref_max_vec: [-20.12262 -35.04029 0.00000].\n",
      "DEBUG:test:ref_min_vec: [14.74549 -27.67188 0.00000].\n",
      "DEBUG:test:Using angles without orientation [0, 180]\n",
      "DEBUG:test:min_a: 0.000180273653399234.\n",
      "DEBUG:test:max_a: 59.12154619407211.\n",
      "DEBUG:test:Updating reference vectors.\n",
      "DEBUG:test:ref_max_vec: [16.32305 -29.14207 0.00000].\n",
      "DEBUG:test:ref_min_vec: [-20.12262 -35.04029 0.00000].\n",
      "DEBUG:test:Number of bins found: 6.\n",
      "DEBUG:test:Min, Max bin Ids: [1, 6].\n",
      "DEBUG:test:ref_last_bin_idx: 12.\n",
      "DEBUG:test:ref_first_bin_idx: 80.\n",
      "DEBUG:test:ref_last_vec: [16.32305 -29.14207 0.00000].\n",
      "DEBUG:test:ref_first_vec: [-20.12262 -35.04029 0.00000].\n",
      "DEBUG:test:normal: [0.00000 0.00000 1.00000].\n",
      "DEBUG:test:first_cross_last: [0.00000 0.00000 0.85826].\n",
      "DEBUG:test:cross_normal: 0.0011922896239621083.\n",
      "DEBUG:test:first_last_angle: 59.12154619407211.\n",
      "DEBUG:test:Recomputing bins based on new vecs.\n",
      "DEBUG:test:min_a: 0.0001982777858583383.\n",
      "DEBUG:test:max_a: 59.36556844732142.\n",
      "DEBUG:test:mean_c_grads: 10.069063572868147.\n"
     ]
    },
    {
     "data": {
      "application/vnd.jupyter.widget-view+json": {
       "model_id": "6d9369545b9a4103b072b27d9ce1550b",
       "version_major": 2,
       "version_minor": 0
      },
      "text/plain": [
       "Renderer(camera=PerspectiveCamera(aspect=1.5, children=(DirectionalLight(position=(50000.000000000015, 70710.6…"
      ]
     },
     "metadata": {},
     "output_type": "display_data"
    },
    {
     "name": "stderr",
     "output_type": "stream",
     "text": [
      "DEBUG:test:i: 2.\n",
      "DEBUG:test:pts.shape: (188, 3).\n",
      "DEBUG:test:pts[:5]: \n",
      "[[-27.98433 -24.74267 39.86478]\n",
      " [-25.43257 -27.25960 40.05632]\n",
      " [-25.22016 -28.30178 42.78996]\n",
      " [-27.55086 -26.24310 42.93490]\n",
      " [-36.47348 -10.04707 41.24083]].\n",
      "DEBUG:test:plane_d: -43.734920501708984.\n",
      "DEBUG:test:p_center: [0.77509 1.87210 43.73492].\n",
      "DEBUG:test:ref_max_pt: 110.\n",
      "DEBUG:test:ref_max_pt: 187.\n",
      "DEBUG:test:ref_max_vec: [-27.36072 -30.39858 0.00000].\n",
      "DEBUG:test:ref_min_vec: [-38.63019 -1.08171 0.00000].\n",
      "DEBUG:test:Using angles without orientation [0, 180]\n",
      "DEBUG:test:min_a: 0.00017918672922564446.\n",
      "DEBUG:test:max_a: 47.035267147429586.\n",
      "DEBUG:test:Updating reference vectors.\n",
      "DEBUG:test:ref_max_vec: [-39.48325 -0.67225 0.00000].\n",
      "DEBUG:test:ref_min_vec: [-27.36072 -30.39858 0.00000].\n",
      "DEBUG:test:Number of bins found: 6.\n",
      "DEBUG:test:Min, Max bin Ids: [1, 6].\n",
      "DEBUG:test:ref_last_bin_idx: 148.\n",
      "DEBUG:test:ref_first_bin_idx: 110.\n",
      "DEBUG:test:ref_last_vec: [-39.48325 -0.67225 0.00000].\n",
      "DEBUG:test:ref_first_vec: [-27.36072 -30.39858 0.00000].\n",
      "DEBUG:test:normal: [0.00000 0.00000 1.00000].\n",
      "DEBUG:test:first_cross_last: [0.00000 0.00000 -0.73177].\n",
      "DEBUG:test:cross_normal: 179.99875349252318.\n",
      "DEBUG:test:first_last_angle: 312.96473285257036.\n",
      "DEBUG:test:Recomputing bins based on new vecs.\n",
      "DEBUG:test:min_a: 0.00018235813647377077.\n",
      "DEBUG:test:max_a: 58.715783745809325.\n",
      "DEBUG:test:mean_c_grads: -9.954584664681345.\n",
      "DEBUG:test:bins should reverse [True] as first_last_angle > 180 \n",
      "DEBUG:test:reversing bins.\n",
      "DEBUG:test:uvals: [1 2 3 4 5 6].\n"
     ]
    },
    {
     "data": {
      "application/vnd.jupyter.widget-view+json": {
       "model_id": "e2a9156db4974dd2a2396cc2bdc1fab8",
       "version_major": 2,
       "version_minor": 0
      },
      "text/plain": [
       "Renderer(camera=PerspectiveCamera(aspect=1.5, children=(DirectionalLight(position=(50000.000000000015, 70710.6…"
      ]
     },
     "metadata": {},
     "output_type": "display_data"
    },
    {
     "name": "stderr",
     "output_type": "stream",
     "text": [
      "DEBUG:test:i: 3.\n",
      "DEBUG:test:pts.shape: (182, 3).\n",
      "DEBUG:test:pts[:5]: \n",
      "[[-37.79646 5.48313 41.64906]\n",
      " [-37.99548 2.39449 41.66073]\n",
      " [-38.25414 2.51704 44.19292]\n",
      " [-37.98501 5.62000 44.17431]\n",
      " [-37.41159 8.52782 41.62437]].\n",
      "DEBUG:test:plane_d: -43.734920501708984.\n",
      "DEBUG:test:p_center: [0.77509 1.87210 43.73492].\n",
      "DEBUG:test:ref_max_pt: 151.\n",
      "DEBUG:test:ref_max_pt: 143.\n",
      "DEBUG:test:ref_max_vec: [-36.58404 14.57972 0.00000].\n",
      "DEBUG:test:ref_min_vec: [-18.41719 30.29250 0.00000].\n",
      "DEBUG:test:Using angles without orientation [0, 180]\n",
      "DEBUG:test:min_a: 0.00018260380132732097.\n",
      "DEBUG:test:max_a: 36.97268660314977.\n",
      "DEBUG:test:Updating reference vectors.\n",
      "DEBUG:test:ref_max_vec: [-18.41719 30.29250 0.00000].\n",
      "DEBUG:test:ref_min_vec: [-36.58404 14.57972 0.00000].\n",
      "DEBUG:test:Number of bins found: 6.\n",
      "DEBUG:test:Min, Max bin Ids: [1, 6].\n",
      "DEBUG:test:ref_last_bin_idx: 143.\n",
      "DEBUG:test:ref_first_bin_idx: 151.\n",
      "DEBUG:test:ref_last_vec: [-18.41719 30.29250 0.00000].\n",
      "DEBUG:test:ref_first_vec: [-36.58404 14.57972 0.00000].\n",
      "DEBUG:test:normal: [0.00000 0.00000 1.00000].\n",
      "DEBUG:test:first_cross_last: [0.00000 0.00000 -0.60143].\n",
      "DEBUG:test:cross_normal: 179.99867779705383.\n",
      "DEBUG:test:first_last_angle: 323.0273133968502.\n",
      "DEBUG:test:Recomputing bins based on new vecs.\n",
      "DEBUG:test:min_a: 0.00019245732128213617.\n",
      "DEBUG:test:max_a: 58.000529133981516.\n",
      "DEBUG:test:mean_c_grads: -10.04518703351115.\n",
      "DEBUG:test:bins should reverse [True] as first_last_angle > 180 \n",
      "DEBUG:test:reversing bins.\n",
      "DEBUG:test:uvals: [1 2 3 4 5 6].\n"
     ]
    },
    {
     "data": {
      "application/vnd.jupyter.widget-view+json": {
       "model_id": "5ef46e46d9b44073a0a1a2c0a80cba59",
       "version_major": 2,
       "version_minor": 0
      },
      "text/plain": [
       "Renderer(camera=PerspectiveCamera(aspect=1.5, children=(DirectionalLight(position=(50000.000000000015, 70710.6…"
      ]
     },
     "metadata": {},
     "output_type": "display_data"
    },
    {
     "name": "stderr",
     "output_type": "stream",
     "text": [
      "DEBUG:test:i: 4.\n",
      "DEBUG:test:pts.shape: (205, 3).\n",
      "DEBUG:test:pts[:5]: \n",
      "[[11.75189 29.77318 44.00288]\n",
      " [14.32178 28.29650 43.25441]\n",
      " [13.51985 28.56879 41.01101]\n",
      " [10.93258 30.05803 41.85925]\n",
      " [9.90003 30.33516 39.65771]].\n",
      "DEBUG:test:plane_d: -43.734920501708984.\n",
      "DEBUG:test:p_center: [0.77509 1.87210 43.73492].\n",
      "DEBUG:test:ref_max_pt: 134.\n",
      "DEBUG:test:ref_max_pt: 160.\n",
      "DEBUG:test:ref_max_vec: [-17.41493 30.58363 0.00000].\n",
      "DEBUG:test:ref_min_vec: [13.59036 25.93558 0.00000].\n",
      "DEBUG:test:Using angles without orientation [0, 180]\n",
      "DEBUG:test:min_a: 0.00019316239591560123.\n",
      "DEBUG:test:max_a: 59.75124583620425.\n",
      "DEBUG:test:Updating reference vectors.\n",
      "DEBUG:test:ref_max_vec: [14.81702 25.56769 0.00000].\n",
      "DEBUG:test:ref_min_vec: [-17.41493 30.58363 0.00000].\n",
      "DEBUG:test:Number of bins found: 6.\n",
      "DEBUG:test:Min, Max bin Ids: [1, 6].\n",
      "DEBUG:test:ref_last_bin_idx: 52.\n",
      "DEBUG:test:ref_first_bin_idx: 134.\n",
      "DEBUG:test:ref_last_vec: [14.81702 25.56769 0.00000].\n",
      "DEBUG:test:ref_first_vec: [-17.41493 30.58363 0.00000].\n",
      "DEBUG:test:normal: [0.00000 0.00000 1.00000].\n",
      "DEBUG:test:first_cross_last: [0.00000 0.00000 -0.86385].\n",
      "DEBUG:test:cross_normal: 179.9988097877851.\n",
      "DEBUG:test:first_last_angle: 300.24875416379575.\n",
      "DEBUG:test:Recomputing bins based on new vecs.\n",
      "DEBUG:test:min_a: 0.00021079738756338282.\n",
      "DEBUG:test:max_a: 60.03257844912222.\n",
      "DEBUG:test:mean_c_grads: -9.722743119528001.\n",
      "DEBUG:test:bins should reverse [True] as first_last_angle > 180 \n",
      "DEBUG:test:reversing bins.\n",
      "DEBUG:test:uvals: [1 2 3 4 5 6].\n"
     ]
    },
    {
     "data": {
      "application/vnd.jupyter.widget-view+json": {
       "model_id": "0518e49ea4364caa9e26c166de503dcc",
       "version_major": 2,
       "version_minor": 0
      },
      "text/plain": [
       "Renderer(camera=PerspectiveCamera(aspect=1.5, children=(DirectionalLight(position=(50000.000000000015, 70710.6…"
      ]
     },
     "metadata": {},
     "output_type": "display_data"
    },
    {
     "name": "stderr",
     "output_type": "stream",
     "text": [
      "DEBUG:test:i: 5.\n",
      "DEBUG:test:pts.shape: (135, 3).\n",
      "DEBUG:test:pts[:5]: \n",
      "[[24.19921 18.95823 42.47105]\n",
      " [22.26117 21.73130 43.16870]\n",
      " [23.01238 21.57263 45.41109]\n",
      " [25.05027 18.71507 44.66435]\n",
      " [23.73276 21.34807 47.56715]].\n",
      "DEBUG:test:plane_d: -43.734920501708984.\n",
      "DEBUG:test:p_center: [0.77509 1.87210 43.73492].\n",
      "DEBUG:test:ref_max_pt: 50.\n",
      "DEBUG:test:ref_max_pt: 56.\n",
      "DEBUG:test:ref_max_vec: [25.48070 16.49707 0.00000].\n",
      "DEBUG:test:ref_min_vec: [27.07961 0.90177 0.00000].\n",
      "DEBUG:test:Using angles without orientation [0, 180]\n",
      "DEBUG:test:min_a: 0.0002079845874820196.\n",
      "DEBUG:test:max_a: 32.779935876895934.\n",
      "DEBUG:test:Updating reference vectors.\n",
      "DEBUG:test:ref_max_vec: [29.33068 0.07190 0.00000].\n",
      "DEBUG:test:ref_min_vec: [25.48070 16.49707 0.00000].\n",
      "DEBUG:test:Number of bins found: 6.\n",
      "DEBUG:test:Min, Max bin Ids: [1, 6].\n",
      "DEBUG:test:ref_last_bin_idx: 69.\n",
      "DEBUG:test:ref_first_bin_idx: 50.\n",
      "DEBUG:test:ref_last_vec: [29.33068 0.07190 0.00000].\n",
      "DEBUG:test:ref_first_vec: [25.48070 16.49707 0.00000].\n",
      "DEBUG:test:normal: [0.00000 0.00000 1.00000].\n",
      "DEBUG:test:first_cross_last: [0.00000 0.00000 -0.54141].\n",
      "DEBUG:test:cross_normal: 179.99863279832795.\n",
      "DEBUG:test:first_last_angle: 327.22006412310407.\n",
      "DEBUG:test:Recomputing bins based on new vecs.\n",
      "DEBUG:test:min_a: 0.00021158605662279872.\n",
      "DEBUG:test:max_a: 59.0423982003611.\n",
      "DEBUG:test:mean_c_grads: -10.075058411194249.\n",
      "DEBUG:test:bins should reverse [True] as first_last_angle > 180 \n",
      "DEBUG:test:reversing bins.\n",
      "DEBUG:test:uvals: [1 2 3 4 5 6].\n"
     ]
    },
    {
     "data": {
      "application/vnd.jupyter.widget-view+json": {
       "model_id": "183a9349126d4627b6b43cda509e2a6d",
       "version_major": 2,
       "version_minor": 0
      },
      "text/plain": [
       "Renderer(camera=PerspectiveCamera(aspect=1.5, children=(DirectionalLight(position=(50000.000000000015, 70710.6…"
      ]
     },
     "metadata": {},
     "output_type": "display_data"
    }
   ],
   "source": [
    "from project_heart.utils.vector_utils import *\n",
    "# a = np.radians(90.0)\n",
    "# normal = np.array([np.cos(a),np.sin(a),0.0])\n",
    "normal = np.array([0.0,0.0,1.0])\n",
    "\n",
    "n_subsets = 6\n",
    "n_cluster = 30\n",
    "check_orientation = False if n_subsets > 1 else True\n",
    "\n",
    "_ = lv_typeA.create_speckles(\n",
    "            collection=\"SAMPLET32545\",\n",
    "            group=\"epi\",\n",
    "            name=\"SAMPLE-LONG\",\n",
    "            from_nodeset=LV_SURFS.EPI,\n",
    "            exclude_nodeset=[LV_SURFS.BASE, LV_SURFS.ENDO],\n",
    "            d=4.5,\n",
    "            k=0.5,\n",
    "            normal_to=normal,\n",
    "            n_subsets=n_subsets,\n",
    "            # subsets_criteria=\"z2\",\n",
    "            subsets_criteria=\"angles\",\n",
    "            # cluster_criteria=\"z2\",\n",
    "            n_clusters=0,\n",
    "            t=0.0,\n",
    "            kmin=-1,\n",
    "            kmax=0.85,\n",
    "            log_level=logging.WARN,\n",
    "        )\n",
    "\n",
    "sample_spk_typeA = lv_typeA.get_speckles(spk_name=\"SAMPLE-LONG\", spk_group=\"epi\", spk_collection=\"SAMPLET32545\")\n",
    "for i in range(n_subsets):\n",
    "    \n",
    "    spk = sample_spk_typeA[i]\n",
    "    ref_center = spk.center\n",
    "    pts = lv_typeA.points(mask=spk.ids)\n",
    "\n",
    "    import logging\n",
    "    logger = logging.getLogger(\"test\")\n",
    "    logger.setLevel(logging.DEBUG)\n",
    "    logger.debug(\"i: {}.\".format(i))\n",
    "    \n",
    "    if normal[2] < 0:\n",
    "        normal = -normal\n",
    "        logger.debug(\"using opposite normal for computation as negative \"\n",
    "                     \"(on z) axis are not fully tested: {}.\".format(normal))\n",
    "    # project points onto a single plane based on spk normal\n",
    "    logger.debug(\"pts.shape: {}.\".format(pts.shape))\n",
    "    logger.debug(\"pts[:5]: \\n{}.\".format(pts[:5]))\n",
    "    plane_d = calc_plane_d(normal, ref_center)\n",
    "    logger.debug(\"plane_d: {}.\".format(plane_d))\n",
    "    ppts = project_pts_onto_plane(pts, normal, plane_d)\n",
    "    p_center = project_pts_onto_plane(ref_center, normal, plane_d)[0]\n",
    "    logger.debug(\"p_center: {}.\".format(p_center))\n",
    "    # compute angles between a reference vector and other vectos\n",
    "    vecs = ppts - p_center \n",
    "    vecs_sum = np.linalg.norm(vecs, axis=1)\n",
    "    ref_max_pt = np.argmax(vecs_sum)\n",
    "    ref_min_pt = np.argmin(vecs_sum)\n",
    "    logger.debug(\"ref_max_pt: {}.\".format(ref_max_pt))\n",
    "    logger.debug(\"ref_max_pt: {}.\".format(ref_min_pt))\n",
    "    ref_max_vec = vecs[ref_max_pt]\n",
    "    ref_min_vec = vecs[ref_min_pt]\n",
    "    logger.debug(\"ref_max_vec: {}.\".format(ref_max_vec))\n",
    "    logger.debug(\"ref_min_vec: {}.\".format(ref_min_vec))\n",
    "    # compute angles based on \n",
    "    if check_orientation:\n",
    "        logger.debug(\"Using a none or single subset, meaning large speckle. \\n\" \n",
    "                     \"-> 'check_orientation' is set to True.\"\n",
    "                     \"-> Will try to eliminate possible discontinuities.\")\n",
    "        angles = angle_between(vecs, ref_max_vec, check_orientation=True, zaxis=normal)    \n",
    "        search_for_jumps = True\n",
    "        search_trial = 0\n",
    "        max_search_trials = 5\n",
    "        dist_step = 0.25\n",
    "        while search_for_jumps:\n",
    "            logger.debug(\"Searching for discontinuity... {}\".format(search_trial+1))\n",
    "            sort_ids = np.argsort(angles)\n",
    "            ppts_sorted_by_angles = ppts[sort_ids]\n",
    "            dists_ppts = np.linalg.norm(ppts_sorted_by_angles[1:] - ppts_sorted_by_angles[:-1], axis=1)\n",
    "            dists_grad = np.gradient(dists_ppts)\n",
    "            d_mean, d_stdev = np.mean(dists_grad), np.std(dists_grad)\n",
    "            dist_jump = np.where(np.abs(dists_grad - d_mean) > (10 + (search_trial*dist_step)) *d_stdev)[0]\n",
    "            if len(dist_jump) > 0:\n",
    "                logger.debug(\"Discontinuity Found: {}\".format(len(dist_jump)))\n",
    "                dist_jump_val = dists_grad[dist_jump]\n",
    "                logger.debug(\"dist_jump: {} -> {}.\".format(dist_jump, dist_jump_val))\n",
    "                new_max_pt = sort_ids[dist_jump[np.argmax(dist_jump_val)]]\n",
    "                ref_max_vec = vecs[new_max_pt]\n",
    "                ref_max_pt = new_max_pt\n",
    "                angles = angle_between(vecs, ref_max_vec, check_orientation=True, zaxis=normal)\n",
    "            else:\n",
    "                logger.debug(\"No discontinuity found: {}\".format(len(dist_jump)))\n",
    "                search_for_jumps = False\n",
    "            if search_trial >= max_search_trials:\n",
    "                logger.debug(\"Could not resolve jumps under {} trials. \\n\"\n",
    "                             \"-> Continuing (errors might occur)\".format(max_search_trials))\n",
    "                search_for_jumps = False\n",
    "            search_trial += 1\n",
    "    else:\n",
    "        logger.debug(\"Using angles without orientation [0, 180]\")\n",
    "        angles = angle_between(vecs, ref_max_vec, check_orientation=False)\n",
    "    # get reference vecs for binarization bounds\n",
    "    min_a, max_a = np.min(angles), np.max(angles)\n",
    "    logger.debug(\"min_a: {}.\".format(np.degrees(min_a)))\n",
    "    logger.debug(\"max_a: {}.\".format(np.degrees(max_a)))\n",
    "    min_idx, max_idx = np.argmin(angles), np.argmax(angles)\n",
    "    ref_max_vec = vecs[max_idx]\n",
    "    ref_min_vec = vecs[min_idx]\n",
    "    logger.debug(\"Updating reference vectors.\")\n",
    "    logger.debug(\"ref_max_vec: {}.\".format(ref_max_vec))\n",
    "    logger.debug(\"ref_min_vec: {}.\".format(ref_min_vec))\n",
    "    # create bins\n",
    "    bins = np.digitize(\n",
    "        angles, np.linspace(min_a*0.999, max_a*1.001, n_subsets+1))\n",
    "    logger.debug(\"Number of bins found: {}.\".format(len(np.unique(bins))))\n",
    "    min_bin_id, max_bin_id = np.min(bins), np.max(bins)\n",
    "    logger.debug(\"Min, Max bin Ids: [{}, {}].\".format(min_bin_id, max_bin_id))\n",
    "    # update reference vectors (make sure we have extreme pts)\n",
    "    min_mask = np.where(bins==min_bin_id)[0]\n",
    "    max_mask = np.where(bins==max_bin_id)[0]\n",
    "    ref_last_bin_idx = max_mask[np.argmax(angles[max_mask])]\n",
    "    ref_first_bin_idx = min_mask[np.argmin(angles[min_mask])]\n",
    "    logger.debug(\"ref_last_bin_idx: {}.\".format(ref_last_bin_idx))\n",
    "    logger.debug(\"ref_first_bin_idx: {}.\".format(ref_first_bin_idx))\n",
    "    ref_last_vec = vecs[ref_last_bin_idx]\n",
    "    ref_first_vec = vecs[ref_first_bin_idx] \n",
    "    logger.debug(\"ref_last_vec: {}.\".format(ref_last_vec))\n",
    "    logger.debug(\"ref_first_vec: {}.\".format(ref_first_vec))\n",
    "    # compute vector normal and cross vectors\n",
    "    first_cross_last = np.cross(unit_vector(ref_first_vec), unit_vector(ref_last_vec)) \n",
    "    cross_normal = np.degrees(angle_between(normal, first_cross_last, check_orientation=False)) \n",
    "    first_last_angle = np.degrees(angle_between(ref_first_vec, ref_last_vec, check_orientation=True, zaxis=normal))\n",
    "    logger.debug(\"normal: {}.\".format(normal))\n",
    "    logger.debug(\"first_cross_last: {}.\".format(first_cross_last))\n",
    "    logger.debug(\"cross_normal: {}.\".format(cross_normal))\n",
    "    logger.debug(\"first_last_angle: {}.\".format(first_last_angle))\n",
    "    # recompute bins to ensure we have full range (min to max vecs)\n",
    "    # a_normal_Zaxis = np.degrees(angle_between(normal, [0.0,0.0,1.0], check_orientation=False))\n",
    "    if not check_orientation:# and a_normal_Zaxis < 45: \n",
    "        # logger.debug(\"Re-computing bins as angle from normal to Z axis < 45: {}.\".format(a_normal_Zaxis))\n",
    "        logger.debug(\"Recomputing bins based on new vecs.\")\n",
    "        angles = angle_between(vecs, ref_last_vec, check_orientation=False)\n",
    "        min_a, max_a = np.min(angles), np.max(angles)\n",
    "        logger.debug(\"min_a: {}.\".format(np.degrees(min_a)))\n",
    "        logger.debug(\"max_a: {}.\".format(np.degrees(max_a)))\n",
    "        bins = np.digitize(\n",
    "            angles, np.linspace(min_a*0.999, max_a*1.001, n_subsets+1))\n",
    "        # check gradients between gradient centers -> angle between first to other bins\n",
    "        # we want ccw bins                \n",
    "        centers = np.asarray([np.mean(ppts[bins==bin_id], axis=0) for bin_id in sorted(np.unique(bins))], dtype=np.int64)\n",
    "        c_vecs = centers - p_center\n",
    "        c_angles = np.degrees(angle_between(c_vecs, c_vecs[0], check_orientation=True, zaxis=normal))\n",
    "        c_grads = np.gradient(c_angles[1:])\n",
    "        mean_c_grads = np.mean(c_grads)\n",
    "        logger.debug(\"mean_c_grads: {}.\".format(mean_c_grads))\n",
    "        # check for reversion\n",
    "        should_reverse = False\n",
    "        a_normal_Xaxis = np.round(np.degrees(angle_between(normal, [1.0,0.0,0.0], check_orientation=False)), 3)\n",
    "        if a_normal_Xaxis < 45:\n",
    "            should_reverse = not should_reverse\n",
    "            logger.debug(\"Flip should_reverse due normal orientation -> [{}]: a_normal_Xaxis: {}.\".format(should_reverse, a_normal_Xaxis))   \n",
    "        # a_normal_Zaxis = np.round(np.degrees(angle_between(normal, [0.0,0.0,1.0], check_orientation=False)), 3)\n",
    "        # if a_normal_Zaxis < 45:\n",
    "        #     should_reverse = not should_reverse\n",
    "        #     logger.debug(\"Flip should_reverse due normal orientation -> [{}]: a_normal_Zaxis: {}.\".format(should_reverse, a_normal_Zaxis))   \n",
    "        # if cross_normal < 90 and mean_c_grads > 0:\n",
    "        #     should_reverse = not should_reverse\n",
    "        #     logger.debug(\"bins should reverse [{}] as cross_normal < 90 and mean_c_grads > 0.\".format(should_reverse))\n",
    "        # if cross_normal < 90 and first_last_angle > 180:\n",
    "        #     should_reverse = not should_reverse\n",
    "        #     logger.debug(\"bins should reverse [{}] as cross_normal < 0 and first_last_angle > 180.\".format(should_reverse))\n",
    "        # elif cross_normal > 90 and first_last_angle > 180: #:\n",
    "        #     should_reverse = not should_reverse\n",
    "        #     logger.debug(\"bins should reverse [{}] as cross_normal > 0, first_last_angle > 180 and mean_c_grads > 0.\".format(should_reverse))\n",
    "        if first_last_angle > 180:\n",
    "            should_reverse = not should_reverse\n",
    "            logger.debug(\"bins should reverse [{}] as first_last_angle > 180 \".format(should_reverse))\n",
    "        # if algorithm decided to reverse, reverse bins\n",
    "        if should_reverse:\n",
    "            logger.debug(\"reversing bins.\")\n",
    "            uvals = np.unique(bins)\n",
    "            logger.debug(\"uvals: {}.\".format(uvals))\n",
    "            new_bins = np.zeros(len(bins), dtype=np.int64)\n",
    "            for i, u in enumerate(uvals[::-1]):\n",
    "                new_bins[bins==u] = i\n",
    "            bins = new_bins + 1\n",
    "      \n",
    "    \n",
    "    plotter = lv_typeA.plot_speckles(spk, \n",
    "                        cmap=None,\n",
    "                        color=\"blue\",\n",
    "                        point_size=100,\n",
    "                        add_k_centers=False, \n",
    "                        k_centers_as_line=True, \n",
    "                        k_bins=False,\n",
    "                        re = True\n",
    "                        )\n",
    "    \n",
    "    plotter.add_lines(np.vstack((p_center, p_center+5*normal)), color=\"magenta\")\n",
    "    plotter.add_lines(np.vstack((p_center, p_center+5*first_cross_last)), color=\"orange\")\n",
    "    \n",
    "    \n",
    "    plotter.add_lines(np.vstack((p_center, ppts[ref_max_pt])), color=\"blue\")\n",
    "    plotter.add_lines(np.vstack((p_center, ppts[ref_min_pt])), color=\"green\")\n",
    "    \n",
    "    plotter.add_lines(np.vstack((p_center, ppts[ref_last_bin_idx])), color=\"cyan\")\n",
    "    plotter.add_lines(np.vstack((p_center, ppts[ref_first_bin_idx])), color=\"brown\")\n",
    "        \n",
    "    plotter.add_points(p_center, color=\"green\", point_size=240)\n",
    "    plotter.add_points(ppts, color=\"magenta\", point_size=200)\n",
    "    plotter.add_points(pts, scalars=bins-1, categories=True, cmap=\"hot\", point_size=240)\n",
    "    plotter.show(window_size=(600,400))"
   ]
  },
  {
   "cell_type": "code",
   "execution_count": 87,
   "metadata": {},
   "outputs": [
    {
     "data": {
      "text/plain": [
       "array([-0.00017, 0.99861, -0.05125])"
      ]
     },
     "execution_count": 87,
     "metadata": {},
     "output_type": "execute_result"
    }
   ],
   "source": [
    "np.cross(normal, -lv_typeA.get_normal())"
   ]
  },
  {
   "cell_type": "markdown",
   "metadata": {},
   "source": [
    "## Sample Speckles"
   ]
  },
  {
   "cell_type": "markdown",
   "metadata": {},
   "source": [
    "### Longitudinal Speckles"
   ]
  },
  {
   "cell_type": "code",
   "execution_count": null,
   "metadata": {},
   "outputs": [],
   "source": [
    "# lv_ideal.plot_speckles(endo_long[1], add_centers=True, cmap=\"tab10\", categories=True)"
   ]
  },
  {
   "cell_type": "code",
   "execution_count": null,
   "metadata": {},
   "outputs": [],
   "source": [
    "# lv_ideal.plot_speckles(epi_long[0], cmap=\"jet\", add_k_centers=True, k_centers_as_line=True, k_bins=True, categories=True)"
   ]
  },
  {
   "cell_type": "markdown",
   "metadata": {},
   "source": [
    "### Circumferential Speckles"
   ]
  },
  {
   "cell_type": "code",
   "execution_count": null,
   "metadata": {},
   "outputs": [],
   "source": [
    "# lv_ideal.plot_speckles(endo_circ[7], add_centers=True, cmap=\"tab10\", categories=True)"
   ]
  },
  {
   "cell_type": "code",
   "execution_count": null,
   "metadata": {},
   "outputs": [],
   "source": [
    "# lv_ideal.plot_speckles(epi_circ[7], cmap=\"jet\", add_k_centers=True, k_centers_as_line=True, k_bins=True, categories=True)"
   ]
  },
  {
   "cell_type": "code",
   "execution_count": null,
   "metadata": {},
   "outputs": [],
   "source": []
  }
 ],
 "metadata": {
  "interpreter": {
   "hash": "a4b270fe5129ef310552b5197d637a230d47119f1e46f0b92ff32b1c5f5c5425"
  },
  "kernelspec": {
   "display_name": "Python 3.9.7 ('project_heart')",
   "language": "python",
   "name": "python3"
  },
  "language_info": {
   "codemirror_mode": {
    "name": "ipython",
    "version": 3
   },
   "file_extension": ".py",
   "mimetype": "text/x-python",
   "name": "python",
   "nbconvert_exporter": "python",
   "pygments_lexer": "ipython3",
   "version": "3.9.7"
  },
  "orig_nbformat": 4
 },
 "nbformat": 4,
 "nbformat_minor": 2
}
