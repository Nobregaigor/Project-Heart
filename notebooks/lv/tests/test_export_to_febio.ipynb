{
 "cells": [
  {
   "cell_type": "code",
   "execution_count": 1,
   "metadata": {},
   "outputs": [],
   "source": [
    "from project_heart.lv import LV\n",
    "import numpy as np\n",
    "import pyvista as pv\n",
    "# import project_heart as ph\n",
    "from project_heart.modules.geometry import Geometry\n",
    "pv.set_jupyter_backend(\"pythreejs\")\n",
    "\n",
    "import os\n",
    "from pathlib import Path\n",
    "\n",
    "from project_heart.enums import *"
   ]
  },
  {
   "cell_type": "code",
   "execution_count": 2,
   "metadata": {},
   "outputs": [],
   "source": [
    "filepath = Path(\"../sample_files/lvtetmesh_fibers_LDRB_1.vtk\") # this file is too large. create one with \"compute_fibers.ipynb\"\n",
    "lv = LV.from_pyvista_read(filepath)"
   ]
  },
  {
   "cell_type": "code",
   "execution_count": 3,
   "metadata": {},
   "outputs": [],
   "source": [
    "lv.create_nodesets_from_surfaces(mesh_data=LV_MESH_DATA.APEX_BASE_REGIONS, overwrite=False)\n",
    "lv.create_nodesets_from_surfaces(mesh_data=LV_MESH_DATA.EPI_ENDO, overwrite=False)\n",
    "lv.create_nodesets_from_surfaces(mesh_data=LV_MESH_DATA.SURFS, overwrite=False)\n",
    "lv.create_nodesets_from_surfaces(mesh_data=LV_MESH_DATA.AM_SURFS, overwrite=False)\n",
    "lv.create_nodesets_from_surfaces(mesh_data=LV_MESH_DATA.SURFS_DETAILED, overwrite=False)"
   ]
  },
  {
   "cell_type": "code",
   "execution_count": 4,
   "metadata": {},
   "outputs": [],
   "source": [
    "s = lv.create_surface_oi_from_surface(LV_MESH_DATA.SURFS_DETAILED)"
   ]
  },
  {
   "cell_type": "code",
   "execution_count": 5,
   "metadata": {},
   "outputs": [],
   "source": [
    "lv.set_aortic_info()\n",
    "lv.set_mitral_info()"
   ]
  },
  {
   "cell_type": "code",
   "execution_count": 6,
   "metadata": {},
   "outputs": [],
   "source": [
    "aortic_bc = lv.create_spring_rim_bc(\"AORTIC_BC\", LV_SURFS.BORDER_AORTIC)\n",
    "mitral_bc = lv.create_spring_rim_bc(\"MITRAL_BC\", LV_SURFS.BORDER_MITRAL)"
   ]
  },
  {
   "cell_type": "code",
   "execution_count": 7,
   "metadata": {},
   "outputs": [
    {
     "data": {
      "text/plain": [
       "FEBio_feb:\n",
       "-> Module: 0\n",
       "-> Control: 19\n",
       "-> Material: 2\n",
       "--> material 'Holzapfel_Ogden_PAQ': 13\n",
       "--> material 'rigid body': 2\n",
       "-> Globals: 1\n",
       "-> Boundary: 1\n",
       "-> Loads: 1\n",
       "-> Discrete: 2\n",
       "-> LoadData: 3\n",
       "-> Output: 1"
      ]
     },
     "execution_count": 7,
     "metadata": {},
     "output_type": "execute_result"
    }
   ],
   "source": [
    "from febio_python.feb import FEBio_feb\n",
    "feb_template_path = Path(\"../sample_files/sample_lv_template.feb\")\n",
    "feb = FEBio_feb.from_file(feb_template_path)\n",
    "feb"
   ]
  },
  {
   "cell_type": "code",
   "execution_count": 29,
   "metadata": {},
   "outputs": [
    {
     "data": {
      "text/plain": [
       "{'AORTIC_BC': array([[  0,  74],\n",
       "        [  1,  74],\n",
       "        [  2,  75],\n",
       "        ...,\n",
       "        [889,  80],\n",
       "        [890,  90],\n",
       "        [891, 102]], dtype=int64),\n",
       " 'MITRAL_BC': array([[  0, 120],\n",
       "        [  1, 114],\n",
       "        [  2, 115],\n",
       "        ...,\n",
       "        [793, 105],\n",
       "        [794, 120],\n",
       "        [795, 123]], dtype=int64)}"
      ]
     },
     "execution_count": 29,
     "metadata": {},
     "output_type": "execute_result"
    }
   ],
   "source": [
    "lv._discrete_sets"
   ]
  },
  {
   "cell_type": "code",
   "execution_count": 43,
   "metadata": {},
   "outputs": [],
   "source": [
    "adjusted_discrete_sets = {}\n",
    "adjustment = len(lv.nodes())+1\n",
    "for key, values in lv._discrete_sets.items():\n",
    "  adj_vals = np.copy(values)\n",
    "  adj_vals[:, 1] += adjustment\n",
    "  adjusted_discrete_sets[key] = adj_vals\n",
    "  adjustment += len(adj_vals)+1"
   ]
  },
  {
   "cell_type": "code",
   "execution_count": 51,
   "metadata": {},
   "outputs": [
    {
     "data": {
      "text/plain": [
       "array([[-22.78620119,   3.67571611,  34.03371496],\n",
       "       [-22.08205709,   4.07914289,  34.83812434],\n",
       "       [-21.32236098,   4.38547153,  35.63478681],\n",
       "       [-20.51442915,   4.59175192,  36.41603008],\n",
       "       [-19.6660424 ,   4.69599746,  37.17433036],\n",
       "       [-18.78537119,   4.69720422,  37.90238479],\n",
       "       [-17.88089684,   4.59536058,  38.59318182],\n",
       "       [-16.96132994,   4.39144733,  39.24006869],\n",
       "       [-16.03552643,   4.08742829,  39.83681553],\n",
       "       [-15.1124023 ,   3.68623131,  40.37767534],\n",
       "       [-14.20084774,   3.19172015,  40.85743934],\n",
       "       [-13.30964151,   2.60865722,  41.27148714],\n",
       "       [-12.44736642,   1.94265773,  41.61583125],\n",
       "       [-11.62232666,   1.20013562,  41.88715542],\n",
       "       [-10.8424678 ,   0.38824178,  42.08284668],\n",
       "       [-10.11530031,  -0.48520479,  42.20102039],\n",
       "       [ -9.44782721,  -1.41179235,  42.24053849],\n",
       "       [ -8.84647663,  -2.38259733,  42.20102039],\n",
       "       [ -8.31703992,  -3.38827036,  42.08284668],\n",
       "       [ -7.86461582,  -4.41912626,  41.88715542],\n",
       "       [ -7.49356144,  -5.46523731,  41.61583125],\n",
       "       [ -7.20745023,  -6.51652891,  41.27148714],\n",
       "       [ -7.0090376 ,  -7.56287654,  40.85743934],\n",
       "       [ -6.90023437,  -8.59420329,  40.37767534],\n",
       "       [ -6.88208837,  -9.60057693,  39.83681553],\n",
       "       [ -6.95477437, -10.57230552,  39.24006869],\n",
       "       [ -7.11759234, -11.5000308 ,  38.59318182],\n",
       "       [ -7.36897428, -12.37481826,  37.90238479],\n",
       "       [ -7.70649923, -13.18824321,  37.17433036],\n",
       "       [ -8.12691664, -13.93247194,  36.41603008],\n",
       "       [ -8.62617767, -14.60033711,  35.63478681],\n",
       "       [ -9.19947416, -15.18540681,  34.83812434],\n",
       "       [ -9.84128494, -15.6820465 ,  34.03371496],\n",
       "       [-10.54542903, -16.08547328,  33.22930559],\n",
       "       [-11.30512514, -16.39180192,  32.43264312],\n",
       "       [-12.11305698, -16.59808231,  31.65139984],\n",
       "       [-12.96144372, -16.70232786,  30.89309957],\n",
       "       [-13.84211494, -16.70353462,  30.16504513],\n",
       "       [-14.74658929, -16.60169097,  29.4742481 ],\n",
       "       [-15.66615618, -16.39777773,  28.82736123],\n",
       "       [-16.59195969, -16.09375868,  28.2306144 ],\n",
       "       [-17.51508382, -15.6925617 ,  27.68975459],\n",
       "       [-18.42663839, -15.19805054,  27.20999059],\n",
       "       [-19.31784462, -14.61498761,  26.79594278],\n",
       "       [-20.1801197 , -13.94898812,  26.45159868],\n",
       "       [-21.00515947, -13.20646601,  26.1802745 ],\n",
       "       [-21.78501833, -12.39457217,  25.98458325],\n",
       "       [-22.51218582, -11.5211256 ,  25.86640954],\n",
       "       [-23.17965892, -10.59453805,  25.82689144],\n",
       "       [-23.78100949,  -9.62373306,  25.86640954],\n",
       "       [-24.31044621,  -8.61806003,  25.98458325],\n",
       "       [-24.7628703 ,  -7.58720414,  26.1802745 ],\n",
       "       [-25.13392468,  -6.54109308,  26.45159868],\n",
       "       [-25.42003589,  -5.48980148,  26.79594278],\n",
       "       [-25.61844853,  -4.44345386,  27.20999059],\n",
       "       [-25.72725176,  -3.4121271 ,  27.68975459],\n",
       "       [-25.74539775,  -2.40575347,  28.2306144 ],\n",
       "       [-25.67271176,  -1.43402487,  28.82736123],\n",
       "       [-25.50989378,  -0.50629959,  29.4742481 ],\n",
       "       [-25.25851184,   0.36848787,  30.16504513],\n",
       "       [-24.92098689,   1.18191282,  30.89309957],\n",
       "       [-24.50056948,   1.92614155,  31.65139984],\n",
       "       [-24.00130845,   2.59400671,  32.43264312],\n",
       "       [-23.42801197,   3.17907642,  33.22930559],\n",
       "       [-21.61439555,   4.45932557,  32.61497335],\n",
       "       [-20.91025146,   4.86275235,  33.41938272],\n",
       "       [-20.15055535,   5.16908099,  34.21604519],\n",
       "       [-19.34262351,   5.37536137,  34.99728847],\n",
       "       [-18.49423677,   5.47960692,  35.75558874],\n",
       "       [-17.61356555,   5.48081368,  36.48364318],\n",
       "       [-16.7090912 ,   5.37897003,  37.17444021],\n",
       "       [-15.78952431,   5.17505679,  37.82132708],\n",
       "       [-14.8637208 ,   4.87103774,  38.41807391],\n",
       "       [-13.94059667,   4.46984077,  38.95893372],\n",
       "       [-13.0290421 ,   3.97532961,  39.43869772],\n",
       "       [-12.13783587,   3.39226667,  39.85274553],\n",
       "       [-11.27556079,   2.72626718,  40.19708963],\n",
       "       [-10.45052102,   1.98374507,  40.46841381],\n",
       "       [ -9.67066216,   1.17185124,  40.66410506],\n",
       "       [ -8.94349467,   0.29840466,  40.78227877],\n",
       "       [ -8.27602157,  -0.62818289,  40.82179687],\n",
       "       [ -7.674671  ,  -1.59898787,  40.78227877],\n",
       "       [ -7.14523428,  -2.6046609 ,  40.66410506],\n",
       "       [ -6.69281019,  -3.6355168 ,  40.46841381],\n",
       "       [ -6.32175581,  -4.68162786,  40.19708963],\n",
       "       [ -6.0356446 ,  -5.73291946,  39.85274553],\n",
       "       [ -5.83723196,  -6.77926708,  39.43869772],\n",
       "       [ -5.72842873,  -7.81059383,  38.95893372],\n",
       "       [ -5.71028274,  -8.81696747,  38.41807391],\n",
       "       [ -5.78296873,  -9.78869607,  37.82132708],\n",
       "       [ -5.94578671, -10.71642135,  37.17444021],\n",
       "       [ -6.19716865, -11.5912088 ,  36.48364318],\n",
       "       [ -6.5346936 , -12.40463376,  35.75558874],\n",
       "       [ -6.95511101, -13.14886248,  34.99728847],\n",
       "       [ -7.45437204, -13.81672765,  34.21604519],\n",
       "       [ -8.02766852, -14.40179735,  33.41938272],\n",
       "       [ -8.6694793 , -14.89843705,  32.61497335],\n",
       "       [ -9.3736234 , -15.30186383,  31.81056397],\n",
       "       [-10.13331951, -15.60819247,  31.0139015 ],\n",
       "       [-10.94125134, -15.81447286,  30.23265823],\n",
       "       [-11.78963809, -15.9187184 ,  29.47435795],\n",
       "       [-12.6703093 , -15.91992516,  28.74630352],\n",
       "       [-13.57478365, -15.81808151,  28.05550649],\n",
       "       [-14.49435055, -15.61416827,  27.40861962],\n",
       "       [-15.42015406, -15.31014923,  26.81187278],\n",
       "       [-16.34327819, -14.90895225,  26.27101297],\n",
       "       [-17.25483275, -14.41444109,  25.79124897],\n",
       "       [-18.14603898, -13.83137815,  25.37720117],\n",
       "       [-19.00831407, -13.16537866,  25.03285706],\n",
       "       [-19.83335383, -12.42285655,  24.76153289],\n",
       "       [-20.61321269, -11.61096272,  24.56584163],\n",
       "       [-21.34038018, -10.73751614,  24.44766792],\n",
       "       [-22.00785328,  -9.81092859,  24.40814982],\n",
       "       [-22.60920386,  -8.84012361,  24.44766792],\n",
       "       [-23.13864057,  -7.83445058,  24.56584163],\n",
       "       [-23.59106467,  -6.80359468,  24.76153289],\n",
       "       [-23.96211905,  -5.75748362,  25.03285706],\n",
       "       [-24.24823026,  -4.70619202,  25.37720117],\n",
       "       [-24.44664289,  -3.6598444 ,  25.79124897],\n",
       "       [-24.55544612,  -2.62851765,  26.27101297],\n",
       "       [-24.57359212,  -1.62214401,  26.81187278],\n",
       "       [-24.50090612,  -0.65041541,  27.40861962],\n",
       "       [-24.33808815,   0.27730986,  28.05550649],\n",
       "       [-24.08670621,   1.15209732,  28.74630352],\n",
       "       [-23.74918126,   1.96552228,  29.47435795],\n",
       "       [-23.32876385,   2.709751  ,  30.23265823],\n",
       "       [-22.82950282,   3.37761617,  31.0139015 ],\n",
       "       [-22.25620633,   3.96268587,  31.81056397]])"
      ]
     },
     "execution_count": 51,
     "metadata": {},
     "output_type": "execute_result"
    }
   ],
   "source": [
    "lv.get_bc(\"AORTIC_BC\")[1][\"RIM_NODES\"]"
   ]
  },
  {
   "cell_type": "code",
   "execution_count": 53,
   "metadata": {},
   "outputs": [
    {
     "data": {
      "text/plain": [
       "(149636, 3)"
      ]
     },
     "execution_count": 53,
     "metadata": {},
     "output_type": "execute_result"
    }
   ],
   "source": [
    "lv.nodes().shape"
   ]
  },
  {
   "cell_type": "code",
   "execution_count": 54,
   "metadata": {},
   "outputs": [
    {
     "data": {
      "text/plain": [
       "(128, 3)"
      ]
     },
     "execution_count": 54,
     "metadata": {},
     "output_type": "execute_result"
    }
   ],
   "source": [
    "lv.get_bc(\"AORTIC_BC\")[1][\"RIM_NODES\"].shape"
   ]
  },
  {
   "cell_type": "code",
   "execution_count": 57,
   "metadata": {},
   "outputs": [
    {
     "data": {
      "text/plain": [
       "149765"
      ]
     },
     "execution_count": 57,
     "metadata": {},
     "output_type": "execute_result"
    }
   ],
   "source": [
    "len(lv.nodes())+ len(lv.get_bc(\"MITRAL_BC\")[1][\"RIM_NODES\"]) +1"
   ]
  },
  {
   "cell_type": "code",
   "execution_count": 63,
   "metadata": {},
   "outputs": [
    {
     "data": {
      "text/html": [
       "<table><tr><th>Header</th><th>Data Arrays</th></tr><tr><td>\n",
       "<table>\n",
       "<tr><th>UnstructuredGrid</th><th>Information</th></tr>\n",
       "<tr><td>N Cells</td><td>734930</td></tr>\n",
       "<tr><td>N Points</td><td>149636</td></tr>\n",
       "<tr><td>X Bounds</td><td>-2.198e+01, 5.639e+01</td></tr>\n",
       "<tr><td>Y Bounds</td><td>-3.899e+01, 4.336e+01</td></tr>\n",
       "<tr><td>Z Bounds</td><td>-4.722e+01, 3.682e+01</td></tr>\n",
       "<tr><td>N Arrays</td><td>23</td></tr>\n",
       "</table>\n",
       "\n",
       "</td><td>\n",
       "<table>\n",
       "<tr><th>Name</th><th>Field</th><th>Type</th><th>N Comp</th><th>Min</th><th>Max</th></tr>\n",
       "<tr><td><b>LV_SHEET_NORMAL_ANGLES</b></td><td>Points</td><td>float64</td><td>1</td><td>-8.970e+01</td><td>8.919e+01</td></tr>\n",
       "<tr><td>LV_SURFS</td><td>Points</td><td>int64</td><td>1</td><td>0.000e+00</td><td>1.100e+01</td></tr>\n",
       "<tr><td>LV_EPI_ENDO_GUESS</td><td>Points</td><td>int64</td><td>1</td><td>0.000e+00</td><td>2.000e+00</td></tr>\n",
       "<tr><td>LV_APEX_BASE_REGIONS</td><td>Points</td><td>int64</td><td>1</td><td>0.000e+00</td><td>1.900e+01</td></tr>\n",
       "<tr><td>LV_AORTIC_MITRAL_CLUSTERS</td><td>Points</td><td>int64</td><td>1</td><td>0.000e+00</td><td>1.300e+01</td></tr>\n",
       "<tr><td>LV_AM_SURFS</td><td>Points</td><td>int64</td><td>1</td><td>0.000e+00</td><td>1.100e+01</td></tr>\n",
       "<tr><td>LV_AM_EPI_ENDO</td><td>Points</td><td>int64</td><td>1</td><td>0.000e+00</td><td>1.500e+01</td></tr>\n",
       "<tr><td>LV_EPI_ENDO</td><td>Points</td><td>int64</td><td>1</td><td>0.000e+00</td><td>2.000e+00</td></tr>\n",
       "<tr><td>LV_APEX_BASE_REGIONS_ENDO_EPI</td><td>Points</td><td>int64</td><td>1</td><td>0.000e+00</td><td>2.100e+01</td></tr>\n",
       "<tr><td>SURFS_DETAILED</td><td>Points</td><td>int64</td><td>1</td><td>0.000e+00</td><td>1.300e+01</td></tr>\n",
       "<tr><td>LV_FIBERS_LDRB_1</td><td>Points</td><td>float64</td><td>1</td><td>0.000e+00</td><td>2.200e+01</td></tr>\n",
       "<tr><td>LV_FIBERS</td><td>Points</td><td>float64</td><td>3</td><td>-1.000e+00</td><td>1.000e+00</td></tr>\n",
       "<tr><td>LV_SHEET</td><td>Points</td><td>float64</td><td>3</td><td>-1.000e+00</td><td>1.000e+00</td></tr>\n",
       "<tr><td>LV_SHEET_NORMAL</td><td>Points</td><td>float64</td><td>3</td><td>-1.000e+00</td><td>1.000e+00</td></tr>\n",
       "<tr><td>LV_FIBER_ANGLES</td><td>Points</td><td>float64</td><td>1</td><td>-8.946e+01</td><td>8.899e+01</td></tr>\n",
       "<tr><td>LV_SHEET_ANGLES</td><td>Points</td><td>float64</td><td>1</td><td>-8.985e+01</td><td>8.935e+01</td></tr>\n",
       "<tr><td><b>LV_SHEET_NORMAL_ANGLES</b></td><td>Cells</td><td>float64</td><td>1</td><td>-8.503e+01</td><td>8.776e+01</td></tr>\n",
       "<tr><td>elemTag</td><td>Cells</td><td>int64</td><td>1</td><td>1.000e+00</td><td>1.000e+00</td></tr>\n",
       "<tr><td>LV_FIBERS</td><td>Cells</td><td>float64</td><td>3</td><td>-9.992e-01</td><td>9.998e-01</td></tr>\n",
       "<tr><td>LV_SHEET</td><td>Cells</td><td>float64</td><td>3</td><td>-9.997e-01</td><td>9.997e-01</td></tr>\n",
       "<tr><td>LV_SHEET_NORMAL</td><td>Cells</td><td>float64</td><td>3</td><td>-9.998e-01</td><td>1.000e+00</td></tr>\n",
       "<tr><td>LV_FIBER_ANGLES</td><td>Cells</td><td>float64</td><td>1</td><td>-8.808e+01</td><td>8.598e+01</td></tr>\n",
       "<tr><td>LV_SHEET_ANGLES</td><td>Cells</td><td>float64</td><td>1</td><td>-8.743e+01</td><td>8.450e+01</td></tr>\n",
       "</table>\n",
       "\n",
       "</td></tr> </table>"
      ],
      "text/plain": [
       "UnstructuredGrid (0x19d8a9e7d60)\n",
       "  N Cells:\t734930\n",
       "  N Points:\t149636\n",
       "  X Bounds:\t-2.198e+01, 5.639e+01\n",
       "  Y Bounds:\t-3.899e+01, 4.336e+01\n",
       "  Z Bounds:\t-4.722e+01, 3.682e+01\n",
       "  N Arrays:\t23"
      ]
     },
     "execution_count": 63,
     "metadata": {},
     "output_type": "execute_result"
    }
   ],
   "source": [
    "lv.mesh"
   ]
  },
  {
   "cell_type": "code",
   "execution_count": 59,
   "metadata": {},
   "outputs": [
    {
     "data": {
      "text/plain": [
       "FEBio_feb:\n",
       "-> Module: 0\n",
       "-> Control: 19\n",
       "-> Material: 2\n",
       "--> material 'Holzapfel_Ogden_PAQ': 13\n",
       "--> material 'rigid body': 2\n",
       "-> Globals: 1\n",
       "-> Geometry: 9\n",
       "--> Nodes 'LV': 149636\n",
       "--> Nodes 'AORTIC_RIM': 128\n",
       "--> Nodes 'AORTIC_RIM': 128\n",
       "--> Elements 'LV': 734930\n",
       "-> Boundary: 1\n",
       "-> Loads: 1\n",
       "-> Discrete: 2\n",
       "-> LoadData: 3\n",
       "-> MeshData: 1\n",
       "-> Output: 1"
      ]
     },
     "execution_count": 59,
     "metadata": {},
     "output_type": "execute_result"
    }
   ],
   "source": [
    "from febio_python.feb import FEBio_feb\n",
    "feb_template_path = Path(\"../sample_files/sample_lv_template.feb\")\n",
    "feb = FEBio_feb.from_file(feb_template_path)\n",
    "feb.add_nodes([\n",
    "  {\"name\": \"LV\", \n",
    "   \"nodes\": lv.nodes(),\n",
    "   },\n",
    "  ])\n",
    "feb.add_nodes([\n",
    "  {\"name\": \"AORTIC_RIM\", \n",
    "   \"nodes\": lv.get_bc(\"AORTIC_BC\")[1][\"RIM_NODES\"]\n",
    "   },\n",
    "  ],initial_el_id=len(lv.nodes())+1)\n",
    "feb.add_nodes([\n",
    "  {\"name\": \"AORTIC_RIM\", \n",
    "   \"nodes\": lv.get_bc(\"MITRAL_BC\")[1][\"RIM_NODES\"]\n",
    "   },\n",
    "  ],initial_el_id=len(lv.nodes())+ len(lv.get_bc(\"MITRAL_BC\")[1][\"RIM_NODES\"]) +1)\n",
    "feb.add_elements([\n",
    "  {\n",
    "    \"name\": \"LV\", \n",
    "    \"type\": \"tet4\",\n",
    "    \"mat\": \"1\",\n",
    "    \"elems\": lv.cells(VTK_ELEMENTS.TETRA)\n",
    "    }\n",
    "  ])\n",
    "feb.add_nodesets({\n",
    "  \"ENDO\": lv.get_nodeset(LV_SURFS.ENDO),\n",
    "  \"EPI\": lv.get_nodeset(LV_SURFS.EPI) \n",
    "  })\n",
    "feb.add_surfaces({\n",
    "  \"ENDO\": lv.get_surface_oi(LV_SURFS.ENDO),\n",
    "  })\n",
    "feb.add_discretesets(adjusted_discrete_sets)\n",
    "feb.add_meshdata([\n",
    "  {\n",
    "    \"elem_set\": \"LV\", \n",
    "    \"var\": \"mat_axis\",\n",
    "    \"elems\": {\n",
    "      \"a\": lv.get(GEO_DATA.MESH_CELL_DATA, LV_FIBERS.F0), #data['MESH_ELEM_DATA'][\"LV_FIBERS\"],\n",
    "      \"d\": lv.get(GEO_DATA.MESH_CELL_DATA, LV_FIBERS.S0),\n",
    "      }\n",
    "    }\n",
    "  ])\n",
    "feb"
   ]
  },
  {
   "cell_type": "code",
   "execution_count": 60,
   "metadata": {},
   "outputs": [],
   "source": [
    "feb.loads().find(\"surface_load\").attrib[\"surface\"] = \"ENDO\""
   ]
  },
  {
   "cell_type": "code",
   "execution_count": 61,
   "metadata": {},
   "outputs": [],
   "source": [
    "discrete = feb.discrete()\n",
    "discrete.find(\"discrete\").attrib[\"discrete_set\"] = \"AORTIC_BC\"\n",
    "import xml.etree.ElementTree as ET\n",
    "subel = ET.SubElement(discrete, 'discrete')\n",
    "subel.set(\"discrete_set\", \"MITRAL_BC\")\n",
    "subel.set(\"dmat\", \"1\")"
   ]
  },
  {
   "cell_type": "code",
   "execution_count": 62,
   "metadata": {},
   "outputs": [],
   "source": [
    "feb.write(\"../sample_files/sample_lv_template_mod.feb\")"
   ]
  }
 ],
 "metadata": {
  "interpreter": {
   "hash": "0ae1276936e32d1c86df8db6f3cf7470193c57b148400d4ba3b6a1ab5cfdd10f"
  },
  "kernelspec": {
   "display_name": "Python 3.9.7 (conda)",
   "language": "python",
   "name": "python3"
  },
  "language_info": {
   "codemirror_mode": {
    "name": "ipython",
    "version": 3
   },
   "file_extension": ".py",
   "mimetype": "text/x-python",
   "name": "python",
   "nbconvert_exporter": "python",
   "pygments_lexer": "ipython3",
   "version": "3.9.7"
  },
  "orig_nbformat": 4
 },
 "nbformat": 4,
 "nbformat_minor": 2
}
