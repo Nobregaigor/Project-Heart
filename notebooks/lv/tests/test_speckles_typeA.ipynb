{
 "cells": [
  {
   "cell_type": "code",
   "execution_count": 1,
   "metadata": {},
   "outputs": [],
   "source": [
    "from project_heart.lv import LV\n",
    "import numpy as np\n",
    "import pyvista as pv\n",
    "pv.set_jupyter_backend(\"pythreejs\")\n",
    "\n",
    "import os\n",
    "from pathlib import Path\n",
    "\n",
    "from project_heart.enums import *"
   ]
  },
  {
   "cell_type": "code",
   "execution_count": 2,
   "metadata": {},
   "outputs": [
    {
     "data": {
      "application/vnd.jupyter.widget-view+json": {
       "model_id": "11b14222a3724d5cbb3d68f9aeb21f61",
       "version_major": 2,
       "version_minor": 0
      },
      "text/plain": [
       "Renderer(camera=PerspectiveCamera(aspect=1.3333333333333333, children=(DirectionalLight(position=(50000.000000…"
      ]
     },
     "metadata": {},
     "output_type": "display_data"
    }
   ],
   "source": [
    "filepath = Path(\"../sample_files/lvhexmesh_typeA.vtk\")\n",
    "lv = LV.from_file(filepath)\n",
    "lv.identify_regions(LV_GEO_TYPES.TYPE_A,\n",
    "    endo_epi_args={\"threshold\":85,})\n",
    "lv.plot(\"mesh\", \n",
    "        scalars=LV_MESH_DATA.SURFS,\n",
    "        container=\"points\",\n",
    "        show_edges=True,\n",
    "        categorical=True,\n",
    "        split_sharp_edges=True,\n",
    "        smooth_shading=False,\n",
    "        pretty=False,\n",
    "        )"
   ]
  },
  {
   "cell_type": "code",
   "execution_count": 3,
   "metadata": {},
   "outputs": [
    {
     "data": {
      "application/vnd.jupyter.widget-view+json": {
       "model_id": "0a8faaccc02449aa83c51176b2978e35",
       "version_major": 2,
       "version_minor": 0
      },
      "text/plain": [
       "Renderer(camera=PerspectiveCamera(aspect=1.3333333333333333, children=(DirectionalLight(position=(50000.000000…"
      ]
     },
     "metadata": {},
     "output_type": "display_data"
    }
   ],
   "source": [
    "lv.plot(\"mesh\", \n",
    "        scalars=LV_MESH_DATA.EPI_ENDO,\n",
    "        container=\"points\",\n",
    "        show_edges=True,\n",
    "        categorical=True,\n",
    "        split_sharp_edges=True,\n",
    "        smooth_shading=False,\n",
    "        pretty=False,\n",
    "        )"
   ]
  },
  {
   "cell_type": "markdown",
   "metadata": {},
   "source": [
    "Create Longitudinal Speckles"
   ]
  },
  {
   "cell_type": "code",
   "execution_count": 4,
   "metadata": {},
   "outputs": [],
   "source": [
    "spk_args = []"
   ]
  },
  {
   "cell_type": "code",
   "execution_count": 5,
   "metadata": {},
   "outputs": [
    {
     "name": "stderr",
     "output_type": "stream",
     "text": [
      "INFO:create_speckles:Speckle: name: 0, group: endo, collection: long-6\n",
      "INFO:create_speckles:Speckle: name: 0, group: epi, collection: long-6\n",
      "INFO:create_speckles:Speckle: name: 1, group: endo, collection: long-6\n",
      "INFO:create_speckles:Speckle: name: 1, group: epi, collection: long-6\n",
      "INFO:create_speckles:Speckle: name: 2, group: endo, collection: long-6\n",
      "INFO:create_speckles:Speckle: name: 2, group: epi, collection: long-6\n",
      "INFO:create_speckles:Speckle: name: 3, group: endo, collection: long-6\n",
      "INFO:create_speckles:Speckle: name: 3, group: epi, collection: long-6\n",
      "INFO:create_speckles:Speckle: name: 4, group: endo, collection: long-6\n",
      "INFO:create_speckles:Speckle: name: 4, group: epi, collection: long-6\n",
      "INFO:create_speckles:Speckle: name: 5, group: endo, collection: long-6\n",
      "INFO:create_speckles:Speckle: name: 5, group: epi, collection: long-6\n"
     ]
    },
    {
     "data": {
      "application/vnd.jupyter.widget-view+json": {
       "model_id": "3f82564f4ea0434fbc44f5bbd82ec65b",
       "version_major": 2,
       "version_minor": 0
      },
      "text/plain": [
       "Renderer(camera=PerspectiveCamera(aspect=1.3333333333333333, children=(DirectionalLight(position=(50000.000000…"
      ]
     },
     "metadata": {},
     "output_type": "display_data"
    }
   ],
   "source": [
    "import logging\n",
    "\n",
    "for i, a in enumerate(np.linspace(0, np.pi, 6, endpoint=False)):\n",
    "    \n",
    "    spk = lv.create_speckles(\n",
    "        collection=\"long-6\",\n",
    "        group=\"endo\",\n",
    "        name=str(i),\n",
    "        from_nodeset=LV_SURFS.ENDO,\n",
    "        exclude_nodeset=LV_SURFS.BASE,\n",
    "        d=1.75,\n",
    "        k=0.5,\n",
    "        normal_to=[np.cos(a),np.sin(a),0.0],\n",
    "        n_subsets=6,\n",
    "        subsets_criteria=\"z2\",\n",
    "        t=0.0,\n",
    "        kmin=0.075,\n",
    "        kmax=0.87,\n",
    "        log_level=logging.INFO,\n",
    "    )\n",
    "    spk_args.append(dict(\n",
    "        collection=\"long-6\",\n",
    "        group=\"endo\",\n",
    "        name=str(i),\n",
    "        from_nodeset=LV_SURFS.ENDO,\n",
    "        exclude_nodeset=LV_SURFS.BASE,\n",
    "        d=1.75,\n",
    "        k=0.5,\n",
    "        normal_to=[np.cos(a),np.sin(a),0.0],\n",
    "        n_subsets=6,\n",
    "        subsets_criteria=\"z2\",\n",
    "        t=0.0,\n",
    "        kmin=0.075,\n",
    "        kmax=0.87,\n",
    "    ))\n",
    "\n",
    "    spk = lv.create_speckles(\n",
    "        collection=\"long-6\",\n",
    "        group=\"epi\",\n",
    "        name=str(i),\n",
    "        from_nodeset=LV_SURFS.EPI,\n",
    "        exclude_nodeset=LV_SURFS.BASE,\n",
    "        d=2.4,\n",
    "        k=0.5,\n",
    "        normal_to=[np.cos(a),np.sin(a),0.0],\n",
    "        n_subsets=6,\n",
    "        subsets_criteria=\"z2\",\n",
    "        t=0.0,\n",
    "        kmin=0.075,\n",
    "        kmax=0.87,\n",
    "        log_level=logging.INFO,\n",
    "    )\n",
    "    spk_args.append(dict(\n",
    "        collection=\"long-6\",\n",
    "        group=\"epi\",\n",
    "        name=str(i),\n",
    "        from_nodeset=LV_SURFS.EPI,\n",
    "        exclude_nodeset=LV_SURFS.BASE,\n",
    "        d=2.4,\n",
    "        k=0.5,\n",
    "        normal_to=[np.cos(a),np.sin(a),0.0],\n",
    "        n_subsets=6,\n",
    "        subsets_criteria=\"z2\",\n",
    "        t=0.0,\n",
    "        kmin=0.075,\n",
    "        kmax=0.87,\n",
    "    ))\n",
    "\n",
    "lv.set_region_from_speckles(\"long-6\", spk_collection=\"long-6\")\n",
    "lv.plot(\n",
    "    scalars=\"long-6\", \n",
    "    categorical=True, \n",
    "    cmap=\"jet\",\n",
    "    vnodes=[\n",
    "            (LV_VIRTUAL_NODES.BASE, \"red\"),\n",
    "            (LV_VIRTUAL_NODES.APEX, \"red\")\n",
    "            ],\n",
    "    )"
   ]
  },
  {
   "cell_type": "code",
   "execution_count": 6,
   "metadata": {},
   "outputs": [
    {
     "name": "stderr",
     "output_type": "stream",
     "text": [
      "INFO:create_speckles:Speckle: name: subapex, group: endo, collection: circ-6\n",
      "INFO:create_speckles:Speckle: name: subapex, group: epi, collection: circ-6\n",
      "INFO:create_speckles:Speckle: name: apex, group: endo, collection: circ-6\n",
      "INFO:create_speckles:Speckle: name: apex, group: epi, collection: circ-6\n",
      "INFO:create_speckles:Speckle: name: superapex, group: endo, collection: circ-6\n",
      "INFO:create_speckles:Speckle: name: superapex, group: epi, collection: circ-6\n",
      "INFO:create_speckles:Speckle: name: submid, group: endo, collection: circ-6\n",
      "INFO:create_speckles:Speckle: name: submid, group: epi, collection: circ-6\n",
      "INFO:create_speckles:Speckle: name: mid, group: endo, collection: circ-6\n",
      "INFO:create_speckles:Speckle: name: mid, group: epi, collection: circ-6\n",
      "INFO:create_speckles:Speckle: name: supermid, group: endo, collection: circ-6\n",
      "INFO:create_speckles:Speckle: name: supermid, group: epi, collection: circ-6\n",
      "INFO:create_speckles:Speckle: name: subbase, group: endo, collection: circ-6\n",
      "INFO:create_speckles:Speckle: name: subbase, group: epi, collection: circ-6\n",
      "INFO:create_speckles:Speckle: name: base, group: endo, collection: circ-6\n",
      "INFO:create_speckles:Speckle: name: base, group: epi, collection: circ-6\n",
      "INFO:create_speckles:Speckle: name: superbase, group: endo, collection: circ-6\n",
      "INFO:create_speckles:Speckle: name: superbase, group: epi, collection: circ-6\n"
     ]
    },
    {
     "data": {
      "application/vnd.jupyter.widget-view+json": {
       "model_id": "af31a682591c4633bf3be409d556da2c",
       "version_major": 2,
       "version_minor": 0
      },
      "text/plain": [
       "Renderer(camera=PerspectiveCamera(aspect=1.3333333333333333, children=(DirectionalLight(position=(50000.000000…"
      ]
     },
     "metadata": {},
     "output_type": "display_data"
    }
   ],
   "source": [
    "import logging\n",
    "names = [\"subapex\", \"apex\", \"superapex\", \"submid\", \"mid\", \"supermid\", \"subbase\", \"base\", \"superbase\"]\n",
    "\n",
    "for i, a in enumerate(np.linspace(0.1, 0.90, len(names), endpoint=False)):\n",
    "    \n",
    "    spk = lv.create_speckles(\n",
    "        collection=\"circ-6\",\n",
    "        group=\"endo\",\n",
    "        name=names[i],\n",
    "        from_nodeset=LV_SURFS.ENDO,\n",
    "        d=1.70,\n",
    "        k=a,\n",
    "        normal_to=[0.0, 0.0, 1.0],\n",
    "        n_subsets=6,\n",
    "        subsets_criteria=\"z2\",\n",
    "        t=0.0,\n",
    "        kmin=-1.0,\n",
    "        kmax=-1.0,\n",
    "        log_level=logging.INFO,\n",
    "    )\n",
    "    spk_args.append(dict(\n",
    "        collection=\"circ-6\",\n",
    "        group=\"endo\",\n",
    "        name=names[i],\n",
    "        from_nodeset=LV_SURFS.ENDO,\n",
    "        d=1.70,\n",
    "        k=a,\n",
    "        normal_to=[0.0, 0.0, 1.0],\n",
    "        n_subsets=6,\n",
    "        subsets_criteria=\"z2\",\n",
    "        t=0.0,\n",
    "        kmin=-1.0,\n",
    "        kmax=-1.0,\n",
    "    ))\n",
    "\n",
    "    spk = lv.create_speckles(\n",
    "        collection=\"circ-6\",\n",
    "        group=\"epi\",\n",
    "        name=names[i],\n",
    "        from_nodeset=LV_SURFS.EPI,\n",
    "        d=1.70,\n",
    "        k=a,\n",
    "        normal_to=[0.0, 0.0, 1.0],\n",
    "        n_subsets=6,\n",
    "        subsets_criteria=\"z2\",\n",
    "        t=0.0,\n",
    "        kmin=-1.0,\n",
    "        kmax=-1.0,\n",
    "        log_level=logging.INFO,\n",
    "    )\n",
    "    spk_args.append(dict(\n",
    "        collection=\"circ-6\",\n",
    "        group=\"epi\",\n",
    "        name=names[i],\n",
    "        from_nodeset=LV_SURFS.EPI,\n",
    "        d=1.70,\n",
    "        k=a,\n",
    "        normal_to=[0.0, 0.0, 1.0],\n",
    "        n_subsets=6,\n",
    "        subsets_criteria=\"z2\",\n",
    "        t=0.0,\n",
    "        kmin=-1.0,\n",
    "        kmax=-1.0,\n",
    "    ))\n",
    "\n",
    "lv.set_region_from_speckles(\"circ-6\", spk_collection=\"circ-6\")\n",
    "lv.plot(\n",
    "    scalars=\"circ-6\", \n",
    "    categorical=True, \n",
    "    cmap=\"jet\",\n",
    "    vnodes=[\n",
    "            (LV_VIRTUAL_NODES.BASE, \"red\"),\n",
    "            (LV_VIRTUAL_NODES.APEX, \"red\")\n",
    "            ],\n",
    "    )"
   ]
  },
  {
   "cell_type": "code",
   "execution_count": 7,
   "metadata": {},
   "outputs": [],
   "source": [
    "import json\n",
    "with open(\"spk_args_typeA.json\", 'w') as f:\n",
    "    json.dump(spk_args, f, indent=4)"
   ]
  }
 ],
 "metadata": {
  "interpreter": {
   "hash": "364647f439eeb51cea9fa1ad47f7b03a5a9ed5157a0ffe2dd43bcec2d09df37e"
  },
  "kernelspec": {
   "display_name": "Python 3.9.7 (conda)",
   "language": "python",
   "name": "python3"
  },
  "language_info": {
   "codemirror_mode": {
    "name": "ipython",
    "version": 3
   },
   "file_extension": ".py",
   "mimetype": "text/x-python",
   "name": "python",
   "nbconvert_exporter": "python",
   "pygments_lexer": "ipython3",
   "version": "3.9.7"
  },
  "orig_nbformat": 4
 },
 "nbformat": 4,
 "nbformat_minor": 2
}
