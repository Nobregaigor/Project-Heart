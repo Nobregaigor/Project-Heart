{
 "cells": [
  {
   "cell_type": "code",
   "execution_count": 106,
   "metadata": {},
   "outputs": [],
   "source": [
    "import numpy as np\n",
    "import pyvista as pv\n",
    "# import project_heart as ph\n",
    "from project_heart.modules.geometry import Geometry"
   ]
  },
  {
   "cell_type": "code",
   "execution_count": 107,
   "metadata": {},
   "outputs": [],
   "source": [
    "from enum import IntEnum\n",
    "\n",
    "class LV_SURFS(IntEnum):\n",
    "  ENDO = 0\n",
    "  EPI = 1\n",
    "  ATRIAL = 2\n",
    "  MITRAL = 3\n",
    "  INTERCECTION = 4"
   ]
  },
  {
   "cell_type": "code",
   "execution_count": 108,
   "metadata": {},
   "outputs": [],
   "source": [
    "# jupyter_backend='pythreejs'\n",
    "pv.set_jupyter_backend(\"pythreejs\")"
   ]
  },
  {
   "cell_type": "code",
   "execution_count": 109,
   "metadata": {},
   "outputs": [],
   "source": [
    "FILE_PATH = \"C:/Users/igorp/University of South Florida/Wenbin Mao - Igor/LV_Meshes/Heart_models/Full_Heart_Mesh_1.vtk\""
   ]
  },
  {
   "cell_type": "code",
   "execution_count": 110,
   "metadata": {},
   "outputs": [],
   "source": [
    "lv = Geometry()\n",
    "lv.from_pyvista_read(FILE_PATH, identifier=\"elemTag\", threshold=[0, 1])"
   ]
  },
  {
   "cell_type": "code",
   "execution_count": 111,
   "metadata": {},
   "outputs": [
    {
     "data": {
      "text/html": [
       "<table><tr><th>Header</th><th>Data Arrays</th></tr><tr><td>\n",
       "<table>\n",
       "<tr><th>PolyData</th><th>Information</th></tr>\n",
       "<tr><td>N Cells</td><td>104390</td></tr>\n",
       "<tr><td>N Points</td><td>52193</td></tr>\n",
       "<tr><td>X Bounds</td><td>-2.362e+01, 6.196e+01</td></tr>\n",
       "<tr><td>Y Bounds</td><td>-4.083e+01, 4.766e+01</td></tr>\n",
       "<tr><td>Z Bounds</td><td>-5.273e+01, 3.977e+01</td></tr>\n",
       "<tr><td>N Arrays</td><td>5</td></tr>\n",
       "</table>\n",
       "\n",
       "</td><td>\n",
       "<table>\n",
       "<tr><th>Name</th><th>Field</th><th>Type</th><th>N Comp</th><th>Min</th><th>Max</th></tr>\n",
       "<tr><td>vtkOriginalPointIds</td><td>Points</td><td>int64</td><td>1</td><td>2.000e+00</td><td>1.894e+05</td></tr>\n",
       "<tr><td>Normals</td><td>Points</td><td>float32</td><td>3</td><td>-1.000e+00</td><td>1.000e+00</td></tr>\n",
       "<tr><td><b>elemTag</b></td><td>Cells</td><td>int64</td><td>1</td><td>1.000e+00</td><td>1.000e+00</td></tr>\n",
       "<tr><td>vtkOriginalCellIds</td><td>Cells</td><td>int64</td><td>1</td><td>1.000e+00</td><td>9.727e+05</td></tr>\n",
       "<tr><td>Normals</td><td>Cells</td><td>float32</td><td>3</td><td>-1.000e+00</td><td>1.000e+00</td></tr>\n",
       "</table>\n",
       "\n",
       "</td></tr> </table>"
      ],
      "text/plain": [
       "PolyData (0x16bc94772e0)\n",
       "  N Cells:\t104390\n",
       "  N Points:\t52193\n",
       "  X Bounds:\t-2.362e+01, 6.196e+01\n",
       "  Y Bounds:\t-4.083e+01, 4.766e+01\n",
       "  Z Bounds:\t-5.273e+01, 3.977e+01\n",
       "  N Arrays:\t5"
      ]
     },
     "execution_count": 111,
     "metadata": {},
     "output_type": "execute_result"
    }
   ],
   "source": [
    "lvsurf = lv.mesh.extract_surface()\n",
    "lvsurf.compute_normals(inplace=True)"
   ]
  },
  {
   "cell_type": "code",
   "execution_count": 112,
   "metadata": {},
   "outputs": [
    {
     "data": {
      "text/plain": [
       "(52193, 3)"
      ]
     },
     "execution_count": 112,
     "metadata": {},
     "output_type": "execute_result"
    }
   ],
   "source": [
    "normals = lvsurf.get_array(\"Normals\", \"points\")\n",
    "normals.shape"
   ]
  },
  {
   "cell_type": "code",
   "execution_count": 113,
   "metadata": {},
   "outputs": [
    {
     "data": {
      "text/plain": [
       "pyvista_ndarray([22.56839688,  0.14375042, -6.93471445])"
      ]
     },
     "execution_count": 113,
     "metadata": {},
     "output_type": "execute_result"
    }
   ],
   "source": [
    "center = np.mean(lvsurf.points, axis=0)\n",
    "center"
   ]
  },
  {
   "cell_type": "code",
   "execution_count": 114,
   "metadata": {},
   "outputs": [],
   "source": [
    "def unit_vector(vector):\n",
    "    \"\"\" Returns the unit vector of the vector.  \"\"\"\n",
    "    return vector / np.linalg.norm(vector)"
   ]
  },
  {
   "cell_type": "code",
   "execution_count": 115,
   "metadata": {},
   "outputs": [],
   "source": [
    "def angle_between(v1, v2, check_orientation=True, zaxis=[0.,0.,1.]):\n",
    "    \"\"\" \n",
    "      Returns the angle in radians between vectors 'v1' and 'v2'\n",
    "    \"\"\"\n",
    "    #  compute angle\n",
    "    v1_u = unit_vector(v1)\n",
    "    v2_u = unit_vector(v2)\n",
    "    angle = np.arccos(np.clip(np.dot(v1_u, v2_u), -1.0, 1.0))\n",
    "    # if check_orientation:\n",
    "    #   # make sure angle is in range [0, 2*pi)\n",
    "    #   zaxis = np.asarray(zaxis)\n",
    "    #   det = np.linalg.det(np.vstack((v1_u.T, v2_u.T, zaxis.T))) # https://bit.ly/3nUrr0U\n",
    "    #   if det < 0:\n",
    "    #     angle = 2*np.pi - angle\n",
    "    return angle"
   ]
  },
  {
   "cell_type": "code",
   "execution_count": 116,
   "metadata": {},
   "outputs": [],
   "source": [
    "n_t_c = center - lvsurf.points\n",
    "\n",
    "angles = np.zeros(len(n_t_c))\n",
    "for i, (pt_normal, pt_vec) in enumerate(zip(normals, n_t_c)):\n",
    "  angles[i] = angle_between(pt_vec, pt_normal, check_orientation=False)\n",
    "\n",
    "# angles = np.degrees(angles)\n",
    "# lvsurf.point_data[\"angles\"] = angles\n",
    "# lvsurf.set_active_scalars(\"angles\")"
   ]
  },
  {
   "cell_type": "code",
   "execution_count": 89,
   "metadata": {},
   "outputs": [
    {
     "data": {
      "text/plain": [
       "3.141081162118487"
      ]
     },
     "execution_count": 89,
     "metadata": {},
     "output_type": "execute_result"
    }
   ],
   "source": [
    "angles.max()"
   ]
  },
  {
   "cell_type": "code",
   "execution_count": 117,
   "metadata": {},
   "outputs": [],
   "source": [
    "angles_tresh = np.copy(angles)\n",
    "thresh_val = np.radians(90)\n",
    "\n",
    "angles_tresh[angles<thresh_val]=0\n",
    "angles_tresh[angles>=thresh_val]=1\n",
    "\n",
    "angles_tresh[angles>=np.radians(180)]=0\n",
    "\n",
    "# angles_tresh[angles<np.radians(10)]=1\n",
    "\n",
    "lvsurf.point_data[\"angles_tresh\"] = angles_tresh\n",
    "lvsurf.set_active_scalars(\"angles_tresh\")"
   ]
  },
  {
   "cell_type": "code",
   "execution_count": 118,
   "metadata": {},
   "outputs": [],
   "source": [
    "endo_epi_guess=np.copy(angles_tresh)"
   ]
  },
  {
   "cell_type": "code",
   "execution_count": 119,
   "metadata": {},
   "outputs": [
    {
     "data": {
      "application/vnd.jupyter.widget-view+json": {
       "model_id": "938a60f397304c1bbb800ba222a9f41d",
       "version_major": 2,
       "version_minor": 0
      },
      "text/plain": [
       "Renderer(camera=PerspectiveCamera(aspect=1.3333333333333333, children=(DirectionalLight(color='#fefefe', inten…"
      ]
     },
     "metadata": {},
     "output_type": "display_data"
    }
   ],
   "source": [
    "plotter = pv.Plotter()\n",
    "plotter.background_color = 'w'\n",
    "plotter.enable_anti_aliasing()\n",
    "# plotter.add_mesh(lvsurf.arrows, lighting=False)\n",
    "plotter.add_mesh(lvsurf, scalars=\"angles_tresh\", opacity=1.0, show_edges=False)\n",
    "plotter.show()"
   ]
  },
  {
   "cell_type": "code",
   "execution_count": 93,
   "metadata": {},
   "outputs": [],
   "source": [
    "lvsurf = lvsurf.compute_derivative(\"angles_tresh\")\n",
    "lvsurf = lvsurf.compute_derivative(\"gradient\")\n",
    "lvsurf = lvsurf.compute_derivative(\"gradient\")\n",
    "\n",
    "grads = lvsurf.get_array(\"gradient\") #/ 180\n",
    "grads_mag = np.linalg.norm(grads, axis=1)\n",
    "goi = np.copy(grads_mag)\n",
    "goi[grads_mag>0] = 1\n",
    "goi[grads_mag<=0] = 0"
   ]
  },
  {
   "cell_type": "code",
   "execution_count": 94,
   "metadata": {},
   "outputs": [],
   "source": [
    "lvsurf.point_data[\"goi\"] = goi\n",
    "lvsurf.set_active_scalars(\"goi\")"
   ]
  },
  {
   "cell_type": "code",
   "execution_count": 95,
   "metadata": {},
   "outputs": [
    {
     "data": {
      "application/vnd.jupyter.widget-view+json": {
       "model_id": "e3badacdc0eb4fba815301f15e1783d2",
       "version_major": 2,
       "version_minor": 0
      },
      "text/plain": [
       "Renderer(camera=PerspectiveCamera(aspect=1.3333333333333333, children=(DirectionalLight(color='#fefefe', inten…"
      ]
     },
     "metadata": {},
     "output_type": "display_data"
    }
   ],
   "source": [
    "plotter = pv.Plotter()\n",
    "plotter.background_color = 'w'\n",
    "plotter.enable_anti_aliasing()\n",
    "# plotter.add_mesh(lvsurf.arrows, lighting=False)\n",
    "plotter.add_mesh(lvsurf, scalars=\"goi\", opacity=1.0, show_edges=False)\n",
    "plotter.show()"
   ]
  },
  {
   "cell_type": "code",
   "execution_count": 96,
   "metadata": {},
   "outputs": [],
   "source": [
    "pts = lvsurf.points\n",
    "ioi = np.where(goi > 0)[0]\n",
    "poi = pts[ioi]"
   ]
  },
  {
   "cell_type": "code",
   "execution_count": 97,
   "metadata": {},
   "outputs": [],
   "source": [
    "from sklearn.cluster import KMeans\n",
    "\n",
    "n_centroids = 2\n",
    "\n",
    "kmeans = KMeans(n_clusters=n_centroids, random_state=0).fit(poi)\n",
    "klabels = kmeans.labels_\n",
    "kcenters = kmeans.cluster_centers_"
   ]
  },
  {
   "cell_type": "code",
   "execution_count": 98,
   "metadata": {},
   "outputs": [],
   "source": [
    "kdist = np.linalg.norm(center - kcenters, axis=1)\n",
    "label = np.zeros(len(klabels))\n",
    "if kdist[0] < kdist[1]:\n",
    "  label[klabels==0] = LV_SURFS.ATRIAL\n",
    "  label[klabels==1] = LV_SURFS.MITRAL\n",
    "else:\n",
    "  label[klabels==1] = LV_SURFS.ATRIAL\n",
    "  label[klabels==0] = LV_SURFS.MITRAL"
   ]
  },
  {
   "cell_type": "code",
   "execution_count": 99,
   "metadata": {},
   "outputs": [],
   "source": [
    "clustered = np.zeros(len(pts))\n",
    "clustered[ioi] = label#+1\n",
    "lvsurf.point_data[\"clustered\"] = clustered\n",
    "lvsurf.set_active_scalars(\"clustered\")"
   ]
  },
  {
   "cell_type": "code",
   "execution_count": 100,
   "metadata": {},
   "outputs": [
    {
     "data": {
      "application/vnd.jupyter.widget-view+json": {
       "model_id": "16c12723f17542d597936f4f97e3f671",
       "version_major": 2,
       "version_minor": 0
      },
      "text/plain": [
       "Renderer(camera=PerspectiveCamera(aspect=1.3333333333333333, children=(DirectionalLight(color='#fefefe', inten…"
      ]
     },
     "metadata": {},
     "output_type": "display_data"
    }
   ],
   "source": [
    "plotter = pv.Plotter()\n",
    "plotter.background_color = 'w'\n",
    "plotter.enable_anti_aliasing()\n",
    "# plotter.add_mesh(lvsurf.arrows, lighting=False, scalars=\"angles\")\n",
    "plotter.add_points(kcenters, color=\"red\", point_size=300)\n",
    "plotter.add_mesh(lvsurf, scalars=\"clustered\", opacity=1.0, show_edges=False)\n",
    "plotter.show()"
   ]
  },
  {
   "cell_type": "code",
   "execution_count": 101,
   "metadata": {},
   "outputs": [],
   "source": [
    "initial_guess = np.copy(endo_epi_guess)\n",
    "initial_guess[clustered==LV_SURFS.ATRIAL] = LV_SURFS.ATRIAL\n",
    "initial_guess[clustered==LV_SURFS.MITRAL] = LV_SURFS.MITRAL\n",
    "lvsurf.point_data[\"initial_guess\"] = initial_guess\n",
    "lvsurf.set_active_scalars(\"initial_guess\")"
   ]
  },
  {
   "cell_type": "code",
   "execution_count": 102,
   "metadata": {},
   "outputs": [
    {
     "data": {
      "application/vnd.jupyter.widget-view+json": {
       "model_id": "f8c8cc77697148478da963e39178dd38",
       "version_major": 2,
       "version_minor": 0
      },
      "text/plain": [
       "Renderer(camera=PerspectiveCamera(aspect=1.3333333333333333, children=(DirectionalLight(color='#fefefe', inten…"
      ]
     },
     "metadata": {},
     "output_type": "display_data"
    }
   ],
   "source": [
    "plotter = pv.Plotter()\n",
    "plotter.background_color = 'w'\n",
    "plotter.enable_anti_aliasing()\n",
    "# plotter.add_mesh(lvsurf.arrows, lighting=False, scalars=\"angles\")\n",
    "plotter.add_points(kcenters, color=\"red\", point_size=300)\n",
    "plotter.add_mesh(lvsurf, scalars=\"initial_guess\", opacity=1.0, show_edges=False)\n",
    "plotter.show()"
   ]
  },
  {
   "cell_type": "code",
   "execution_count": 103,
   "metadata": {},
   "outputs": [],
   "source": [
    "def est_mask(pts, initial_guess, endo_epi_guess, alpha_atr=1.5, alpha_mtr=1.5):\n",
    "  atr_mask = np.where(initial_guess==LV_SURFS.ATRIAL)[0] \n",
    "  mtr_mask = np.where(initial_guess==LV_SURFS.MITRAL)[0] \n",
    "  atr_pts = pts[atr_mask]\n",
    "  mtr_pts = pts[mtr_mask]\n",
    "  \n",
    "  c_atr = np.mean(atr_pts, axis=0)\n",
    "  r_atr = np.mean(np.linalg.norm(atr_pts - c_atr, axis=1))\n",
    "  c_mtr = np.mean(mtr_pts, axis=0)\n",
    "  r_mtr = np.mean(np.linalg.norm(mtr_pts - c_mtr, axis=1))\n",
    "  \n",
    "  d_atr = np.linalg.norm(pts - c_atr, axis=1)\n",
    "  d_mtr = np.linalg.norm(pts - c_mtr, axis=1)\n",
    "  \n",
    "  atr = np.where(d_atr <= r_atr * alpha_atr)[0]\n",
    "  mtr = np.where(d_mtr <= r_mtr * alpha_mtr)[0]\n",
    "  \n",
    "  its = np.intersect1d(atr, mtr) # intersection\n",
    "  \n",
    "  # Adjust mask\n",
    "  new_atr_mask = np.union1d(atr_mask, its)\n",
    "  new_mtr_mask = np.union1d(mtr_mask, its)\n",
    "  atr_pts = pts[new_atr_mask]\n",
    "  mtr_pts = pts[new_mtr_mask]\n",
    "  \n",
    "  c_atr = np.mean(atr_pts, axis=0)\n",
    "  r_atr = np.mean(np.linalg.norm(atr_pts - c_atr, axis=1))\n",
    "  c_mtr = np.mean(mtr_pts, axis=0)\n",
    "  r_mtr = np.mean(np.linalg.norm(mtr_pts - c_mtr, axis=1))\n",
    "  \n",
    "  d_atr = np.linalg.norm(pts - c_atr, axis=1)\n",
    "  d_mtr = np.linalg.norm(pts - c_mtr, axis=1)\n",
    "  \n",
    "  atr = np.where(d_atr <= r_atr * alpha_atr*0.8)[0]\n",
    "  mtr = np.where(d_mtr <= r_mtr * alpha_mtr*0.8)[0]\n",
    "  \n",
    "  its = np.intersect1d(atr, mtr) # intersection\n",
    "  \n",
    "  # Adjust mask\n",
    "  new_atr_mask = atr\n",
    "  new_mtr_mask = mtr\n",
    "  atr_pts = pts[new_atr_mask]\n",
    "  mtr_pts = pts[new_mtr_mask]\n",
    "  atr_vecs = c_atr - atr_pts\n",
    "  mtr_vecs = c_mtr - mtr_pts\n",
    "  \n",
    "  atr_angles = np.zeros(len(atr_vecs))\n",
    "  mtr_angles = np.zeros(len(mtr_vecs))\n",
    "  \n",
    "  for i, (pt_normal, pt_vec) in enumerate(zip(normals[new_atr_mask], atr_vecs)):\n",
    "    atr_angles[i] = angle_between(pt_vec, pt_normal, check_orientation=False)\n",
    "    \n",
    "  for i, (pt_normal, pt_vec) in enumerate(zip(normals[new_mtr_mask], mtr_vecs)):\n",
    "    mtr_angles[i] = angle_between(pt_vec, pt_normal, check_orientation=False)\n",
    "  \n",
    "  # print(mtr_vecs.shape, mtr_angles.shape, new_mtr_mask.shape, mtr.shape)\n",
    "  atr = new_atr_mask[np.where(atr_angles <= np.radians(89))[0]]\n",
    "  mtr = new_mtr_mask[np.where(mtr_angles <= np.radians(89))[0]]\n",
    "  # ep1 = new_mtr_mask[np.where(mtr_angles > np.radians(89))[0]]\n",
    "  \n",
    "  \n",
    "  new_guess = np.copy(endo_epi_guess)\n",
    "  # new_guess[ep1] = 6\n",
    "  new_guess[atr] = LV_SURFS.ATRIAL\n",
    "  new_guess[mtr] = LV_SURFS.MITRAL\n",
    "  new_guess[its] = LV_SURFS.INTERCECTION\n",
    "  \n",
    "  \n",
    "  \n",
    "  return new_guess, (c_atr, c_mtr)"
   ]
  },
  {
   "cell_type": "code",
   "execution_count": 104,
   "metadata": {},
   "outputs": [],
   "source": [
    "mask, (c_atr, c_mtr) = est_mask(pts, initial_guess, endo_epi_guess, \n",
    "                                alpha_atr=1.7, alpha_mtr=1.5)\n",
    "lvsurf.point_data[\"mask\"] = mask\n",
    "lvsurf.set_active_scalars(\"mask\")"
   ]
  },
  {
   "cell_type": "code",
   "execution_count": 105,
   "metadata": {},
   "outputs": [
    {
     "data": {
      "application/vnd.jupyter.widget-view+json": {
       "model_id": "130855486ae1483b848ef84f1a301963",
       "version_major": 2,
       "version_minor": 0
      },
      "text/plain": [
       "Renderer(camera=PerspectiveCamera(aspect=1.3333333333333333, children=(DirectionalLight(color='#fefefe', inten…"
      ]
     },
     "metadata": {},
     "output_type": "display_data"
    }
   ],
   "source": [
    "plotter = pv.Plotter()\n",
    "plotter.background_color = 'w'\n",
    "plotter.enable_anti_aliasing()\n",
    "# plotter.add_mesh(lvsurf.arrows, lighting=False, scalars=\"angles\")\n",
    "# plotter.add_points(kcenters, color=\"beige\", point_size=300)\n",
    "plotter.add_points(c_atr, color=\"red\", point_size=300)\n",
    "plotter.add_points(c_mtr, color=\"red\", point_size=300)\n",
    "plotter.add_mesh(lvsurf, scalars=\"mask\", cmap=\"jet\",\n",
    "                 opacity=1.0, show_edges=False)\n",
    "plotter.show()"
   ]
  },
  {
   "cell_type": "code",
   "execution_count": null,
   "metadata": {},
   "outputs": [],
   "source": []
  }
 ],
 "metadata": {
  "interpreter": {
   "hash": "1ce1234df79d256e626de05663509b6b8a35e2e5c778dccbbc6775e7c1f8c158"
  },
  "kernelspec": {
   "display_name": "Python 3.9.6 ('venv': venv)",
   "language": "python",
   "name": "python3"
  },
  "language_info": {
   "codemirror_mode": {
    "name": "ipython",
    "version": 3
   },
   "file_extension": ".py",
   "mimetype": "text/x-python",
   "name": "python",
   "nbconvert_exporter": "python",
   "pygments_lexer": "ipython3",
   "version": "3.9.6"
  },
  "orig_nbformat": 4
 },
 "nbformat": 4,
 "nbformat_minor": 2
}
