{
 "cells": [
  {
   "cell_type": "code",
   "execution_count": 58,
   "metadata": {},
   "outputs": [],
   "source": [
    "import os\n",
    "from pathlib import Path\n",
    "import numpy as np\n",
    "import pyvista as pv\n",
    "# import project_heart as ph\n",
    "from project_heart.modules.geometry import Geometry\n",
    "pv.set_jupyter_backend(\"pythreejs\")\n",
    "from project_heart.lv import LV\n",
    "from project_heart.enums import *"
   ]
  },
  {
   "cell_type": "code",
   "execution_count": 59,
   "metadata": {},
   "outputs": [
    {
     "name": "stdout",
     "output_type": "stream",
     "text": [
      "File: Full_Heart_Mesh_12.vtk\n"
     ]
    }
   ],
   "source": [
    "dir = Path(\"C:/Users/igorp/University of South Florida/Wenbin Mao - Igor/LV_Meshes/Heart_models\")\n",
    "# dir = Path(\"C:/Users/igornobrega/USF_Research/University of South Florida/Wenbin Mao - Igor/LV_Meshes/Heart_models\")\n",
    "files = os.listdir(dir)\n",
    "\n",
    "file_id = 3 # 5 has a problem\n",
    "\n",
    "print(\"File:\", files[file_id])\n",
    "\n",
    "lv = LV()\n",
    "lv.from_pyvista_read(dir/files[file_id], identifier=\"elemTag\", threshold=[0, 1])"
   ]
  },
  {
   "cell_type": "code",
   "execution_count": 60,
   "metadata": {},
   "outputs": [
    {
     "data": {
      "application/vnd.jupyter.widget-view+json": {
       "model_id": "df494ff3420b4656a82ac1980dba2ddf",
       "version_major": 2,
       "version_minor": 0
      },
      "text/plain": [
       "Renderer(camera=PerspectiveCamera(aspect=1.3333333333333333, children=(DirectionalLight(color='#fefefe', posit…"
      ]
     },
     "metadata": {},
     "output_type": "display_data"
    }
   ],
   "source": [
    "lv.identify_surfaces(\n",
    "  \n",
    "  ab_ql=0.03, \n",
    "  ab_qh=0.70,\n",
    "  \n",
    "  alpha_atr=0.20,  # coeff for radial distance computation\n",
    "  alpha_mtr=0.69,\n",
    "  \n",
    "  beta_atr=0.15,  # coeff for second radial distance computation\n",
    "  beta_mtr=0.27,\n",
    "  \n",
    "  gamma_atr=89,\n",
    "  gamma2_mtr=25,\n",
    "  \n",
    "  phi_atr=79,\n",
    "  epi_angle=100\n",
    ")\n",
    "\n",
    "plotter = pv.Plotter(lighting='three lights')\n",
    "plotter.background_color = 'w'\n",
    "plotter.enable_anti_aliasing()\n",
    "plotter.add_points(lv.get_virtual_node(\"MITRAL\"), color=\"red\", point_size=300)\n",
    "plotter.add_points(lv.get_virtual_node(\"AORTIC\"), color=\"purple\", point_size=300)\n",
    "plotter.add_mesh(lv.mesh, \n",
    "                  scalars=\"LV_SURFS\", \n",
    "                  cmap=\"Set2\", \n",
    "                  opacity=1.0, \n",
    "                  show_edges=False,\n",
    "                  ambient=0.2, \n",
    "                  diffuse=0.5, \n",
    "                  specular=0.5, \n",
    "                  specular_power=90,\n",
    "                  #  smooth_shading=True,\n",
    "                  )\n",
    "plotter.enable_shadows()\n",
    "plotter.show()"
   ]
  },
  {
   "cell_type": "code",
   "execution_count": 61,
   "metadata": {},
   "outputs": [
    {
     "data": {
      "text/plain": [
       "{'R': 16.19505571655343, 'C': array([-1.5481617 , 25.68176791, 11.36415558])}"
      ]
     },
     "execution_count": 61,
     "metadata": {},
     "output_type": "execute_result"
    }
   ],
   "source": [
    "lv.mitral_info"
   ]
  },
  {
   "cell_type": "code",
   "execution_count": 62,
   "metadata": {},
   "outputs": [
    {
     "data": {
      "text/plain": [
       "{'R': 14.923538134565778, 'C': array([-7.5238643 ,  3.63141074, 21.63932695])}"
      ]
     },
     "execution_count": 62,
     "metadata": {},
     "output_type": "execute_result"
    }
   ],
   "source": [
    "lv.aortic_info"
   ]
  },
  {
   "cell_type": "code",
   "execution_count": 63,
   "metadata": {},
   "outputs": [],
   "source": [
    "def generate_circle_by_vectors(t, C, r, n, u):\n",
    "    n = n/np.linalg.norm(n)\n",
    "    u = u/np.linalg.norm(u)\n",
    "    P_circle = r*np.cos(t)[:,np.newaxis]*u + r*np.sin(t)[:,np.newaxis]*np.cross(n,u) + C\n",
    "    return P_circle"
   ]
  },
  {
   "cell_type": "code",
   "execution_count": 64,
   "metadata": {},
   "outputs": [],
   "source": [
    "def fit_plane(points):\n",
    "  P_mean = points.mean(axis=0)\n",
    "  P_centered = points - P_mean\n",
    "  U,s,V = np.linalg.svd(P_centered)\n",
    "  normal = V[2,:]\n",
    "  d = -np.dot(P_mean, normal) \n",
    "  return normal, d"
   ]
  },
  {
   "cell_type": "code",
   "execution_count": 65,
   "metadata": {},
   "outputs": [],
   "source": [
    "def create_rim_circunference(\n",
    "    center, radius, height, normal, cross_normal,\n",
    "    radial_resolution=64, \n",
    "    # longitudinal_resolution=2,\n",
    "  ):\n",
    "\n",
    "  # step_h = height/longitudinal_resolution\n",
    "  c1 = center - normal*height*0.5\n",
    "  c2 = center + normal*height*0.5\n",
    "\n",
    "  rim_angles = np.linspace(0, 2*np.pi, radial_resolution+1)[:-1]\n",
    "  rim = generate_circle_by_vectors(rim_angles, c1, radius,\n",
    "                                   normal, cross_normal)\n",
    "  \n",
    "  \n",
    "  rim_2 = np.copy(rim)\n",
    "  for i, node in enumerate(rim):\n",
    "    rim_2[i] = node + height*normal\n",
    "  \n",
    "  # set rim center as mean from two centers\n",
    "  rim_center_2 = c2#center + step_h*normal\n",
    "  rim_center = np.mean([center, rim_center_2], axis=0)\n",
    "  \n",
    "  # set elements\n",
    "  elements = []\n",
    "  n_nodes = len(rim)\n",
    "  for i, j in zip(range(0, n_nodes), range(n_nodes, n_nodes*2-1)):\n",
    "    elements.append((\n",
    "        i, j, j+1, i+1\n",
    "    ))\n",
    "  \n",
    "  rim = np.vstack([rim, rim_2])\n",
    "  return rim, rim_center, elements"
   ]
  },
  {
   "cell_type": "code",
   "execution_count": 66,
   "metadata": {},
   "outputs": [],
   "source": [
    "import scipy\n",
    "def query_kdtree(A, B):\n",
    "  \"\"\"\n",
    "    Performs a kd-query of B on A; in which A is the kd-tree.\n",
    "    Returns the indexes of closest points of B w.r.t. A.\n",
    "  \"\"\"\n",
    "  tree = scipy.spatial.cKDTree(A)\n",
    "  dist, indexes = tree.query(B)\n",
    "  return indexes"
   ]
  },
  {
   "cell_type": "code",
   "execution_count": 67,
   "metadata": {},
   "outputs": [],
   "source": [
    "def set_spring_indexes(A, B):\n",
    "  from_nodes = np.arange(len(A)).reshape(-1,1)\n",
    "  to_nodes = query_kdtree(B, A).reshape(-1,1)\n",
    "  return np.hstack((from_nodes, to_nodes))"
   ]
  },
  {
   "cell_type": "code",
   "execution_count": 68,
   "metadata": {},
   "outputs": [],
   "source": [
    "def lines_from_points(points):\n",
    "    \"\"\"Given an array of points, make a line set\"\"\"\n",
    "    poly = pv.PolyData()\n",
    "    poly.points = points\n",
    "    cells = np.full((len(points)-1, 3), 2, dtype=np.int_)\n",
    "    cells[:, 1] = np.arange(0, len(points)-1, dtype=np.int_)\n",
    "    cells[:, 2] = np.arange(1, len(points), dtype=np.int_)\n",
    "    poly.lines = cells\n",
    "    # poly = poly.tube(radius=0.1)\n",
    "    return poly"
   ]
  },
  {
   "cell_type": "code",
   "execution_count": 69,
   "metadata": {},
   "outputs": [],
   "source": [
    "from collections import deque\n",
    "def get_springs_pts_for_plot(geo_pts, rim_pts, s_idx_map, color=\"cyan\", n_skip=1):\n",
    "  pts_a = geo_pts[s_idx_map[:, 0]][::n_skip]\n",
    "  pts_b = rim_pts[s_idx_map[:, 1]][::n_skip]\n",
    "  lines = None\n",
    "  for a, b in zip(pts_a, pts_b):\n",
    "    if lines is None:\n",
    "      lines = lines_from_points(np.array([a,b]))\n",
    "    else:\n",
    "      lines = lines.merge(lines_from_points(np.array([a,b])))  \n",
    "  return lines"
   ]
  },
  {
   "cell_type": "code",
   "execution_count": 70,
   "metadata": {},
   "outputs": [],
   "source": [
    "atr_pts = lv.points(mask=lv.get_nodeset(\"AORTIC\"))\n",
    "mtr_pts = lv.points(mask=lv.get_nodeset(\"MITRAL\"))"
   ]
  },
  {
   "cell_type": "code",
   "execution_count": 71,
   "metadata": {},
   "outputs": [],
   "source": [
    "lvnormal = lv.get_normal()"
   ]
  },
  {
   "cell_type": "code",
   "execution_count": 72,
   "metadata": {},
   "outputs": [],
   "source": [
    "n, _ = fit_plane(atr_pts)\n",
    "n = -n if n[2] < 0 else n\n",
    "x = np.cross(n, lv._Z)\n",
    "c = lv.get_virtual_node(LV_VIRTUAL_NODES.AORTIC.value) + n*10\n",
    "r = lv.aortic_info[\"R\"] * 0.70\n",
    "h = 2\n",
    "atr_rim, rim_center, rim_el = create_rim_circunference(c, r, h, -n, x)\n",
    "atr_rim_string_map = set_spring_indexes(atr_pts, atr_rim)\n",
    "atr_rim_string_lines = get_springs_pts_for_plot(atr_pts, atr_rim, atr_rim_string_map, n_skip=1)"
   ]
  },
  {
   "cell_type": "code",
   "execution_count": 73,
   "metadata": {},
   "outputs": [],
   "source": [
    "# def check_rim_neighbors(string_map):\n",
    "#   sort_idxs = string_map[:, 1].argsort()\n",
    "#   vals = string_map[sort_idxs][:, 1]\n",
    "#   to_exclude = np.zeros(len(vals), dtype=bool)\n",
    "#   for i in range(len(vals) - 1):\n",
    "#     if vals[i+1] != vals[i]:\n",
    "#       to_exclude[i+1] = True\n",
    "#   if vals[-1] != vals[-2]:\n",
    "#     to_exclude[-1] = True\n",
    "#   # print(to_exclude)\n",
    "#   return string_map[~to_exclude]"
   ]
  },
  {
   "cell_type": "code",
   "execution_count": 74,
   "metadata": {},
   "outputs": [],
   "source": [
    "n, _ = fit_plane(mtr_pts)\n",
    "n = -n if n[2] < 0 else n\n",
    "x = np.cross(n, lv._Z)\n",
    "c = lv.get_virtual_node(LV_VIRTUAL_NODES.MITRAL.value) + n*10\n",
    "r = lv.mitral_info[\"R\"] * 0.70\n",
    "h = 2\n",
    "mtr_rim, rim_center, rim_el = create_rim_circunference(c, r, h, -n, x)\n",
    "mtr_rim_string_map = set_spring_indexes(mtr_pts, mtr_rim)\n",
    "# mtr_rim_string_map = check_rim_neighbors(mtr_rim_string_map)\n",
    "mtr_rim_string_lines = get_springs_pts_for_plot(mtr_pts, mtr_rim, mtr_rim_string_map, n_skip=1)"
   ]
  },
  {
   "cell_type": "code",
   "execution_count": 78,
   "metadata": {},
   "outputs": [
    {
     "data": {
      "application/vnd.jupyter.widget-view+json": {
       "model_id": "bebf19da13724fce9fc0ce1aa34b31d9",
       "version_major": 2,
       "version_minor": 0
      },
      "text/plain": [
       "Renderer(camera=PerspectiveCamera(aspect=1.3333333333333333, children=(DirectionalLight(color='#fefefe', posit…"
      ]
     },
     "metadata": {},
     "output_type": "display_data"
    }
   ],
   "source": [
    "plotter = pv.Plotter(lighting='three lights')\n",
    "plotter.background_color = 'w'\n",
    "plotter.enable_anti_aliasing()\n",
    "plotter.add_points(lv.get_virtual_node(\"MITRAL\"), color=\"green\", point_size=300)\n",
    "plotter.add_points(lv.get_virtual_node(\"AORTIC\"), color=\"red\", point_size=300)\n",
    "plotter.add_points(atr_rim, color=\"red\", point_size=300)\n",
    "plotter.add_points(mtr_rim, color=\"green\", point_size=300)\n",
    "plotter.add_mesh(atr_rim_string_lines, color=\"red\", opacity=0.5, show_edges=False)\n",
    "plotter.add_mesh(mtr_rim_string_lines, color=\"green\", opacity=0.5, show_edges=False)\n",
    "plotter.add_mesh(lv.mesh, \n",
    "                  scalars=\"LV_SURFS\", \n",
    "                  cmap=\"Set2\", \n",
    "                  opacity=1.0, \n",
    "                  show_edges=False,\n",
    "                  ambient=0.2, \n",
    "                  diffuse=0.5, \n",
    "                  specular=0.5, \n",
    "                  specular_power=90,\n",
    "                  #  smooth_shading=True,\n",
    "                  )\n",
    "plotter.enable_shadows()\n",
    "plotter.show()"
   ]
  }
 ],
 "metadata": {
  "interpreter": {
   "hash": "364647f439eeb51cea9fa1ad47f7b03a5a9ed5157a0ffe2dd43bcec2d09df37e"
  },
  "kernelspec": {
   "display_name": "Python 3.9.7 (conda)",
   "language": "python",
   "name": "python3"
  },
  "language_info": {
   "codemirror_mode": {
    "name": "ipython",
    "version": 3
   },
   "file_extension": ".py",
   "mimetype": "text/x-python",
   "name": "python",
   "nbconvert_exporter": "python",
   "pygments_lexer": "ipython3",
   "version": "3.9.7"
  },
  "orig_nbformat": 4
 },
 "nbformat": 4,
 "nbformat_minor": 2
}
