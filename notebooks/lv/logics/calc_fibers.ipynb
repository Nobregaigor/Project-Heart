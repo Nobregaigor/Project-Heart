{
 "cells": [
  {
   "cell_type": "code",
   "execution_count": 1,
   "metadata": {},
   "outputs": [],
   "source": [
    "import numpy as np"
   ]
  },
  {
   "cell_type": "code",
   "execution_count": 117,
   "metadata": {},
   "outputs": [],
   "source": [
    "import matlab\n",
    "import matlab.engine\n",
    "eng = matlab.engine.start_matlab()\n",
    "eng.addpath(r'C:/Users/igorp/OneDrive/Documents/GitHub/Project-Heart/matlab',nargout=0)"
   ]
  },
  {
   "cell_type": "code",
   "execution_count": 3,
   "metadata": {},
   "outputs": [],
   "source": [
    "import os\n",
    "from pathlib import Path\n",
    "import numpy as np\n",
    "import pyvista as pv\n",
    "# import project_heart as ph\n",
    "from project_heart.modules.geometry import Geometry\n",
    "pv.set_jupyter_backend(\"pythreejs\")\n",
    "from project_heart.lv import LV\n",
    "from project_heart.enums import *"
   ]
  },
  {
   "cell_type": "code",
   "execution_count": 5,
   "metadata": {},
   "outputs": [
    {
     "name": "stdout",
     "output_type": "stream",
     "text": [
      "File: C:/Users/igorp/OneDrive/Desktop/sample_lv_1.xplt\n"
     ]
    },
    {
     "data": {
      "application/vnd.jupyter.widget-view+json": {
       "model_id": "c04b957508a84402a13c41885406454f",
       "version_major": 2,
       "version_minor": 0
      },
      "text/plain": [
       "Renderer(camera=PerspectiveCamera(aspect=1.3333333333333333, children=(DirectionalLight(color='#fefefe', posit…"
      ]
     },
     "metadata": {},
     "output_type": "display_data"
    }
   ],
   "source": [
    "# dir = Path(\"C:/Users/igorp/University of South Florida/Wenbin Mao - Igor/LV_Meshes/Heart_models\")\n",
    "# # dir = Path(\"C:/Users/igornobrega/USF_Research/University of South Florida/Wenbin Mao - Igor/LV_Meshes/Heart_models\")\n",
    "# files = os.listdir(dir)\n",
    "\n",
    "# file_id = 3 # 5 has a problem\n",
    "\n",
    "print(\"File:\", \"C:/Users/igorp/OneDrive/Desktop/sample_lv_1.xplt\")\n",
    "\n",
    "lv = LV()\n",
    "lv.from_xplt(\"C:/Users/igorp/OneDrive/Desktop/sample_lv_1.xplt\", identifier=\"elemTag\", threshold=[0, 1])\n",
    "\n",
    "plotter = pv.Plotter(lighting='three lights')\n",
    "plotter.background_color = 'w'\n",
    "plotter.enable_anti_aliasing()\n",
    "plotter.add_mesh(lv.mesh, \n",
    "                  cmap=\"Set2\", \n",
    "                  opacity=1.0, \n",
    "                  show_edges=False,\n",
    "                  ambient=0.2, \n",
    "                  diffuse=0.5, \n",
    "                  specular=0.5, \n",
    "                  specular_power=90,\n",
    "                  #  smooth_shading=True,\n",
    "                  )\n",
    "plotter.enable_shadows()\n",
    "plotter.show()"
   ]
  },
  {
   "cell_type": "code",
   "execution_count": 6,
   "metadata": {},
   "outputs": [
    {
     "data": {
      "text/plain": [
       "(array([0., 0., 0., ..., 0., 0., 0.]), array([0., 0., 0., ..., 0., 0., 0.]))"
      ]
     },
     "execution_count": 6,
     "metadata": {},
     "output_type": "execute_result"
    }
   ],
   "source": [
    "lv.identify_base_and_apex_regions()"
   ]
  },
  {
   "cell_type": "code",
   "execution_count": 137,
   "metadata": {},
   "outputs": [
    {
     "data": {
      "text/plain": [
       "<project_heart.lv.left_ventricle.LV at 0x24003d9b370>"
      ]
     },
     "execution_count": 137,
     "metadata": {},
     "output_type": "execute_result"
    }
   ],
   "source": [
    "import tetgen\n",
    "tet = tetgen.TetGen(lv.get_surface_mesh().triangulate())\n",
    "tet.tetrahedralize(order=1, mindihedral=20, minratio=1.5)\n",
    "lv_tet = LV()\n",
    "lv_tet.from_pyvista_dataset(tet.grid)\n",
    "lv_tet"
   ]
  },
  {
   "cell_type": "code",
   "execution_count": 138,
   "metadata": {},
   "outputs": [
    {
     "data": {
      "text/html": [
       "\n",
       "<table>\n",
       "<tr><th>UnstructuredGrid</th><th>Information</th></tr>\n",
       "<tr><td>N Cells</td><td>294073</td></tr>\n",
       "<tr><td>N Points</td><td>59582</td></tr>\n",
       "<tr><td>X Bounds</td><td>-3.948e+01, 3.455e+01</td></tr>\n",
       "<tr><td>Y Bounds</td><td>-3.831e+01, 3.370e+01</td></tr>\n",
       "<tr><td>Z Bounds</td><td>5.064e-02, 9.641e+01</td></tr>\n",
       "<tr><td>N Arrays</td><td>0</td></tr>\n",
       "</table>\n",
       "\n"
      ],
      "text/plain": [
       "UnstructuredGrid (0x24003d511c0)\n",
       "  N Cells:\t294073\n",
       "  N Points:\t59582\n",
       "  X Bounds:\t-3.948e+01, 3.455e+01\n",
       "  Y Bounds:\t-3.831e+01, 3.370e+01\n",
       "  Z Bounds:\t5.064e-02, 9.641e+01\n",
       "  N Arrays:\t0"
      ]
     },
     "execution_count": 138,
     "metadata": {},
     "output_type": "execute_result"
    }
   ],
   "source": [
    "tet.grid"
   ]
  },
  {
   "cell_type": "code",
   "execution_count": 140,
   "metadata": {},
   "outputs": [
    {
     "data": {
      "text/html": [
       "\n",
       "<table>\n",
       "<tr><th>UnstructuredGrid</th><th>Information</th></tr>\n",
       "<tr><td>N Cells</td><td>294073</td></tr>\n",
       "<tr><td>N Points</td><td>59582</td></tr>\n",
       "<tr><td>X Bounds</td><td>-3.948e+01, 3.455e+01</td></tr>\n",
       "<tr><td>Y Bounds</td><td>-3.831e+01, 3.370e+01</td></tr>\n",
       "<tr><td>Z Bounds</td><td>5.064e-02, 9.641e+01</td></tr>\n",
       "<tr><td>N Arrays</td><td>0</td></tr>\n",
       "</table>\n",
       "\n"
      ],
      "text/plain": [
       "UnstructuredGrid (0x24003d511c0)\n",
       "  N Cells:\t294073\n",
       "  N Points:\t59582\n",
       "  X Bounds:\t-3.948e+01, 3.455e+01\n",
       "  Y Bounds:\t-3.831e+01, 3.370e+01\n",
       "  Z Bounds:\t5.064e-02, 9.641e+01\n",
       "  N Arrays:\t0"
      ]
     },
     "execution_count": 140,
     "metadata": {},
     "output_type": "execute_result"
    }
   ],
   "source": [
    "lv_tet.mesh"
   ]
  },
  {
   "cell_type": "code",
   "execution_count": 139,
   "metadata": {},
   "outputs": [
    {
     "data": {
      "text/html": [
       "<table><tr><th>Header</th><th>Data Arrays</th></tr><tr><td>\n",
       "<table>\n",
       "<tr><th>PolyData</th><th>Information</th></tr>\n",
       "<tr><td>N Cells</td><td>45098</td></tr>\n",
       "<tr><td>N Points</td><td>22551</td></tr>\n",
       "<tr><td>X Bounds</td><td>-3.948e+01, 3.455e+01</td></tr>\n",
       "<tr><td>Y Bounds</td><td>-3.831e+01, 3.370e+01</td></tr>\n",
       "<tr><td>Z Bounds</td><td>5.064e-02, 9.641e+01</td></tr>\n",
       "<tr><td>N Arrays</td><td>2</td></tr>\n",
       "</table>\n",
       "\n",
       "</td><td>\n",
       "<table>\n",
       "<tr><th>Name</th><th>Field</th><th>Type</th><th>N Comp</th><th>Min</th><th>Max</th></tr>\n",
       "<tr><td>vtkOriginalPointIds</td><td>Points</td><td>int64</td><td>1</td><td>0.000e+00</td><td>5.903e+04</td></tr>\n",
       "<tr><td>vtkOriginalCellIds</td><td>Cells</td><td>int64</td><td>1</td><td>0.000e+00</td><td>2.941e+05</td></tr>\n",
       "</table>\n",
       "\n",
       "</td></tr> </table>"
      ],
      "text/plain": [
       "PolyData (0x24003d51460)\n",
       "  N Cells:\t45098\n",
       "  N Points:\t22551\n",
       "  X Bounds:\t-3.948e+01, 3.455e+01\n",
       "  Y Bounds:\t-3.831e+01, 3.370e+01\n",
       "  Z Bounds:\t5.064e-02, 9.641e+01\n",
       "  N Arrays:\t2"
      ]
     },
     "execution_count": 139,
     "metadata": {},
     "output_type": "execute_result"
    }
   ],
   "source": [
    "lv_tet.get_surface_mesh()"
   ]
  },
  {
   "cell_type": "code",
   "execution_count": 126,
   "metadata": {},
   "outputs": [
    {
     "data": {
      "text/html": [
       "<table><tr><th>Header</th><th>Data Arrays</th></tr><tr><td>\n",
       "<table>\n",
       "<tr><th>UnstructuredGrid</th><th>Information</th></tr>\n",
       "<tr><td>N Cells</td><td>68763</td></tr>\n",
       "<tr><td>N Points</td><td>21906</td></tr>\n",
       "<tr><td>X Bounds</td><td>-3.948e+01, 3.455e+01</td></tr>\n",
       "<tr><td>Y Bounds</td><td>-3.831e+01, 3.370e+01</td></tr>\n",
       "<tr><td>Z Bounds</td><td>5.064e-02, 9.641e+01</td></tr>\n",
       "<tr><td>N Arrays</td><td>2</td></tr>\n",
       "</table>\n",
       "\n",
       "</td><td>\n",
       "<table>\n",
       "<tr><th>Name</th><th>Field</th><th>Type</th><th>N Comp</th><th>Min</th><th>Max</th></tr>\n",
       "<tr><td>implicit_distance</td><td>Points</td><td>float64</td><td>1</td><td>-0.000e+00</td><td>-0.000e+00</td></tr>\n",
       "<tr><td><b>EPI_ENDO</b></td><td>Cells</td><td>float64</td><td>1</td><td>1.000e+00</td><td>2.000e+00</td></tr>\n",
       "</table>\n",
       "\n",
       "</td></tr> </table>"
      ],
      "text/plain": [
       "UnstructuredGrid (0x24007d15fa0)\n",
       "  N Cells:\t68763\n",
       "  N Points:\t21906\n",
       "  X Bounds:\t-3.948e+01, 3.455e+01\n",
       "  Y Bounds:\t-3.831e+01, 3.370e+01\n",
       "  Z Bounds:\t5.064e-02, 9.641e+01\n",
       "  N Arrays:\t2"
      ]
     },
     "execution_count": 126,
     "metadata": {},
     "output_type": "execute_result"
    }
   ],
   "source": [
    "lv_tet.mesh"
   ]
  },
  {
   "cell_type": "code",
   "execution_count": 141,
   "metadata": {},
   "outputs": [
    {
     "data": {
      "application/vnd.jupyter.widget-view+json": {
       "model_id": "3c90488043e54f7796e7dcdc0df604ed",
       "version_major": 2,
       "version_minor": 0
      },
      "text/plain": [
       "Renderer(camera=PerspectiveCamera(aspect=1.3333333333333333, children=(DirectionalLight(color='#fefefe', posit…"
      ]
     },
     "metadata": {},
     "output_type": "display_data"
    }
   ],
   "source": [
    "plotter = pv.Plotter(lighting='three lights')\n",
    "plotter.background_color = 'w'\n",
    "plotter.enable_anti_aliasing()\n",
    "plotter.add_mesh(lv_tet.mesh, \n",
    "                  cmap=\"Set2\", \n",
    "                  opacity=1.0, \n",
    "                  show_edges=True,\n",
    "                  ambient=0.2, \n",
    "                  diffuse=0.5, \n",
    "                  specular=0.5, \n",
    "                  specular_power=90,\n",
    "                  #  smooth_shading=True,\n",
    "                  )\n",
    "plotter.enable_shadows()\n",
    "plotter.show()"
   ]
  },
  {
   "cell_type": "code",
   "execution_count": 87,
   "metadata": {},
   "outputs": [],
   "source": [
    "# from project_heart.utils.vector_utils import *\n",
    "# lvsurf = lv_tet.get_surface_mesh()\n",
    "# pts = lvsurf.points\n",
    "# # get surface Normals and get respective points-data\n",
    "# lvsurf.compute_normals(inplace=True)\n",
    "# surf_normals = lvsurf.get_array(\"Normals\", \"points\")\n",
    "# # est geometry center\n",
    "# center = np.mean(pts, axis=0)\n",
    "# # get vector from pts at surface to center\n",
    "# pts_to_center = center - pts\n",
    "# # compute angle difference between surface normals and pts to center\n",
    "# angles = angle_between(pts_to_center, surf_normals,\n",
    "#        check_orientation=False)  # returns [0 to pi]\n",
    "# # set initial endo-epi surface guess\n",
    "# thresh = np.radians(90)\n",
    "# endo_ids = np.where(angles < thresh)[0]\n",
    "# epi_ids = np.where(angles >= thresh)[0]\n",
    "# surf_to_global = lvsurf.point_data[\"vtkOriginalPointIds\"]\n",
    "# tet_est_surfs = np.zeros(lv_tet.mesh.n_points)\n",
    "# tet_est_surfs[surf_to_global[endo_ids]] = 1\n",
    "# tet_est_surfs[surf_to_global[epi_ids]] = 2\n",
    "# lv_tet.mesh.point_data[\"EPI_ENDO\"] = tet_est_surfs\n",
    "# lv_tet.mesh = lv_tet.mesh.point_data_to_cell_data()"
   ]
  },
  {
   "cell_type": "code",
   "execution_count": 147,
   "metadata": {},
   "outputs": [],
   "source": [
    "lv_tet.to_vtk(\"tet.vtk\")"
   ]
  },
  {
   "cell_type": "code",
   "execution_count": 82,
   "metadata": {},
   "outputs": [
    {
     "data": {
      "text/plain": [
       "array([1, 1, 1, ..., 1, 1, 1], dtype=int64)"
      ]
     },
     "execution_count": 82,
     "metadata": {},
     "output_type": "execute_result"
    }
   ],
   "source": [
    "domains = np.array(lv_tet.mesh.cell_data[\"EPI_ENDO\"])\n",
    "domains[domains<=1.25] = 1.0\n",
    "domains[domains>=1.75] = 2.0\n",
    "# domains += 1\n",
    "domains = domains.astype(np.int64)\n",
    "domains"
   ]
  },
  {
   "cell_type": "code",
   "execution_count": 83,
   "metadata": {},
   "outputs": [
    {
     "data": {
      "text/plain": [
       "array([1, 2], dtype=int64)"
      ]
     },
     "execution_count": 83,
     "metadata": {},
     "output_type": "execute_result"
    }
   ],
   "source": [
    "np.unique(domains)"
   ]
  },
  {
   "cell_type": "code",
   "execution_count": 84,
   "metadata": {},
   "outputs": [
    {
     "data": {
      "text/plain": [
       "array([[19974, 20639, 17205, ...,  5445, 10643,  9663],\n",
       "       [ 9985, 20577, 17208, ...,  5444, 10495, 20412],\n",
       "       [19905, 20640,  3201, ..., 15159, 19951, 20504],\n",
       "       [19906,  9530, 17206, ...,  5446, 19949,  9662]], dtype=int64)"
      ]
     },
     "execution_count": 84,
     "metadata": {},
     "output_type": "execute_result"
    }
   ],
   "source": [
    "tet_cells.T"
   ]
  },
  {
   "cell_type": "code",
   "execution_count": 143,
   "metadata": {},
   "outputs": [],
   "source": [
    "tet_nodes = lv_tet.points()\n",
    "tet_cells = lv_tet.cells(as_json_ready=True)[\"TETRA\"]+1\n",
    "# tet_doms = np.ones(len(tet_cells), dtype=np.int64)"
   ]
  },
  {
   "cell_type": "code",
   "execution_count": 144,
   "metadata": {},
   "outputs": [],
   "source": [
    "np.savetxt(\"nodes.csv\", tet_nodes, delimiter=\",\")\n",
    "np.savetxt(\"elems.csv\", tet_cells.astype(np.int32), fmt='%i', delimiter=\",\")"
   ]
  },
  {
   "cell_type": "code",
   "execution_count": 145,
   "metadata": {},
   "outputs": [],
   "source": [
    "tet_nodes = lv_tet.points()\n",
    "tet_cells = lv_tet.cells(as_json_ready=True)[\"TETRA\"]+1\n",
    "# tet_doms = np.ones(len(tet_cells), dtype=np.int64)\n",
    "\n",
    "# tet_doms[:2] = 2\n",
    "\n",
    "tet_mesh = {\n",
    "  \"NODES\": matlab.double(tet_nodes), \n",
    "  \"ELEMENTS\": matlab.int64(tet_cells),\n",
    "  # \"DOMAINS\": matlab.int64(tet_doms)\n",
    "  }"
   ]
  },
  {
   "cell_type": "code",
   "execution_count": 146,
   "metadata": {},
   "outputs": [
    {
     "ename": "MatlabExecutionError",
     "evalue": "Output argument \"f0\" (and possibly others) not assigned a value in the execution with \"calc_fiber_orientation\" function.\n",
     "output_type": "error",
     "traceback": [
      "\u001b[1;31m---------------------------------------------------------------------------\u001b[0m",
      "\u001b[1;31mMatlabExecutionError\u001b[0m                      Traceback (most recent call last)",
      "\u001b[1;32m~\\AppData\\Local\\Temp/ipykernel_29356/2927467773.py\u001b[0m in \u001b[0;36m<module>\u001b[1;34m\u001b[0m\n\u001b[1;32m----> 1\u001b[1;33m eng.calc_fiber_orientation(\n\u001b[0m\u001b[0;32m      2\u001b[0m   \u001b[0mtet_mesh\u001b[0m\u001b[1;33m,\u001b[0m\u001b[1;33m\u001b[0m\u001b[1;33m\u001b[0m\u001b[0m\n\u001b[0;32m      3\u001b[0m   \u001b[0mtet_mesh\u001b[0m\u001b[1;33m,\u001b[0m\u001b[1;33m\u001b[0m\u001b[1;33m\u001b[0m\u001b[0m\n\u001b[0;32m      4\u001b[0m   \u001b[0mmatlab\u001b[0m\u001b[1;33m.\u001b[0m\u001b[0mdouble\u001b[0m\u001b[1;33m(\u001b[0m\u001b[0mlv\u001b[0m\u001b[1;33m.\u001b[0m\u001b[0mget_virtual_node\u001b[0m\u001b[1;33m(\u001b[0m\u001b[0mLV_VIRTUAL_NODES\u001b[0m\u001b[1;33m.\u001b[0m\u001b[0mAPEX\u001b[0m\u001b[1;33m.\u001b[0m\u001b[0mvalue\u001b[0m\u001b[1;33m)\u001b[0m\u001b[1;33m)\u001b[0m\u001b[1;33m,\u001b[0m\u001b[1;33m\u001b[0m\u001b[1;33m\u001b[0m\u001b[0m\n\u001b[0;32m      5\u001b[0m   \u001b[0mmatlab\u001b[0m\u001b[1;33m.\u001b[0m\u001b[0mdouble\u001b[0m\u001b[1;33m(\u001b[0m\u001b[0mlv\u001b[0m\u001b[1;33m.\u001b[0m\u001b[0mget_virtual_node\u001b[0m\u001b[1;33m(\u001b[0m\u001b[0mLV_VIRTUAL_NODES\u001b[0m\u001b[1;33m.\u001b[0m\u001b[0mBASE\u001b[0m\u001b[1;33m.\u001b[0m\u001b[0mvalue\u001b[0m\u001b[1;33m)\u001b[0m\u001b[1;33m)\u001b[0m\u001b[1;33m,\u001b[0m\u001b[1;33m\u001b[0m\u001b[1;33m\u001b[0m\u001b[0m\n",
      "\u001b[1;32m~\\OneDrive\\Documents\\GitHub\\Project-Heart\\cenv\\lib\\site-packages\\matlab\\engine\\matlabengine.py\u001b[0m in \u001b[0;36m__call__\u001b[1;34m(self, *args, **kwargs)\u001b[0m\n\u001b[0;32m     68\u001b[0m             \u001b[1;32mreturn\u001b[0m \u001b[0mFutureResult\u001b[0m\u001b[1;33m(\u001b[0m\u001b[0mself\u001b[0m\u001b[1;33m.\u001b[0m\u001b[0m_engine\u001b[0m\u001b[1;33m(\u001b[0m\u001b[1;33m)\u001b[0m\u001b[1;33m,\u001b[0m \u001b[0mfuture\u001b[0m\u001b[1;33m,\u001b[0m \u001b[0mnargs\u001b[0m\u001b[1;33m,\u001b[0m \u001b[0m_stdout\u001b[0m\u001b[1;33m,\u001b[0m \u001b[0m_stderr\u001b[0m\u001b[1;33m,\u001b[0m \u001b[0mfeval\u001b[0m\u001b[1;33m=\u001b[0m\u001b[1;32mTrue\u001b[0m\u001b[1;33m)\u001b[0m\u001b[1;33m\u001b[0m\u001b[1;33m\u001b[0m\u001b[0m\n\u001b[0;32m     69\u001b[0m         \u001b[1;32melse\u001b[0m\u001b[1;33m:\u001b[0m\u001b[1;33m\u001b[0m\u001b[1;33m\u001b[0m\u001b[0m\n\u001b[1;32m---> 70\u001b[1;33m             return FutureResult(self._engine(), future, nargs, _stdout,\n\u001b[0m\u001b[0;32m     71\u001b[0m                                 _stderr, feval=True).result()\n\u001b[0;32m     72\u001b[0m \u001b[1;33m\u001b[0m\u001b[0m\n",
      "\u001b[1;32m~\\OneDrive\\Documents\\GitHub\\Project-Heart\\cenv\\lib\\site-packages\\matlab\\engine\\futureresult.py\u001b[0m in \u001b[0;36mresult\u001b[1;34m(self, timeout)\u001b[0m\n\u001b[0;32m     65\u001b[0m                 \u001b[1;32mraise\u001b[0m \u001b[0mTypeError\u001b[0m\u001b[1;33m(\u001b[0m\u001b[0mpythonengine\u001b[0m\u001b[1;33m.\u001b[0m\u001b[0mgetMessage\u001b[0m\u001b[1;33m(\u001b[0m\u001b[1;34m'TimeoutCannotBeNegative'\u001b[0m\u001b[1;33m)\u001b[0m\u001b[1;33m)\u001b[0m\u001b[1;33m\u001b[0m\u001b[1;33m\u001b[0m\u001b[0m\n\u001b[0;32m     66\u001b[0m \u001b[1;33m\u001b[0m\u001b[0m\n\u001b[1;32m---> 67\u001b[1;33m         \u001b[1;32mreturn\u001b[0m \u001b[0mself\u001b[0m\u001b[1;33m.\u001b[0m\u001b[0m__future\u001b[0m\u001b[1;33m.\u001b[0m\u001b[0mresult\u001b[0m\u001b[1;33m(\u001b[0m\u001b[0mtimeout\u001b[0m\u001b[1;33m)\u001b[0m\u001b[1;33m\u001b[0m\u001b[1;33m\u001b[0m\u001b[0m\n\u001b[0m\u001b[0;32m     68\u001b[0m \u001b[1;33m\u001b[0m\u001b[0m\n\u001b[0;32m     69\u001b[0m     \u001b[1;32mdef\u001b[0m \u001b[0mcancel\u001b[0m\u001b[1;33m(\u001b[0m\u001b[0mself\u001b[0m\u001b[1;33m)\u001b[0m\u001b[1;33m:\u001b[0m\u001b[1;33m\u001b[0m\u001b[1;33m\u001b[0m\u001b[0m\n",
      "\u001b[1;32m~\\OneDrive\\Documents\\GitHub\\Project-Heart\\cenv\\lib\\site-packages\\matlab\\engine\\fevalfuture.py\u001b[0m in \u001b[0;36mresult\u001b[1;34m(self, timeout)\u001b[0m\n\u001b[0;32m     80\u001b[0m                 \u001b[1;32mraise\u001b[0m \u001b[0mTimeoutError\u001b[0m\u001b[1;33m(\u001b[0m\u001b[0mpythonengine\u001b[0m\u001b[1;33m.\u001b[0m\u001b[0mgetMessage\u001b[0m\u001b[1;33m(\u001b[0m\u001b[1;34m'MatlabFunctionTimeout'\u001b[0m\u001b[1;33m)\u001b[0m\u001b[1;33m)\u001b[0m\u001b[1;33m\u001b[0m\u001b[1;33m\u001b[0m\u001b[0m\n\u001b[0;32m     81\u001b[0m \u001b[1;33m\u001b[0m\u001b[0m\n\u001b[1;32m---> 82\u001b[1;33m             \u001b[0mself\u001b[0m\u001b[1;33m.\u001b[0m\u001b[0m_result\u001b[0m \u001b[1;33m=\u001b[0m \u001b[0mpythonengine\u001b[0m\u001b[1;33m.\u001b[0m\u001b[0mgetFEvalResult\u001b[0m\u001b[1;33m(\u001b[0m\u001b[0mself\u001b[0m\u001b[1;33m.\u001b[0m\u001b[0m_future\u001b[0m\u001b[1;33m,\u001b[0m\u001b[0mself\u001b[0m\u001b[1;33m.\u001b[0m\u001b[0m_nargout\u001b[0m\u001b[1;33m,\u001b[0m \u001b[1;32mNone\u001b[0m\u001b[1;33m,\u001b[0m \u001b[0mout\u001b[0m\u001b[1;33m=\u001b[0m\u001b[0mself\u001b[0m\u001b[1;33m.\u001b[0m\u001b[0m_out\u001b[0m\u001b[1;33m,\u001b[0m \u001b[0merr\u001b[0m\u001b[1;33m=\u001b[0m\u001b[0mself\u001b[0m\u001b[1;33m.\u001b[0m\u001b[0m_err\u001b[0m\u001b[1;33m)\u001b[0m\u001b[1;33m\u001b[0m\u001b[1;33m\u001b[0m\u001b[0m\n\u001b[0m\u001b[0;32m     83\u001b[0m             \u001b[0mself\u001b[0m\u001b[1;33m.\u001b[0m\u001b[0m_retrieved\u001b[0m \u001b[1;33m=\u001b[0m \u001b[1;32mTrue\u001b[0m\u001b[1;33m\u001b[0m\u001b[1;33m\u001b[0m\u001b[0m\n\u001b[0;32m     84\u001b[0m             \u001b[1;32mreturn\u001b[0m \u001b[0mself\u001b[0m\u001b[1;33m.\u001b[0m\u001b[0m_result\u001b[0m\u001b[1;33m\u001b[0m\u001b[1;33m\u001b[0m\u001b[0m\n",
      "\u001b[1;31mMatlabExecutionError\u001b[0m: Output argument \"f0\" (and possibly others) not assigned a value in the execution with \"calc_fiber_orientation\" function.\n"
     ]
    }
   ],
   "source": [
    "eng.calc_fiber_orientation(\n",
    "  tet_mesh,\n",
    "  tet_mesh,\n",
    "  matlab.double(lv.get_virtual_node(LV_VIRTUAL_NODES.APEX.value)),\n",
    "  matlab.double(lv.get_virtual_node(LV_VIRTUAL_NODES.BASE.value)),\n",
    "  -60.0,\n",
    "  60.0\n",
    ")"
   ]
  },
  {
   "cell_type": "code",
   "execution_count": null,
   "metadata": {},
   "outputs": [],
   "source": [
    "cells = lv.cells(as_json_ready=True)[\"TETRA\"]+1\n",
    "cells"
   ]
  },
  {
   "cell_type": "code",
   "execution_count": null,
   "metadata": {},
   "outputs": [],
   "source": [
    "np.arange(1, 1+len(cells)).reshape((-1,1))"
   ]
  },
  {
   "cell_type": "code",
   "execution_count": null,
   "metadata": {},
   "outputs": [],
   "source": [
    "np.hstack((np.arange(1, 1+len(cells)).reshape((-1,1)), cells)).shape"
   ]
  },
  {
   "cell_type": "code",
   "execution_count": null,
   "metadata": {},
   "outputs": [],
   "source": []
  }
 ],
 "metadata": {
  "interpreter": {
   "hash": "364647f439eeb51cea9fa1ad47f7b03a5a9ed5157a0ffe2dd43bcec2d09df37e"
  },
  "kernelspec": {
   "display_name": "Python 3.9.7 (conda)",
   "language": "python",
   "name": "python3"
  },
  "language_info": {
   "codemirror_mode": {
    "name": "ipython",
    "version": 3
   },
   "file_extension": ".py",
   "mimetype": "text/x-python",
   "name": "python",
   "nbconvert_exporter": "python",
   "pygments_lexer": "ipython3",
   "version": "3.9.7"
  },
  "orig_nbformat": 4
 },
 "nbformat": 4,
 "nbformat_minor": 2
}
