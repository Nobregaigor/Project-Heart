{
 "cells": [
  {
   "cell_type": "code",
   "execution_count": 1,
   "metadata": {},
   "outputs": [],
   "source": [
    "import numpy as np\n",
    "import pyvista as pv\n",
    "# import project_heart as ph\n",
    "from project_heart.modules.geometry import Geometry\n",
    "pv.set_jupyter_backend(\"pythreejs\")"
   ]
  },
  {
   "cell_type": "code",
   "execution_count": 13,
   "metadata": {},
   "outputs": [],
   "source": [
    "# jupyter_backend='pythreejs'\n",
    "pv.set_jupyter_backend(\"pythreejs\")"
   ]
  },
  {
   "cell_type": "code",
   "execution_count": null,
   "metadata": {},
   "outputs": [],
   "source": [
    "FILE_PATH = \"C:/Users/igorp/University of South Florida/Wenbin Mao - Igor/LV_Meshes/Heart_models/Full_Heart_Mesh_1.vtk\""
   ]
  },
  {
   "cell_type": "code",
   "execution_count": 5,
   "metadata": {},
   "outputs": [
    {
     "ename": "NameError",
     "evalue": "name 'Geometry' is not defined",
     "output_type": "error",
     "traceback": [
      "\u001b[1;31m---------------------------------------------------------------------------\u001b[0m",
      "\u001b[1;31mNameError\u001b[0m                                 Traceback (most recent call last)",
      "\u001b[1;32mc:\\Users\\igorp\\OneDrive\\Documents\\GitHub\\Project-Heart\\notebooks\\lv\\base_and_apex_identification_logic.ipynb Cell 4'\u001b[0m in \u001b[0;36m<cell line: 1>\u001b[1;34m()\u001b[0m\n\u001b[1;32m----> <a href='vscode-notebook-cell:/c%3A/Users/igorp/OneDrive/Documents/GitHub/Project-Heart/notebooks/lv/base_and_apex_identification_logic.ipynb#ch0000003?line=0'>1</a>\u001b[0m lv \u001b[39m=\u001b[39m Geometry()\n\u001b[0;32m      <a href='vscode-notebook-cell:/c%3A/Users/igorp/OneDrive/Documents/GitHub/Project-Heart/notebooks/lv/base_and_apex_identification_logic.ipynb#ch0000003?line=1'>2</a>\u001b[0m lv\u001b[39m.\u001b[39mfrom_pyvista_read(FILE_PATH, identifier\u001b[39m=\u001b[39m\u001b[39m\"\u001b[39m\u001b[39melemTag\u001b[39m\u001b[39m\"\u001b[39m, threshold\u001b[39m=\u001b[39m[\u001b[39m0\u001b[39m, \u001b[39m1\u001b[39m])\n",
      "\u001b[1;31mNameError\u001b[0m: name 'Geometry' is not defined"
     ]
    }
   ],
   "source": [
    "lv = Geometry()\n",
    "lv.from_pyvista_read(FILE_PATH, identifier=\"elemTag\", threshold=[0, 1])"
   ]
  },
  {
   "cell_type": "code",
   "execution_count": null,
   "metadata": {},
   "outputs": [],
   "source": [
    "lvsurf = lv.mesh.extract_surface()\n",
    "pts = np.array(lvsurf.points).astype(np.float32)\n"
   ]
  },
  {
   "cell_type": "code",
   "execution_count": null,
   "metadata": {},
   "outputs": [],
   "source": [
    "from sklearn.cluster import KMeans\n",
    "\n",
    "n_centroids = 2\n",
    "\n",
    "kmeans = KMeans(n_clusters=n_centroids, random_state=0).fit(pts)\n",
    "label = kmeans.labels_\n",
    "kcenters = kmeans.cluster_centers_\n",
    "kcenters = kcenters[np.argsort(kcenters[:,-1])]"
   ]
  },
  {
   "cell_type": "code",
   "execution_count": null,
   "metadata": {},
   "outputs": [],
   "source": [
    "clustered = np.zeros(len(pts))\n",
    "clustered = label \n",
    "lvsurf.point_data[\"clustered\"] = clustered\n",
    "lvsurf.set_active_scalars(\"clustered\")\n",
    "\n",
    "plotter = pv.Plotter()\n",
    "plotter.background_color = 'w'\n",
    "plotter.enable_anti_aliasing()\n",
    "# plotter.add_mesh(lvsurf.arrows, lighting=False, scalars=\"angles\")\n",
    "plotter.add_points(kcenters, color=\"red\", point_size=300)\n",
    "plotter.add_mesh(lvsurf, scalars=\"clustered\", opacity=1.0, show_edges=False)\n",
    "plotter.show()"
   ]
  },
  {
   "cell_type": "code",
   "execution_count": null,
   "metadata": {},
   "outputs": [],
   "source": [
    "def unit_vector(vector):\n",
    "    \"\"\" Returns the unit vector of the vector.  \"\"\"\n",
    "    return vector / np.linalg.norm(vector)"
   ]
  },
  {
   "cell_type": "code",
   "execution_count": null,
   "metadata": {},
   "outputs": [],
   "source": [
    "from scipy.spatial.transform import Rotation as tr\n",
    "def get_rotation(from_vec, to_vector):\n",
    "  # USING APPROACH FROM:\n",
    "  # https://bit.ly/2W9gNb5\n",
    "\n",
    "  # copy vectors so we dont modify them directly\n",
    "  from_vec = np.copy(from_vec)\n",
    "  to_vector = np.copy(to_vector)\n",
    "\n",
    "  # Make unit vector\n",
    "  to_vector = unit_vector(to_vector)\n",
    "  from_vec = unit_vector(from_vec)\n",
    "\n",
    "  v = np.cross(from_vec, to_vector) # cross product\n",
    "  s = np.abs(v) # sine of angle\n",
    "  c = np.dot(from_vec, to_vector) # cosine of angle\n",
    "  # get skew-symmetric cross-product matrix of v\n",
    "  vx = np.array([\n",
    "      [0, -v[2], v[1]],\n",
    "      [v[2], 0, -v[0]],\n",
    "      [-v[1], v[0], 0]\n",
    "  ])\n",
    "  # compute rotation matrix\n",
    "  rot_matrix = np.identity(3) + vx + vx**2 * (1/(1+c))\n",
    "\n",
    "  # create rotation object from rotation matrix\n",
    "  rot = tr.from_matrix(rot_matrix)\n",
    "  return rot"
   ]
  },
  {
   "cell_type": "code",
   "execution_count": null,
   "metadata": {},
   "outputs": [],
   "source": [
    "from collections import deque\n",
    "rot_chain = deque()"
   ]
  },
  {
   "cell_type": "code",
   "execution_count": null,
   "metadata": {},
   "outputs": [],
   "source": [
    "# set vectors for rotation\n",
    "znormal = np.array([0.,0.,1.])\n",
    "edge_long_vec = kcenters[1] - kcenters[0]\n",
    "\n",
    "# get rotation matrix\n",
    "rot = get_rotation(edge_long_vec, znormal)\n",
    "rot_chain.append(rot)\n",
    "\n",
    "# apply rotation (don't modify the results directly, \n",
    "# so we can display them)\n",
    "lvsurfpts = np.array(lvsurf.points)\n",
    "lvsurfpts_after_rot_1 = rot.apply(lvsurfpts)"
   ]
  },
  {
   "cell_type": "code",
   "execution_count": null,
   "metadata": {},
   "outputs": [],
   "source": [
    "def get_apex_ref(points, ql=0.03, **kwargs):\n",
    "  zvalues = points[:, 2]\n",
    "  thresh = np.quantile(zvalues, ql)\n",
    "  apex_region_idxs = np.where(zvalues <= thresh)[0]\n",
    "  apex_region_pts = points[apex_region_idxs]\n",
    "  return np.mean(apex_region_pts, 0), apex_region_idxs"
   ]
  },
  {
   "cell_type": "code",
   "execution_count": null,
   "metadata": {},
   "outputs": [],
   "source": [
    "def get_base_ref(points, qh=0.90, **kwargs):\n",
    "  zvalues = points[:, 2]\n",
    "  thresh = np.quantile(zvalues, qh)\n",
    "  base_region_idxs = np.where(zvalues >= thresh)[0]\n",
    "  base_region_pts = points[base_region_idxs]\n",
    "  base_ref = np.mean(base_region_pts, 0)\n",
    "  return base_ref, base_region_idxs"
   ]
  },
  {
   "cell_type": "code",
   "execution_count": null,
   "metadata": {},
   "outputs": [],
   "source": [
    "def get_refs(points, **kwargs):\n",
    "  apex_ref, apex_region_idxs = get_apex_ref(points, **kwargs)\n",
    "  base_ref, base_region_idxs = get_base_ref(points, **kwargs)\n",
    "  extra = {\"apex_region\": apex_region_idxs, \n",
    "           \"base_region\": base_region_idxs}\n",
    "  return np.vstack((base_ref, apex_ref)), extra"
   ]
  },
  {
   "cell_type": "code",
   "execution_count": null,
   "metadata": {},
   "outputs": [],
   "source": [
    "def angle_between(v1, v2, zaxis=[0.,0.,1.]):\n",
    "    \"\"\" \n",
    "      Returns the angle in radians between vectors 'v1' and 'v2'\n",
    "    \"\"\"\n",
    "    #  compute angle\n",
    "    v1_u = unit_vector(v1)\n",
    "    v2_u = unit_vector(v2)\n",
    "    angle = np.arccos(np.clip(np.dot(v1_u, v2_u), -1.0, 1.0))\n",
    "    # make sure angle is in range [0, 2*pi)\n",
    "    zaxis = np.asarray(zaxis)\n",
    "    det = np.linalg.det(np.vstack((v1_u.T, v2_u.T, zaxis.T))) # https://bit.ly/3nUrr0U\n",
    "    if det < 0:\n",
    "      angle = 2*np.pi - angle\n",
    "    return angle"
   ]
  },
  {
   "cell_type": "code",
   "execution_count": null,
   "metadata": {},
   "outputs": [],
   "source": [
    "def align_with_normal(points, n=5, rot_chain=[], **kwargs):\n",
    "  pts = np.copy(points)\n",
    "  for _ in range(n):\n",
    "    long_line, _ = get_refs(pts, **kwargs)\n",
    "    lv_normal = unit_vector(long_line[0] - long_line[1])\n",
    "    print(np.degrees(angle_between(lv_normal, znormal)))\n",
    "    curr_rot = get_rotation(lv_normal, znormal)\n",
    "    pts = curr_rot.apply(pts)\n",
    "    rot_chain.append(curr_rot)\n",
    "  long_line, extra = get_refs(pts, **kwargs)\n",
    "  lv_normal = unit_vector(long_line[0] - long_line[1])\n",
    "  extra[\"normal\"] = lv_normal\n",
    "  extra[\"long_line\"] = long_line\n",
    "  extra[\"rot_chain\"] = rot_chain\n",
    "  print(np.degrees(angle_between(lv_normal, znormal)))\n",
    "  return pts, extra"
   ]
  },
  {
   "cell_type": "code",
   "execution_count": null,
   "metadata": {},
   "outputs": [],
   "source": [
    "org_longline, org_info = get_refs(lvsurfpts_after_rot_1, ql=0.1, qh=0.6) # for plot\n",
    "lvsurfpts_after_rot_2, adj_info = align_with_normal(lvsurfpts_after_rot_1, \n",
    "                                                    rot_chain=rot_chain, \n",
    "                                                    n=10, ql=0.03, qh=0.75)\n",
    "long_line = adj_info[\"long_line\"]\n",
    "lv_normal = adj_info[\"normal\"]"
   ]
  },
  {
   "cell_type": "code",
   "execution_count": null,
   "metadata": {},
   "outputs": [],
   "source": [
    "adj_info[\"apex_region\"]"
   ]
  },
  {
   "cell_type": "code",
   "execution_count": null,
   "metadata": {},
   "outputs": [],
   "source": [
    "clustered = np.zeros(len(pts))\n",
    "clustered[adj_info[\"apex_region\"]] = 1 \n",
    "clustered[adj_info[\"base_region\"]] = 2\n",
    "\n",
    "lvsurf.point_data[\"clustered\"] = clustered\n",
    "lvsurf.set_active_scalars(\"clustered\")\n",
    "\n",
    "plotter = pv.Plotter()\n",
    "plotter.background_color = 'w'\n",
    "plotter.enable_anti_aliasing()\n",
    "# plotter.add_mesh(lvsurf.arrows, lighting=False, scalars=\"angles\")\n",
    "plotter.add_points(kcenters, color=\"red\", point_size=300)\n",
    "plotter.add_mesh(lvsurf, scalars=\"clustered\", opacity=1.0, show_edges=False)\n",
    "plotter.show()"
   ]
  }
 ],
 "metadata": {
  "interpreter": {
   "hash": "1ce1234df79d256e626de05663509b6b8a35e2e5c778dccbbc6775e7c1f8c158"
  },
  "kernelspec": {
   "display_name": "Python 3.9.6 ('venv': venv)",
   "language": "python",
   "name": "python3"
  },
  "language_info": {
   "codemirror_mode": {
    "name": "ipython",
    "version": 3
   },
   "file_extension": ".py",
   "mimetype": "text/x-python",
   "name": "python",
   "nbconvert_exporter": "python",
   "pygments_lexer": "ipython3",
   "version": "3.9.6"
  },
  "orig_nbformat": 4
 },
 "nbformat": 4,
 "nbformat_minor": 2
}
