{
 "cells": [
  {
   "cell_type": "code",
   "execution_count": 2,
   "metadata": {},
   "outputs": [],
   "source": [
    "import matlab\n",
    "import matlab.engine\n",
    "eng = matlab.engine.start_matlab()\n",
    "eng.addpath(r'C:/Users/igorp/OneDrive/Documents/GitHub/Project-Heart/matlab',nargout=0)"
   ]
  },
  {
   "cell_type": "code",
   "execution_count": 3,
   "metadata": {},
   "outputs": [],
   "source": [
    "import os\n",
    "from pathlib import Path\n",
    "import numpy as np\n",
    "import pyvista as pv\n",
    "# import project_heart as ph\n",
    "from project_heart.modules.geometry import Geometry\n",
    "pv.set_jupyter_backend(\"pythreejs\")\n",
    "from project_heart.lv import LV\n",
    "from project_heart.enums import *"
   ]
  },
  {
   "cell_type": "code",
   "execution_count": 153,
   "metadata": {},
   "outputs": [
    {
     "name": "stdout",
     "output_type": "stream",
     "text": [
      "File: Full_Heart_Mesh_10.vtk\n"
     ]
    }
   ],
   "source": [
    "dir = Path(\"C:/Users/igorp/University of South Florida/Wenbin Mao - Igor/LV_Meshes/Heart_models\")\n",
    "# dir = Path(\"C:/Users/igornobrega/USF_Research/University of South Florida/Wenbin Mao - Igor/LV_Meshes/Heart_models\")\n",
    "files = sorted(os.listdir(dir))\n",
    "\n",
    "file_id = 1 # 5 has a problem\n",
    "\n",
    "print(\"File:\", files[file_id])\n",
    "\n",
    "old_lv_file = \"C:/Users/igorp/OneDrive/Desktop/sample_lv_1.xplt\"\n",
    "\n",
    "lv = LV()\n",
    "lv.from_pyvista_read(dir/files[file_id], identifier=\"elemTag\", threshold=[0, 1])"
   ]
  },
  {
   "cell_type": "code",
   "execution_count": 155,
   "metadata": {},
   "outputs": [
    {
     "data": {
      "text/plain": [
       "<project_heart.lv.left_ventricle.LV at 0x27b1402f520>"
      ]
     },
     "execution_count": 155,
     "metadata": {},
     "output_type": "execute_result"
    }
   ],
   "source": [
    "import tetgen\n",
    "lv_surf = lv.get_surface_mesh().triangulate().smooth(100)\n",
    "tet = tetgen.TetGen(lv_surf)\n",
    "tet.make_manifold()\n",
    "tet.tetrahedralize(order=1, \n",
    "                   nobisect=True,\n",
    "                  #  quality=False,\n",
    "                   mindihedral=100, \n",
    "                   minratio=1.1,\n",
    "                  #  steinerleft=-1\n",
    "                   )\n",
    "lv_tet = LV()\n",
    "lv_tet.from_pyvista_dataset(tet.grid)\n",
    "lv_tet"
   ]
  },
  {
   "cell_type": "code",
   "execution_count": 156,
   "metadata": {},
   "outputs": [],
   "source": [
    "lv = lv_tet"
   ]
  },
  {
   "cell_type": "code",
   "execution_count": 157,
   "metadata": {},
   "outputs": [
    {
     "data": {
      "text/plain": [
       "(array([6., 6., 6., ..., 6., 0., 0.]), array([6., 6., 6., ..., 0., 0., 0.]))"
      ]
     },
     "execution_count": 157,
     "metadata": {},
     "output_type": "execute_result"
    }
   ],
   "source": [
    "lv.identify_base_and_apex_regions()"
   ]
  },
  {
   "cell_type": "code",
   "execution_count": 158,
   "metadata": {},
   "outputs": [
    {
     "data": {
      "text/plain": [
       "(array([6., 6., 6., ..., 6., 0., 0.]), array([6., 6., 6., ..., 0., 0., 0.]))"
      ]
     },
     "execution_count": 158,
     "metadata": {},
     "output_type": "execute_result"
    }
   ],
   "source": [
    "lv.identify_surfaces(\n",
    "  \n",
    "  ab_ql=0.03, \n",
    "  ab_qh=0.70,\n",
    "  \n",
    "  alpha_atr=0.20,  # coeff for radial distance computation\n",
    "  alpha_mtr=0.69,\n",
    "  \n",
    "  beta_atr=0.15,  # coeff for second radial distance computation\n",
    "  beta_mtr=0.27,\n",
    "  \n",
    "  gamma_atr=89,\n",
    "  gamma2_mtr=25,\n",
    "  \n",
    "  phi_atr=79,\n",
    "  epi_angle=100\n",
    ")"
   ]
  },
  {
   "cell_type": "code",
   "execution_count": 164,
   "metadata": {},
   "outputs": [],
   "source": [
    "poi = set(np.where(lv.mesh.point_data[\"LV_SURFS\"] == LV_SURFS.ENDO)[0])"
   ]
  },
  {
   "cell_type": "code",
   "execution_count": 165,
   "metadata": {},
   "outputs": [],
   "source": [
    "# poi_1 = set(lv.get_nodeset(LV_SURFS.MITRAL.name))\n",
    "# poi_2 = set(lv.get_nodeset(LV_SURFS.AORTIC.name))\n",
    "# poi_3 = set(lv.get_nodeset(LV_SURFS.AM_INTERCECTION.name))\n",
    "# poi_4 = set(lv.get_nodeset(LV_SURFS.EPI.name))\n",
    "\n",
    "\n",
    "\n",
    "cells = lv.cells()[VTK_ELEMENTS.TETRA.value]\n",
    "regionIds = np.ones(len(cells), dtype=np.int64)\n",
    "cells_flat = cells.flatten()\n",
    "for idx, cell in enumerate(cells_flat):\n",
    "  if cell in poi:\n",
    "    regionIds[int(np.floor(idx/4))] = 2\n",
    "  # if cell in poi_2:\n",
    "  #   regionIds[int(np.floor(idx/4))] = 3\n",
    "  # if cell in poi_3:\n",
    "  #   regionIds[int(np.floor(idx/4))] = 4"
   ]
  },
  {
   "cell_type": "code",
   "execution_count": 168,
   "metadata": {},
   "outputs": [],
   "source": [
    "edges = lv.get_surface_mesh().extract_feature_edges(feature_angle=20, non_manifold_edges=False).extract_largest()\n",
    "eoi = edges.extract_largest().point_data[\"vtkOriginalPointIds\"]\n",
    "eoi = set(eoi)\n",
    "\n",
    "cells = lv.cells()[VTK_ELEMENTS.TETRA.value]\n",
    "regionIds = np.ones(len(cells), dtype=np.int64)\n",
    "cells_flat = cells.flatten()\n",
    "for idx, cell in enumerate(cells_flat):\n",
    "  if cell in eoi:\n",
    "    regionIds[int(np.floor(idx/4))] = 2"
   ]
  },
  {
   "cell_type": "code",
   "execution_count": 169,
   "metadata": {},
   "outputs": [
    {
     "data": {
      "application/vnd.jupyter.widget-view+json": {
       "model_id": "c637722a305f4fa79537c683dbc39697",
       "version_major": 2,
       "version_minor": 0
      },
      "text/plain": [
       "Renderer(camera=PerspectiveCamera(aspect=1.3333333333333333, children=(DirectionalLight(color='#fefefe', inten…"
      ]
     },
     "metadata": {},
     "output_type": "display_data"
    }
   ],
   "source": [
    "lv.mesh.cell_data[\"rids\"] = regionIds\n",
    "lv.mesh.set_active_scalars(\"rids\")\n",
    "lv.mesh.plot()"
   ]
  },
  {
   "cell_type": "code",
   "execution_count": 170,
   "metadata": {},
   "outputs": [],
   "source": [
    "tet_nodes = lv.points()\n",
    "tet_cells = lv.cells(as_json_ready=True)[\"TETRA\"]+1\n",
    "\n",
    "np.savetxt(\"nodes.csv\", tet_nodes, delimiter=\",\")\n",
    "np.savetxt(\"elems.csv\", tet_cells.astype(np.int32), fmt='%i', delimiter=\",\")\n",
    "np.savetxt(\"regionIDs.csv\", regionIds, fmt='%i', delimiter=\",\")"
   ]
  }
 ],
 "metadata": {
  "interpreter": {
   "hash": "364647f439eeb51cea9fa1ad47f7b03a5a9ed5157a0ffe2dd43bcec2d09df37e"
  },
  "kernelspec": {
   "display_name": "Python 3.9.7 (conda)",
   "language": "python",
   "name": "python3"
  },
  "language_info": {
   "codemirror_mode": {
    "name": "ipython",
    "version": 3
   },
   "file_extension": ".py",
   "mimetype": "text/x-python",
   "name": "python",
   "nbconvert_exporter": "python",
   "pygments_lexer": "ipython3",
   "version": "3.9.7"
  },
  "orig_nbformat": 4
 },
 "nbformat": 4,
 "nbformat_minor": 2
}
