{
 "cells": [
  {
   "cell_type": "markdown",
   "metadata": {},
   "source": [
    "# Longitudinal Length"
   ]
  },
  {
   "cell_type": "code",
   "execution_count": 1,
   "metadata": {
    "nbsphinx": "hidden"
   },
   "outputs": [],
   "source": [
    "from pathlib import Path\n",
    "# from project_heart.lv import LV\n",
    "from project_heart.utils import set_jupyter_backend\n",
    "from project_heart.enums import *\n",
    "set_jupyter_backend(\"pythreejs\")\n",
    "import logging\n",
    "import numpy as np\n",
    "float_formatter = \"{:.5f}\".format\n",
    "np.set_printoptions(formatter={'float_kind':float_formatter})\n",
    "\n",
    "from project_heart.examples import get_lv_ideal\n",
    "from project_heart.examples import get_lv_typeA\n",
    "\n",
    "lv_ideal = get_lv_ideal(Path(\"../../_static/sample_files/ideal_linear_pressure_increase copy.xplt\"))\n",
    "lv_typeA = get_lv_typeA(\n",
    "    Path(\"../../_static/sample_files/lv_typeA_hex.vtk\"),\n",
    "    Path(\"../../_static/sample_files/sample_displacement_lv_typeA_hex_states_linear_press_incr.pbz2\")\n",
    "    )\n",
    "\n",
    "sample_spk_typeA_endo = lv_typeA.get_speckles(spk_name=\"SAMPLE\", spk_group=\"endo\", spk_collection=\"SAMPLE\")[0]\n",
    "sample_spk_typeA_epi = lv_typeA.get_speckles(spk_name=\"SAMPLE\", spk_group=\"epi\", spk_collection=\"SAMPLE\")[0]"
   ]
  },
  {
   "cell_type": "markdown",
   "metadata": {},
   "source": [
    "## Longitudinal Distance"
   ]
  },
  {
   "cell_type": "markdown",
   "metadata": {},
   "source": [
    "**Definition**: Curvature length from a set of points roughtly alinged in a plane normal to longitudinal axis.\n",
    "\n",
    "..."
   ]
  },
  {
   "cell_type": "code",
   "execution_count": null,
   "metadata": {},
   "outputs": [],
   "source": [
    "sample_spk_ideal = lv_ideal.get_speckles(spk_name=\"SAMPLE-LONG\", spk_group=\"epi\", spk_collection=\"SAMPLE\")"
   ]
  },
  {
   "cell_type": "code",
   "execution_count": null,
   "metadata": {},
   "outputs": [],
   "source": [
    "lv_ideal.plot_speckles(sample_spk_ideal[4], \n",
    "                       cmap=\"Set1\", \n",
    "                        point_size=200,\n",
    "                       add_k_centers=True, \n",
    "                       k_centers_as_line=True, \n",
    "                       k_bins=True)"
   ]
  },
  {
   "cell_type": "code",
   "execution_count": 5,
   "metadata": {},
   "outputs": [
    {
     "data": {
      "application/vnd.jupyter.widget-view+json": {
       "model_id": "2b4a8f87bb5e4d039a8a181599af65c0",
       "version_major": 2,
       "version_minor": 0
      },
      "text/plain": [
       "Renderer(camera=PerspectiveCamera(aspect=1.5, children=(DirectionalLight(position=(50000.000000000015, 70710.6…"
      ]
     },
     "metadata": {},
     "output_type": "display_data"
    }
   ],
   "source": [
    "sample_spk_typeA = lv_typeA.get_speckles(spk_name=\"SAMPLE-LONG\", spk_group=\"epi\", spk_collection=\"SAMPLE\")\n",
    "lv_typeA.plot_speckles(sample_spk_typeA[4], \n",
    "                       cmap=\"jet\", \n",
    "                        point_size=200,\n",
    "                       add_k_centers=True, \n",
    "                       k_centers_as_line=True, \n",
    "                       k_bins=True)"
   ]
  },
  {
   "cell_type": "code",
   "execution_count": null,
   "metadata": {},
   "outputs": [],
   "source": [
    "from project_heart.utils.vector_utils import angle_between\n",
    "angle_y = angle_between(np.cross(lv_ideal._Z, [1,0,0])[:2], lv_ideal._Y[:2], check_orientation=False)\n",
    "angle_y"
   ]
  },
  {
   "cell_type": "code",
   "execution_count": null,
   "metadata": {},
   "outputs": [],
   "source": [
    "lv_ideal.plot_speckles(sample_spk_ideal, \n",
    "                       cmap=\"jet\", \n",
    "                        point_size=200,\n",
    "                       add_k_centers=False, \n",
    "                       k_centers_as_line=False, \n",
    "                       k_bins=False)"
   ]
  },
  {
   "cell_type": "code",
   "execution_count": null,
   "metadata": {},
   "outputs": [],
   "source": []
  },
  {
   "cell_type": "code",
   "execution_count": null,
   "metadata": {},
   "outputs": [],
   "source": [
    "lv_typeA.plot_speckles(sample_spk_typeA[3], \n",
    "                       cmap=\"Set1\", \n",
    "                        point_size=200,\n",
    "                       add_k_centers=True, \n",
    "                       k_centers_as_line=True, \n",
    "                       k_bins=True)"
   ]
  }
 ],
 "metadata": {
  "interpreter": {
   "hash": "a4b270fe5129ef310552b5197d637a230d47119f1e46f0b92ff32b1c5f5c5425"
  },
  "kernelspec": {
   "display_name": "Python 3.9.7 ('project_heart')",
   "language": "python",
   "name": "python3"
  },
  "language_info": {
   "codemirror_mode": {
    "name": "ipython",
    "version": 3
   },
   "file_extension": ".py",
   "mimetype": "text/x-python",
   "name": "python",
   "nbconvert_exporter": "python",
   "pygments_lexer": "ipython3",
   "version": "3.9.7"
  }
 },
 "nbformat": 4,
 "nbformat_minor": 2
}
