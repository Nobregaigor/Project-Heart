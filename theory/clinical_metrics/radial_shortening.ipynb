{
 "cells": [
  {
   "cell_type": "markdown",
   "id": "4e2e14f6",
   "metadata": {},
   "source": [
    "# Radial Shortening\n",
    "\n",
    "This is a test"
   ]
  }
 ],
 "metadata": {
  "jupytext": {
   "cell_metadata_filter": "-all",
   "main_language": "python",
   "notebook_metadata_filter": "-all",
   "text_representation": {
    "extension": ".Rmd",
    "format_name": "rmarkdown"
   }
  }
 },
 "nbformat": 4,
 "nbformat_minor": 5
}
